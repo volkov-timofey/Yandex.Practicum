{
 "cells": [
  {
   "cell_type": "markdown",
   "id": "5cc4838c",
   "metadata": {},
   "source": [
    "# Ударжание/отток клиентов телеком"
   ]
  },
  {
   "cell_type": "markdown",
   "id": "378ec580",
   "metadata": {},
   "source": [
    "Прогнозирование оттока клиентов. \n",
    "\n",
    "Бизнес задача: Целевое использование бюджета по удержанию абонентов.\n",
    "\n",
    "Примечание: Информация о договорах актуальна на 1 февраля 2020."
   ]
  },
  {
   "cell_type": "markdown",
   "id": "012408d4",
   "metadata": {},
   "source": [
    "## Коротко об операторе"
   ]
  },
  {
   "cell_type": "markdown",
   "id": "8ec6e8e6",
   "metadata": {},
   "source": [
    "Оператор предоставляет два основных типа услуг:\n",
    "1.\tСтационарную телефонную связь. Возможно подключение телефонного аппарата к нескольким линиям одновременно.\n",
    "2.\tИнтернет. Подключение может быть двух типов: через телефонную линию (DSL*,* от англ. digital subscriber line, «цифровая абонентская линия») или оптоволоконный кабель (Fiber optic).\n",
    "\n",
    "Также доступны такие услуги:\n",
    "-\tИнтернет-безопасность: антивирус (DeviceProtection) и блокировка небезопасных сайтов (OnlineSecurity);\n",
    "-\tВыделенная линия технической поддержки (TechSupport);\n",
    "-\tОблачное хранилище файлов для резервного копирования данных (OnlineBackup);\n",
    "-\tСтриминговое телевидение (StreamingTV) и каталог фильмов (StreamingMovies).\n",
    "\n",
    "\n",
    "За услуги клиенты могут платить каждый месяц или заключить договор на 1–2 года. Доступны различные способы расчёта и возможность получения электронного чека.\n",
    "\n",
    "Информация о договорах актуальна на 1 февраля 2020."
   ]
  },
  {
   "cell_type": "markdown",
   "id": "587700a7",
   "metadata": {},
   "source": [
    "# Исследовательский анализ данных"
   ]
  },
  {
   "cell_type": "markdown",
   "id": "66cc073c",
   "metadata": {},
   "source": [
    "## Подгрузка данных + первичный анализ"
   ]
  },
  {
   "cell_type": "code",
   "execution_count": 8,
   "id": "5dd44704",
   "metadata": {},
   "outputs": [],
   "source": [
    "#!pip install library -U --user\n",
    "#!pip install seaborn"
   ]
  },
  {
   "cell_type": "code",
   "execution_count": 9,
   "id": "1baa157f",
   "metadata": {},
   "outputs": [],
   "source": [
    "import pandas as pd\n",
    "import numpy as np\n",
    "from IPython.display import display\n",
    "\n",
    "import seaborn as sns\n",
    "import matplotlib.pyplot as plt\n",
    "\n",
    "from sklearn.preprocessing import StandardScaler\n",
    "\n",
    "\n",
    "import warnings\n",
    "warnings.filterwarnings('ignore')\n",
    "\n",
    "from tqdm.notebook import tqdm\n",
    "pd.set_option('display.max_columns', None)\n",
    "\n",
    "# model\n",
    "from sklearn.model_selection import train_test_split\n",
    "from sklearn.tree import DecisionTreeClassifier\n",
    "from sklearn.ensemble import RandomForestClassifier\n",
    "from sklearn.model_selection import GridSearchCV\n",
    "from sklearn.linear_model import LogisticRegression\n",
    "\n",
    "from sklearn.metrics import accuracy_score\n",
    "from sklearn.metrics import f1_score\n",
    "from sklearn.metrics import roc_auc_score, roc_curve\n",
    "\n",
    "from catboost import CatBoostClassifier\n",
    "from sklearn.utils.class_weight import compute_class_weight"
   ]
  },
  {
   "cell_type": "code",
   "execution_count": 10,
   "id": "a2c0cb40",
   "metadata": {},
   "outputs": [],
   "source": [
    "try:\n",
    "    contract = pd.read_csv(\"contract.csv\") #информация о договоре\n",
    "    personal_data = pd.read_csv(\"personal.csv\") #персональные данные клиента\n",
    "    internet = pd.read_csv(\"internet.csv\") #информация об интернет-услугах\n",
    "    phone = pd.read_csv(\"phone.csv\") #информация об услугах телефонии.\n",
    "    \n",
    "except FileNotFoundError:\n",
    "    contract = pd.read_csv(\"/datasets/final_provider/contract.csv\") #информация о договоре\n",
    "    personal_data = pd.read_csv(\"/datasets/final_provider/personal.csv\") #персональные данные клиента\n",
    "    internet = pd.read_csv(\"/datasets/final_provider/internet.csv\") #информация об интернет-услугах\n",
    "    phone = pd.read_csv(\"/datasets/final_provider/phone.csv\") #информация об услугах телефонии."
   ]
  },
  {
   "cell_type": "markdown",
   "id": "a90d1abd",
   "metadata": {},
   "source": [
    "### Договор"
   ]
  },
  {
   "cell_type": "code",
   "execution_count": 11,
   "id": "79e33117",
   "metadata": {},
   "outputs": [],
   "source": [
    "def inform(data, name):\n",
    "    data.columns = [col.lower() for col in data.columns]\n",
    "    \n",
    "    print(name.center(100, ' '), '\\n')\n",
    "    data.info()\n",
    "    print('\\n', 'Общий вид датасета'.center(100, ' '))\n",
    "    display(data.sample(5))\n",
    "    print('\\n', 'Процентное количество пропусков в датасете'.center(100, ' '), '\\n')\n",
    "    print(data.isnull().mean())\n",
    "    "
   ]
  },
  {
   "cell_type": "code",
   "execution_count": 12,
   "id": "4b53f515",
   "metadata": {},
   "outputs": [
    {
     "name": "stdout",
     "output_type": "stream",
     "text": [
      "                                       Информация о договоре                                         \n",
      "\n",
      "<class 'pandas.core.frame.DataFrame'>\n",
      "RangeIndex: 7043 entries, 0 to 7042\n",
      "Data columns (total 8 columns):\n",
      " #   Column            Non-Null Count  Dtype  \n",
      "---  ------            --------------  -----  \n",
      " 0   customerid        7043 non-null   object \n",
      " 1   begindate         7043 non-null   object \n",
      " 2   enddate           7043 non-null   object \n",
      " 3   type              7043 non-null   object \n",
      " 4   paperlessbilling  7043 non-null   object \n",
      " 5   paymentmethod     7043 non-null   object \n",
      " 6   monthlycharges    7043 non-null   float64\n",
      " 7   totalcharges      7043 non-null   object \n",
      "dtypes: float64(1), object(7)\n",
      "memory usage: 440.3+ KB\n",
      "\n",
      "                                          Общий вид датасета                                         \n"
     ]
    },
    {
     "data": {
      "text/html": [
       "<div>\n",
       "<style scoped>\n",
       "    .dataframe tbody tr th:only-of-type {\n",
       "        vertical-align: middle;\n",
       "    }\n",
       "\n",
       "    .dataframe tbody tr th {\n",
       "        vertical-align: top;\n",
       "    }\n",
       "\n",
       "    .dataframe thead th {\n",
       "        text-align: right;\n",
       "    }\n",
       "</style>\n",
       "<table border=\"1\" class=\"dataframe\">\n",
       "  <thead>\n",
       "    <tr style=\"text-align: right;\">\n",
       "      <th></th>\n",
       "      <th>customerid</th>\n",
       "      <th>begindate</th>\n",
       "      <th>enddate</th>\n",
       "      <th>type</th>\n",
       "      <th>paperlessbilling</th>\n",
       "      <th>paymentmethod</th>\n",
       "      <th>monthlycharges</th>\n",
       "      <th>totalcharges</th>\n",
       "    </tr>\n",
       "  </thead>\n",
       "  <tbody>\n",
       "    <tr>\n",
       "      <th>5893</th>\n",
       "      <td>3549-ZTMNH</td>\n",
       "      <td>2019-02-01</td>\n",
       "      <td>No</td>\n",
       "      <td>Two year</td>\n",
       "      <td>Yes</td>\n",
       "      <td>Bank transfer (automatic)</td>\n",
       "      <td>24.00</td>\n",
       "      <td>269.65</td>\n",
       "    </tr>\n",
       "    <tr>\n",
       "      <th>628</th>\n",
       "      <td>2469-DTSGX</td>\n",
       "      <td>2014-02-01</td>\n",
       "      <td>No</td>\n",
       "      <td>Two year</td>\n",
       "      <td>No</td>\n",
       "      <td>Electronic check</td>\n",
       "      <td>111.65</td>\n",
       "      <td>7943.45</td>\n",
       "    </tr>\n",
       "    <tr>\n",
       "      <th>543</th>\n",
       "      <td>1342-JPNKI</td>\n",
       "      <td>2019-01-01</td>\n",
       "      <td>2019-11-01 00:00:00</td>\n",
       "      <td>Month-to-month</td>\n",
       "      <td>Yes</td>\n",
       "      <td>Bank transfer (automatic)</td>\n",
       "      <td>86.05</td>\n",
       "      <td>834.1</td>\n",
       "    </tr>\n",
       "    <tr>\n",
       "      <th>154</th>\n",
       "      <td>3077-RSNTJ</td>\n",
       "      <td>2019-08-01</td>\n",
       "      <td>No</td>\n",
       "      <td>Month-to-month</td>\n",
       "      <td>No</td>\n",
       "      <td>Mailed check</td>\n",
       "      <td>19.70</td>\n",
       "      <td>113.5</td>\n",
       "    </tr>\n",
       "    <tr>\n",
       "      <th>4803</th>\n",
       "      <td>3717-LNXKW</td>\n",
       "      <td>2016-12-01</td>\n",
       "      <td>No</td>\n",
       "      <td>Month-to-month</td>\n",
       "      <td>No</td>\n",
       "      <td>Bank transfer (automatic)</td>\n",
       "      <td>91.70</td>\n",
       "      <td>3479.05</td>\n",
       "    </tr>\n",
       "  </tbody>\n",
       "</table>\n",
       "</div>"
      ],
      "text/plain": [
       "      customerid   begindate              enddate            type  \\\n",
       "5893  3549-ZTMNH  2019-02-01                   No        Two year   \n",
       "628   2469-DTSGX  2014-02-01                   No        Two year   \n",
       "543   1342-JPNKI  2019-01-01  2019-11-01 00:00:00  Month-to-month   \n",
       "154   3077-RSNTJ  2019-08-01                   No  Month-to-month   \n",
       "4803  3717-LNXKW  2016-12-01                   No  Month-to-month   \n",
       "\n",
       "     paperlessbilling              paymentmethod  monthlycharges totalcharges  \n",
       "5893              Yes  Bank transfer (automatic)           24.00       269.65  \n",
       "628                No           Electronic check          111.65      7943.45  \n",
       "543               Yes  Bank transfer (automatic)           86.05        834.1  \n",
       "154                No               Mailed check           19.70        113.5  \n",
       "4803               No  Bank transfer (automatic)           91.70      3479.05  "
      ]
     },
     "metadata": {},
     "output_type": "display_data"
    },
    {
     "name": "stdout",
     "output_type": "stream",
     "text": [
      "\n",
      "                              Процентное количество пропусков в датасете                              \n",
      "\n",
      "customerid          0.0\n",
      "begindate           0.0\n",
      "enddate             0.0\n",
      "type                0.0\n",
      "paperlessbilling    0.0\n",
      "paymentmethod       0.0\n",
      "monthlycharges      0.0\n",
      "totalcharges        0.0\n",
      "dtype: float64\n"
     ]
    }
   ],
   "source": [
    "inform(contract, 'Информация о договоре')"
   ]
  },
  {
   "cell_type": "markdown",
   "id": "cf6fe39a",
   "metadata": {},
   "source": [
    "Приведем столбцы к нужному типу: \n",
    " - begindate к datetime\n",
    " - totalcharges к float\n",
    " \n",
    "Создадим из enddate - бинарный target и признак life_time на 01-02-2020 - время жизни клиента.\n",
    "\n",
    "paymentmethod - уйдем от object, переведем в int как авансовый период: 1, 12 или 24 месяца."
   ]
  },
  {
   "cell_type": "markdown",
   "id": "a22f5854",
   "metadata": {},
   "source": [
    "#### Преобразования"
   ]
  },
  {
   "cell_type": "code",
   "execution_count": 13,
   "id": "a67d9afe",
   "metadata": {},
   "outputs": [],
   "source": [
    "contract['begindate'] = pd.to_datetime(contract['begindate'])"
   ]
  },
  {
   "cell_type": "code",
   "execution_count": 14,
   "id": "88efa323",
   "metadata": {},
   "outputs": [
    {
     "data": {
      "text/plain": [
       "count                    7043\n",
       "unique                     77\n",
       "top       2014-02-01 00:00:00\n",
       "freq                      366\n",
       "first     2013-10-01 00:00:00\n",
       "last      2020-02-01 00:00:00\n",
       "Name: begindate, dtype: object"
      ]
     },
     "execution_count": 14,
     "metadata": {},
     "output_type": "execute_result"
    }
   ],
   "source": [
    "contract['begindate'].describe()"
   ]
  },
  {
   "cell_type": "markdown",
   "id": "f81242b3",
   "metadata": {},
   "source": [
    "В нашей базе заключение договоров началось с октября 2013, в нашем распоряжении перемещенеие клиентов более чем за 6 лет.\n",
    "\n",
    "Имеются записи о том что договор заключен 1 февраля 2020, узнаем сколько было заключено договоров в эту дату."
   ]
  },
  {
   "cell_type": "code",
   "execution_count": 15,
   "id": "fae68562",
   "metadata": {},
   "outputs": [
    {
     "data": {
      "text/html": [
       "<div>\n",
       "<style scoped>\n",
       "    .dataframe tbody tr th:only-of-type {\n",
       "        vertical-align: middle;\n",
       "    }\n",
       "\n",
       "    .dataframe tbody tr th {\n",
       "        vertical-align: top;\n",
       "    }\n",
       "\n",
       "    .dataframe thead th {\n",
       "        text-align: right;\n",
       "    }\n",
       "</style>\n",
       "<table border=\"1\" class=\"dataframe\">\n",
       "  <thead>\n",
       "    <tr style=\"text-align: right;\">\n",
       "      <th></th>\n",
       "      <th>customerid</th>\n",
       "      <th>begindate</th>\n",
       "      <th>enddate</th>\n",
       "      <th>type</th>\n",
       "      <th>paperlessbilling</th>\n",
       "      <th>paymentmethod</th>\n",
       "      <th>monthlycharges</th>\n",
       "      <th>totalcharges</th>\n",
       "    </tr>\n",
       "  </thead>\n",
       "  <tbody>\n",
       "    <tr>\n",
       "      <th>488</th>\n",
       "      <td>4472-LVYGI</td>\n",
       "      <td>2020-02-01</td>\n",
       "      <td>No</td>\n",
       "      <td>Two year</td>\n",
       "      <td>Yes</td>\n",
       "      <td>Bank transfer (automatic)</td>\n",
       "      <td>52.55</td>\n",
       "      <td></td>\n",
       "    </tr>\n",
       "    <tr>\n",
       "      <th>753</th>\n",
       "      <td>3115-CZMZD</td>\n",
       "      <td>2020-02-01</td>\n",
       "      <td>No</td>\n",
       "      <td>Two year</td>\n",
       "      <td>No</td>\n",
       "      <td>Mailed check</td>\n",
       "      <td>20.25</td>\n",
       "      <td></td>\n",
       "    </tr>\n",
       "    <tr>\n",
       "      <th>936</th>\n",
       "      <td>5709-LVOEQ</td>\n",
       "      <td>2020-02-01</td>\n",
       "      <td>No</td>\n",
       "      <td>Two year</td>\n",
       "      <td>No</td>\n",
       "      <td>Mailed check</td>\n",
       "      <td>80.85</td>\n",
       "      <td></td>\n",
       "    </tr>\n",
       "    <tr>\n",
       "      <th>1082</th>\n",
       "      <td>4367-NUYAO</td>\n",
       "      <td>2020-02-01</td>\n",
       "      <td>No</td>\n",
       "      <td>Two year</td>\n",
       "      <td>No</td>\n",
       "      <td>Mailed check</td>\n",
       "      <td>25.75</td>\n",
       "      <td></td>\n",
       "    </tr>\n",
       "    <tr>\n",
       "      <th>1340</th>\n",
       "      <td>1371-DWPAZ</td>\n",
       "      <td>2020-02-01</td>\n",
       "      <td>No</td>\n",
       "      <td>Two year</td>\n",
       "      <td>No</td>\n",
       "      <td>Credit card (automatic)</td>\n",
       "      <td>56.05</td>\n",
       "      <td></td>\n",
       "    </tr>\n",
       "    <tr>\n",
       "      <th>3331</th>\n",
       "      <td>7644-OMVMY</td>\n",
       "      <td>2020-02-01</td>\n",
       "      <td>No</td>\n",
       "      <td>Two year</td>\n",
       "      <td>No</td>\n",
       "      <td>Mailed check</td>\n",
       "      <td>19.85</td>\n",
       "      <td></td>\n",
       "    </tr>\n",
       "    <tr>\n",
       "      <th>3826</th>\n",
       "      <td>3213-VVOLG</td>\n",
       "      <td>2020-02-01</td>\n",
       "      <td>No</td>\n",
       "      <td>Two year</td>\n",
       "      <td>No</td>\n",
       "      <td>Mailed check</td>\n",
       "      <td>25.35</td>\n",
       "      <td></td>\n",
       "    </tr>\n",
       "    <tr>\n",
       "      <th>4380</th>\n",
       "      <td>2520-SGTTA</td>\n",
       "      <td>2020-02-01</td>\n",
       "      <td>No</td>\n",
       "      <td>Two year</td>\n",
       "      <td>No</td>\n",
       "      <td>Mailed check</td>\n",
       "      <td>20.00</td>\n",
       "      <td></td>\n",
       "    </tr>\n",
       "    <tr>\n",
       "      <th>5218</th>\n",
       "      <td>2923-ARZLG</td>\n",
       "      <td>2020-02-01</td>\n",
       "      <td>No</td>\n",
       "      <td>One year</td>\n",
       "      <td>Yes</td>\n",
       "      <td>Mailed check</td>\n",
       "      <td>19.70</td>\n",
       "      <td></td>\n",
       "    </tr>\n",
       "    <tr>\n",
       "      <th>6670</th>\n",
       "      <td>4075-WKNIU</td>\n",
       "      <td>2020-02-01</td>\n",
       "      <td>No</td>\n",
       "      <td>Two year</td>\n",
       "      <td>No</td>\n",
       "      <td>Mailed check</td>\n",
       "      <td>73.35</td>\n",
       "      <td></td>\n",
       "    </tr>\n",
       "    <tr>\n",
       "      <th>6754</th>\n",
       "      <td>2775-SEFEE</td>\n",
       "      <td>2020-02-01</td>\n",
       "      <td>No</td>\n",
       "      <td>Two year</td>\n",
       "      <td>Yes</td>\n",
       "      <td>Bank transfer (automatic)</td>\n",
       "      <td>61.90</td>\n",
       "      <td></td>\n",
       "    </tr>\n",
       "  </tbody>\n",
       "</table>\n",
       "</div>"
      ],
      "text/plain": [
       "      customerid  begindate enddate      type paperlessbilling  \\\n",
       "488   4472-LVYGI 2020-02-01      No  Two year              Yes   \n",
       "753   3115-CZMZD 2020-02-01      No  Two year               No   \n",
       "936   5709-LVOEQ 2020-02-01      No  Two year               No   \n",
       "1082  4367-NUYAO 2020-02-01      No  Two year               No   \n",
       "1340  1371-DWPAZ 2020-02-01      No  Two year               No   \n",
       "3331  7644-OMVMY 2020-02-01      No  Two year               No   \n",
       "3826  3213-VVOLG 2020-02-01      No  Two year               No   \n",
       "4380  2520-SGTTA 2020-02-01      No  Two year               No   \n",
       "5218  2923-ARZLG 2020-02-01      No  One year              Yes   \n",
       "6670  4075-WKNIU 2020-02-01      No  Two year               No   \n",
       "6754  2775-SEFEE 2020-02-01      No  Two year              Yes   \n",
       "\n",
       "                  paymentmethod  monthlycharges totalcharges  \n",
       "488   Bank transfer (automatic)           52.55               \n",
       "753                Mailed check           20.25               \n",
       "936                Mailed check           80.85               \n",
       "1082               Mailed check           25.75               \n",
       "1340    Credit card (automatic)           56.05               \n",
       "3331               Mailed check           19.85               \n",
       "3826               Mailed check           25.35               \n",
       "4380               Mailed check           20.00               \n",
       "5218               Mailed check           19.70               \n",
       "6670               Mailed check           73.35               \n",
       "6754  Bank transfer (automatic)           61.90               "
      ]
     },
     "metadata": {},
     "output_type": "display_data"
    },
    {
     "name": "stdout",
     "output_type": "stream",
     "text": [
      "Количество договоров заключенных 2020-02-01 - 11\n"
     ]
    }
   ],
   "source": [
    "display(contract[contract['begindate'] == '2020-02-01'])\n",
    "print('Количество договоров заключенных 2020-02-01 -', len(contract[contract['begindate'] == '2020-02-01']))"
   ]
  },
  {
   "cell_type": "code",
   "execution_count": 16,
   "id": "d7b61a51",
   "metadata": {},
   "outputs": [
    {
     "data": {
      "text/plain": [
       "11"
      ]
     },
     "execution_count": 16,
     "metadata": {},
     "output_type": "execute_result"
    }
   ],
   "source": [
    "len(contract[contract['totalcharges'] == ' '])"
   ]
  },
  {
   "cell_type": "markdown",
   "id": "0fb93d1e",
   "metadata": {},
   "source": [
    "Общее количество записей с пустой выручкой тоже 11. Удалим данные записи, т.к информационной нагрузки они не несут. И преобразуем тип столбца totalcharges к float."
   ]
  },
  {
   "cell_type": "code",
   "execution_count": 17,
   "id": "f8794e06",
   "metadata": {},
   "outputs": [],
   "source": [
    "contract = contract[contract['totalcharges'] != ' ']"
   ]
  },
  {
   "cell_type": "code",
   "execution_count": 18,
   "id": "5e74c611",
   "metadata": {},
   "outputs": [],
   "source": [
    "contract['totalcharges'] = contract['totalcharges'].astype('float64')"
   ]
  },
  {
   "cell_type": "markdown",
   "id": "3330e10e",
   "metadata": {},
   "source": [
    "Заменим в столбце дата расторжения No на 2020-02-01, для вычисления life_time."
   ]
  },
  {
   "cell_type": "code",
   "execution_count": 19,
   "id": "b0c12512",
   "metadata": {},
   "outputs": [],
   "source": [
    "contract['enddate'].replace('No', '2020-02-01', inplace=True)\n",
    "contract['enddate'] = pd.to_datetime(contract['enddate'])"
   ]
  },
  {
   "cell_type": "markdown",
   "id": "185b3036",
   "metadata": {},
   "source": [
    "Т.к в базе хранятся даты только от 1 числа месяца, уберем излишки информации, оставим только месяц даты заключения и расторжения договора."
   ]
  },
  {
   "cell_type": "code",
   "execution_count": 20,
   "id": "fac6328b",
   "metadata": {},
   "outputs": [
    {
     "data": {
      "text/html": [
       "<div>\n",
       "<style scoped>\n",
       "    .dataframe tbody tr th:only-of-type {\n",
       "        vertical-align: middle;\n",
       "    }\n",
       "\n",
       "    .dataframe tbody tr th {\n",
       "        vertical-align: top;\n",
       "    }\n",
       "\n",
       "    .dataframe thead th {\n",
       "        text-align: right;\n",
       "    }\n",
       "</style>\n",
       "<table border=\"1\" class=\"dataframe\">\n",
       "  <thead>\n",
       "    <tr style=\"text-align: right;\">\n",
       "      <th></th>\n",
       "      <th>customerid</th>\n",
       "      <th>begindate</th>\n",
       "      <th>enddate</th>\n",
       "      <th>type</th>\n",
       "      <th>paperlessbilling</th>\n",
       "      <th>paymentmethod</th>\n",
       "      <th>monthlycharges</th>\n",
       "      <th>totalcharges</th>\n",
       "      <th>month_begin</th>\n",
       "      <th>month_end</th>\n",
       "    </tr>\n",
       "  </thead>\n",
       "  <tbody>\n",
       "    <tr>\n",
       "      <th>0</th>\n",
       "      <td>7590-VHVEG</td>\n",
       "      <td>2020-01-01</td>\n",
       "      <td>2020-02-01</td>\n",
       "      <td>Month-to-month</td>\n",
       "      <td>Yes</td>\n",
       "      <td>Electronic check</td>\n",
       "      <td>29.85</td>\n",
       "      <td>29.85</td>\n",
       "      <td>1</td>\n",
       "      <td>2</td>\n",
       "    </tr>\n",
       "    <tr>\n",
       "      <th>1</th>\n",
       "      <td>5575-GNVDE</td>\n",
       "      <td>2017-04-01</td>\n",
       "      <td>2020-02-01</td>\n",
       "      <td>One year</td>\n",
       "      <td>No</td>\n",
       "      <td>Mailed check</td>\n",
       "      <td>56.95</td>\n",
       "      <td>1889.50</td>\n",
       "      <td>4</td>\n",
       "      <td>2</td>\n",
       "    </tr>\n",
       "    <tr>\n",
       "      <th>2</th>\n",
       "      <td>3668-QPYBK</td>\n",
       "      <td>2019-10-01</td>\n",
       "      <td>2019-12-01</td>\n",
       "      <td>Month-to-month</td>\n",
       "      <td>Yes</td>\n",
       "      <td>Mailed check</td>\n",
       "      <td>53.85</td>\n",
       "      <td>108.15</td>\n",
       "      <td>10</td>\n",
       "      <td>12</td>\n",
       "    </tr>\n",
       "    <tr>\n",
       "      <th>3</th>\n",
       "      <td>7795-CFOCW</td>\n",
       "      <td>2016-05-01</td>\n",
       "      <td>2020-02-01</td>\n",
       "      <td>One year</td>\n",
       "      <td>No</td>\n",
       "      <td>Bank transfer (automatic)</td>\n",
       "      <td>42.30</td>\n",
       "      <td>1840.75</td>\n",
       "      <td>5</td>\n",
       "      <td>2</td>\n",
       "    </tr>\n",
       "    <tr>\n",
       "      <th>4</th>\n",
       "      <td>9237-HQITU</td>\n",
       "      <td>2019-09-01</td>\n",
       "      <td>2019-11-01</td>\n",
       "      <td>Month-to-month</td>\n",
       "      <td>Yes</td>\n",
       "      <td>Electronic check</td>\n",
       "      <td>70.70</td>\n",
       "      <td>151.65</td>\n",
       "      <td>9</td>\n",
       "      <td>11</td>\n",
       "    </tr>\n",
       "    <tr>\n",
       "      <th>...</th>\n",
       "      <td>...</td>\n",
       "      <td>...</td>\n",
       "      <td>...</td>\n",
       "      <td>...</td>\n",
       "      <td>...</td>\n",
       "      <td>...</td>\n",
       "      <td>...</td>\n",
       "      <td>...</td>\n",
       "      <td>...</td>\n",
       "      <td>...</td>\n",
       "    </tr>\n",
       "    <tr>\n",
       "      <th>7038</th>\n",
       "      <td>6840-RESVB</td>\n",
       "      <td>2018-02-01</td>\n",
       "      <td>2020-02-01</td>\n",
       "      <td>One year</td>\n",
       "      <td>Yes</td>\n",
       "      <td>Mailed check</td>\n",
       "      <td>84.80</td>\n",
       "      <td>1990.50</td>\n",
       "      <td>2</td>\n",
       "      <td>2</td>\n",
       "    </tr>\n",
       "    <tr>\n",
       "      <th>7039</th>\n",
       "      <td>2234-XADUH</td>\n",
       "      <td>2014-02-01</td>\n",
       "      <td>2020-02-01</td>\n",
       "      <td>One year</td>\n",
       "      <td>Yes</td>\n",
       "      <td>Credit card (automatic)</td>\n",
       "      <td>103.20</td>\n",
       "      <td>7362.90</td>\n",
       "      <td>2</td>\n",
       "      <td>2</td>\n",
       "    </tr>\n",
       "    <tr>\n",
       "      <th>7040</th>\n",
       "      <td>4801-JZAZL</td>\n",
       "      <td>2019-03-01</td>\n",
       "      <td>2020-02-01</td>\n",
       "      <td>Month-to-month</td>\n",
       "      <td>Yes</td>\n",
       "      <td>Electronic check</td>\n",
       "      <td>29.60</td>\n",
       "      <td>346.45</td>\n",
       "      <td>3</td>\n",
       "      <td>2</td>\n",
       "    </tr>\n",
       "    <tr>\n",
       "      <th>7041</th>\n",
       "      <td>8361-LTMKD</td>\n",
       "      <td>2019-07-01</td>\n",
       "      <td>2019-11-01</td>\n",
       "      <td>Month-to-month</td>\n",
       "      <td>Yes</td>\n",
       "      <td>Mailed check</td>\n",
       "      <td>74.40</td>\n",
       "      <td>306.60</td>\n",
       "      <td>7</td>\n",
       "      <td>11</td>\n",
       "    </tr>\n",
       "    <tr>\n",
       "      <th>7042</th>\n",
       "      <td>3186-AJIEK</td>\n",
       "      <td>2014-08-01</td>\n",
       "      <td>2020-02-01</td>\n",
       "      <td>Two year</td>\n",
       "      <td>Yes</td>\n",
       "      <td>Bank transfer (automatic)</td>\n",
       "      <td>105.65</td>\n",
       "      <td>6844.50</td>\n",
       "      <td>8</td>\n",
       "      <td>2</td>\n",
       "    </tr>\n",
       "  </tbody>\n",
       "</table>\n",
       "<p>7032 rows × 10 columns</p>\n",
       "</div>"
      ],
      "text/plain": [
       "      customerid  begindate    enddate            type paperlessbilling  \\\n",
       "0     7590-VHVEG 2020-01-01 2020-02-01  Month-to-month              Yes   \n",
       "1     5575-GNVDE 2017-04-01 2020-02-01        One year               No   \n",
       "2     3668-QPYBK 2019-10-01 2019-12-01  Month-to-month              Yes   \n",
       "3     7795-CFOCW 2016-05-01 2020-02-01        One year               No   \n",
       "4     9237-HQITU 2019-09-01 2019-11-01  Month-to-month              Yes   \n",
       "...          ...        ...        ...             ...              ...   \n",
       "7038  6840-RESVB 2018-02-01 2020-02-01        One year              Yes   \n",
       "7039  2234-XADUH 2014-02-01 2020-02-01        One year              Yes   \n",
       "7040  4801-JZAZL 2019-03-01 2020-02-01  Month-to-month              Yes   \n",
       "7041  8361-LTMKD 2019-07-01 2019-11-01  Month-to-month              Yes   \n",
       "7042  3186-AJIEK 2014-08-01 2020-02-01        Two year              Yes   \n",
       "\n",
       "                  paymentmethod  monthlycharges  totalcharges  month_begin  \\\n",
       "0              Electronic check           29.85         29.85            1   \n",
       "1                  Mailed check           56.95       1889.50            4   \n",
       "2                  Mailed check           53.85        108.15           10   \n",
       "3     Bank transfer (automatic)           42.30       1840.75            5   \n",
       "4              Electronic check           70.70        151.65            9   \n",
       "...                         ...             ...           ...          ...   \n",
       "7038               Mailed check           84.80       1990.50            2   \n",
       "7039    Credit card (automatic)          103.20       7362.90            2   \n",
       "7040           Electronic check           29.60        346.45            3   \n",
       "7041               Mailed check           74.40        306.60            7   \n",
       "7042  Bank transfer (automatic)          105.65       6844.50            8   \n",
       "\n",
       "      month_end  \n",
       "0             2  \n",
       "1             2  \n",
       "2            12  \n",
       "3             2  \n",
       "4            11  \n",
       "...         ...  \n",
       "7038          2  \n",
       "7039          2  \n",
       "7040          2  \n",
       "7041         11  \n",
       "7042          2  \n",
       "\n",
       "[7032 rows x 10 columns]"
      ]
     },
     "execution_count": 20,
     "metadata": {},
     "output_type": "execute_result"
    }
   ],
   "source": [
    "contract['month_begin'] = contract.apply(lambda row: row.begindate.month, axis=1) #месяц начала договора\n",
    "contract['month_end'] = contract['enddate'].apply(lambda x: x.month) # месяц окончания договора, возможна сезонность\n",
    "contract"
   ]
  },
  {
   "cell_type": "markdown",
   "id": "3e9a3731",
   "metadata": {},
   "source": [
    "Создадим целевой признак, target и  признак life_time. Заменим месяц расторженных договоров на 0, для визуального удобства."
   ]
  },
  {
   "cell_type": "code",
   "execution_count": 21,
   "id": "46685db5",
   "metadata": {},
   "outputs": [
    {
     "data": {
      "text/html": [
       "<div>\n",
       "<style scoped>\n",
       "    .dataframe tbody tr th:only-of-type {\n",
       "        vertical-align: middle;\n",
       "    }\n",
       "\n",
       "    .dataframe tbody tr th {\n",
       "        vertical-align: top;\n",
       "    }\n",
       "\n",
       "    .dataframe thead th {\n",
       "        text-align: right;\n",
       "    }\n",
       "</style>\n",
       "<table border=\"1\" class=\"dataframe\">\n",
       "  <thead>\n",
       "    <tr style=\"text-align: right;\">\n",
       "      <th></th>\n",
       "      <th>customerid</th>\n",
       "      <th>begindate</th>\n",
       "      <th>enddate</th>\n",
       "      <th>type</th>\n",
       "      <th>paperlessbilling</th>\n",
       "      <th>paymentmethod</th>\n",
       "      <th>monthlycharges</th>\n",
       "      <th>totalcharges</th>\n",
       "      <th>month_begin</th>\n",
       "      <th>month_end</th>\n",
       "      <th>target</th>\n",
       "      <th>life_time</th>\n",
       "    </tr>\n",
       "  </thead>\n",
       "  <tbody>\n",
       "    <tr>\n",
       "      <th>0</th>\n",
       "      <td>7590-VHVEG</td>\n",
       "      <td>2020-01-01</td>\n",
       "      <td>2020-02-01</td>\n",
       "      <td>Month-to-month</td>\n",
       "      <td>Yes</td>\n",
       "      <td>Electronic check</td>\n",
       "      <td>29.85</td>\n",
       "      <td>29.85</td>\n",
       "      <td>1</td>\n",
       "      <td>0</td>\n",
       "      <td>0</td>\n",
       "      <td>31</td>\n",
       "    </tr>\n",
       "    <tr>\n",
       "      <th>1</th>\n",
       "      <td>5575-GNVDE</td>\n",
       "      <td>2017-04-01</td>\n",
       "      <td>2020-02-01</td>\n",
       "      <td>One year</td>\n",
       "      <td>No</td>\n",
       "      <td>Mailed check</td>\n",
       "      <td>56.95</td>\n",
       "      <td>1889.50</td>\n",
       "      <td>4</td>\n",
       "      <td>0</td>\n",
       "      <td>0</td>\n",
       "      <td>1036</td>\n",
       "    </tr>\n",
       "    <tr>\n",
       "      <th>2</th>\n",
       "      <td>3668-QPYBK</td>\n",
       "      <td>2019-10-01</td>\n",
       "      <td>2019-12-01</td>\n",
       "      <td>Month-to-month</td>\n",
       "      <td>Yes</td>\n",
       "      <td>Mailed check</td>\n",
       "      <td>53.85</td>\n",
       "      <td>108.15</td>\n",
       "      <td>10</td>\n",
       "      <td>12</td>\n",
       "      <td>1</td>\n",
       "      <td>61</td>\n",
       "    </tr>\n",
       "    <tr>\n",
       "      <th>3</th>\n",
       "      <td>7795-CFOCW</td>\n",
       "      <td>2016-05-01</td>\n",
       "      <td>2020-02-01</td>\n",
       "      <td>One year</td>\n",
       "      <td>No</td>\n",
       "      <td>Bank transfer (automatic)</td>\n",
       "      <td>42.30</td>\n",
       "      <td>1840.75</td>\n",
       "      <td>5</td>\n",
       "      <td>0</td>\n",
       "      <td>0</td>\n",
       "      <td>1371</td>\n",
       "    </tr>\n",
       "    <tr>\n",
       "      <th>4</th>\n",
       "      <td>9237-HQITU</td>\n",
       "      <td>2019-09-01</td>\n",
       "      <td>2019-11-01</td>\n",
       "      <td>Month-to-month</td>\n",
       "      <td>Yes</td>\n",
       "      <td>Electronic check</td>\n",
       "      <td>70.70</td>\n",
       "      <td>151.65</td>\n",
       "      <td>9</td>\n",
       "      <td>11</td>\n",
       "      <td>1</td>\n",
       "      <td>61</td>\n",
       "    </tr>\n",
       "    <tr>\n",
       "      <th>...</th>\n",
       "      <td>...</td>\n",
       "      <td>...</td>\n",
       "      <td>...</td>\n",
       "      <td>...</td>\n",
       "      <td>...</td>\n",
       "      <td>...</td>\n",
       "      <td>...</td>\n",
       "      <td>...</td>\n",
       "      <td>...</td>\n",
       "      <td>...</td>\n",
       "      <td>...</td>\n",
       "      <td>...</td>\n",
       "    </tr>\n",
       "    <tr>\n",
       "      <th>7038</th>\n",
       "      <td>6840-RESVB</td>\n",
       "      <td>2018-02-01</td>\n",
       "      <td>2020-02-01</td>\n",
       "      <td>One year</td>\n",
       "      <td>Yes</td>\n",
       "      <td>Mailed check</td>\n",
       "      <td>84.80</td>\n",
       "      <td>1990.50</td>\n",
       "      <td>2</td>\n",
       "      <td>0</td>\n",
       "      <td>0</td>\n",
       "      <td>730</td>\n",
       "    </tr>\n",
       "    <tr>\n",
       "      <th>7039</th>\n",
       "      <td>2234-XADUH</td>\n",
       "      <td>2014-02-01</td>\n",
       "      <td>2020-02-01</td>\n",
       "      <td>One year</td>\n",
       "      <td>Yes</td>\n",
       "      <td>Credit card (automatic)</td>\n",
       "      <td>103.20</td>\n",
       "      <td>7362.90</td>\n",
       "      <td>2</td>\n",
       "      <td>0</td>\n",
       "      <td>0</td>\n",
       "      <td>2191</td>\n",
       "    </tr>\n",
       "    <tr>\n",
       "      <th>7040</th>\n",
       "      <td>4801-JZAZL</td>\n",
       "      <td>2019-03-01</td>\n",
       "      <td>2020-02-01</td>\n",
       "      <td>Month-to-month</td>\n",
       "      <td>Yes</td>\n",
       "      <td>Electronic check</td>\n",
       "      <td>29.60</td>\n",
       "      <td>346.45</td>\n",
       "      <td>3</td>\n",
       "      <td>0</td>\n",
       "      <td>0</td>\n",
       "      <td>337</td>\n",
       "    </tr>\n",
       "    <tr>\n",
       "      <th>7041</th>\n",
       "      <td>8361-LTMKD</td>\n",
       "      <td>2019-07-01</td>\n",
       "      <td>2019-11-01</td>\n",
       "      <td>Month-to-month</td>\n",
       "      <td>Yes</td>\n",
       "      <td>Mailed check</td>\n",
       "      <td>74.40</td>\n",
       "      <td>306.60</td>\n",
       "      <td>7</td>\n",
       "      <td>11</td>\n",
       "      <td>1</td>\n",
       "      <td>123</td>\n",
       "    </tr>\n",
       "    <tr>\n",
       "      <th>7042</th>\n",
       "      <td>3186-AJIEK</td>\n",
       "      <td>2014-08-01</td>\n",
       "      <td>2020-02-01</td>\n",
       "      <td>Two year</td>\n",
       "      <td>Yes</td>\n",
       "      <td>Bank transfer (automatic)</td>\n",
       "      <td>105.65</td>\n",
       "      <td>6844.50</td>\n",
       "      <td>8</td>\n",
       "      <td>0</td>\n",
       "      <td>0</td>\n",
       "      <td>2010</td>\n",
       "    </tr>\n",
       "  </tbody>\n",
       "</table>\n",
       "<p>7032 rows × 12 columns</p>\n",
       "</div>"
      ],
      "text/plain": [
       "      customerid  begindate    enddate            type paperlessbilling  \\\n",
       "0     7590-VHVEG 2020-01-01 2020-02-01  Month-to-month              Yes   \n",
       "1     5575-GNVDE 2017-04-01 2020-02-01        One year               No   \n",
       "2     3668-QPYBK 2019-10-01 2019-12-01  Month-to-month              Yes   \n",
       "3     7795-CFOCW 2016-05-01 2020-02-01        One year               No   \n",
       "4     9237-HQITU 2019-09-01 2019-11-01  Month-to-month              Yes   \n",
       "...          ...        ...        ...             ...              ...   \n",
       "7038  6840-RESVB 2018-02-01 2020-02-01        One year              Yes   \n",
       "7039  2234-XADUH 2014-02-01 2020-02-01        One year              Yes   \n",
       "7040  4801-JZAZL 2019-03-01 2020-02-01  Month-to-month              Yes   \n",
       "7041  8361-LTMKD 2019-07-01 2019-11-01  Month-to-month              Yes   \n",
       "7042  3186-AJIEK 2014-08-01 2020-02-01        Two year              Yes   \n",
       "\n",
       "                  paymentmethod  monthlycharges  totalcharges  month_begin  \\\n",
       "0              Electronic check           29.85         29.85            1   \n",
       "1                  Mailed check           56.95       1889.50            4   \n",
       "2                  Mailed check           53.85        108.15           10   \n",
       "3     Bank transfer (automatic)           42.30       1840.75            5   \n",
       "4              Electronic check           70.70        151.65            9   \n",
       "...                         ...             ...           ...          ...   \n",
       "7038               Mailed check           84.80       1990.50            2   \n",
       "7039    Credit card (automatic)          103.20       7362.90            2   \n",
       "7040           Electronic check           29.60        346.45            3   \n",
       "7041               Mailed check           74.40        306.60            7   \n",
       "7042  Bank transfer (automatic)          105.65       6844.50            8   \n",
       "\n",
       "      month_end  target  life_time  \n",
       "0             0       0         31  \n",
       "1             0       0       1036  \n",
       "2            12       1         61  \n",
       "3             0       0       1371  \n",
       "4            11       1         61  \n",
       "...         ...     ...        ...  \n",
       "7038          0       0        730  \n",
       "7039          0       0       2191  \n",
       "7040          0       0        337  \n",
       "7041         11       1        123  \n",
       "7042          0       0       2010  \n",
       "\n",
       "[7032 rows x 12 columns]"
      ]
     },
     "execution_count": 21,
     "metadata": {},
     "output_type": "execute_result"
    }
   ],
   "source": [
    "contract.loc[contract['enddate'] == '2020-02-01', 'target'] = 0\n",
    "contract.loc[contract['enddate'] != '2020-02-01', 'target'] = 1\n",
    "contract['target'] = contract['target'].astype('int')\n",
    "\n",
    "contract['life_time'] = contract['enddate'] - contract['begindate']\n",
    "contract['life_time'] = contract.apply(lambda row: row.life_time.days, axis=1)\n",
    "\n",
    "contract.loc[contract['target'] == 0, 'month_end'] = 0 # заменим месяц нерасторженных договорв на 0\n",
    "\n",
    "contract"
   ]
  },
  {
   "cell_type": "markdown",
   "id": "c6dc95f2",
   "metadata": {},
   "source": [
    "Изменим типы оплаты на количество месяц авансовой системы."
   ]
  },
  {
   "cell_type": "code",
   "execution_count": 22,
   "id": "2d21b982",
   "metadata": {},
   "outputs": [],
   "source": [
    "contract['type'].replace({'Two year': 24, 'One year':12, 'Month-to-month':1}, inplace=True)"
   ]
  },
  {
   "cell_type": "markdown",
   "id": "5188676d",
   "metadata": {},
   "source": [
    "Удалим лишние признаки: даты договора и расторжения - их заменили на месяц договора и расторжения, так же признаки указывающие на выставление счетов и способах оплаты, как не значимые."
   ]
  },
  {
   "cell_type": "code",
   "execution_count": 23,
   "id": "a3555e8c",
   "metadata": {},
   "outputs": [],
   "source": [
    "contract = contract.drop(columns=['begindate', 'enddate', 'paperlessbilling', 'paymentmethod'])"
   ]
  },
  {
   "cell_type": "code",
   "execution_count": 24,
   "id": "129b51d2",
   "metadata": {},
   "outputs": [
    {
     "data": {
      "text/html": [
       "<div>\n",
       "<style scoped>\n",
       "    .dataframe tbody tr th:only-of-type {\n",
       "        vertical-align: middle;\n",
       "    }\n",
       "\n",
       "    .dataframe tbody tr th {\n",
       "        vertical-align: top;\n",
       "    }\n",
       "\n",
       "    .dataframe thead th {\n",
       "        text-align: right;\n",
       "    }\n",
       "</style>\n",
       "<table border=\"1\" class=\"dataframe\">\n",
       "  <thead>\n",
       "    <tr style=\"text-align: right;\">\n",
       "      <th></th>\n",
       "      <th>customerid</th>\n",
       "      <th>type</th>\n",
       "      <th>monthlycharges</th>\n",
       "      <th>totalcharges</th>\n",
       "      <th>month_begin</th>\n",
       "      <th>month_end</th>\n",
       "      <th>target</th>\n",
       "      <th>life_time</th>\n",
       "    </tr>\n",
       "  </thead>\n",
       "  <tbody>\n",
       "    <tr>\n",
       "      <th>0</th>\n",
       "      <td>7590-VHVEG</td>\n",
       "      <td>1</td>\n",
       "      <td>29.85</td>\n",
       "      <td>29.85</td>\n",
       "      <td>1</td>\n",
       "      <td>0</td>\n",
       "      <td>0</td>\n",
       "      <td>31</td>\n",
       "    </tr>\n",
       "    <tr>\n",
       "      <th>1</th>\n",
       "      <td>5575-GNVDE</td>\n",
       "      <td>12</td>\n",
       "      <td>56.95</td>\n",
       "      <td>1889.50</td>\n",
       "      <td>4</td>\n",
       "      <td>0</td>\n",
       "      <td>0</td>\n",
       "      <td>1036</td>\n",
       "    </tr>\n",
       "    <tr>\n",
       "      <th>2</th>\n",
       "      <td>3668-QPYBK</td>\n",
       "      <td>1</td>\n",
       "      <td>53.85</td>\n",
       "      <td>108.15</td>\n",
       "      <td>10</td>\n",
       "      <td>12</td>\n",
       "      <td>1</td>\n",
       "      <td>61</td>\n",
       "    </tr>\n",
       "    <tr>\n",
       "      <th>3</th>\n",
       "      <td>7795-CFOCW</td>\n",
       "      <td>12</td>\n",
       "      <td>42.30</td>\n",
       "      <td>1840.75</td>\n",
       "      <td>5</td>\n",
       "      <td>0</td>\n",
       "      <td>0</td>\n",
       "      <td>1371</td>\n",
       "    </tr>\n",
       "    <tr>\n",
       "      <th>4</th>\n",
       "      <td>9237-HQITU</td>\n",
       "      <td>1</td>\n",
       "      <td>70.70</td>\n",
       "      <td>151.65</td>\n",
       "      <td>9</td>\n",
       "      <td>11</td>\n",
       "      <td>1</td>\n",
       "      <td>61</td>\n",
       "    </tr>\n",
       "    <tr>\n",
       "      <th>...</th>\n",
       "      <td>...</td>\n",
       "      <td>...</td>\n",
       "      <td>...</td>\n",
       "      <td>...</td>\n",
       "      <td>...</td>\n",
       "      <td>...</td>\n",
       "      <td>...</td>\n",
       "      <td>...</td>\n",
       "    </tr>\n",
       "    <tr>\n",
       "      <th>7038</th>\n",
       "      <td>6840-RESVB</td>\n",
       "      <td>12</td>\n",
       "      <td>84.80</td>\n",
       "      <td>1990.50</td>\n",
       "      <td>2</td>\n",
       "      <td>0</td>\n",
       "      <td>0</td>\n",
       "      <td>730</td>\n",
       "    </tr>\n",
       "    <tr>\n",
       "      <th>7039</th>\n",
       "      <td>2234-XADUH</td>\n",
       "      <td>12</td>\n",
       "      <td>103.20</td>\n",
       "      <td>7362.90</td>\n",
       "      <td>2</td>\n",
       "      <td>0</td>\n",
       "      <td>0</td>\n",
       "      <td>2191</td>\n",
       "    </tr>\n",
       "    <tr>\n",
       "      <th>7040</th>\n",
       "      <td>4801-JZAZL</td>\n",
       "      <td>1</td>\n",
       "      <td>29.60</td>\n",
       "      <td>346.45</td>\n",
       "      <td>3</td>\n",
       "      <td>0</td>\n",
       "      <td>0</td>\n",
       "      <td>337</td>\n",
       "    </tr>\n",
       "    <tr>\n",
       "      <th>7041</th>\n",
       "      <td>8361-LTMKD</td>\n",
       "      <td>1</td>\n",
       "      <td>74.40</td>\n",
       "      <td>306.60</td>\n",
       "      <td>7</td>\n",
       "      <td>11</td>\n",
       "      <td>1</td>\n",
       "      <td>123</td>\n",
       "    </tr>\n",
       "    <tr>\n",
       "      <th>7042</th>\n",
       "      <td>3186-AJIEK</td>\n",
       "      <td>24</td>\n",
       "      <td>105.65</td>\n",
       "      <td>6844.50</td>\n",
       "      <td>8</td>\n",
       "      <td>0</td>\n",
       "      <td>0</td>\n",
       "      <td>2010</td>\n",
       "    </tr>\n",
       "  </tbody>\n",
       "</table>\n",
       "<p>7032 rows × 8 columns</p>\n",
       "</div>"
      ],
      "text/plain": [
       "      customerid  type  monthlycharges  totalcharges  month_begin  month_end  \\\n",
       "0     7590-VHVEG     1           29.85         29.85            1          0   \n",
       "1     5575-GNVDE    12           56.95       1889.50            4          0   \n",
       "2     3668-QPYBK     1           53.85        108.15           10         12   \n",
       "3     7795-CFOCW    12           42.30       1840.75            5          0   \n",
       "4     9237-HQITU     1           70.70        151.65            9         11   \n",
       "...          ...   ...             ...           ...          ...        ...   \n",
       "7038  6840-RESVB    12           84.80       1990.50            2          0   \n",
       "7039  2234-XADUH    12          103.20       7362.90            2          0   \n",
       "7040  4801-JZAZL     1           29.60        346.45            3          0   \n",
       "7041  8361-LTMKD     1           74.40        306.60            7         11   \n",
       "7042  3186-AJIEK    24          105.65       6844.50            8          0   \n",
       "\n",
       "      target  life_time  \n",
       "0          0         31  \n",
       "1          0       1036  \n",
       "2          1         61  \n",
       "3          0       1371  \n",
       "4          1         61  \n",
       "...      ...        ...  \n",
       "7038       0        730  \n",
       "7039       0       2191  \n",
       "7040       0        337  \n",
       "7041       1        123  \n",
       "7042       0       2010  \n",
       "\n",
       "[7032 rows x 8 columns]"
      ]
     },
     "execution_count": 24,
     "metadata": {},
     "output_type": "execute_result"
    }
   ],
   "source": [
    "contract"
   ]
  },
  {
   "cell_type": "markdown",
   "id": "d6f0f947",
   "metadata": {},
   "source": [
    "Оценим корреляцию признаков итоговой таблицы contract"
   ]
  },
  {
   "cell_type": "code",
   "execution_count": 25,
   "id": "b38aff8a",
   "metadata": {
    "scrolled": false
   },
   "outputs": [
    {
     "data": {
      "image/png": "[encoded data removed]",
      "text/plain": [
       "<Figure size 480x400 with 2 Axes>"
      ]
     },
     "metadata": {
      "needs_background": "light"
     },
     "output_type": "display_data"
    }
   ],
   "source": [
    "contract_col = contract[['type', 'totalcharges', 'monthlycharges', 'month_begin', 'month_end', 'life_time', 'target']]\n",
    "plt.figure(figsize=(6,5), dpi= 80);\n",
    "sns.heatmap(\n",
    "    contract_col.corr(),\n",
    "    xticklabels=contract_col.corr().columns,\n",
    "    yticklabels=contract_col.corr().columns,\n",
    "    cmap='RdYlGn', center=0, annot=True);\n",
    "plt.title('Тепловая диаграмма корреляции численных значений таблицы');"
   ]
  },
  {
   "cell_type": "markdown",
   "id": "20573f10",
   "metadata": {},
   "source": [
    "Как видим из тепловой карты, месяц расторжения договора коррелирует с целевым признаком. В итоговой таблице данный признак month_end удалим, т.к фактически утечка информации.\n",
    "\n",
    "Перейдем к следующей таблице."
   ]
  },
  {
   "cell_type": "markdown",
   "id": "7fb0de68",
   "metadata": {},
   "source": [
    "### Персональные данные клиента"
   ]
  },
  {
   "cell_type": "code",
   "execution_count": 26,
   "id": "db30f90d",
   "metadata": {},
   "outputs": [
    {
     "name": "stdout",
     "output_type": "stream",
     "text": [
      "                                    Персональные данные клиента                                      \n",
      "\n",
      "<class 'pandas.core.frame.DataFrame'>\n",
      "RangeIndex: 7043 entries, 0 to 7042\n",
      "Data columns (total 5 columns):\n",
      " #   Column         Non-Null Count  Dtype \n",
      "---  ------         --------------  ----- \n",
      " 0   customerid     7043 non-null   object\n",
      " 1   gender         7043 non-null   object\n",
      " 2   seniorcitizen  7043 non-null   int64 \n",
      " 3   partner        7043 non-null   object\n",
      " 4   dependents     7043 non-null   object\n",
      "dtypes: int64(1), object(4)\n",
      "memory usage: 275.2+ KB\n",
      "\n",
      "                                          Общий вид датасета                                         \n"
     ]
    },
    {
     "data": {
      "text/html": [
       "<div>\n",
       "<style scoped>\n",
       "    .dataframe tbody tr th:only-of-type {\n",
       "        vertical-align: middle;\n",
       "    }\n",
       "\n",
       "    .dataframe tbody tr th {\n",
       "        vertical-align: top;\n",
       "    }\n",
       "\n",
       "    .dataframe thead th {\n",
       "        text-align: right;\n",
       "    }\n",
       "</style>\n",
       "<table border=\"1\" class=\"dataframe\">\n",
       "  <thead>\n",
       "    <tr style=\"text-align: right;\">\n",
       "      <th></th>\n",
       "      <th>customerid</th>\n",
       "      <th>gender</th>\n",
       "      <th>seniorcitizen</th>\n",
       "      <th>partner</th>\n",
       "      <th>dependents</th>\n",
       "    </tr>\n",
       "  </thead>\n",
       "  <tbody>\n",
       "    <tr>\n",
       "      <th>1016</th>\n",
       "      <td>7649-SIJJF</td>\n",
       "      <td>Male</td>\n",
       "      <td>0</td>\n",
       "      <td>Yes</td>\n",
       "      <td>No</td>\n",
       "    </tr>\n",
       "    <tr>\n",
       "      <th>2723</th>\n",
       "      <td>1866-ZSLJM</td>\n",
       "      <td>Male</td>\n",
       "      <td>0</td>\n",
       "      <td>No</td>\n",
       "      <td>No</td>\n",
       "    </tr>\n",
       "    <tr>\n",
       "      <th>6177</th>\n",
       "      <td>1260-TTRXI</td>\n",
       "      <td>Male</td>\n",
       "      <td>0</td>\n",
       "      <td>No</td>\n",
       "      <td>No</td>\n",
       "    </tr>\n",
       "    <tr>\n",
       "      <th>4208</th>\n",
       "      <td>9955-QOPOY</td>\n",
       "      <td>Male</td>\n",
       "      <td>0</td>\n",
       "      <td>Yes</td>\n",
       "      <td>No</td>\n",
       "    </tr>\n",
       "    <tr>\n",
       "      <th>2974</th>\n",
       "      <td>1481-ZUWZA</td>\n",
       "      <td>Male</td>\n",
       "      <td>0</td>\n",
       "      <td>No</td>\n",
       "      <td>No</td>\n",
       "    </tr>\n",
       "  </tbody>\n",
       "</table>\n",
       "</div>"
      ],
      "text/plain": [
       "      customerid gender  seniorcitizen partner dependents\n",
       "1016  7649-SIJJF   Male              0     Yes         No\n",
       "2723  1866-ZSLJM   Male              0      No         No\n",
       "6177  1260-TTRXI   Male              0      No         No\n",
       "4208  9955-QOPOY   Male              0     Yes         No\n",
       "2974  1481-ZUWZA   Male              0      No         No"
      ]
     },
     "metadata": {},
     "output_type": "display_data"
    },
    {
     "name": "stdout",
     "output_type": "stream",
     "text": [
      "\n",
      "                              Процентное количество пропусков в датасете                              \n",
      "\n",
      "customerid       0.0\n",
      "gender           0.0\n",
      "seniorcitizen    0.0\n",
      "partner          0.0\n",
      "dependents       0.0\n",
      "dtype: float64\n"
     ]
    }
   ],
   "source": [
    "inform(personal_data, 'Персональные данные клиента')"
   ]
  },
  {
   "cell_type": "code",
   "execution_count": 27,
   "id": "1f504365",
   "metadata": {},
   "outputs": [
    {
     "name": "stdout",
     "output_type": "stream",
     "text": [
      "В столбце customerid уникальные значения - ['7590-VHVEG' '5575-GNVDE' '3668-QPYBK' ... '4801-JZAZL' '8361-LTMKD'\n",
      " '3186-AJIEK']\n",
      "В столбце gender уникальные значения - ['Female' 'Male']\n",
      "В столбце seniorcitizen уникальные значения - [0 1]\n",
      "В столбце partner уникальные значения - ['Yes' 'No']\n",
      "В столбце dependents уникальные значения - ['No' 'Yes']\n"
     ]
    }
   ],
   "source": [
    "for col in personal_data.columns:\n",
    "    print(f'В столбце {col} уникальные значения - {personal_data[col].unique()}')"
   ]
  },
  {
   "cell_type": "markdown",
   "id": "cbc8d8fa",
   "metadata": {},
   "source": [
    "#### Вывод"
   ]
  },
  {
   "cell_type": "markdown",
   "id": "6ebcf890",
   "metadata": {},
   "source": [
    "В таблице нет пропусков, сначала внесем данные в итоговую таблицу, проведем анализ, и будем решать о целесообразности признаков."
   ]
  },
  {
   "cell_type": "markdown",
   "id": "6e55dee7",
   "metadata": {},
   "source": [
    "### Интернет и телефония"
   ]
  },
  {
   "cell_type": "markdown",
   "id": "3982b80d",
   "metadata": {},
   "source": [
    "Рассмотрим какие группы абонентов какими услугами пользуются"
   ]
  },
  {
   "cell_type": "code",
   "execution_count": 28,
   "id": "89288ad0",
   "metadata": {
    "scrolled": false
   },
   "outputs": [
    {
     "name": "stdout",
     "output_type": "stream",
     "text": [
      "                                  Информация об услугах телефонии                                    \n",
      "\n",
      "<class 'pandas.core.frame.DataFrame'>\n",
      "RangeIndex: 6361 entries, 0 to 6360\n",
      "Data columns (total 2 columns):\n",
      " #   Column         Non-Null Count  Dtype \n",
      "---  ------         --------------  ----- \n",
      " 0   customerid     6361 non-null   object\n",
      " 1   multiplelines  6361 non-null   object\n",
      "dtypes: object(2)\n",
      "memory usage: 99.5+ KB\n",
      "\n",
      "                                          Общий вид датасета                                         \n"
     ]
    },
    {
     "data": {
      "text/html": [
       "<div>\n",
       "<style scoped>\n",
       "    .dataframe tbody tr th:only-of-type {\n",
       "        vertical-align: middle;\n",
       "    }\n",
       "\n",
       "    .dataframe tbody tr th {\n",
       "        vertical-align: top;\n",
       "    }\n",
       "\n",
       "    .dataframe thead th {\n",
       "        text-align: right;\n",
       "    }\n",
       "</style>\n",
       "<table border=\"1\" class=\"dataframe\">\n",
       "  <thead>\n",
       "    <tr style=\"text-align: right;\">\n",
       "      <th></th>\n",
       "      <th>customerid</th>\n",
       "      <th>multiplelines</th>\n",
       "    </tr>\n",
       "  </thead>\n",
       "  <tbody>\n",
       "    <tr>\n",
       "      <th>5031</th>\n",
       "      <td>9611-CTWIH</td>\n",
       "      <td>No</td>\n",
       "    </tr>\n",
       "    <tr>\n",
       "      <th>3249</th>\n",
       "      <td>6696-YDAYZ</td>\n",
       "      <td>No</td>\n",
       "    </tr>\n",
       "    <tr>\n",
       "      <th>5138</th>\n",
       "      <td>4396-KLSEH</td>\n",
       "      <td>No</td>\n",
       "    </tr>\n",
       "    <tr>\n",
       "      <th>6089</th>\n",
       "      <td>8182-PNAGI</td>\n",
       "      <td>No</td>\n",
       "    </tr>\n",
       "    <tr>\n",
       "      <th>6354</th>\n",
       "      <td>0639-TSIQW</td>\n",
       "      <td>Yes</td>\n",
       "    </tr>\n",
       "  </tbody>\n",
       "</table>\n",
       "</div>"
      ],
      "text/plain": [
       "      customerid multiplelines\n",
       "5031  9611-CTWIH            No\n",
       "3249  6696-YDAYZ            No\n",
       "5138  4396-KLSEH            No\n",
       "6089  8182-PNAGI            No\n",
       "6354  0639-TSIQW           Yes"
      ]
     },
     "metadata": {},
     "output_type": "display_data"
    },
    {
     "name": "stdout",
     "output_type": "stream",
     "text": [
      "\n",
      "                              Процентное количество пропусков в датасете                              \n",
      "\n",
      "customerid       0.0\n",
      "multiplelines    0.0\n",
      "dtype: float64\n"
     ]
    }
   ],
   "source": [
    "inform(phone, 'Информация об услугах телефонии')"
   ]
  },
  {
   "cell_type": "code",
   "execution_count": 29,
   "id": "31ae98f2",
   "metadata": {},
   "outputs": [
    {
     "name": "stdout",
     "output_type": "stream",
     "text": [
      "                                   Информация об интернет-услугах                                    \n",
      "\n",
      "<class 'pandas.core.frame.DataFrame'>\n",
      "RangeIndex: 5517 entries, 0 to 5516\n",
      "Data columns (total 8 columns):\n",
      " #   Column            Non-Null Count  Dtype \n",
      "---  ------            --------------  ----- \n",
      " 0   customerid        5517 non-null   object\n",
      " 1   internetservice   5517 non-null   object\n",
      " 2   onlinesecurity    5517 non-null   object\n",
      " 3   onlinebackup      5517 non-null   object\n",
      " 4   deviceprotection  5517 non-null   object\n",
      " 5   techsupport       5517 non-null   object\n",
      " 6   streamingtv       5517 non-null   object\n",
      " 7   streamingmovies   5517 non-null   object\n",
      "dtypes: object(8)\n",
      "memory usage: 344.9+ KB\n",
      "\n",
      "                                          Общий вид датасета                                         \n"
     ]
    },
    {
     "data": {
      "text/html": [
       "<div>\n",
       "<style scoped>\n",
       "    .dataframe tbody tr th:only-of-type {\n",
       "        vertical-align: middle;\n",
       "    }\n",
       "\n",
       "    .dataframe tbody tr th {\n",
       "        vertical-align: top;\n",
       "    }\n",
       "\n",
       "    .dataframe thead th {\n",
       "        text-align: right;\n",
       "    }\n",
       "</style>\n",
       "<table border=\"1\" class=\"dataframe\">\n",
       "  <thead>\n",
       "    <tr style=\"text-align: right;\">\n",
       "      <th></th>\n",
       "      <th>customerid</th>\n",
       "      <th>internetservice</th>\n",
       "      <th>onlinesecurity</th>\n",
       "      <th>onlinebackup</th>\n",
       "      <th>deviceprotection</th>\n",
       "      <th>techsupport</th>\n",
       "      <th>streamingtv</th>\n",
       "      <th>streamingmovies</th>\n",
       "    </tr>\n",
       "  </thead>\n",
       "  <tbody>\n",
       "    <tr>\n",
       "      <th>4595</th>\n",
       "      <td>8610-WFCJF</td>\n",
       "      <td>Fiber optic</td>\n",
       "      <td>No</td>\n",
       "      <td>No</td>\n",
       "      <td>No</td>\n",
       "      <td>No</td>\n",
       "      <td>Yes</td>\n",
       "      <td>Yes</td>\n",
       "    </tr>\n",
       "    <tr>\n",
       "      <th>3240</th>\n",
       "      <td>5597-GLBUC</td>\n",
       "      <td>Fiber optic</td>\n",
       "      <td>No</td>\n",
       "      <td>No</td>\n",
       "      <td>Yes</td>\n",
       "      <td>No</td>\n",
       "      <td>Yes</td>\n",
       "      <td>No</td>\n",
       "    </tr>\n",
       "    <tr>\n",
       "      <th>2421</th>\n",
       "      <td>6032-IGALN</td>\n",
       "      <td>DSL</td>\n",
       "      <td>No</td>\n",
       "      <td>No</td>\n",
       "      <td>No</td>\n",
       "      <td>No</td>\n",
       "      <td>No</td>\n",
       "      <td>No</td>\n",
       "    </tr>\n",
       "    <tr>\n",
       "      <th>488</th>\n",
       "      <td>2731-GJRDG</td>\n",
       "      <td>Fiber optic</td>\n",
       "      <td>Yes</td>\n",
       "      <td>No</td>\n",
       "      <td>Yes</td>\n",
       "      <td>Yes</td>\n",
       "      <td>Yes</td>\n",
       "      <td>Yes</td>\n",
       "    </tr>\n",
       "    <tr>\n",
       "      <th>1922</th>\n",
       "      <td>8263-JQAIK</td>\n",
       "      <td>DSL</td>\n",
       "      <td>No</td>\n",
       "      <td>No</td>\n",
       "      <td>No</td>\n",
       "      <td>No</td>\n",
       "      <td>No</td>\n",
       "      <td>No</td>\n",
       "    </tr>\n",
       "  </tbody>\n",
       "</table>\n",
       "</div>"
      ],
      "text/plain": [
       "      customerid internetservice onlinesecurity onlinebackup deviceprotection  \\\n",
       "4595  8610-WFCJF     Fiber optic             No           No               No   \n",
       "3240  5597-GLBUC     Fiber optic             No           No              Yes   \n",
       "2421  6032-IGALN             DSL             No           No               No   \n",
       "488   2731-GJRDG     Fiber optic            Yes           No              Yes   \n",
       "1922  8263-JQAIK             DSL             No           No               No   \n",
       "\n",
       "     techsupport streamingtv streamingmovies  \n",
       "4595          No         Yes             Yes  \n",
       "3240          No         Yes              No  \n",
       "2421          No          No              No  \n",
       "488          Yes         Yes             Yes  \n",
       "1922          No          No              No  "
      ]
     },
     "metadata": {},
     "output_type": "display_data"
    },
    {
     "name": "stdout",
     "output_type": "stream",
     "text": [
      "\n",
      "                              Процентное количество пропусков в датасете                              \n",
      "\n",
      "customerid          0.0\n",
      "internetservice     0.0\n",
      "onlinesecurity      0.0\n",
      "onlinebackup        0.0\n",
      "deviceprotection    0.0\n",
      "techsupport         0.0\n",
      "streamingtv         0.0\n",
      "streamingmovies     0.0\n",
      "dtype: float64\n"
     ]
    }
   ],
   "source": [
    "inform(internet, 'Информация об интернет-услугах')"
   ]
  },
  {
   "cell_type": "markdown",
   "id": "d3f2a738",
   "metadata": {},
   "source": [
    "#### Абоненты пользующиеся интернетом и телефонией"
   ]
  },
  {
   "cell_type": "markdown",
   "id": "e754b961",
   "metadata": {},
   "source": [
    "Рассмотрим абонентов с разными потребностями поближе"
   ]
  },
  {
   "cell_type": "code",
   "execution_count": 30,
   "id": "221bc0c0",
   "metadata": {
    "scrolled": false
   },
   "outputs": [
    {
     "data": {
      "text/html": [
       "<div>\n",
       "<style scoped>\n",
       "    .dataframe tbody tr th:only-of-type {\n",
       "        vertical-align: middle;\n",
       "    }\n",
       "\n",
       "    .dataframe tbody tr th {\n",
       "        vertical-align: top;\n",
       "    }\n",
       "\n",
       "    .dataframe thead th {\n",
       "        text-align: right;\n",
       "    }\n",
       "</style>\n",
       "<table border=\"1\" class=\"dataframe\">\n",
       "  <thead>\n",
       "    <tr style=\"text-align: right;\">\n",
       "      <th></th>\n",
       "      <th>customerid</th>\n",
       "      <th>multiplelines</th>\n",
       "      <th>internetservice</th>\n",
       "      <th>onlinesecurity</th>\n",
       "      <th>onlinebackup</th>\n",
       "      <th>deviceprotection</th>\n",
       "      <th>techsupport</th>\n",
       "      <th>streamingtv</th>\n",
       "      <th>streamingmovies</th>\n",
       "    </tr>\n",
       "  </thead>\n",
       "  <tbody>\n",
       "    <tr>\n",
       "      <th>0</th>\n",
       "      <td>5575-GNVDE</td>\n",
       "      <td>No</td>\n",
       "      <td>DSL</td>\n",
       "      <td>Yes</td>\n",
       "      <td>No</td>\n",
       "      <td>Yes</td>\n",
       "      <td>No</td>\n",
       "      <td>No</td>\n",
       "      <td>No</td>\n",
       "    </tr>\n",
       "    <tr>\n",
       "      <th>1</th>\n",
       "      <td>3668-QPYBK</td>\n",
       "      <td>No</td>\n",
       "      <td>DSL</td>\n",
       "      <td>Yes</td>\n",
       "      <td>Yes</td>\n",
       "      <td>No</td>\n",
       "      <td>No</td>\n",
       "      <td>No</td>\n",
       "      <td>No</td>\n",
       "    </tr>\n",
       "    <tr>\n",
       "      <th>2</th>\n",
       "      <td>9237-HQITU</td>\n",
       "      <td>No</td>\n",
       "      <td>Fiber optic</td>\n",
       "      <td>No</td>\n",
       "      <td>No</td>\n",
       "      <td>No</td>\n",
       "      <td>No</td>\n",
       "      <td>No</td>\n",
       "      <td>No</td>\n",
       "    </tr>\n",
       "    <tr>\n",
       "      <th>3</th>\n",
       "      <td>9305-CDSKC</td>\n",
       "      <td>Yes</td>\n",
       "      <td>Fiber optic</td>\n",
       "      <td>No</td>\n",
       "      <td>No</td>\n",
       "      <td>Yes</td>\n",
       "      <td>No</td>\n",
       "      <td>Yes</td>\n",
       "      <td>Yes</td>\n",
       "    </tr>\n",
       "    <tr>\n",
       "      <th>4</th>\n",
       "      <td>1452-KIOVK</td>\n",
       "      <td>Yes</td>\n",
       "      <td>Fiber optic</td>\n",
       "      <td>No</td>\n",
       "      <td>Yes</td>\n",
       "      <td>No</td>\n",
       "      <td>No</td>\n",
       "      <td>Yes</td>\n",
       "      <td>No</td>\n",
       "    </tr>\n",
       "    <tr>\n",
       "      <th>...</th>\n",
       "      <td>...</td>\n",
       "      <td>...</td>\n",
       "      <td>...</td>\n",
       "      <td>...</td>\n",
       "      <td>...</td>\n",
       "      <td>...</td>\n",
       "      <td>...</td>\n",
       "      <td>...</td>\n",
       "      <td>...</td>\n",
       "    </tr>\n",
       "    <tr>\n",
       "      <th>4830</th>\n",
       "      <td>8456-QDAVC</td>\n",
       "      <td>No</td>\n",
       "      <td>Fiber optic</td>\n",
       "      <td>No</td>\n",
       "      <td>No</td>\n",
       "      <td>No</td>\n",
       "      <td>No</td>\n",
       "      <td>Yes</td>\n",
       "      <td>No</td>\n",
       "    </tr>\n",
       "    <tr>\n",
       "      <th>4831</th>\n",
       "      <td>6840-RESVB</td>\n",
       "      <td>Yes</td>\n",
       "      <td>DSL</td>\n",
       "      <td>Yes</td>\n",
       "      <td>No</td>\n",
       "      <td>Yes</td>\n",
       "      <td>Yes</td>\n",
       "      <td>Yes</td>\n",
       "      <td>Yes</td>\n",
       "    </tr>\n",
       "    <tr>\n",
       "      <th>4832</th>\n",
       "      <td>2234-XADUH</td>\n",
       "      <td>Yes</td>\n",
       "      <td>Fiber optic</td>\n",
       "      <td>No</td>\n",
       "      <td>Yes</td>\n",
       "      <td>Yes</td>\n",
       "      <td>No</td>\n",
       "      <td>Yes</td>\n",
       "      <td>Yes</td>\n",
       "    </tr>\n",
       "    <tr>\n",
       "      <th>4833</th>\n",
       "      <td>8361-LTMKD</td>\n",
       "      <td>Yes</td>\n",
       "      <td>Fiber optic</td>\n",
       "      <td>No</td>\n",
       "      <td>No</td>\n",
       "      <td>No</td>\n",
       "      <td>No</td>\n",
       "      <td>No</td>\n",
       "      <td>No</td>\n",
       "    </tr>\n",
       "    <tr>\n",
       "      <th>4834</th>\n",
       "      <td>3186-AJIEK</td>\n",
       "      <td>No</td>\n",
       "      <td>Fiber optic</td>\n",
       "      <td>Yes</td>\n",
       "      <td>No</td>\n",
       "      <td>Yes</td>\n",
       "      <td>Yes</td>\n",
       "      <td>Yes</td>\n",
       "      <td>Yes</td>\n",
       "    </tr>\n",
       "  </tbody>\n",
       "</table>\n",
       "<p>4835 rows × 9 columns</p>\n",
       "</div>"
      ],
      "text/plain": [
       "      customerid multiplelines internetservice onlinesecurity onlinebackup  \\\n",
       "0     5575-GNVDE            No             DSL            Yes           No   \n",
       "1     3668-QPYBK            No             DSL            Yes          Yes   \n",
       "2     9237-HQITU            No     Fiber optic             No           No   \n",
       "3     9305-CDSKC           Yes     Fiber optic             No           No   \n",
       "4     1452-KIOVK           Yes     Fiber optic             No          Yes   \n",
       "...          ...           ...             ...            ...          ...   \n",
       "4830  8456-QDAVC            No     Fiber optic             No           No   \n",
       "4831  6840-RESVB           Yes             DSL            Yes           No   \n",
       "4832  2234-XADUH           Yes     Fiber optic             No          Yes   \n",
       "4833  8361-LTMKD           Yes     Fiber optic             No           No   \n",
       "4834  3186-AJIEK            No     Fiber optic            Yes           No   \n",
       "\n",
       "     deviceprotection techsupport streamingtv streamingmovies  \n",
       "0                 Yes          No          No              No  \n",
       "1                  No          No          No              No  \n",
       "2                  No          No          No              No  \n",
       "3                 Yes          No         Yes             Yes  \n",
       "4                  No          No         Yes              No  \n",
       "...               ...         ...         ...             ...  \n",
       "4830               No          No         Yes              No  \n",
       "4831              Yes         Yes         Yes             Yes  \n",
       "4832              Yes          No         Yes             Yes  \n",
       "4833               No          No          No              No  \n",
       "4834              Yes         Yes         Yes             Yes  \n",
       "\n",
       "[4835 rows x 9 columns]"
      ]
     },
     "execution_count": 30,
     "metadata": {},
     "output_type": "execute_result"
    }
   ],
   "source": [
    "data_full = phone.merge(internet, how='outer', on='customerid')\n",
    "data_internet_phone = data_full[(data_full['multiplelines'].isnull() == False) & (data_full['internetservice'].isnull() == False)]\n",
    "data_internet_phone.reset_index(drop=True, inplace=True)\n",
    "data_internet_phone"
   ]
  },
  {
   "cell_type": "code",
   "execution_count": 31,
   "id": "923e349f",
   "metadata": {
    "scrolled": true
   },
   "outputs": [
    {
     "name": "stdout",
     "output_type": "stream",
     "text": [
      "Общее количество пользователей 7043 \n",
      "Общее количество уникальных пользователей 7043\n"
     ]
    }
   ],
   "source": [
    "print('Общее количество пользователей', data_full.shape[0],\n",
    "      '\\nОбщее количество уникальных пользователей', len(data_full['customerid'].unique()))"
   ]
  },
  {
   "cell_type": "markdown",
   "id": "5fd6c64f",
   "metadata": {},
   "source": [
    "#### Абоненты с многоканальной телефонией"
   ]
  },
  {
   "cell_type": "code",
   "execution_count": 32,
   "id": "3423708b",
   "metadata": {},
   "outputs": [],
   "source": [
    "data_phone = data_full[(data_full['multiplelines'].isnull() == False) & (data_full['internetservice'].isnull() == True)]"
   ]
  },
  {
   "cell_type": "code",
   "execution_count": 33,
   "id": "935803d8",
   "metadata": {
    "scrolled": false
   },
   "outputs": [
    {
     "data": {
      "text/html": [
       "<div>\n",
       "<style scoped>\n",
       "    .dataframe tbody tr th:only-of-type {\n",
       "        vertical-align: middle;\n",
       "    }\n",
       "\n",
       "    .dataframe tbody tr th {\n",
       "        vertical-align: top;\n",
       "    }\n",
       "\n",
       "    .dataframe thead th {\n",
       "        text-align: right;\n",
       "    }\n",
       "</style>\n",
       "<table border=\"1\" class=\"dataframe\">\n",
       "  <thead>\n",
       "    <tr style=\"text-align: right;\">\n",
       "      <th></th>\n",
       "      <th>customerid</th>\n",
       "      <th>multiplelines</th>\n",
       "    </tr>\n",
       "  </thead>\n",
       "  <tbody>\n",
       "    <tr>\n",
       "      <th>0</th>\n",
       "      <td>7469-LKBCI</td>\n",
       "      <td>No</td>\n",
       "    </tr>\n",
       "    <tr>\n",
       "      <th>1</th>\n",
       "      <td>8191-XWSZG</td>\n",
       "      <td>No</td>\n",
       "    </tr>\n",
       "    <tr>\n",
       "      <th>2</th>\n",
       "      <td>1680-VDCWW</td>\n",
       "      <td>No</td>\n",
       "    </tr>\n",
       "    <tr>\n",
       "      <th>3</th>\n",
       "      <td>1066-JKSGK</td>\n",
       "      <td>No</td>\n",
       "    </tr>\n",
       "    <tr>\n",
       "      <th>4</th>\n",
       "      <td>7310-EGVHZ</td>\n",
       "      <td>No</td>\n",
       "    </tr>\n",
       "    <tr>\n",
       "      <th>...</th>\n",
       "      <td>...</td>\n",
       "      <td>...</td>\n",
       "    </tr>\n",
       "    <tr>\n",
       "      <th>1521</th>\n",
       "      <td>4807-IZYOZ</td>\n",
       "      <td>No</td>\n",
       "    </tr>\n",
       "    <tr>\n",
       "      <th>1522</th>\n",
       "      <td>9710-NJERN</td>\n",
       "      <td>No</td>\n",
       "    </tr>\n",
       "    <tr>\n",
       "      <th>1523</th>\n",
       "      <td>9837-FWLCH</td>\n",
       "      <td>No</td>\n",
       "    </tr>\n",
       "    <tr>\n",
       "      <th>1524</th>\n",
       "      <td>0871-OPBXW</td>\n",
       "      <td>No</td>\n",
       "    </tr>\n",
       "    <tr>\n",
       "      <th>1525</th>\n",
       "      <td>2569-WGERO</td>\n",
       "      <td>No</td>\n",
       "    </tr>\n",
       "  </tbody>\n",
       "</table>\n",
       "<p>1526 rows × 2 columns</p>\n",
       "</div>"
      ],
      "text/plain": [
       "      customerid multiplelines\n",
       "0     7469-LKBCI            No\n",
       "1     8191-XWSZG            No\n",
       "2     1680-VDCWW            No\n",
       "3     1066-JKSGK            No\n",
       "4     7310-EGVHZ            No\n",
       "...          ...           ...\n",
       "1521  4807-IZYOZ            No\n",
       "1522  9710-NJERN            No\n",
       "1523  9837-FWLCH            No\n",
       "1524  0871-OPBXW            No\n",
       "1525  2569-WGERO            No\n",
       "\n",
       "[1526 rows x 2 columns]"
      ]
     },
     "execution_count": 33,
     "metadata": {},
     "output_type": "execute_result"
    }
   ],
   "source": [
    "data_phone = data_phone[['customerid', 'multiplelines']]\n",
    "data_phone.reset_index(drop=True, inplace=True)\n",
    "data_phone"
   ]
  },
  {
   "cell_type": "code",
   "execution_count": 34,
   "id": "ec7cf7db",
   "metadata": {},
   "outputs": [
    {
     "data": {
      "text/plain": [
       "No     1184\n",
       "Yes     342\n",
       "Name: multiplelines, dtype: int64"
      ]
     },
     "execution_count": 34,
     "metadata": {},
     "output_type": "execute_result"
    }
   ],
   "source": [
    "data_phone['multiplelines'].value_counts()"
   ]
  },
  {
   "cell_type": "markdown",
   "id": "c591825a",
   "metadata": {},
   "source": [
    "#### Абоненты пользующиеся интернетом"
   ]
  },
  {
   "cell_type": "code",
   "execution_count": 35,
   "id": "9d24d90a",
   "metadata": {},
   "outputs": [],
   "source": [
    "data_internet = data_full[(data_full['multiplelines'].isnull() == True) & (data_full['internetservice'].isnull() == False)]"
   ]
  },
  {
   "cell_type": "code",
   "execution_count": 36,
   "id": "924df47d",
   "metadata": {},
   "outputs": [
    {
     "data": {
      "text/html": [
       "<div>\n",
       "<style scoped>\n",
       "    .dataframe tbody tr th:only-of-type {\n",
       "        vertical-align: middle;\n",
       "    }\n",
       "\n",
       "    .dataframe tbody tr th {\n",
       "        vertical-align: top;\n",
       "    }\n",
       "\n",
       "    .dataframe thead th {\n",
       "        text-align: right;\n",
       "    }\n",
       "</style>\n",
       "<table border=\"1\" class=\"dataframe\">\n",
       "  <thead>\n",
       "    <tr style=\"text-align: right;\">\n",
       "      <th></th>\n",
       "      <th>customerid</th>\n",
       "      <th>multiplelines</th>\n",
       "      <th>internetservice</th>\n",
       "      <th>onlinesecurity</th>\n",
       "      <th>onlinebackup</th>\n",
       "      <th>deviceprotection</th>\n",
       "      <th>techsupport</th>\n",
       "      <th>streamingtv</th>\n",
       "      <th>streamingmovies</th>\n",
       "    </tr>\n",
       "  </thead>\n",
       "  <tbody>\n",
       "    <tr>\n",
       "      <th>0</th>\n",
       "      <td>7590-VHVEG</td>\n",
       "      <td>No</td>\n",
       "      <td>DSL</td>\n",
       "      <td>No</td>\n",
       "      <td>Yes</td>\n",
       "      <td>No</td>\n",
       "      <td>No</td>\n",
       "      <td>No</td>\n",
       "      <td>No</td>\n",
       "    </tr>\n",
       "    <tr>\n",
       "      <th>1</th>\n",
       "      <td>7795-CFOCW</td>\n",
       "      <td>No</td>\n",
       "      <td>DSL</td>\n",
       "      <td>Yes</td>\n",
       "      <td>No</td>\n",
       "      <td>Yes</td>\n",
       "      <td>Yes</td>\n",
       "      <td>No</td>\n",
       "      <td>No</td>\n",
       "    </tr>\n",
       "    <tr>\n",
       "      <th>2</th>\n",
       "      <td>6713-OKOMC</td>\n",
       "      <td>No</td>\n",
       "      <td>DSL</td>\n",
       "      <td>Yes</td>\n",
       "      <td>No</td>\n",
       "      <td>No</td>\n",
       "      <td>No</td>\n",
       "      <td>No</td>\n",
       "      <td>No</td>\n",
       "    </tr>\n",
       "    <tr>\n",
       "      <th>3</th>\n",
       "      <td>8779-QRDMV</td>\n",
       "      <td>No</td>\n",
       "      <td>DSL</td>\n",
       "      <td>No</td>\n",
       "      <td>No</td>\n",
       "      <td>Yes</td>\n",
       "      <td>No</td>\n",
       "      <td>No</td>\n",
       "      <td>Yes</td>\n",
       "    </tr>\n",
       "    <tr>\n",
       "      <th>4</th>\n",
       "      <td>8665-UTDHZ</td>\n",
       "      <td>No</td>\n",
       "      <td>DSL</td>\n",
       "      <td>No</td>\n",
       "      <td>Yes</td>\n",
       "      <td>No</td>\n",
       "      <td>No</td>\n",
       "      <td>No</td>\n",
       "      <td>No</td>\n",
       "    </tr>\n",
       "    <tr>\n",
       "      <th>...</th>\n",
       "      <td>...</td>\n",
       "      <td>...</td>\n",
       "      <td>...</td>\n",
       "      <td>...</td>\n",
       "      <td>...</td>\n",
       "      <td>...</td>\n",
       "      <td>...</td>\n",
       "      <td>...</td>\n",
       "      <td>...</td>\n",
       "    </tr>\n",
       "    <tr>\n",
       "      <th>677</th>\n",
       "      <td>4501-VCPFK</td>\n",
       "      <td>No</td>\n",
       "      <td>DSL</td>\n",
       "      <td>No</td>\n",
       "      <td>No</td>\n",
       "      <td>Yes</td>\n",
       "      <td>Yes</td>\n",
       "      <td>No</td>\n",
       "      <td>No</td>\n",
       "    </tr>\n",
       "    <tr>\n",
       "      <th>678</th>\n",
       "      <td>2274-XUATA</td>\n",
       "      <td>No</td>\n",
       "      <td>DSL</td>\n",
       "      <td>Yes</td>\n",
       "      <td>Yes</td>\n",
       "      <td>Yes</td>\n",
       "      <td>Yes</td>\n",
       "      <td>Yes</td>\n",
       "      <td>Yes</td>\n",
       "    </tr>\n",
       "    <tr>\n",
       "      <th>679</th>\n",
       "      <td>2235-DWLJU</td>\n",
       "      <td>No</td>\n",
       "      <td>DSL</td>\n",
       "      <td>No</td>\n",
       "      <td>No</td>\n",
       "      <td>No</td>\n",
       "      <td>No</td>\n",
       "      <td>Yes</td>\n",
       "      <td>Yes</td>\n",
       "    </tr>\n",
       "    <tr>\n",
       "      <th>680</th>\n",
       "      <td>7750-EYXWZ</td>\n",
       "      <td>No</td>\n",
       "      <td>DSL</td>\n",
       "      <td>No</td>\n",
       "      <td>Yes</td>\n",
       "      <td>Yes</td>\n",
       "      <td>Yes</td>\n",
       "      <td>Yes</td>\n",
       "      <td>Yes</td>\n",
       "    </tr>\n",
       "    <tr>\n",
       "      <th>681</th>\n",
       "      <td>4801-JZAZL</td>\n",
       "      <td>No</td>\n",
       "      <td>DSL</td>\n",
       "      <td>Yes</td>\n",
       "      <td>No</td>\n",
       "      <td>No</td>\n",
       "      <td>No</td>\n",
       "      <td>No</td>\n",
       "      <td>No</td>\n",
       "    </tr>\n",
       "  </tbody>\n",
       "</table>\n",
       "<p>682 rows × 9 columns</p>\n",
       "</div>"
      ],
      "text/plain": [
       "     customerid multiplelines internetservice onlinesecurity onlinebackup  \\\n",
       "0    7590-VHVEG            No             DSL             No          Yes   \n",
       "1    7795-CFOCW            No             DSL            Yes           No   \n",
       "2    6713-OKOMC            No             DSL            Yes           No   \n",
       "3    8779-QRDMV            No             DSL             No           No   \n",
       "4    8665-UTDHZ            No             DSL             No          Yes   \n",
       "..          ...           ...             ...            ...          ...   \n",
       "677  4501-VCPFK            No             DSL             No           No   \n",
       "678  2274-XUATA            No             DSL            Yes          Yes   \n",
       "679  2235-DWLJU            No             DSL             No           No   \n",
       "680  7750-EYXWZ            No             DSL             No          Yes   \n",
       "681  4801-JZAZL            No             DSL            Yes           No   \n",
       "\n",
       "    deviceprotection techsupport streamingtv streamingmovies  \n",
       "0                 No          No          No              No  \n",
       "1                Yes         Yes          No              No  \n",
       "2                 No          No          No              No  \n",
       "3                Yes          No          No             Yes  \n",
       "4                 No          No          No              No  \n",
       "..               ...         ...         ...             ...  \n",
       "677              Yes         Yes          No              No  \n",
       "678              Yes         Yes         Yes             Yes  \n",
       "679               No          No         Yes             Yes  \n",
       "680              Yes         Yes         Yes             Yes  \n",
       "681               No          No          No              No  \n",
       "\n",
       "[682 rows x 9 columns]"
      ]
     },
     "execution_count": 36,
     "metadata": {},
     "output_type": "execute_result"
    }
   ],
   "source": [
    "data_internet.reset_index(drop=True, inplace=True)\n",
    "data_internet['multiplelines'] = 'No'\n",
    "data_internet"
   ]
  },
  {
   "cell_type": "code",
   "execution_count": 37,
   "id": "f58c35a9",
   "metadata": {
    "scrolled": false
   },
   "outputs": [
    {
     "data": {
      "text/plain": [
       "DSL    682\n",
       "Name: internetservice, dtype: int64"
      ]
     },
     "execution_count": 37,
     "metadata": {},
     "output_type": "execute_result"
    }
   ],
   "source": [
    "data_internet['internetservice'].value_counts()"
   ]
  },
  {
   "cell_type": "markdown",
   "id": "edb6ce48",
   "metadata": {},
   "source": [
    "О телефонной связи: будем считать, что у всех абонентов с DSL услуга телефонии есть по умолчанию. А у абонентов с оптикой, у всех есть подключение одной или более линии связи. Т.е  все абоненты подключены к услугам голосовой связи.\n",
    "\n",
    "Выделим признак факт наличия/отсутствия интернет услуги."
   ]
  },
  {
   "cell_type": "markdown",
   "id": "5522842e",
   "metadata": {},
   "source": [
    "#### Обработка итоговой таблицы интернет и телефонии"
   ]
  },
  {
   "cell_type": "markdown",
   "id": "1b7b0dd7",
   "metadata": {},
   "source": [
    "В итоговой таблице по услугам предоставления интернета и телефонии, будем учитывать только факт наличия/отсутствия интернет услуги, при условии что телефония есть у всех (описал выше). Остальная информация не несёт важной нагрузки."
   ]
  },
  {
   "cell_type": "code",
   "execution_count": 38,
   "id": "343eb3ac",
   "metadata": {},
   "outputs": [
    {
     "data": {
      "text/html": [
       "<div>\n",
       "<style scoped>\n",
       "    .dataframe tbody tr th:only-of-type {\n",
       "        vertical-align: middle;\n",
       "    }\n",
       "\n",
       "    .dataframe tbody tr th {\n",
       "        vertical-align: top;\n",
       "    }\n",
       "\n",
       "    .dataframe thead th {\n",
       "        text-align: right;\n",
       "    }\n",
       "</style>\n",
       "<table border=\"1\" class=\"dataframe\">\n",
       "  <thead>\n",
       "    <tr style=\"text-align: right;\">\n",
       "      <th></th>\n",
       "      <th>customerid</th>\n",
       "      <th>internetservice</th>\n",
       "    </tr>\n",
       "  </thead>\n",
       "  <tbody>\n",
       "    <tr>\n",
       "      <th>0</th>\n",
       "      <td>5575-GNVDE</td>\n",
       "      <td>1</td>\n",
       "    </tr>\n",
       "    <tr>\n",
       "      <th>1</th>\n",
       "      <td>3668-QPYBK</td>\n",
       "      <td>1</td>\n",
       "    </tr>\n",
       "    <tr>\n",
       "      <th>2</th>\n",
       "      <td>9237-HQITU</td>\n",
       "      <td>1</td>\n",
       "    </tr>\n",
       "    <tr>\n",
       "      <th>3</th>\n",
       "      <td>9305-CDSKC</td>\n",
       "      <td>1</td>\n",
       "    </tr>\n",
       "    <tr>\n",
       "      <th>4</th>\n",
       "      <td>1452-KIOVK</td>\n",
       "      <td>1</td>\n",
       "    </tr>\n",
       "    <tr>\n",
       "      <th>...</th>\n",
       "      <td>...</td>\n",
       "      <td>...</td>\n",
       "    </tr>\n",
       "    <tr>\n",
       "      <th>7038</th>\n",
       "      <td>4501-VCPFK</td>\n",
       "      <td>1</td>\n",
       "    </tr>\n",
       "    <tr>\n",
       "      <th>7039</th>\n",
       "      <td>2274-XUATA</td>\n",
       "      <td>1</td>\n",
       "    </tr>\n",
       "    <tr>\n",
       "      <th>7040</th>\n",
       "      <td>2235-DWLJU</td>\n",
       "      <td>1</td>\n",
       "    </tr>\n",
       "    <tr>\n",
       "      <th>7041</th>\n",
       "      <td>7750-EYXWZ</td>\n",
       "      <td>1</td>\n",
       "    </tr>\n",
       "    <tr>\n",
       "      <th>7042</th>\n",
       "      <td>4801-JZAZL</td>\n",
       "      <td>1</td>\n",
       "    </tr>\n",
       "  </tbody>\n",
       "</table>\n",
       "<p>7043 rows × 2 columns</p>\n",
       "</div>"
      ],
      "text/plain": [
       "      customerid  internetservice\n",
       "0     5575-GNVDE                1\n",
       "1     3668-QPYBK                1\n",
       "2     9237-HQITU                1\n",
       "3     9305-CDSKC                1\n",
       "4     1452-KIOVK                1\n",
       "...          ...              ...\n",
       "7038  4501-VCPFK                1\n",
       "7039  2274-XUATA                1\n",
       "7040  2235-DWLJU                1\n",
       "7041  7750-EYXWZ                1\n",
       "7042  4801-JZAZL                1\n",
       "\n",
       "[7043 rows x 2 columns]"
      ]
     },
     "execution_count": 38,
     "metadata": {},
     "output_type": "execute_result"
    }
   ],
   "source": [
    "data_full['internetservice'].fillna(0, inplace=True)\n",
    "data_full['internetservice'] = data_full['internetservice'].apply(lambda x: x if x==0 else 1)\n",
    "data_internet_phone = data_full[['customerid', 'internetservice']]\n",
    "data_internet_phone"
   ]
  },
  {
   "cell_type": "markdown",
   "id": "5fb2f452",
   "metadata": {},
   "source": [
    "## Слияние таблиц"
   ]
  },
  {
   "cell_type": "code",
   "execution_count": 39,
   "id": "c128fd49",
   "metadata": {},
   "outputs": [
    {
     "data": {
      "text/html": [
       "<div>\n",
       "<style scoped>\n",
       "    .dataframe tbody tr th:only-of-type {\n",
       "        vertical-align: middle;\n",
       "    }\n",
       "\n",
       "    .dataframe tbody tr th {\n",
       "        vertical-align: top;\n",
       "    }\n",
       "\n",
       "    .dataframe thead th {\n",
       "        text-align: right;\n",
       "    }\n",
       "</style>\n",
       "<table border=\"1\" class=\"dataframe\">\n",
       "  <thead>\n",
       "    <tr style=\"text-align: right;\">\n",
       "      <th></th>\n",
       "      <th>type</th>\n",
       "      <th>monthlycharges</th>\n",
       "      <th>totalcharges</th>\n",
       "      <th>month_begin</th>\n",
       "      <th>month_end</th>\n",
       "      <th>target</th>\n",
       "      <th>life_time</th>\n",
       "      <th>internetservice</th>\n",
       "      <th>gender</th>\n",
       "      <th>seniorcitizen</th>\n",
       "      <th>partner</th>\n",
       "      <th>dependents</th>\n",
       "    </tr>\n",
       "  </thead>\n",
       "  <tbody>\n",
       "    <tr>\n",
       "      <th>0</th>\n",
       "      <td>1</td>\n",
       "      <td>29.85</td>\n",
       "      <td>29.85</td>\n",
       "      <td>1</td>\n",
       "      <td>0</td>\n",
       "      <td>0</td>\n",
       "      <td>31</td>\n",
       "      <td>1</td>\n",
       "      <td>Female</td>\n",
       "      <td>0</td>\n",
       "      <td>Yes</td>\n",
       "      <td>No</td>\n",
       "    </tr>\n",
       "    <tr>\n",
       "      <th>1</th>\n",
       "      <td>12</td>\n",
       "      <td>56.95</td>\n",
       "      <td>1889.50</td>\n",
       "      <td>4</td>\n",
       "      <td>0</td>\n",
       "      <td>0</td>\n",
       "      <td>1036</td>\n",
       "      <td>1</td>\n",
       "      <td>Male</td>\n",
       "      <td>0</td>\n",
       "      <td>No</td>\n",
       "      <td>No</td>\n",
       "    </tr>\n",
       "    <tr>\n",
       "      <th>2</th>\n",
       "      <td>1</td>\n",
       "      <td>53.85</td>\n",
       "      <td>108.15</td>\n",
       "      <td>10</td>\n",
       "      <td>12</td>\n",
       "      <td>1</td>\n",
       "      <td>61</td>\n",
       "      <td>1</td>\n",
       "      <td>Male</td>\n",
       "      <td>0</td>\n",
       "      <td>No</td>\n",
       "      <td>No</td>\n",
       "    </tr>\n",
       "    <tr>\n",
       "      <th>3</th>\n",
       "      <td>12</td>\n",
       "      <td>42.30</td>\n",
       "      <td>1840.75</td>\n",
       "      <td>5</td>\n",
       "      <td>0</td>\n",
       "      <td>0</td>\n",
       "      <td>1371</td>\n",
       "      <td>1</td>\n",
       "      <td>Male</td>\n",
       "      <td>0</td>\n",
       "      <td>No</td>\n",
       "      <td>No</td>\n",
       "    </tr>\n",
       "    <tr>\n",
       "      <th>4</th>\n",
       "      <td>1</td>\n",
       "      <td>70.70</td>\n",
       "      <td>151.65</td>\n",
       "      <td>9</td>\n",
       "      <td>11</td>\n",
       "      <td>1</td>\n",
       "      <td>61</td>\n",
       "      <td>1</td>\n",
       "      <td>Female</td>\n",
       "      <td>0</td>\n",
       "      <td>No</td>\n",
       "      <td>No</td>\n",
       "    </tr>\n",
       "    <tr>\n",
       "      <th>...</th>\n",
       "      <td>...</td>\n",
       "      <td>...</td>\n",
       "      <td>...</td>\n",
       "      <td>...</td>\n",
       "      <td>...</td>\n",
       "      <td>...</td>\n",
       "      <td>...</td>\n",
       "      <td>...</td>\n",
       "      <td>...</td>\n",
       "      <td>...</td>\n",
       "      <td>...</td>\n",
       "      <td>...</td>\n",
       "    </tr>\n",
       "    <tr>\n",
       "      <th>7027</th>\n",
       "      <td>12</td>\n",
       "      <td>84.80</td>\n",
       "      <td>1990.50</td>\n",
       "      <td>2</td>\n",
       "      <td>0</td>\n",
       "      <td>0</td>\n",
       "      <td>730</td>\n",
       "      <td>1</td>\n",
       "      <td>Male</td>\n",
       "      <td>0</td>\n",
       "      <td>Yes</td>\n",
       "      <td>Yes</td>\n",
       "    </tr>\n",
       "    <tr>\n",
       "      <th>7028</th>\n",
       "      <td>12</td>\n",
       "      <td>103.20</td>\n",
       "      <td>7362.90</td>\n",
       "      <td>2</td>\n",
       "      <td>0</td>\n",
       "      <td>0</td>\n",
       "      <td>2191</td>\n",
       "      <td>1</td>\n",
       "      <td>Female</td>\n",
       "      <td>0</td>\n",
       "      <td>Yes</td>\n",
       "      <td>Yes</td>\n",
       "    </tr>\n",
       "    <tr>\n",
       "      <th>7029</th>\n",
       "      <td>1</td>\n",
       "      <td>29.60</td>\n",
       "      <td>346.45</td>\n",
       "      <td>3</td>\n",
       "      <td>0</td>\n",
       "      <td>0</td>\n",
       "      <td>337</td>\n",
       "      <td>1</td>\n",
       "      <td>Female</td>\n",
       "      <td>0</td>\n",
       "      <td>Yes</td>\n",
       "      <td>Yes</td>\n",
       "    </tr>\n",
       "    <tr>\n",
       "      <th>7030</th>\n",
       "      <td>1</td>\n",
       "      <td>74.40</td>\n",
       "      <td>306.60</td>\n",
       "      <td>7</td>\n",
       "      <td>11</td>\n",
       "      <td>1</td>\n",
       "      <td>123</td>\n",
       "      <td>1</td>\n",
       "      <td>Male</td>\n",
       "      <td>1</td>\n",
       "      <td>Yes</td>\n",
       "      <td>No</td>\n",
       "    </tr>\n",
       "    <tr>\n",
       "      <th>7031</th>\n",
       "      <td>24</td>\n",
       "      <td>105.65</td>\n",
       "      <td>6844.50</td>\n",
       "      <td>8</td>\n",
       "      <td>0</td>\n",
       "      <td>0</td>\n",
       "      <td>2010</td>\n",
       "      <td>1</td>\n",
       "      <td>Male</td>\n",
       "      <td>0</td>\n",
       "      <td>No</td>\n",
       "      <td>No</td>\n",
       "    </tr>\n",
       "  </tbody>\n",
       "</table>\n",
       "<p>7032 rows × 12 columns</p>\n",
       "</div>"
      ],
      "text/plain": [
       "      type  monthlycharges  totalcharges  month_begin  month_end  target  \\\n",
       "0        1           29.85         29.85            1          0       0   \n",
       "1       12           56.95       1889.50            4          0       0   \n",
       "2        1           53.85        108.15           10         12       1   \n",
       "3       12           42.30       1840.75            5          0       0   \n",
       "4        1           70.70        151.65            9         11       1   \n",
       "...    ...             ...           ...          ...        ...     ...   \n",
       "7027    12           84.80       1990.50            2          0       0   \n",
       "7028    12          103.20       7362.90            2          0       0   \n",
       "7029     1           29.60        346.45            3          0       0   \n",
       "7030     1           74.40        306.60            7         11       1   \n",
       "7031    24          105.65       6844.50            8          0       0   \n",
       "\n",
       "      life_time  internetservice  gender  seniorcitizen partner dependents  \n",
       "0            31                1  Female              0     Yes         No  \n",
       "1          1036                1    Male              0      No         No  \n",
       "2            61                1    Male              0      No         No  \n",
       "3          1371                1    Male              0      No         No  \n",
       "4            61                1  Female              0      No         No  \n",
       "...         ...              ...     ...            ...     ...        ...  \n",
       "7027        730                1    Male              0     Yes        Yes  \n",
       "7028       2191                1  Female              0     Yes        Yes  \n",
       "7029        337                1  Female              0     Yes        Yes  \n",
       "7030        123                1    Male              1     Yes         No  \n",
       "7031       2010                1    Male              0      No         No  \n",
       "\n",
       "[7032 rows x 12 columns]"
      ]
     },
     "execution_count": 39,
     "metadata": {},
     "output_type": "execute_result"
    }
   ],
   "source": [
    "df = contract.merge(data_internet_phone, how='left', on='customerid') # присоединим данные от таблицы интернет и телефония\n",
    "df = df.merge(personal_data, how='left', on='customerid') # присоединим персональные данные об абонентах\n",
    "df.drop(columns=['customerid'], inplace=True) # удалим идентификационный признак\n",
    "df"
   ]
  },
  {
   "cell_type": "markdown",
   "id": "aef0fc50",
   "metadata": {},
   "source": [
    "## Анализ итоговой таблицы"
   ]
  },
  {
   "cell_type": "markdown",
   "id": "7aa304a7",
   "metadata": {},
   "source": [
    "Проанализируем данные итоговой таблицы"
   ]
  },
  {
   "cell_type": "code",
   "execution_count": 40,
   "id": "00dfa51d",
   "metadata": {},
   "outputs": [
    {
     "data": {
      "image/png": "[encoded data removed]",
      "text/plain": [
       "<Figure size 800x560 with 2 Axes>"
      ]
     },
     "metadata": {
      "needs_background": "light"
     },
     "output_type": "display_data"
    }
   ],
   "source": [
    "plt.figure(figsize=(10,7), dpi= 80);\n",
    "sns.heatmap(\n",
    "    df.corr(),\n",
    "    xticklabels=df.corr().columns,\n",
    "    yticklabels=df.corr().columns,\n",
    "    cmap='RdYlGn', center=0, annot=True);\n",
    "plt.title('Тепловая диаграмма корреляции численных значений таблицы');"
   ]
  },
  {
   "cell_type": "code",
   "execution_count": 41,
   "id": "c428db27",
   "metadata": {},
   "outputs": [],
   "source": [
    "# Зависимость пола на расторжение договора"
   ]
  },
  {
   "cell_type": "code",
   "execution_count": 42,
   "id": "b36214a9",
   "metadata": {
    "scrolled": true
   },
   "outputs": [
    {
     "data": {
      "image/png": "[encoded data removed]",
      "text/plain": [
       "<Figure size 432x288 with 1 Axes>"
      ]
     },
     "metadata": {
      "needs_background": "light"
     },
     "output_type": "display_data"
    }
   ],
   "source": [
    "sns.histplot(data = df, x='gender', stat='density', hue='target');"
   ]
  },
  {
   "cell_type": "markdown",
   "id": "00f19dc0",
   "metadata": {},
   "source": [
    "Мужчины и женщины практически одинаково заключают и расторгают договор, данный признак исключим из итогового датасета."
   ]
  },
  {
   "cell_type": "code",
   "execution_count": 43,
   "id": "a51aaf88",
   "metadata": {},
   "outputs": [],
   "source": [
    "# Зависимость возрастной группы на расторжение договора"
   ]
  },
  {
   "cell_type": "code",
   "execution_count": 44,
   "id": "767d02b2",
   "metadata": {
    "scrolled": false
   },
   "outputs": [
    {
     "data": {
      "image/png": "[encoded data removed]",
      "text/plain": [
       "<Figure size 432x288 with 1 Axes>"
      ]
     },
     "metadata": {
      "needs_background": "light"
     },
     "output_type": "display_data"
    }
   ],
   "source": [
    "sns.histplot(data = df, x='seniorcitizen', stat='density', hue='target', discrete=True);"
   ]
  },
  {
   "cell_type": "markdown",
   "id": "dda4b677",
   "metadata": {},
   "source": [
    "Абонентов пожилого возраста гораздо меньше более молодого поколения, но данная группа абонентов более лояльна."
   ]
  },
  {
   "cell_type": "code",
   "execution_count": 45,
   "id": "96ab7631",
   "metadata": {},
   "outputs": [
    {
     "data": {
      "image/png": "[encoded data removed]",
      "text/plain": [
       "<Figure size 432x288 with 1 Axes>"
      ]
     },
     "metadata": {
      "needs_background": "light"
     },
     "output_type": "display_data"
    }
   ],
   "source": [
    "sns.histplot(data = df, x='internetservice', stat='density', hue='target', discrete=True);"
   ]
  },
  {
   "cell_type": "markdown",
   "id": "6efbaa15",
   "metadata": {},
   "source": [
    "В какие месяцы расторгали договор."
   ]
  },
  {
   "cell_type": "code",
   "execution_count": 46,
   "id": "10095bcd",
   "metadata": {
    "scrolled": false
   },
   "outputs": [
    {
     "data": {
      "image/png": "[encoded data removed]",
      "text/plain": [
       "<Figure size 432x288 with 1 Axes>"
      ]
     },
     "metadata": {
      "needs_background": "light"
     },
     "output_type": "display_data"
    }
   ],
   "source": [
    "sns.histplot(data = df[df['month_end'] > 0], x='month_end', stat='density', discrete=True);"
   ]
  },
  {
   "cell_type": "markdown",
   "id": "81f94656",
   "metadata": {},
   "source": [
    "Договора расторгали в январе, октябре, ноябре и декабре. Скидки, новые предложения от конкурентов, более выгодные тарифы можно рассматривать как возможные причины."
   ]
  },
  {
   "cell_type": "markdown",
   "id": "4ff5828c",
   "metadata": {},
   "source": [
    "Распределение целевого признака:"
   ]
  },
  {
   "cell_type": "code",
   "execution_count": 47,
   "id": "adfa24d6",
   "metadata": {
    "scrolled": false
   },
   "outputs": [
    {
     "data": {
      "image/png": "[encoded data removed]",
      "text/plain": [
       "<Figure size 432x288 with 1 Axes>"
      ]
     },
     "metadata": {
      "needs_background": "light"
     },
     "output_type": "display_data"
    }
   ],
   "source": [
    "sns.histplot(data = df, x='target', stat='density', discrete=True);"
   ]
  },
  {
   "cell_type": "markdown",
   "id": "0c730b15",
   "metadata": {},
   "source": [
    "Присутствует дисбаланс классов, учтем эту информацию при обучении."
   ]
  },
  {
   "cell_type": "markdown",
   "id": "2bd4e89c",
   "metadata": {},
   "source": [
    "Как влияет признак партнера на расторжение договора:"
   ]
  },
  {
   "cell_type": "code",
   "execution_count": 48,
   "id": "e9eb4493",
   "metadata": {
    "scrolled": true
   },
   "outputs": [
    {
     "data": {
      "image/png": "[encoded data removed]",
      "text/plain": [
       "<Figure size 432x288 with 1 Axes>"
      ]
     },
     "metadata": {
      "needs_background": "light"
     },
     "output_type": "display_data"
    }
   ],
   "source": [
    "sns.histplot(data = df, x='partner', stat='density', hue='target', discrete=True);"
   ]
  },
  {
   "cell_type": "markdown",
   "id": "b6cd70c6",
   "metadata": {},
   "source": [
    "Парнеты более лояльны к оператору. Партнеры являются стабильной составляющей для компании, их больше чем абонентов пришедших из других каналов привлечения, и они реже расторгают договор."
   ]
  },
  {
   "cell_type": "markdown",
   "id": "7fb8779e",
   "metadata": {},
   "source": [
    "Как влияет признак dependents на расторжение договора:"
   ]
  },
  {
   "cell_type": "code",
   "execution_count": 49,
   "id": "a20db4c8",
   "metadata": {
    "scrolled": true
   },
   "outputs": [
    {
     "data": {
      "image/png": "[encoded data removed]",
      "text/plain": [
       "<Figure size 432x288 with 1 Axes>"
      ]
     },
     "metadata": {
      "needs_background": "light"
     },
     "output_type": "display_data"
    }
   ],
   "source": [
    "sns.histplot(data = df, x='dependents', stat='density', hue='target', discrete=True);"
   ]
  },
  {
   "cell_type": "markdown",
   "id": "fd42c0fe",
   "metadata": {},
   "source": [
    "Некоторая категория иждевенцев или госслужащих, не является многочисленной, но так же крайне лояльна к оператору связи."
   ]
  },
  {
   "cell_type": "code",
   "execution_count": 50,
   "id": "2e465d3e",
   "metadata": {},
   "outputs": [],
   "source": [
    "for col in ['partner', 'dependents']:\n",
    "    df[col] = df[col].apply(lambda x: 1 if x=='Yes' else 0)"
   ]
  },
  {
   "cell_type": "markdown",
   "id": "2b3255be",
   "metadata": {},
   "source": [
    "Удалим признаки о которых говорилось ранее"
   ]
  },
  {
   "cell_type": "code",
   "execution_count": 51,
   "id": "5697f35e",
   "metadata": {},
   "outputs": [],
   "source": [
    "df.drop(columns=['month_end', 'month_begin', 'gender', 'totalcharges'], inplace=True)"
   ]
  },
  {
   "cell_type": "markdown",
   "id": "cc4f1abd",
   "metadata": {},
   "source": [
    "## Итог анализа данных"
   ]
  },
  {
   "cell_type": "markdown",
   "id": "7c28a3b6",
   "metadata": {},
   "source": [
    "Данные подготовлены, не влияющие признаки, либо наоборот сильно коррелирующие признаки были исключены. Было удалено всего 11 абонентов подключившихся в феврале 2020 года."
   ]
  },
  {
   "cell_type": "markdown",
   "id": "33f0ccf7",
   "metadata": {},
   "source": [
    "# Обучение моделей"
   ]
  },
  {
   "cell_type": "markdown",
   "id": "0f42fbed",
   "metadata": {},
   "source": [
    "## Деление на выборки"
   ]
  },
  {
   "cell_type": "code",
   "execution_count": 52,
   "id": "c968d1fd",
   "metadata": {
    "scrolled": false
   },
   "outputs": [
    {
     "data": {
      "text/html": [
       "<div>\n",
       "<style scoped>\n",
       "    .dataframe tbody tr th:only-of-type {\n",
       "        vertical-align: middle;\n",
       "    }\n",
       "\n",
       "    .dataframe tbody tr th {\n",
       "        vertical-align: top;\n",
       "    }\n",
       "\n",
       "    .dataframe thead th {\n",
       "        text-align: right;\n",
       "    }\n",
       "</style>\n",
       "<table border=\"1\" class=\"dataframe\">\n",
       "  <thead>\n",
       "    <tr style=\"text-align: right;\">\n",
       "      <th></th>\n",
       "      <th>type</th>\n",
       "      <th>monthlycharges</th>\n",
       "      <th>life_time</th>\n",
       "      <th>internetservice</th>\n",
       "      <th>seniorcitizen</th>\n",
       "      <th>partner</th>\n",
       "      <th>dependents</th>\n",
       "    </tr>\n",
       "  </thead>\n",
       "  <tbody>\n",
       "    <tr>\n",
       "      <th>0</th>\n",
       "      <td>1</td>\n",
       "      <td>29.85</td>\n",
       "      <td>31</td>\n",
       "      <td>1</td>\n",
       "      <td>0</td>\n",
       "      <td>1</td>\n",
       "      <td>0</td>\n",
       "    </tr>\n",
       "    <tr>\n",
       "      <th>1</th>\n",
       "      <td>12</td>\n",
       "      <td>56.95</td>\n",
       "      <td>1036</td>\n",
       "      <td>1</td>\n",
       "      <td>0</td>\n",
       "      <td>0</td>\n",
       "      <td>0</td>\n",
       "    </tr>\n",
       "    <tr>\n",
       "      <th>2</th>\n",
       "      <td>1</td>\n",
       "      <td>53.85</td>\n",
       "      <td>61</td>\n",
       "      <td>1</td>\n",
       "      <td>0</td>\n",
       "      <td>0</td>\n",
       "      <td>0</td>\n",
       "    </tr>\n",
       "    <tr>\n",
       "      <th>3</th>\n",
       "      <td>12</td>\n",
       "      <td>42.30</td>\n",
       "      <td>1371</td>\n",
       "      <td>1</td>\n",
       "      <td>0</td>\n",
       "      <td>0</td>\n",
       "      <td>0</td>\n",
       "    </tr>\n",
       "    <tr>\n",
       "      <th>4</th>\n",
       "      <td>1</td>\n",
       "      <td>70.70</td>\n",
       "      <td>61</td>\n",
       "      <td>1</td>\n",
       "      <td>0</td>\n",
       "      <td>0</td>\n",
       "      <td>0</td>\n",
       "    </tr>\n",
       "    <tr>\n",
       "      <th>...</th>\n",
       "      <td>...</td>\n",
       "      <td>...</td>\n",
       "      <td>...</td>\n",
       "      <td>...</td>\n",
       "      <td>...</td>\n",
       "      <td>...</td>\n",
       "      <td>...</td>\n",
       "    </tr>\n",
       "    <tr>\n",
       "      <th>7027</th>\n",
       "      <td>12</td>\n",
       "      <td>84.80</td>\n",
       "      <td>730</td>\n",
       "      <td>1</td>\n",
       "      <td>0</td>\n",
       "      <td>1</td>\n",
       "      <td>1</td>\n",
       "    </tr>\n",
       "    <tr>\n",
       "      <th>7028</th>\n",
       "      <td>12</td>\n",
       "      <td>103.20</td>\n",
       "      <td>2191</td>\n",
       "      <td>1</td>\n",
       "      <td>0</td>\n",
       "      <td>1</td>\n",
       "      <td>1</td>\n",
       "    </tr>\n",
       "    <tr>\n",
       "      <th>7029</th>\n",
       "      <td>1</td>\n",
       "      <td>29.60</td>\n",
       "      <td>337</td>\n",
       "      <td>1</td>\n",
       "      <td>0</td>\n",
       "      <td>1</td>\n",
       "      <td>1</td>\n",
       "    </tr>\n",
       "    <tr>\n",
       "      <th>7030</th>\n",
       "      <td>1</td>\n",
       "      <td>74.40</td>\n",
       "      <td>123</td>\n",
       "      <td>1</td>\n",
       "      <td>1</td>\n",
       "      <td>1</td>\n",
       "      <td>0</td>\n",
       "    </tr>\n",
       "    <tr>\n",
       "      <th>7031</th>\n",
       "      <td>24</td>\n",
       "      <td>105.65</td>\n",
       "      <td>2010</td>\n",
       "      <td>1</td>\n",
       "      <td>0</td>\n",
       "      <td>0</td>\n",
       "      <td>0</td>\n",
       "    </tr>\n",
       "  </tbody>\n",
       "</table>\n",
       "<p>7032 rows × 7 columns</p>\n",
       "</div>"
      ],
      "text/plain": [
       "      type  monthlycharges  life_time  internetservice  seniorcitizen  \\\n",
       "0        1           29.85         31                1              0   \n",
       "1       12           56.95       1036                1              0   \n",
       "2        1           53.85         61                1              0   \n",
       "3       12           42.30       1371                1              0   \n",
       "4        1           70.70         61                1              0   \n",
       "...    ...             ...        ...              ...            ...   \n",
       "7027    12           84.80        730                1              0   \n",
       "7028    12          103.20       2191                1              0   \n",
       "7029     1           29.60        337                1              0   \n",
       "7030     1           74.40        123                1              1   \n",
       "7031    24          105.65       2010                1              0   \n",
       "\n",
       "      partner  dependents  \n",
       "0           1           0  \n",
       "1           0           0  \n",
       "2           0           0  \n",
       "3           0           0  \n",
       "4           0           0  \n",
       "...       ...         ...  \n",
       "7027        1           1  \n",
       "7028        1           1  \n",
       "7029        1           1  \n",
       "7030        1           0  \n",
       "7031        0           0  \n",
       "\n",
       "[7032 rows x 7 columns]"
      ]
     },
     "execution_count": 52,
     "metadata": {},
     "output_type": "execute_result"
    }
   ],
   "source": [
    "features = df.drop(columns='target')\n",
    "target = df['target']\n",
    "\n",
    "features"
   ]
  },
  {
   "cell_type": "code",
   "execution_count": 53,
   "id": "89ccf90c",
   "metadata": {},
   "outputs": [],
   "source": [
    "features_train, features_valid_test, target_train, target_valid_test = \\\n",
    "train_test_split(features, target, test_size=0.4, random_state=12345, stratify=target) \n",
    "\n",
    "features_valid, features_test, target_valid, target_test = \\\n",
    "train_test_split(features_valid_test, target_valid_test, test_size=0.5, random_state=12345, stratify=target_valid_test)"
   ]
  },
  {
   "cell_type": "code",
   "execution_count": 54,
   "id": "9213b3da",
   "metadata": {},
   "outputs": [],
   "source": [
    "numeric = ['monthlycharges', 'life_time']  \n",
    "sc = StandardScaler()\n",
    "sc.fit(features_train[numeric])\n",
    "features_train[numeric] = sc.transform(features_train[numeric])\n",
    "features_valid[numeric] = sc.transform(features_valid[numeric])"
   ]
  },
  {
   "cell_type": "markdown",
   "id": "099ea73e",
   "metadata": {},
   "source": [
    "На выходе 3 выборки для обучения, оценки и тестирования модели. Численные признаки отмасштабировали. Можно переходить к обучению."
   ]
  },
  {
   "cell_type": "markdown",
   "id": "b1be1f45",
   "metadata": {},
   "source": [
    "## Подбор моделей"
   ]
  },
  {
   "cell_type": "markdown",
   "id": "9be20c5a",
   "metadata": {},
   "source": [
    "### LogisticRegression"
   ]
  },
  {
   "cell_type": "code",
   "execution_count": 55,
   "id": "ea3db4fd",
   "metadata": {},
   "outputs": [
    {
     "name": "stdout",
     "output_type": "stream",
     "text": [
      "Значение accuracy = 0.7446657183499289 Значение f1_score = 0.6279792746113989\n"
     ]
    }
   ],
   "source": [
    "lr = LogisticRegression(random_state=12345, \n",
    "                           solver='liblinear',\n",
    "                           class_weight='balanced'\n",
    "                          )\n",
    "lr.fit(features_train, target_train)\n",
    "predicted_valid = lr.predict(features_valid)\n",
    "print(f'Значение accuracy = {accuracy_score(target_valid, predicted_valid)} Значение f1_score = {f1_score(target_valid, predicted_valid)}')"
   ]
  },
  {
   "cell_type": "code",
   "execution_count": 56,
   "id": "0fb566dc",
   "metadata": {},
   "outputs": [
    {
     "name": "stdout",
     "output_type": "stream",
     "text": [
      "auc_roc = 0.8367338743108237\n"
     ]
    }
   ],
   "source": [
    "probabilities_valid = lr.predict_proba(features_valid)\n",
    "probabilities_one_valid = probabilities_valid[:, 1]\n",
    "\n",
    "print('auc_roc =', roc_auc_score(target_valid, probabilities_one_valid))"
   ]
  },
  {
   "cell_type": "code",
   "execution_count": 57,
   "id": "9cd8114d",
   "metadata": {},
   "outputs": [],
   "source": [
    "pivot_val = pd.DataFrame({'LogisticRegression': [roc_auc_score(target_valid, probabilities_one_valid),\n",
    "                                             accuracy_score(target_valid, predicted_valid), \n",
    "                                             f1_score(target_valid, predicted_valid)]}, \n",
    "                     index=['roc_auc_val', 'accuracy_val', 'f1_score_val'])"
   ]
  },
  {
   "cell_type": "markdown",
   "id": "6167291f",
   "metadata": {},
   "source": [
    "### DTC"
   ]
  },
  {
   "cell_type": "code",
   "execution_count": 58,
   "id": "4c94fa44",
   "metadata": {},
   "outputs": [
    {
     "name": "stdout",
     "output_type": "stream",
     "text": [
      "Гиперпараметры для лучшей модели: Глубина леса = 9, Значение accuracy = 0.7617354196301565 Значение f1_score = 0.6298342541436465\n",
      "auc_roc = 0.8104519027484144\n"
     ]
    }
   ],
   "source": [
    "parametrs = {'max_depth': range(5, 18, 2)}\n",
    "\n",
    "dtc = GridSearchCV(DecisionTreeClassifier(random_state=12345, class_weight='balanced'),\n",
    "                              parametrs, cv=5, scoring='f1') #roc_auc\n",
    "dtc.fit(features_train, target_train)\n",
    "\n",
    "depth = dtc.best_params_['max_depth']\n",
    "\n",
    "predicted_valid = dtc.predict(features_valid)\n",
    "print(f'Гиперпараметры для лучшей модели: Глубина леса = {depth}, Значение accuracy = {accuracy_score(target_valid, predicted_valid)} Значение f1_score = {f1_score(target_valid, predicted_valid)}')\n",
    "\n",
    "probabilities_valid = dtc.predict_proba(features_valid)\n",
    "probabilities_one_valid = probabilities_valid[:, 1]\n",
    "\n",
    "print('auc_roc =', roc_auc_score(target_valid, probabilities_one_valid))"
   ]
  },
  {
   "cell_type": "code",
   "execution_count": 59,
   "id": "9f51bf77",
   "metadata": {},
   "outputs": [],
   "source": [
    "pivot_val['DecisionTreeClassifier'] = [roc_auc_score(target_valid, probabilities_one_valid),\n",
    "                                             accuracy_score(target_valid, predicted_valid), \n",
    "                                             f1_score(target_valid, predicted_valid)]"
   ]
  },
  {
   "cell_type": "markdown",
   "id": "3c99112c",
   "metadata": {},
   "source": [
    "### RFC"
   ]
  },
  {
   "cell_type": "code",
   "execution_count": 60,
   "id": "596c0d52",
   "metadata": {
    "scrolled": true
   },
   "outputs": [
    {
     "name": "stdout",
     "output_type": "stream",
     "text": [
      "Гиперпараметры для лучшей модели: Количество деревьев = 250, Глубина леса = 9, Значение accuracy = 0.7880512091038406 Значение f1_score = 0.6502347417840375\n",
      "auc_roc = 0.8578858869129047\n"
     ]
    }
   ],
   "source": [
    "parametrs = {'max_depth': range(5, 18, 2),\n",
    "             'n_estimators': range(100, 300, 50)}\n",
    "\n",
    "rfc = GridSearchCV(RandomForestClassifier(random_state=12345, class_weight='balanced'),\n",
    "                              parametrs, cv=5, scoring ='f1') #roc_auc\n",
    "rfc.fit(features_train, target_train)\n",
    "\n",
    "depth = rfc.best_params_['max_depth']\n",
    "esti = rfc.best_params_['n_estimators']\n",
    "\n",
    "predicted_valid = rfc.predict(features_valid)\n",
    "print(f'Гиперпараметры для лучшей модели: Количество деревьев = {esti}, Глубина леса = {depth}, Значение accuracy = {accuracy_score(target_valid, predicted_valid)} Значение f1_score = {f1_score(target_valid, predicted_valid)}')\n",
    "\n",
    "probabilities_valid = rfc.predict_proba(features_valid)\n",
    "probabilities_one_valid = probabilities_valid[:, 1]\n",
    "\n",
    "print('auc_roc =', roc_auc_score(target_valid, probabilities_one_valid))"
   ]
  },
  {
   "cell_type": "markdown",
   "id": "08339695",
   "metadata": {},
   "source": [
    "#### Важность признаков"
   ]
  },
  {
   "cell_type": "code",
   "execution_count": 61,
   "id": "30868fc7",
   "metadata": {
    "scrolled": false
   },
   "outputs": [
    {
     "data": {
      "image/png": "[encoded data removed]",
      "text/plain": [
       "<Figure size 576x432 with 1 Axes>"
      ]
     },
     "metadata": {
      "needs_background": "light"
     },
     "output_type": "display_data"
    }
   ],
   "source": [
    "r_f_c = RandomForestClassifier(random_state=12345, class_weight='balanced', max_depth=depth, n_estimators=esti)\n",
    "r_f_c.fit(features_train, target_train)\n",
    "\n",
    "\n",
    "rfc_imp = pd.Series(r_f_c.feature_importances_,\n",
    "                         features_train.columns)\n",
    "\n",
    "fig, ax = plt.subplots(figsize=(8,6))\n",
    "rfc_imp.plot.bar(ax=ax)\n",
    "ax.set_title(\"Важность признаков\")\n",
    "ax.set_ylabel('Важность')\n",
    "plt.show()"
   ]
  },
  {
   "cell_type": "markdown",
   "id": "48c910fb",
   "metadata": {},
   "source": [
    "Life_time один из важнейших признаков для обучения модели"
   ]
  },
  {
   "cell_type": "code",
   "execution_count": 62,
   "id": "ec2f27f9",
   "metadata": {},
   "outputs": [],
   "source": [
    "pivot_val['RandomForestClassifier'] = [roc_auc_score(target_valid, probabilities_one_valid),\n",
    "                                             accuracy_score(target_valid, predicted_valid), \n",
    "                                             f1_score(target_valid, predicted_valid)]"
   ]
  },
  {
   "cell_type": "code",
   "execution_count": 63,
   "id": "6af3a41a",
   "metadata": {
    "scrolled": true
   },
   "outputs": [
    {
     "data": {
      "text/html": [
       "<div>\n",
       "<style scoped>\n",
       "    .dataframe tbody tr th:only-of-type {\n",
       "        vertical-align: middle;\n",
       "    }\n",
       "\n",
       "    .dataframe tbody tr th {\n",
       "        vertical-align: top;\n",
       "    }\n",
       "\n",
       "    .dataframe thead th {\n",
       "        text-align: right;\n",
       "    }\n",
       "</style>\n",
       "<table border=\"1\" class=\"dataframe\">\n",
       "  <thead>\n",
       "    <tr style=\"text-align: right;\">\n",
       "      <th></th>\n",
       "      <th>LogisticRegression</th>\n",
       "      <th>DecisionTreeClassifier</th>\n",
       "      <th>RandomForestClassifier</th>\n",
       "    </tr>\n",
       "  </thead>\n",
       "  <tbody>\n",
       "    <tr>\n",
       "      <th>roc_auc_val</th>\n",
       "      <td>0.836734</td>\n",
       "      <td>0.810452</td>\n",
       "      <td>0.857886</td>\n",
       "    </tr>\n",
       "    <tr>\n",
       "      <th>accuracy_val</th>\n",
       "      <td>0.744666</td>\n",
       "      <td>0.761735</td>\n",
       "      <td>0.788051</td>\n",
       "    </tr>\n",
       "    <tr>\n",
       "      <th>f1_score_val</th>\n",
       "      <td>0.627979</td>\n",
       "      <td>0.629834</td>\n",
       "      <td>0.650235</td>\n",
       "    </tr>\n",
       "  </tbody>\n",
       "</table>\n",
       "</div>"
      ],
      "text/plain": [
       "              LogisticRegression  DecisionTreeClassifier  \\\n",
       "roc_auc_val             0.836734                0.810452   \n",
       "accuracy_val            0.744666                0.761735   \n",
       "f1_score_val            0.627979                0.629834   \n",
       "\n",
       "              RandomForestClassifier  \n",
       "roc_auc_val                 0.857886  \n",
       "accuracy_val                0.788051  \n",
       "f1_score_val                0.650235  "
      ]
     },
     "execution_count": 63,
     "metadata": {},
     "output_type": "execute_result"
    }
   ],
   "source": [
    "pivot_val"
   ]
  },
  {
   "cell_type": "markdown",
   "id": "ee9a7a22",
   "metadata": {},
   "source": [
    "### CatBoost"
   ]
  },
  {
   "cell_type": "code",
   "execution_count": 64,
   "id": "6f239c5e",
   "metadata": {},
   "outputs": [
    {
     "name": "stdout",
     "output_type": "stream",
     "text": [
      "Значение accuracy = 0.8613086770981507 Значение f1_score = 0.7477360931435963\n",
      "auc_roc = 0.9152494507316669\n"
     ]
    }
   ],
   "source": [
    "classes = np.unique(target)\n",
    "weights = compute_class_weight(class_weight='balanced', classes=classes, y=target)\n",
    "class_weights = dict(zip(classes, weights))\n",
    "\n",
    "cbc = CatBoostClassifier(loss_function='Logloss',\n",
    "                           verbose=0,\n",
    "                           learning_rate=0.2,\n",
    "                           iterations=300,\n",
    "                           class_weights=weights,\n",
    "                           random_state=12345)\n",
    "cbc.fit(features_train, target_train)\n",
    "\n",
    "predicted_valid = cbc.predict(features_valid)\n",
    "print(f'Значение accuracy = {accuracy_score(target_valid, predicted_valid)} Значение f1_score = {f1_score(target_valid, predicted_valid)}')\n",
    "\n",
    "probabilities_valid = cbc.predict_proba(features_valid)\n",
    "probabilities_one_valid = probabilities_valid[:, 1]\n",
    "\n",
    "print('auc_roc =', roc_auc_score(target_valid, probabilities_one_valid))"
   ]
  },
  {
   "cell_type": "code",
   "execution_count": 65,
   "id": "7fd4d482",
   "metadata": {},
   "outputs": [],
   "source": [
    "pivot_val['CatBoostClassifier'] = [roc_auc_score(target_valid, probabilities_one_valid),\n",
    "                                             accuracy_score(target_valid, predicted_valid), \n",
    "                                             f1_score(target_valid, predicted_valid)]"
   ]
  },
  {
   "cell_type": "markdown",
   "id": "258f7088",
   "metadata": {},
   "source": [
    "#### Важность признаков"
   ]
  },
  {
   "cell_type": "code",
   "execution_count": 66,
   "id": "1f05c53c",
   "metadata": {
    "scrolled": false
   },
   "outputs": [
    {
     "data": {
      "image/png": "[encoded data removed]",
      "text/plain": [
       "<Figure size 576x432 with 1 Axes>"
      ]
     },
     "metadata": {
      "needs_background": "light"
     },
     "output_type": "display_data"
    }
   ],
   "source": [
    "cbc_imp = pd.Series(cbc.feature_importances_,\n",
    "                         features_train.columns)\n",
    "\n",
    "fig, ax = plt.subplots(figsize=(8,6))\n",
    "cbc_imp.plot.bar(ax=ax)\n",
    "ax.set_title(\"Важность признаков\")\n",
    "ax.set_ylabel('Важность')\n",
    "plt.show()"
   ]
  },
  {
   "cell_type": "markdown",
   "id": "b39a656b",
   "metadata": {},
   "source": [
    "Насколько сильно меняется важность признаков в зависимости от алгоритмов модели."
   ]
  },
  {
   "cell_type": "markdown",
   "id": "8b6d0bc1",
   "metadata": {},
   "source": [
    "### Итог"
   ]
  },
  {
   "cell_type": "markdown",
   "id": "01600b56",
   "metadata": {},
   "source": [
    "По итогу обучения получили хорошие показатели метрик, возможно из-за начальной предобработки. Оценим метрики на тестовой выборке."
   ]
  },
  {
   "cell_type": "markdown",
   "id": "0eb2c5f4",
   "metadata": {},
   "source": [
    "# Тестирование моделей"
   ]
  },
  {
   "cell_type": "code",
   "execution_count": 67,
   "id": "c54f0000",
   "metadata": {},
   "outputs": [],
   "source": [
    "features_test[numeric] = sc.transform(features_test[numeric])"
   ]
  },
  {
   "cell_type": "markdown",
   "id": "f68d2af7",
   "metadata": {},
   "source": [
    "LogisticRegression"
   ]
  },
  {
   "cell_type": "code",
   "execution_count": 68,
   "id": "488ce179",
   "metadata": {},
   "outputs": [
    {
     "name": "stdout",
     "output_type": "stream",
     "text": [
      "Значение accuracy = 0.7277896233120114 Значение f1_score = 0.6119554204660588\n",
      "auc_roc = 0.8259146041590093\n"
     ]
    }
   ],
   "source": [
    "predicted_test = lr.predict(features_test)\n",
    "print(f'Значение accuracy = {accuracy_score(target_test, predicted_test)} Значение f1_score = {f1_score(target_test, predicted_test)}')\n",
    "\n",
    "probabilities_test = lr.predict_proba(features_test)\n",
    "probabilities_one_test = probabilities_test[:, 1]\n",
    "\n",
    "print('auc_roc =', roc_auc_score(target_test, probabilities_one_test))"
   ]
  },
  {
   "cell_type": "code",
   "execution_count": 69,
   "id": "b1302f42",
   "metadata": {},
   "outputs": [],
   "source": [
    "pivot_test = pd.DataFrame({'LogisticRegression': [roc_auc_score(target_test, probabilities_one_test),\n",
    "                                             accuracy_score(target_test, predicted_test), \n",
    "                                             f1_score(target_test, predicted_test)]}, \n",
    "                     index=['roc_auc_test', 'accuracy_test', 'f1_score_test'])"
   ]
  },
  {
   "cell_type": "code",
   "execution_count": 70,
   "id": "ef430041",
   "metadata": {},
   "outputs": [
    {
     "data": {
      "image/png": "[encoded data removed]",
      "text/plain": [
       "<Figure size 432x288 with 1 Axes>"
      ]
     },
     "metadata": {
      "needs_background": "light"
     },
     "output_type": "display_data"
    }
   ],
   "source": [
    "fpr, tpr, thresholds = roc_curve(target_test, probabilities_one_test)\n",
    "\n",
    "plt.figure()\n",
    "\n",
    "# ROC-кривая обученной модели \n",
    "plt.plot(fpr, tpr, linestyle='-')\n",
    "\n",
    "# ROC-кривая случайной модели\n",
    "plt.plot([0, 1], [0, 1], linestyle='--')\n",
    "\n",
    "# Оформление\n",
    "plt.ylim([0.0, 1.0])\n",
    "plt.xlim([0.0, 1.0])\n",
    "plt.xlabel(\"False Positive Rate\")\n",
    "plt.ylabel(\"True Positive Rate\")\n",
    "plt.title(\"ROC-кривая для логистической регрессии\")\n",
    "\n",
    "plt.show()"
   ]
  },
  {
   "cell_type": "markdown",
   "id": "fe9b6c75",
   "metadata": {},
   "source": [
    "DecisionTreeClassifier"
   ]
  },
  {
   "cell_type": "code",
   "execution_count": 71,
   "id": "770210fe",
   "metadata": {
    "scrolled": true
   },
   "outputs": [
    {
     "name": "stdout",
     "output_type": "stream",
     "text": [
      "Значение accuracy = 0.7455579246624022 Значение f1_score = 0.6199575371549894\n",
      "auc_roc = 0.8105318603724161\n"
     ]
    }
   ],
   "source": [
    "predicted_test = dtc.predict(features_test)\n",
    "print(f'Значение accuracy = {accuracy_score(target_test, predicted_test)} Значение f1_score = {f1_score(target_test, predicted_test)}')\n",
    "\n",
    "probabilities_test = dtc.predict_proba(features_test)\n",
    "probabilities_one_test = probabilities_test[:, 1]\n",
    "\n",
    "print('auc_roc =', roc_auc_score(target_test, probabilities_one_test))"
   ]
  },
  {
   "cell_type": "code",
   "execution_count": 72,
   "id": "57212422",
   "metadata": {},
   "outputs": [],
   "source": [
    "pivot_test['DecisionTreeClassifier'] = [roc_auc_score(target_test, probabilities_one_test),\n",
    "                                             accuracy_score(target_test, predicted_test), \n",
    "                                             f1_score(target_test, predicted_test)]"
   ]
  },
  {
   "cell_type": "code",
   "execution_count": 73,
   "id": "1d99d220",
   "metadata": {},
   "outputs": [
    {
     "data": {
      "image/png": "[encoded data removed]",
      "text/plain": [
       "<Figure size 432x288 with 1 Axes>"
      ]
     },
     "metadata": {
      "needs_background": "light"
     },
     "output_type": "display_data"
    }
   ],
   "source": [
    "fpr, tpr, thresholds = roc_curve(target_test, probabilities_one_test)\n",
    "\n",
    "plt.figure()\n",
    "\n",
    "# ROC-кривая обученной модели \n",
    "plt.plot(fpr, tpr, linestyle='-')\n",
    "\n",
    "# ROC-кривая случайной модели\n",
    "plt.plot([0, 1], [0, 1], linestyle='--')\n",
    "\n",
    "# Оформление\n",
    "plt.ylim([0.0, 1.0])\n",
    "plt.xlim([0.0, 1.0])\n",
    "plt.xlabel(\"False Positive Rate\")\n",
    "plt.ylabel(\"True Positive Rate\")\n",
    "plt.title(\"ROC-кривая для DecisionTreeClassifier\")\n",
    "\n",
    "plt.show()"
   ]
  },
  {
   "cell_type": "markdown",
   "id": "1711e83e",
   "metadata": {},
   "source": [
    "RandomForestClassifier"
   ]
  },
  {
   "cell_type": "code",
   "execution_count": 74,
   "id": "e7218c06",
   "metadata": {},
   "outputs": [
    {
     "name": "stdout",
     "output_type": "stream",
     "text": [
      "Значение accuracy = 0.7683013503909026 Значение f1_score = 0.6261467889908257\n",
      "auc_roc = 0.8509778900559608\n"
     ]
    }
   ],
   "source": [
    "predicted_test = rfc.predict(features_test)\n",
    "print(f'Значение accuracy = {accuracy_score(target_test, predicted_test)} Значение f1_score = {f1_score(target_test, predicted_test)}')\n",
    "\n",
    "probabilities_test = rfc.predict_proba(features_test)\n",
    "probabilities_one_test = probabilities_test[:, 1]\n",
    "\n",
    "print('auc_roc =', roc_auc_score(target_test, probabilities_one_test))"
   ]
  },
  {
   "cell_type": "code",
   "execution_count": 75,
   "id": "7a9532c7",
   "metadata": {},
   "outputs": [],
   "source": [
    "pivot_test['RandomForestClassifier'] = [roc_auc_score(target_test, probabilities_one_test),\n",
    "                                             accuracy_score(target_test, predicted_test), \n",
    "                                             f1_score(target_test, predicted_test)]"
   ]
  },
  {
   "cell_type": "code",
   "execution_count": 76,
   "id": "97a27276",
   "metadata": {
    "scrolled": true
   },
   "outputs": [
    {
     "data": {
      "image/png": "[encoded data removed]",
      "text/plain": [
       "<Figure size 432x288 with 1 Axes>"
      ]
     },
     "metadata": {
      "needs_background": "light"
     },
     "output_type": "display_data"
    }
   ],
   "source": [
    "fpr, tpr, thresholds = roc_curve(target_test, probabilities_one_test)\n",
    "\n",
    "plt.figure()\n",
    "\n",
    "# ROC-кривая обученной модели \n",
    "plt.plot(fpr, tpr, linestyle='-')\n",
    "\n",
    "# ROC-кривая случайной модели\n",
    "plt.plot([0, 1], [0, 1], linestyle='--')\n",
    "\n",
    "# Оформление\n",
    "plt.ylim([0.0, 1.0])\n",
    "plt.xlim([0.0, 1.0])\n",
    "plt.xlabel(\"False Positive Rate\")\n",
    "plt.ylabel(\"True Positive Rate\")\n",
    "plt.title(\"ROC-кривая для RandomForestClassifier\")\n",
    "\n",
    "plt.show()"
   ]
  },
  {
   "cell_type": "markdown",
   "id": "93c8ddd3",
   "metadata": {},
   "source": [
    "CatBoostClassifier"
   ]
  },
  {
   "cell_type": "code",
   "execution_count": 77,
   "id": "e90a89cb",
   "metadata": {},
   "outputs": [
    {
     "name": "stdout",
     "output_type": "stream",
     "text": [
      "Значение accuracy = 0.8486140724946695 Значение f1_score = 0.7347447073474472\n",
      "auc_roc = 0.9132141988186633\n"
     ]
    }
   ],
   "source": [
    "predicted_test = cbc.predict(features_test)\n",
    "print(f'Значение accuracy = {accuracy_score(target_test, predicted_test)} Значение f1_score = {f1_score(target_test, predicted_test)}')\n",
    "\n",
    "probabilities_test = cbc.predict_proba(features_test)\n",
    "probabilities_one_test = probabilities_test[:, 1]\n",
    "\n",
    "print('auc_roc =', roc_auc_score(target_test, probabilities_one_test))"
   ]
  },
  {
   "cell_type": "code",
   "execution_count": 78,
   "id": "75df15c5",
   "metadata": {},
   "outputs": [],
   "source": [
    "pivot_test['CatBoostClassifier'] = [roc_auc_score(target_test, probabilities_one_test),\n",
    "                                             accuracy_score(target_test, predicted_test), \n",
    "                                             f1_score(target_test, predicted_test)]"
   ]
  },
  {
   "cell_type": "code",
   "execution_count": 79,
   "id": "4214a74b",
   "metadata": {},
   "outputs": [
    {
     "data": {
      "image/png": "[encoded data removed]",
      "text/plain": [
       "<Figure size 432x288 with 1 Axes>"
      ]
     },
     "metadata": {
      "needs_background": "light"
     },
     "output_type": "display_data"
    }
   ],
   "source": [
    "fpr, tpr, thresholds = roc_curve(target_test, probabilities_one_test)\n",
    "\n",
    "plt.figure()\n",
    "\n",
    "# ROC-кривая обученной модели \n",
    "plt.plot(fpr, tpr, linestyle='-')\n",
    "\n",
    "# ROC-кривая случайной модели\n",
    "plt.plot([0, 1], [0, 1], linestyle='--')\n",
    "\n",
    "# Оформление\n",
    "plt.ylim([0.0, 1.0])\n",
    "plt.xlim([0.0, 1.0])\n",
    "plt.xlabel(\"False Positive Rate\")\n",
    "plt.ylabel(\"True Positive Rate\")\n",
    "plt.title(\"ROC-кривая для RandomForestClassifier\")\n",
    "\n",
    "plt.show()"
   ]
  },
  {
   "cell_type": "markdown",
   "id": "c6544b46",
   "metadata": {},
   "source": [
    "## Сравнение показателей метрик"
   ]
  },
  {
   "cell_type": "code",
   "execution_count": 80,
   "id": "5e4fa5df",
   "metadata": {},
   "outputs": [
    {
     "data": {
      "text/html": [
       "<div>\n",
       "<style scoped>\n",
       "    .dataframe tbody tr th:only-of-type {\n",
       "        vertical-align: middle;\n",
       "    }\n",
       "\n",
       "    .dataframe tbody tr th {\n",
       "        vertical-align: top;\n",
       "    }\n",
       "\n",
       "    .dataframe thead th {\n",
       "        text-align: right;\n",
       "    }\n",
       "</style>\n",
       "<table border=\"1\" class=\"dataframe\">\n",
       "  <thead>\n",
       "    <tr style=\"text-align: right;\">\n",
       "      <th></th>\n",
       "      <th>CatBoostClassifier</th>\n",
       "      <th>DecisionTreeClassifier</th>\n",
       "      <th>LogisticRegression</th>\n",
       "      <th>RandomForestClassifier</th>\n",
       "    </tr>\n",
       "  </thead>\n",
       "  <tbody>\n",
       "    <tr>\n",
       "      <th>roc_auc_val</th>\n",
       "      <td>0.915249</td>\n",
       "      <td>0.810452</td>\n",
       "      <td>0.836734</td>\n",
       "      <td>0.857886</td>\n",
       "    </tr>\n",
       "    <tr>\n",
       "      <th>roc_auc_test</th>\n",
       "      <td>0.913214</td>\n",
       "      <td>0.810532</td>\n",
       "      <td>0.825915</td>\n",
       "      <td>0.850978</td>\n",
       "    </tr>\n",
       "    <tr>\n",
       "      <th>accuracy_val</th>\n",
       "      <td>0.861309</td>\n",
       "      <td>0.761735</td>\n",
       "      <td>0.744666</td>\n",
       "      <td>0.788051</td>\n",
       "    </tr>\n",
       "    <tr>\n",
       "      <th>accuracy_test</th>\n",
       "      <td>0.848614</td>\n",
       "      <td>0.745558</td>\n",
       "      <td>0.727790</td>\n",
       "      <td>0.768301</td>\n",
       "    </tr>\n",
       "    <tr>\n",
       "      <th>f1_score_val</th>\n",
       "      <td>0.747736</td>\n",
       "      <td>0.629834</td>\n",
       "      <td>0.627979</td>\n",
       "      <td>0.650235</td>\n",
       "    </tr>\n",
       "    <tr>\n",
       "      <th>f1_score_test</th>\n",
       "      <td>0.734745</td>\n",
       "      <td>0.619958</td>\n",
       "      <td>0.611955</td>\n",
       "      <td>0.626147</td>\n",
       "    </tr>\n",
       "  </tbody>\n",
       "</table>\n",
       "</div>"
      ],
      "text/plain": [
       "               CatBoostClassifier  DecisionTreeClassifier  LogisticRegression  \\\n",
       "roc_auc_val              0.915249                0.810452            0.836734   \n",
       "roc_auc_test             0.913214                0.810532            0.825915   \n",
       "accuracy_val             0.861309                0.761735            0.744666   \n",
       "accuracy_test            0.848614                0.745558            0.727790   \n",
       "f1_score_val             0.747736                0.629834            0.627979   \n",
       "f1_score_test            0.734745                0.619958            0.611955   \n",
       "\n",
       "               RandomForestClassifier  \n",
       "roc_auc_val                  0.857886  \n",
       "roc_auc_test                 0.850978  \n",
       "accuracy_val                 0.788051  \n",
       "accuracy_test                0.768301  \n",
       "f1_score_val                 0.650235  \n",
       "f1_score_test                0.626147  "
      ]
     },
     "execution_count": 80,
     "metadata": {},
     "output_type": "execute_result"
    }
   ],
   "source": [
    "pd.concat([pivot_val, pivot_test],sort=True).reindex(index=['roc_auc_val', 'roc_auc_test',\n",
    "                                                            'accuracy_val', 'accuracy_test', \n",
    "                                                            'f1_score_val', 'f1_score_test'])"
   ]
  },
  {
   "cell_type": "markdown",
   "id": "b111f0c1",
   "metadata": {},
   "source": [
    "# Общий вывод"
   ]
  },
  {
   "cell_type": "markdown",
   "id": "f23a0c3b",
   "metadata": {},
   "source": [
    "В результате проекта классификации по прогназированию оттока клиентов из телеком компании:\n",
    "+ Проведен предобработка и анализ данных\n",
    "+ Обучены классические модели + CatBoost\n",
    "+ Протестированы на тестовой выборке\n",
    "\n",
    "Высокие показатели получились из-за адаптированного датасета (в основном однородные абоненты) + предобработка данных.\n",
    "\n",
    "Лучше всего себя показала модель CatBoostClassifier."
   ]
  }
 ],
 "metadata": {
  "ExecuteTimeLog": [
   {
    "duration": 1695,
    "start_time": "2022-02-01T12:35:10.710Z"
   },
   {
    "duration": 1699,
    "start_time": "2022-02-01T12:35:12.407Z"
   },
   {
    "duration": 4,
    "start_time": "2022-02-01T12:38:57.919Z"
   },
   {
    "duration": 27,
    "start_time": "2022-02-01T12:38:58.667Z"
   },
   {
    "duration": 6,
    "start_time": "2022-02-01T12:39:27.431Z"
   },
   {
    "duration": 8,
    "start_time": "2022-02-01T12:39:27.880Z"
   },
   {
    "duration": 16,
    "start_time": "2022-02-01T12:39:28.445Z"
   },
   {
    "duration": 5,
    "start_time": "2022-02-01T12:39:29.304Z"
   },
   {
    "duration": 5,
    "start_time": "2022-02-01T12:40:18.025Z"
   },
   {
    "duration": 4,
    "start_time": "2022-02-01T12:40:18.574Z"
   },
   {
    "duration": 7,
    "start_time": "2022-02-01T12:40:20.175Z"
   },
   {
    "duration": 193,
    "start_time": "2022-02-01T12:40:31.877Z"
   },
   {
    "duration": 273,
    "start_time": "2022-02-01T12:41:22.818Z"
   },
   {
    "duration": 7,
    "start_time": "2022-02-01T12:42:02.119Z"
   },
   {
    "duration": 4,
    "start_time": "2022-02-01T12:42:03.712Z"
   },
   {
    "duration": 14,
    "start_time": "2022-02-01T12:42:13.581Z"
   },
   {
    "duration": 451,
    "start_time": "2022-02-01T12:43:18.012Z"
   },
   {
    "duration": 19,
    "start_time": "2022-02-01T12:44:37.153Z"
   },
   {
    "duration": 7,
    "start_time": "2022-02-01T12:44:37.992Z"
   },
   {
    "duration": 16,
    "start_time": "2022-02-01T12:44:42.621Z"
   },
   {
    "duration": 21,
    "start_time": "2022-02-01T12:44:43.273Z"
   },
   {
    "duration": 26,
    "start_time": "2022-02-01T12:44:46.153Z"
   },
   {
    "duration": 5,
    "start_time": "2022-02-01T12:44:46.751Z"
   },
   {
    "duration": 5,
    "start_time": "2022-02-01T12:44:48.618Z"
   },
   {
    "duration": 10,
    "start_time": "2022-02-01T12:44:49.109Z"
   },
   {
    "duration": 6,
    "start_time": "2022-02-01T12:44:49.820Z"
   },
   {
    "duration": 7,
    "start_time": "2022-02-01T12:44:52.206Z"
   },
   {
    "duration": 13,
    "start_time": "2022-02-01T12:44:53.379Z"
   },
   {
    "duration": 6,
    "start_time": "2022-02-01T12:45:01.043Z"
   },
   {
    "duration": 16,
    "start_time": "2022-02-01T12:45:11.426Z"
   },
   {
    "duration": 33,
    "start_time": "2022-02-01T12:45:42.436Z"
   },
   {
    "duration": 638,
    "start_time": "2022-02-01T12:46:16.284Z"
   },
   {
    "duration": 2,
    "start_time": "2022-02-01T12:46:59.374Z"
   },
   {
    "duration": 397,
    "start_time": "2022-02-01T12:46:59.881Z"
   },
   {
    "duration": 9,
    "start_time": "2022-02-01T12:48:49.758Z"
   },
   {
    "duration": 5,
    "start_time": "2022-02-01T12:48:51.431Z"
   },
   {
    "duration": 16,
    "start_time": "2022-02-01T12:49:26.155Z"
   },
   {
    "duration": 12,
    "start_time": "2022-02-01T12:50:40.849Z"
   },
   {
    "duration": 15,
    "start_time": "2022-02-01T12:50:41.744Z"
   },
   {
    "duration": 286,
    "start_time": "2022-02-01T12:52:10.520Z"
   },
   {
    "duration": 15,
    "start_time": "2022-02-01T12:52:59.995Z"
   },
   {
    "duration": 284,
    "start_time": "2022-02-01T12:53:01.129Z"
   },
   {
    "duration": 535,
    "start_time": "2022-02-01T12:53:22.051Z"
   },
   {
    "duration": 261,
    "start_time": "2022-02-01T12:53:23.411Z"
   },
   {
    "duration": 87180,
    "start_time": "2022-02-01T12:53:30.719Z"
   },
   {
    "duration": 275,
    "start_time": "2022-02-01T12:54:57.900Z"
   },
   {
    "duration": 426,
    "start_time": "2022-02-01T12:54:57.751Z"
   },
   {
    "duration": 409,
    "start_time": "2022-02-01T12:54:57.769Z"
   },
   {
    "duration": 397,
    "start_time": "2022-02-01T12:54:57.782Z"
   },
   {
    "duration": 383,
    "start_time": "2022-02-01T12:54:57.797Z"
   },
   {
    "duration": 375,
    "start_time": "2022-02-01T12:54:57.806Z"
   },
   {
    "duration": 367,
    "start_time": "2022-02-01T12:54:57.815Z"
   },
   {
    "duration": 361,
    "start_time": "2022-02-01T12:54:57.822Z"
   },
   {
    "duration": 356,
    "start_time": "2022-02-01T12:54:57.829Z"
   },
   {
    "duration": 7,
    "start_time": "2022-02-01T12:57:00.704Z"
   },
   {
    "duration": 104,
    "start_time": "2022-02-01T12:57:02.020Z"
   },
   {
    "duration": 7,
    "start_time": "2022-02-01T12:57:02.904Z"
   },
   {
    "duration": 203,
    "start_time": "2022-02-01T12:57:04.311Z"
   },
   {
    "duration": 11,
    "start_time": "2022-02-01T12:57:07.832Z"
   },
   {
    "duration": 8,
    "start_time": "2022-02-01T12:57:08.631Z"
   },
   {
    "duration": 195,
    "start_time": "2022-02-01T12:57:09.581Z"
   },
   {
    "duration": 150,
    "start_time": "2022-02-01T12:57:13.092Z"
   },
   {
    "duration": 9,
    "start_time": "2022-02-01T12:57:13.940Z"
   },
   {
    "duration": 198,
    "start_time": "2022-02-01T12:57:14.935Z"
   },
   {
    "duration": 271,
    "start_time": "2022-02-01T12:57:18.087Z"
   },
   {
    "duration": 5713,
    "start_time": "2022-02-01T14:39:44.062Z"
   },
   {
    "duration": 1103,
    "start_time": "2022-02-01T14:39:49.777Z"
   },
   {
    "duration": 324,
    "start_time": "2022-02-01T14:39:50.882Z"
   },
   {
    "duration": 3,
    "start_time": "2022-02-01T14:39:51.208Z"
   },
   {
    "duration": 31,
    "start_time": "2022-02-01T14:39:51.213Z"
   },
   {
    "duration": 5,
    "start_time": "2022-02-01T14:39:51.245Z"
   },
   {
    "duration": 12,
    "start_time": "2022-02-01T14:39:51.251Z"
   },
   {
    "duration": 14,
    "start_time": "2022-02-01T14:39:51.265Z"
   },
   {
    "duration": 7,
    "start_time": "2022-02-01T14:39:51.281Z"
   },
   {
    "duration": 10,
    "start_time": "2022-02-01T14:39:51.290Z"
   },
   {
    "duration": 6,
    "start_time": "2022-02-01T14:39:51.301Z"
   },
   {
    "duration": 21,
    "start_time": "2022-02-01T14:39:51.309Z"
   },
   {
    "duration": 178,
    "start_time": "2022-02-01T14:39:51.332Z"
   },
   {
    "duration": 247,
    "start_time": "2022-02-01T14:39:51.511Z"
   },
   {
    "duration": 5,
    "start_time": "2022-02-01T14:39:51.759Z"
   },
   {
    "duration": 7,
    "start_time": "2022-02-01T14:39:51.766Z"
   },
   {
    "duration": 17,
    "start_time": "2022-02-01T14:39:51.774Z"
   },
   {
    "duration": 380,
    "start_time": "2022-02-01T14:39:51.793Z"
   },
   {
    "duration": 15,
    "start_time": "2022-02-01T14:39:52.174Z"
   },
   {
    "duration": 6,
    "start_time": "2022-02-01T14:39:52.190Z"
   },
   {
    "duration": 33,
    "start_time": "2022-02-01T14:39:52.198Z"
   },
   {
    "duration": 16,
    "start_time": "2022-02-01T14:39:52.233Z"
   },
   {
    "duration": 21,
    "start_time": "2022-02-01T14:39:52.252Z"
   },
   {
    "duration": 4,
    "start_time": "2022-02-01T14:39:52.275Z"
   },
   {
    "duration": 7,
    "start_time": "2022-02-01T14:39:52.280Z"
   },
   {
    "duration": 39,
    "start_time": "2022-02-01T14:39:52.289Z"
   },
   {
    "duration": 6,
    "start_time": "2022-02-01T14:39:52.330Z"
   },
   {
    "duration": 5,
    "start_time": "2022-02-01T14:39:52.338Z"
   },
   {
    "duration": 14,
    "start_time": "2022-02-01T14:39:52.345Z"
   },
   {
    "duration": 11,
    "start_time": "2022-02-01T14:39:52.360Z"
   },
   {
    "duration": 19,
    "start_time": "2022-02-01T14:39:52.372Z"
   },
   {
    "duration": 37,
    "start_time": "2022-02-01T14:39:52.392Z"
   },
   {
    "duration": 515,
    "start_time": "2022-02-01T14:39:52.430Z"
   },
   {
    "duration": 2,
    "start_time": "2022-02-01T14:39:52.947Z"
   },
   {
    "duration": 401,
    "start_time": "2022-02-01T14:39:52.950Z"
   },
   {
    "duration": 2390,
    "start_time": "2022-02-01T14:40:59.828Z"
   },
   {
    "duration": 2113,
    "start_time": "2022-02-01T14:41:32.701Z"
   },
   {
    "duration": 4,
    "start_time": "2022-02-01T14:41:34.816Z"
   },
   {
    "duration": 359,
    "start_time": "2022-02-01T14:41:34.823Z"
   },
   {
    "duration": 3,
    "start_time": "2022-02-01T14:41:35.184Z"
   },
   {
    "duration": 20,
    "start_time": "2022-02-01T14:41:35.189Z"
   },
   {
    "duration": 4,
    "start_time": "2022-02-01T14:41:35.211Z"
   },
   {
    "duration": 8,
    "start_time": "2022-02-01T14:41:35.216Z"
   },
   {
    "duration": 14,
    "start_time": "2022-02-01T14:41:35.226Z"
   },
   {
    "duration": 6,
    "start_time": "2022-02-01T14:41:35.242Z"
   },
   {
    "duration": 5,
    "start_time": "2022-02-01T14:41:35.250Z"
   },
   {
    "duration": 5,
    "start_time": "2022-02-01T14:41:35.257Z"
   },
   {
    "duration": 8,
    "start_time": "2022-02-01T14:41:35.263Z"
   },
   {
    "duration": 168,
    "start_time": "2022-02-01T14:41:35.272Z"
   },
   {
    "duration": 200,
    "start_time": "2022-02-01T14:41:35.441Z"
   },
   {
    "duration": 5,
    "start_time": "2022-02-01T14:41:35.643Z"
   },
   {
    "duration": 6,
    "start_time": "2022-02-01T14:41:35.649Z"
   },
   {
    "duration": 12,
    "start_time": "2022-02-01T14:41:35.656Z"
   },
   {
    "duration": 361,
    "start_time": "2022-02-01T14:41:35.670Z"
   },
   {
    "duration": 15,
    "start_time": "2022-02-01T14:41:36.032Z"
   },
   {
    "duration": 6,
    "start_time": "2022-02-01T14:41:36.048Z"
   },
   {
    "duration": 11,
    "start_time": "2022-02-01T14:41:36.055Z"
   },
   {
    "duration": 18,
    "start_time": "2022-02-01T14:41:36.067Z"
   },
   {
    "duration": 60,
    "start_time": "2022-02-01T14:41:36.087Z"
   },
   {
    "duration": 4,
    "start_time": "2022-02-01T14:41:36.148Z"
   },
   {
    "duration": 6,
    "start_time": "2022-02-01T14:41:36.153Z"
   },
   {
    "duration": 10,
    "start_time": "2022-02-01T14:41:36.160Z"
   },
   {
    "duration": 7,
    "start_time": "2022-02-01T14:41:36.171Z"
   },
   {
    "duration": 5,
    "start_time": "2022-02-01T14:41:36.179Z"
   },
   {
    "duration": 13,
    "start_time": "2022-02-01T14:41:36.185Z"
   },
   {
    "duration": 31,
    "start_time": "2022-02-01T14:41:36.200Z"
   },
   {
    "duration": 95,
    "start_time": "2022-02-01T14:41:36.233Z"
   },
   {
    "duration": 28,
    "start_time": "2022-02-01T14:41:36.330Z"
   },
   {
    "duration": 513,
    "start_time": "2022-02-01T14:41:36.359Z"
   },
   {
    "duration": 2,
    "start_time": "2022-02-01T14:41:36.873Z"
   },
   {
    "duration": 422,
    "start_time": "2022-02-01T14:41:36.877Z"
   },
   {
    "duration": 2317,
    "start_time": "2022-02-01T14:55:29.801Z"
   },
   {
    "duration": 4,
    "start_time": "2022-02-01T14:55:32.120Z"
   },
   {
    "duration": 306,
    "start_time": "2022-02-01T14:55:32.126Z"
   },
   {
    "duration": 4,
    "start_time": "2022-02-01T14:55:32.434Z"
   },
   {
    "duration": 24,
    "start_time": "2022-02-01T14:55:32.439Z"
   },
   {
    "duration": 6,
    "start_time": "2022-02-01T14:55:32.464Z"
   },
   {
    "duration": 9,
    "start_time": "2022-02-01T14:55:32.471Z"
   },
   {
    "duration": 13,
    "start_time": "2022-02-01T14:55:32.482Z"
   },
   {
    "duration": 30,
    "start_time": "2022-02-01T14:55:32.498Z"
   },
   {
    "duration": 5,
    "start_time": "2022-02-01T14:55:32.530Z"
   },
   {
    "duration": 6,
    "start_time": "2022-02-01T14:55:32.537Z"
   },
   {
    "duration": 10,
    "start_time": "2022-02-01T14:55:32.544Z"
   },
   {
    "duration": 173,
    "start_time": "2022-02-01T14:55:32.555Z"
   },
   {
    "duration": 200,
    "start_time": "2022-02-01T14:55:32.729Z"
   },
   {
    "duration": 5,
    "start_time": "2022-02-01T14:55:32.931Z"
   },
   {
    "duration": 6,
    "start_time": "2022-02-01T14:55:32.937Z"
   },
   {
    "duration": 12,
    "start_time": "2022-02-01T14:55:32.944Z"
   },
   {
    "duration": 365,
    "start_time": "2022-02-01T14:55:32.958Z"
   },
   {
    "duration": 15,
    "start_time": "2022-02-01T14:55:33.325Z"
   },
   {
    "duration": 7,
    "start_time": "2022-02-01T14:55:33.341Z"
   },
   {
    "duration": 14,
    "start_time": "2022-02-01T14:55:33.349Z"
   },
   {
    "duration": 17,
    "start_time": "2022-02-01T14:55:33.364Z"
   },
   {
    "duration": 64,
    "start_time": "2022-02-01T14:55:33.384Z"
   },
   {
    "duration": 4,
    "start_time": "2022-02-01T14:55:33.450Z"
   },
   {
    "duration": 6,
    "start_time": "2022-02-01T14:55:33.456Z"
   },
   {
    "duration": 9,
    "start_time": "2022-02-01T14:55:33.463Z"
   },
   {
    "duration": 6,
    "start_time": "2022-02-01T14:55:33.474Z"
   },
   {
    "duration": 6,
    "start_time": "2022-02-01T14:55:33.481Z"
   },
   {
    "duration": 46,
    "start_time": "2022-02-01T14:55:33.489Z"
   },
   {
    "duration": 12,
    "start_time": "2022-02-01T14:55:33.536Z"
   },
   {
    "duration": 13,
    "start_time": "2022-02-01T14:55:33.550Z"
   },
   {
    "duration": 29,
    "start_time": "2022-02-01T14:55:33.565Z"
   },
   {
    "duration": 533,
    "start_time": "2022-02-01T14:55:33.596Z"
   },
   {
    "duration": 8,
    "start_time": "2022-02-01T15:10:15.735Z"
   },
   {
    "duration": 5,
    "start_time": "2022-02-01T15:10:17.318Z"
   },
   {
    "duration": 14,
    "start_time": "2022-02-01T15:10:28.832Z"
   },
   {
    "duration": 11,
    "start_time": "2022-02-01T15:10:33.197Z"
   },
   {
    "duration": 13,
    "start_time": "2022-02-01T15:12:27.746Z"
   },
   {
    "duration": 98,
    "start_time": "2022-02-01T15:12:31.630Z"
   },
   {
    "duration": 10,
    "start_time": "2022-02-01T15:12:38.491Z"
   },
   {
    "duration": 6,
    "start_time": "2022-02-01T15:12:55.720Z"
   },
   {
    "duration": 494,
    "start_time": "2022-02-01T15:12:59.198Z"
   },
   {
    "duration": 7,
    "start_time": "2022-02-01T15:13:02.181Z"
   },
   {
    "duration": 63136,
    "start_time": "2022-02-01T15:13:03.879Z"
   },
   {
    "duration": 14,
    "start_time": "2022-02-01T15:14:07.017Z"
   },
   {
    "duration": 6,
    "start_time": "2022-02-01T15:14:07.033Z"
   },
   {
    "duration": 6,
    "start_time": "2022-02-01T15:14:07.041Z"
   },
   {
    "duration": 83,
    "start_time": "2022-02-01T15:14:07.049Z"
   },
   {
    "duration": 99,
    "start_time": "2022-02-01T15:14:07.134Z"
   },
   {
    "duration": 240,
    "start_time": "2022-02-01T15:14:07.238Z"
   },
   {
    "duration": 9,
    "start_time": "2022-02-01T15:14:07.480Z"
   },
   {
    "duration": 6,
    "start_time": "2022-02-01T15:14:07.490Z"
   },
   {
    "duration": 155,
    "start_time": "2022-02-01T15:14:07.498Z"
   },
   {
    "duration": 103,
    "start_time": "2022-02-01T15:14:07.655Z"
   },
   {
    "duration": 6,
    "start_time": "2022-02-01T15:14:07.760Z"
   },
   {
    "duration": 154,
    "start_time": "2022-02-01T15:14:07.767Z"
   },
   {
    "duration": 9,
    "start_time": "2022-02-01T15:14:07.923Z"
   },
   {
    "duration": 2067,
    "start_time": "2022-02-01T15:22:21.275Z"
   },
   {
    "duration": 4,
    "start_time": "2022-02-01T15:22:23.344Z"
   },
   {
    "duration": 312,
    "start_time": "2022-02-01T15:22:23.349Z"
   },
   {
    "duration": 3,
    "start_time": "2022-02-01T15:22:23.663Z"
   },
   {
    "duration": 21,
    "start_time": "2022-02-01T15:22:23.668Z"
   },
   {
    "duration": 5,
    "start_time": "2022-02-01T15:22:23.690Z"
   },
   {
    "duration": 10,
    "start_time": "2022-02-01T15:22:23.696Z"
   },
   {
    "duration": 13,
    "start_time": "2022-02-01T15:22:23.708Z"
   },
   {
    "duration": 6,
    "start_time": "2022-02-01T15:22:23.722Z"
   },
   {
    "duration": 6,
    "start_time": "2022-02-01T15:22:23.729Z"
   },
   {
    "duration": 4,
    "start_time": "2022-02-01T15:22:23.737Z"
   },
   {
    "duration": 7,
    "start_time": "2022-02-01T15:22:23.742Z"
   },
   {
    "duration": 169,
    "start_time": "2022-02-01T15:22:23.751Z"
   },
   {
    "duration": 265,
    "start_time": "2022-02-01T15:22:23.922Z"
   },
   {
    "duration": 6,
    "start_time": "2022-02-01T15:22:24.189Z"
   },
   {
    "duration": 7,
    "start_time": "2022-02-01T15:22:24.196Z"
   },
   {
    "duration": 29,
    "start_time": "2022-02-01T15:22:24.204Z"
   },
   {
    "duration": 359,
    "start_time": "2022-02-01T15:22:24.235Z"
   },
   {
    "duration": 14,
    "start_time": "2022-02-01T15:22:24.595Z"
   },
   {
    "duration": 18,
    "start_time": "2022-02-01T15:22:24.611Z"
   },
   {
    "duration": 11,
    "start_time": "2022-02-01T15:22:24.631Z"
   },
   {
    "duration": 16,
    "start_time": "2022-02-01T15:22:24.643Z"
   },
   {
    "duration": 22,
    "start_time": "2022-02-01T15:22:24.661Z"
   },
   {
    "duration": 5,
    "start_time": "2022-02-01T15:22:24.684Z"
   },
   {
    "duration": 39,
    "start_time": "2022-02-01T15:22:24.690Z"
   },
   {
    "duration": 8,
    "start_time": "2022-02-01T15:22:24.730Z"
   },
   {
    "duration": 6,
    "start_time": "2022-02-01T15:22:24.739Z"
   },
   {
    "duration": 5,
    "start_time": "2022-02-01T15:22:24.746Z"
   },
   {
    "duration": 14,
    "start_time": "2022-02-01T15:22:24.752Z"
   },
   {
    "duration": 4,
    "start_time": "2022-02-01T15:22:24.768Z"
   },
   {
    "duration": 12,
    "start_time": "2022-02-01T15:22:24.774Z"
   },
   {
    "duration": 56,
    "start_time": "2022-02-01T15:22:24.788Z"
   },
   {
    "duration": 503,
    "start_time": "2022-02-01T15:22:24.846Z"
   },
   {
    "duration": 8,
    "start_time": "2022-02-01T15:22:50.874Z"
   },
   {
    "duration": 4,
    "start_time": "2022-02-01T15:22:52.462Z"
   },
   {
    "duration": 14,
    "start_time": "2022-02-01T15:23:01.185Z"
   },
   {
    "duration": 10,
    "start_time": "2022-02-01T15:23:06.933Z"
   },
   {
    "duration": 351,
    "start_time": "2022-02-01T15:23:07.172Z"
   },
   {
    "duration": 21,
    "start_time": "2022-02-01T15:23:11.020Z"
   },
   {
    "duration": 8,
    "start_time": "2022-02-01T15:23:11.519Z"
   },
   {
    "duration": 6,
    "start_time": "2022-02-01T15:23:11.728Z"
   },
   {
    "duration": 319,
    "start_time": "2022-02-01T15:23:12.607Z"
   },
   {
    "duration": 6,
    "start_time": "2022-02-01T15:23:12.928Z"
   },
   {
    "duration": 21806,
    "start_time": "2022-02-01T15:23:13.268Z"
   },
   {
    "duration": -307,
    "start_time": "2022-02-01T15:23:35.383Z"
   },
   {
    "duration": -315,
    "start_time": "2022-02-01T15:23:35.392Z"
   },
   {
    "duration": 537,
    "start_time": "2022-02-01T15:23:48.514Z"
   },
   {
    "duration": 2283,
    "start_time": "2022-02-01T15:24:15.179Z"
   },
   {
    "duration": 4,
    "start_time": "2022-02-01T15:24:17.464Z"
   },
   {
    "duration": 320,
    "start_time": "2022-02-01T15:24:17.470Z"
   },
   {
    "duration": 3,
    "start_time": "2022-02-01T15:24:17.792Z"
   },
   {
    "duration": 27,
    "start_time": "2022-02-01T15:24:17.797Z"
   },
   {
    "duration": 5,
    "start_time": "2022-02-01T15:24:17.825Z"
   },
   {
    "duration": 8,
    "start_time": "2022-02-01T15:24:17.832Z"
   },
   {
    "duration": 15,
    "start_time": "2022-02-01T15:24:17.842Z"
   },
   {
    "duration": 4,
    "start_time": "2022-02-01T15:24:17.859Z"
   },
   {
    "duration": 5,
    "start_time": "2022-02-01T15:24:17.865Z"
   },
   {
    "duration": 6,
    "start_time": "2022-02-01T15:24:17.871Z"
   },
   {
    "duration": 9,
    "start_time": "2022-02-01T15:24:17.878Z"
   },
   {
    "duration": 196,
    "start_time": "2022-02-01T15:24:17.888Z"
   },
   {
    "duration": 203,
    "start_time": "2022-02-01T15:24:18.085Z"
   },
   {
    "duration": 5,
    "start_time": "2022-02-01T15:24:18.290Z"
   },
   {
    "duration": 10,
    "start_time": "2022-02-01T15:24:18.296Z"
   },
   {
    "duration": 23,
    "start_time": "2022-02-01T15:24:18.307Z"
   },
   {
    "duration": 370,
    "start_time": "2022-02-01T15:24:18.331Z"
   },
   {
    "duration": 26,
    "start_time": "2022-02-01T15:24:18.702Z"
   },
   {
    "duration": 6,
    "start_time": "2022-02-01T15:24:18.729Z"
   },
   {
    "duration": 13,
    "start_time": "2022-02-01T15:24:18.736Z"
   },
   {
    "duration": 15,
    "start_time": "2022-02-01T15:24:18.751Z"
   },
   {
    "duration": 20,
    "start_time": "2022-02-01T15:24:18.769Z"
   },
   {
    "duration": 3,
    "start_time": "2022-02-01T15:24:18.791Z"
   },
   {
    "duration": 35,
    "start_time": "2022-02-01T15:24:18.796Z"
   },
   {
    "duration": 9,
    "start_time": "2022-02-01T15:24:18.832Z"
   },
   {
    "duration": 6,
    "start_time": "2022-02-01T15:24:18.843Z"
   },
   {
    "duration": 7,
    "start_time": "2022-02-01T15:24:18.850Z"
   },
   {
    "duration": 12,
    "start_time": "2022-02-01T15:24:18.858Z"
   },
   {
    "duration": 6,
    "start_time": "2022-02-01T15:24:18.872Z"
   },
   {
    "duration": 13,
    "start_time": "2022-02-01T15:24:18.880Z"
   },
   {
    "duration": 56,
    "start_time": "2022-02-01T15:24:18.894Z"
   },
   {
    "duration": 511,
    "start_time": "2022-02-01T15:24:18.951Z"
   },
   {
    "duration": 8,
    "start_time": "2022-02-01T15:24:37.064Z"
   },
   {
    "duration": 5,
    "start_time": "2022-02-01T15:24:38.763Z"
   },
   {
    "duration": 13,
    "start_time": "2022-02-01T15:24:44.975Z"
   },
   {
    "duration": 11,
    "start_time": "2022-02-01T15:24:49.993Z"
   },
   {
    "duration": 11,
    "start_time": "2022-02-01T15:24:50.948Z"
   },
   {
    "duration": 18,
    "start_time": "2022-02-01T15:24:59.451Z"
   },
   {
    "duration": 8,
    "start_time": "2022-02-01T15:25:03.039Z"
   },
   {
    "duration": 7,
    "start_time": "2022-02-01T15:25:04.234Z"
   },
   {
    "duration": 324,
    "start_time": "2022-02-01T15:25:05.790Z"
   },
   {
    "duration": 7,
    "start_time": "2022-02-01T15:25:06.411Z"
   },
   {
    "duration": 56488,
    "start_time": "2022-02-01T15:25:07.795Z"
   },
   {
    "duration": 6,
    "start_time": "2022-02-01T15:26:04.284Z"
   },
   {
    "duration": 5,
    "start_time": "2022-02-01T15:26:04.292Z"
   },
   {
    "duration": 6,
    "start_time": "2022-02-01T15:26:04.299Z"
   },
   {
    "duration": 32,
    "start_time": "2022-02-01T15:26:04.307Z"
   },
   {
    "duration": 94,
    "start_time": "2022-02-01T15:26:04.341Z"
   },
   {
    "duration": 238,
    "start_time": "2022-02-01T15:26:04.437Z"
   },
   {
    "duration": 8,
    "start_time": "2022-02-01T15:26:04.677Z"
   },
   {
    "duration": 6,
    "start_time": "2022-02-01T15:26:04.687Z"
   },
   {
    "duration": 202,
    "start_time": "2022-02-01T15:26:04.694Z"
   },
   {
    "duration": 95,
    "start_time": "2022-02-01T15:26:04.898Z"
   },
   {
    "duration": 6,
    "start_time": "2022-02-01T15:26:04.994Z"
   },
   {
    "duration": 154,
    "start_time": "2022-02-01T15:26:05.001Z"
   },
   {
    "duration": 10,
    "start_time": "2022-02-01T15:26:05.157Z"
   },
   {
    "duration": 407,
    "start_time": "2022-02-01T15:30:54.236Z"
   },
   {
    "duration": 986,
    "start_time": "2022-02-01T15:34:42.732Z"
   },
   {
    "duration": 839,
    "start_time": "2022-02-01T15:35:13.621Z"
   },
   {
    "duration": 804,
    "start_time": "2022-02-01T15:35:29.415Z"
   },
   {
    "duration": 636,
    "start_time": "2022-02-01T15:37:24.921Z"
   },
   {
    "duration": 17,
    "start_time": "2022-02-01T15:47:47.510Z"
   },
   {
    "duration": 5,
    "start_time": "2022-02-01T15:48:17.471Z"
   },
   {
    "duration": 9367,
    "start_time": "2022-02-01T15:50:02.421Z"
   },
   {
    "duration": 166,
    "start_time": "2022-02-01T15:51:19.479Z"
   },
   {
    "duration": 11,
    "start_time": "2022-02-01T15:55:36.649Z"
   },
   {
    "duration": 2078,
    "start_time": "2022-02-01T15:56:11.887Z"
   },
   {
    "duration": 5,
    "start_time": "2022-02-01T15:56:13.967Z"
   },
   {
    "duration": 378,
    "start_time": "2022-02-01T15:56:13.974Z"
   },
   {
    "duration": 4,
    "start_time": "2022-02-01T15:56:14.353Z"
   },
   {
    "duration": 23,
    "start_time": "2022-02-01T15:56:14.358Z"
   },
   {
    "duration": 5,
    "start_time": "2022-02-01T15:56:14.382Z"
   },
   {
    "duration": 9,
    "start_time": "2022-02-01T15:56:14.388Z"
   },
   {
    "duration": 12,
    "start_time": "2022-02-01T15:56:14.399Z"
   },
   {
    "duration": 16,
    "start_time": "2022-02-01T15:56:14.412Z"
   },
   {
    "duration": 4,
    "start_time": "2022-02-01T15:56:14.429Z"
   },
   {
    "duration": 4,
    "start_time": "2022-02-01T15:56:14.434Z"
   },
   {
    "duration": 9,
    "start_time": "2022-02-01T15:56:14.439Z"
   },
   {
    "duration": 166,
    "start_time": "2022-02-01T15:56:14.449Z"
   },
   {
    "duration": 200,
    "start_time": "2022-02-01T15:56:14.616Z"
   },
   {
    "duration": 9,
    "start_time": "2022-02-01T15:56:14.818Z"
   },
   {
    "duration": 6,
    "start_time": "2022-02-01T15:56:14.828Z"
   },
   {
    "duration": 15,
    "start_time": "2022-02-01T15:56:14.835Z"
   },
   {
    "duration": 361,
    "start_time": "2022-02-01T15:56:14.851Z"
   },
   {
    "duration": 29,
    "start_time": "2022-02-01T15:56:15.214Z"
   },
   {
    "duration": 5,
    "start_time": "2022-02-01T15:56:15.244Z"
   },
   {
    "duration": 10,
    "start_time": "2022-02-01T15:56:15.251Z"
   },
   {
    "duration": 17,
    "start_time": "2022-02-01T15:56:15.262Z"
   },
   {
    "duration": 48,
    "start_time": "2022-02-01T15:56:15.281Z"
   },
   {
    "duration": 5,
    "start_time": "2022-02-01T15:56:15.331Z"
   },
   {
    "duration": 6,
    "start_time": "2022-02-01T15:56:15.337Z"
   },
   {
    "duration": 10,
    "start_time": "2022-02-01T15:56:15.344Z"
   },
   {
    "duration": 7,
    "start_time": "2022-02-01T15:56:15.355Z"
   },
   {
    "duration": 5,
    "start_time": "2022-02-01T15:56:15.364Z"
   },
   {
    "duration": 14,
    "start_time": "2022-02-01T15:56:15.371Z"
   },
   {
    "duration": 40,
    "start_time": "2022-02-01T15:56:15.387Z"
   },
   {
    "duration": 12,
    "start_time": "2022-02-01T15:56:15.428Z"
   },
   {
    "duration": 30,
    "start_time": "2022-02-01T15:56:15.442Z"
   },
   {
    "duration": 513,
    "start_time": "2022-02-01T15:56:15.473Z"
   },
   {
    "duration": 9,
    "start_time": "2022-02-01T15:56:23.488Z"
   },
   {
    "duration": 5,
    "start_time": "2022-02-01T15:56:25.779Z"
   },
   {
    "duration": 13,
    "start_time": "2022-02-01T15:56:27.593Z"
   },
   {
    "duration": 11,
    "start_time": "2022-02-01T15:56:27.798Z"
   },
   {
    "duration": 13,
    "start_time": "2022-02-01T15:56:27.973Z"
   },
   {
    "duration": 19,
    "start_time": "2022-02-01T15:56:28.934Z"
   },
   {
    "duration": 9,
    "start_time": "2022-02-01T15:56:29.319Z"
   },
   {
    "duration": 7,
    "start_time": "2022-02-01T15:56:29.530Z"
   },
   {
    "duration": 321,
    "start_time": "2022-02-01T15:56:30.124Z"
   },
   {
    "duration": 6,
    "start_time": "2022-02-01T15:56:30.447Z"
   },
   {
    "duration": 57579,
    "start_time": "2022-02-01T15:56:30.499Z"
   },
   {
    "duration": 654,
    "start_time": "2022-02-01T15:57:28.080Z"
   },
   {
    "duration": 6,
    "start_time": "2022-02-01T15:57:28.736Z"
   },
   {
    "duration": 6,
    "start_time": "2022-02-01T15:57:28.744Z"
   },
   {
    "duration": 6679,
    "start_time": "2022-02-01T15:57:28.751Z"
   },
   {
    "duration": 6,
    "start_time": "2022-02-01T15:57:35.432Z"
   },
   {
    "duration": 179,
    "start_time": "2022-02-01T15:57:35.439Z"
   },
   {
    "duration": 10,
    "start_time": "2022-02-01T15:57:35.621Z"
   },
   {
    "duration": 94,
    "start_time": "2022-02-01T15:57:35.633Z"
   },
   {
    "duration": 101,
    "start_time": "2022-02-01T15:57:35.730Z"
   },
   {
    "duration": 153,
    "start_time": "2022-02-01T15:57:35.833Z"
   },
   {
    "duration": 9,
    "start_time": "2022-02-01T15:57:35.988Z"
   },
   {
    "duration": 7,
    "start_time": "2022-02-01T15:57:35.999Z"
   },
   {
    "duration": 145,
    "start_time": "2022-02-01T15:57:36.026Z"
   },
   {
    "duration": 93,
    "start_time": "2022-02-01T15:57:36.173Z"
   },
   {
    "duration": 7,
    "start_time": "2022-02-01T15:57:36.268Z"
   },
   {
    "duration": 157,
    "start_time": "2022-02-01T15:57:36.277Z"
   },
   {
    "duration": 12,
    "start_time": "2022-02-01T15:57:36.436Z"
   },
   {
    "duration": 6,
    "start_time": "2022-02-01T15:57:36.449Z"
   },
   {
    "duration": 164,
    "start_time": "2022-02-01T15:57:36.457Z"
   },
   {
    "duration": 11,
    "start_time": "2022-02-01T15:57:36.626Z"
   }
  ],
  "kernelspec": {
   "display_name": "Python 3",
   "language": "python",
   "name": "python3"
  },
  "language_info": {
   "codemirror_mode": {
    "name": "ipython",
    "version": 3
   },
   "file_extension": ".py",
   "mimetype": "text/x-python",
   "name": "python",
   "nbconvert_exporter": "python",
   "pygments_lexer": "ipython3",
   "version": "3.8.8"
  },
  "toc": {
   "base_numbering": 1,
   "nav_menu": {},
   "number_sections": true,
   "sideBar": true,
   "skip_h1_title": false,
   "title_cell": "Table of Contents",
   "title_sidebar": "Contents",
   "toc_cell": false,
   "toc_position": {
    "height": "calc(100% - 180px)",
    "left": "10px",
    "top": "150px",
    "width": "195.188px"
   },
   "toc_section_display": true,
   "toc_window_display": true
  }
 },
 "nbformat": 4,
 "nbformat_minor": 5
}
