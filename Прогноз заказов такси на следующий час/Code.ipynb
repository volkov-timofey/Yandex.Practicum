{
 "cells": [
  {
   "cell_type": "markdown",
   "metadata": {
    "toc": true
   },
   "source": [
    "<h1>Содержание<span class=\"tocSkip\"></span></h1>\n",
    "<div class=\"toc\"><ul class=\"toc-item\"><li><span><a href=\"#Подготовка\" data-toc-modified-id=\"Подготовка-1\"><span class=\"toc-item-num\">1&nbsp;&nbsp;</span>Подготовка</a></span></li><li><span><a href=\"#Анализ\" data-toc-modified-id=\"Анализ-2\"><span class=\"toc-item-num\">2&nbsp;&nbsp;</span>Анализ</a></span></li><li><span><a href=\"#Обучение\" data-toc-modified-id=\"Обучение-3\"><span class=\"toc-item-num\">3&nbsp;&nbsp;</span>Обучение</a></span><ul class=\"toc-item\"><li><span><a href=\"#Функция-создания-признаков\" data-toc-modified-id=\"Функция-создания-признаков-3.1\"><span class=\"toc-item-num\">3.1&nbsp;&nbsp;</span>Функция создания признаков</a></span></li><li><span><a href=\"#LinearRegression\" data-toc-modified-id=\"LinearRegression-3.2\"><span class=\"toc-item-num\">3.2&nbsp;&nbsp;</span>LinearRegression</a></span></li><li><span><a href=\"#DecisionTreeRegressor\" data-toc-modified-id=\"DecisionTreeRegressor-3.3\"><span class=\"toc-item-num\">3.3&nbsp;&nbsp;</span>DecisionTreeRegressor</a></span></li><li><span><a href=\"#RandomForestRegressor\" data-toc-modified-id=\"RandomForestRegressor-3.4\"><span class=\"toc-item-num\">3.4&nbsp;&nbsp;</span>RandomForestRegressor</a></span></li><li><span><a href=\"#CatBoostRegressor\" data-toc-modified-id=\"CatBoostRegressor-3.5\"><span class=\"toc-item-num\">3.5&nbsp;&nbsp;</span>CatBoostRegressor</a></span></li><li><span><a href=\"#Короткий-вывод-по-обучению\" data-toc-modified-id=\"Короткий-вывод-по-обучению-3.6\"><span class=\"toc-item-num\">3.6&nbsp;&nbsp;</span>Короткий вывод по обучению</a></span></li></ul></li><li><span><a href=\"#Тестирование\" data-toc-modified-id=\"Тестирование-4\"><span class=\"toc-item-num\">4&nbsp;&nbsp;</span>Тестирование</a></span><ul class=\"toc-item\"><li><span><a href=\"#LinearRegression\" data-toc-modified-id=\"LinearRegression-4.1\"><span class=\"toc-item-num\">4.1&nbsp;&nbsp;</span>LinearRegression</a></span></li><li><span><a href=\"#DecisionTreeRegressor\" data-toc-modified-id=\"DecisionTreeRegressor-4.2\"><span class=\"toc-item-num\">4.2&nbsp;&nbsp;</span>DecisionTreeRegressor</a></span></li><li><span><a href=\"#RandomForestRegressor\" data-toc-modified-id=\"RandomForestRegressor-4.3\"><span class=\"toc-item-num\">4.3&nbsp;&nbsp;</span>RandomForestRegressor</a></span></li><li><span><a href=\"#CatBoostRegressor\" data-toc-modified-id=\"CatBoostRegressor-4.4\"><span class=\"toc-item-num\">4.4&nbsp;&nbsp;</span>CatBoostRegressor</a></span></li><li><span><a href=\"#Короткий-вывод-по-тестовой-части\" data-toc-modified-id=\"Короткий-вывод-по-тестовой-части-4.5\"><span class=\"toc-item-num\">4.5&nbsp;&nbsp;</span>Короткий вывод по тестовой части</a></span><ul class=\"toc-item\"><li><span><a href=\"#Вывод-сравнения-показателей-реального-и-предсказанного-спроса\" data-toc-modified-id=\"Вывод-сравнения-показателей-реального-и-предсказанного-спроса-4.5.1\"><span class=\"toc-item-num\">4.5.1&nbsp;&nbsp;</span>Вывод сравнения показателей реального и предсказанного спроса</a></span></li></ul></li></ul></li></ul></div>"
   ]
  },
  {
   "cell_type": "markdown",
   "metadata": {},
   "source": [
    "#  Прогнозирование заказов такси"
   ]
  },
  {
   "cell_type": "markdown",
   "metadata": {},
   "source": [
    "Задача: Для таксомоторной компании необходимо построить модель прогнозирующую количество заказов такси на следующий час в аэропортах города."
   ]
  },
  {
   "cell_type": "markdown",
   "metadata": {},
   "source": [
    "## Подготовка"
   ]
  },
  {
   "cell_type": "code",
   "execution_count": 22,
   "metadata": {},
   "outputs": [],
   "source": [
    "import pandas as pd\n",
    "import numpy as np\n",
    "\n",
    "import warnings\n",
    "warnings.filterwarnings('ignore')\n",
    "\n",
    "import seaborn as sns\n",
    "import matplotlib.pyplot as plt\n",
    "\n",
    "from sklearn.model_selection import train_test_split\n",
    "from sklearn.model_selection import TimeSeriesSplit\n",
    "from sklearn.model_selection import GridSearchCV\n",
    "\n",
    "from sklearn.tree import DecisionTreeRegressor\n",
    "from sklearn.model_selection import cross_val_score\n",
    "from sklearn.ensemble import RandomForestRegressor\n",
    "from sklearn.linear_model import LinearRegression\n",
    "from sklearn.ensemble import GradientBoostingRegressor\n",
    "\n",
    "from statsmodels.tsa.seasonal import seasonal_decompose\n",
    "\n",
    "from sklearn.metrics import mean_squared_error\n",
    "from sklearn.metrics import make_scorer\n",
    "\n",
    "\n",
    "from catboost import CatBoostRegressor\n",
    "\n",
    "pd.set_option('display.max_columns', None)"
   ]
  },
  {
   "cell_type": "code",
   "execution_count": 23,
   "metadata": {},
   "outputs": [],
   "source": [
    "try:\n",
    "    data = pd.read_csv(\"taxi.csv\")\n",
    "    \n",
    "except FileNotFoundError:\n",
    "    data = pd.read_csv(\"/datasets/taxi.csv\")"
   ]
  },
  {
   "cell_type": "code",
   "execution_count": 24,
   "metadata": {},
   "outputs": [
    {
     "name": "stdout",
     "output_type": "stream",
     "text": [
      "<class 'pandas.core.frame.DataFrame'>\n",
      "RangeIndex: 26496 entries, 0 to 26495\n",
      "Data columns (total 2 columns):\n",
      " #   Column      Non-Null Count  Dtype \n",
      "---  ------      --------------  ----- \n",
      " 0   datetime    26496 non-null  object\n",
      " 1   num_orders  26496 non-null  int64 \n",
      "dtypes: int64(1), object(1)\n",
      "memory usage: 414.1+ KB\n"
     ]
    }
   ],
   "source": [
    "data.info()"
   ]
  },
  {
   "cell_type": "code",
   "execution_count": 25,
   "metadata": {},
   "outputs": [
    {
     "data": {
      "text/html": [
       "<div>\n",
       "<style scoped>\n",
       "    .dataframe tbody tr th:only-of-type {\n",
       "        vertical-align: middle;\n",
       "    }\n",
       "\n",
       "    .dataframe tbody tr th {\n",
       "        vertical-align: top;\n",
       "    }\n",
       "\n",
       "    .dataframe thead th {\n",
       "        text-align: right;\n",
       "    }\n",
       "</style>\n",
       "<table border=\"1\" class=\"dataframe\">\n",
       "  <thead>\n",
       "    <tr style=\"text-align: right;\">\n",
       "      <th></th>\n",
       "      <th>datetime</th>\n",
       "      <th>num_orders</th>\n",
       "    </tr>\n",
       "  </thead>\n",
       "  <tbody>\n",
       "    <tr>\n",
       "      <th>2735</th>\n",
       "      <td>2018-03-19 23:50:00</td>\n",
       "      <td>14</td>\n",
       "    </tr>\n",
       "    <tr>\n",
       "      <th>15061</th>\n",
       "      <td>2018-06-13 14:10:00</td>\n",
       "      <td>14</td>\n",
       "    </tr>\n",
       "    <tr>\n",
       "      <th>8012</th>\n",
       "      <td>2018-04-25 15:20:00</td>\n",
       "      <td>13</td>\n",
       "    </tr>\n",
       "    <tr>\n",
       "      <th>8402</th>\n",
       "      <td>2018-04-28 08:20:00</td>\n",
       "      <td>17</td>\n",
       "    </tr>\n",
       "    <tr>\n",
       "      <th>1869</th>\n",
       "      <td>2018-03-13 23:30:00</td>\n",
       "      <td>19</td>\n",
       "    </tr>\n",
       "    <tr>\n",
       "      <th>11265</th>\n",
       "      <td>2018-05-18 05:30:00</td>\n",
       "      <td>2</td>\n",
       "    </tr>\n",
       "    <tr>\n",
       "      <th>8672</th>\n",
       "      <td>2018-04-30 05:20:00</td>\n",
       "      <td>2</td>\n",
       "    </tr>\n",
       "    <tr>\n",
       "      <th>18489</th>\n",
       "      <td>2018-07-07 09:30:00</td>\n",
       "      <td>17</td>\n",
       "    </tr>\n",
       "    <tr>\n",
       "      <th>25631</th>\n",
       "      <td>2018-08-25 23:50:00</td>\n",
       "      <td>45</td>\n",
       "    </tr>\n",
       "    <tr>\n",
       "      <th>6588</th>\n",
       "      <td>2018-04-15 18:00:00</td>\n",
       "      <td>3</td>\n",
       "    </tr>\n",
       "  </tbody>\n",
       "</table>\n",
       "</div>"
      ],
      "text/plain": [
       "                  datetime  num_orders\n",
       "2735   2018-03-19 23:50:00          14\n",
       "15061  2018-06-13 14:10:00          14\n",
       "8012   2018-04-25 15:20:00          13\n",
       "8402   2018-04-28 08:20:00          17\n",
       "1869   2018-03-13 23:30:00          19\n",
       "11265  2018-05-18 05:30:00           2\n",
       "8672   2018-04-30 05:20:00           2\n",
       "18489  2018-07-07 09:30:00          17\n",
       "25631  2018-08-25 23:50:00          45\n",
       "6588   2018-04-15 18:00:00           3"
      ]
     },
     "execution_count": 25,
     "metadata": {},
     "output_type": "execute_result"
    }
   ],
   "source": [
    "data.sample(10)"
   ]
  },
  {
   "cell_type": "code",
   "execution_count": 26,
   "metadata": {
    "scrolled": true
   },
   "outputs": [
    {
     "name": "stdout",
     "output_type": "stream",
     "text": [
      "<class 'pandas.core.frame.DataFrame'>\n",
      "RangeIndex: 26496 entries, 0 to 26495\n",
      "Data columns (total 2 columns):\n",
      " #   Column      Non-Null Count  Dtype         \n",
      "---  ------      --------------  -----         \n",
      " 0   datetime    26496 non-null  datetime64[ns]\n",
      " 1   num_orders  26496 non-null  int64         \n",
      "dtypes: datetime64[ns](1), int64(1)\n",
      "memory usage: 414.1 KB\n"
     ]
    }
   ],
   "source": [
    "data['datetime'] = pd.to_datetime(data['datetime'])\n",
    "data.info()"
   ]
  },
  {
   "cell_type": "code",
   "execution_count": 27,
   "metadata": {},
   "outputs": [],
   "source": [
    "data.set_index('datetime', inplace=True)\n",
    "data.sort_index(inplace=True)"
   ]
  },
  {
   "cell_type": "markdown",
   "metadata": {},
   "source": [
    "Ресемплинг на часовой интервал, с суммированием количества заказов в течение часа."
   ]
  },
  {
   "cell_type": "code",
   "execution_count": 28,
   "metadata": {
    "scrolled": false
   },
   "outputs": [
    {
     "data": {
      "text/html": [
       "<div>\n",
       "<style scoped>\n",
       "    .dataframe tbody tr th:only-of-type {\n",
       "        vertical-align: middle;\n",
       "    }\n",
       "\n",
       "    .dataframe tbody tr th {\n",
       "        vertical-align: top;\n",
       "    }\n",
       "\n",
       "    .dataframe thead th {\n",
       "        text-align: right;\n",
       "    }\n",
       "</style>\n",
       "<table border=\"1\" class=\"dataframe\">\n",
       "  <thead>\n",
       "    <tr style=\"text-align: right;\">\n",
       "      <th></th>\n",
       "      <th>num_orders</th>\n",
       "    </tr>\n",
       "    <tr>\n",
       "      <th>datetime</th>\n",
       "      <th></th>\n",
       "    </tr>\n",
       "  </thead>\n",
       "  <tbody>\n",
       "    <tr>\n",
       "      <th>2018-03-01 00:00:00</th>\n",
       "      <td>124</td>\n",
       "    </tr>\n",
       "    <tr>\n",
       "      <th>2018-03-01 01:00:00</th>\n",
       "      <td>85</td>\n",
       "    </tr>\n",
       "    <tr>\n",
       "      <th>2018-03-01 02:00:00</th>\n",
       "      <td>71</td>\n",
       "    </tr>\n",
       "    <tr>\n",
       "      <th>2018-03-01 03:00:00</th>\n",
       "      <td>66</td>\n",
       "    </tr>\n",
       "    <tr>\n",
       "      <th>2018-03-01 04:00:00</th>\n",
       "      <td>43</td>\n",
       "    </tr>\n",
       "    <tr>\n",
       "      <th>...</th>\n",
       "      <td>...</td>\n",
       "    </tr>\n",
       "    <tr>\n",
       "      <th>2018-08-31 19:00:00</th>\n",
       "      <td>136</td>\n",
       "    </tr>\n",
       "    <tr>\n",
       "      <th>2018-08-31 20:00:00</th>\n",
       "      <td>154</td>\n",
       "    </tr>\n",
       "    <tr>\n",
       "      <th>2018-08-31 21:00:00</th>\n",
       "      <td>159</td>\n",
       "    </tr>\n",
       "    <tr>\n",
       "      <th>2018-08-31 22:00:00</th>\n",
       "      <td>223</td>\n",
       "    </tr>\n",
       "    <tr>\n",
       "      <th>2018-08-31 23:00:00</th>\n",
       "      <td>205</td>\n",
       "    </tr>\n",
       "  </tbody>\n",
       "</table>\n",
       "<p>4416 rows × 1 columns</p>\n",
       "</div>"
      ],
      "text/plain": [
       "                     num_orders\n",
       "datetime                       \n",
       "2018-03-01 00:00:00         124\n",
       "2018-03-01 01:00:00          85\n",
       "2018-03-01 02:00:00          71\n",
       "2018-03-01 03:00:00          66\n",
       "2018-03-01 04:00:00          43\n",
       "...                         ...\n",
       "2018-08-31 19:00:00         136\n",
       "2018-08-31 20:00:00         154\n",
       "2018-08-31 21:00:00         159\n",
       "2018-08-31 22:00:00         223\n",
       "2018-08-31 23:00:00         205\n",
       "\n",
       "[4416 rows x 1 columns]"
      ]
     },
     "execution_count": 28,
     "metadata": {},
     "output_type": "execute_result"
    }
   ],
   "source": [
    "data = data.resample('1H').sum()\n",
    "data"
   ]
  },
  {
   "cell_type": "markdown",
   "metadata": {},
   "source": [
    "## Анализ"
   ]
  },
  {
   "cell_type": "markdown",
   "metadata": {},
   "source": [
    "В обновлённом датафрейме имеем временной ряд количества заказов такси с марта по август 2018 года, разбитых по 1 часу, всего временных интервалов 4416."
   ]
  },
  {
   "cell_type": "code",
   "execution_count": 29,
   "metadata": {},
   "outputs": [
    {
     "data": {
      "image/png": "[encoded data removed]",
      "text/plain": [
       "<Figure size 432x288 with 1 Axes>"
      ]
     },
     "metadata": {
      "needs_background": "light"
     },
     "output_type": "display_data"
    }
   ],
   "source": [
    "data['rolling_mean'] = data.rolling(48).mean()\n",
    "data.plot()\n",
    "plt.title('Общий вид временного ряда и скользящего среднего')\n",
    "plt.show()"
   ]
  },
  {
   "cell_type": "markdown",
   "metadata": {},
   "source": [
    "Виден тренд на увеличение спроса услуг такси."
   ]
  },
  {
   "cell_type": "markdown",
   "metadata": {},
   "source": [
    "Разобьем временной ряд на составляющие: тренд, сезонность и шум"
   ]
  },
  {
   "cell_type": "code",
   "execution_count": 30,
   "metadata": {
    "scrolled": false
   },
   "outputs": [
    {
     "data": {
      "image/png": "[encoded data removed]",
      "text/plain": [
       "<Figure size 720x432 with 1 Axes>"
      ]
     },
     "metadata": {
      "needs_background": "light"
     },
     "output_type": "display_data"
    }
   ],
   "source": [
    "decomposed = seasonal_decompose(data['num_orders'])\n",
    "data['trend'] = decomposed.trend\n",
    "data['seasonal'] = decomposed.seasonal\n",
    "data['resid'] = decomposed.resid\n",
    "\n",
    "data[['trend', 'seasonal', 'resid']].plot(figsize=(10,6))\n",
    "plt.title('Тренд, сезонность и шум на временной шкале')\n",
    "plt.show()"
   ]
  },
  {
   "cell_type": "markdown",
   "metadata": {},
   "source": [
    "Тренд, как видно, идёт на увеличение от марта к началу осени.\n",
    "\n",
    "Сезонность так же присутствует.\n",
    "\n",
    "Достаточно сильна шумовая составляющая."
   ]
  },
  {
   "cell_type": "code",
   "execution_count": 31,
   "metadata": {
    "scrolled": false
   },
   "outputs": [
    {
     "data": {
      "image/png": "[encoded data removed]",
      "text/plain": [
       "<Figure size 864x432 with 1 Axes>"
      ]
     },
     "metadata": {
      "needs_background": "light"
     },
     "output_type": "display_data"
    }
   ],
   "source": [
    "data['seasonal']['2018-03-01':'2018-03-12'].plot(figsize=(12,6))\n",
    "plt.title('График сезонности на ограниченной временной шкале')\n",
    "plt.show()"
   ]
  },
  {
   "cell_type": "markdown",
   "metadata": {},
   "source": [
    "Из более чем недельного среза, видно что сезонная составляющая не меняется в зависимости от дня недели.\n",
    "\n",
    "Посмотрим суточный график сезонности и определим пиковые нагрузки в аэпорту. Видимо в это время осуществляется вылет основных рейсов."
   ]
  },
  {
   "cell_type": "code",
   "execution_count": 32,
   "metadata": {},
   "outputs": [
    {
     "data": {
      "image/png": "[encoded data removed]",
      "text/plain": [
       "<Figure size 864x432 with 1 Axes>"
      ]
     },
     "metadata": {
      "needs_background": "light"
     },
     "output_type": "display_data"
    }
   ],
   "source": [
    "data['seasonal']['2018-03-01 06:00:00' :'2018-03-02 06:00:00'].plot(figsize=(12,6))\n",
    "plt.title('Суточный график сезонности')\n",
    "plt.show()"
   ]
  },
  {
   "cell_type": "code",
   "execution_count": 33,
   "metadata": {
    "scrolled": true
   },
   "outputs": [
    {
     "data": {
      "image/png": "[encoded data removed]",
      "text/plain": [
       "<Figure size 432x288 with 1 Axes>"
      ]
     },
     "metadata": {
      "needs_background": "light"
     },
     "output_type": "display_data"
    }
   ],
   "source": [
    "data['seasonal']['2018-03-01 06:00:00':'2018-03-01 12:00:00'].plot()\n",
    "plt.title('Локальный пик с 9.00 до 10.00')\n",
    "plt.show()"
   ]
  },
  {
   "cell_type": "code",
   "execution_count": 34,
   "metadata": {
    "scrolled": true
   },
   "outputs": [
    {
     "data": {
      "image/png": "[encoded data removed]",
      "text/plain": [
       "<Figure size 432x288 with 1 Axes>"
      ]
     },
     "metadata": {
      "needs_background": "light"
     },
     "output_type": "display_data"
    }
   ],
   "source": [
    "data['seasonal']['2018-03-01 15:00:00':'2018-03-01 18:00:00'].plot()\n",
    "plt.title('Локальный пик с 15.00 до 17.00')\n",
    "plt.show()"
   ]
  },
  {
   "cell_type": "code",
   "execution_count": 35,
   "metadata": {},
   "outputs": [
    {
     "data": {
      "image/png": "[encoded data removed]",
      "text/plain": [
       "<Figure size 432x288 with 1 Axes>"
      ]
     },
     "metadata": {
      "needs_background": "light"
     },
     "output_type": "display_data"
    }
   ],
   "source": [
    "data['seasonal']['2018-03-01 23:00:00':'2018-03-02 01:00:00'].plot()\n",
    "plt.title('Самые пиковые нагрузки около полуночи 00.00')\n",
    "plt.show()"
   ]
  },
  {
   "cell_type": "markdown",
   "metadata": {},
   "source": [
    "Вывод: \n",
    "\n",
    " - Общий тренд идет на увеличение;\n",
    " - Сезонность проявляется каждые сутки;\n",
    "\n",
    "Основной спрос на услуги такси с 7.00 по 4.00 следущего дня.\n",
    "Утренние часы: около 6.00 самый низкий спрос. \n",
    "\n",
    " - 1 локальный максимум - утреннее время с 7 до 10;\n",
    " - 2 локальный максимум - около 16.00;\n",
    " - 3 локальный максимум - 00.00.\n",
    "\n",
    "Время пиковых нагрузок связано с высоким количеством прилетов и вылетов в данные часы, максимальная нагрузка в 00.00, возможно так же обусловлена прекращением работы общественного транспорта (период с 22.00 до 03.00 указывает на увеличение количества заказов, даже более чем в локальном максимуме около 16.00)."
   ]
  },
  {
   "cell_type": "markdown",
   "metadata": {},
   "source": [
    "## Обучение"
   ]
  },
  {
   "cell_type": "markdown",
   "metadata": {},
   "source": [
    "Для обучения, максимальный шаг свига выберем равный 168 часам (24 часа в сутках * 7 дней в неделю, сдвиг на неделю), в процессе обучения в подборе сдвига и выбора размера окна интервала я руководствовался именно этими значениями max_lag - 168, rolling_mean_size - 24, по мере обучения я сократил окна для подбора этих параметров до минимума (для каждой модели разные занчения)."
   ]
  },
  {
   "cell_type": "code",
   "execution_count": 36,
   "metadata": {},
   "outputs": [
    {
     "data": {
      "text/html": [
       "<div>\n",
       "<style scoped>\n",
       "    .dataframe tbody tr th:only-of-type {\n",
       "        vertical-align: middle;\n",
       "    }\n",
       "\n",
       "    .dataframe tbody tr th {\n",
       "        vertical-align: top;\n",
       "    }\n",
       "\n",
       "    .dataframe thead th {\n",
       "        text-align: right;\n",
       "    }\n",
       "</style>\n",
       "<table border=\"1\" class=\"dataframe\">\n",
       "  <thead>\n",
       "    <tr style=\"text-align: right;\">\n",
       "      <th></th>\n",
       "      <th>num_orders</th>\n",
       "    </tr>\n",
       "    <tr>\n",
       "      <th>datetime</th>\n",
       "      <th></th>\n",
       "    </tr>\n",
       "  </thead>\n",
       "  <tbody>\n",
       "    <tr>\n",
       "      <th>2018-03-01 00:00:00</th>\n",
       "      <td>124</td>\n",
       "    </tr>\n",
       "    <tr>\n",
       "      <th>2018-03-01 01:00:00</th>\n",
       "      <td>85</td>\n",
       "    </tr>\n",
       "    <tr>\n",
       "      <th>2018-03-01 02:00:00</th>\n",
       "      <td>71</td>\n",
       "    </tr>\n",
       "    <tr>\n",
       "      <th>2018-03-01 03:00:00</th>\n",
       "      <td>66</td>\n",
       "    </tr>\n",
       "    <tr>\n",
       "      <th>2018-03-01 04:00:00</th>\n",
       "      <td>43</td>\n",
       "    </tr>\n",
       "  </tbody>\n",
       "</table>\n",
       "</div>"
      ],
      "text/plain": [
       "                     num_orders\n",
       "datetime                       \n",
       "2018-03-01 00:00:00         124\n",
       "2018-03-01 01:00:00          85\n",
       "2018-03-01 02:00:00          71\n",
       "2018-03-01 03:00:00          66\n",
       "2018-03-01 04:00:00          43"
      ]
     },
     "execution_count": 36,
     "metadata": {},
     "output_type": "execute_result"
    }
   ],
   "source": [
    "MSE = make_scorer(mean_squared_error)\n",
    "\n",
    "\n",
    "# восстановим дата фрейм для дальнейшего обучения\n",
    "data = pd.DataFrame(data['num_orders'])\n",
    "data.head()"
   ]
  },
  {
   "cell_type": "markdown",
   "metadata": {},
   "source": [
    "### Функция создания признаков"
   ]
  },
  {
   "cell_type": "code",
   "execution_count": 37,
   "metadata": {},
   "outputs": [],
   "source": [
    "def make_features(data, max_lag, rolling_mean_size):\n",
    "    data['dayofweek'] = data.index.dayofweek\n",
    "    data['hour'] = data.index.hour\n",
    "    \n",
    "    for lag in range(1, max_lag + 1):\n",
    "        data['lag_{}'.format(lag)] = data['num_orders'].shift(lag)\n",
    "\n",
    "    data['rolling_mean'] = data['num_orders'].shift().rolling(rolling_mean_size).mean()"
   ]
  },
  {
   "cell_type": "markdown",
   "metadata": {},
   "source": [
    "### LinearRegression"
   ]
  },
  {
   "cell_type": "code",
   "execution_count": 38,
   "metadata": {},
   "outputs": [
    {
     "name": "stdout",
     "output_type": "stream",
     "text": [
      "RMSE обучающей выборки: 31.738876419539274\n"
     ]
    }
   ],
   "source": [
    "RSME_best = 999\n",
    "\n",
    "make_features(data, 2, 24)\n",
    "        \n",
    "train, test = train_test_split(data, shuffle=False, test_size=0.1)\n",
    "train = train.dropna()\n",
    "        \n",
    "features_train = train.drop('num_orders', axis=1)\n",
    "target_train = train['num_orders']\n",
    "        \n",
    "lin_reg = LinearRegression(n_jobs=-1)\n",
    "tscv = TimeSeriesSplit(n_splits=8)\n",
    "scores = cross_val_score(lin_reg, features_train, target_train, scoring=MSE, cv=tscv)\n",
    "\n",
    "if RSME_best > scores.mean() ** 0.5:\n",
    "    RSME_best = scores.mean() ** 0.5      \n",
    "        \n",
    "print(\"RMSE обучающей выборки:\", RSME_best)"
   ]
  },
  {
   "cell_type": "code",
   "execution_count": 39,
   "metadata": {},
   "outputs": [],
   "source": [
    "# создание сводной таблицы с результатами\n",
    "\n",
    "pivot = pd.DataFrame(columns=['RMSE_train', 'RMSE_test'],\n",
    "                     index=['LinearRegression', 'DecisionTreeRegressor', 'RandomForestRegressor', 'CatBoostRegressor'])\n",
    "pivot.loc['LinearRegression', 'RMSE_train'] = RSME_best"
   ]
  },
  {
   "cell_type": "markdown",
   "metadata": {},
   "source": [
    "### DecisionTreeRegressor"
   ]
  },
  {
   "cell_type": "code",
   "execution_count": 40,
   "metadata": {},
   "outputs": [
    {
     "name": "stdout",
     "output_type": "stream",
     "text": [
      "RMSE обучающей выборки: 28.113861930870936\n"
     ]
    }
   ],
   "source": [
    "make_features(data, 2, 24)\n",
    "        \n",
    "train, test = train_test_split(data, shuffle=False, test_size=0.1)\n",
    "train = train.dropna()\n",
    "       \n",
    "features_train = train.drop('num_orders', axis=1)\n",
    "target_train = train['num_orders']\n",
    "\n",
    "parametrs = {'max_depth': range (1,13,2)}\n",
    "\n",
    "tscv = TimeSeriesSplit(n_splits=8)\n",
    "\n",
    "grid_tree = GridSearchCV(DecisionTreeRegressor(random_state=12345),\n",
    "                       param_grid=parametrs,\n",
    "                       scoring='neg_mean_squared_error',\n",
    "                       n_jobs=-1,\n",
    "                       cv=tscv,\n",
    "                       verbose=0)\n",
    "grid_tree.fit(features_train, target_train)\n",
    "\n",
    "scores = cross_val_score(grid_tree, features_train, target_train, scoring=MSE, cv=tscv)\n",
    "\n",
    "RSME_best = scores.mean() ** 0.5\n",
    "        \n",
    "print(\"RMSE обучающей выборки:\", RSME_best)\n",
    "\n",
    "pivot.loc['DecisionTreeRegressor', 'RMSE_train'] = RSME_best"
   ]
  },
  {
   "cell_type": "markdown",
   "metadata": {},
   "source": [
    "### RandomForestRegressor"
   ]
  },
  {
   "cell_type": "code",
   "execution_count": 41,
   "metadata": {},
   "outputs": [
    {
     "name": "stdout",
     "output_type": "stream",
     "text": [
      "RMSE обучающей выборки: 25.126478293205228\n"
     ]
    }
   ],
   "source": [
    "make_features(data, 2, 24)\n",
    "        \n",
    "train, test = train_test_split(data, shuffle=False, test_size=0.1)\n",
    "train = train.dropna()\n",
    "       \n",
    "features_train = train.drop('num_orders', axis=1)\n",
    "target_train = train['num_orders']\n",
    "\n",
    "parametrs = { 'max_depth': range (1, 13, 2),\n",
    "             'n_estimators': range (10, 51, 10)\n",
    "            }\n",
    "        \n",
    "grid_forest = GridSearchCV(RandomForestRegressor(random_state=12345),\n",
    "                       param_grid=parametrs,\n",
    "                       scoring='neg_mean_squared_error',\n",
    "                       n_jobs=-1,\n",
    "                       cv=tscv,\n",
    "                       verbose=0)\n",
    "grid_forest.fit(features_train, target_train)\n",
    "\n",
    "scores = cross_val_score(grid_forest, features_train, target_train, scoring=MSE, cv=tscv)\n",
    "\n",
    "RSME_best = scores.mean() ** 0.5\n",
    "        \n",
    "print(\"RMSE обучающей выборки:\", RSME_best)\n",
    "\n",
    "pivot.loc['RandomForestRegressor', 'RMSE_train'] = RSME_best"
   ]
  },
  {
   "cell_type": "markdown",
   "metadata": {},
   "source": [
    "### CatBoostRegressor"
   ]
  },
  {
   "cell_type": "code",
   "execution_count": 42,
   "metadata": {},
   "outputs": [],
   "source": [
    "make_features(data, 2, 24)\n",
    "        \n",
    "train, test = train_test_split(data, shuffle=False, test_size=0.1)\n",
    "train = train.dropna()\n",
    "       \n",
    "features_train = train.drop('num_orders', axis=1)\n",
    "target_train = train['num_orders']\n",
    "\n",
    "parametrs = {'iterations': range (50, 61, 10)}\n",
    "\n",
    "grid_catboost = GridSearchCV(CatBoostRegressor(loss_function = 'RMSE', random_state=12345, verbose=0),\n",
    "                     param_grid=parametrs,\n",
    "                     scoring='neg_mean_squared_error',\n",
    "                     n_jobs=-1,\n",
    "                     cv=tscv,\n",
    "                     verbose=0)\n",
    "grid_catboost.fit(features_train, target_train)\n",
    "\n",
    "scores = cross_val_score(grid_catboost, features_train, target_train, scoring=MSE, cv=tscv)\n",
    "RSME_best = scores.mean() ** 0.5\n",
    "        \n",
    "pivot.loc['CatBoostRegressor', 'RMSE_train'] = RSME_best"
   ]
  },
  {
   "cell_type": "code",
   "execution_count": 43,
   "metadata": {
    "scrolled": true
   },
   "outputs": [
    {
     "name": "stdout",
     "output_type": "stream",
     "text": [
      "RMSE обучающей выборки: 25.496799919230227\n"
     ]
    }
   ],
   "source": [
    "print(\"RMSE обучающей выборки:\", RSME_best)"
   ]
  },
  {
   "cell_type": "markdown",
   "metadata": {},
   "source": [
    "### Короткий вывод по обучению"
   ]
  },
  {
   "cell_type": "markdown",
   "metadata": {},
   "source": [
    "В результате обучения моделей, подобраны гиперпараметры моделей, шаг свдвига, размер окна скользящего среднего, при котором достигнуты минимальные значения RMSE. Лучшее значение показала LinearRegression, на втором месте RandomForestRegressor и CatBoostRegressor, худшее значение метрики показала модель DecisionTreeRegressor. Посмотрим как поведут себя модели на тестовых выборках.\n",
    "\n",
    "Данные для визуального анализа собраны в сводную таблицу."
   ]
  },
  {
   "cell_type": "markdown",
   "metadata": {},
   "source": [
    "## Тестирование"
   ]
  },
  {
   "cell_type": "markdown",
   "metadata": {},
   "source": [
    "### LinearRegression"
   ]
  },
  {
   "cell_type": "code",
   "execution_count": 44,
   "metadata": {},
   "outputs": [],
   "source": [
    "make_features(data, 2, 24)\n",
    "        \n",
    "train, test = train_test_split(data, shuffle=False, test_size=0.1)\n",
    "features_test = test.drop('num_orders', axis=1)\n",
    "target_test = test['num_orders']"
   ]
  },
  {
   "cell_type": "code",
   "execution_count": 45,
   "metadata": {
    "scrolled": true
   },
   "outputs": [
    {
     "name": "stdout",
     "output_type": "stream",
     "text": [
      "RMSE обучающей выборки: 53.6214484512566\n"
     ]
    }
   ],
   "source": [
    "scores = cross_val_score(lin_reg, features_test, target_test, scoring=MSE, cv=tscv)\n",
    "print('RMSE обучающей выборки:', scores.mean() ** 0.5)\n",
    "pivot.loc['LinearRegression', 'RMSE_test'] = scores.mean() ** 0.5"
   ]
  },
  {
   "cell_type": "markdown",
   "metadata": {},
   "source": [
    "### DecisionTreeRegressor"
   ]
  },
  {
   "cell_type": "code",
   "execution_count": 46,
   "metadata": {},
   "outputs": [],
   "source": [
    "make_features(data, 2, 24)\n",
    "        \n",
    "train, test = train_test_split(data, shuffle=False, test_size=0.1)\n",
    "features_test = test.drop('num_orders', axis=1)\n",
    "target_test = test['num_orders']"
   ]
  },
  {
   "cell_type": "code",
   "execution_count": 47,
   "metadata": {},
   "outputs": [
    {
     "name": "stdout",
     "output_type": "stream",
     "text": [
      "RMSE обучающей выборки: 49.962310225558184\n"
     ]
    }
   ],
   "source": [
    "scores = cross_val_score(grid_tree, features_test, target_test, scoring=MSE, cv=tscv)\n",
    "print('RMSE обучающей выборки:', scores.mean() ** 0.5)\n",
    "pivot.loc['DecisionTreeRegressor', 'RMSE_test'] = scores.mean() ** 0.5"
   ]
  },
  {
   "cell_type": "markdown",
   "metadata": {},
   "source": [
    "### RandomForestRegressor"
   ]
  },
  {
   "cell_type": "code",
   "execution_count": 48,
   "metadata": {},
   "outputs": [],
   "source": [
    "make_features(data, 2, 24)\n",
    "        \n",
    "train, test = train_test_split(data, shuffle=False, test_size=0.1)\n",
    "features_test = test.drop('num_orders', axis=1)\n",
    "target_test = test['num_orders']\n",
    "target_test_forest = target_test\n",
    "\n",
    "predict_forest = grid_forest.predict(features_test)"
   ]
  },
  {
   "cell_type": "code",
   "execution_count": 49,
   "metadata": {},
   "outputs": [
    {
     "name": "stdout",
     "output_type": "stream",
     "text": [
      "RMSE обучающей выборки: 44.87879246539856\n"
     ]
    }
   ],
   "source": [
    "scores = cross_val_score(grid_forest, features_test, target_test, scoring=MSE, cv=tscv)\n",
    "print('RMSE обучающей выборки:', scores.mean() ** 0.5)\n",
    "pivot.loc['RandomForestRegressor', 'RMSE_test'] = scores.mean() ** 0.5"
   ]
  },
  {
   "cell_type": "markdown",
   "metadata": {},
   "source": [
    "### CatBoostRegressor"
   ]
  },
  {
   "cell_type": "code",
   "execution_count": 50,
   "metadata": {},
   "outputs": [],
   "source": [
    "make_features(data, 2, 24)\n",
    "        \n",
    "train, test = train_test_split(data, shuffle=False, test_size=0.1)\n",
    "features_test = test.drop('num_orders', axis=1)\n",
    "target_test = test['num_orders']"
   ]
  },
  {
   "cell_type": "code",
   "execution_count": 51,
   "metadata": {
    "scrolled": true
   },
   "outputs": [
    {
     "data": {
      "text/plain": [
       "49.4899284020346"
      ]
     },
     "execution_count": 51,
     "metadata": {},
     "output_type": "execute_result"
    }
   ],
   "source": [
    "scores = cross_val_score(grid_catboost, features_test, target_test, scoring=MSE, cv=tscv)\n",
    "scores.mean() ** 0.5"
   ]
  },
  {
   "cell_type": "code",
   "execution_count": 52,
   "metadata": {
    "scrolled": false
   },
   "outputs": [
    {
     "name": "stdout",
     "output_type": "stream",
     "text": [
      "RMSE обучающей выборки: 49.4899284020346\n"
     ]
    }
   ],
   "source": [
    "pivot.loc['CatBoostRegressor', 'RMSE_test'] = scores.mean() ** 0.5\n",
    "print('RMSE обучающей выборки:', scores.mean() ** 0.5)"
   ]
  },
  {
   "cell_type": "code",
   "execution_count": 53,
   "metadata": {
    "scrolled": true
   },
   "outputs": [
    {
     "data": {
      "text/html": [
       "<div>\n",
       "<style scoped>\n",
       "    .dataframe tbody tr th:only-of-type {\n",
       "        vertical-align: middle;\n",
       "    }\n",
       "\n",
       "    .dataframe tbody tr th {\n",
       "        vertical-align: top;\n",
       "    }\n",
       "\n",
       "    .dataframe thead th {\n",
       "        text-align: right;\n",
       "    }\n",
       "</style>\n",
       "<table border=\"1\" class=\"dataframe\">\n",
       "  <thead>\n",
       "    <tr style=\"text-align: right;\">\n",
       "      <th></th>\n",
       "      <th>RMSE_train</th>\n",
       "      <th>RMSE_test</th>\n",
       "    </tr>\n",
       "  </thead>\n",
       "  <tbody>\n",
       "    <tr>\n",
       "      <th>LinearRegression</th>\n",
       "      <td>31.738876</td>\n",
       "      <td>53.621448</td>\n",
       "    </tr>\n",
       "    <tr>\n",
       "      <th>DecisionTreeRegressor</th>\n",
       "      <td>28.113862</td>\n",
       "      <td>49.96231</td>\n",
       "    </tr>\n",
       "    <tr>\n",
       "      <th>RandomForestRegressor</th>\n",
       "      <td>25.126478</td>\n",
       "      <td>44.878792</td>\n",
       "    </tr>\n",
       "    <tr>\n",
       "      <th>CatBoostRegressor</th>\n",
       "      <td>25.4968</td>\n",
       "      <td>49.489928</td>\n",
       "    </tr>\n",
       "  </tbody>\n",
       "</table>\n",
       "</div>"
      ],
      "text/plain": [
       "                      RMSE_train  RMSE_test\n",
       "LinearRegression       31.738876  53.621448\n",
       "DecisionTreeRegressor  28.113862   49.96231\n",
       "RandomForestRegressor  25.126478  44.878792\n",
       "CatBoostRegressor        25.4968  49.489928"
      ]
     },
     "execution_count": 53,
     "metadata": {},
     "output_type": "execute_result"
    }
   ],
   "source": [
    "pivot"
   ]
  },
  {
   "cell_type": "markdown",
   "metadata": {},
   "source": [
    "### Короткий вывод по тестовой части"
   ]
  },
  {
   "cell_type": "markdown",
   "metadata": {},
   "source": [
    "Лучший результат на тестовой выборке показала модель RandomForestRegressor, с небольшим отставанием CatBoostRegressor."
   ]
  },
  {
   "cell_type": "markdown",
   "metadata": {},
   "source": [
    "Сравним показатели реального и предсказанного спроса"
   ]
  },
  {
   "cell_type": "code",
   "execution_count": 54,
   "metadata": {},
   "outputs": [
    {
     "data": {
      "image/png": "[encoded data removed]",
      "text/plain": [
       "<Figure size 720x432 with 1 Axes>"
      ]
     },
     "metadata": {
      "needs_background": "light"
     },
     "output_type": "display_data"
    }
   ],
   "source": [
    "errors = pd.DataFrame(target_test_forest)\n",
    "\n",
    "errors['num_orders_predict'] = predict_forest.round().astype('int')\n",
    "errors['2018-08-29':'2018-08-31'].plot(figsize=(10,6))\n",
    "plt.title('Сравнение показателей реального и предсказанного спроса')\n",
    "plt.show()"
   ]
  },
  {
   "cell_type": "markdown",
   "metadata": {},
   "source": [
    "#### Вывод сравнения показателей реального и предсказанного спроса"
   ]
  },
  {
   "cell_type": "markdown",
   "metadata": {},
   "source": [
    "<u>Основные не попадалки</u>\n",
    "\n",
    "Самый аномальный период, где модель сильно не совпала с реальными результатами.\n",
    "    \n",
    "29.08 модель следует за графиком реальных значений, но уже 30 августа случился непредвиденный всплеск, который модель не отработала, это обусловлено единичным случаем нетипичного события. Возможно из за сложных метеоусловий задержали много рейсов, просадки спроса до и после экстремума."
   ]
  },
  {
   "cell_type": "code",
   "execution_count": null,
   "metadata": {},
   "outputs": [],
   "source": []
  }
 ],
 "metadata": {
  "ExecuteTimeLog": [
   {
    "duration": 1293,
    "start_time": "2021-11-17T02:34:01.876Z"
   },
   {
    "duration": 403,
    "start_time": "2021-11-17T02:34:03.171Z"
   },
   {
    "duration": 7,
    "start_time": "2021-11-17T02:34:03.576Z"
   },
   {
    "duration": 14,
    "start_time": "2021-11-17T02:34:03.585Z"
   },
   {
    "duration": 12,
    "start_time": "2021-11-17T02:34:03.600Z"
   },
   {
    "duration": 4,
    "start_time": "2021-11-17T02:34:03.614Z"
   },
   {
    "duration": 21,
    "start_time": "2021-11-17T02:34:03.619Z"
   },
   {
    "duration": 312,
    "start_time": "2021-11-17T02:34:03.643Z"
   },
   {
    "duration": 455,
    "start_time": "2021-11-17T02:34:03.957Z"
   },
   {
    "duration": 253,
    "start_time": "2021-11-17T02:34:04.413Z"
   },
   {
    "duration": 236,
    "start_time": "2021-11-17T02:34:04.668Z"
   },
   {
    "duration": 176,
    "start_time": "2021-11-17T02:34:04.906Z"
   },
   {
    "duration": 146,
    "start_time": "2021-11-17T02:34:05.083Z"
   },
   {
    "duration": 156,
    "start_time": "2021-11-17T02:34:05.231Z"
   },
   {
    "duration": 11,
    "start_time": "2021-11-17T02:34:05.388Z"
   },
   {
    "duration": 14,
    "start_time": "2021-11-17T02:34:05.400Z"
   },
   {
    "duration": 6,
    "start_time": "2021-11-17T02:34:05.416Z"
   },
   {
    "duration": 134445,
    "start_time": "2021-11-17T02:34:05.424Z"
   },
   {
    "duration": 10118,
    "start_time": "2021-11-17T02:36:19.871Z"
   },
   {
    "duration": 2,
    "start_time": "2021-11-17T02:36:29.991Z"
   },
   {
    "duration": 3060365,
    "start_time": "2021-11-17T02:36:29.994Z"
   },
   {
    "duration": 2,
    "start_time": "2021-11-17T03:27:30.361Z"
   },
   {
    "duration": 346189,
    "start_time": "2021-11-17T03:27:30.367Z"
   },
   {
    "duration": -308,
    "start_time": "2021-11-17T03:33:16.866Z"
   },
   {
    "duration": -322,
    "start_time": "2021-11-17T03:33:16.881Z"
   },
   {
    "duration": -326,
    "start_time": "2021-11-17T03:33:16.886Z"
   },
   {
    "duration": -329,
    "start_time": "2021-11-17T03:33:16.890Z"
   },
   {
    "duration": -344,
    "start_time": "2021-11-17T03:33:16.906Z"
   },
   {
    "duration": 1492668,
    "start_time": "2021-11-17T03:33:21.209Z"
   },
   {
    "duration": 5,
    "start_time": "2021-11-17T03:58:13.879Z"
   },
   {
    "duration": 271,
    "start_time": "2021-11-17T03:58:13.887Z"
   },
   {
    "duration": -269,
    "start_time": "2021-11-17T03:58:14.429Z"
   },
   {
    "duration": -285,
    "start_time": "2021-11-17T03:58:14.447Z"
   },
   {
    "duration": -289,
    "start_time": "2021-11-17T03:58:14.452Z"
   },
   {
    "duration": 5,
    "start_time": "2021-11-17T04:00:58.601Z"
   },
   {
    "duration": 575,
    "start_time": "2021-11-17T04:00:59.085Z"
   },
   {
    "duration": 5,
    "start_time": "2021-11-17T04:01:14.513Z"
   },
   {
    "duration": 254,
    "start_time": "2021-11-17T04:08:29.325Z"
   },
   {
    "duration": 250,
    "start_time": "2021-11-17T04:08:47.190Z"
   },
   {
    "duration": 4,
    "start_time": "2021-11-17T04:09:23.250Z"
   },
   {
    "duration": 4,
    "start_time": "2021-11-17T04:14:51.017Z"
   },
   {
    "duration": 3,
    "start_time": "2021-11-17T04:14:51.590Z"
   },
   {
    "duration": 1303,
    "start_time": "2021-11-17T04:14:52.459Z"
   },
   {
    "duration": 188,
    "start_time": "2021-11-17T04:15:42.668Z"
   },
   {
    "duration": 983,
    "start_time": "2021-11-17T04:16:17.562Z"
   },
   {
    "duration": 21105,
    "start_time": "2021-11-17T04:16:54.080Z"
   },
   {
    "duration": 3,
    "start_time": "2021-11-17T04:18:02.858Z"
   },
   {
    "duration": 125,
    "start_time": "2021-11-17T05:12:30.079Z"
   },
   {
    "duration": 45,
    "start_time": "2021-11-17T05:17:23.143Z"
   },
   {
    "duration": 131,
    "start_time": "2021-11-17T05:17:26.251Z"
   },
   {
    "duration": 122,
    "start_time": "2021-11-17T05:17:36.662Z"
   },
   {
    "duration": 1501,
    "start_time": "2021-11-17T05:17:39.469Z"
   },
   {
    "duration": 12,
    "start_time": "2021-11-17T05:19:02.971Z"
   },
   {
    "duration": 189,
    "start_time": "2021-11-17T05:19:03.457Z"
   },
   {
    "duration": 12,
    "start_time": "2021-11-17T05:20:36.083Z"
   },
   {
    "duration": 965,
    "start_time": "2021-11-17T05:20:36.983Z"
   },
   {
    "duration": 12,
    "start_time": "2021-11-17T05:22:02.147Z"
   },
   {
    "duration": 20967,
    "start_time": "2021-11-17T05:22:03.709Z"
   },
   {
    "duration": 3,
    "start_time": "2021-11-17T05:22:24.677Z"
   },
   {
    "duration": 11,
    "start_time": "2021-11-17T05:40:05.130Z"
   },
   {
    "duration": 12,
    "start_time": "2021-11-17T05:44:42.935Z"
   },
   {
    "duration": 13,
    "start_time": "2021-11-17T05:45:39.316Z"
   },
   {
    "duration": 4,
    "start_time": "2021-11-17T05:56:29.589Z"
   },
   {
    "duration": 207,
    "start_time": "2021-11-17T05:56:29.595Z"
   },
   {
    "duration": 7,
    "start_time": "2021-11-17T05:56:29.804Z"
   },
   {
    "duration": 12,
    "start_time": "2021-11-17T05:56:29.812Z"
   },
   {
    "duration": 12,
    "start_time": "2021-11-17T05:56:29.826Z"
   },
   {
    "duration": 3,
    "start_time": "2021-11-17T05:56:29.839Z"
   },
   {
    "duration": 14,
    "start_time": "2021-11-17T05:56:29.845Z"
   },
   {
    "duration": 296,
    "start_time": "2021-11-17T05:56:29.860Z"
   },
   {
    "duration": 484,
    "start_time": "2021-11-17T05:56:30.157Z"
   },
   {
    "duration": 260,
    "start_time": "2021-11-17T05:56:30.643Z"
   },
   {
    "duration": 239,
    "start_time": "2021-11-17T05:56:30.904Z"
   },
   {
    "duration": 183,
    "start_time": "2021-11-17T05:56:31.145Z"
   },
   {
    "duration": 143,
    "start_time": "2021-11-17T05:56:31.329Z"
   },
   {
    "duration": 169,
    "start_time": "2021-11-17T05:56:31.474Z"
   },
   {
    "duration": 10,
    "start_time": "2021-11-17T05:56:31.644Z"
   },
   {
    "duration": 8,
    "start_time": "2021-11-17T05:56:31.663Z"
   },
   {
    "duration": 6,
    "start_time": "2021-11-17T05:56:31.672Z"
   },
   {
    "duration": 134686,
    "start_time": "2021-11-17T05:56:31.679Z"
   },
   {
    "duration": 102,
    "start_time": "2021-11-17T05:58:46.371Z"
   },
   {
    "duration": 10701,
    "start_time": "2021-11-17T05:58:46.475Z"
   },
   {
    "duration": 2,
    "start_time": "2021-11-17T05:58:57.178Z"
   },
   {
    "duration": 70429,
    "start_time": "2021-11-17T05:58:57.181Z"
   },
   {
    "duration": 2,
    "start_time": "2021-11-17T06:00:07.611Z"
   },
   {
    "duration": 39067,
    "start_time": "2021-11-17T06:00:07.615Z"
   },
   {
    "duration": 8,
    "start_time": "2021-11-17T06:00:46.684Z"
   },
   {
    "duration": 179,
    "start_time": "2021-11-17T06:00:46.694Z"
   },
   {
    "duration": 1389,
    "start_time": "2021-11-17T06:00:46.875Z"
   },
   {
    "duration": 13,
    "start_time": "2021-11-17T06:00:48.265Z"
   },
   {
    "duration": 285,
    "start_time": "2021-11-17T06:00:48.280Z"
   },
   {
    "duration": 13,
    "start_time": "2021-11-17T06:00:48.567Z"
   },
   {
    "duration": 1023,
    "start_time": "2021-11-17T06:00:48.582Z"
   },
   {
    "duration": 14,
    "start_time": "2021-11-17T06:00:49.607Z"
   },
   {
    "duration": 22215,
    "start_time": "2021-11-17T06:00:49.623Z"
   },
   {
    "duration": 4,
    "start_time": "2021-11-17T06:01:11.840Z"
   },
   {
    "duration": 10,
    "start_time": "2021-11-17T06:01:11.846Z"
   },
   {
    "duration": 6721,
    "start_time": "2021-11-17T06:03:57.411Z"
   },
   {
    "duration": 5,
    "start_time": "2021-11-17T06:04:15.149Z"
   },
   {
    "duration": 4,
    "start_time": "2021-11-17T06:08:18.541Z"
   },
   {
    "duration": 196,
    "start_time": "2021-11-17T06:08:18.547Z"
   },
   {
    "duration": 7,
    "start_time": "2021-11-17T06:08:18.745Z"
   },
   {
    "duration": 10,
    "start_time": "2021-11-17T06:08:18.754Z"
   },
   {
    "duration": 13,
    "start_time": "2021-11-17T06:08:18.765Z"
   },
   {
    "duration": 4,
    "start_time": "2021-11-17T06:08:18.780Z"
   },
   {
    "duration": 14,
    "start_time": "2021-11-17T06:08:18.785Z"
   },
   {
    "duration": 309,
    "start_time": "2021-11-17T06:08:18.801Z"
   },
   {
    "duration": 402,
    "start_time": "2021-11-17T06:08:19.113Z"
   },
   {
    "duration": 363,
    "start_time": "2021-11-17T06:08:19.517Z"
   },
   {
    "duration": 239,
    "start_time": "2021-11-17T06:08:19.882Z"
   },
   {
    "duration": 166,
    "start_time": "2021-11-17T06:08:20.123Z"
   },
   {
    "duration": 160,
    "start_time": "2021-11-17T06:08:20.290Z"
   },
   {
    "duration": 148,
    "start_time": "2021-11-17T06:08:20.451Z"
   },
   {
    "duration": 9,
    "start_time": "2021-11-17T06:08:20.601Z"
   },
   {
    "duration": 23,
    "start_time": "2021-11-17T06:08:20.612Z"
   },
   {
    "duration": 14,
    "start_time": "2021-11-17T06:08:20.636Z"
   },
   {
    "duration": 135914,
    "start_time": "2021-11-17T06:08:20.651Z"
   },
   {
    "duration": 101,
    "start_time": "2021-11-17T06:10:36.568Z"
   },
   {
    "duration": 9941,
    "start_time": "2021-11-17T06:10:36.670Z"
   },
   {
    "duration": 2,
    "start_time": "2021-11-17T06:10:46.613Z"
   },
   {
    "duration": 70174,
    "start_time": "2021-11-17T06:10:46.616Z"
   },
   {
    "duration": 2,
    "start_time": "2021-11-17T06:11:56.792Z"
   },
   {
    "duration": 39237,
    "start_time": "2021-11-17T06:11:56.796Z"
   },
   {
    "duration": 9,
    "start_time": "2021-11-17T06:12:36.034Z"
   },
   {
    "duration": 52,
    "start_time": "2021-11-17T06:12:36.044Z"
   },
   {
    "duration": 1372,
    "start_time": "2021-11-17T06:12:36.099Z"
   },
   {
    "duration": 100,
    "start_time": "2021-11-17T06:12:37.473Z"
   },
   {
    "duration": 289,
    "start_time": "2021-11-17T06:12:37.574Z"
   },
   {
    "duration": 12,
    "start_time": "2021-11-17T06:12:37.865Z"
   },
   {
    "duration": 1023,
    "start_time": "2021-11-17T06:12:37.878Z"
   },
   {
    "duration": 12,
    "start_time": "2021-11-17T06:12:38.903Z"
   },
   {
    "duration": 21289,
    "start_time": "2021-11-17T06:12:38.917Z"
   },
   {
    "duration": 4,
    "start_time": "2021-11-17T06:13:00.208Z"
   },
   {
    "duration": 13,
    "start_time": "2021-11-17T06:13:00.214Z"
   },
   {
    "duration": 7616,
    "start_time": "2021-11-17T06:18:51.352Z"
   },
   {
    "duration": 5,
    "start_time": "2021-11-17T06:19:00.752Z"
   },
   {
    "duration": 229,
    "start_time": "2021-11-17T06:19:00.759Z"
   },
   {
    "duration": 8,
    "start_time": "2021-11-17T06:19:00.990Z"
   },
   {
    "duration": 17,
    "start_time": "2021-11-17T06:19:01.000Z"
   },
   {
    "duration": 19,
    "start_time": "2021-11-17T06:19:01.019Z"
   },
   {
    "duration": 7,
    "start_time": "2021-11-17T06:19:01.040Z"
   },
   {
    "duration": 23,
    "start_time": "2021-11-17T06:19:01.049Z"
   },
   {
    "duration": 308,
    "start_time": "2021-11-17T06:19:01.074Z"
   },
   {
    "duration": 439,
    "start_time": "2021-11-17T06:20:05.408Z"
   },
   {
    "duration": 284,
    "start_time": "2021-11-17T06:20:41.417Z"
   },
   {
    "duration": 409,
    "start_time": "2021-11-17T06:21:57.848Z"
   },
   {
    "duration": 1594,
    "start_time": "2021-11-18T13:54:20.456Z"
   },
   {
    "duration": 273,
    "start_time": "2021-11-18T13:54:22.053Z"
   },
   {
    "duration": 12,
    "start_time": "2021-11-18T13:54:22.330Z"
   },
   {
    "duration": 18,
    "start_time": "2021-11-18T13:54:22.345Z"
   },
   {
    "duration": 17,
    "start_time": "2021-11-18T13:54:22.366Z"
   },
   {
    "duration": 5,
    "start_time": "2021-11-18T13:54:22.385Z"
   },
   {
    "duration": 25,
    "start_time": "2021-11-18T13:54:22.392Z"
   },
   {
    "duration": 523,
    "start_time": "2021-11-18T13:54:22.421Z"
   },
   {
    "duration": 707,
    "start_time": "2021-11-18T13:54:22.947Z"
   },
   {
    "duration": 409,
    "start_time": "2021-11-18T13:54:23.659Z"
   },
   {
    "duration": 378,
    "start_time": "2021-11-18T13:54:24.071Z"
   },
   {
    "duration": 303,
    "start_time": "2021-11-18T13:54:24.452Z"
   },
   {
    "duration": 251,
    "start_time": "2021-11-18T13:54:24.759Z"
   },
   {
    "duration": 265,
    "start_time": "2021-11-18T13:54:25.012Z"
   },
   {
    "duration": 15,
    "start_time": "2021-11-18T13:54:25.279Z"
   },
   {
    "duration": 10,
    "start_time": "2021-11-18T13:54:25.297Z"
   },
   {
    "duration": 8,
    "start_time": "2021-11-18T13:54:25.310Z"
   },
   {
    "duration": 172846,
    "start_time": "2021-11-18T13:54:25.320Z"
   },
   {
    "duration": 103,
    "start_time": "2021-11-18T13:57:18.170Z"
   },
   {
    "duration": 13088,
    "start_time": "2021-11-18T13:57:18.275Z"
   },
   {
    "duration": 3,
    "start_time": "2021-11-18T13:57:31.365Z"
   },
   {
    "duration": 90500,
    "start_time": "2021-11-18T13:57:31.370Z"
   },
   {
    "duration": 3,
    "start_time": "2021-11-18T13:59:01.876Z"
   },
   {
    "duration": 50052,
    "start_time": "2021-11-18T13:59:01.882Z"
   },
   {
    "duration": 13,
    "start_time": "2021-11-18T13:59:51.937Z"
   },
   {
    "duration": 89,
    "start_time": "2021-11-18T13:59:51.952Z"
   },
   {
    "duration": 1616,
    "start_time": "2021-11-18T13:59:52.043Z"
   },
   {
    "duration": 17,
    "start_time": "2021-11-18T13:59:53.662Z"
   },
   {
    "duration": 266,
    "start_time": "2021-11-18T13:59:53.682Z"
   },
   {
    "duration": 20,
    "start_time": "2021-11-18T13:59:53.950Z"
   },
   {
    "duration": 1352,
    "start_time": "2021-11-18T13:59:53.973Z"
   },
   {
    "duration": 16,
    "start_time": "2021-11-18T13:59:55.327Z"
   },
   {
    "duration": 28076,
    "start_time": "2021-11-18T13:59:55.345Z"
   },
   {
    "duration": 6,
    "start_time": "2021-11-18T14:00:23.424Z"
   },
   {
    "duration": 15,
    "start_time": "2021-11-18T14:00:23.433Z"
   },
   {
    "duration": 9215,
    "start_time": "2021-11-18T14:00:23.451Z"
   },
   {
    "duration": 117,
    "start_time": "2021-11-18T14:00:43.566Z"
   },
   {
    "duration": 6,
    "start_time": "2021-11-18T14:01:28.221Z"
   },
   {
    "duration": 272,
    "start_time": "2021-11-18T14:01:28.229Z"
   },
   {
    "duration": 10,
    "start_time": "2021-11-18T14:01:28.504Z"
   },
   {
    "duration": 11,
    "start_time": "2021-11-18T14:01:28.517Z"
   },
   {
    "duration": 23,
    "start_time": "2021-11-18T14:01:28.531Z"
   },
   {
    "duration": 5,
    "start_time": "2021-11-18T14:01:28.559Z"
   },
   {
    "duration": 27,
    "start_time": "2021-11-18T14:01:28.566Z"
   },
   {
    "duration": 603,
    "start_time": "2021-11-18T14:01:28.596Z"
   },
   {
    "duration": 657,
    "start_time": "2021-11-18T14:01:29.202Z"
   },
   {
    "duration": 428,
    "start_time": "2021-11-18T14:01:29.862Z"
   },
   {
    "duration": 411,
    "start_time": "2021-11-18T14:01:30.293Z"
   },
   {
    "duration": 290,
    "start_time": "2021-11-18T14:02:13.169Z"
   },
   {
    "duration": 229,
    "start_time": "2021-11-18T14:02:53.135Z"
   },
   {
    "duration": 277,
    "start_time": "2021-11-18T14:03:35.685Z"
   },
   {
    "duration": 6,
    "start_time": "2021-11-18T14:23:04.261Z"
   },
   {
    "duration": 319,
    "start_time": "2021-11-18T14:23:04.270Z"
   },
   {
    "duration": 10,
    "start_time": "2021-11-18T14:23:04.592Z"
   },
   {
    "duration": 30,
    "start_time": "2021-11-18T14:23:04.605Z"
   },
   {
    "duration": 21,
    "start_time": "2021-11-18T14:23:04.637Z"
   },
   {
    "duration": 4,
    "start_time": "2021-11-18T14:23:04.661Z"
   },
   {
    "duration": 22,
    "start_time": "2021-11-18T14:23:04.667Z"
   },
   {
    "duration": 544,
    "start_time": "2021-11-18T14:23:04.691Z"
   },
   {
    "duration": 1105,
    "start_time": "2021-11-18T14:23:05.239Z"
   },
   {
    "duration": 434,
    "start_time": "2021-11-18T14:23:06.347Z"
   },
   {
    "duration": 420,
    "start_time": "2021-11-18T14:23:06.784Z"
   },
   {
    "duration": 284,
    "start_time": "2021-11-18T14:23:07.206Z"
   },
   {
    "duration": 268,
    "start_time": "2021-11-18T14:23:07.493Z"
   },
   {
    "duration": 260,
    "start_time": "2021-11-18T14:23:07.772Z"
   },
   {
    "duration": 24,
    "start_time": "2021-11-18T14:23:08.035Z"
   },
   {
    "duration": 7,
    "start_time": "2021-11-18T14:23:08.062Z"
   },
   {
    "duration": 53890,
    "start_time": "2021-11-18T14:23:08.072Z"
   },
   {
    "duration": 103,
    "start_time": "2021-11-18T14:24:01.965Z"
   },
   {
    "duration": 7598,
    "start_time": "2021-11-18T14:24:02.071Z"
   },
   {
    "duration": 60029,
    "start_time": "2021-11-18T14:24:09.672Z"
   },
   {
    "duration": 47400,
    "start_time": "2021-11-18T14:25:09.704Z"
   },
   {
    "duration": 19,
    "start_time": "2021-11-18T14:25:57.107Z"
   },
   {
    "duration": 17,
    "start_time": "2021-11-18T14:39:47.652Z"
   },
   {
    "duration": 27240,
    "start_time": "2021-11-18T14:39:48.277Z"
   },
   {
    "duration": 359,
    "start_time": "2021-11-18T14:40:46.891Z"
   },
   {
    "duration": 27017,
    "start_time": "2021-11-18T14:42:14.932Z"
   },
   {
    "duration": 27594,
    "start_time": "2021-11-18T14:42:44.076Z"
   },
   {
    "duration": 6,
    "start_time": "2021-11-18T14:43:22.612Z"
   },
   {
    "duration": 378,
    "start_time": "2021-11-18T14:43:22.621Z"
   },
   {
    "duration": 10,
    "start_time": "2021-11-18T14:43:23.002Z"
   },
   {
    "duration": 12,
    "start_time": "2021-11-18T14:43:23.015Z"
   },
   {
    "duration": 26,
    "start_time": "2021-11-18T14:43:23.030Z"
   },
   {
    "duration": 5,
    "start_time": "2021-11-18T14:43:23.058Z"
   },
   {
    "duration": 20,
    "start_time": "2021-11-18T14:43:23.066Z"
   },
   {
    "duration": 512,
    "start_time": "2021-11-18T14:43:23.089Z"
   },
   {
    "duration": 651,
    "start_time": "2021-11-18T14:43:23.603Z"
   },
   {
    "duration": 419,
    "start_time": "2021-11-18T14:43:24.259Z"
   },
   {
    "duration": 391,
    "start_time": "2021-11-18T14:43:24.680Z"
   },
   {
    "duration": 286,
    "start_time": "2021-11-18T14:43:25.073Z"
   },
   {
    "duration": 265,
    "start_time": "2021-11-18T14:43:25.361Z"
   },
   {
    "duration": 259,
    "start_time": "2021-11-18T14:43:25.629Z"
   },
   {
    "duration": 11,
    "start_time": "2021-11-18T14:43:25.891Z"
   },
   {
    "duration": 8,
    "start_time": "2021-11-18T14:43:25.905Z"
   },
   {
    "duration": 53449,
    "start_time": "2021-11-18T14:43:25.916Z"
   },
   {
    "duration": 19,
    "start_time": "2021-11-18T14:44:19.458Z"
   },
   {
    "duration": 7720,
    "start_time": "2021-11-18T14:44:19.484Z"
   },
   {
    "duration": 59602,
    "start_time": "2021-11-18T14:44:27.207Z"
   },
   {
    "duration": 43396,
    "start_time": "2021-11-18T14:45:26.812Z"
   },
   {
    "duration": 13,
    "start_time": "2021-11-18T14:46:10.211Z"
   },
   {
    "duration": 87,
    "start_time": "2021-11-18T14:46:10.226Z"
   },
   {
    "duration": 1952,
    "start_time": "2021-11-18T14:46:10.316Z"
   },
   {
    "duration": 196,
    "start_time": "2021-11-18T14:46:12.271Z"
   },
   {
    "duration": 261,
    "start_time": "2021-11-18T14:46:12.469Z"
   },
   {
    "duration": 32,
    "start_time": "2021-11-18T14:46:12.733Z"
   },
   {
    "duration": 1329,
    "start_time": "2021-11-18T14:46:12.768Z"
   },
   {
    "duration": 17,
    "start_time": "2021-11-18T14:46:14.099Z"
   },
   {
    "duration": 32023,
    "start_time": "2021-11-18T14:46:14.119Z"
   },
   {
    "duration": 6,
    "start_time": "2021-11-18T14:46:46.145Z"
   },
   {
    "duration": 17,
    "start_time": "2021-11-18T14:46:46.153Z"
   },
   {
    "duration": 6,
    "start_time": "2021-11-18T14:58:50.486Z"
   },
   {
    "duration": 323,
    "start_time": "2021-11-18T14:58:50.495Z"
   },
   {
    "duration": 13,
    "start_time": "2021-11-18T14:58:50.822Z"
   },
   {
    "duration": 21,
    "start_time": "2021-11-18T14:58:50.839Z"
   },
   {
    "duration": 31,
    "start_time": "2021-11-18T14:58:50.862Z"
   },
   {
    "duration": 9,
    "start_time": "2021-11-18T14:58:50.895Z"
   },
   {
    "duration": 22,
    "start_time": "2021-11-18T14:58:50.906Z"
   },
   {
    "duration": 602,
    "start_time": "2021-11-18T14:58:50.930Z"
   },
   {
    "duration": 645,
    "start_time": "2021-11-18T14:58:51.536Z"
   },
   {
    "duration": 439,
    "start_time": "2021-11-18T14:58:52.184Z"
   },
   {
    "duration": 409,
    "start_time": "2021-11-18T14:58:52.626Z"
   },
   {
    "duration": 356,
    "start_time": "2021-11-18T14:58:53.038Z"
   },
   {
    "duration": 249,
    "start_time": "2021-11-18T14:58:53.396Z"
   },
   {
    "duration": 274,
    "start_time": "2021-11-18T14:58:53.648Z"
   },
   {
    "duration": 11,
    "start_time": "2021-11-18T14:58:53.925Z"
   },
   {
    "duration": 23,
    "start_time": "2021-11-18T14:58:53.939Z"
   },
   {
    "duration": 54403,
    "start_time": "2021-11-18T14:58:53.964Z"
   },
   {
    "duration": 112,
    "start_time": "2021-11-18T14:59:48.370Z"
   },
   {
    "duration": 10758,
    "start_time": "2021-11-18T14:59:48.560Z"
   },
   {
    "duration": 63493,
    "start_time": "2021-11-18T14:59:59.321Z"
   },
   {
    "duration": 48081,
    "start_time": "2021-11-18T15:01:02.816Z"
   },
   {
    "duration": 15,
    "start_time": "2021-11-18T15:01:50.899Z"
   },
   {
    "duration": 113,
    "start_time": "2021-11-18T15:01:50.917Z"
   },
   {
    "duration": 1632,
    "start_time": "2021-11-18T15:01:51.032Z"
   },
   {
    "duration": 102,
    "start_time": "2021-11-18T15:01:52.668Z"
   },
   {
    "duration": 267,
    "start_time": "2021-11-18T15:01:52.773Z"
   },
   {
    "duration": 25,
    "start_time": "2021-11-18T15:01:53.045Z"
   },
   {
    "duration": 1312,
    "start_time": "2021-11-18T15:01:53.073Z"
   },
   {
    "duration": 17,
    "start_time": "2021-11-18T15:01:54.388Z"
   },
   {
    "duration": 29032,
    "start_time": "2021-11-18T15:01:54.408Z"
   },
   {
    "duration": 7,
    "start_time": "2021-11-18T15:02:23.443Z"
   },
   {
    "duration": 18,
    "start_time": "2021-11-18T15:02:23.453Z"
   },
   {
    "duration": 1094,
    "start_time": "2021-11-18T20:46:51.807Z"
   },
   {
    "duration": 183,
    "start_time": "2021-11-18T20:46:52.903Z"
   },
   {
    "duration": 10,
    "start_time": "2021-11-18T20:46:53.089Z"
   },
   {
    "duration": 11,
    "start_time": "2021-11-18T20:46:53.965Z"
   },
   {
    "duration": 13,
    "start_time": "2021-11-18T20:46:54.548Z"
   },
   {
    "duration": 4,
    "start_time": "2021-11-18T20:46:55.076Z"
   },
   {
    "duration": 19,
    "start_time": "2021-11-18T20:46:55.780Z"
   },
   {
    "duration": 289,
    "start_time": "2021-11-18T20:47:34.144Z"
   },
   {
    "duration": 449,
    "start_time": "2021-11-18T20:47:39.108Z"
   },
   {
    "duration": 234,
    "start_time": "2021-11-18T20:47:40.131Z"
   },
   {
    "duration": 211,
    "start_time": "2021-11-18T20:47:42.633Z"
   },
   {
    "duration": 172,
    "start_time": "2021-11-18T20:47:42.846Z"
   },
   {
    "duration": 137,
    "start_time": "2021-11-18T20:47:43.019Z"
   },
   {
    "duration": 149,
    "start_time": "2021-11-18T20:47:43.158Z"
   },
   {
    "duration": 6,
    "start_time": "2021-11-18T20:48:20.030Z"
   },
   {
    "duration": 4,
    "start_time": "2021-11-18T20:48:23.015Z"
   },
   {
    "duration": 39338,
    "start_time": "2021-11-18T20:48:32.557Z"
   },
   {
    "duration": 105,
    "start_time": "2021-11-18T20:49:11.898Z"
   },
   {
    "duration": 5826,
    "start_time": "2021-11-18T20:49:12.005Z"
   },
   {
    "duration": 43094,
    "start_time": "2021-11-18T20:49:17.833Z"
   },
   {
    "duration": 29773,
    "start_time": "2021-11-18T20:50:00.929Z"
   },
   {
    "duration": 8,
    "start_time": "2021-11-18T20:50:30.703Z"
   },
   {
    "duration": 45,
    "start_time": "2021-11-18T20:50:30.712Z"
   },
   {
    "duration": 1235,
    "start_time": "2021-11-18T20:50:30.759Z"
   },
   {
    "duration": 97,
    "start_time": "2021-11-18T20:50:31.998Z"
   },
   {
    "duration": 243,
    "start_time": "2021-11-18T20:50:32.097Z"
   },
   {
    "duration": 10,
    "start_time": "2021-11-18T20:50:32.341Z"
   },
   {
    "duration": 1016,
    "start_time": "2021-11-18T20:50:32.353Z"
   },
   {
    "duration": 10,
    "start_time": "2021-11-18T20:50:33.370Z"
   },
   {
    "duration": 19845,
    "start_time": "2021-11-18T20:50:33.381Z"
   },
   {
    "duration": 4,
    "start_time": "2021-11-18T20:50:53.228Z"
   },
   {
    "duration": 29,
    "start_time": "2021-11-18T20:50:53.233Z"
   },
   {
    "duration": 5,
    "start_time": "2021-11-19T06:31:37.687Z"
   },
   {
    "duration": 1192,
    "start_time": "2021-11-20T19:17:27.498Z"
   },
   {
    "duration": 195,
    "start_time": "2021-11-20T19:17:28.692Z"
   },
   {
    "duration": 8,
    "start_time": "2021-11-20T19:17:28.889Z"
   },
   {
    "duration": 13,
    "start_time": "2021-11-20T19:17:28.899Z"
   },
   {
    "duration": 14,
    "start_time": "2021-11-20T19:17:28.914Z"
   },
   {
    "duration": 3,
    "start_time": "2021-11-20T19:17:28.930Z"
   },
   {
    "duration": 17,
    "start_time": "2021-11-20T19:17:28.935Z"
   },
   {
    "duration": 332,
    "start_time": "2021-11-20T19:17:28.954Z"
   },
   {
    "duration": 476,
    "start_time": "2021-11-20T19:17:29.288Z"
   },
   {
    "duration": 278,
    "start_time": "2021-11-20T19:17:29.766Z"
   },
   {
    "duration": 262,
    "start_time": "2021-11-20T19:17:30.046Z"
   },
   {
    "duration": 196,
    "start_time": "2021-11-20T19:17:30.309Z"
   },
   {
    "duration": 163,
    "start_time": "2021-11-20T19:17:30.508Z"
   },
   {
    "duration": 170,
    "start_time": "2021-11-20T19:17:30.674Z"
   },
   {
    "duration": 9,
    "start_time": "2021-11-20T19:17:30.846Z"
   },
   {
    "duration": 13,
    "start_time": "2021-11-20T19:17:30.857Z"
   },
   {
    "duration": 109,
    "start_time": "2021-11-20T19:17:30.872Z"
   },
   {
    "duration": -330,
    "start_time": "2021-11-20T19:17:31.313Z"
   },
   {
    "duration": -335,
    "start_time": "2021-11-20T19:17:31.319Z"
   },
   {
    "duration": -339,
    "start_time": "2021-11-20T19:17:31.325Z"
   },
   {
    "duration": 4,
    "start_time": "2021-11-20T19:18:54.083Z"
   },
   {
    "duration": 294,
    "start_time": "2021-11-20T19:18:54.089Z"
   },
   {
    "duration": 7,
    "start_time": "2021-11-20T19:18:54.385Z"
   },
   {
    "duration": 8,
    "start_time": "2021-11-20T19:18:54.394Z"
   },
   {
    "duration": 20,
    "start_time": "2021-11-20T19:18:54.405Z"
   },
   {
    "duration": 6,
    "start_time": "2021-11-20T19:18:54.427Z"
   },
   {
    "duration": 18,
    "start_time": "2021-11-20T19:18:54.436Z"
   },
   {
    "duration": 398,
    "start_time": "2021-11-20T19:18:54.457Z"
   },
   {
    "duration": 508,
    "start_time": "2021-11-20T19:18:54.857Z"
   },
   {
    "duration": 292,
    "start_time": "2021-11-20T19:18:55.368Z"
   },
   {
    "duration": 421,
    "start_time": "2021-11-20T19:18:55.662Z"
   },
   {
    "duration": 319,
    "start_time": "2021-11-20T19:18:56.085Z"
   },
   {
    "duration": 261,
    "start_time": "2021-11-20T19:18:56.407Z"
   },
   {
    "duration": 167,
    "start_time": "2021-11-20T19:18:56.671Z"
   },
   {
    "duration": 9,
    "start_time": "2021-11-20T19:18:56.840Z"
   },
   {
    "duration": 5,
    "start_time": "2021-11-20T19:18:56.851Z"
   },
   {
    "duration": 90,
    "start_time": "2021-11-20T19:18:56.858Z"
   },
   {
    "duration": -305,
    "start_time": "2021-11-20T19:18:57.255Z"
   },
   {
    "duration": -313,
    "start_time": "2021-11-20T19:18:57.264Z"
   },
   {
    "duration": -343,
    "start_time": "2021-11-20T19:18:57.295Z"
   },
   {
    "duration": 35,
    "start_time": "2021-11-20T19:19:49.968Z"
   },
   {
    "duration": 30,
    "start_time": "2021-11-20T19:20:44.792Z"
   },
   {
    "duration": 12,
    "start_time": "2021-11-20T19:20:50.188Z"
   },
   {
    "duration": 241,
    "start_time": "2021-11-20T19:20:53.294Z"
   },
   {
    "duration": 429,
    "start_time": "2021-11-20T19:21:10.812Z"
   },
   {
    "duration": 741,
    "start_time": "2021-11-20T19:21:44.885Z"
   },
   {
    "duration": 539,
    "start_time": "2021-11-20T19:32:07.667Z"
   },
   {
    "duration": 6,
    "start_time": "2021-11-20T19:32:16.553Z"
   },
   {
    "duration": 281,
    "start_time": "2021-11-20T19:32:25.381Z"
   },
   {
    "duration": 261,
    "start_time": "2021-11-20T19:33:10.317Z"
   },
   {
    "duration": 268,
    "start_time": "2021-11-20T19:34:08.443Z"
   },
   {
    "duration": 16,
    "start_time": "2021-11-20T19:34:18.032Z"
   },
   {
    "duration": 283519,
    "start_time": "2021-11-20T19:45:31.870Z"
   },
   {
    "duration": 299,
    "start_time": "2021-11-20T19:50:22.515Z"
   },
   {
    "duration": 263,
    "start_time": "2021-11-20T19:51:40.469Z"
   },
   {
    "duration": 14,
    "start_time": "2021-11-20T19:52:10.215Z"
   },
   {
    "duration": 1139,
    "start_time": "2021-11-21T02:42:53.936Z"
   },
   {
    "duration": 147,
    "start_time": "2021-11-21T02:42:55.077Z"
   },
   {
    "duration": 7,
    "start_time": "2021-11-21T02:42:55.226Z"
   },
   {
    "duration": 11,
    "start_time": "2021-11-21T02:42:55.235Z"
   },
   {
    "duration": 12,
    "start_time": "2021-11-21T02:42:55.247Z"
   },
   {
    "duration": 6,
    "start_time": "2021-11-21T02:42:55.260Z"
   },
   {
    "duration": 16,
    "start_time": "2021-11-21T02:42:55.267Z"
   },
   {
    "duration": 297,
    "start_time": "2021-11-21T02:42:55.285Z"
   },
   {
    "duration": 453,
    "start_time": "2021-11-21T02:42:55.584Z"
   },
   {
    "duration": 252,
    "start_time": "2021-11-21T02:42:56.039Z"
   },
   {
    "duration": 231,
    "start_time": "2021-11-21T02:42:56.293Z"
   },
   {
    "duration": 179,
    "start_time": "2021-11-21T02:42:56.525Z"
   },
   {
    "duration": 143,
    "start_time": "2021-11-21T02:42:56.706Z"
   },
   {
    "duration": 153,
    "start_time": "2021-11-21T02:42:56.851Z"
   },
   {
    "duration": 6,
    "start_time": "2021-11-21T02:42:57.006Z"
   },
   {
    "duration": 4,
    "start_time": "2021-11-21T02:42:57.014Z"
   },
   {
    "duration": 32,
    "start_time": "2021-11-21T02:42:57.020Z"
   },
   {
    "duration": 257,
    "start_time": "2021-11-21T02:42:57.054Z"
   },
   {
    "duration": 196,
    "start_time": "2021-11-21T02:44:29.699Z"
   },
   {
    "duration": 4,
    "start_time": "2021-11-21T02:45:58.161Z"
   },
   {
    "duration": 135,
    "start_time": "2021-11-21T02:45:58.167Z"
   },
   {
    "duration": 7,
    "start_time": "2021-11-21T02:45:58.304Z"
   },
   {
    "duration": 7,
    "start_time": "2021-11-21T02:45:58.313Z"
   },
   {
    "duration": 12,
    "start_time": "2021-11-21T02:45:58.322Z"
   },
   {
    "duration": 3,
    "start_time": "2021-11-21T02:45:58.335Z"
   },
   {
    "duration": 15,
    "start_time": "2021-11-21T02:45:58.341Z"
   },
   {
    "duration": 313,
    "start_time": "2021-11-21T02:45:58.358Z"
   },
   {
    "duration": 458,
    "start_time": "2021-11-21T02:45:58.673Z"
   },
   {
    "duration": 247,
    "start_time": "2021-11-21T02:45:59.133Z"
   },
   {
    "duration": 219,
    "start_time": "2021-11-21T02:45:59.382Z"
   },
   {
    "duration": 188,
    "start_time": "2021-11-21T02:45:59.603Z"
   },
   {
    "duration": 143,
    "start_time": "2021-11-21T02:45:59.793Z"
   },
   {
    "duration": 164,
    "start_time": "2021-11-21T02:45:59.938Z"
   },
   {
    "duration": 7,
    "start_time": "2021-11-21T02:46:00.104Z"
   },
   {
    "duration": 10,
    "start_time": "2021-11-21T02:46:00.112Z"
   },
   {
    "duration": 43,
    "start_time": "2021-11-21T02:46:00.123Z"
   },
   {
    "duration": 5,
    "start_time": "2021-11-21T02:47:56.858Z"
   },
   {
    "duration": 137,
    "start_time": "2021-11-21T02:47:56.865Z"
   },
   {
    "duration": 6,
    "start_time": "2021-11-21T02:47:57.004Z"
   },
   {
    "duration": 8,
    "start_time": "2021-11-21T02:47:57.012Z"
   },
   {
    "duration": 12,
    "start_time": "2021-11-21T02:47:57.022Z"
   },
   {
    "duration": 3,
    "start_time": "2021-11-21T02:47:57.035Z"
   },
   {
    "duration": 12,
    "start_time": "2021-11-21T02:47:57.040Z"
   },
   {
    "duration": 322,
    "start_time": "2021-11-21T02:47:57.053Z"
   },
   {
    "duration": 394,
    "start_time": "2021-11-21T02:47:57.376Z"
   },
   {
    "duration": 331,
    "start_time": "2021-11-21T02:47:57.771Z"
   },
   {
    "duration": 242,
    "start_time": "2021-11-21T02:47:58.103Z"
   },
   {
    "duration": 181,
    "start_time": "2021-11-21T02:47:58.347Z"
   },
   {
    "duration": 149,
    "start_time": "2021-11-21T02:47:58.529Z"
   },
   {
    "duration": 157,
    "start_time": "2021-11-21T02:47:58.680Z"
   },
   {
    "duration": 8,
    "start_time": "2021-11-21T02:47:58.838Z"
   },
   {
    "duration": 5,
    "start_time": "2021-11-21T02:47:58.847Z"
   },
   {
    "duration": 56,
    "start_time": "2021-11-21T02:47:58.854Z"
   },
   {
    "duration": 160,
    "start_time": "2021-11-21T02:47:58.912Z"
   },
   {
    "duration": -106,
    "start_time": "2021-11-21T02:47:59.180Z"
   },
   {
    "duration": -112,
    "start_time": "2021-11-21T02:47:59.187Z"
   },
   {
    "duration": 61,
    "start_time": "2021-11-21T02:49:02.166Z"
   },
   {
    "duration": 41,
    "start_time": "2021-11-21T02:49:32.686Z"
   },
   {
    "duration": 167,
    "start_time": "2021-11-21T02:49:35.984Z"
   },
   {
    "duration": 11,
    "start_time": "2021-11-21T02:50:02.815Z"
   },
   {
    "duration": 11,
    "start_time": "2021-11-21T02:50:20.493Z"
   },
   {
    "duration": 247,
    "start_time": "2021-11-21T02:50:24.244Z"
   },
   {
    "duration": 195,
    "start_time": "2021-11-21T02:50:36.572Z"
   },
   {
    "duration": 455,
    "start_time": "2021-11-21T02:51:59.893Z"
   },
   {
    "duration": 308,
    "start_time": "2021-11-21T02:52:32.036Z"
   },
   {
    "duration": 7574,
    "start_time": "2021-11-21T02:54:19.562Z"
   },
   {
    "duration": 7400,
    "start_time": "2021-11-21T02:56:37.391Z"
   },
   {
    "duration": 7420,
    "start_time": "2021-11-21T02:58:09.855Z"
   },
   {
    "duration": 303,
    "start_time": "2021-11-21T03:00:36.546Z"
   },
   {
    "duration": 1670,
    "start_time": "2021-11-21T03:05:19.608Z"
   },
   {
    "duration": 19511,
    "start_time": "2021-11-21T03:05:21.280Z"
   },
   {
    "duration": 177,
    "start_time": "2021-11-21T03:06:29.367Z"
   },
   {
    "duration": 196,
    "start_time": "2021-11-21T03:07:55.924Z"
   },
   {
    "duration": 5,
    "start_time": "2021-11-21T03:08:03.695Z"
   },
   {
    "duration": 155,
    "start_time": "2021-11-21T03:08:03.702Z"
   },
   {
    "duration": 7,
    "start_time": "2021-11-21T03:08:03.859Z"
   },
   {
    "duration": 7,
    "start_time": "2021-11-21T03:08:03.867Z"
   },
   {
    "duration": 12,
    "start_time": "2021-11-21T03:08:03.876Z"
   },
   {
    "duration": 3,
    "start_time": "2021-11-21T03:08:03.890Z"
   },
   {
    "duration": 16,
    "start_time": "2021-11-21T03:08:03.894Z"
   },
   {
    "duration": 296,
    "start_time": "2021-11-21T03:08:03.912Z"
   },
   {
    "duration": 455,
    "start_time": "2021-11-21T03:08:04.211Z"
   },
   {
    "duration": 246,
    "start_time": "2021-11-21T03:08:04.668Z"
   },
   {
    "duration": 241,
    "start_time": "2021-11-21T03:08:04.916Z"
   },
   {
    "duration": 177,
    "start_time": "2021-11-21T03:08:05.159Z"
   },
   {
    "duration": 141,
    "start_time": "2021-11-21T03:08:05.338Z"
   },
   {
    "duration": 150,
    "start_time": "2021-11-21T03:08:05.481Z"
   },
   {
    "duration": 7,
    "start_time": "2021-11-21T03:08:05.632Z"
   },
   {
    "duration": 13,
    "start_time": "2021-11-21T03:08:05.640Z"
   },
   {
    "duration": 49,
    "start_time": "2021-11-21T03:08:05.654Z"
   },
   {
    "duration": 10,
    "start_time": "2021-11-21T03:08:05.705Z"
   },
   {
    "duration": 241,
    "start_time": "2021-11-21T03:08:05.716Z"
   },
   {
    "duration": 309,
    "start_time": "2021-11-21T03:08:05.958Z"
   },
   {
    "duration": 1630,
    "start_time": "2021-11-21T03:08:06.269Z"
   },
   {
    "duration": 170,
    "start_time": "2021-11-21T03:08:07.901Z"
   },
   {
    "duration": 1657,
    "start_time": "2021-11-21T03:13:47.913Z"
   },
   {
    "duration": 4,
    "start_time": "2021-11-21T03:14:31.479Z"
   },
   {
    "duration": 137,
    "start_time": "2021-11-21T03:14:31.485Z"
   },
   {
    "duration": 7,
    "start_time": "2021-11-21T03:14:31.624Z"
   },
   {
    "duration": 9,
    "start_time": "2021-11-21T03:14:31.633Z"
   },
   {
    "duration": 14,
    "start_time": "2021-11-21T03:14:31.643Z"
   },
   {
    "duration": 6,
    "start_time": "2021-11-21T03:14:31.658Z"
   },
   {
    "duration": 15,
    "start_time": "2021-11-21T03:14:31.666Z"
   },
   {
    "duration": 300,
    "start_time": "2021-11-21T03:14:31.683Z"
   },
   {
    "duration": 476,
    "start_time": "2021-11-21T03:14:31.985Z"
   },
   {
    "duration": 255,
    "start_time": "2021-11-21T03:14:32.462Z"
   },
   {
    "duration": 228,
    "start_time": "2021-11-21T03:14:32.718Z"
   },
   {
    "duration": 168,
    "start_time": "2021-11-21T03:14:32.948Z"
   },
   {
    "duration": 154,
    "start_time": "2021-11-21T03:14:33.118Z"
   },
   {
    "duration": 153,
    "start_time": "2021-11-21T03:14:33.274Z"
   },
   {
    "duration": 7,
    "start_time": "2021-11-21T03:14:33.429Z"
   },
   {
    "duration": 5,
    "start_time": "2021-11-21T03:14:33.437Z"
   },
   {
    "duration": 56,
    "start_time": "2021-11-21T03:14:33.443Z"
   },
   {
    "duration": 11,
    "start_time": "2021-11-21T03:14:33.500Z"
   },
   {
    "duration": 253,
    "start_time": "2021-11-21T03:14:33.513Z"
   },
   {
    "duration": 306,
    "start_time": "2021-11-21T03:14:33.768Z"
   },
   {
    "duration": 1630,
    "start_time": "2021-11-21T03:14:34.076Z"
   },
   {
    "duration": 19525,
    "start_time": "2021-11-21T03:14:48.944Z"
   },
   {
    "duration": 5043,
    "start_time": "2021-11-21T03:15:28.051Z"
   },
   {
    "duration": 119836,
    "start_time": "2021-11-21T03:15:40.785Z"
   },
   {
    "duration": 1224,
    "start_time": "2021-11-28T05:48:53.287Z"
   },
   {
    "duration": 247,
    "start_time": "2021-11-28T05:48:54.513Z"
   },
   {
    "duration": 7,
    "start_time": "2021-11-28T05:48:54.762Z"
   },
   {
    "duration": 13,
    "start_time": "2021-11-28T05:48:54.771Z"
   },
   {
    "duration": 12,
    "start_time": "2021-11-28T05:48:54.785Z"
   },
   {
    "duration": 9,
    "start_time": "2021-11-28T05:48:54.799Z"
   },
   {
    "duration": 48,
    "start_time": "2021-11-28T05:48:54.810Z"
   },
   {
    "duration": 321,
    "start_time": "2021-11-28T05:48:54.860Z"
   },
   {
    "duration": 470,
    "start_time": "2021-11-28T05:48:55.183Z"
   },
   {
    "duration": 254,
    "start_time": "2021-11-28T05:48:55.654Z"
   },
   {
    "duration": 233,
    "start_time": "2021-11-28T05:48:55.909Z"
   },
   {
    "duration": 179,
    "start_time": "2021-11-28T05:48:56.144Z"
   },
   {
    "duration": 147,
    "start_time": "2021-11-28T05:48:56.325Z"
   },
   {
    "duration": 166,
    "start_time": "2021-11-28T05:48:56.474Z"
   },
   {
    "duration": 8,
    "start_time": "2021-11-28T05:48:56.642Z"
   },
   {
    "duration": 6,
    "start_time": "2021-11-28T05:48:56.652Z"
   },
   {
    "duration": 42,
    "start_time": "2021-11-28T05:48:56.663Z"
   },
   {
    "duration": 11,
    "start_time": "2021-11-28T05:48:56.707Z"
   },
   {
    "duration": 273,
    "start_time": "2021-11-28T05:48:56.720Z"
   },
   {
    "duration": 83,
    "start_time": "2021-11-28T05:48:56.995Z"
   },
   {
    "duration": 20,
    "start_time": "2021-11-28T05:49:10.231Z"
   },
   {
    "duration": 2391,
    "start_time": "2021-11-28T05:56:12.093Z"
   },
   {
    "duration": 2363,
    "start_time": "2021-11-28T05:57:28.619Z"
   },
   {
    "duration": 2198,
    "start_time": "2021-11-28T06:01:47.856Z"
   },
   {
    "duration": 364,
    "start_time": "2021-11-28T06:02:11.826Z"
   },
   {
    "duration": 2059,
    "start_time": "2021-11-28T06:02:23.631Z"
   },
   {
    "duration": 87,
    "start_time": "2021-11-28T06:04:06.659Z"
   },
   {
    "duration": 1754,
    "start_time": "2021-11-28T06:06:23.345Z"
   },
   {
    "duration": 137746,
    "start_time": "2021-11-28T06:06:28.266Z"
   },
   {
    "duration": 257,
    "start_time": "2021-11-28T06:13:01.975Z"
   },
   {
    "duration": 301664,
    "start_time": "2021-11-28T06:13:59.992Z"
   },
   {
    "duration": 280268,
    "start_time": "2021-11-28T06:19:55.033Z"
   },
   {
    "duration": 9,
    "start_time": "2021-11-28T06:24:35.303Z"
   },
   {
    "duration": 132,
    "start_time": "2021-11-28T06:34:06.431Z"
   },
   {
    "duration": 5,
    "start_time": "2021-11-28T06:56:33.663Z"
   },
   {
    "duration": 192,
    "start_time": "2021-11-28T06:56:33.671Z"
   },
   {
    "duration": 7,
    "start_time": "2021-11-28T06:56:33.865Z"
   },
   {
    "duration": 27,
    "start_time": "2021-11-28T06:56:33.874Z"
   },
   {
    "duration": 21,
    "start_time": "2021-11-28T06:56:33.903Z"
   },
   {
    "duration": 16,
    "start_time": "2021-11-28T06:56:33.925Z"
   },
   {
    "duration": 42,
    "start_time": "2021-11-28T06:56:33.944Z"
   },
   {
    "duration": 393,
    "start_time": "2021-11-28T06:56:33.988Z"
   },
   {
    "duration": 408,
    "start_time": "2021-11-28T06:56:34.383Z"
   },
   {
    "duration": 263,
    "start_time": "2021-11-28T06:56:34.793Z"
   },
   {
    "duration": 245,
    "start_time": "2021-11-28T06:56:35.058Z"
   },
   {
    "duration": 186,
    "start_time": "2021-11-28T06:56:35.305Z"
   },
   {
    "duration": 150,
    "start_time": "2021-11-28T06:56:35.494Z"
   },
   {
    "duration": 154,
    "start_time": "2021-11-28T06:56:35.646Z"
   },
   {
    "duration": 7,
    "start_time": "2021-11-28T06:56:35.802Z"
   },
   {
    "duration": 48,
    "start_time": "2021-11-28T06:56:35.811Z"
   },
   {
    "duration": 45,
    "start_time": "2021-11-28T06:56:35.861Z"
   },
   {
    "duration": 11,
    "start_time": "2021-11-28T06:56:35.907Z"
   },
   {
    "duration": 273,
    "start_time": "2021-11-28T06:56:35.922Z"
   },
   {
    "duration": 2097,
    "start_time": "2021-11-28T06:56:36.197Z"
   },
   {
    "duration": 1735,
    "start_time": "2021-11-28T06:56:38.296Z"
   },
   {
    "duration": 135454,
    "start_time": "2021-11-28T06:56:40.033Z"
   },
   {
    "duration": 15319,
    "start_time": "2021-11-28T06:58:55.489Z"
   },
   {
    "duration": 279881,
    "start_time": "2021-11-28T06:59:10.810Z"
   },
   {
    "duration": 12,
    "start_time": "2021-11-28T07:03:50.693Z"
   },
   {
    "duration": 12,
    "start_time": "2021-11-28T07:03:50.707Z"
   },
   {
    "duration": 60,
    "start_time": "2021-11-28T07:03:50.721Z"
   },
   {
    "duration": 11,
    "start_time": "2021-11-28T07:03:50.783Z"
   },
   {
    "duration": 1969,
    "start_time": "2021-11-28T07:03:50.796Z"
   },
   {
    "duration": 11,
    "start_time": "2021-11-28T07:03:52.767Z"
   },
   {
    "duration": 96557,
    "start_time": "2021-11-28T07:03:52.780Z"
   },
   {
    "duration": 8,
    "start_time": "2021-11-28T07:05:29.339Z"
   },
   {
    "duration": 204139,
    "start_time": "2021-11-28T07:05:29.349Z"
   },
   {
    "duration": 5,
    "start_time": "2021-11-28T07:08:53.490Z"
   },
   {
    "duration": 11,
    "start_time": "2021-11-28T07:08:53.497Z"
   },
   {
    "duration": 5,
    "start_time": "2021-11-28T07:11:49.742Z"
   },
   {
    "duration": 235,
    "start_time": "2021-11-28T07:11:49.749Z"
   },
   {
    "duration": 8,
    "start_time": "2021-11-28T07:11:49.986Z"
   },
   {
    "duration": 15,
    "start_time": "2021-11-28T07:11:49.997Z"
   },
   {
    "duration": 18,
    "start_time": "2021-11-28T07:11:50.014Z"
   },
   {
    "duration": 6,
    "start_time": "2021-11-28T07:11:50.034Z"
   },
   {
    "duration": 26,
    "start_time": "2021-11-28T07:11:50.043Z"
   },
   {
    "duration": 310,
    "start_time": "2021-11-28T07:11:50.072Z"
   },
   {
    "duration": 481,
    "start_time": "2021-11-28T07:11:50.384Z"
   },
   {
    "duration": 268,
    "start_time": "2021-11-28T07:11:50.867Z"
   },
   {
    "duration": 240,
    "start_time": "2021-11-28T07:11:51.137Z"
   },
   {
    "duration": 273,
    "start_time": "2021-11-28T07:11:51.379Z"
   },
   {
    "duration": 225,
    "start_time": "2021-11-28T07:11:51.654Z"
   },
   {
    "duration": 239,
    "start_time": "2021-11-28T07:11:51.881Z"
   },
   {
    "duration": 10,
    "start_time": "2021-11-28T07:11:52.123Z"
   },
   {
    "duration": 5,
    "start_time": "2021-11-28T07:11:52.135Z"
   },
   {
    "duration": 81,
    "start_time": "2021-11-28T07:11:52.143Z"
   },
   {
    "duration": 14,
    "start_time": "2021-11-28T07:11:52.226Z"
   },
   {
    "duration": 399,
    "start_time": "2021-11-28T07:11:52.244Z"
   },
   {
    "duration": 2246,
    "start_time": "2021-11-28T07:11:52.646Z"
   },
   {
    "duration": 1708,
    "start_time": "2021-11-28T07:11:54.894Z"
   },
   {
    "duration": 188008,
    "start_time": "2021-11-28T07:11:56.604Z"
   },
   {
    "duration": 15210,
    "start_time": "2021-11-28T07:15:04.615Z"
   },
   {
    "duration": 274957,
    "start_time": "2021-11-28T07:15:19.827Z"
   },
   {
    "duration": 11,
    "start_time": "2021-11-28T07:19:54.787Z"
   },
   {
    "duration": 11,
    "start_time": "2021-11-28T07:19:54.801Z"
   },
   {
    "duration": 70,
    "start_time": "2021-11-28T07:19:54.814Z"
   },
   {
    "duration": 12,
    "start_time": "2021-11-28T07:19:54.887Z"
   },
   {
    "duration": 2029,
    "start_time": "2021-11-28T07:19:54.901Z"
   },
   {
    "duration": 11,
    "start_time": "2021-11-28T07:19:56.932Z"
   },
   {
    "duration": 106843,
    "start_time": "2021-11-28T07:19:56.945Z"
   },
   {
    "duration": 12,
    "start_time": "2021-11-28T07:21:43.790Z"
   },
   {
    "duration": 209376,
    "start_time": "2021-11-28T07:21:43.804Z"
   },
   {
    "duration": 4,
    "start_time": "2021-11-28T07:25:13.182Z"
   },
   {
    "duration": 13,
    "start_time": "2021-11-28T07:25:13.187Z"
   },
   {
    "duration": 5,
    "start_time": "2021-11-28T07:30:42.007Z"
   },
   {
    "duration": 233,
    "start_time": "2021-11-28T07:30:42.015Z"
   },
   {
    "duration": 8,
    "start_time": "2021-11-28T07:30:42.251Z"
   },
   {
    "duration": 12,
    "start_time": "2021-11-28T07:30:42.261Z"
   },
   {
    "duration": 24,
    "start_time": "2021-11-28T07:30:42.275Z"
   },
   {
    "duration": 4,
    "start_time": "2021-11-28T07:30:42.301Z"
   },
   {
    "duration": 15,
    "start_time": "2021-11-28T07:30:42.308Z"
   },
   {
    "duration": 329,
    "start_time": "2021-11-28T07:30:42.325Z"
   },
   {
    "duration": 768,
    "start_time": "2021-11-28T07:30:42.663Z"
   },
   {
    "duration": 267,
    "start_time": "2021-11-28T07:30:43.433Z"
   },
   {
    "duration": 368,
    "start_time": "2021-11-28T07:30:43.702Z"
   },
   {
    "duration": 186,
    "start_time": "2021-11-28T07:30:44.072Z"
   },
   {
    "duration": 158,
    "start_time": "2021-11-28T07:30:44.263Z"
   },
   {
    "duration": 228,
    "start_time": "2021-11-28T07:30:44.424Z"
   },
   {
    "duration": 13,
    "start_time": "2021-11-28T07:30:44.654Z"
   },
   {
    "duration": 5,
    "start_time": "2021-11-28T07:30:44.669Z"
   },
   {
    "duration": 47,
    "start_time": "2021-11-28T07:30:44.676Z"
   },
   {
    "duration": 40,
    "start_time": "2021-11-28T07:30:44.725Z"
   },
   {
    "duration": 281,
    "start_time": "2021-11-28T07:30:44.769Z"
   },
   {
    "duration": 2418,
    "start_time": "2021-11-28T07:30:45.052Z"
   },
   {
    "duration": 89,
    "start_time": "2021-11-28T07:30:47.473Z"
   },
   {
    "duration": -435,
    "start_time": "2021-11-28T07:30:48.000Z"
   },
   {
    "duration": -441,
    "start_time": "2021-11-28T07:30:48.007Z"
   },
   {
    "duration": -447,
    "start_time": "2021-11-28T07:30:48.014Z"
   },
   {
    "duration": -497,
    "start_time": "2021-11-28T07:30:48.065Z"
   },
   {
    "duration": -502,
    "start_time": "2021-11-28T07:30:48.071Z"
   },
   {
    "duration": -507,
    "start_time": "2021-11-28T07:30:48.077Z"
   },
   {
    "duration": -511,
    "start_time": "2021-11-28T07:30:48.082Z"
   },
   {
    "duration": -517,
    "start_time": "2021-11-28T07:30:48.089Z"
   },
   {
    "duration": -520,
    "start_time": "2021-11-28T07:30:48.094Z"
   },
   {
    "duration": -525,
    "start_time": "2021-11-28T07:30:48.100Z"
   },
   {
    "duration": -529,
    "start_time": "2021-11-28T07:30:48.106Z"
   },
   {
    "duration": -534,
    "start_time": "2021-11-28T07:30:48.112Z"
   },
   {
    "duration": -538,
    "start_time": "2021-11-28T07:30:48.117Z"
   },
   {
    "duration": -542,
    "start_time": "2021-11-28T07:30:48.123Z"
   },
   {
    "duration": 4,
    "start_time": "2021-11-28T07:31:24.159Z"
   },
   {
    "duration": 193,
    "start_time": "2021-11-28T07:31:24.165Z"
   },
   {
    "duration": 7,
    "start_time": "2021-11-28T07:31:24.360Z"
   },
   {
    "duration": 13,
    "start_time": "2021-11-28T07:31:24.369Z"
   },
   {
    "duration": 15,
    "start_time": "2021-11-28T07:31:24.384Z"
   },
   {
    "duration": 4,
    "start_time": "2021-11-28T07:31:24.401Z"
   },
   {
    "duration": 24,
    "start_time": "2021-11-28T07:31:24.407Z"
   },
   {
    "duration": 311,
    "start_time": "2021-11-28T07:31:24.433Z"
   },
   {
    "duration": 493,
    "start_time": "2021-11-28T07:31:24.746Z"
   },
   {
    "duration": 262,
    "start_time": "2021-11-28T07:31:25.241Z"
   },
   {
    "duration": 254,
    "start_time": "2021-11-28T07:31:25.505Z"
   },
   {
    "duration": 173,
    "start_time": "2021-11-28T07:31:25.760Z"
   },
   {
    "duration": 145,
    "start_time": "2021-11-28T07:31:25.935Z"
   },
   {
    "duration": 164,
    "start_time": "2021-11-28T07:31:26.082Z"
   },
   {
    "duration": 18,
    "start_time": "2021-11-28T07:31:26.248Z"
   },
   {
    "duration": 5,
    "start_time": "2021-11-28T07:31:26.268Z"
   },
   {
    "duration": 49,
    "start_time": "2021-11-28T07:31:26.275Z"
   },
   {
    "duration": 37,
    "start_time": "2021-11-28T07:31:26.326Z"
   },
   {
    "duration": 257,
    "start_time": "2021-11-28T07:31:26.366Z"
   },
   {
    "duration": 2242,
    "start_time": "2021-11-28T07:31:26.625Z"
   },
   {
    "duration": 1773,
    "start_time": "2021-11-28T07:31:28.869Z"
   },
   {
    "duration": 138467,
    "start_time": "2021-11-28T07:31:30.644Z"
   },
   {
    "duration": 15651,
    "start_time": "2021-11-28T07:33:49.113Z"
   },
   {
    "duration": 318061,
    "start_time": "2021-11-28T07:34:04.766Z"
   },
   {
    "duration": 9,
    "start_time": "2021-11-28T07:39:22.829Z"
   },
   {
    "duration": 13,
    "start_time": "2021-11-28T07:39:22.840Z"
   },
   {
    "duration": 38,
    "start_time": "2021-11-28T07:39:22.855Z"
   },
   {
    "duration": 9,
    "start_time": "2021-11-28T07:39:22.896Z"
   },
   {
    "duration": 1362,
    "start_time": "2021-11-28T07:39:22.906Z"
   },
   {
    "duration": 7,
    "start_time": "2021-11-28T07:39:24.270Z"
   },
   {
    "duration": 67562,
    "start_time": "2021-11-28T07:39:24.279Z"
   },
   {
    "duration": 7,
    "start_time": "2021-11-28T07:40:31.843Z"
   },
   {
    "duration": 209375,
    "start_time": "2021-11-28T07:40:31.852Z"
   },
   {
    "duration": 4,
    "start_time": "2021-11-28T07:44:01.229Z"
   },
   {
    "duration": 17,
    "start_time": "2021-11-28T07:44:01.235Z"
   },
   {
    "duration": 16,
    "start_time": "2021-11-28T07:56:44.676Z"
   },
   {
    "duration": 66992,
    "start_time": "2021-11-28T07:56:46.119Z"
   },
   {
    "duration": 10,
    "start_time": "2021-11-28T07:57:55.992Z"
   },
   {
    "duration": 9,
    "start_time": "2021-11-28T07:59:34.404Z"
   },
   {
    "duration": 13,
    "start_time": "2021-11-28T08:00:46.311Z"
   },
   {
    "duration": 12,
    "start_time": "2021-11-28T08:01:05.043Z"
   },
   {
    "duration": 12,
    "start_time": "2021-11-28T08:01:19.489Z"
   },
   {
    "duration": 270,
    "start_time": "2021-11-28T08:01:28.157Z"
   },
   {
    "duration": 204,
    "start_time": "2021-11-28T08:03:31.594Z"
   },
   {
    "duration": 267,
    "start_time": "2021-11-28T08:05:25.712Z"
   },
   {
    "duration": 4,
    "start_time": "2021-11-28T08:23:14.183Z"
   },
   {
    "duration": 186,
    "start_time": "2021-11-28T08:23:14.190Z"
   },
   {
    "duration": 8,
    "start_time": "2021-11-28T08:23:14.378Z"
   },
   {
    "duration": 18,
    "start_time": "2021-11-28T08:23:14.388Z"
   },
   {
    "duration": 14,
    "start_time": "2021-11-28T08:23:14.408Z"
   },
   {
    "duration": 4,
    "start_time": "2021-11-28T08:23:14.423Z"
   },
   {
    "duration": 40,
    "start_time": "2021-11-28T08:23:14.428Z"
   },
   {
    "duration": 320,
    "start_time": "2021-11-28T08:23:14.470Z"
   },
   {
    "duration": 497,
    "start_time": "2021-11-28T08:23:14.793Z"
   },
   {
    "duration": 270,
    "start_time": "2021-11-28T08:23:15.293Z"
   },
   {
    "duration": 247,
    "start_time": "2021-11-28T08:23:15.565Z"
   },
   {
    "duration": 181,
    "start_time": "2021-11-28T08:23:15.814Z"
   },
   {
    "duration": 155,
    "start_time": "2021-11-28T08:23:15.998Z"
   },
   {
    "duration": 163,
    "start_time": "2021-11-28T08:23:16.155Z"
   },
   {
    "duration": 10,
    "start_time": "2021-11-28T08:23:16.320Z"
   },
   {
    "duration": 24,
    "start_time": "2021-11-28T08:23:16.332Z"
   },
   {
    "duration": 59,
    "start_time": "2021-11-28T08:23:16.358Z"
   },
   {
    "duration": 10,
    "start_time": "2021-11-28T08:23:16.419Z"
   },
   {
    "duration": 268,
    "start_time": "2021-11-28T08:23:16.431Z"
   },
   {
    "duration": 2379,
    "start_time": "2021-11-28T08:23:16.701Z"
   },
   {
    "duration": 1807,
    "start_time": "2021-11-28T08:23:19.082Z"
   },
   {
    "duration": 137311,
    "start_time": "2021-11-28T08:23:20.892Z"
   },
   {
    "duration": 14629,
    "start_time": "2021-11-28T08:25:38.205Z"
   },
   {
    "duration": 293512,
    "start_time": "2021-11-28T08:25:52.838Z"
   },
   {
    "duration": 7,
    "start_time": "2021-11-28T08:30:46.352Z"
   },
   {
    "duration": 14,
    "start_time": "2021-11-28T08:30:46.361Z"
   },
   {
    "duration": 36,
    "start_time": "2021-11-28T08:30:46.377Z"
   },
   {
    "duration": 10,
    "start_time": "2021-11-28T08:30:46.415Z"
   },
   {
    "duration": 1345,
    "start_time": "2021-11-28T08:30:46.427Z"
   },
   {
    "duration": 16,
    "start_time": "2021-11-28T08:30:47.775Z"
   },
   {
    "duration": 65803,
    "start_time": "2021-11-28T08:30:47.793Z"
   },
   {
    "duration": 9,
    "start_time": "2021-11-28T08:31:53.598Z"
   },
   {
    "duration": 213585,
    "start_time": "2021-11-28T08:31:53.609Z"
   },
   {
    "duration": 9,
    "start_time": "2021-11-28T08:35:27.196Z"
   },
   {
    "duration": 8,
    "start_time": "2021-11-28T08:35:27.208Z"
   },
   {
    "duration": 257,
    "start_time": "2021-11-28T08:35:27.218Z"
   },
   {
    "duration": 1086,
    "start_time": "2022-01-18T07:06:14.785Z"
   },
   {
    "duration": 140,
    "start_time": "2022-01-18T07:06:15.873Z"
   },
   {
    "duration": 8,
    "start_time": "2022-01-18T07:06:16.015Z"
   },
   {
    "duration": 9,
    "start_time": "2022-01-18T07:06:16.025Z"
   },
   {
    "duration": 10,
    "start_time": "2022-01-18T07:06:16.035Z"
   },
   {
    "duration": 3,
    "start_time": "2022-01-18T07:06:16.047Z"
   },
   {
    "duration": 13,
    "start_time": "2022-01-18T07:06:16.052Z"
   },
   {
    "duration": 311,
    "start_time": "2022-01-18T07:06:16.067Z"
   },
   {
    "duration": 419,
    "start_time": "2022-01-18T07:06:16.380Z"
   },
   {
    "duration": 240,
    "start_time": "2022-01-18T07:06:16.800Z"
   },
   {
    "duration": 214,
    "start_time": "2022-01-18T07:06:17.041Z"
   },
   {
    "duration": 160,
    "start_time": "2022-01-18T07:06:17.256Z"
   },
   {
    "duration": 139,
    "start_time": "2022-01-18T07:06:17.418Z"
   },
   {
    "duration": 147,
    "start_time": "2022-01-18T07:06:17.559Z"
   },
   {
    "duration": 8,
    "start_time": "2022-01-18T07:06:17.707Z"
   },
   {
    "duration": 4,
    "start_time": "2022-01-18T07:06:17.717Z"
   },
   {
    "duration": 37,
    "start_time": "2022-01-18T07:06:17.723Z"
   },
   {
    "duration": 4,
    "start_time": "2022-01-18T07:06:17.762Z"
   },
   {
    "duration": 1948,
    "start_time": "2022-01-18T07:06:17.767Z"
   },
   {
    "duration": 120097,
    "start_time": "2022-01-18T07:06:19.717Z"
   },
   {
    "duration": 179414,
    "start_time": "2022-01-18T07:08:19.816Z"
   },
   {
    "duration": 3,
    "start_time": "2022-01-18T07:11:19.232Z"
   },
   {
    "duration": 8,
    "start_time": "2022-01-18T07:11:19.237Z"
   },
   {
    "duration": 29,
    "start_time": "2022-01-18T07:11:19.246Z"
   },
   {
    "duration": 7,
    "start_time": "2022-01-18T07:11:19.276Z"
   },
   {
    "duration": 1207,
    "start_time": "2022-01-18T07:11:19.284Z"
   },
   {
    "duration": 20,
    "start_time": "2022-01-18T07:11:20.493Z"
   },
   {
    "duration": 56775,
    "start_time": "2022-01-18T07:11:20.514Z"
   },
   {
    "duration": 7,
    "start_time": "2022-01-18T07:12:17.290Z"
   },
   {
    "duration": 136505,
    "start_time": "2022-01-18T07:12:17.299Z"
   },
   {
    "duration": 3,
    "start_time": "2022-01-18T07:14:33.806Z"
   },
   {
    "duration": 7,
    "start_time": "2022-01-18T07:14:33.811Z"
   },
   {
    "duration": 242,
    "start_time": "2022-01-18T07:14:33.819Z"
   }
  ],
  "kernelspec": {
   "display_name": "Python 3",
   "language": "python",
   "name": "python3"
  },
  "language_info": {
   "codemirror_mode": {
    "name": "ipython",
    "version": 3
   },
   "file_extension": ".py",
   "mimetype": "text/x-python",
   "name": "python",
   "nbconvert_exporter": "python",
   "pygments_lexer": "ipython3",
   "version": "3.8.8"
  },
  "toc": {
   "base_numbering": 1,
   "nav_menu": {},
   "number_sections": true,
   "sideBar": true,
   "skip_h1_title": true,
   "title_cell": "Содержание",
   "title_sidebar": "Contents",
   "toc_cell": true,
   "toc_position": {
    "height": "calc(100% - 180px)",
    "left": "10px",
    "top": "150px",
    "width": "165px"
   },
   "toc_section_display": true,
   "toc_window_display": true
  }
 },
 "nbformat": 4,
 "nbformat_minor": 2
}
