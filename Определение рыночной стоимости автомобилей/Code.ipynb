{
 "cells": [
  {
   "cell_type": "markdown",
   "metadata": {},
   "source": [
    "# Определение стоимости автомобилей"
   ]
  },
  {
   "cell_type": "markdown",
   "metadata": {},
   "source": [
    "Для сервиса по продаже автомобилей с пробегом, необходимо создать модель для оценки рыночной стоимости автомобиля по историческим данным.\n",
    "\n",
    "Необходимо учитывать 3 важных параметра:\n",
    "\n",
    "- качество предсказания;\n",
    "- скорость предсказания;\n",
    "- время обучения."
   ]
  },
  {
   "cell_type": "markdown",
   "metadata": {},
   "source": [
    "## Подготовка данных"
   ]
  },
  {
   "cell_type": "code",
   "execution_count": 93,
   "metadata": {},
   "outputs": [],
   "source": [
    "#!pip install library -U --user\n",
    "#!pip install -U seaborn\n",
    "#!pip install catboost\n",
    "#!pip install lightgbm"
   ]
  },
  {
   "cell_type": "code",
   "execution_count": 94,
   "metadata": {},
   "outputs": [],
   "source": [
    "import pandas as pd\n",
    "import numpy as np\n",
    "\n",
    "import warnings\n",
    "warnings.filterwarnings('ignore')\n",
    "\n",
    "import seaborn as sns\n",
    "import matplotlib.pyplot as plt\n",
    "\n",
    "from sklearn.model_selection import train_test_split\n",
    "from sklearn.preprocessing import OrdinalEncoder\n",
    "from sklearn.tree import DecisionTreeRegressor\n",
    "from sklearn.model_selection import cross_val_score\n",
    "from sklearn.ensemble import RandomForestRegressor\n",
    "from sklearn.linear_model import LinearRegression\n",
    "from sklearn.model_selection import GridSearchCV\n",
    "\n",
    "from sklearn.metrics import mean_squared_error\n",
    "from sklearn.metrics import make_scorer\n",
    "\n",
    "from catboost import CatBoostRegressor\n",
    "from lightgbm import LGBMRegressor\n",
    "\n",
    "import time\n",
    "\n",
    "pd.set_option('display.max_columns', None)"
   ]
  },
  {
   "cell_type": "code",
   "execution_count": 95,
   "metadata": {},
   "outputs": [],
   "source": [
    "try:\n",
    "    data = pd.read_csv(\"autos.csv\")\n",
    "    \n",
    "except FileNotFoundError:\n",
    "    data = pd.read_csv(\"/datasets/autos.csv\")"
   ]
  },
  {
   "cell_type": "code",
   "execution_count": 96,
   "metadata": {},
   "outputs": [
    {
     "name": "stdout",
     "output_type": "stream",
     "text": [
      "<class 'pandas.core.frame.DataFrame'>\n",
      "RangeIndex: 354369 entries, 0 to 354368\n",
      "Data columns (total 16 columns):\n",
      "DateCrawled          354369 non-null object\n",
      "Price                354369 non-null int64\n",
      "VehicleType          316879 non-null object\n",
      "RegistrationYear     354369 non-null int64\n",
      "Gearbox              334536 non-null object\n",
      "Power                354369 non-null int64\n",
      "Model                334664 non-null object\n",
      "Kilometer            354369 non-null int64\n",
      "RegistrationMonth    354369 non-null int64\n",
      "FuelType             321474 non-null object\n",
      "Brand                354369 non-null object\n",
      "NotRepaired          283215 non-null object\n",
      "DateCreated          354369 non-null object\n",
      "NumberOfPictures     354369 non-null int64\n",
      "PostalCode           354369 non-null int64\n",
      "LastSeen             354369 non-null object\n",
      "dtypes: int64(7), object(9)\n",
      "memory usage: 43.3+ MB\n"
     ]
    }
   ],
   "source": [
    "data.info()"
   ]
  },
  {
   "cell_type": "code",
   "execution_count": 97,
   "metadata": {
    "scrolled": false
   },
   "outputs": [
    {
     "data": {
      "text/html": [
       "<div>\n",
       "<style scoped>\n",
       "    .dataframe tbody tr th:only-of-type {\n",
       "        vertical-align: middle;\n",
       "    }\n",
       "\n",
       "    .dataframe tbody tr th {\n",
       "        vertical-align: top;\n",
       "    }\n",
       "\n",
       "    .dataframe thead th {\n",
       "        text-align: right;\n",
       "    }\n",
       "</style>\n",
       "<table border=\"1\" class=\"dataframe\">\n",
       "  <thead>\n",
       "    <tr style=\"text-align: right;\">\n",
       "      <th></th>\n",
       "      <th>DateCrawled</th>\n",
       "      <th>Price</th>\n",
       "      <th>VehicleType</th>\n",
       "      <th>RegistrationYear</th>\n",
       "      <th>Gearbox</th>\n",
       "      <th>Power</th>\n",
       "      <th>Model</th>\n",
       "      <th>Kilometer</th>\n",
       "      <th>RegistrationMonth</th>\n",
       "      <th>FuelType</th>\n",
       "      <th>Brand</th>\n",
       "      <th>NotRepaired</th>\n",
       "      <th>DateCreated</th>\n",
       "      <th>NumberOfPictures</th>\n",
       "      <th>PostalCode</th>\n",
       "      <th>LastSeen</th>\n",
       "    </tr>\n",
       "  </thead>\n",
       "  <tbody>\n",
       "    <tr>\n",
       "      <td>51956</td>\n",
       "      <td>2016-03-09 22:40:09</td>\n",
       "      <td>2900</td>\n",
       "      <td>NaN</td>\n",
       "      <td>2017</td>\n",
       "      <td>manual</td>\n",
       "      <td>0</td>\n",
       "      <td>NaN</td>\n",
       "      <td>125000</td>\n",
       "      <td>0</td>\n",
       "      <td>petrol</td>\n",
       "      <td>mercedes_benz</td>\n",
       "      <td>no</td>\n",
       "      <td>2016-03-09 00:00:00</td>\n",
       "      <td>0</td>\n",
       "      <td>30938</td>\n",
       "      <td>2016-03-17 07:47:20</td>\n",
       "    </tr>\n",
       "    <tr>\n",
       "      <td>188851</td>\n",
       "      <td>2016-03-06 13:41:25</td>\n",
       "      <td>300</td>\n",
       "      <td>small</td>\n",
       "      <td>1999</td>\n",
       "      <td>manual</td>\n",
       "      <td>55</td>\n",
       "      <td>punto</td>\n",
       "      <td>150000</td>\n",
       "      <td>1</td>\n",
       "      <td>petrol</td>\n",
       "      <td>fiat</td>\n",
       "      <td>no</td>\n",
       "      <td>2016-03-06 00:00:00</td>\n",
       "      <td>0</td>\n",
       "      <td>54290</td>\n",
       "      <td>2016-04-06 05:45:59</td>\n",
       "    </tr>\n",
       "    <tr>\n",
       "      <td>69740</td>\n",
       "      <td>2016-03-19 15:53:37</td>\n",
       "      <td>110</td>\n",
       "      <td>small</td>\n",
       "      <td>2000</td>\n",
       "      <td>manual</td>\n",
       "      <td>0</td>\n",
       "      <td>cuore</td>\n",
       "      <td>125000</td>\n",
       "      <td>4</td>\n",
       "      <td>petrol</td>\n",
       "      <td>daihatsu</td>\n",
       "      <td>NaN</td>\n",
       "      <td>2016-03-19 00:00:00</td>\n",
       "      <td>0</td>\n",
       "      <td>89073</td>\n",
       "      <td>2016-03-24 10:47:22</td>\n",
       "    </tr>\n",
       "    <tr>\n",
       "      <td>333111</td>\n",
       "      <td>2016-03-24 12:53:48</td>\n",
       "      <td>19950</td>\n",
       "      <td>small</td>\n",
       "      <td>2013</td>\n",
       "      <td>manual</td>\n",
       "      <td>184</td>\n",
       "      <td>cooper</td>\n",
       "      <td>40000</td>\n",
       "      <td>10</td>\n",
       "      <td>petrol</td>\n",
       "      <td>mini</td>\n",
       "      <td>no</td>\n",
       "      <td>2016-03-24 00:00:00</td>\n",
       "      <td>0</td>\n",
       "      <td>36037</td>\n",
       "      <td>2016-04-03 03:46:31</td>\n",
       "    </tr>\n",
       "    <tr>\n",
       "      <td>21614</td>\n",
       "      <td>2016-03-17 17:49:39</td>\n",
       "      <td>5000</td>\n",
       "      <td>coupe</td>\n",
       "      <td>1976</td>\n",
       "      <td>NaN</td>\n",
       "      <td>0</td>\n",
       "      <td>other</td>\n",
       "      <td>150000</td>\n",
       "      <td>5</td>\n",
       "      <td>NaN</td>\n",
       "      <td>porsche</td>\n",
       "      <td>yes</td>\n",
       "      <td>2016-03-17 00:00:00</td>\n",
       "      <td>0</td>\n",
       "      <td>6847</td>\n",
       "      <td>2016-03-17 17:49:39</td>\n",
       "    </tr>\n",
       "    <tr>\n",
       "      <td>123590</td>\n",
       "      <td>2016-03-25 13:39:47</td>\n",
       "      <td>6400</td>\n",
       "      <td>small</td>\n",
       "      <td>2009</td>\n",
       "      <td>manual</td>\n",
       "      <td>60</td>\n",
       "      <td>fabia</td>\n",
       "      <td>60000</td>\n",
       "      <td>10</td>\n",
       "      <td>petrol</td>\n",
       "      <td>skoda</td>\n",
       "      <td>no</td>\n",
       "      <td>2016-03-25 00:00:00</td>\n",
       "      <td>0</td>\n",
       "      <td>50999</td>\n",
       "      <td>2016-04-06 15:44:35</td>\n",
       "    </tr>\n",
       "    <tr>\n",
       "      <td>348304</td>\n",
       "      <td>2016-03-25 13:36:22</td>\n",
       "      <td>3650</td>\n",
       "      <td>wagon</td>\n",
       "      <td>2004</td>\n",
       "      <td>manual</td>\n",
       "      <td>179</td>\n",
       "      <td>a4</td>\n",
       "      <td>150000</td>\n",
       "      <td>1</td>\n",
       "      <td>gasoline</td>\n",
       "      <td>audi</td>\n",
       "      <td>no</td>\n",
       "      <td>2016-03-25 00:00:00</td>\n",
       "      <td>0</td>\n",
       "      <td>21109</td>\n",
       "      <td>2016-04-06 15:44:33</td>\n",
       "    </tr>\n",
       "    <tr>\n",
       "      <td>118774</td>\n",
       "      <td>2016-03-10 08:56:40</td>\n",
       "      <td>11999</td>\n",
       "      <td>wagon</td>\n",
       "      <td>2012</td>\n",
       "      <td>manual</td>\n",
       "      <td>136</td>\n",
       "      <td>i_reihe</td>\n",
       "      <td>100000</td>\n",
       "      <td>9</td>\n",
       "      <td>gasoline</td>\n",
       "      <td>hyundai</td>\n",
       "      <td>no</td>\n",
       "      <td>2016-03-10 00:00:00</td>\n",
       "      <td>0</td>\n",
       "      <td>33818</td>\n",
       "      <td>2016-03-20 09:18:16</td>\n",
       "    </tr>\n",
       "    <tr>\n",
       "      <td>316032</td>\n",
       "      <td>2016-04-02 17:36:22</td>\n",
       "      <td>14500</td>\n",
       "      <td>suv</td>\n",
       "      <td>2005</td>\n",
       "      <td>auto</td>\n",
       "      <td>313</td>\n",
       "      <td>touareg</td>\n",
       "      <td>150000</td>\n",
       "      <td>8</td>\n",
       "      <td>gasoline</td>\n",
       "      <td>volkswagen</td>\n",
       "      <td>no</td>\n",
       "      <td>2016-04-02 00:00:00</td>\n",
       "      <td>0</td>\n",
       "      <td>89522</td>\n",
       "      <td>2016-04-06 18:16:21</td>\n",
       "    </tr>\n",
       "    <tr>\n",
       "      <td>336604</td>\n",
       "      <td>2016-03-10 11:40:58</td>\n",
       "      <td>1999</td>\n",
       "      <td>NaN</td>\n",
       "      <td>2018</td>\n",
       "      <td>NaN</td>\n",
       "      <td>90</td>\n",
       "      <td>golf</td>\n",
       "      <td>125000</td>\n",
       "      <td>5</td>\n",
       "      <td>NaN</td>\n",
       "      <td>volkswagen</td>\n",
       "      <td>NaN</td>\n",
       "      <td>2016-03-10 00:00:00</td>\n",
       "      <td>0</td>\n",
       "      <td>30455</td>\n",
       "      <td>2016-04-04 21:45:13</td>\n",
       "    </tr>\n",
       "  </tbody>\n",
       "</table>\n",
       "</div>"
      ],
      "text/plain": [
       "                DateCrawled  Price VehicleType  RegistrationYear Gearbox  \\\n",
       "51956   2016-03-09 22:40:09   2900         NaN              2017  manual   \n",
       "188851  2016-03-06 13:41:25    300       small              1999  manual   \n",
       "69740   2016-03-19 15:53:37    110       small              2000  manual   \n",
       "333111  2016-03-24 12:53:48  19950       small              2013  manual   \n",
       "21614   2016-03-17 17:49:39   5000       coupe              1976     NaN   \n",
       "123590  2016-03-25 13:39:47   6400       small              2009  manual   \n",
       "348304  2016-03-25 13:36:22   3650       wagon              2004  manual   \n",
       "118774  2016-03-10 08:56:40  11999       wagon              2012  manual   \n",
       "316032  2016-04-02 17:36:22  14500         suv              2005    auto   \n",
       "336604  2016-03-10 11:40:58   1999         NaN              2018     NaN   \n",
       "\n",
       "        Power    Model  Kilometer  RegistrationMonth  FuelType          Brand  \\\n",
       "51956       0      NaN     125000                  0    petrol  mercedes_benz   \n",
       "188851     55    punto     150000                  1    petrol           fiat   \n",
       "69740       0    cuore     125000                  4    petrol       daihatsu   \n",
       "333111    184   cooper      40000                 10    petrol           mini   \n",
       "21614       0    other     150000                  5       NaN        porsche   \n",
       "123590     60    fabia      60000                 10    petrol          skoda   \n",
       "348304    179       a4     150000                  1  gasoline           audi   \n",
       "118774    136  i_reihe     100000                  9  gasoline        hyundai   \n",
       "316032    313  touareg     150000                  8  gasoline     volkswagen   \n",
       "336604     90     golf     125000                  5       NaN     volkswagen   \n",
       "\n",
       "       NotRepaired          DateCreated  NumberOfPictures  PostalCode  \\\n",
       "51956           no  2016-03-09 00:00:00                 0       30938   \n",
       "188851          no  2016-03-06 00:00:00                 0       54290   \n",
       "69740          NaN  2016-03-19 00:00:00                 0       89073   \n",
       "333111          no  2016-03-24 00:00:00                 0       36037   \n",
       "21614          yes  2016-03-17 00:00:00                 0        6847   \n",
       "123590          no  2016-03-25 00:00:00                 0       50999   \n",
       "348304          no  2016-03-25 00:00:00                 0       21109   \n",
       "118774          no  2016-03-10 00:00:00                 0       33818   \n",
       "316032          no  2016-04-02 00:00:00                 0       89522   \n",
       "336604         NaN  2016-03-10 00:00:00                 0       30455   \n",
       "\n",
       "                   LastSeen  \n",
       "51956   2016-03-17 07:47:20  \n",
       "188851  2016-04-06 05:45:59  \n",
       "69740   2016-03-24 10:47:22  \n",
       "333111  2016-04-03 03:46:31  \n",
       "21614   2016-03-17 17:49:39  \n",
       "123590  2016-04-06 15:44:35  \n",
       "348304  2016-04-06 15:44:33  \n",
       "118774  2016-03-20 09:18:16  \n",
       "316032  2016-04-06 18:16:21  \n",
       "336604  2016-04-04 21:45:13  "
      ]
     },
     "execution_count": 97,
     "metadata": {},
     "output_type": "execute_result"
    }
   ],
   "source": [
    "data.sample(10)"
   ]
  },
  {
   "cell_type": "markdown",
   "metadata": {},
   "source": [
    "По датасету в нашем распоряжении 354369 объектов продаваемых автомобилей, с 16 признаками.\n",
    "Видно, что есть пропуски.\n",
    "\n",
    "Перед тем как их обрабатывать посмотрим на данные, оценим выбросы."
   ]
  },
  {
   "cell_type": "markdown",
   "metadata": {},
   "source": [
    "### Выбросы"
   ]
  },
  {
   "cell_type": "code",
   "execution_count": 98,
   "metadata": {},
   "outputs": [],
   "source": [
    "data_col_count = ['Price', 'RegistrationYear', 'Power', 'Kilometer', 'RegistrationMonth']"
   ]
  },
  {
   "cell_type": "code",
   "execution_count": 99,
   "metadata": {},
   "outputs": [],
   "source": [
    "def count_distribution(data_col_count):\n",
    "    for col in data_col_count:\n",
    "        plt.figure(figsize=(6,10))\n",
    "        sns.boxplot(y=data[col])\n",
    "        plt.title(f'Распределение признака - {col}')\n",
    "        plt.xlabel(col)\n",
    "        plt.show()    "
   ]
  },
  {
   "cell_type": "code",
   "execution_count": 100,
   "metadata": {
    "scrolled": false
   },
   "outputs": [
    {
     "data": {
      "image/png": "[encoded data removed]",
      "text/plain": [
       "<Figure size 432x720 with 1 Axes>"
      ]
     },
     "metadata": {
      "needs_background": "light"
     },
     "output_type": "display_data"
    },
    {
     "data": {
      "image/png": "[encoded data removed]",
      "text/plain": [
       "<Figure size 432x720 with 1 Axes>"
      ]
     },
     "metadata": {
      "needs_background": "light"
     },
     "output_type": "display_data"
    },
    {
     "data": {
      "image/png": "[encoded data removed]",
      "text/plain": [
       "<Figure size 432x720 with 1 Axes>"
      ]
     },
     "metadata": {
      "needs_background": "light"
     },
     "output_type": "display_data"
    },
    {
     "data": {
      "image/png": "[encoded data removed]",
      "text/plain": [
       "<Figure size 432x720 with 1 Axes>"
      ]
     },
     "metadata": {
      "needs_background": "light"
     },
     "output_type": "display_data"
    },
    {
     "data": {
      "image/png": "[encoded data removed]",
      "text/plain": [
       "<Figure size 432x720 with 1 Axes>"
      ]
     },
     "metadata": {
      "needs_background": "light"
     },
     "output_type": "display_data"
    }
   ],
   "source": [
    "count_distribution(data_col_count)"
   ]
  },
  {
   "cell_type": "markdown",
   "metadata": {},
   "source": [
    "Оценим количественные признаки:\n",
    "- Цена - от 0 до 20000 - Ограничим данные для обучения с ценой больше 0, т.к предсказывать цену в 0 не разумно.\n",
    "- Год регистрации - странные значения в далеком без автомобильном прошлом и далеко в будущем. (ограничим 1980 - 2021 гг.)\n",
    "- Мощность двигателя - так же заставляет задуматься о значениях, по значениям некоторые продают самолет. (значения ограничим, ниже пояснение)\n",
    "- Пробег - трогать не будем, вполне реалистичные значения (для России), в Европе +- возможно так же.\n",
    "- Месяц регистрации - без изменений, 0 месяц говорит о том, что люди не знают точный месяц и ограничиваются годом.\n",
    "\n",
    "Начнем с явных не реалистичных данных."
   ]
  },
  {
   "cell_type": "markdown",
   "metadata": {},
   "source": [
    "#### RegistrationYear"
   ]
  },
  {
   "cell_type": "code",
   "execution_count": 101,
   "metadata": {},
   "outputs": [
    {
     "data": {
      "text/plain": [
       "count    354369.000000\n",
       "mean       2004.234448\n",
       "std          90.227958\n",
       "min        1000.000000\n",
       "25%        1999.000000\n",
       "50%        2003.000000\n",
       "75%        2008.000000\n",
       "max        9999.000000\n",
       "Name: RegistrationYear, dtype: float64"
      ]
     },
     "execution_count": 101,
     "metadata": {},
     "output_type": "execute_result"
    }
   ],
   "source": [
    "data['RegistrationYear'].describe()"
   ]
  },
  {
   "cell_type": "markdown",
   "metadata": {},
   "source": [
    "Ограничим дата сет годами регистрации взяв бОльший диапазон, чем между 1 и 3 квартилями, 1980 и 2021 сильно в будущее заглядывать не будем, в прошлое относительно глубоко, без явного раритета."
   ]
  },
  {
   "cell_type": "code",
   "execution_count": 102,
   "metadata": {
    "scrolled": true
   },
   "outputs": [
    {
     "name": "stdout",
     "output_type": "stream",
     "text": [
      "До 354369\n",
      "После 350812\n"
     ]
    }
   ],
   "source": [
    "print('До', len(data))\n",
    "data = data[(data['RegistrationYear'] >= 1980) & (data['RegistrationYear'] <= 2021)]\n",
    "print('После', len(data))"
   ]
  },
  {
   "cell_type": "markdown",
   "metadata": {},
   "source": [
    "После получили убыль в данных чуть менее 4 тыс объектов."
   ]
  },
  {
   "cell_type": "markdown",
   "metadata": {},
   "source": [
    "#### Power"
   ]
  },
  {
   "cell_type": "markdown",
   "metadata": {},
   "source": [
    "По мощности всё сложнее, с одной стороны на просторах интернета найден автомобиль с 10-ю лошадиными силами (Daihatsu Midget), а максимальное количество достигало 1300 (Locus Plethore). \n",
    "\n",
    "Ограничим данные значениями мощности от 10 до 1300 л.с, для большей реалистичности. Неоторые владельцы могут не знать мощности на момент заполнения анкеты. Потери в объектах 442."
   ]
  },
  {
   "cell_type": "code",
   "execution_count": 103,
   "metadata": {
    "scrolled": true
   },
   "outputs": [
    {
     "data": {
      "text/plain": [
       "212"
      ]
     },
     "execution_count": 103,
     "metadata": {},
     "output_type": "execute_result"
    }
   ],
   "source": [
    "len(data[(data['Power'] < 10) & (data['Power'] > 0)])"
   ]
  },
  {
   "cell_type": "code",
   "execution_count": 104,
   "metadata": {
    "scrolled": true
   },
   "outputs": [
    {
     "data": {
      "text/plain": [
       "230"
      ]
     },
     "execution_count": 104,
     "metadata": {},
     "output_type": "execute_result"
    }
   ],
   "source": [
    "len(data[data['Power'] > 1300])"
   ]
  },
  {
   "cell_type": "code",
   "execution_count": 105,
   "metadata": {},
   "outputs": [
    {
     "data": {
      "text/plain": [
       "311358"
      ]
     },
     "execution_count": 105,
     "metadata": {},
     "output_type": "execute_result"
    }
   ],
   "source": [
    "data = data[(data['Power'] >= 10) & (data['Power'] <= 1300)]\n",
    "data.shape[0]"
   ]
  },
  {
   "cell_type": "code",
   "execution_count": 106,
   "metadata": {
    "scrolled": false
   },
   "outputs": [
    {
     "data": {
      "image/png": "[encoded data removed]",
      "text/plain": [
       "<Figure size 432x720 with 1 Axes>"
      ]
     },
     "metadata": {
      "needs_background": "light"
     },
     "output_type": "display_data"
    },
    {
     "data": {
      "image/png": "[encoded data removed]",
      "text/plain": [
       "<Figure size 432x720 with 1 Axes>"
      ]
     },
     "metadata": {
      "needs_background": "light"
     },
     "output_type": "display_data"
    },
    {
     "data": {
      "image/png": "[encoded data removed]",
      "text/plain": [
       "<Figure size 432x720 with 1 Axes>"
      ]
     },
     "metadata": {
      "needs_background": "light"
     },
     "output_type": "display_data"
    },
    {
     "data": {
      "image/png": "[encoded data removed]",
      "text/plain": [
       "<Figure size 432x720 with 1 Axes>"
      ]
     },
     "metadata": {
      "needs_background": "light"
     },
     "output_type": "display_data"
    },
    {
     "data": {
      "image/png": "[encoded data removed]",
      "text/plain": [
       "<Figure size 432x720 with 1 Axes>"
      ]
     },
     "metadata": {
      "needs_background": "light"
     },
     "output_type": "display_data"
    }
   ],
   "source": [
    "# рассмотрим обновленные данные распределения категориальных признаков \n",
    "count_distribution(data_col_count)"
   ]
  },
  {
   "cell_type": "code",
   "execution_count": 107,
   "metadata": {
    "scrolled": true
   },
   "outputs": [
    {
     "data": {
      "text/html": [
       "<div>\n",
       "<style scoped>\n",
       "    .dataframe tbody tr th:only-of-type {\n",
       "        vertical-align: middle;\n",
       "    }\n",
       "\n",
       "    .dataframe tbody tr th {\n",
       "        vertical-align: top;\n",
       "    }\n",
       "\n",
       "    .dataframe thead th {\n",
       "        text-align: right;\n",
       "    }\n",
       "</style>\n",
       "<table border=\"1\" class=\"dataframe\">\n",
       "  <thead>\n",
       "    <tr style=\"text-align: right;\">\n",
       "      <th></th>\n",
       "      <th>Price</th>\n",
       "      <th>RegistrationYear</th>\n",
       "      <th>Power</th>\n",
       "      <th>Kilometer</th>\n",
       "      <th>RegistrationMonth</th>\n",
       "    </tr>\n",
       "  </thead>\n",
       "  <tbody>\n",
       "    <tr>\n",
       "      <td>count</td>\n",
       "      <td>311358.000000</td>\n",
       "      <td>311358.000000</td>\n",
       "      <td>311358.000000</td>\n",
       "      <td>311358.000000</td>\n",
       "      <td>311358.000000</td>\n",
       "    </tr>\n",
       "    <tr>\n",
       "      <td>mean</td>\n",
       "      <td>4682.749468</td>\n",
       "      <td>2003.487680</td>\n",
       "      <td>120.703223</td>\n",
       "      <td>128832.967195</td>\n",
       "      <td>5.941016</td>\n",
       "    </tr>\n",
       "    <tr>\n",
       "      <td>std</td>\n",
       "      <td>4576.008705</td>\n",
       "      <td>6.399332</td>\n",
       "      <td>56.349442</td>\n",
       "      <td>36489.267793</td>\n",
       "      <td>3.616634</td>\n",
       "    </tr>\n",
       "    <tr>\n",
       "      <td>min</td>\n",
       "      <td>0.000000</td>\n",
       "      <td>1980.000000</td>\n",
       "      <td>10.000000</td>\n",
       "      <td>5000.000000</td>\n",
       "      <td>0.000000</td>\n",
       "    </tr>\n",
       "    <tr>\n",
       "      <td>25%</td>\n",
       "      <td>1249.000000</td>\n",
       "      <td>1999.000000</td>\n",
       "      <td>75.000000</td>\n",
       "      <td>125000.000000</td>\n",
       "      <td>3.000000</td>\n",
       "    </tr>\n",
       "    <tr>\n",
       "      <td>50%</td>\n",
       "      <td>2999.000000</td>\n",
       "      <td>2003.000000</td>\n",
       "      <td>110.000000</td>\n",
       "      <td>150000.000000</td>\n",
       "      <td>6.000000</td>\n",
       "    </tr>\n",
       "    <tr>\n",
       "      <td>75%</td>\n",
       "      <td>6800.000000</td>\n",
       "      <td>2008.000000</td>\n",
       "      <td>150.000000</td>\n",
       "      <td>150000.000000</td>\n",
       "      <td>9.000000</td>\n",
       "    </tr>\n",
       "    <tr>\n",
       "      <td>max</td>\n",
       "      <td>20000.000000</td>\n",
       "      <td>2019.000000</td>\n",
       "      <td>1300.000000</td>\n",
       "      <td>150000.000000</td>\n",
       "      <td>12.000000</td>\n",
       "    </tr>\n",
       "  </tbody>\n",
       "</table>\n",
       "</div>"
      ],
      "text/plain": [
       "               Price  RegistrationYear          Power      Kilometer  \\\n",
       "count  311358.000000     311358.000000  311358.000000  311358.000000   \n",
       "mean     4682.749468       2003.487680     120.703223  128832.967195   \n",
       "std      4576.008705          6.399332      56.349442   36489.267793   \n",
       "min         0.000000       1980.000000      10.000000    5000.000000   \n",
       "25%      1249.000000       1999.000000      75.000000  125000.000000   \n",
       "50%      2999.000000       2003.000000     110.000000  150000.000000   \n",
       "75%      6800.000000       2008.000000     150.000000  150000.000000   \n",
       "max     20000.000000       2019.000000    1300.000000  150000.000000   \n",
       "\n",
       "       RegistrationMonth  \n",
       "count      311358.000000  \n",
       "mean            5.941016  \n",
       "std             3.616634  \n",
       "min             0.000000  \n",
       "25%             3.000000  \n",
       "50%             6.000000  \n",
       "75%             9.000000  \n",
       "max            12.000000  "
      ]
     },
     "execution_count": 107,
     "metadata": {},
     "output_type": "execute_result"
    }
   ],
   "source": [
    "data[data_col_count].describe()"
   ]
  },
  {
   "cell_type": "markdown",
   "metadata": {},
   "source": [
    "Количественные признаки стали более реалистичные.\n",
    "\n",
    "Основные предложения автомобилей с ценой от 3 до 4.5 тыс евро, годом выпуска 2003, мощностью 110 - 120 л.с, и пробегом свыше 100 000 км."
   ]
  },
  {
   "cell_type": "code",
   "execution_count": 108,
   "metadata": {},
   "outputs": [
    {
     "data": {
      "text/plain": [
       "311358"
      ]
     },
     "execution_count": 108,
     "metadata": {},
     "output_type": "execute_result"
    }
   ],
   "source": [
    "data.shape[0]"
   ]
  },
  {
   "cell_type": "markdown",
   "metadata": {},
   "source": [
    "#### Выводы по выбросам:"
   ]
  },
  {
   "cell_type": "markdown",
   "metadata": {},
   "source": [
    "RegistrationYear - Ограничим дата сет годами регистрации взяв больший диапазон, чем между 1 и 3 квартилями, 1980 и 2021 сильно в будущее заглядывать не будем, в прошлое относительно глубоко, без явного раритета.\n",
    "\n",
    "Power - Ограничим данные значениями мощности от 10 до 1300 л.с, для большей реалистичности. Неоторые владельцы могут не знать мощности на момент заполнения анкеты. Потери в объектах 442.\n",
    "\n",
    "Признаки 'Kilometer', 'RegistrationMonth' оставим без изменений, 'Price' для обучения сделаем > 0. Километраж в 150 000 абсолютно реальное значение. Месяц регистрации 0 - значит не заполнено или не знают, знают только год.\n",
    "\n",
    "После исключения выбросов количество объектов сократилось до 311358 с 354369"
   ]
  },
  {
   "cell_type": "markdown",
   "metadata": {},
   "source": [
    "### Пропуски"
   ]
  },
  {
   "cell_type": "code",
   "execution_count": 109,
   "metadata": {
    "scrolled": true
   },
   "outputs": [
    {
     "data": {
      "text/plain": [
       "VehicleType    0.072942\n",
       "Gearbox        0.020484\n",
       "Model          0.040927\n",
       "FuelType       0.067405\n",
       "NotRepaired    0.157732\n",
       "dtype: float64"
      ]
     },
     "execution_count": 109,
     "metadata": {},
     "output_type": "execute_result"
    }
   ],
   "source": [
    "data.isnull().mean()[data.isnull().mean() > 0]"
   ]
  },
  {
   "cell_type": "markdown",
   "metadata": {},
   "source": [
    "В процентном соотношении больше всего пропусков в бинарном признаке, был ремонт или нет."
   ]
  },
  {
   "cell_type": "code",
   "execution_count": 110,
   "metadata": {
    "scrolled": false
   },
   "outputs": [
    {
     "name": "stdout",
     "output_type": "stream",
     "text": [
      "sedan          83954\n",
      "small          71152\n",
      "wagon          60362\n",
      "bus            26416\n",
      "convertible    18678\n",
      "coupe          14626\n",
      "suv            10975\n",
      "other           2484\n",
      "Name: VehicleType, dtype: int64 \n",
      "\n",
      "Количество пропусков- 22711 \n",
      "\n",
      "\n",
      "manual    244184\n",
      "auto       60796\n",
      "Name: Gearbox, dtype: int64 \n",
      "\n",
      "Количество пропусков- 6378 \n",
      "\n",
      "\n",
      "golf                  26723\n",
      "other                 20181\n",
      "3er                   18196\n",
      "polo                  11435\n",
      "corsa                 10786\n",
      "                      ...  \n",
      "samara                    5\n",
      "kalina                    5\n",
      "rangerover                3\n",
      "serie_2                   3\n",
      "range_rover_evoque        2\n",
      "Name: Model, Length: 248, dtype: int64 \n",
      "\n",
      "Количество пропусков- 12743 \n",
      "\n",
      "\n",
      "petrol      194159\n",
      "gasoline     90464\n",
      "lpg           4892\n",
      "cng            502\n",
      "hybrid         206\n",
      "other           82\n",
      "electric        66\n",
      "Name: FuelType, dtype: int64 \n",
      "\n",
      "Количество пропусков- 20987 \n",
      "\n",
      "\n",
      "no     231241\n",
      "yes     31006\n",
      "Name: NotRepaired, dtype: int64 \n",
      "\n",
      "Количество пропусков- 49111 \n",
      "\n",
      "\n"
     ]
    }
   ],
   "source": [
    "for col in data.isnull().mean()[data.isnull().mean() > 0].index:\n",
    "    print(data[col].value_counts(), '\\n')\n",
    "    print('Количество пропусков-', len(data[col][data[col].isnull()]), '\\n\\n')"
   ]
  },
  {
   "cell_type": "markdown",
   "metadata": {},
   "source": [
    "Краткая инструкция по заполнению:\n",
    "\n",
    " - VehicleType - всем пропущенным значениям присвоим категорию other\n",
    " - Model - всем пропущенным значениям присвоим категорию other\n",
    " - FuelType - всем пропущенным значениям присвоим категорию other\n",
    " - NotRepaired - если явно не указано нет, значит предположим что машина была в ремонте.\n",
    " - Gearbox - по наиболее частому значению в схожих параметрах."
   ]
  },
  {
   "cell_type": "code",
   "execution_count": 111,
   "metadata": {
    "scrolled": false
   },
   "outputs": [
    {
     "data": {
      "image/png": "[encoded data removed]",
      "text/plain": [
       "<Figure size 864x432 with 1 Axes>"
      ]
     },
     "metadata": {
      "needs_background": "light"
     },
     "output_type": "display_data"
    },
    {
     "data": {
      "image/png": "[encoded data removed]",
      "text/plain": [
       "<Figure size 864x432 with 1 Axes>"
      ]
     },
     "metadata": {
      "needs_background": "light"
     },
     "output_type": "display_data"
    },
    {
     "data": {
      "image/png": "[encoded data removed]",
      "text/plain": [
       "<Figure size 864x432 with 1 Axes>"
      ]
     },
     "metadata": {
      "needs_background": "light"
     },
     "output_type": "display_data"
    },
    {
     "data": {
      "image/png": "[encoded data removed]",
      "text/plain": [
       "<Figure size 864x432 with 1 Axes>"
      ]
     },
     "metadata": {
      "needs_background": "light"
     },
     "output_type": "display_data"
    }
   ],
   "source": [
    "for col in [x for x in data.isnull().mean()[data.isnull().mean() > 0].index if x != 'Model']:\n",
    "        plt.figure(figsize=(12,6))\n",
    "        sns.barplot(\n",
    "            y=data[col].value_counts().index, x=data[col].value_counts())\n",
    "        plt.title(f'Распределение признака - {col}')\n",
    "        plt.xlabel(col)\n",
    "        plt.show()"
   ]
  },
  {
   "cell_type": "code",
   "execution_count": 112,
   "metadata": {
    "scrolled": true
   },
   "outputs": [
    {
     "data": {
      "text/plain": [
       "6378"
      ]
     },
     "execution_count": 112,
     "metadata": {},
     "output_type": "execute_result"
    }
   ],
   "source": [
    "data['NotRepaired'].fillna(value='yes', inplace=True) # заполнение пропусков в NotRepaired\n",
    "data['VehicleType'].fillna(value='other', inplace=True) # заполнение пропусков в VehicleType\n",
    "data['Model'].fillna(value='other', inplace=True) # заполнение пропусков в Model\n",
    "data['FuelType'].fillna(value='other', inplace=True) # заполнение пропусков в FuelType\n",
    "data['Gearbox'].isnull().sum() # количество пропусков в признаки тип трансмиссии"
   ]
  },
  {
   "cell_type": "markdown",
   "metadata": {},
   "source": [
    "Восстановление данных через группировку и нахождение типовой (часто встречающейся на рынке) трансмиссии"
   ]
  },
  {
   "cell_type": "code",
   "execution_count": 113,
   "metadata": {},
   "outputs": [],
   "source": [
    "# находим схожие автомобили, по кузову, модели, марки, и году регистрации\n",
    "for key, group in data.groupby(['VehicleType', 'Model', 'Brand', 'RegistrationYear']):\n",
    "    # находим группы в которых элементов более 3 и есть пропуски\n",
    "    if len(group) > 3 and group['Gearbox'].isnull().sum() > 0:\n",
    "        # исключение на случай, если в серии group['Gearbox'] только NaN\n",
    "        try:\n",
    "            # most_cat какая часть самого часто встречающегося типа трансмиссии в выбранной группе\n",
    "            most_cat = group['Gearbox'].value_counts()[0] / len(group['Gearbox'])\n",
    "            # если процент выбранного типа трансмиссии более 80% то делаем замену нужного индекса\n",
    "            # остальные оставляем без изменений ввиду возможности как одной, так и другой трансмиссии\n",
    "            if most_cat > 0.8:\n",
    "                for i in group['Gearbox'].isnull().loc[group['Gearbox'].isnull()].index:\n",
    "                    data.loc[i,'Gearbox'] = group['Gearbox'].value_counts().index[0]\n",
    "                        \n",
    "        except IndexError:\n",
    "            continue"
   ]
  },
  {
   "cell_type": "code",
   "execution_count": 114,
   "metadata": {
    "scrolled": false
   },
   "outputs": [
    {
     "data": {
      "text/plain": [
       "3137"
      ]
     },
     "execution_count": 114,
     "metadata": {},
     "output_type": "execute_result"
    }
   ],
   "source": [
    "data['Gearbox'].isnull().sum()"
   ]
  },
  {
   "cell_type": "markdown",
   "metadata": {},
   "source": [
    "Более половины пропусков удалось восстановить. Остальные 3137 объектов удаляем."
   ]
  },
  {
   "cell_type": "code",
   "execution_count": 115,
   "metadata": {},
   "outputs": [
    {
     "data": {
      "text/plain": [
       "308221"
      ]
     },
     "execution_count": 115,
     "metadata": {},
     "output_type": "execute_result"
    }
   ],
   "source": [
    "data.dropna(inplace=True)\n",
    "data = data.reset_index()\n",
    "data.shape[0]"
   ]
  },
  {
   "cell_type": "code",
   "execution_count": 116,
   "metadata": {},
   "outputs": [
    {
     "data": {
      "text/plain": [
       "301661"
      ]
     },
     "execution_count": 116,
     "metadata": {},
     "output_type": "execute_result"
    }
   ],
   "source": [
    "data_unzero_price = data[data['Price'] > 0].reset_index()\n",
    "data_unzero_price.shape[0]"
   ]
  },
  {
   "cell_type": "markdown",
   "metadata": {},
   "source": [
    "### Вывод по выбросам и пропускам"
   ]
  },
  {
   "cell_type": "markdown",
   "metadata": {},
   "source": [
    "После подготовки данных получили датасет из 301661 объектов, что на 15% меньше от исходного датасета. Данных достаточно для продолжения проекта."
   ]
  },
  {
   "cell_type": "markdown",
   "metadata": {},
   "source": [
    "### Подготовка к обучению"
   ]
  },
  {
   "cell_type": "code",
   "execution_count": 117,
   "metadata": {
    "scrolled": false
   },
   "outputs": [
    {
     "data": {
      "text/plain": [
       "Index(['index', 'DateCrawled', 'Price', 'VehicleType', 'RegistrationYear',\n",
       "       'Gearbox', 'Power', 'Model', 'Kilometer', 'RegistrationMonth',\n",
       "       'FuelType', 'Brand', 'NotRepaired', 'DateCreated', 'NumberOfPictures',\n",
       "       'PostalCode', 'LastSeen'],\n",
       "      dtype='object')"
      ]
     },
     "execution_count": 117,
     "metadata": {},
     "output_type": "execute_result"
    }
   ],
   "source": [
    "data.columns"
   ]
  },
  {
   "cell_type": "markdown",
   "metadata": {},
   "source": [
    "В признаки, для обучения внесем следующие данные: кузов, год регистрации, тип трансмиссии, пробег, мощность, модель, тип топлива, марка, был ли автомобиль в ремонте."
   ]
  },
  {
   "cell_type": "code",
   "execution_count": 118,
   "metadata": {
    "scrolled": true
   },
   "outputs": [
    {
     "data": {
      "text/html": [
       "<div>\n",
       "<style scoped>\n",
       "    .dataframe tbody tr th:only-of-type {\n",
       "        vertical-align: middle;\n",
       "    }\n",
       "\n",
       "    .dataframe tbody tr th {\n",
       "        vertical-align: top;\n",
       "    }\n",
       "\n",
       "    .dataframe thead th {\n",
       "        text-align: right;\n",
       "    }\n",
       "</style>\n",
       "<table border=\"1\" class=\"dataframe\">\n",
       "  <thead>\n",
       "    <tr style=\"text-align: right;\">\n",
       "      <th></th>\n",
       "      <th>VehicleType</th>\n",
       "      <th>RegistrationYear</th>\n",
       "      <th>Gearbox</th>\n",
       "      <th>Kilometer</th>\n",
       "      <th>Power</th>\n",
       "      <th>Model</th>\n",
       "      <th>FuelType</th>\n",
       "      <th>Brand</th>\n",
       "      <th>NotRepaired</th>\n",
       "    </tr>\n",
       "  </thead>\n",
       "  <tbody>\n",
       "    <tr>\n",
       "      <td>0</td>\n",
       "      <td>coupe</td>\n",
       "      <td>2011</td>\n",
       "      <td>manual</td>\n",
       "      <td>125000</td>\n",
       "      <td>190</td>\n",
       "      <td>other</td>\n",
       "      <td>gasoline</td>\n",
       "      <td>audi</td>\n",
       "      <td>yes</td>\n",
       "    </tr>\n",
       "    <tr>\n",
       "      <td>1</td>\n",
       "      <td>suv</td>\n",
       "      <td>2004</td>\n",
       "      <td>auto</td>\n",
       "      <td>125000</td>\n",
       "      <td>163</td>\n",
       "      <td>grand</td>\n",
       "      <td>gasoline</td>\n",
       "      <td>jeep</td>\n",
       "      <td>yes</td>\n",
       "    </tr>\n",
       "    <tr>\n",
       "      <td>2</td>\n",
       "      <td>small</td>\n",
       "      <td>2001</td>\n",
       "      <td>manual</td>\n",
       "      <td>150000</td>\n",
       "      <td>75</td>\n",
       "      <td>golf</td>\n",
       "      <td>petrol</td>\n",
       "      <td>volkswagen</td>\n",
       "      <td>no</td>\n",
       "    </tr>\n",
       "    <tr>\n",
       "      <td>3</td>\n",
       "      <td>small</td>\n",
       "      <td>2008</td>\n",
       "      <td>manual</td>\n",
       "      <td>90000</td>\n",
       "      <td>69</td>\n",
       "      <td>fabia</td>\n",
       "      <td>gasoline</td>\n",
       "      <td>skoda</td>\n",
       "      <td>no</td>\n",
       "    </tr>\n",
       "    <tr>\n",
       "      <td>4</td>\n",
       "      <td>sedan</td>\n",
       "      <td>1995</td>\n",
       "      <td>manual</td>\n",
       "      <td>150000</td>\n",
       "      <td>102</td>\n",
       "      <td>3er</td>\n",
       "      <td>petrol</td>\n",
       "      <td>bmw</td>\n",
       "      <td>yes</td>\n",
       "    </tr>\n",
       "  </tbody>\n",
       "</table>\n",
       "</div>"
      ],
      "text/plain": [
       "  VehicleType  RegistrationYear Gearbox  Kilometer  Power  Model  FuelType  \\\n",
       "0       coupe              2011  manual     125000    190  other  gasoline   \n",
       "1         suv              2004    auto     125000    163  grand  gasoline   \n",
       "2       small              2001  manual     150000     75   golf    petrol   \n",
       "3       small              2008  manual      90000     69  fabia  gasoline   \n",
       "4       sedan              1995  manual     150000    102    3er    petrol   \n",
       "\n",
       "        Brand NotRepaired  \n",
       "0        audi         yes  \n",
       "1        jeep         yes  \n",
       "2  volkswagen          no  \n",
       "3       skoda          no  \n",
       "4         bmw         yes  "
      ]
     },
     "execution_count": 118,
     "metadata": {},
     "output_type": "execute_result"
    }
   ],
   "source": [
    "features = data_unzero_price[['VehicleType', 'RegistrationYear', 'Gearbox', 'Kilometer', 'Power',\n",
    "       'Model', 'FuelType', 'Brand',\n",
    "       'NotRepaired']]\n",
    "target = data_unzero_price['Price']\n",
    "features.head()"
   ]
  },
  {
   "cell_type": "markdown",
   "metadata": {},
   "source": [
    "Разделим на обучающую и валидационную выборку исходные признаки и целевой признак."
   ]
  },
  {
   "cell_type": "code",
   "execution_count": 119,
   "metadata": {},
   "outputs": [],
   "source": [
    "features_train, features_valid, target_train, target_valid = \\\n",
    "train_test_split(features, target, test_size=0.25, random_state=12345)"
   ]
  },
  {
   "cell_type": "markdown",
   "metadata": {},
   "source": [
    "Для моделей, которые не могут работать с исходными данными, проведем кодирование.\n",
    "\n",
    "Для кодирования используем OrdinalEncoder - т.к создаются порядковые номера, а не дополнительные признаки. В связи с этим кроме бустинга будем использовать решающее дерево и случайный лес. (Линейная не подходит из-за бинарной переменной о ремонте)"
   ]
  },
  {
   "cell_type": "code",
   "execution_count": 120,
   "metadata": {
    "scrolled": false
   },
   "outputs": [
    {
     "data": {
      "text/html": [
       "<div>\n",
       "<style scoped>\n",
       "    .dataframe tbody tr th:only-of-type {\n",
       "        vertical-align: middle;\n",
       "    }\n",
       "\n",
       "    .dataframe tbody tr th {\n",
       "        vertical-align: top;\n",
       "    }\n",
       "\n",
       "    .dataframe thead th {\n",
       "        text-align: right;\n",
       "    }\n",
       "</style>\n",
       "<table border=\"1\" class=\"dataframe\">\n",
       "  <thead>\n",
       "    <tr style=\"text-align: right;\">\n",
       "      <th></th>\n",
       "      <th>VehicleType</th>\n",
       "      <th>RegistrationYear</th>\n",
       "      <th>Gearbox</th>\n",
       "      <th>Model</th>\n",
       "      <th>FuelType</th>\n",
       "      <th>Brand</th>\n",
       "      <th>NotRepaired</th>\n",
       "      <th>Power</th>\n",
       "      <th>Kilometer</th>\n",
       "    </tr>\n",
       "  </thead>\n",
       "  <tbody>\n",
       "    <tr>\n",
       "      <td>0</td>\n",
       "      <td>0.966693</td>\n",
       "      <td>4.889238</td>\n",
       "      <td>2.507322</td>\n",
       "      <td>2.370799</td>\n",
       "      <td>1.108650</td>\n",
       "      <td>0.074722</td>\n",
       "      <td>2.318603</td>\n",
       "      <td>3.386481</td>\n",
       "      <td>3.435284</td>\n",
       "    </tr>\n",
       "    <tr>\n",
       "      <td>1</td>\n",
       "      <td>2.900080</td>\n",
       "      <td>3.785217</td>\n",
       "      <td>0.000000</td>\n",
       "      <td>1.670985</td>\n",
       "      <td>1.108650</td>\n",
       "      <td>1.046112</td>\n",
       "      <td>2.318603</td>\n",
       "      <td>2.905244</td>\n",
       "      <td>3.435284</td>\n",
       "    </tr>\n",
       "    <tr>\n",
       "      <td>2</td>\n",
       "      <td>2.416734</td>\n",
       "      <td>3.312064</td>\n",
       "      <td>2.507322</td>\n",
       "      <td>1.656703</td>\n",
       "      <td>3.325951</td>\n",
       "      <td>2.839448</td>\n",
       "      <td>0.000000</td>\n",
       "      <td>1.336769</td>\n",
       "      <td>4.122341</td>\n",
       "    </tr>\n",
       "    <tr>\n",
       "      <td>3</td>\n",
       "      <td>2.416734</td>\n",
       "      <td>4.416086</td>\n",
       "      <td>2.507322</td>\n",
       "      <td>1.442474</td>\n",
       "      <td>1.108650</td>\n",
       "      <td>2.316392</td>\n",
       "      <td>0.000000</td>\n",
       "      <td>1.229827</td>\n",
       "      <td>2.473404</td>\n",
       "    </tr>\n",
       "    <tr>\n",
       "      <td>4</td>\n",
       "      <td>1.933387</td>\n",
       "      <td>2.365760</td>\n",
       "      <td>2.507322</td>\n",
       "      <td>0.157101</td>\n",
       "      <td>3.325951</td>\n",
       "      <td>0.149445</td>\n",
       "      <td>2.318603</td>\n",
       "      <td>1.818005</td>\n",
       "      <td>4.122341</td>\n",
       "    </tr>\n",
       "    <tr>\n",
       "      <td>...</td>\n",
       "      <td>...</td>\n",
       "      <td>...</td>\n",
       "      <td>...</td>\n",
       "      <td>...</td>\n",
       "      <td>...</td>\n",
       "      <td>...</td>\n",
       "      <td>...</td>\n",
       "      <td>...</td>\n",
       "      <td>...</td>\n",
       "    </tr>\n",
       "    <tr>\n",
       "      <td>301656</td>\n",
       "      <td>1.450040</td>\n",
       "      <td>5.677825</td>\n",
       "      <td>0.000000</td>\n",
       "      <td>0.057128</td>\n",
       "      <td>2.771625</td>\n",
       "      <td>0.000000</td>\n",
       "      <td>0.000000</td>\n",
       "      <td>2.673537</td>\n",
       "      <td>4.122341</td>\n",
       "    </tr>\n",
       "    <tr>\n",
       "      <td>301657</td>\n",
       "      <td>1.933387</td>\n",
       "      <td>3.785217</td>\n",
       "      <td>2.507322</td>\n",
       "      <td>1.999469</td>\n",
       "      <td>3.325951</td>\n",
       "      <td>2.241669</td>\n",
       "      <td>2.318603</td>\n",
       "      <td>4.010306</td>\n",
       "      <td>4.122341</td>\n",
       "    </tr>\n",
       "    <tr>\n",
       "      <td>301658</td>\n",
       "      <td>0.483347</td>\n",
       "      <td>3.154347</td>\n",
       "      <td>0.000000</td>\n",
       "      <td>1.513884</td>\n",
       "      <td>3.325951</td>\n",
       "      <td>2.391114</td>\n",
       "      <td>0.000000</td>\n",
       "      <td>1.800182</td>\n",
       "      <td>3.435284</td>\n",
       "    </tr>\n",
       "    <tr>\n",
       "      <td>301659</td>\n",
       "      <td>0.000000</td>\n",
       "      <td>2.523478</td>\n",
       "      <td>2.507322</td>\n",
       "      <td>3.170586</td>\n",
       "      <td>1.108650</td>\n",
       "      <td>2.839448</td>\n",
       "      <td>0.000000</td>\n",
       "      <td>1.818005</td>\n",
       "      <td>4.122341</td>\n",
       "    </tr>\n",
       "    <tr>\n",
       "      <td>301660</td>\n",
       "      <td>3.383427</td>\n",
       "      <td>3.469782</td>\n",
       "      <td>2.507322</td>\n",
       "      <td>1.656703</td>\n",
       "      <td>1.108650</td>\n",
       "      <td>2.839448</td>\n",
       "      <td>2.318603</td>\n",
       "      <td>1.782358</td>\n",
       "      <td>4.122341</td>\n",
       "    </tr>\n",
       "  </tbody>\n",
       "</table>\n",
       "<p>301661 rows × 9 columns</p>\n",
       "</div>"
      ],
      "text/plain": [
       "        VehicleType  RegistrationYear   Gearbox     Model  FuelType     Brand  \\\n",
       "0          0.966693          4.889238  2.507322  2.370799  1.108650  0.074722   \n",
       "1          2.900080          3.785217  0.000000  1.670985  1.108650  1.046112   \n",
       "2          2.416734          3.312064  2.507322  1.656703  3.325951  2.839448   \n",
       "3          2.416734          4.416086  2.507322  1.442474  1.108650  2.316392   \n",
       "4          1.933387          2.365760  2.507322  0.157101  3.325951  0.149445   \n",
       "...             ...               ...       ...       ...       ...       ...   \n",
       "301656     1.450040          5.677825  0.000000  0.057128  2.771625  0.000000   \n",
       "301657     1.933387          3.785217  2.507322  1.999469  3.325951  2.241669   \n",
       "301658     0.483347          3.154347  0.000000  1.513884  3.325951  2.391114   \n",
       "301659     0.000000          2.523478  2.507322  3.170586  1.108650  2.839448   \n",
       "301660     3.383427          3.469782  2.507322  1.656703  1.108650  2.839448   \n",
       "\n",
       "        NotRepaired     Power  Kilometer  \n",
       "0          2.318603  3.386481   3.435284  \n",
       "1          2.318603  2.905244   3.435284  \n",
       "2          0.000000  1.336769   4.122341  \n",
       "3          0.000000  1.229827   2.473404  \n",
       "4          2.318603  1.818005   4.122341  \n",
       "...             ...       ...        ...  \n",
       "301656     0.000000  2.673537   4.122341  \n",
       "301657     2.318603  4.010306   4.122341  \n",
       "301658     0.000000  1.800182   3.435284  \n",
       "301659     0.000000  1.818005   4.122341  \n",
       "301660     2.318603  1.782358   4.122341  \n",
       "\n",
       "[301661 rows x 9 columns]"
      ]
     },
     "execution_count": 120,
     "metadata": {},
     "output_type": "execute_result"
    }
   ],
   "source": [
    "# порядковое кодирование категорийный признаков\n",
    "encoder = OrdinalEncoder()\n",
    "fit_features = features.drop(['Power', 'Kilometer'], axis=1)\n",
    "encoder.fit(fit_features)\n",
    "features_ordinal = pd.DataFrame(encoder.transform(fit_features), columns=fit_features.columns)\n",
    "\n",
    "# добавляем количественные признаки\n",
    "features_ordinal = features_ordinal.join(data_unzero_price[['Power', 'Kilometer']])\n",
    "\n",
    "# сделаем нормировку по стандартному отклонению\n",
    "for col in features_ordinal.columns:\n",
    "    features_ordinal[col] = features_ordinal[col] / features_ordinal[col].std()\n",
    "\n",
    "features_ordinal_train = pd.DataFrame(features_ordinal, index=features_train.index)\n",
    "features_ordinal_valid = pd.DataFrame(features_ordinal, index=features_valid.index)\n",
    "\n",
    "features_ordinal"
   ]
  },
  {
   "cell_type": "markdown",
   "metadata": {},
   "source": [
    "## Обучение и анализ результатов моделей"
   ]
  },
  {
   "cell_type": "markdown",
   "metadata": {},
   "source": [
    "### Дерево"
   ]
  },
  {
   "cell_type": "code",
   "execution_count": 121,
   "metadata": {},
   "outputs": [],
   "source": [
    "pivot_result = pd.DataFrame(index=['DecisionTreeRegressor',\n",
    "                                   'RandomForestRegressor', \n",
    "                                   'LGBMRegressor', \n",
    "                                   'CatBoostRegressor'],\n",
    "                            columns=['best_scores', 'time_spend'])"
   ]
  },
  {
   "cell_type": "code",
   "execution_count": 122,
   "metadata": {},
   "outputs": [
    {
     "name": "stdout",
     "output_type": "stream",
     "text": [
      "depth = 1 scores = 3723.449228510683 full time = 0.32883358001708984\n",
      "depth = 3 scores = 2939.001199175142 full time = 0.7464344501495361\n",
      "depth = 5 scores = 2429.008443358361 full time = 1.158226728439331\n",
      "depth = 7 scores = 2164.668228268482 full time = 1.4998445510864258\n",
      "depth = 9 scores = 2012.2996678047202 full time = 1.859138011932373\n",
      "depth = 11 scores = 1901.402724971044 full time = 2.1642556190490723\n",
      "depth = 13 scores = 1841.2421150997732 full time = 2.5029468536376953\n",
      "depth = 15 scores = 1832.6255827432137 full time = 2.740718126296997\n",
      "depth = 17 scores = 1856.1685496193443 full time = 3.092435598373413\n",
      "depth = 19 scores = 1881.0428891604283 full time = 3.29939341545105\n"
     ]
    }
   ],
   "source": [
    "MSE = make_scorer(mean_squared_error)\n",
    "best_scores = time_spend = 999999\n",
    "\n",
    "\n",
    "for depth in range(1,20,2):\n",
    "    sec_begin_train = time.time()\n",
    "    \n",
    "    model = DecisionTreeRegressor(random_state=12345, max_depth=depth)\n",
    "    scores = cross_val_score(model, features_ordinal, target, scoring=MSE, cv=5)\n",
    "    \n",
    "    sec_end_train = time.time()\n",
    "    print('depth =', depth, 'scores =',scores.mean() ** 0.5, 'full time =', sec_end_train - sec_begin_train)\n",
    "    \n",
    "    if best_scores > scores.mean() ** 0.5:\n",
    "        best_scores = scores.mean() ** 0.5\n",
    "        time_spend = sec_end_train - sec_begin_train\n",
    "        \n",
    "pivot_result.loc['DecisionTreeRegressor'] = {'best_scores':round(best_scores,2), 'time_spend':round(time_spend,2)}"
   ]
  },
  {
   "cell_type": "markdown",
   "metadata": {},
   "source": [
    "Модель обучается и предсказывает очень быстро, но метрика выше чем у моделей ниже."
   ]
  },
  {
   "cell_type": "markdown",
   "metadata": {},
   "source": [
    "### Случайные лес"
   ]
  },
  {
   "cell_type": "code",
   "execution_count": 123,
   "metadata": {},
   "outputs": [
    {
     "name": "stdout",
     "output_type": "stream",
     "text": [
      "esti = 5 scores = 1682.7717906393193 full time = 12.93770456314087\n",
      "esti = 6 scores = 1666.5218967101853 full time = 15.790127515792847\n",
      "esti = 7 scores = 1654.9733129289284 full time = 17.816105604171753\n",
      "esti = 8 scores = 1645.4463224715 full time = 20.639607667922974\n",
      "esti = 9 scores = 1637.8625786069506 full time = 23.40847873687744\n",
      "esti = 10 scores = 1632.0543519530731 full time = 25.61377787590027\n",
      "esti = 11 scores = 1628.9505669079485 full time = 28.203670024871826\n",
      "esti = 12 scores = 1624.8774397149457 full time = 30.50451970100403\n",
      "esti = 13 scores = 1622.3821562584078 full time = 33.39492106437683\n",
      "esti = 14 scores = 1620.2247244363962 full time = 35.19064402580261\n",
      "esti = 15 scores = 1617.2525167923768 full time = 37.85170793533325\n",
      "esti = 16 scores = 1615.7860186590888 full time = 40.601826429367065\n",
      "esti = 17 scores = 1614.8062118517455 full time = 42.97838354110718\n",
      "esti = 18 scores = 1613.6299957302765 full time = 45.56282091140747\n",
      "esti = 19 scores = 1612.3787431146263 full time = 48.02650427818298\n"
     ]
    }
   ],
   "source": [
    "for esti in range(5, 20, 1):\n",
    "    sec_begin_train = time.time()\n",
    "    \n",
    "    model = RandomForestRegressor(n_estimators=esti, random_state=12345, n_jobs=-1)\n",
    "    scores = cross_val_score(model, features_ordinal, target, scoring=MSE, cv=5)\n",
    "    \n",
    "    sec_end_train = time.time()\n",
    "    \n",
    "    print('esti =', esti,\n",
    "          'scores =', scores.mean() ** 0.5,\n",
    "          'full time =', sec_end_train - sec_begin_train)\n",
    "    \n",
    "    if best_scores > scores.mean() ** 0.5:\n",
    "        best_scores = scores.mean() ** 0.5\n",
    "        time_spend = sec_end_train - sec_begin_train\n",
    "    \n",
    "pivot_result.loc['RandomForestRegressor'] = {'best_scores':round(best_scores,2), 'time_spend':round(time_spend,2)}"
   ]
  },
  {
   "cell_type": "markdown",
   "metadata": {},
   "source": [
    "Хорошие показатели по времени обучения и предсказания, метрика лучше чем у решающего дерева.\n",
    "\n",
    "Увеличение количества деревьев и ветвей ведет к не значительному уменьшению значения метрики RMSE (в пределах 100 евро), но длительность обучения при этом сильно увеличивается."
   ]
  },
  {
   "cell_type": "markdown",
   "metadata": {},
   "source": [
    "### Light Gradient Boosted Machine"
   ]
  },
  {
   "cell_type": "code",
   "execution_count": 126,
   "metadata": {},
   "outputs": [],
   "source": [
    "features_LGBM = features\n",
    "\n",
    "for col in ['VehicleType', 'Gearbox',\n",
    "       'Model', 'FuelType', 'Brand',\n",
    "       'NotRepaired']:\n",
    "    features_LGBM[col] = features_LGBM[col].astype('category')\n",
    "\n",
    "    \n",
    "features_LGBM_train, features_LGBM_valid, target_LGBM_train, target_LGBM_valid = \\\n",
    "train_test_split(features_LGBM, target, test_size=0.25, random_state=12345)"
   ]
  },
  {
   "cell_type": "code",
   "execution_count": 127,
   "metadata": {},
   "outputs": [],
   "source": [
    "model = LGBMRegressor(random_state=12345, n_estimators=100, learning_rate=0.5)"
   ]
  },
  {
   "cell_type": "code",
   "execution_count": 128,
   "metadata": {},
   "outputs": [
    {
     "name": "stdout",
     "output_type": "stream",
     "text": [
      "time_fit = 4.466915845870972\n"
     ]
    }
   ],
   "source": [
    "sec_begin_train = time.time()\n",
    "model.fit(features_LGBM_train, target_LGBM_train)\n",
    "sec_end_train = time.time()\n",
    "\n",
    "print('time_fit =', sec_end_train - sec_begin_train)"
   ]
  },
  {
   "cell_type": "code",
   "execution_count": 129,
   "metadata": {},
   "outputs": [
    {
     "name": "stdout",
     "output_type": "stream",
     "text": [
      "RMSE = 1598.3067560380384 time_predict = 0.49738192558288574\n"
     ]
    }
   ],
   "source": [
    "sec_begin_predict= time.time()\n",
    "pred_valid = model.predict(features_LGBM_valid)\n",
    "sec_end_predict = time.time()\n",
    "\n",
    "print('RMSE =', mean_squared_error(target_LGBM_valid, pred_valid) ** 0.5, 'time_predict =', sec_end_predict - sec_begin_predict)"
   ]
  },
  {
   "cell_type": "code",
   "execution_count": 130,
   "metadata": {},
   "outputs": [],
   "source": [
    "pivot_result.loc['LGBMRegressor'] = {'best_scores':round(mean_squared_error(target_LGBM_valid, pred_valid) ** 0.5,2),\n",
    "                                     'time_spend':round((sec_end_predict - sec_begin_predict) + (sec_end_train - sec_begin_train),2)}"
   ]
  },
  {
   "cell_type": "markdown",
   "metadata": {},
   "source": [
    "Данная модель показывает хорошие результаты, как по значению метрики RMSE, так и по времени обучения и предсказания."
   ]
  },
  {
   "cell_type": "markdown",
   "metadata": {},
   "source": [
    "### CatBoost"
   ]
  },
  {
   "cell_type": "code",
   "execution_count": 131,
   "metadata": {},
   "outputs": [],
   "source": [
    "model = CatBoostRegressor(loss_function='RMSE', random_state=12345, iterations=50, learning_rate=0.8)"
   ]
  },
  {
   "cell_type": "code",
   "execution_count": 132,
   "metadata": {},
   "outputs": [],
   "source": [
    "cat_features = ['VehicleType', 'Gearbox',\n",
    "       'Model', 'FuelType', 'Brand',\n",
    "       'NotRepaired']"
   ]
  },
  {
   "cell_type": "code",
   "execution_count": 133,
   "metadata": {
    "scrolled": false
   },
   "outputs": [
    {
     "name": "stdout",
     "output_type": "stream",
     "text": [
      "0:\tlearn: 2696.1303726\ttotal: 183ms\tremaining: 8.97s\n",
      "49:\tlearn: 1678.1879232\ttotal: 9.16s\tremaining: 0us\n",
      "time_fit = 10.591465711593628\n"
     ]
    }
   ],
   "source": [
    "sec_begin_train = time.time()\n",
    "model.fit(features_train, target_train, cat_features = cat_features, verbose=50)\n",
    "sec_end_train = time.time()\n",
    "\n",
    "print('time_fit =', sec_end_train - sec_begin_train)"
   ]
  },
  {
   "cell_type": "code",
   "execution_count": 134,
   "metadata": {},
   "outputs": [
    {
     "name": "stdout",
     "output_type": "stream",
     "text": [
      "RMSE = 1707.771840245835 time_predict = 0.10936665534973145\n"
     ]
    }
   ],
   "source": [
    "sec_begin_predict= time.time()\n",
    "pred_valid = model.predict(features_valid)\n",
    "sec_end_predict = time.time()\n",
    "\n",
    "print('RMSE =', mean_squared_error(target_valid, pred_valid) ** 0.5, 'time_predict =', sec_end_predict - sec_begin_predict)"
   ]
  },
  {
   "cell_type": "code",
   "execution_count": 135,
   "metadata": {},
   "outputs": [],
   "source": [
    "pivot_result.loc['CatBoostRegressor'] = {'best_scores':round(mean_squared_error(target_valid, pred_valid) ** 0.5,2),\n",
    "                                         'time_spend':round((sec_end_predict - sec_begin_predict) + (sec_end_train - sec_begin_train),2)}"
   ]
  },
  {
   "cell_type": "markdown",
   "metadata": {},
   "source": [
    "У данной модели показатели хуже как по необходимой метрике, так и по затраченному времени. \n",
    "\n",
    "При изменении гиперпараметров в сторону уменьшения скорости обучения или увеличения количества итераций, время сильно возрастает. \n",
    "\n",
    "От количества итераций метрика умеьшаеся в значении. При умеьшении скорости значение метрики наоборот растет."
   ]
  },
  {
   "cell_type": "markdown",
   "metadata": {},
   "source": [
    "## Общий вывод и рекомендации по моделям"
   ]
  },
  {
   "cell_type": "code",
   "execution_count": 136,
   "metadata": {},
   "outputs": [
    {
     "data": {
      "text/html": [
       "<div>\n",
       "<style scoped>\n",
       "    .dataframe tbody tr th:only-of-type {\n",
       "        vertical-align: middle;\n",
       "    }\n",
       "\n",
       "    .dataframe tbody tr th {\n",
       "        vertical-align: top;\n",
       "    }\n",
       "\n",
       "    .dataframe thead th {\n",
       "        text-align: right;\n",
       "    }\n",
       "</style>\n",
       "<table border=\"1\" class=\"dataframe\">\n",
       "  <thead>\n",
       "    <tr style=\"text-align: right;\">\n",
       "      <th></th>\n",
       "      <th>best_scores</th>\n",
       "      <th>time_spend</th>\n",
       "    </tr>\n",
       "  </thead>\n",
       "  <tbody>\n",
       "    <tr>\n",
       "      <td>DecisionTreeRegressor</td>\n",
       "      <td>1832.63</td>\n",
       "      <td>2.74</td>\n",
       "    </tr>\n",
       "    <tr>\n",
       "      <td>RandomForestRegressor</td>\n",
       "      <td>1612.38</td>\n",
       "      <td>48.03</td>\n",
       "    </tr>\n",
       "    <tr>\n",
       "      <td>LGBMRegressor</td>\n",
       "      <td>1598.31</td>\n",
       "      <td>4.96</td>\n",
       "    </tr>\n",
       "    <tr>\n",
       "      <td>CatBoostRegressor</td>\n",
       "      <td>1707.77</td>\n",
       "      <td>10.7</td>\n",
       "    </tr>\n",
       "  </tbody>\n",
       "</table>\n",
       "</div>"
      ],
      "text/plain": [
       "                      best_scores time_spend\n",
       "DecisionTreeRegressor     1832.63       2.74\n",
       "RandomForestRegressor     1612.38      48.03\n",
       "LGBMRegressor             1598.31       4.96\n",
       "CatBoostRegressor         1707.77       10.7"
      ]
     },
     "execution_count": 136,
     "metadata": {},
     "output_type": "execute_result"
    }
   ],
   "source": [
    "pivot_result"
   ]
  },
  {
   "cell_type": "markdown",
   "metadata": {},
   "source": [
    "Для заказчика:\n",
    " - модель будет лучше работать если внести в анкетирование дополнительные параметры (тип сделки: продажа, обмен, другие варианты)\n",
    " - на текущих данных по качеству, скорости предсказания и времени обучения, рекомендовано использовать LGBM.\n",
    " \n",
    " Случайный лес так же показал хорошие результаты, но при изменении гиперпараметров время обучения сильно пострадает, поэтому при масштабируемости исходной задачи рекомендовано остановиться на LGBM."
   ]
  }
 ],
 "metadata": {
  "ExecuteTimeLog": [
   {
    "duration": 16691,
    "start_time": "2021-11-09T09:29:31.291Z"
   },
   {
    "duration": 1544,
    "start_time": "2021-11-09T09:29:47.985Z"
   },
   {
    "duration": 1361,
    "start_time": "2021-11-09T09:29:49.532Z"
   },
   {
    "duration": 167,
    "start_time": "2021-11-09T09:29:50.895Z"
   },
   {
    "duration": 39,
    "start_time": "2021-11-09T09:29:51.064Z"
   },
   {
    "duration": 4,
    "start_time": "2021-11-09T09:29:51.105Z"
   },
   {
    "duration": 9,
    "start_time": "2021-11-09T09:29:51.111Z"
   },
   {
    "duration": 1977,
    "start_time": "2021-11-09T09:29:51.123Z"
   },
   {
    "duration": 21,
    "start_time": "2021-11-09T09:29:53.103Z"
   },
   {
    "duration": 119,
    "start_time": "2021-11-09T09:29:53.126Z"
   },
   {
    "duration": 18,
    "start_time": "2021-11-09T09:29:53.247Z"
   },
   {
    "duration": 8,
    "start_time": "2021-11-09T09:29:53.268Z"
   },
   {
    "duration": 117,
    "start_time": "2021-11-09T09:29:53.278Z"
   },
   {
    "duration": 1674,
    "start_time": "2021-11-09T09:29:53.398Z"
   },
   {
    "duration": 111,
    "start_time": "2021-11-09T09:29:55.075Z"
   },
   {
    "duration": 5,
    "start_time": "2021-11-09T09:29:55.188Z"
   },
   {
    "duration": 267,
    "start_time": "2021-11-09T09:29:55.195Z"
   },
   {
    "duration": 504,
    "start_time": "2021-11-09T09:29:55.465Z"
   },
   {
    "duration": 1974,
    "start_time": "2021-11-09T09:29:55.971Z"
   },
   {
    "duration": 84,
    "start_time": "2021-11-09T09:29:57.948Z"
   },
   {
    "duration": 53575,
    "start_time": "2021-11-09T09:29:58.035Z"
   },
   {
    "duration": 18,
    "start_time": "2021-11-09T09:30:51.612Z"
   },
   {
    "duration": 277,
    "start_time": "2021-11-09T09:30:51.635Z"
   },
   {
    "duration": 4,
    "start_time": "2021-11-09T09:30:51.915Z"
   },
   {
    "duration": 154,
    "start_time": "2021-11-09T09:30:51.922Z"
   },
   {
    "duration": 49,
    "start_time": "2021-11-09T09:30:52.079Z"
   },
   {
    "duration": 148,
    "start_time": "2021-11-09T09:30:52.131Z"
   },
   {
    "duration": 724,
    "start_time": "2021-11-09T09:30:52.281Z"
   },
   {
    "duration": 73,
    "start_time": "2021-11-09T09:30:53.008Z"
   },
   {
    "duration": 5097,
    "start_time": "2021-11-09T09:30:53.162Z"
   },
   {
    "duration": 6967,
    "start_time": "2021-11-09T09:30:58.262Z"
   },
   {
    "duration": 7,
    "start_time": "2021-11-09T09:31:05.231Z"
   },
   {
    "duration": 589,
    "start_time": "2021-11-09T09:31:05.240Z"
   },
   {
    "duration": -334,
    "start_time": "2021-11-09T09:31:06.166Z"
   },
   {
    "duration": -338,
    "start_time": "2021-11-09T09:31:06.171Z"
   },
   {
    "duration": -341,
    "start_time": "2021-11-09T09:31:06.176Z"
   },
   {
    "duration": -344,
    "start_time": "2021-11-09T09:31:06.180Z"
   },
   {
    "duration": -366,
    "start_time": "2021-11-09T09:31:06.203Z"
   },
   {
    "duration": 7406,
    "start_time": "2021-11-09T09:32:34.857Z"
   },
   {
    "duration": 803,
    "start_time": "2021-11-09T09:38:05.157Z"
   },
   {
    "duration": 4,
    "start_time": "2021-11-09T09:38:48.701Z"
   },
   {
    "duration": 4,
    "start_time": "2021-11-09T09:38:49.154Z"
   },
   {
    "duration": 35294,
    "start_time": "2021-11-09T09:38:49.628Z"
   },
   {
    "duration": 169,
    "start_time": "2021-11-09T09:39:24.925Z"
   },
   {
    "duration": 14289,
    "start_time": "2021-11-09T09:39:47.606Z"
   },
   {
    "duration": 11,
    "start_time": "2021-11-09T09:40:01.899Z"
   },
   {
    "duration": 1430,
    "start_time": "2021-11-09T09:40:01.913Z"
   },
   {
    "duration": 163,
    "start_time": "2021-11-09T09:40:03.346Z"
   },
   {
    "duration": 50,
    "start_time": "2021-11-09T09:40:03.512Z"
   },
   {
    "duration": 4,
    "start_time": "2021-11-09T09:40:03.564Z"
   },
   {
    "duration": 9,
    "start_time": "2021-11-09T09:40:03.570Z"
   },
   {
    "duration": 1958,
    "start_time": "2021-11-09T09:40:03.581Z"
   },
   {
    "duration": 28,
    "start_time": "2021-11-09T09:40:05.543Z"
   },
   {
    "duration": 95,
    "start_time": "2021-11-09T09:40:05.574Z"
   },
   {
    "duration": 9,
    "start_time": "2021-11-09T09:40:05.672Z"
   },
   {
    "duration": 7,
    "start_time": "2021-11-09T09:40:05.683Z"
   },
   {
    "duration": 119,
    "start_time": "2021-11-09T09:40:05.692Z"
   },
   {
    "duration": 1831,
    "start_time": "2021-11-09T09:40:05.813Z"
   },
   {
    "duration": 87,
    "start_time": "2021-11-09T09:40:07.647Z"
   },
   {
    "duration": 24,
    "start_time": "2021-11-09T09:40:07.737Z"
   },
   {
    "duration": 288,
    "start_time": "2021-11-09T09:40:07.764Z"
   },
   {
    "duration": 532,
    "start_time": "2021-11-09T09:40:08.055Z"
   },
   {
    "duration": 1791,
    "start_time": "2021-11-09T09:40:08.590Z"
   },
   {
    "duration": 93,
    "start_time": "2021-11-09T09:40:10.384Z"
   },
   {
    "duration": 55207,
    "start_time": "2021-11-09T09:40:10.479Z"
   },
   {
    "duration": 19,
    "start_time": "2021-11-09T09:41:05.689Z"
   },
   {
    "duration": 380,
    "start_time": "2021-11-09T09:41:05.711Z"
   },
   {
    "duration": 5,
    "start_time": "2021-11-09T09:41:06.094Z"
   },
   {
    "duration": 173,
    "start_time": "2021-11-09T09:41:06.103Z"
   },
   {
    "duration": 54,
    "start_time": "2021-11-09T09:41:06.279Z"
   },
   {
    "duration": 154,
    "start_time": "2021-11-09T09:41:06.338Z"
   },
   {
    "duration": 737,
    "start_time": "2021-11-09T09:41:06.495Z"
   },
   {
    "duration": 232,
    "start_time": "2021-11-09T09:41:07.234Z"
   },
   {
    "duration": 5036,
    "start_time": "2021-11-09T09:41:07.470Z"
   },
   {
    "duration": 6757,
    "start_time": "2021-11-09T09:41:12.508Z"
   },
   {
    "duration": 4,
    "start_time": "2021-11-09T09:41:19.267Z"
   },
   {
    "duration": 8888,
    "start_time": "2021-11-09T09:41:19.273Z"
   },
   {
    "duration": 804,
    "start_time": "2021-11-09T09:41:28.164Z"
   },
   {
    "duration": 3,
    "start_time": "2021-11-09T09:41:28.971Z"
   },
   {
    "duration": 26,
    "start_time": "2021-11-09T09:41:28.976Z"
   },
   {
    "duration": 33395,
    "start_time": "2021-11-09T09:41:29.058Z"
   },
   {
    "duration": 216,
    "start_time": "2021-11-09T09:42:02.456Z"
   },
   {
    "duration": 409,
    "start_time": "2021-11-09T09:42:31.661Z"
   },
   {
    "duration": 4,
    "start_time": "2021-11-09T09:43:11.029Z"
   },
   {
    "duration": 409,
    "start_time": "2021-11-09T09:43:11.503Z"
   },
   {
    "duration": 4,
    "start_time": "2021-11-09T09:43:33.838Z"
   },
   {
    "duration": 8271,
    "start_time": "2021-11-09T09:43:35.501Z"
   },
   {
    "duration": 891,
    "start_time": "2021-11-09T09:43:43.776Z"
   },
   {
    "duration": 4,
    "start_time": "2021-11-09T09:44:06.882Z"
   },
   {
    "duration": 9620,
    "start_time": "2021-11-09T09:44:11.148Z"
   },
   {
    "duration": 897,
    "start_time": "2021-11-09T09:44:20.771Z"
   },
   {
    "duration": 4,
    "start_time": "2021-11-09T09:44:30.922Z"
   },
   {
    "duration": 13131,
    "start_time": "2021-11-09T09:44:32.630Z"
   },
   {
    "duration": 824,
    "start_time": "2021-11-09T09:44:45.764Z"
   },
   {
    "duration": 4,
    "start_time": "2021-11-09T09:45:05.337Z"
   },
   {
    "duration": 13324,
    "start_time": "2021-11-09T09:45:05.939Z"
   },
   {
    "duration": 1695,
    "start_time": "2021-11-09T09:45:19.266Z"
   },
   {
    "duration": 3,
    "start_time": "2021-11-09T09:45:36.590Z"
   },
   {
    "duration": 17614,
    "start_time": "2021-11-09T09:45:37.053Z"
   },
   {
    "duration": 2500,
    "start_time": "2021-11-09T09:45:54.670Z"
   },
   {
    "duration": 3,
    "start_time": "2021-11-09T09:46:07.463Z"
   },
   {
    "duration": 31837,
    "start_time": "2021-11-09T09:46:07.731Z"
   },
   {
    "duration": 3991,
    "start_time": "2021-11-09T09:46:39.570Z"
   },
   {
    "duration": 4,
    "start_time": "2021-11-09T09:59:13.274Z"
   },
   {
    "duration": 4,
    "start_time": "2021-11-09T09:59:14.198Z"
   },
   {
    "duration": 183242,
    "start_time": "2021-11-09T09:59:15.083Z"
   },
   {
    "duration": 351,
    "start_time": "2021-11-09T10:02:18.328Z"
   },
   {
    "duration": 3,
    "start_time": "2021-11-09T10:14:58.820Z"
   },
   {
    "duration": 28003,
    "start_time": "2021-11-09T10:14:59.270Z"
   },
   {
    "duration": 3700,
    "start_time": "2021-11-09T10:15:27.275Z"
   },
   {
    "duration": 3,
    "start_time": "2021-11-09T10:15:30.978Z"
   },
   {
    "duration": 12,
    "start_time": "2021-11-09T10:15:30.984Z"
   },
   {
    "duration": 4,
    "start_time": "2021-11-09T10:15:40.457Z"
   },
   {
    "duration": 3,
    "start_time": "2021-11-09T10:15:40.952Z"
   },
   {
    "duration": 178390,
    "start_time": "2021-11-09T10:15:41.470Z"
   },
   {
    "duration": 613,
    "start_time": "2021-11-09T10:18:39.862Z"
   },
   {
    "duration": 4,
    "start_time": "2021-11-09T10:18:40.479Z"
   },
   {
    "duration": 26892,
    "start_time": "2021-11-09T10:18:40.486Z"
   },
   {
    "duration": 3192,
    "start_time": "2021-11-09T10:19:07.380Z"
   },
   {
    "duration": 4,
    "start_time": "2021-11-09T10:19:23.789Z"
   },
   {
    "duration": 15771,
    "start_time": "2021-11-09T10:19:24.197Z"
   },
   {
    "duration": 1901,
    "start_time": "2021-11-09T10:19:39.971Z"
   },
   {
    "duration": 5,
    "start_time": "2021-11-09T10:19:52.279Z"
   },
   {
    "duration": 6192,
    "start_time": "2021-11-09T10:19:53.678Z"
   },
   {
    "duration": 592,
    "start_time": "2021-11-09T10:19:59.873Z"
   },
   {
    "duration": 4,
    "start_time": "2021-11-09T10:20:10.743Z"
   },
   {
    "duration": 7975,
    "start_time": "2021-11-09T10:20:11.493Z"
   },
   {
    "duration": 889,
    "start_time": "2021-11-09T10:20:19.470Z"
   },
   {
    "duration": 4,
    "start_time": "2021-11-09T10:20:27.510Z"
   },
   {
    "duration": 11828,
    "start_time": "2021-11-09T10:20:28.643Z"
   },
   {
    "duration": 1288,
    "start_time": "2021-11-09T10:20:40.473Z"
   },
   {
    "duration": 3,
    "start_time": "2021-11-09T10:20:44.164Z"
   },
   {
    "duration": 10260,
    "start_time": "2021-11-09T10:20:44.608Z"
   },
   {
    "duration": 1203,
    "start_time": "2021-11-09T10:20:54.871Z"
   },
   {
    "duration": 4,
    "start_time": "2021-11-09T10:21:00.297Z"
   },
   {
    "duration": 13463,
    "start_time": "2021-11-09T10:21:01.406Z"
   },
   {
    "duration": 1288,
    "start_time": "2021-11-09T10:21:14.872Z"
   },
   {
    "duration": 4,
    "start_time": "2021-11-09T10:21:21.912Z"
   },
   {
    "duration": 11432,
    "start_time": "2021-11-09T10:21:22.643Z"
   },
   {
    "duration": 1284,
    "start_time": "2021-11-09T10:21:34.077Z"
   },
   {
    "duration": 3,
    "start_time": "2021-11-09T10:21:41.251Z"
   },
   {
    "duration": 11058,
    "start_time": "2021-11-09T10:21:42.006Z"
   },
   {
    "duration": 1196,
    "start_time": "2021-11-09T10:21:53.066Z"
   },
   {
    "duration": 5,
    "start_time": "2021-11-09T10:22:02.612Z"
   },
   {
    "duration": 10072,
    "start_time": "2021-11-09T10:22:03.804Z"
   },
   {
    "duration": 1301,
    "start_time": "2021-11-09T10:22:13.879Z"
   },
   {
    "duration": 6,
    "start_time": "2021-11-09T10:34:35.864Z"
   },
   {
    "duration": 5358,
    "start_time": "2021-11-09T10:40:37.006Z"
   },
   {
    "duration": 135,
    "start_time": "2021-11-09T10:42:22.707Z"
   },
   {
    "duration": 7053,
    "start_time": "2021-11-09T10:42:32.766Z"
   },
   {
    "duration": 161,
    "start_time": "2021-11-09T10:45:18.776Z"
   },
   {
    "duration": 4,
    "start_time": "2021-11-09T10:45:48.242Z"
   },
   {
    "duration": 4,
    "start_time": "2021-11-09T10:46:07.725Z"
   },
   {
    "duration": 10369,
    "start_time": "2021-11-09T10:46:08.192Z"
   },
   {
    "duration": 11222,
    "start_time": "2021-11-09T10:50:49.244Z"
   },
   {
    "duration": 4,
    "start_time": "2021-11-09T10:51:04.318Z"
   },
   {
    "duration": 10548,
    "start_time": "2021-11-09T10:51:05.623Z"
   },
   {
    "duration": 1174,
    "start_time": "2021-11-09T10:52:55.588Z"
   },
   {
    "duration": 4,
    "start_time": "2021-11-09T10:54:35.024Z"
   },
   {
    "duration": 3,
    "start_time": "2021-11-09T10:54:35.237Z"
   },
   {
    "duration": 79223,
    "start_time": "2021-11-09T10:54:35.875Z"
   },
   {
    "duration": -290,
    "start_time": "2021-11-09T10:55:55.391Z"
   },
   {
    "duration": 4,
    "start_time": "2021-11-09T10:56:08.165Z"
   },
   {
    "duration": 4,
    "start_time": "2021-11-09T10:56:08.615Z"
   },
   {
    "duration": 25304,
    "start_time": "2021-11-09T10:56:09.171Z"
   },
   {
    "duration": -784,
    "start_time": "2021-11-09T10:56:35.262Z"
   },
   {
    "duration": 4,
    "start_time": "2021-11-09T10:56:46.117Z"
   },
   {
    "duration": 4,
    "start_time": "2021-11-09T10:56:47.555Z"
   },
   {
    "duration": 11578,
    "start_time": "2021-11-09T10:56:48.590Z"
   },
   {
    "duration": 213,
    "start_time": "2021-11-09T10:57:00.171Z"
   },
   {
    "duration": 4,
    "start_time": "2021-11-09T10:57:37.206Z"
   },
   {
    "duration": 5908,
    "start_time": "2021-11-09T10:57:37.660Z"
   },
   {
    "duration": 601,
    "start_time": "2021-11-09T10:57:43.571Z"
   },
   {
    "duration": 4,
    "start_time": "2021-11-09T10:58:08.232Z"
   },
   {
    "duration": 7892,
    "start_time": "2021-11-09T10:58:08.668Z"
   },
   {
    "duration": 510,
    "start_time": "2021-11-09T10:58:16.563Z"
   },
   {
    "duration": 4,
    "start_time": "2021-11-09T10:58:29.817Z"
   },
   {
    "duration": 8101,
    "start_time": "2021-11-09T10:58:30.961Z"
   },
   {
    "duration": 511,
    "start_time": "2021-11-09T10:58:39.065Z"
   },
   {
    "duration": 3,
    "start_time": "2021-11-09T11:02:28.565Z"
   },
   {
    "duration": 9,
    "start_time": "2021-11-09T11:02:28.571Z"
   },
   {
    "duration": 1320,
    "start_time": "2021-11-09T11:02:28.582Z"
   },
   {
    "duration": 187,
    "start_time": "2021-11-09T11:02:29.905Z"
   },
   {
    "duration": 55,
    "start_time": "2021-11-09T11:02:30.094Z"
   },
   {
    "duration": 3,
    "start_time": "2021-11-09T11:02:30.152Z"
   },
   {
    "duration": 28,
    "start_time": "2021-11-09T11:02:30.158Z"
   },
   {
    "duration": 1858,
    "start_time": "2021-11-09T11:02:30.189Z"
   },
   {
    "duration": 24,
    "start_time": "2021-11-09T11:02:32.049Z"
   },
   {
    "duration": 101,
    "start_time": "2021-11-09T11:02:32.075Z"
   },
   {
    "duration": 10,
    "start_time": "2021-11-09T11:02:32.178Z"
   },
   {
    "duration": 7,
    "start_time": "2021-11-09T11:02:32.190Z"
   },
   {
    "duration": 112,
    "start_time": "2021-11-09T11:02:32.200Z"
   },
   {
    "duration": 1718,
    "start_time": "2021-11-09T11:02:32.315Z"
   },
   {
    "duration": 82,
    "start_time": "2021-11-09T11:02:34.036Z"
   },
   {
    "duration": 5,
    "start_time": "2021-11-09T11:02:34.120Z"
   },
   {
    "duration": 410,
    "start_time": "2021-11-09T11:02:34.127Z"
   },
   {
    "duration": 623,
    "start_time": "2021-11-09T11:02:34.542Z"
   },
   {
    "duration": 2028,
    "start_time": "2021-11-09T11:02:35.169Z"
   },
   {
    "duration": 99,
    "start_time": "2021-11-09T11:02:37.200Z"
   },
   {
    "duration": 53253,
    "start_time": "2021-11-09T11:02:37.301Z"
   },
   {
    "duration": 18,
    "start_time": "2021-11-09T11:03:30.559Z"
   },
   {
    "duration": 283,
    "start_time": "2021-11-09T11:03:30.580Z"
   },
   {
    "duration": 6,
    "start_time": "2021-11-09T11:03:30.865Z"
   },
   {
    "duration": 153,
    "start_time": "2021-11-09T11:03:30.874Z"
   },
   {
    "duration": 51,
    "start_time": "2021-11-09T11:03:31.029Z"
   },
   {
    "duration": 153,
    "start_time": "2021-11-09T11:03:31.082Z"
   },
   {
    "duration": 711,
    "start_time": "2021-11-09T11:03:31.237Z"
   },
   {
    "duration": 4975,
    "start_time": "2021-11-09T11:03:31.950Z"
   },
   {
    "duration": 47465,
    "start_time": "2021-11-09T11:03:36.928Z"
   },
   {
    "duration": -345,
    "start_time": "2021-11-09T11:04:24.741Z"
   },
   {
    "duration": -350,
    "start_time": "2021-11-09T11:04:24.747Z"
   },
   {
    "duration": -352,
    "start_time": "2021-11-09T11:04:24.751Z"
   },
   {
    "duration": -356,
    "start_time": "2021-11-09T11:04:24.756Z"
   },
   {
    "duration": -360,
    "start_time": "2021-11-09T11:04:24.761Z"
   },
   {
    "duration": -364,
    "start_time": "2021-11-09T11:04:24.766Z"
   },
   {
    "duration": -366,
    "start_time": "2021-11-09T11:04:24.770Z"
   },
   {
    "duration": 145195,
    "start_time": "2021-11-09T11:05:34.532Z"
   },
   {
    "duration": 99283,
    "start_time": "2021-11-09T11:08:02.504Z"
   },
   {
    "duration": 6989,
    "start_time": "2021-11-09T11:10:03.897Z"
   },
   {
    "duration": 71295,
    "start_time": "2021-11-09T11:10:52.867Z"
   },
   {
    "duration": 7184,
    "start_time": "2021-11-09T11:13:10.938Z"
   },
   {
    "duration": 14,
    "start_time": "2021-11-09T11:13:41.315Z"
   },
   {
    "duration": 1590,
    "start_time": "2021-11-09T11:13:42.680Z"
   },
   {
    "duration": 194,
    "start_time": "2021-11-09T11:13:44.272Z"
   },
   {
    "duration": 13670,
    "start_time": "2021-11-09T11:14:15.143Z"
   },
   {
    "duration": 18,
    "start_time": "2021-11-09T11:14:38.504Z"
   },
   {
    "duration": 7246,
    "start_time": "2021-11-09T11:14:39.713Z"
   },
   {
    "duration": 516,
    "start_time": "2021-11-09T11:14:46.962Z"
   },
   {
    "duration": 4,
    "start_time": "2021-11-09T11:15:35.686Z"
   },
   {
    "duration": 4,
    "start_time": "2021-11-09T11:15:36.120Z"
   },
   {
    "duration": 11439,
    "start_time": "2021-11-09T11:15:36.552Z"
   },
   {
    "duration": 178,
    "start_time": "2021-11-09T11:15:47.993Z"
   },
   {
    "duration": 3,
    "start_time": "2021-11-09T11:15:57.291Z"
   },
   {
    "duration": 4,
    "start_time": "2021-11-09T11:15:58.736Z"
   },
   {
    "duration": 12008,
    "start_time": "2021-11-09T11:15:59.681Z"
   },
   {
    "duration": 180,
    "start_time": "2021-11-09T11:16:11.691Z"
   },
   {
    "duration": 4,
    "start_time": "2021-11-09T11:16:20.498Z"
   },
   {
    "duration": 4,
    "start_time": "2021-11-09T11:16:20.920Z"
   },
   {
    "duration": 5579,
    "start_time": "2021-11-09T11:16:21.280Z"
   },
   {
    "duration": 206,
    "start_time": "2021-11-09T11:16:26.862Z"
   },
   {
    "duration": 4,
    "start_time": "2021-11-09T11:16:33.664Z"
   },
   {
    "duration": 4,
    "start_time": "2021-11-09T11:16:33.819Z"
   },
   {
    "duration": 6244,
    "start_time": "2021-11-09T11:16:34.015Z"
   },
   {
    "duration": 208,
    "start_time": "2021-11-09T11:16:40.261Z"
   },
   {
    "duration": 4,
    "start_time": "2021-11-09T11:16:54.252Z"
   },
   {
    "duration": 4,
    "start_time": "2021-11-09T11:16:54.555Z"
   },
   {
    "duration": 17408,
    "start_time": "2021-11-09T11:16:54.784Z"
   },
   {
    "duration": 184,
    "start_time": "2021-11-09T11:17:12.195Z"
   },
   {
    "duration": 10446,
    "start_time": "2021-11-09T11:17:43.758Z"
   },
   {
    "duration": 15,
    "start_time": "2021-11-09T11:17:54.207Z"
   },
   {
    "duration": 9436,
    "start_time": "2021-11-09T11:17:54.225Z"
   },
   {
    "duration": 507,
    "start_time": "2021-11-09T11:18:03.664Z"
   },
   {
    "duration": 6847,
    "start_time": "2021-11-09T11:19:02.796Z"
   },
   {
    "duration": 12,
    "start_time": "2021-11-09T11:19:17.361Z"
   },
   {
    "duration": 6465,
    "start_time": "2021-11-09T11:19:17.901Z"
   },
   {
    "duration": 597,
    "start_time": "2021-11-09T11:19:24.368Z"
   },
   {
    "duration": 3,
    "start_time": "2021-11-09T11:19:39.377Z"
   },
   {
    "duration": 7037,
    "start_time": "2021-11-09T11:19:39.730Z"
   },
   {
    "duration": 597,
    "start_time": "2021-11-09T11:19:46.770Z"
   },
   {
    "duration": 170,
    "start_time": "2021-11-09T11:48:01.484Z"
   },
   {
    "duration": 272,
    "start_time": "2021-11-09T18:55:39.126Z"
   },
   {
    "duration": 2,
    "start_time": "2021-11-09T18:55:47.414Z"
   },
   {
    "duration": 1281,
    "start_time": "2021-11-09T18:55:47.419Z"
   },
   {
    "duration": 972,
    "start_time": "2021-11-09T18:55:48.702Z"
   },
   {
    "duration": 116,
    "start_time": "2021-11-09T18:55:49.676Z"
   },
   {
    "duration": 25,
    "start_time": "2021-11-09T18:55:49.794Z"
   },
   {
    "duration": 2,
    "start_time": "2021-11-09T18:55:49.821Z"
   },
   {
    "duration": 6,
    "start_time": "2021-11-09T18:55:49.825Z"
   },
   {
    "duration": 1263,
    "start_time": "2021-11-09T18:55:49.833Z"
   },
   {
    "duration": 18,
    "start_time": "2021-11-09T18:55:51.099Z"
   },
   {
    "duration": 78,
    "start_time": "2021-11-09T18:55:51.119Z"
   },
   {
    "duration": 7,
    "start_time": "2021-11-09T18:55:51.199Z"
   },
   {
    "duration": 6,
    "start_time": "2021-11-09T18:55:51.207Z"
   },
   {
    "duration": 78,
    "start_time": "2021-11-09T18:55:51.215Z"
   },
   {
    "duration": 1079,
    "start_time": "2021-11-09T18:55:51.295Z"
   },
   {
    "duration": 72,
    "start_time": "2021-11-09T18:55:52.376Z"
   },
   {
    "duration": 4,
    "start_time": "2021-11-09T18:55:52.464Z"
   },
   {
    "duration": 212,
    "start_time": "2021-11-09T18:55:52.470Z"
   },
   {
    "duration": 391,
    "start_time": "2021-11-09T18:55:52.684Z"
   },
   {
    "duration": 1153,
    "start_time": "2021-11-09T18:55:53.076Z"
   },
   {
    "duration": 69,
    "start_time": "2021-11-09T18:55:54.231Z"
   },
   {
    "duration": 33179,
    "start_time": "2021-11-09T18:55:54.301Z"
   },
   {
    "duration": 13,
    "start_time": "2021-11-09T18:56:27.482Z"
   },
   {
    "duration": 201,
    "start_time": "2021-11-09T18:56:27.497Z"
   },
   {
    "duration": 103,
    "start_time": "2021-11-09T18:56:27.701Z"
   },
   {
    "duration": 4,
    "start_time": "2021-11-09T18:58:22.922Z"
   },
   {
    "duration": 5,
    "start_time": "2021-11-09T18:58:40.092Z"
   },
   {
    "duration": 426,
    "start_time": "2021-11-09T19:07:54.558Z"
   },
   {
    "duration": 3,
    "start_time": "2021-11-09T19:08:03.304Z"
   },
   {
    "duration": 5,
    "start_time": "2021-11-09T19:08:03.313Z"
   },
   {
    "duration": 1313,
    "start_time": "2021-11-09T19:08:03.320Z"
   },
   {
    "duration": 233,
    "start_time": "2021-11-09T19:08:04.636Z"
   },
   {
    "duration": 36,
    "start_time": "2021-11-09T19:08:04.872Z"
   },
   {
    "duration": 3,
    "start_time": "2021-11-09T19:08:04.910Z"
   },
   {
    "duration": 6,
    "start_time": "2021-11-09T19:08:04.915Z"
   },
   {
    "duration": 1405,
    "start_time": "2021-11-09T19:08:04.923Z"
   },
   {
    "duration": 18,
    "start_time": "2021-11-09T19:08:06.330Z"
   },
   {
    "duration": 52,
    "start_time": "2021-11-09T19:08:06.363Z"
   },
   {
    "duration": 8,
    "start_time": "2021-11-09T19:08:06.418Z"
   },
   {
    "duration": 35,
    "start_time": "2021-11-09T19:08:06.428Z"
   },
   {
    "duration": 52,
    "start_time": "2021-11-09T19:08:06.465Z"
   },
   {
    "duration": 1131,
    "start_time": "2021-11-09T19:08:06.520Z"
   },
   {
    "duration": 80,
    "start_time": "2021-11-09T19:08:07.653Z"
   },
   {
    "duration": 4,
    "start_time": "2021-11-09T19:08:07.735Z"
   },
   {
    "duration": 237,
    "start_time": "2021-11-09T19:08:07.741Z"
   },
   {
    "duration": 428,
    "start_time": "2021-11-09T19:08:07.980Z"
   },
   {
    "duration": 1255,
    "start_time": "2021-11-09T19:08:08.410Z"
   },
   {
    "duration": 66,
    "start_time": "2021-11-09T19:08:09.668Z"
   },
   {
    "duration": 41589,
    "start_time": "2021-11-09T19:08:09.736Z"
   },
   {
    "duration": 15,
    "start_time": "2021-11-09T19:08:51.327Z"
   },
   {
    "duration": 210,
    "start_time": "2021-11-09T19:08:51.343Z"
   },
   {
    "duration": 98,
    "start_time": "2021-11-09T19:08:51.555Z"
   },
   {
    "duration": 5,
    "start_time": "2021-11-09T19:08:51.664Z"
   },
   {
    "duration": 46,
    "start_time": "2021-11-09T19:08:51.672Z"
   },
   {
    "duration": 123,
    "start_time": "2021-11-09T19:08:51.720Z"
   },
   {
    "duration": 632,
    "start_time": "2021-11-09T19:08:51.848Z"
   },
   {
    "duration": 4762,
    "start_time": "2021-11-09T19:08:52.482Z"
   },
   {
    "duration": 6284,
    "start_time": "2021-11-09T19:08:57.246Z"
   },
   {
    "duration": 78,
    "start_time": "2021-11-09T19:09:23.391Z"
   },
   {
    "duration": 6238,
    "start_time": "2021-11-09T19:09:38.398Z"
   },
   {
    "duration": 7,
    "start_time": "2021-11-09T19:13:50.730Z"
   },
   {
    "duration": 21362,
    "start_time": "2021-11-09T19:13:51.316Z"
   },
   {
    "duration": 485,
    "start_time": "2021-11-09T19:14:12.680Z"
   },
   {
    "duration": 3,
    "start_time": "2021-11-09T19:14:22.888Z"
   },
   {
    "duration": 21927,
    "start_time": "2021-11-09T19:14:23.341Z"
   },
   {
    "duration": 422,
    "start_time": "2021-11-09T19:14:45.270Z"
   },
   {
    "duration": 3,
    "start_time": "2021-11-09T19:16:07.184Z"
   },
   {
    "duration": 6,
    "start_time": "2021-11-09T19:16:07.194Z"
   },
   {
    "duration": 1002,
    "start_time": "2021-11-09T19:16:07.202Z"
   },
   {
    "duration": 142,
    "start_time": "2021-11-09T19:16:08.206Z"
   },
   {
    "duration": 33,
    "start_time": "2021-11-09T19:16:08.350Z"
   },
   {
    "duration": 3,
    "start_time": "2021-11-09T19:16:08.385Z"
   },
   {
    "duration": 7,
    "start_time": "2021-11-09T19:16:08.389Z"
   },
   {
    "duration": 1272,
    "start_time": "2021-11-09T19:16:08.398Z"
   },
   {
    "duration": 19,
    "start_time": "2021-11-09T19:16:09.672Z"
   },
   {
    "duration": 83,
    "start_time": "2021-11-09T19:16:09.695Z"
   },
   {
    "duration": 9,
    "start_time": "2021-11-09T19:16:09.781Z"
   },
   {
    "duration": 7,
    "start_time": "2021-11-09T19:16:09.792Z"
   },
   {
    "duration": 95,
    "start_time": "2021-11-09T19:16:09.801Z"
   },
   {
    "duration": 1090,
    "start_time": "2021-11-09T19:16:09.898Z"
   },
   {
    "duration": 80,
    "start_time": "2021-11-09T19:16:10.990Z"
   },
   {
    "duration": 4,
    "start_time": "2021-11-09T19:16:11.072Z"
   },
   {
    "duration": 260,
    "start_time": "2021-11-09T19:16:11.078Z"
   },
   {
    "duration": 429,
    "start_time": "2021-11-09T19:16:11.340Z"
   },
   {
    "duration": 1312,
    "start_time": "2021-11-09T19:16:11.771Z"
   },
   {
    "duration": 106,
    "start_time": "2021-11-09T19:16:13.085Z"
   },
   {
    "duration": 34084,
    "start_time": "2021-11-09T19:16:13.193Z"
   },
   {
    "duration": 14,
    "start_time": "2021-11-09T19:16:47.279Z"
   },
   {
    "duration": 228,
    "start_time": "2021-11-09T19:16:47.295Z"
   },
   {
    "duration": 131,
    "start_time": "2021-11-09T19:16:47.525Z"
   },
   {
    "duration": 5,
    "start_time": "2021-11-09T19:16:47.658Z"
   },
   {
    "duration": 35,
    "start_time": "2021-11-09T19:16:47.664Z"
   },
   {
    "duration": 99,
    "start_time": "2021-11-09T19:16:47.700Z"
   },
   {
    "duration": 517,
    "start_time": "2021-11-09T19:16:47.803Z"
   },
   {
    "duration": 4485,
    "start_time": "2021-11-09T19:16:48.322Z"
   },
   {
    "duration": 5975,
    "start_time": "2021-11-09T19:16:52.809Z"
   },
   {
    "duration": 7,
    "start_time": "2021-11-09T19:16:58.785Z"
   },
   {
    "duration": 5475,
    "start_time": "2021-11-09T19:16:58.793Z"
   },
   {
    "duration": 493,
    "start_time": "2021-11-09T19:17:04.270Z"
   },
   {
    "duration": 3,
    "start_time": "2021-11-09T19:17:04.765Z"
   },
   {
    "duration": 8,
    "start_time": "2021-11-09T19:17:04.770Z"
   },
   {
    "duration": 12189,
    "start_time": "2021-11-09T19:17:04.780Z"
   },
   {
    "duration": 199,
    "start_time": "2021-11-09T19:17:16.971Z"
   },
   {
    "duration": 3,
    "start_time": "2021-11-09T19:18:55.934Z"
   },
   {
    "duration": 6943,
    "start_time": "2021-11-09T19:18:56.130Z"
   },
   {
    "duration": 498,
    "start_time": "2021-11-09T19:19:03.075Z"
   },
   {
    "duration": 81,
    "start_time": "2021-11-09T19:19:03.576Z"
   },
   {
    "duration": -373,
    "start_time": "2021-11-09T19:19:04.032Z"
   },
   {
    "duration": -377,
    "start_time": "2021-11-09T19:19:04.037Z"
   },
   {
    "duration": -388,
    "start_time": "2021-11-09T19:19:04.049Z"
   },
   {
    "duration": -392,
    "start_time": "2021-11-09T19:19:04.054Z"
   },
   {
    "duration": 3,
    "start_time": "2021-11-09T19:19:16.816Z"
   },
   {
    "duration": 3,
    "start_time": "2021-11-09T19:19:17.021Z"
   },
   {
    "duration": 12342,
    "start_time": "2021-11-09T19:19:17.209Z"
   },
   {
    "duration": 130,
    "start_time": "2021-11-09T19:19:29.552Z"
   },
   {
    "duration": 3,
    "start_time": "2021-11-09T19:19:46.982Z"
   },
   {
    "duration": 4806,
    "start_time": "2021-11-09T19:19:47.262Z"
   },
   {
    "duration": 493,
    "start_time": "2021-11-09T19:19:52.070Z"
   },
   {
    "duration": 3,
    "start_time": "2021-11-10T11:07:16.882Z"
   },
   {
    "duration": 1206,
    "start_time": "2021-11-10T11:07:16.887Z"
   },
   {
    "duration": 1069,
    "start_time": "2021-11-10T11:07:18.095Z"
   },
   {
    "duration": 121,
    "start_time": "2021-11-10T11:07:19.166Z"
   },
   {
    "duration": 30,
    "start_time": "2021-11-10T11:07:19.289Z"
   },
   {
    "duration": 3,
    "start_time": "2021-11-10T11:07:19.321Z"
   },
   {
    "duration": 16,
    "start_time": "2021-11-10T11:07:19.325Z"
   },
   {
    "duration": 1280,
    "start_time": "2021-11-10T11:07:19.343Z"
   },
   {
    "duration": 21,
    "start_time": "2021-11-10T11:07:20.626Z"
   },
   {
    "duration": 77,
    "start_time": "2021-11-10T11:07:20.649Z"
   },
   {
    "duration": 8,
    "start_time": "2021-11-10T11:07:20.728Z"
   },
   {
    "duration": 28,
    "start_time": "2021-11-10T11:07:20.737Z"
   },
   {
    "duration": 63,
    "start_time": "2021-11-10T11:07:20.767Z"
   },
   {
    "duration": 1131,
    "start_time": "2021-11-10T11:07:20.832Z"
   },
   {
    "duration": 80,
    "start_time": "2021-11-10T11:07:21.965Z"
   },
   {
    "duration": 19,
    "start_time": "2021-11-10T11:07:22.047Z"
   },
   {
    "duration": 216,
    "start_time": "2021-11-10T11:07:22.068Z"
   },
   {
    "duration": 409,
    "start_time": "2021-11-10T11:07:22.286Z"
   },
   {
    "duration": 1188,
    "start_time": "2021-11-10T11:07:22.698Z"
   },
   {
    "duration": 79,
    "start_time": "2021-11-10T11:07:23.888Z"
   },
   {
    "duration": 34525,
    "start_time": "2021-11-10T11:07:23.969Z"
   },
   {
    "duration": 14,
    "start_time": "2021-11-10T11:07:58.496Z"
   },
   {
    "duration": 278,
    "start_time": "2021-11-10T11:07:58.512Z"
   },
   {
    "duration": 114,
    "start_time": "2021-11-10T11:07:58.791Z"
   },
   {
    "duration": 4,
    "start_time": "2021-11-10T11:07:58.907Z"
   },
   {
    "duration": 50,
    "start_time": "2021-11-10T11:07:58.913Z"
   },
   {
    "duration": 77,
    "start_time": "2021-11-10T11:07:58.967Z"
   },
   {
    "duration": 545,
    "start_time": "2021-11-10T11:07:59.046Z"
   },
   {
    "duration": 4782,
    "start_time": "2021-11-10T11:07:59.592Z"
   },
   {
    "duration": 5928,
    "start_time": "2021-11-10T11:08:04.376Z"
   },
   {
    "duration": 441,
    "start_time": "2021-11-10T11:08:10.306Z"
   },
   {
    "duration": 2074,
    "start_time": "2021-11-10T11:08:19.865Z"
   },
   {
    "duration": 2225,
    "start_time": "2021-11-10T11:10:26.833Z"
   },
   {
    "duration": 301,
    "start_time": "2021-11-10T11:12:28.601Z"
   },
   {
    "duration": 351,
    "start_time": "2021-11-10T11:13:14.982Z"
   },
   {
    "duration": 4,
    "start_time": "2021-11-10T11:16:05.327Z"
   },
   {
    "duration": 265,
    "start_time": "2021-11-10T11:17:23.067Z"
   },
   {
    "duration": 2086,
    "start_time": "2021-11-10T11:18:49.145Z"
   },
   {
    "duration": 2058,
    "start_time": "2021-11-10T11:19:09.937Z"
   },
   {
    "duration": 15228,
    "start_time": "2021-11-10T11:19:40.652Z"
   },
   {
    "duration": 17745,
    "start_time": "2021-11-10T11:20:09.641Z"
   },
   {
    "duration": 24937,
    "start_time": "2021-11-10T11:35:01.344Z"
   },
   {
    "duration": 111029,
    "start_time": "2021-11-10T11:36:19.378Z"
   },
   {
    "duration": 36926,
    "start_time": "2021-11-10T11:40:17.998Z"
   },
   {
    "duration": 42158,
    "start_time": "2021-11-10T11:44:52.126Z"
   },
   {
    "duration": -534,
    "start_time": "2021-11-10T11:45:34.821Z"
   },
   {
    "duration": 593221,
    "start_time": "2021-11-10T11:45:43.836Z"
   },
   {
    "duration": 24975,
    "start_time": "2021-11-10T11:56:01.868Z"
   },
   {
    "duration": 58,
    "start_time": "2021-11-11T10:22:40.891Z"
   },
   {
    "duration": 2,
    "start_time": "2021-11-11T10:22:44.905Z"
   },
   {
    "duration": 1174,
    "start_time": "2021-11-11T10:22:44.911Z"
   },
   {
    "duration": 891,
    "start_time": "2021-11-11T10:22:46.086Z"
   },
   {
    "duration": 116,
    "start_time": "2021-11-11T10:22:46.979Z"
   },
   {
    "duration": 27,
    "start_time": "2021-11-11T10:22:47.097Z"
   },
   {
    "duration": 3,
    "start_time": "2021-11-11T10:22:47.126Z"
   },
   {
    "duration": 7,
    "start_time": "2021-11-11T10:22:47.131Z"
   },
   {
    "duration": 1256,
    "start_time": "2021-11-11T10:22:47.139Z"
   },
   {
    "duration": 18,
    "start_time": "2021-11-11T10:22:48.398Z"
   },
   {
    "duration": 82,
    "start_time": "2021-11-11T10:22:48.418Z"
   },
   {
    "duration": 8,
    "start_time": "2021-11-11T10:22:48.502Z"
   },
   {
    "duration": 6,
    "start_time": "2021-11-11T10:22:48.512Z"
   },
   {
    "duration": 81,
    "start_time": "2021-11-11T10:22:48.520Z"
   },
   {
    "duration": 1118,
    "start_time": "2021-11-11T10:22:48.604Z"
   },
   {
    "duration": 82,
    "start_time": "2021-11-11T10:22:49.724Z"
   },
   {
    "duration": 3,
    "start_time": "2021-11-11T10:22:49.808Z"
   },
   {
    "duration": 200,
    "start_time": "2021-11-11T10:22:49.812Z"
   },
   {
    "duration": 427,
    "start_time": "2021-11-11T10:22:50.014Z"
   },
   {
    "duration": 1188,
    "start_time": "2021-11-11T10:22:50.443Z"
   },
   {
    "duration": 64,
    "start_time": "2021-11-11T10:22:51.633Z"
   },
   {
    "duration": 31234,
    "start_time": "2021-11-11T10:22:51.698Z"
   },
   {
    "duration": 13,
    "start_time": "2021-11-11T10:23:22.934Z"
   },
   {
    "duration": 182,
    "start_time": "2021-11-11T10:23:22.949Z"
   },
   {
    "duration": 116,
    "start_time": "2021-11-11T10:23:23.134Z"
   },
   {
    "duration": 5,
    "start_time": "2021-11-11T10:23:23.252Z"
   },
   {
    "duration": 50,
    "start_time": "2021-11-11T10:23:23.258Z"
   },
   {
    "duration": 62,
    "start_time": "2021-11-11T10:23:23.310Z"
   },
   {
    "duration": 508,
    "start_time": "2021-11-11T10:23:23.374Z"
   },
   {
    "duration": 3939,
    "start_time": "2021-11-11T10:23:23.884Z"
   },
   {
    "duration": 5322,
    "start_time": "2021-11-11T10:23:27.825Z"
   },
   {
    "duration": 21801,
    "start_time": "2021-11-11T10:23:33.149Z"
   },
   {
    "duration": 515026,
    "start_time": "2021-11-11T10:23:54.951Z"
   },
   {
    "duration": 4,
    "start_time": "2021-11-11T10:32:29.979Z"
   },
   {
    "duration": 26710,
    "start_time": "2021-11-11T10:32:29.985Z"
   },
   {
    "duration": 410,
    "start_time": "2021-11-11T10:32:56.697Z"
   },
   {
    "duration": 64,
    "start_time": "2021-11-11T10:32:57.108Z"
   },
   {
    "duration": 267,
    "start_time": "2021-11-11T10:33:36.827Z"
   },
   {
    "duration": 3,
    "start_time": "2021-11-11T10:33:57.569Z"
   },
   {
    "duration": 200,
    "start_time": "2021-11-11T10:33:58.364Z"
   },
   {
    "duration": 186,
    "start_time": "2021-11-11T10:56:41.898Z"
   },
   {
    "duration": 134,
    "start_time": "2021-11-11T10:56:52.874Z"
   },
   {
    "duration": 135,
    "start_time": "2021-11-11T10:57:06.872Z"
   },
   {
    "duration": 107,
    "start_time": "2021-11-11T10:57:26.684Z"
   },
   {
    "duration": 66,
    "start_time": "2021-11-11T11:00:26.426Z"
   },
   {
    "duration": 64,
    "start_time": "2021-11-11T11:00:59.819Z"
   },
   {
    "duration": 58,
    "start_time": "2021-11-11T11:01:10.597Z"
   },
   {
    "duration": 14,
    "start_time": "2021-11-11T11:01:53.685Z"
   },
   {
    "duration": 35,
    "start_time": "2021-11-11T11:03:16.667Z"
   },
   {
    "duration": 204,
    "start_time": "2021-11-11T11:06:00.483Z"
   },
   {
    "duration": 46,
    "start_time": "2021-11-11T11:06:04.901Z"
   },
   {
    "duration": 4979,
    "start_time": "2021-11-11T11:06:05.222Z"
   },
   {
    "duration": 3,
    "start_time": "2022-01-18T06:01:43.840Z"
   },
   {
    "duration": 1074,
    "start_time": "2022-01-18T06:01:43.845Z"
   },
   {
    "duration": 800,
    "start_time": "2022-01-18T06:01:44.921Z"
   },
   {
    "duration": 110,
    "start_time": "2022-01-18T06:01:45.723Z"
   },
   {
    "duration": 25,
    "start_time": "2022-01-18T06:01:45.835Z"
   },
   {
    "duration": 3,
    "start_time": "2022-01-18T06:01:45.862Z"
   },
   {
    "duration": 5,
    "start_time": "2022-01-18T06:01:45.866Z"
   },
   {
    "duration": 1157,
    "start_time": "2022-01-18T06:01:45.873Z"
   },
   {
    "duration": 17,
    "start_time": "2022-01-18T06:01:47.033Z"
   },
   {
    "duration": 69,
    "start_time": "2022-01-18T06:01:47.052Z"
   },
   {
    "duration": 8,
    "start_time": "2022-01-18T06:01:47.123Z"
   },
   {
    "duration": 5,
    "start_time": "2022-01-18T06:01:47.132Z"
   },
   {
    "duration": 81,
    "start_time": "2022-01-18T06:01:47.138Z"
   },
   {
    "duration": 1000,
    "start_time": "2022-01-18T06:01:47.221Z"
   },
   {
    "duration": 66,
    "start_time": "2022-01-18T06:01:48.222Z"
   },
   {
    "duration": 3,
    "start_time": "2022-01-18T06:01:48.290Z"
   },
   {
    "duration": 198,
    "start_time": "2022-01-18T06:01:48.294Z"
   },
   {
    "duration": 354,
    "start_time": "2022-01-18T06:01:48.494Z"
   },
   {
    "duration": 1069,
    "start_time": "2022-01-18T06:01:48.849Z"
   },
   {
    "duration": 56,
    "start_time": "2022-01-18T06:01:49.919Z"
   },
   {
    "duration": 29423,
    "start_time": "2022-01-18T06:01:49.976Z"
   },
   {
    "duration": 16,
    "start_time": "2022-01-18T06:02:19.401Z"
   },
   {
    "duration": 166,
    "start_time": "2022-01-18T06:02:19.418Z"
   },
   {
    "duration": 99,
    "start_time": "2022-01-18T06:02:19.587Z"
   },
   {
    "duration": 4,
    "start_time": "2022-01-18T06:02:19.688Z"
   },
   {
    "duration": 41,
    "start_time": "2022-01-18T06:02:19.693Z"
   },
   {
    "duration": 52,
    "start_time": "2022-01-18T06:02:19.736Z"
   },
   {
    "duration": 461,
    "start_time": "2022-01-18T06:02:19.789Z"
   },
   {
    "duration": 3527,
    "start_time": "2022-01-18T06:02:20.252Z"
   },
   {
    "duration": 4789,
    "start_time": "2022-01-18T06:02:23.781Z"
   },
   {
    "duration": 367,
    "start_time": "2022-01-18T06:02:28.572Z"
   },
   {
    "duration": 2,
    "start_time": "2022-01-18T06:05:52.987Z"
   },
   {
    "duration": 5,
    "start_time": "2022-01-18T06:05:52.993Z"
   },
   {
    "duration": 816,
    "start_time": "2022-01-18T06:05:52.999Z"
   },
   {
    "duration": 120,
    "start_time": "2022-01-18T06:05:53.817Z"
   },
   {
    "duration": 21,
    "start_time": "2022-01-18T06:05:53.939Z"
   },
   {
    "duration": 3,
    "start_time": "2022-01-18T06:05:53.962Z"
   },
   {
    "duration": 4,
    "start_time": "2022-01-18T06:05:53.966Z"
   },
   {
    "duration": 1183,
    "start_time": "2022-01-18T06:05:53.972Z"
   },
   {
    "duration": 15,
    "start_time": "2022-01-18T06:05:55.157Z"
   },
   {
    "duration": 59,
    "start_time": "2022-01-18T06:05:55.174Z"
   },
   {
    "duration": 6,
    "start_time": "2022-01-18T06:05:55.235Z"
   },
   {
    "duration": 4,
    "start_time": "2022-01-18T06:05:55.243Z"
   },
   {
    "duration": 69,
    "start_time": "2022-01-18T06:05:55.249Z"
   },
   {
    "duration": 1139,
    "start_time": "2022-01-18T06:05:55.320Z"
   },
   {
    "duration": 81,
    "start_time": "2022-01-18T06:05:56.461Z"
   },
   {
    "duration": 4,
    "start_time": "2022-01-18T06:05:56.544Z"
   },
   {
    "duration": 233,
    "start_time": "2022-01-18T06:05:56.550Z"
   },
   {
    "duration": 405,
    "start_time": "2022-01-18T06:05:56.785Z"
   },
   {
    "duration": 1210,
    "start_time": "2022-01-18T06:05:57.192Z"
   },
   {
    "duration": 67,
    "start_time": "2022-01-18T06:05:58.404Z"
   },
   {
    "duration": 18527,
    "start_time": "2022-01-18T06:05:58.473Z"
   },
   {
    "duration": -365,
    "start_time": "2022-01-18T06:06:17.367Z"
   },
   {
    "duration": -371,
    "start_time": "2022-01-18T06:06:17.374Z"
   },
   {
    "duration": -375,
    "start_time": "2022-01-18T06:06:17.379Z"
   },
   {
    "duration": -380,
    "start_time": "2022-01-18T06:06:17.385Z"
   },
   {
    "duration": -386,
    "start_time": "2022-01-18T06:06:17.391Z"
   },
   {
    "duration": -391,
    "start_time": "2022-01-18T06:06:17.397Z"
   },
   {
    "duration": -395,
    "start_time": "2022-01-18T06:06:17.402Z"
   },
   {
    "duration": -400,
    "start_time": "2022-01-18T06:06:17.408Z"
   },
   {
    "duration": 2,
    "start_time": "2022-01-18T06:06:27.726Z"
   },
   {
    "duration": 5,
    "start_time": "2022-01-18T06:06:27.731Z"
   },
   {
    "duration": 835,
    "start_time": "2022-01-18T06:06:27.738Z"
   },
   {
    "duration": 118,
    "start_time": "2022-01-18T06:06:28.575Z"
   },
   {
    "duration": 27,
    "start_time": "2022-01-18T06:06:28.695Z"
   },
   {
    "duration": 3,
    "start_time": "2022-01-18T06:06:28.724Z"
   },
   {
    "duration": 6,
    "start_time": "2022-01-18T06:06:28.729Z"
   },
   {
    "duration": 1167,
    "start_time": "2022-01-18T06:06:28.737Z"
   },
   {
    "duration": 16,
    "start_time": "2022-01-18T06:06:29.912Z"
   },
   {
    "duration": 54,
    "start_time": "2022-01-18T06:06:29.930Z"
   },
   {
    "duration": 7,
    "start_time": "2022-01-18T06:06:29.985Z"
   },
   {
    "duration": 6,
    "start_time": "2022-01-18T06:06:30.012Z"
   },
   {
    "duration": 56,
    "start_time": "2022-01-18T06:06:30.020Z"
   },
   {
    "duration": 1101,
    "start_time": "2022-01-18T06:06:30.078Z"
   },
   {
    "duration": 72,
    "start_time": "2022-01-18T06:06:31.181Z"
   },
   {
    "duration": 3,
    "start_time": "2022-01-18T06:06:31.255Z"
   },
   {
    "duration": 223,
    "start_time": "2022-01-18T06:06:31.259Z"
   },
   {
    "duration": 374,
    "start_time": "2022-01-18T06:06:31.483Z"
   },
   {
    "duration": 1201,
    "start_time": "2022-01-18T06:06:31.858Z"
   },
   {
    "duration": 66,
    "start_time": "2022-01-18T06:06:33.061Z"
   },
   {
    "duration": 29522,
    "start_time": "2022-01-18T06:06:33.128Z"
   },
   {
    "duration": 12,
    "start_time": "2022-01-18T06:07:02.652Z"
   },
   {
    "duration": 193,
    "start_time": "2022-01-18T06:07:02.666Z"
   },
   {
    "duration": 116,
    "start_time": "2022-01-18T06:07:02.861Z"
   },
   {
    "duration": 3,
    "start_time": "2022-01-18T06:07:02.978Z"
   },
   {
    "duration": 38,
    "start_time": "2022-01-18T06:07:02.983Z"
   },
   {
    "duration": 60,
    "start_time": "2022-01-18T06:07:03.022Z"
   },
   {
    "duration": 463,
    "start_time": "2022-01-18T06:07:03.084Z"
   },
   {
    "duration": 19635,
    "start_time": "2022-01-18T06:07:03.548Z"
   },
   {
    "duration": 183486,
    "start_time": "2022-01-18T06:07:23.184Z"
   },
   {
    "duration": 20081,
    "start_time": "2022-01-18T06:10:40.578Z"
   },
   {
    "duration": 484616,
    "start_time": "2022-01-18T06:11:05.456Z"
   },
   {
    "duration": 2,
    "start_time": "2022-01-18T06:19:10.074Z"
   },
   {
    "duration": 8,
    "start_time": "2022-01-18T06:19:29.458Z"
   },
   {
    "duration": 186,
    "start_time": "2022-01-18T06:26:49.216Z"
   },
   {
    "duration": 19656,
    "start_time": "2022-01-18T06:27:03.846Z"
   },
   {
    "duration": 19686,
    "start_time": "2022-01-18T06:27:39.158Z"
   },
   {
    "duration": 61,
    "start_time": "2022-01-18T06:28:35.635Z"
   },
   {
    "duration": 19869,
    "start_time": "2022-01-18T06:28:41.878Z"
   },
   {
    "duration": 19491,
    "start_time": "2022-01-18T06:31:34.836Z"
   },
   {
    "duration": 2,
    "start_time": "2022-01-18T06:35:46.466Z"
   },
   {
    "duration": 4,
    "start_time": "2022-01-18T06:35:46.471Z"
   },
   {
    "duration": 751,
    "start_time": "2022-01-18T06:35:46.477Z"
   },
   {
    "duration": 130,
    "start_time": "2022-01-18T06:35:47.229Z"
   },
   {
    "duration": 20,
    "start_time": "2022-01-18T06:35:47.361Z"
   },
   {
    "duration": 2,
    "start_time": "2022-01-18T06:35:47.383Z"
   },
   {
    "duration": 4,
    "start_time": "2022-01-18T06:35:47.387Z"
   },
   {
    "duration": 1068,
    "start_time": "2022-01-18T06:35:47.393Z"
   },
   {
    "duration": 15,
    "start_time": "2022-01-18T06:35:48.463Z"
   },
   {
    "duration": 61,
    "start_time": "2022-01-18T06:35:48.480Z"
   },
   {
    "duration": 7,
    "start_time": "2022-01-18T06:35:48.542Z"
   },
   {
    "duration": 4,
    "start_time": "2022-01-18T06:35:48.550Z"
   },
   {
    "duration": 66,
    "start_time": "2022-01-18T06:35:48.556Z"
   },
   {
    "duration": 1012,
    "start_time": "2022-01-18T06:35:48.623Z"
   },
   {
    "duration": 56,
    "start_time": "2022-01-18T06:35:49.637Z"
   },
   {
    "duration": 3,
    "start_time": "2022-01-18T06:35:49.695Z"
   },
   {
    "duration": 225,
    "start_time": "2022-01-18T06:35:49.712Z"
   },
   {
    "duration": 385,
    "start_time": "2022-01-18T06:35:49.938Z"
   },
   {
    "duration": 1209,
    "start_time": "2022-01-18T06:35:50.324Z"
   },
   {
    "duration": 57,
    "start_time": "2022-01-18T06:35:51.536Z"
   },
   {
    "duration": 28998,
    "start_time": "2022-01-18T06:35:51.595Z"
   },
   {
    "duration": 17,
    "start_time": "2022-01-18T06:36:20.595Z"
   },
   {
    "duration": 182,
    "start_time": "2022-01-18T06:36:20.613Z"
   },
   {
    "duration": 96,
    "start_time": "2022-01-18T06:36:20.797Z"
   },
   {
    "duration": 3,
    "start_time": "2022-01-18T06:36:20.894Z"
   },
   {
    "duration": 35,
    "start_time": "2022-01-18T06:36:20.898Z"
   },
   {
    "duration": 54,
    "start_time": "2022-01-18T06:36:20.934Z"
   },
   {
    "duration": 451,
    "start_time": "2022-01-18T06:36:20.989Z"
   },
   {
    "duration": 4,
    "start_time": "2022-01-18T06:36:21.441Z"
   },
   {
    "duration": 19402,
    "start_time": "2022-01-18T06:36:21.446Z"
   },
   {
    "duration": 458533,
    "start_time": "2022-01-18T06:36:40.849Z"
   },
   {
    "duration": 2,
    "start_time": "2022-01-18T06:44:19.384Z"
   },
   {
    "duration": 18,
    "start_time": "2022-01-18T06:44:19.387Z"
   },
   {
    "duration": 137,
    "start_time": "2022-01-18T06:44:19.406Z"
   },
   {
    "duration": 2,
    "start_time": "2022-01-18T06:44:19.545Z"
   },
   {
    "duration": 4473,
    "start_time": "2022-01-18T06:44:19.548Z"
   },
   {
    "duration": 502,
    "start_time": "2022-01-18T06:44:24.023Z"
   },
   {
    "duration": 4,
    "start_time": "2022-01-18T06:44:24.526Z"
   },
   {
    "duration": 4,
    "start_time": "2022-01-18T06:44:24.531Z"
   },
   {
    "duration": 2,
    "start_time": "2022-01-18T06:44:24.613Z"
   },
   {
    "duration": 10597,
    "start_time": "2022-01-18T06:44:24.616Z"
   },
   {
    "duration": 115,
    "start_time": "2022-01-18T06:44:35.215Z"
   },
   {
    "duration": 6,
    "start_time": "2022-01-18T06:44:35.331Z"
   },
   {
    "duration": 7,
    "start_time": "2022-01-18T06:44:35.338Z"
   }
  ],
  "kernelspec": {
   "display_name": "Python 3",
   "language": "python",
   "name": "python3"
  },
  "language_info": {
   "codemirror_mode": {
    "name": "ipython",
    "version": 3
   },
   "file_extension": ".py",
   "mimetype": "text/x-python",
   "name": "python",
   "nbconvert_exporter": "python",
   "pygments_lexer": "ipython3",
   "version": "3.8.8"
  },
  "toc": {
   "base_numbering": 1,
   "nav_menu": {},
   "number_sections": true,
   "sideBar": true,
   "skip_h1_title": true,
   "title_cell": "Table of Contents",
   "title_sidebar": "Contents",
   "toc_cell": false,
   "toc_position": {
    "height": "calc(100% - 180px)",
    "left": "10px",
    "top": "150px",
    "width": "165px"
   },
   "toc_section_display": true,
   "toc_window_display": true
  }
 },
 "nbformat": 4,
 "nbformat_minor": 2
}
