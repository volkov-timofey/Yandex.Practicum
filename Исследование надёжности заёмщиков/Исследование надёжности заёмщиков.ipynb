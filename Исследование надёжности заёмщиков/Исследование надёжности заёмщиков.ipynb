{
 "cells": [
  {
   "cell_type": "markdown",
   "metadata": {},
   "source": [
    "# Исследование надёжности заёмщиков\n",
    "\n",
    "Заказчик — кредитный отдел банка. Нужно разобраться, влияет ли семейное положение и количество детей клиента на факт погашения кредита в срок. Входные данные от банка — статистика о платёжеспособности клиентов.\n",
    "\n",
    "Результаты исследования будут учтены при построении модели **кредитного скоринга** — специальной системы, которая оценивает способность потенциального заёмщика вернуть кредит банку."
   ]
  },
  {
   "cell_type": "markdown",
   "metadata": {},
   "source": [
    "## Обзор данных, общая информация"
   ]
  },
  {
   "cell_type": "code",
   "execution_count": 146,
   "metadata": {},
   "outputs": [],
   "source": [
    "import pandas as pd\n",
    "from pymystem3 import Mystem\n",
    "from collections import Counter"
   ]
  },
  {
   "cell_type": "code",
   "execution_count": 147,
   "metadata": {},
   "outputs": [],
   "source": [
    "data = pd.read_csv('/datasets/data.csv')\n",
    "m = Mystem()"
   ]
  },
  {
   "cell_type": "code",
   "execution_count": 148,
   "metadata": {
    "scrolled": false
   },
   "outputs": [
    {
     "name": "stdout",
     "output_type": "stream",
     "text": [
      "<class 'pandas.core.frame.DataFrame'>\n",
      "RangeIndex: 21525 entries, 0 to 21524\n",
      "Data columns (total 12 columns):\n",
      "children            21525 non-null int64\n",
      "days_employed       19351 non-null float64\n",
      "dob_years           21525 non-null int64\n",
      "education           21525 non-null object\n",
      "education_id        21525 non-null int64\n",
      "family_status       21525 non-null object\n",
      "family_status_id    21525 non-null int64\n",
      "gender              21525 non-null object\n",
      "income_type         21525 non-null object\n",
      "debt                21525 non-null int64\n",
      "total_income        19351 non-null float64\n",
      "purpose             21525 non-null object\n",
      "dtypes: float64(2), int64(5), object(5)\n",
      "memory usage: 2.0+ MB\n",
      "None\n"
     ]
    },
    {
     "data": {
      "text/html": [
       "<div>\n",
       "<style scoped>\n",
       "    .dataframe tbody tr th:only-of-type {\n",
       "        vertical-align: middle;\n",
       "    }\n",
       "\n",
       "    .dataframe tbody tr th {\n",
       "        vertical-align: top;\n",
       "    }\n",
       "\n",
       "    .dataframe thead th {\n",
       "        text-align: right;\n",
       "    }\n",
       "</style>\n",
       "<table border=\"1\" class=\"dataframe\">\n",
       "  <thead>\n",
       "    <tr style=\"text-align: right;\">\n",
       "      <th></th>\n",
       "      <th>children</th>\n",
       "      <th>days_employed</th>\n",
       "      <th>dob_years</th>\n",
       "      <th>education</th>\n",
       "      <th>education_id</th>\n",
       "      <th>family_status</th>\n",
       "      <th>family_status_id</th>\n",
       "      <th>gender</th>\n",
       "      <th>income_type</th>\n",
       "      <th>debt</th>\n",
       "      <th>total_income</th>\n",
       "      <th>purpose</th>\n",
       "    </tr>\n",
       "  </thead>\n",
       "  <tbody>\n",
       "    <tr>\n",
       "      <td>1827</td>\n",
       "      <td>0</td>\n",
       "      <td>-356.522646</td>\n",
       "      <td>47</td>\n",
       "      <td>среднее</td>\n",
       "      <td>1</td>\n",
       "      <td>женат / замужем</td>\n",
       "      <td>0</td>\n",
       "      <td>F</td>\n",
       "      <td>компаньон</td>\n",
       "      <td>0</td>\n",
       "      <td>177734.706698</td>\n",
       "      <td>операции с недвижимостью</td>\n",
       "    </tr>\n",
       "    <tr>\n",
       "      <td>10293</td>\n",
       "      <td>0</td>\n",
       "      <td>339943.729642</td>\n",
       "      <td>62</td>\n",
       "      <td>высшее</td>\n",
       "      <td>0</td>\n",
       "      <td>вдовец / вдова</td>\n",
       "      <td>2</td>\n",
       "      <td>F</td>\n",
       "      <td>пенсионер</td>\n",
       "      <td>0</td>\n",
       "      <td>249382.417411</td>\n",
       "      <td>операции с недвижимостью</td>\n",
       "    </tr>\n",
       "    <tr>\n",
       "      <td>19012</td>\n",
       "      <td>0</td>\n",
       "      <td>-275.504604</td>\n",
       "      <td>38</td>\n",
       "      <td>среднее</td>\n",
       "      <td>1</td>\n",
       "      <td>Не женат / не замужем</td>\n",
       "      <td>4</td>\n",
       "      <td>M</td>\n",
       "      <td>сотрудник</td>\n",
       "      <td>0</td>\n",
       "      <td>109660.236035</td>\n",
       "      <td>операции с коммерческой недвижимостью</td>\n",
       "    </tr>\n",
       "    <tr>\n",
       "      <td>18738</td>\n",
       "      <td>0</td>\n",
       "      <td>-164.393584</td>\n",
       "      <td>49</td>\n",
       "      <td>среднее</td>\n",
       "      <td>1</td>\n",
       "      <td>гражданский брак</td>\n",
       "      <td>1</td>\n",
       "      <td>F</td>\n",
       "      <td>сотрудник</td>\n",
       "      <td>0</td>\n",
       "      <td>243056.921615</td>\n",
       "      <td>сыграть свадьбу</td>\n",
       "    </tr>\n",
       "    <tr>\n",
       "      <td>11947</td>\n",
       "      <td>1</td>\n",
       "      <td>-202.363830</td>\n",
       "      <td>30</td>\n",
       "      <td>среднее</td>\n",
       "      <td>1</td>\n",
       "      <td>женат / замужем</td>\n",
       "      <td>0</td>\n",
       "      <td>M</td>\n",
       "      <td>сотрудник</td>\n",
       "      <td>0</td>\n",
       "      <td>123639.079405</td>\n",
       "      <td>покупка недвижимости</td>\n",
       "    </tr>\n",
       "    <tr>\n",
       "      <td>13306</td>\n",
       "      <td>1</td>\n",
       "      <td>-2122.800089</td>\n",
       "      <td>31</td>\n",
       "      <td>среднее</td>\n",
       "      <td>1</td>\n",
       "      <td>гражданский брак</td>\n",
       "      <td>1</td>\n",
       "      <td>F</td>\n",
       "      <td>сотрудник</td>\n",
       "      <td>1</td>\n",
       "      <td>195738.592716</td>\n",
       "      <td>на проведение свадьбы</td>\n",
       "    </tr>\n",
       "    <tr>\n",
       "      <td>10358</td>\n",
       "      <td>0</td>\n",
       "      <td>-798.366064</td>\n",
       "      <td>22</td>\n",
       "      <td>неоконченное высшее</td>\n",
       "      <td>2</td>\n",
       "      <td>гражданский брак</td>\n",
       "      <td>1</td>\n",
       "      <td>F</td>\n",
       "      <td>сотрудник</td>\n",
       "      <td>0</td>\n",
       "      <td>115899.317940</td>\n",
       "      <td>на проведение свадьбы</td>\n",
       "    </tr>\n",
       "    <tr>\n",
       "      <td>18516</td>\n",
       "      <td>0</td>\n",
       "      <td>-2615.148409</td>\n",
       "      <td>39</td>\n",
       "      <td>высшее</td>\n",
       "      <td>0</td>\n",
       "      <td>женат / замужем</td>\n",
       "      <td>0</td>\n",
       "      <td>M</td>\n",
       "      <td>сотрудник</td>\n",
       "      <td>0</td>\n",
       "      <td>417683.065179</td>\n",
       "      <td>операции с коммерческой недвижимостью</td>\n",
       "    </tr>\n",
       "    <tr>\n",
       "      <td>2929</td>\n",
       "      <td>1</td>\n",
       "      <td>-2306.171209</td>\n",
       "      <td>31</td>\n",
       "      <td>высшее</td>\n",
       "      <td>0</td>\n",
       "      <td>женат / замужем</td>\n",
       "      <td>0</td>\n",
       "      <td>F</td>\n",
       "      <td>госслужащий</td>\n",
       "      <td>0</td>\n",
       "      <td>86574.378855</td>\n",
       "      <td>недвижимость</td>\n",
       "    </tr>\n",
       "    <tr>\n",
       "      <td>11107</td>\n",
       "      <td>2</td>\n",
       "      <td>-5437.303642</td>\n",
       "      <td>41</td>\n",
       "      <td>высшее</td>\n",
       "      <td>0</td>\n",
       "      <td>гражданский брак</td>\n",
       "      <td>1</td>\n",
       "      <td>F</td>\n",
       "      <td>сотрудник</td>\n",
       "      <td>0</td>\n",
       "      <td>167287.660324</td>\n",
       "      <td>сыграть свадьбу</td>\n",
       "    </tr>\n",
       "  </tbody>\n",
       "</table>\n",
       "</div>"
      ],
      "text/plain": [
       "       children  days_employed  dob_years            education  education_id  \\\n",
       "1827          0    -356.522646         47              среднее             1   \n",
       "10293         0  339943.729642         62               высшее             0   \n",
       "19012         0    -275.504604         38              среднее             1   \n",
       "18738         0    -164.393584         49              среднее             1   \n",
       "11947         1    -202.363830         30              среднее             1   \n",
       "13306         1   -2122.800089         31              среднее             1   \n",
       "10358         0    -798.366064         22  неоконченное высшее             2   \n",
       "18516         0   -2615.148409         39               высшее             0   \n",
       "2929          1   -2306.171209         31               высшее             0   \n",
       "11107         2   -5437.303642         41               высшее             0   \n",
       "\n",
       "               family_status  family_status_id gender  income_type  debt  \\\n",
       "1827         женат / замужем                 0      F    компаньон     0   \n",
       "10293         вдовец / вдова                 2      F    пенсионер     0   \n",
       "19012  Не женат / не замужем                 4      M    сотрудник     0   \n",
       "18738       гражданский брак                 1      F    сотрудник     0   \n",
       "11947        женат / замужем                 0      M    сотрудник     0   \n",
       "13306       гражданский брак                 1      F    сотрудник     1   \n",
       "10358       гражданский брак                 1      F    сотрудник     0   \n",
       "18516        женат / замужем                 0      M    сотрудник     0   \n",
       "2929         женат / замужем                 0      F  госслужащий     0   \n",
       "11107       гражданский брак                 1      F    сотрудник     0   \n",
       "\n",
       "        total_income                                purpose  \n",
       "1827   177734.706698               операции с недвижимостью  \n",
       "10293  249382.417411               операции с недвижимостью  \n",
       "19012  109660.236035  операции с коммерческой недвижимостью  \n",
       "18738  243056.921615                        сыграть свадьбу  \n",
       "11947  123639.079405                   покупка недвижимости  \n",
       "13306  195738.592716                  на проведение свадьбы  \n",
       "10358  115899.317940                  на проведение свадьбы  \n",
       "18516  417683.065179  операции с коммерческой недвижимостью  \n",
       "2929    86574.378855                           недвижимость  \n",
       "11107  167287.660324                        сыграть свадьбу  "
      ]
     },
     "execution_count": 148,
     "metadata": {},
     "output_type": "execute_result"
    }
   ],
   "source": [
    "print(data.info()) # информация о датасете\n",
    "data.sample(10) # 10 рандомных строк датасета"
   ]
  },
  {
   "cell_type": "code",
   "execution_count": 149,
   "metadata": {},
   "outputs": [
    {
     "data": {
      "text/plain": [
       "children            0.000000\n",
       "days_employed       0.100999\n",
       "dob_years           0.000000\n",
       "education           0.000000\n",
       "education_id        0.000000\n",
       "family_status       0.000000\n",
       "family_status_id    0.000000\n",
       "gender              0.000000\n",
       "income_type         0.000000\n",
       "debt                0.000000\n",
       "total_income        0.100999\n",
       "purpose             0.000000\n",
       "dtype: float64"
      ]
     },
     "execution_count": 149,
     "metadata": {},
     "output_type": "execute_result"
    }
   ],
   "source": [
    "data.isnull().mean() # процент пропусков"
   ]
  },
  {
   "cell_type": "markdown",
   "metadata": {},
   "source": [
    "**Вывод**"
   ]
  },
  {
   "cell_type": "markdown",
   "metadata": {},
   "source": [
    "Исходный датасет размерностью 21525 строк, 12 столбцов.Из общего массива выбиваются 2 столбца (days_employed - общий трудовой стаж, total_income - ежемесячный доход), с количеством значений 19351, явно имеются пропуски, это около 10% данных."
   ]
  },
  {
   "cell_type": "markdown",
   "metadata": {},
   "source": [
    "## Предобработка данных"
   ]
  },
  {
   "cell_type": "markdown",
   "metadata": {},
   "source": [
    "Приведём столбцы с тектовыми значениями к нижнему регистру."
   ]
  },
  {
   "cell_type": "code",
   "execution_count": 150,
   "metadata": {},
   "outputs": [],
   "source": [
    "for col in data[['education', 'family_status', 'income_type']].columns:\n",
    "    data[col] = data[col].str.lower()"
   ]
  },
  {
   "cell_type": "markdown",
   "metadata": {},
   "source": [
    "### Обработка пропусков"
   ]
  },
  {
   "cell_type": "markdown",
   "metadata": {},
   "source": [
    "Оценим количество пропусков в столбце общего стажа по типу клиентов"
   ]
  },
  {
   "cell_type": "code",
   "execution_count": 151,
   "metadata": {},
   "outputs": [
    {
     "name": "stdout",
     "output_type": "stream",
     "text": [
      "Пропуски по типу занятости:\n",
      "сотрудник          1105\n",
      "компаньон           508\n",
      "пенсионер           413\n",
      "госслужащий         147\n",
      "предприниматель       1\n",
      "Name: income_type, dtype: int64\n",
      "\n",
      "Количество записей относящихся к разным типам занятости:\n",
      "сотрудник          11119\n",
      "компаньон           5085\n",
      "пенсионер           3856\n",
      "госслужащий         1459\n",
      "безработный            2\n",
      "предприниматель        2\n",
      "студент                1\n",
      "в декрете              1\n",
      "Name: income_type, dtype: int64\n"
     ]
    }
   ],
   "source": [
    "print('Пропуски по типу занятости:')\n",
    "print(data[data['days_employed'].isnull()]['income_type'].value_counts())\n",
    "\n",
    "print('\\nКоличество записей относящихся к разным типам занятости:')\n",
    "print(data['income_type'].value_counts())"
   ]
  },
  {
   "cell_type": "markdown",
   "metadata": {},
   "source": [
    "Пропуски имеются практически во всех категориях занятости."
   ]
  },
  {
   "cell_type": "markdown",
   "metadata": {},
   "source": [
    "Заполним пропуски медианными значениями в столбцах 'days_employed' и 'total_income' исходя из типа занятости клиента"
   ]
  },
  {
   "cell_type": "code",
   "execution_count": 152,
   "metadata": {},
   "outputs": [],
   "source": [
    "data.loc[data['total_income'].isnull(),'total_income'] = data.groupby('income_type')['total_income'].transform('median')\n",
    "data.loc[data['days_employed'].isnull(), 'days_employed'] = data.groupby('income_type')['days_employed'].transform('median')"
   ]
  },
  {
   "cell_type": "markdown",
   "metadata": {},
   "source": [
    "Рассмотрим возраст заемщиков"
   ]
  },
  {
   "cell_type": "code",
   "execution_count": 153,
   "metadata": {},
   "outputs": [
    {
     "name": "stdout",
     "output_type": "stream",
     "text": [
      "count    21525.000000\n",
      "mean        43.293380\n",
      "std         12.574584\n",
      "min          0.000000\n",
      "25%         33.000000\n",
      "50%         42.000000\n",
      "75%         53.000000\n",
      "max         75.000000\n",
      "Name: dob_years, dtype: float64\n",
      "\n",
      "Клиенты с указанным возрастом меньше 18 лет\n"
     ]
    },
    {
     "data": {
      "text/plain": [
       "0    101\n",
       "Name: dob_years, dtype: int64"
      ]
     },
     "execution_count": 153,
     "metadata": {},
     "output_type": "execute_result"
    }
   ],
   "source": [
    "print(data['dob_years'].describe())\n",
    "print('\\nКлиенты с указанным возрастом меньше 18 лет')\n",
    "data[data['dob_years'] < 18]['dob_years'].value_counts() # клиенты с указанным возрастом меньше 18 лет."
   ]
  },
  {
   "cell_type": "markdown",
   "metadata": {},
   "source": [
    "Выявлен неявный пропуск, возраст 101 заёмщика равен 0. Необходимо запонить данные значения."
   ]
  },
  {
   "cell_type": "code",
   "execution_count": 154,
   "metadata": {},
   "outputs": [
    {
     "data": {
      "text/html": [
       "<div>\n",
       "<style scoped>\n",
       "    .dataframe tbody tr th:only-of-type {\n",
       "        vertical-align: middle;\n",
       "    }\n",
       "\n",
       "    .dataframe tbody tr th {\n",
       "        vertical-align: top;\n",
       "    }\n",
       "\n",
       "    .dataframe thead th {\n",
       "        text-align: right;\n",
       "    }\n",
       "</style>\n",
       "<table border=\"1\" class=\"dataframe\">\n",
       "  <thead>\n",
       "    <tr style=\"text-align: right;\">\n",
       "      <th></th>\n",
       "      <th>children</th>\n",
       "      <th>days_employed</th>\n",
       "      <th>dob_years</th>\n",
       "      <th>education</th>\n",
       "      <th>education_id</th>\n",
       "      <th>family_status</th>\n",
       "      <th>family_status_id</th>\n",
       "      <th>gender</th>\n",
       "      <th>income_type</th>\n",
       "      <th>debt</th>\n",
       "      <th>total_income</th>\n",
       "      <th>purpose</th>\n",
       "    </tr>\n",
       "  </thead>\n",
       "  <tbody>\n",
       "    <tr>\n",
       "      <td>10443</td>\n",
       "      <td>0</td>\n",
       "      <td>-768.902569</td>\n",
       "      <td>39.0</td>\n",
       "      <td>высшее</td>\n",
       "      <td>0</td>\n",
       "      <td>гражданский брак</td>\n",
       "      <td>1</td>\n",
       "      <td>M</td>\n",
       "      <td>сотрудник</td>\n",
       "      <td>1</td>\n",
       "      <td>177817.682654</td>\n",
       "      <td>на проведение свадьбы</td>\n",
       "    </tr>\n",
       "    <tr>\n",
       "      <td>861</td>\n",
       "      <td>1</td>\n",
       "      <td>-1304.662716</td>\n",
       "      <td>39.0</td>\n",
       "      <td>неоконченное высшее</td>\n",
       "      <td>2</td>\n",
       "      <td>женат / замужем</td>\n",
       "      <td>0</td>\n",
       "      <td>M</td>\n",
       "      <td>сотрудник</td>\n",
       "      <td>0</td>\n",
       "      <td>89553.530138</td>\n",
       "      <td>операции с жильем</td>\n",
       "    </tr>\n",
       "    <tr>\n",
       "      <td>9868</td>\n",
       "      <td>0</td>\n",
       "      <td>-4611.244402</td>\n",
       "      <td>39.0</td>\n",
       "      <td>среднее</td>\n",
       "      <td>1</td>\n",
       "      <td>женат / замужем</td>\n",
       "      <td>0</td>\n",
       "      <td>F</td>\n",
       "      <td>компаньон</td>\n",
       "      <td>0</td>\n",
       "      <td>283535.145353</td>\n",
       "      <td>операции со своей недвижимостью</td>\n",
       "    </tr>\n",
       "    <tr>\n",
       "      <td>7521</td>\n",
       "      <td>1</td>\n",
       "      <td>-1891.062856</td>\n",
       "      <td>39.0</td>\n",
       "      <td>высшее</td>\n",
       "      <td>0</td>\n",
       "      <td>женат / замужем</td>\n",
       "      <td>0</td>\n",
       "      <td>M</td>\n",
       "      <td>компаньон</td>\n",
       "      <td>0</td>\n",
       "      <td>218487.793621</td>\n",
       "      <td>покупка своего жилья</td>\n",
       "    </tr>\n",
       "    <tr>\n",
       "      <td>1815</td>\n",
       "      <td>1</td>\n",
       "      <td>-247.599668</td>\n",
       "      <td>39.0</td>\n",
       "      <td>среднее</td>\n",
       "      <td>1</td>\n",
       "      <td>гражданский брак</td>\n",
       "      <td>1</td>\n",
       "      <td>F</td>\n",
       "      <td>сотрудник</td>\n",
       "      <td>0</td>\n",
       "      <td>114077.518783</td>\n",
       "      <td>на проведение свадьбы</td>\n",
       "    </tr>\n",
       "    <tr>\n",
       "      <td>12161</td>\n",
       "      <td>3</td>\n",
       "      <td>-853.460285</td>\n",
       "      <td>39.0</td>\n",
       "      <td>высшее</td>\n",
       "      <td>0</td>\n",
       "      <td>женат / замужем</td>\n",
       "      <td>0</td>\n",
       "      <td>M</td>\n",
       "      <td>сотрудник</td>\n",
       "      <td>1</td>\n",
       "      <td>166571.732985</td>\n",
       "      <td>заняться образованием</td>\n",
       "    </tr>\n",
       "    <tr>\n",
       "      <td>4338</td>\n",
       "      <td>0</td>\n",
       "      <td>-1515.835530</td>\n",
       "      <td>39.0</td>\n",
       "      <td>среднее</td>\n",
       "      <td>1</td>\n",
       "      <td>женат / замужем</td>\n",
       "      <td>0</td>\n",
       "      <td>M</td>\n",
       "      <td>сотрудник</td>\n",
       "      <td>0</td>\n",
       "      <td>136818.115423</td>\n",
       "      <td>покупка своего жилья</td>\n",
       "    </tr>\n",
       "    <tr>\n",
       "      <td>9859</td>\n",
       "      <td>0</td>\n",
       "      <td>-5003.783985</td>\n",
       "      <td>39.0</td>\n",
       "      <td>среднее</td>\n",
       "      <td>1</td>\n",
       "      <td>женат / замужем</td>\n",
       "      <td>0</td>\n",
       "      <td>F</td>\n",
       "      <td>сотрудник</td>\n",
       "      <td>0</td>\n",
       "      <td>393814.674506</td>\n",
       "      <td>образование</td>\n",
       "    </tr>\n",
       "    <tr>\n",
       "      <td>6077</td>\n",
       "      <td>1</td>\n",
       "      <td>-1547.382223</td>\n",
       "      <td>39.0</td>\n",
       "      <td>высшее</td>\n",
       "      <td>0</td>\n",
       "      <td>женат / замужем</td>\n",
       "      <td>0</td>\n",
       "      <td>F</td>\n",
       "      <td>компаньон</td>\n",
       "      <td>0</td>\n",
       "      <td>172357.950966</td>\n",
       "      <td>получение высшего образования</td>\n",
       "    </tr>\n",
       "    <tr>\n",
       "      <td>7861</td>\n",
       "      <td>0</td>\n",
       "      <td>371118.132244</td>\n",
       "      <td>60.0</td>\n",
       "      <td>среднее</td>\n",
       "      <td>1</td>\n",
       "      <td>гражданский брак</td>\n",
       "      <td>1</td>\n",
       "      <td>F</td>\n",
       "      <td>пенсионер</td>\n",
       "      <td>0</td>\n",
       "      <td>74472.707322</td>\n",
       "      <td>на проведение свадьбы</td>\n",
       "    </tr>\n",
       "    <tr>\n",
       "      <td>544</td>\n",
       "      <td>0</td>\n",
       "      <td>371394.968879</td>\n",
       "      <td>60.0</td>\n",
       "      <td>высшее</td>\n",
       "      <td>0</td>\n",
       "      <td>не женат / не замужем</td>\n",
       "      <td>4</td>\n",
       "      <td>F</td>\n",
       "      <td>пенсионер</td>\n",
       "      <td>0</td>\n",
       "      <td>98230.308732</td>\n",
       "      <td>образование</td>\n",
       "    </tr>\n",
       "    <tr>\n",
       "      <td>17670</td>\n",
       "      <td>0</td>\n",
       "      <td>-257.622390</td>\n",
       "      <td>39.0</td>\n",
       "      <td>среднее</td>\n",
       "      <td>1</td>\n",
       "      <td>женат / замужем</td>\n",
       "      <td>0</td>\n",
       "      <td>M</td>\n",
       "      <td>сотрудник</td>\n",
       "      <td>0</td>\n",
       "      <td>199519.427767</td>\n",
       "      <td>операции со своей недвижимостью</td>\n",
       "    </tr>\n",
       "    <tr>\n",
       "      <td>15570</td>\n",
       "      <td>0</td>\n",
       "      <td>346825.375081</td>\n",
       "      <td>60.0</td>\n",
       "      <td>среднее</td>\n",
       "      <td>1</td>\n",
       "      <td>женат / замужем</td>\n",
       "      <td>0</td>\n",
       "      <td>F</td>\n",
       "      <td>пенсионер</td>\n",
       "      <td>0</td>\n",
       "      <td>133412.900442</td>\n",
       "      <td>покупка жилья для сдачи</td>\n",
       "    </tr>\n",
       "    <tr>\n",
       "      <td>7127</td>\n",
       "      <td>3</td>\n",
       "      <td>-629.666697</td>\n",
       "      <td>39.0</td>\n",
       "      <td>среднее</td>\n",
       "      <td>1</td>\n",
       "      <td>женат / замужем</td>\n",
       "      <td>0</td>\n",
       "      <td>F</td>\n",
       "      <td>сотрудник</td>\n",
       "      <td>0</td>\n",
       "      <td>207282.756970</td>\n",
       "      <td>недвижимость</td>\n",
       "    </tr>\n",
       "    <tr>\n",
       "      <td>11785</td>\n",
       "      <td>0</td>\n",
       "      <td>396436.308633</td>\n",
       "      <td>60.0</td>\n",
       "      <td>среднее</td>\n",
       "      <td>1</td>\n",
       "      <td>женат / замужем</td>\n",
       "      <td>0</td>\n",
       "      <td>M</td>\n",
       "      <td>пенсионер</td>\n",
       "      <td>0</td>\n",
       "      <td>191547.364437</td>\n",
       "      <td>сделка с автомобилем</td>\n",
       "    </tr>\n",
       "    <tr>\n",
       "      <td>8588</td>\n",
       "      <td>0</td>\n",
       "      <td>-5720.669953</td>\n",
       "      <td>39.0</td>\n",
       "      <td>среднее</td>\n",
       "      <td>1</td>\n",
       "      <td>гражданский брак</td>\n",
       "      <td>1</td>\n",
       "      <td>F</td>\n",
       "      <td>компаньон</td>\n",
       "      <td>1</td>\n",
       "      <td>198618.618224</td>\n",
       "      <td>сыграть свадьбу</td>\n",
       "    </tr>\n",
       "    <tr>\n",
       "      <td>20973</td>\n",
       "      <td>0</td>\n",
       "      <td>-130.663143</td>\n",
       "      <td>39.0</td>\n",
       "      <td>среднее</td>\n",
       "      <td>1</td>\n",
       "      <td>женат / замужем</td>\n",
       "      <td>0</td>\n",
       "      <td>F</td>\n",
       "      <td>компаньон</td>\n",
       "      <td>0</td>\n",
       "      <td>177934.316368</td>\n",
       "      <td>строительство недвижимости</td>\n",
       "    </tr>\n",
       "    <tr>\n",
       "      <td>3909</td>\n",
       "      <td>0</td>\n",
       "      <td>-2046.513914</td>\n",
       "      <td>39.0</td>\n",
       "      <td>среднее</td>\n",
       "      <td>1</td>\n",
       "      <td>женат / замужем</td>\n",
       "      <td>0</td>\n",
       "      <td>F</td>\n",
       "      <td>компаньон</td>\n",
       "      <td>0</td>\n",
       "      <td>197221.940857</td>\n",
       "      <td>приобретение автомобиля</td>\n",
       "    </tr>\n",
       "    <tr>\n",
       "      <td>18933</td>\n",
       "      <td>0</td>\n",
       "      <td>-1059.227094</td>\n",
       "      <td>39.0</td>\n",
       "      <td>среднее</td>\n",
       "      <td>1</td>\n",
       "      <td>не женат / не замужем</td>\n",
       "      <td>4</td>\n",
       "      <td>F</td>\n",
       "      <td>сотрудник</td>\n",
       "      <td>0</td>\n",
       "      <td>83808.780805</td>\n",
       "      <td>получение образования</td>\n",
       "    </tr>\n",
       "    <tr>\n",
       "      <td>3190</td>\n",
       "      <td>4</td>\n",
       "      <td>-1574.202821</td>\n",
       "      <td>39.0</td>\n",
       "      <td>среднее</td>\n",
       "      <td>1</td>\n",
       "      <td>женат / замужем</td>\n",
       "      <td>0</td>\n",
       "      <td>F</td>\n",
       "      <td>сотрудник</td>\n",
       "      <td>0</td>\n",
       "      <td>142594.396847</td>\n",
       "      <td>получение дополнительного образования</td>\n",
       "    </tr>\n",
       "  </tbody>\n",
       "</table>\n",
       "</div>"
      ],
      "text/plain": [
       "       children  days_employed  dob_years            education  education_id  \\\n",
       "10443         0    -768.902569       39.0               высшее             0   \n",
       "861           1   -1304.662716       39.0  неоконченное высшее             2   \n",
       "9868          0   -4611.244402       39.0              среднее             1   \n",
       "7521          1   -1891.062856       39.0               высшее             0   \n",
       "1815          1    -247.599668       39.0              среднее             1   \n",
       "12161         3    -853.460285       39.0               высшее             0   \n",
       "4338          0   -1515.835530       39.0              среднее             1   \n",
       "9859          0   -5003.783985       39.0              среднее             1   \n",
       "6077          1   -1547.382223       39.0               высшее             0   \n",
       "7861          0  371118.132244       60.0              среднее             1   \n",
       "544           0  371394.968879       60.0               высшее             0   \n",
       "17670         0    -257.622390       39.0              среднее             1   \n",
       "15570         0  346825.375081       60.0              среднее             1   \n",
       "7127          3    -629.666697       39.0              среднее             1   \n",
       "11785         0  396436.308633       60.0              среднее             1   \n",
       "8588          0   -5720.669953       39.0              среднее             1   \n",
       "20973         0    -130.663143       39.0              среднее             1   \n",
       "3909          0   -2046.513914       39.0              среднее             1   \n",
       "18933         0   -1059.227094       39.0              среднее             1   \n",
       "3190          4   -1574.202821       39.0              среднее             1   \n",
       "\n",
       "               family_status  family_status_id gender income_type  debt  \\\n",
       "10443       гражданский брак                 1      M   сотрудник     1   \n",
       "861          женат / замужем                 0      M   сотрудник     0   \n",
       "9868         женат / замужем                 0      F   компаньон     0   \n",
       "7521         женат / замужем                 0      M   компаньон     0   \n",
       "1815        гражданский брак                 1      F   сотрудник     0   \n",
       "12161        женат / замужем                 0      M   сотрудник     1   \n",
       "4338         женат / замужем                 0      M   сотрудник     0   \n",
       "9859         женат / замужем                 0      F   сотрудник     0   \n",
       "6077         женат / замужем                 0      F   компаньон     0   \n",
       "7861        гражданский брак                 1      F   пенсионер     0   \n",
       "544    не женат / не замужем                 4      F   пенсионер     0   \n",
       "17670        женат / замужем                 0      M   сотрудник     0   \n",
       "15570        женат / замужем                 0      F   пенсионер     0   \n",
       "7127         женат / замужем                 0      F   сотрудник     0   \n",
       "11785        женат / замужем                 0      M   пенсионер     0   \n",
       "8588        гражданский брак                 1      F   компаньон     1   \n",
       "20973        женат / замужем                 0      F   компаньон     0   \n",
       "3909         женат / замужем                 0      F   компаньон     0   \n",
       "18933  не женат / не замужем                 4      F   сотрудник     0   \n",
       "3190         женат / замужем                 0      F   сотрудник     0   \n",
       "\n",
       "        total_income                                purpose  \n",
       "10443  177817.682654                  на проведение свадьбы  \n",
       "861     89553.530138                      операции с жильем  \n",
       "9868   283535.145353        операции со своей недвижимостью  \n",
       "7521   218487.793621                   покупка своего жилья  \n",
       "1815   114077.518783                  на проведение свадьбы  \n",
       "12161  166571.732985                  заняться образованием  \n",
       "4338   136818.115423                   покупка своего жилья  \n",
       "9859   393814.674506                            образование  \n",
       "6077   172357.950966          получение высшего образования  \n",
       "7861    74472.707322                  на проведение свадьбы  \n",
       "544     98230.308732                            образование  \n",
       "17670  199519.427767        операции со своей недвижимостью  \n",
       "15570  133412.900442                покупка жилья для сдачи  \n",
       "7127   207282.756970                           недвижимость  \n",
       "11785  191547.364437                   сделка с автомобилем  \n",
       "8588   198618.618224                        сыграть свадьбу  \n",
       "20973  177934.316368             строительство недвижимости  \n",
       "3909   197221.940857                приобретение автомобиля  \n",
       "18933   83808.780805                  получение образования  \n",
       "3190   142594.396847  получение дополнительного образования  "
      ]
     },
     "execution_count": 154,
     "metadata": {},
     "output_type": "execute_result"
    }
   ],
   "source": [
    "data['dob_years'] = data.groupby('income_type')['dob_years'].transform('median')\n",
    "data[data['dob_years'] == 0]\n",
    "data.sample(20)"
   ]
  },
  {
   "cell_type": "code",
   "execution_count": 155,
   "metadata": {
    "scrolled": false
   },
   "outputs": [
    {
     "data": {
      "text/plain": [
       " 0     14149\n",
       " 1      4818\n",
       " 2      2055\n",
       " 3       330\n",
       " 20       76\n",
       "-1        47\n",
       " 4        41\n",
       " 5         9\n",
       "Name: children, dtype: int64"
      ]
     },
     "execution_count": 155,
     "metadata": {},
     "output_type": "execute_result"
    }
   ],
   "source": [
    "data['children'].value_counts()"
   ]
  },
  {
   "cell_type": "markdown",
   "metadata": {},
   "source": [
    "47 клиентов имеют отрицательное количество детей, скорее всего это опечатка. Возьмем абсолютное значение.\n",
    "Значение 20 оставим без изменений, вдруг у семьи не только свои, но и приёмные дети."
   ]
  },
  {
   "cell_type": "code",
   "execution_count": 156,
   "metadata": {
    "scrolled": true
   },
   "outputs": [
    {
     "data": {
      "text/plain": [
       "0     14149\n",
       "1      4865\n",
       "2      2055\n",
       "3       330\n",
       "20       76\n",
       "4        41\n",
       "5         9\n",
       "Name: children, dtype: int64"
      ]
     },
     "execution_count": 156,
     "metadata": {},
     "output_type": "execute_result"
    }
   ],
   "source": [
    "data.loc[data['children'] == -1,'children'] = abs(data.loc[data['children'] == -1,'children'])\n",
    "data['children'].value_counts()"
   ]
  },
  {
   "cell_type": "markdown",
   "metadata": {},
   "source": [
    "**Вывод**"
   ]
  },
  {
   "cell_type": "markdown",
   "metadata": {},
   "source": [
    "В столбцах days_employed - общий трудовой стаж в днях, total_income - ежемесячный доход - 2174 пропуска в каждом. Это 10% значений, пренебрегать этими данными не можем, поэтому запоним пропуски, медианными значениями от категории клиентов.\n",
    "\n",
    "Отсутствующие данные по общему трудовому стажу и ежемесячному доходу имеют значия типа NaN. Данные в столбцах могут отсутствовать у клиентов, если заемная сумма позволяет взять кредит без этих данных. При сортировке отсутствующих данных по типу занятости можно выделить: сотрудник, компаньон, пенсионер, госслужащий. По сотрудникам и компаньонам, у банка скорее всего данные находятся в другой базе и при необходимости таблицы можно смержить. Пенсионеры и госслужащие получают бюджетные денежные средства, поэтому эти данные при желании можно получить у ФСС.\n",
    "\n",
    "Для исключения одинаковых строк с разным регистром, приведём таблицу к нижнему регистру.\n",
    "\n",
    "Возраст некоторых участников = 0, заполним так же медианными значениями, с поправкой на тип занятости."
   ]
  },
  {
   "cell_type": "markdown",
   "metadata": {},
   "source": [
    "### Замена типа данных"
   ]
  },
  {
   "cell_type": "markdown",
   "metadata": {},
   "source": [
    "Для последующего анализа приведем столбцы days_employed - общий трудовой стаж и total_income доход к целочисленному типу."
   ]
  },
  {
   "cell_type": "code",
   "execution_count": 157,
   "metadata": {},
   "outputs": [
    {
     "data": {
      "text/plain": [
       "0"
      ]
     },
     "execution_count": 157,
     "metadata": {},
     "output_type": "execute_result"
    }
   ],
   "source": [
    "data['days_employed'].isnull().sum()"
   ]
  },
  {
   "cell_type": "code",
   "execution_count": 158,
   "metadata": {},
   "outputs": [
    {
     "data": {
      "text/html": [
       "<div>\n",
       "<style scoped>\n",
       "    .dataframe tbody tr th:only-of-type {\n",
       "        vertical-align: middle;\n",
       "    }\n",
       "\n",
       "    .dataframe tbody tr th {\n",
       "        vertical-align: top;\n",
       "    }\n",
       "\n",
       "    .dataframe thead th {\n",
       "        text-align: right;\n",
       "    }\n",
       "</style>\n",
       "<table border=\"1\" class=\"dataframe\">\n",
       "  <thead>\n",
       "    <tr style=\"text-align: right;\">\n",
       "      <th></th>\n",
       "      <th>children</th>\n",
       "      <th>days_employed</th>\n",
       "      <th>dob_years</th>\n",
       "      <th>education</th>\n",
       "      <th>education_id</th>\n",
       "      <th>family_status</th>\n",
       "      <th>family_status_id</th>\n",
       "      <th>gender</th>\n",
       "      <th>income_type</th>\n",
       "      <th>debt</th>\n",
       "      <th>total_income</th>\n",
       "      <th>purpose</th>\n",
       "    </tr>\n",
       "  </thead>\n",
       "  <tbody>\n",
       "    <tr>\n",
       "      <td>0</td>\n",
       "      <td>1</td>\n",
       "      <td>-8437</td>\n",
       "      <td>39.0</td>\n",
       "      <td>высшее</td>\n",
       "      <td>0</td>\n",
       "      <td>женат / замужем</td>\n",
       "      <td>0</td>\n",
       "      <td>F</td>\n",
       "      <td>сотрудник</td>\n",
       "      <td>0</td>\n",
       "      <td>253875</td>\n",
       "      <td>покупка жилья</td>\n",
       "    </tr>\n",
       "    <tr>\n",
       "      <td>1</td>\n",
       "      <td>1</td>\n",
       "      <td>-4024</td>\n",
       "      <td>39.0</td>\n",
       "      <td>среднее</td>\n",
       "      <td>1</td>\n",
       "      <td>женат / замужем</td>\n",
       "      <td>0</td>\n",
       "      <td>F</td>\n",
       "      <td>сотрудник</td>\n",
       "      <td>0</td>\n",
       "      <td>112080</td>\n",
       "      <td>приобретение автомобиля</td>\n",
       "    </tr>\n",
       "    <tr>\n",
       "      <td>2</td>\n",
       "      <td>0</td>\n",
       "      <td>-5623</td>\n",
       "      <td>39.0</td>\n",
       "      <td>среднее</td>\n",
       "      <td>1</td>\n",
       "      <td>женат / замужем</td>\n",
       "      <td>0</td>\n",
       "      <td>M</td>\n",
       "      <td>сотрудник</td>\n",
       "      <td>0</td>\n",
       "      <td>145885</td>\n",
       "      <td>покупка жилья</td>\n",
       "    </tr>\n",
       "    <tr>\n",
       "      <td>3</td>\n",
       "      <td>3</td>\n",
       "      <td>-4124</td>\n",
       "      <td>39.0</td>\n",
       "      <td>среднее</td>\n",
       "      <td>1</td>\n",
       "      <td>женат / замужем</td>\n",
       "      <td>0</td>\n",
       "      <td>M</td>\n",
       "      <td>сотрудник</td>\n",
       "      <td>0</td>\n",
       "      <td>267628</td>\n",
       "      <td>дополнительное образование</td>\n",
       "    </tr>\n",
       "    <tr>\n",
       "      <td>4</td>\n",
       "      <td>0</td>\n",
       "      <td>340266</td>\n",
       "      <td>60.0</td>\n",
       "      <td>среднее</td>\n",
       "      <td>1</td>\n",
       "      <td>гражданский брак</td>\n",
       "      <td>1</td>\n",
       "      <td>F</td>\n",
       "      <td>пенсионер</td>\n",
       "      <td>0</td>\n",
       "      <td>158616</td>\n",
       "      <td>сыграть свадьбу</td>\n",
       "    </tr>\n",
       "  </tbody>\n",
       "</table>\n",
       "</div>"
      ],
      "text/plain": [
       "   children  days_employed  dob_years education  education_id  \\\n",
       "0         1          -8437       39.0    высшее             0   \n",
       "1         1          -4024       39.0   среднее             1   \n",
       "2         0          -5623       39.0   среднее             1   \n",
       "3         3          -4124       39.0   среднее             1   \n",
       "4         0         340266       60.0   среднее             1   \n",
       "\n",
       "      family_status  family_status_id gender income_type  debt  total_income  \\\n",
       "0   женат / замужем                 0      F   сотрудник     0        253875   \n",
       "1   женат / замужем                 0      F   сотрудник     0        112080   \n",
       "2   женат / замужем                 0      M   сотрудник     0        145885   \n",
       "3   женат / замужем                 0      M   сотрудник     0        267628   \n",
       "4  гражданский брак                 1      F   пенсионер     0        158616   \n",
       "\n",
       "                      purpose  \n",
       "0               покупка жилья  \n",
       "1     приобретение автомобиля  \n",
       "2               покупка жилья  \n",
       "3  дополнительное образование  \n",
       "4             сыграть свадьбу  "
      ]
     },
     "execution_count": 158,
     "metadata": {},
     "output_type": "execute_result"
    }
   ],
   "source": [
    "data['days_employed'] = data['days_employed'].astype('int')\n",
    "data['total_income'] = data['total_income'].astype('int')\n",
    "data.head()"
   ]
  },
  {
   "cell_type": "markdown",
   "metadata": {},
   "source": [
    "### Обработка дубликатов"
   ]
  },
  {
   "cell_type": "code",
   "execution_count": 159,
   "metadata": {},
   "outputs": [
    {
     "name": "stdout",
     "output_type": "stream",
     "text": [
      "Количество полных дубликатов = 768 / 0.04\n",
      "<class 'pandas.core.frame.DataFrame'>\n",
      "RangeIndex: 21525 entries, 0 to 21524\n",
      "Data columns (total 12 columns):\n",
      "children            21525 non-null int64\n",
      "days_employed       21525 non-null int64\n",
      "dob_years           21525 non-null float64\n",
      "education           21525 non-null object\n",
      "education_id        21525 non-null int64\n",
      "family_status       21525 non-null object\n",
      "family_status_id    21525 non-null int64\n",
      "gender              21525 non-null object\n",
      "income_type         21525 non-null object\n",
      "debt                21525 non-null int64\n",
      "total_income        21525 non-null int64\n",
      "purpose             21525 non-null object\n",
      "dtypes: float64(1), int64(6), object(5)\n",
      "memory usage: 2.0+ MB\n",
      "None\n",
      "\n",
      "<class 'pandas.core.frame.DataFrame'>\n",
      "RangeIndex: 20757 entries, 0 to 20756\n",
      "Data columns (total 12 columns):\n",
      "children            20757 non-null int64\n",
      "days_employed       20757 non-null int64\n",
      "dob_years           20757 non-null float64\n",
      "education           20757 non-null object\n",
      "education_id        20757 non-null int64\n",
      "family_status       20757 non-null object\n",
      "family_status_id    20757 non-null int64\n",
      "gender              20757 non-null object\n",
      "income_type         20757 non-null object\n",
      "debt                20757 non-null int64\n",
      "total_income        20757 non-null int64\n",
      "purpose             20757 non-null object\n",
      "dtypes: float64(1), int64(6), object(5)\n",
      "memory usage: 1.9+ MB\n",
      "None\n"
     ]
    }
   ],
   "source": [
    "print('Количество полных дубликатов =', data.duplicated().sum(),'/',(data.duplicated().sum()/data.shape[0]).round(2))\n",
    "print(data.info())\n",
    "data = data.drop_duplicates().reset_index(drop=True)\n",
    "print()\n",
    "print(data.info())"
   ]
  },
  {
   "cell_type": "markdown",
   "metadata": {},
   "source": [
    "Вывод"
   ]
  },
  {
   "cell_type": "markdown",
   "metadata": {},
   "source": [
    "Обнаружено 768 полных дубликата, 4% от начального объема. Дубликаты есть в самых численных категориях: сотрудник, компаньон, пенсионер, госслужащий. Появление дубликатов возможно при слиянии таблиц, когда одни и те же люди находятся под разными ID. Возможно это созаемщики, которых записали с параметрами заемщика."
   ]
  },
  {
   "cell_type": "markdown",
   "metadata": {},
   "source": [
    "### Лемматизация"
   ]
  },
  {
   "cell_type": "code",
   "execution_count": 160,
   "metadata": {},
   "outputs": [
    {
     "data": {
      "text/html": [
       "<div>\n",
       "<style scoped>\n",
       "    .dataframe tbody tr th:only-of-type {\n",
       "        vertical-align: middle;\n",
       "    }\n",
       "\n",
       "    .dataframe tbody tr th {\n",
       "        vertical-align: top;\n",
       "    }\n",
       "\n",
       "    .dataframe thead th {\n",
       "        text-align: right;\n",
       "    }\n",
       "</style>\n",
       "<table border=\"1\" class=\"dataframe\">\n",
       "  <thead>\n",
       "    <tr style=\"text-align: right;\">\n",
       "      <th></th>\n",
       "      <th>children</th>\n",
       "      <th>days_employed</th>\n",
       "      <th>dob_years</th>\n",
       "      <th>education</th>\n",
       "      <th>education_id</th>\n",
       "      <th>family_status</th>\n",
       "      <th>family_status_id</th>\n",
       "      <th>gender</th>\n",
       "      <th>income_type</th>\n",
       "      <th>debt</th>\n",
       "      <th>total_income</th>\n",
       "      <th>purpose</th>\n",
       "      <th>purpose_group</th>\n",
       "    </tr>\n",
       "  </thead>\n",
       "  <tbody>\n",
       "    <tr>\n",
       "      <td>0</td>\n",
       "      <td>1</td>\n",
       "      <td>-8437</td>\n",
       "      <td>39.0</td>\n",
       "      <td>высшее</td>\n",
       "      <td>0</td>\n",
       "      <td>женат / замужем</td>\n",
       "      <td>0</td>\n",
       "      <td>F</td>\n",
       "      <td>сотрудник</td>\n",
       "      <td>0</td>\n",
       "      <td>253875</td>\n",
       "      <td>покупка жилья</td>\n",
       "      <td>недвижимость</td>\n",
       "    </tr>\n",
       "    <tr>\n",
       "      <td>1</td>\n",
       "      <td>1</td>\n",
       "      <td>-4024</td>\n",
       "      <td>39.0</td>\n",
       "      <td>среднее</td>\n",
       "      <td>1</td>\n",
       "      <td>женат / замужем</td>\n",
       "      <td>0</td>\n",
       "      <td>F</td>\n",
       "      <td>сотрудник</td>\n",
       "      <td>0</td>\n",
       "      <td>112080</td>\n",
       "      <td>приобретение автомобиля</td>\n",
       "      <td>автомобиль</td>\n",
       "    </tr>\n",
       "    <tr>\n",
       "      <td>2</td>\n",
       "      <td>0</td>\n",
       "      <td>-5623</td>\n",
       "      <td>39.0</td>\n",
       "      <td>среднее</td>\n",
       "      <td>1</td>\n",
       "      <td>женат / замужем</td>\n",
       "      <td>0</td>\n",
       "      <td>M</td>\n",
       "      <td>сотрудник</td>\n",
       "      <td>0</td>\n",
       "      <td>145885</td>\n",
       "      <td>покупка жилья</td>\n",
       "      <td>недвижимость</td>\n",
       "    </tr>\n",
       "    <tr>\n",
       "      <td>3</td>\n",
       "      <td>3</td>\n",
       "      <td>-4124</td>\n",
       "      <td>39.0</td>\n",
       "      <td>среднее</td>\n",
       "      <td>1</td>\n",
       "      <td>женат / замужем</td>\n",
       "      <td>0</td>\n",
       "      <td>M</td>\n",
       "      <td>сотрудник</td>\n",
       "      <td>0</td>\n",
       "      <td>267628</td>\n",
       "      <td>дополнительное образование</td>\n",
       "      <td>образование</td>\n",
       "    </tr>\n",
       "    <tr>\n",
       "      <td>4</td>\n",
       "      <td>0</td>\n",
       "      <td>340266</td>\n",
       "      <td>60.0</td>\n",
       "      <td>среднее</td>\n",
       "      <td>1</td>\n",
       "      <td>гражданский брак</td>\n",
       "      <td>1</td>\n",
       "      <td>F</td>\n",
       "      <td>пенсионер</td>\n",
       "      <td>0</td>\n",
       "      <td>158616</td>\n",
       "      <td>сыграть свадьбу</td>\n",
       "      <td>свадьба</td>\n",
       "    </tr>\n",
       "  </tbody>\n",
       "</table>\n",
       "</div>"
      ],
      "text/plain": [
       "   children  days_employed  dob_years education  education_id  \\\n",
       "0         1          -8437       39.0    высшее             0   \n",
       "1         1          -4024       39.0   среднее             1   \n",
       "2         0          -5623       39.0   среднее             1   \n",
       "3         3          -4124       39.0   среднее             1   \n",
       "4         0         340266       60.0   среднее             1   \n",
       "\n",
       "      family_status  family_status_id gender income_type  debt  total_income  \\\n",
       "0   женат / замужем                 0      F   сотрудник     0        253875   \n",
       "1   женат / замужем                 0      F   сотрудник     0        112080   \n",
       "2   женат / замужем                 0      M   сотрудник     0        145885   \n",
       "3   женат / замужем                 0      M   сотрудник     0        267628   \n",
       "4  гражданский брак                 1      F   пенсионер     0        158616   \n",
       "\n",
       "                      purpose purpose_group  \n",
       "0               покупка жилья  недвижимость  \n",
       "1     приобретение автомобиля    автомобиль  \n",
       "2               покупка жилья  недвижимость  \n",
       "3  дополнительное образование   образование  \n",
       "4             сыграть свадьбу       свадьба  "
      ]
     },
     "execution_count": 160,
     "metadata": {},
     "output_type": "execute_result"
    }
   ],
   "source": [
    "lemas = []\n",
    "data['purpose'].unique() # посмотрим какие уникальные значения имеются в столбце purpose\n",
    "for text in data['purpose'].unique():\n",
    "    lemas += m.lemmatize(text)\n",
    "    \n",
    "Counter(lemas) #относительно уникальных значений посмотрим как часто встречаются те или иные леммы\n",
    "\n",
    "\n",
    " \n",
    "# на основе лемм найденных выше создадим словарь с типизированными целями\n",
    "dict = {\n",
    "    'образование':'образование', 'автомобиль':'автомобиль',\n",
    "    'недвижимость':'недвижимость', 'образование':'образование',\n",
    "    'свадьба':'свадьба', 'жилье':'недвижимость'\n",
    "}\n",
    "\n",
    "def func(row): # функция возвращающая подходящую типизированную цель исходя из значений лемм в столбце purpose\n",
    "    for query in m.lemmatize(row['purpose']):\n",
    "        if query in dict:\n",
    "             return dict[query]\n",
    "\n",
    "data['purpose_group'] = data.apply(func, axis=1) # создаём новый столбец типизированных целей кредита\n",
    "\n",
    "\n",
    "data.head()"
   ]
  },
  {
   "cell_type": "markdown",
   "metadata": {},
   "source": [
    "**Вывод**"
   ]
  },
  {
   "cell_type": "markdown",
   "metadata": {},
   "source": [
    "Проведём лемматизацию по столбцу целей кредита \"purpose\", выделим 5 основных категорий, для удобства категоризации данных, создадим с ними словарь. Создадим новый столбец, чтобы не изменять основной структуры таблицы. Выделим следующие целевые типы: образование, автомобиль, недвижимость, образование, свадьба."
   ]
  },
  {
   "cell_type": "markdown",
   "metadata": {},
   "source": [
    "### Категоризация данных"
   ]
  },
  {
   "cell_type": "code",
   "execution_count": 161,
   "metadata": {},
   "outputs": [
    {
     "data": {
      "text/html": [
       "<div>\n",
       "<style scoped>\n",
       "    .dataframe tbody tr th:only-of-type {\n",
       "        vertical-align: middle;\n",
       "    }\n",
       "\n",
       "    .dataframe tbody tr th {\n",
       "        vertical-align: top;\n",
       "    }\n",
       "\n",
       "    .dataframe thead th {\n",
       "        text-align: right;\n",
       "    }\n",
       "</style>\n",
       "<table border=\"1\" class=\"dataframe\">\n",
       "  <thead>\n",
       "    <tr style=\"text-align: right;\">\n",
       "      <th></th>\n",
       "      <th>children</th>\n",
       "      <th>days_employed</th>\n",
       "      <th>dob_years</th>\n",
       "      <th>education</th>\n",
       "      <th>education_id</th>\n",
       "      <th>family_status</th>\n",
       "      <th>family_status_id</th>\n",
       "      <th>gender</th>\n",
       "      <th>income_type</th>\n",
       "      <th>debt</th>\n",
       "      <th>total_income</th>\n",
       "      <th>purpose</th>\n",
       "      <th>purpose_group</th>\n",
       "      <th>dob_years_group</th>\n",
       "      <th>total_income_group</th>\n",
       "      <th>children_group</th>\n",
       "    </tr>\n",
       "  </thead>\n",
       "  <tbody>\n",
       "    <tr>\n",
       "      <td>0</td>\n",
       "      <td>1</td>\n",
       "      <td>-8437</td>\n",
       "      <td>39.0</td>\n",
       "      <td>высшее</td>\n",
       "      <td>0</td>\n",
       "      <td>женат / замужем</td>\n",
       "      <td>0</td>\n",
       "      <td>F</td>\n",
       "      <td>сотрудник</td>\n",
       "      <td>0</td>\n",
       "      <td>253875</td>\n",
       "      <td>покупка жилья</td>\n",
       "      <td>недвижимость</td>\n",
       "      <td>30-39</td>\n",
       "      <td>200-300</td>\n",
       "      <td>1 ребёнок</td>\n",
       "    </tr>\n",
       "    <tr>\n",
       "      <td>1</td>\n",
       "      <td>1</td>\n",
       "      <td>-4024</td>\n",
       "      <td>39.0</td>\n",
       "      <td>среднее</td>\n",
       "      <td>1</td>\n",
       "      <td>женат / замужем</td>\n",
       "      <td>0</td>\n",
       "      <td>F</td>\n",
       "      <td>сотрудник</td>\n",
       "      <td>0</td>\n",
       "      <td>112080</td>\n",
       "      <td>приобретение автомобиля</td>\n",
       "      <td>автомобиль</td>\n",
       "      <td>30-39</td>\n",
       "      <td>100-200</td>\n",
       "      <td>1 ребёнок</td>\n",
       "    </tr>\n",
       "    <tr>\n",
       "      <td>2</td>\n",
       "      <td>0</td>\n",
       "      <td>-5623</td>\n",
       "      <td>39.0</td>\n",
       "      <td>среднее</td>\n",
       "      <td>1</td>\n",
       "      <td>женат / замужем</td>\n",
       "      <td>0</td>\n",
       "      <td>M</td>\n",
       "      <td>сотрудник</td>\n",
       "      <td>0</td>\n",
       "      <td>145885</td>\n",
       "      <td>покупка жилья</td>\n",
       "      <td>недвижимость</td>\n",
       "      <td>30-39</td>\n",
       "      <td>100-200</td>\n",
       "      <td>0 детей</td>\n",
       "    </tr>\n",
       "    <tr>\n",
       "      <td>3</td>\n",
       "      <td>3</td>\n",
       "      <td>-4124</td>\n",
       "      <td>39.0</td>\n",
       "      <td>среднее</td>\n",
       "      <td>1</td>\n",
       "      <td>женат / замужем</td>\n",
       "      <td>0</td>\n",
       "      <td>M</td>\n",
       "      <td>сотрудник</td>\n",
       "      <td>0</td>\n",
       "      <td>267628</td>\n",
       "      <td>дополнительное образование</td>\n",
       "      <td>образование</td>\n",
       "      <td>30-39</td>\n",
       "      <td>200-300</td>\n",
       "      <td>3 и более детей</td>\n",
       "    </tr>\n",
       "    <tr>\n",
       "      <td>4</td>\n",
       "      <td>0</td>\n",
       "      <td>340266</td>\n",
       "      <td>60.0</td>\n",
       "      <td>среднее</td>\n",
       "      <td>1</td>\n",
       "      <td>гражданский брак</td>\n",
       "      <td>1</td>\n",
       "      <td>F</td>\n",
       "      <td>пенсионер</td>\n",
       "      <td>0</td>\n",
       "      <td>158616</td>\n",
       "      <td>сыграть свадьбу</td>\n",
       "      <td>свадьба</td>\n",
       "      <td>60+</td>\n",
       "      <td>100-200</td>\n",
       "      <td>0 детей</td>\n",
       "    </tr>\n",
       "  </tbody>\n",
       "</table>\n",
       "</div>"
      ],
      "text/plain": [
       "   children  days_employed  dob_years education  education_id  \\\n",
       "0         1          -8437       39.0    высшее             0   \n",
       "1         1          -4024       39.0   среднее             1   \n",
       "2         0          -5623       39.0   среднее             1   \n",
       "3         3          -4124       39.0   среднее             1   \n",
       "4         0         340266       60.0   среднее             1   \n",
       "\n",
       "      family_status  family_status_id gender income_type  debt  total_income  \\\n",
       "0   женат / замужем                 0      F   сотрудник     0        253875   \n",
       "1   женат / замужем                 0      F   сотрудник     0        112080   \n",
       "2   женат / замужем                 0      M   сотрудник     0        145885   \n",
       "3   женат / замужем                 0      M   сотрудник     0        267628   \n",
       "4  гражданский брак                 1      F   пенсионер     0        158616   \n",
       "\n",
       "                      purpose purpose_group dob_years_group  \\\n",
       "0               покупка жилья  недвижимость           30-39   \n",
       "1     приобретение автомобиля    автомобиль           30-39   \n",
       "2               покупка жилья  недвижимость           30-39   \n",
       "3  дополнительное образование   образование           30-39   \n",
       "4             сыграть свадьбу       свадьба             60+   \n",
       "\n",
       "  total_income_group   children_group  \n",
       "0            200-300        1 ребёнок  \n",
       "1            100-200        1 ребёнок  \n",
       "2            100-200          0 детей  \n",
       "3            200-300  3 и более детей  \n",
       "4            100-200          0 детей  "
      ]
     },
     "execution_count": 161,
     "metadata": {},
     "output_type": "execute_result"
    }
   ],
   "source": [
    "def dob_years_group (row):\n",
    "    if (row['dob_years'] >= 18) & (row['dob_years'] < 30): return '18-29'\n",
    "    elif (row['dob_years'] >= 30) & (row['dob_years'] < 40): return '30-39'\n",
    "    elif (row['dob_years'] >= 40) & (row['dob_years'] < 50): return '40-49'\n",
    "    elif (row['dob_years'] >= 50) & (row['dob_years'] < 60): return '50-59'\n",
    "    elif row['dob_years'] >= 60: return '60+'\n",
    "def total_income_group (row):\n",
    "    if row['total_income'] < 100000: return '-100'\n",
    "    elif (row['total_income'] >= 100000) & (row['total_income'] < 200000): return '100-200'\n",
    "    elif (row['total_income'] >= 200000) & (row['total_income'] < 300000): return '200-300'\n",
    "    elif row['total_income'] >= 300000: return '300+'\n",
    "    \n",
    "def children_group (row):\n",
    "    if row['children'] == 0: return '0 детей'\n",
    "    elif row['children'] == 1: return '1 ребёнок'\n",
    "    elif row['children'] == 2: return '2 ребёнка'\n",
    "    elif row['children'] >= 3: return '3 и более детей'\n",
    "    \n",
    "data['dob_years_group'] = data.apply(dob_years_group, axis=1)\n",
    "data['total_income_group'] = data.apply(total_income_group, axis=1)\n",
    "data['children_group'] = data.apply(children_group, axis=1)\n",
    "\n",
    "data.head()"
   ]
  },
  {
   "cell_type": "markdown",
   "metadata": {},
   "source": [
    "**Вывод**"
   ]
  },
  {
   "cell_type": "markdown",
   "metadata": {},
   "source": [
    "Категории по детям: (создадим отдельный столбец для обобщения)\n",
    "- нет детей;\n",
    "- 1 ребёнок;\n",
    "- 2 ребёнка;\n",
    "- 3 и более.\n",
    "\n",
    "Категории по возрасту: (создадим отдельный столбец для обобщения)\n",
    "- 18 - 30;\n",
    "- 30 - 40;\n",
    "- 40 - 50;\n",
    "- 50 - 60;\n",
    "- 60 и более.\n",
    "\n",
    "Заработок разобьем на группы: (создадим отдельный столбец для обобщения)\n",
    "- до 100 000 включительно;\n",
    "- от 100 000 до 200 000 включительно;\n",
    "- от 200 000 до 300 000 включительно;\n",
    "- от 300 000 и более."
   ]
  },
  {
   "cell_type": "markdown",
   "metadata": {},
   "source": [
    "## Шаг 3. Ответьте на вопросы"
   ]
  },
  {
   "cell_type": "markdown",
   "metadata": {},
   "source": [
    "- Есть ли зависимость между наличием детей и возвратом кредита в срок?"
   ]
  },
  {
   "cell_type": "code",
   "execution_count": 162,
   "metadata": {},
   "outputs": [
    {
     "data": {
      "text/html": [
       "<div>\n",
       "<style scoped>\n",
       "    .dataframe tbody tr th:only-of-type {\n",
       "        vertical-align: middle;\n",
       "    }\n",
       "\n",
       "    .dataframe tbody tr th {\n",
       "        vertical-align: top;\n",
       "    }\n",
       "\n",
       "    .dataframe thead th {\n",
       "        text-align: right;\n",
       "    }\n",
       "</style>\n",
       "<table border=\"1\" class=\"dataframe\">\n",
       "  <thead>\n",
       "    <tr style=\"text-align: right;\">\n",
       "      <th>debt</th>\n",
       "      <th>0</th>\n",
       "      <th>1</th>\n",
       "    </tr>\n",
       "    <tr>\n",
       "      <th>children_group</th>\n",
       "      <th></th>\n",
       "      <th></th>\n",
       "    </tr>\n",
       "  </thead>\n",
       "  <tbody>\n",
       "    <tr>\n",
       "      <td>0 детей</td>\n",
       "      <td>12500</td>\n",
       "      <td>1051</td>\n",
       "    </tr>\n",
       "    <tr>\n",
       "      <td>1 ребёнок</td>\n",
       "      <td>4293</td>\n",
       "      <td>444</td>\n",
       "    </tr>\n",
       "    <tr>\n",
       "      <td>2 ребёнка</td>\n",
       "      <td>1820</td>\n",
       "      <td>194</td>\n",
       "    </tr>\n",
       "    <tr>\n",
       "      <td>3 и более детей</td>\n",
       "      <td>416</td>\n",
       "      <td>39</td>\n",
       "    </tr>\n",
       "  </tbody>\n",
       "</table>\n",
       "</div>"
      ],
      "text/plain": [
       "debt                 0     1\n",
       "children_group              \n",
       "0 детей          12500  1051\n",
       "1 ребёнок         4293   444\n",
       "2 ребёнка         1820   194\n",
       "3 и более детей    416    39"
      ]
     },
     "execution_count": 162,
     "metadata": {},
     "output_type": "execute_result"
    }
   ],
   "source": [
    "pivot_children_debt = pd.pivot_table(data, index=['children_group'], columns='debt', values = 'purpose_group', aggfunc='count')\n",
    "pivot_children_debt"
   ]
  },
  {
   "cell_type": "code",
   "execution_count": 163,
   "metadata": {},
   "outputs": [],
   "source": [
    "pivot_children_debt['0%'] = round(pivot_children_debt[0] / (pivot_children_debt[0] + pivot_children_debt[1]) * 100)\n",
    "pivot_children_debt['1%'] = round(pivot_children_debt[1] / (pivot_children_debt[0] + pivot_children_debt[1]) * 100)"
   ]
  },
  {
   "cell_type": "code",
   "execution_count": 164,
   "metadata": {
    "scrolled": true
   },
   "outputs": [
    {
     "data": {
      "text/html": [
       "<div>\n",
       "<style scoped>\n",
       "    .dataframe tbody tr th:only-of-type {\n",
       "        vertical-align: middle;\n",
       "    }\n",
       "\n",
       "    .dataframe tbody tr th {\n",
       "        vertical-align: top;\n",
       "    }\n",
       "\n",
       "    .dataframe thead th {\n",
       "        text-align: right;\n",
       "    }\n",
       "</style>\n",
       "<table border=\"1\" class=\"dataframe\">\n",
       "  <thead>\n",
       "    <tr style=\"text-align: right;\">\n",
       "      <th></th>\n",
       "      <th>Return_count</th>\n",
       "      <th>UN_Return_count</th>\n",
       "      <th>Return_%</th>\n",
       "      <th>UN_Return_%</th>\n",
       "    </tr>\n",
       "    <tr>\n",
       "      <th>children_group</th>\n",
       "      <th></th>\n",
       "      <th></th>\n",
       "      <th></th>\n",
       "      <th></th>\n",
       "    </tr>\n",
       "  </thead>\n",
       "  <tbody>\n",
       "    <tr>\n",
       "      <td>0 детей</td>\n",
       "      <td>12500</td>\n",
       "      <td>1051</td>\n",
       "      <td>92</td>\n",
       "      <td>8</td>\n",
       "    </tr>\n",
       "    <tr>\n",
       "      <td>1 ребёнок</td>\n",
       "      <td>4293</td>\n",
       "      <td>444</td>\n",
       "      <td>91</td>\n",
       "      <td>9</td>\n",
       "    </tr>\n",
       "    <tr>\n",
       "      <td>2 ребёнка</td>\n",
       "      <td>1820</td>\n",
       "      <td>194</td>\n",
       "      <td>90</td>\n",
       "      <td>10</td>\n",
       "    </tr>\n",
       "    <tr>\n",
       "      <td>3 и более детей</td>\n",
       "      <td>416</td>\n",
       "      <td>39</td>\n",
       "      <td>91</td>\n",
       "      <td>9</td>\n",
       "    </tr>\n",
       "  </tbody>\n",
       "</table>\n",
       "</div>"
      ],
      "text/plain": [
       "                 Return_count  UN_Return_count  Return_%  UN_Return_%\n",
       "children_group                                                       \n",
       "0 детей                 12500             1051        92            8\n",
       "1 ребёнок                4293              444        91            9\n",
       "2 ребёнка                1820              194        90           10\n",
       "3 и более детей           416               39        91            9"
      ]
     },
     "execution_count": 164,
     "metadata": {},
     "output_type": "execute_result"
    }
   ],
   "source": [
    "pivot_children_debt = pivot_children_debt.astype('int')\n",
    "pivot_children_debt.set_axis(['Return_count', 'UN_Return_count', 'Return_%', 'UN_Return_%'], axis='columns', inplace=True)\n",
    "pivot_children_debt"
   ]
  },
  {
   "cell_type": "markdown",
   "metadata": {},
   "source": [
    "**Вывод**"
   ]
  },
  {
   "cell_type": "markdown",
   "metadata": {},
   "source": [
    "Приведём таблицу к целочисленному типу и переименуем столбцы для наглядности.\n",
    "\n",
    "Вывод: Заёмщики без детей справляются лучше всех. Заёмщики с детьми справляются хуже, вне зависимости от их количества.\n",
    "\n",
    "Возможно возврат по кредиту более выражено зависит от других параметров. Рассмотрим их."
   ]
  },
  {
   "cell_type": "markdown",
   "metadata": {},
   "source": [
    "- Есть ли зависимость между семейным положением и возвратом кредита в срок?"
   ]
  },
  {
   "cell_type": "code",
   "execution_count": 165,
   "metadata": {},
   "outputs": [
    {
     "data": {
      "text/html": [
       "<div>\n",
       "<style scoped>\n",
       "    .dataframe tbody tr th:only-of-type {\n",
       "        vertical-align: middle;\n",
       "    }\n",
       "\n",
       "    .dataframe tbody tr th {\n",
       "        vertical-align: top;\n",
       "    }\n",
       "\n",
       "    .dataframe thead th {\n",
       "        text-align: right;\n",
       "    }\n",
       "</style>\n",
       "<table border=\"1\" class=\"dataframe\">\n",
       "  <thead>\n",
       "    <tr style=\"text-align: right;\">\n",
       "      <th>debt</th>\n",
       "      <th>0</th>\n",
       "      <th>1</th>\n",
       "    </tr>\n",
       "    <tr>\n",
       "      <th>family_status</th>\n",
       "      <th></th>\n",
       "      <th></th>\n",
       "    </tr>\n",
       "  </thead>\n",
       "  <tbody>\n",
       "    <tr>\n",
       "      <td>в разводе</td>\n",
       "      <td>1097</td>\n",
       "      <td>85</td>\n",
       "    </tr>\n",
       "    <tr>\n",
       "      <td>вдовец / вдова</td>\n",
       "      <td>877</td>\n",
       "      <td>63</td>\n",
       "    </tr>\n",
       "    <tr>\n",
       "      <td>гражданский брак</td>\n",
       "      <td>3624</td>\n",
       "      <td>381</td>\n",
       "    </tr>\n",
       "    <tr>\n",
       "      <td>женат / замужем</td>\n",
       "      <td>10944</td>\n",
       "      <td>925</td>\n",
       "    </tr>\n",
       "    <tr>\n",
       "      <td>не женат / не замужем</td>\n",
       "      <td>2487</td>\n",
       "      <td>274</td>\n",
       "    </tr>\n",
       "  </tbody>\n",
       "</table>\n",
       "</div>"
      ],
      "text/plain": [
       "debt                       0    1\n",
       "family_status                    \n",
       "в разводе               1097   85\n",
       "вдовец / вдова           877   63\n",
       "гражданский брак        3624  381\n",
       "женат / замужем        10944  925\n",
       "не женат / не замужем   2487  274"
      ]
     },
     "execution_count": 165,
     "metadata": {},
     "output_type": "execute_result"
    }
   ],
   "source": [
    "pivot_family_debt = pd.pivot_table(data, index=['family_status'], columns='debt', values = 'purpose_group', aggfunc='count')\n",
    "pivot_family_debt"
   ]
  },
  {
   "cell_type": "code",
   "execution_count": 166,
   "metadata": {},
   "outputs": [
    {
     "data": {
      "text/html": [
       "<div>\n",
       "<style scoped>\n",
       "    .dataframe tbody tr th:only-of-type {\n",
       "        vertical-align: middle;\n",
       "    }\n",
       "\n",
       "    .dataframe tbody tr th {\n",
       "        vertical-align: top;\n",
       "    }\n",
       "\n",
       "    .dataframe thead th {\n",
       "        text-align: right;\n",
       "    }\n",
       "</style>\n",
       "<table border=\"1\" class=\"dataframe\">\n",
       "  <thead>\n",
       "    <tr style=\"text-align: right;\">\n",
       "      <th></th>\n",
       "      <th>Return_count</th>\n",
       "      <th>UN_Return_count</th>\n",
       "      <th>Return_%</th>\n",
       "      <th>UN_Return_%</th>\n",
       "    </tr>\n",
       "    <tr>\n",
       "      <th>family_status</th>\n",
       "      <th></th>\n",
       "      <th></th>\n",
       "      <th></th>\n",
       "      <th></th>\n",
       "    </tr>\n",
       "  </thead>\n",
       "  <tbody>\n",
       "    <tr>\n",
       "      <td>в разводе</td>\n",
       "      <td>1097</td>\n",
       "      <td>85</td>\n",
       "      <td>93</td>\n",
       "      <td>7</td>\n",
       "    </tr>\n",
       "    <tr>\n",
       "      <td>вдовец / вдова</td>\n",
       "      <td>877</td>\n",
       "      <td>63</td>\n",
       "      <td>93</td>\n",
       "      <td>7</td>\n",
       "    </tr>\n",
       "    <tr>\n",
       "      <td>гражданский брак</td>\n",
       "      <td>3624</td>\n",
       "      <td>381</td>\n",
       "      <td>90</td>\n",
       "      <td>10</td>\n",
       "    </tr>\n",
       "    <tr>\n",
       "      <td>женат / замужем</td>\n",
       "      <td>10944</td>\n",
       "      <td>925</td>\n",
       "      <td>92</td>\n",
       "      <td>8</td>\n",
       "    </tr>\n",
       "    <tr>\n",
       "      <td>не женат / не замужем</td>\n",
       "      <td>2487</td>\n",
       "      <td>274</td>\n",
       "      <td>90</td>\n",
       "      <td>10</td>\n",
       "    </tr>\n",
       "  </tbody>\n",
       "</table>\n",
       "</div>"
      ],
      "text/plain": [
       "                       Return_count  UN_Return_count  Return_%  UN_Return_%\n",
       "family_status                                                              \n",
       "в разводе                      1097               85        93            7\n",
       "вдовец / вдова                  877               63        93            7\n",
       "гражданский брак               3624              381        90           10\n",
       "женат / замужем               10944              925        92            8\n",
       "не женат / не замужем          2487              274        90           10"
      ]
     },
     "execution_count": 166,
     "metadata": {},
     "output_type": "execute_result"
    }
   ],
   "source": [
    "pivot_family_debt['0%'] = round(pivot_family_debt[0] / (pivot_family_debt[0] + pivot_family_debt[1]) * 100)\n",
    "pivot_family_debt['1%'] = round(pivot_family_debt[1] / (pivot_family_debt[0] + pivot_family_debt[1]) * 100)\n",
    "pivot_family_debt.set_axis(['Return_count', 'UN_Return_count', 'Return_%', 'UN_Return_%'], axis='columns', inplace=True)\n",
    "pivot_family_debt = pivot_family_debt.astype('int')\n",
    "pivot_family_debt"
   ]
  },
  {
   "cell_type": "markdown",
   "metadata": {},
   "source": [
    "**Вывод**"
   ]
  },
  {
   "cell_type": "markdown",
   "metadata": {},
   "source": [
    "Так же как и в прошлой сводной таблице добавим 2 столбца с процентами для наглядности.\n",
    "\n",
    "Вывод по таблице: Лучше всех исполняют свои долговые обязательства люди потерявшие своих супругов по той или иной причине. Хуже всех погашают кредиты заемщики указавшие своё семейное положение, как не женат / не замужем."
   ]
  },
  {
   "cell_type": "markdown",
   "metadata": {},
   "source": [
    "- Есть ли зависимость между уровнем дохода и возвратом кредита в срок?"
   ]
  },
  {
   "cell_type": "code",
   "execution_count": 167,
   "metadata": {
    "scrolled": true
   },
   "outputs": [
    {
     "data": {
      "text/html": [
       "<div>\n",
       "<style scoped>\n",
       "    .dataframe tbody tr th:only-of-type {\n",
       "        vertical-align: middle;\n",
       "    }\n",
       "\n",
       "    .dataframe tbody tr th {\n",
       "        vertical-align: top;\n",
       "    }\n",
       "\n",
       "    .dataframe thead th {\n",
       "        text-align: right;\n",
       "    }\n",
       "</style>\n",
       "<table border=\"1\" class=\"dataframe\">\n",
       "  <thead>\n",
       "    <tr style=\"text-align: right;\">\n",
       "      <th>debt</th>\n",
       "      <th>0</th>\n",
       "      <th>1</th>\n",
       "    </tr>\n",
       "    <tr>\n",
       "      <th>total_income_group</th>\n",
       "      <th></th>\n",
       "      <th></th>\n",
       "    </tr>\n",
       "  </thead>\n",
       "  <tbody>\n",
       "    <tr>\n",
       "      <td>-100</td>\n",
       "      <td>4109</td>\n",
       "      <td>354</td>\n",
       "    </tr>\n",
       "    <tr>\n",
       "      <td>100-200</td>\n",
       "      <td>10211</td>\n",
       "      <td>1016</td>\n",
       "    </tr>\n",
       "    <tr>\n",
       "      <td>200-300</td>\n",
       "      <td>3332</td>\n",
       "      <td>252</td>\n",
       "    </tr>\n",
       "    <tr>\n",
       "      <td>300+</td>\n",
       "      <td>1377</td>\n",
       "      <td>106</td>\n",
       "    </tr>\n",
       "  </tbody>\n",
       "</table>\n",
       "</div>"
      ],
      "text/plain": [
       "debt                    0     1\n",
       "total_income_group             \n",
       "-100                 4109   354\n",
       "100-200             10211  1016\n",
       "200-300              3332   252\n",
       "300+                 1377   106"
      ]
     },
     "execution_count": 167,
     "metadata": {},
     "output_type": "execute_result"
    }
   ],
   "source": [
    "pivot_income = pd.pivot_table(data, index=['total_income_group'], columns='debt', values = 'purpose_group', aggfunc='count')\n",
    "pivot_income.head(20)"
   ]
  },
  {
   "cell_type": "code",
   "execution_count": 168,
   "metadata": {},
   "outputs": [
    {
     "data": {
      "text/html": [
       "<div>\n",
       "<style scoped>\n",
       "    .dataframe tbody tr th:only-of-type {\n",
       "        vertical-align: middle;\n",
       "    }\n",
       "\n",
       "    .dataframe tbody tr th {\n",
       "        vertical-align: top;\n",
       "    }\n",
       "\n",
       "    .dataframe thead th {\n",
       "        text-align: right;\n",
       "    }\n",
       "</style>\n",
       "<table border=\"1\" class=\"dataframe\">\n",
       "  <thead>\n",
       "    <tr style=\"text-align: right;\">\n",
       "      <th></th>\n",
       "      <th>Return_count</th>\n",
       "      <th>UN_Return_count</th>\n",
       "      <th>Return_%</th>\n",
       "      <th>UN_Return_%</th>\n",
       "    </tr>\n",
       "    <tr>\n",
       "      <th>total_income_group</th>\n",
       "      <th></th>\n",
       "      <th></th>\n",
       "      <th></th>\n",
       "      <th></th>\n",
       "    </tr>\n",
       "  </thead>\n",
       "  <tbody>\n",
       "    <tr>\n",
       "      <td>-100</td>\n",
       "      <td>4109</td>\n",
       "      <td>354</td>\n",
       "      <td>92</td>\n",
       "      <td>8</td>\n",
       "    </tr>\n",
       "    <tr>\n",
       "      <td>100-200</td>\n",
       "      <td>10211</td>\n",
       "      <td>1016</td>\n",
       "      <td>91</td>\n",
       "      <td>9</td>\n",
       "    </tr>\n",
       "    <tr>\n",
       "      <td>200-300</td>\n",
       "      <td>3332</td>\n",
       "      <td>252</td>\n",
       "      <td>93</td>\n",
       "      <td>7</td>\n",
       "    </tr>\n",
       "    <tr>\n",
       "      <td>300+</td>\n",
       "      <td>1377</td>\n",
       "      <td>106</td>\n",
       "      <td>93</td>\n",
       "      <td>7</td>\n",
       "    </tr>\n",
       "  </tbody>\n",
       "</table>\n",
       "</div>"
      ],
      "text/plain": [
       "                    Return_count  UN_Return_count  Return_%  UN_Return_%\n",
       "total_income_group                                                      \n",
       "-100                        4109              354        92            8\n",
       "100-200                    10211             1016        91            9\n",
       "200-300                     3332              252        93            7\n",
       "300+                        1377              106        93            7"
      ]
     },
     "execution_count": 168,
     "metadata": {},
     "output_type": "execute_result"
    }
   ],
   "source": [
    "pivot_income['0%'] = round(pivot_income[0] / (pivot_income[0] + pivot_income[1]) * 100)\n",
    "pivot_income['1%'] = round(pivot_income[1] / (pivot_income[0] + pivot_income[1]) * 100)\n",
    "pivot_income.set_axis(['Return_count', 'UN_Return_count', 'Return_%', 'UN_Return_%'], axis='columns', inplace=True)\n",
    "pivot_income = pivot_income.astype('int')\n",
    "pivot_income"
   ]
  },
  {
   "cell_type": "markdown",
   "metadata": {},
   "source": [
    "**Вывод**"
   ]
  },
  {
   "cell_type": "markdown",
   "metadata": {},
   "source": [
    "Среди заёмщиков по уровню дохода, вовремя рассчитываются с банком заёмщики с высоким уровнем дохода. Группы: 200-300 и 300+. Но несмотря на низкий доход (группа -100), заёмщики этой группы рассчитываются с банком лучше, чем группа (100 - 200))"
   ]
  },
  {
   "cell_type": "markdown",
   "metadata": {},
   "source": [
    "- Как разные цели кредита влияют на его возврат в срок?"
   ]
  },
  {
   "cell_type": "code",
   "execution_count": 169,
   "metadata": {},
   "outputs": [
    {
     "data": {
      "text/html": [
       "<div>\n",
       "<style scoped>\n",
       "    .dataframe tbody tr th:only-of-type {\n",
       "        vertical-align: middle;\n",
       "    }\n",
       "\n",
       "    .dataframe tbody tr th {\n",
       "        vertical-align: top;\n",
       "    }\n",
       "\n",
       "    .dataframe thead th {\n",
       "        text-align: right;\n",
       "    }\n",
       "</style>\n",
       "<table border=\"1\" class=\"dataframe\">\n",
       "  <thead>\n",
       "    <tr style=\"text-align: right;\">\n",
       "      <th>debt</th>\n",
       "      <th>0</th>\n",
       "      <th>1</th>\n",
       "    </tr>\n",
       "    <tr>\n",
       "      <th>purpose_group</th>\n",
       "      <th></th>\n",
       "      <th></th>\n",
       "    </tr>\n",
       "  </thead>\n",
       "  <tbody>\n",
       "    <tr>\n",
       "      <td>автомобиль</td>\n",
       "      <td>3788</td>\n",
       "      <td>401</td>\n",
       "    </tr>\n",
       "    <tr>\n",
       "      <td>недвижимость</td>\n",
       "      <td>9680</td>\n",
       "      <td>780</td>\n",
       "    </tr>\n",
       "    <tr>\n",
       "      <td>образование</td>\n",
       "      <td>3543</td>\n",
       "      <td>368</td>\n",
       "    </tr>\n",
       "    <tr>\n",
       "      <td>свадьба</td>\n",
       "      <td>2018</td>\n",
       "      <td>179</td>\n",
       "    </tr>\n",
       "  </tbody>\n",
       "</table>\n",
       "</div>"
      ],
      "text/plain": [
       "debt              0    1\n",
       "purpose_group           \n",
       "автомобиль     3788  401\n",
       "недвижимость   9680  780\n",
       "образование    3543  368\n",
       "свадьба        2018  179"
      ]
     },
     "execution_count": 169,
     "metadata": {},
     "output_type": "execute_result"
    }
   ],
   "source": [
    "data_purpose_debt = pd.pivot_table(data, index=['purpose_group'], columns='debt', values = 'purpose', aggfunc='count')\n",
    "data_purpose_debt.head(20)"
   ]
  },
  {
   "cell_type": "code",
   "execution_count": 170,
   "metadata": {
    "scrolled": true
   },
   "outputs": [
    {
     "data": {
      "text/html": [
       "<div>\n",
       "<style scoped>\n",
       "    .dataframe tbody tr th:only-of-type {\n",
       "        vertical-align: middle;\n",
       "    }\n",
       "\n",
       "    .dataframe tbody tr th {\n",
       "        vertical-align: top;\n",
       "    }\n",
       "\n",
       "    .dataframe thead th {\n",
       "        text-align: right;\n",
       "    }\n",
       "</style>\n",
       "<table border=\"1\" class=\"dataframe\">\n",
       "  <thead>\n",
       "    <tr style=\"text-align: right;\">\n",
       "      <th></th>\n",
       "      <th>Return_count</th>\n",
       "      <th>UN_Return_count</th>\n",
       "      <th>Return_%</th>\n",
       "      <th>UN_Return_%</th>\n",
       "    </tr>\n",
       "    <tr>\n",
       "      <th>purpose_group</th>\n",
       "      <th></th>\n",
       "      <th></th>\n",
       "      <th></th>\n",
       "      <th></th>\n",
       "    </tr>\n",
       "  </thead>\n",
       "  <tbody>\n",
       "    <tr>\n",
       "      <td>автомобиль</td>\n",
       "      <td>3788</td>\n",
       "      <td>401</td>\n",
       "      <td>90</td>\n",
       "      <td>10</td>\n",
       "    </tr>\n",
       "    <tr>\n",
       "      <td>недвижимость</td>\n",
       "      <td>9680</td>\n",
       "      <td>780</td>\n",
       "      <td>93</td>\n",
       "      <td>7</td>\n",
       "    </tr>\n",
       "    <tr>\n",
       "      <td>образование</td>\n",
       "      <td>3543</td>\n",
       "      <td>368</td>\n",
       "      <td>91</td>\n",
       "      <td>9</td>\n",
       "    </tr>\n",
       "    <tr>\n",
       "      <td>свадьба</td>\n",
       "      <td>2018</td>\n",
       "      <td>179</td>\n",
       "      <td>92</td>\n",
       "      <td>8</td>\n",
       "    </tr>\n",
       "  </tbody>\n",
       "</table>\n",
       "</div>"
      ],
      "text/plain": [
       "               Return_count  UN_Return_count  Return_%  UN_Return_%\n",
       "purpose_group                                                      \n",
       "автомобиль             3788              401        90           10\n",
       "недвижимость           9680              780        93            7\n",
       "образование            3543              368        91            9\n",
       "свадьба                2018              179        92            8"
      ]
     },
     "execution_count": 170,
     "metadata": {},
     "output_type": "execute_result"
    }
   ],
   "source": [
    "data_purpose_debt['0%'] = round(data_purpose_debt[0] / (data_purpose_debt[0] + data_purpose_debt[1]) * 100)\n",
    "data_purpose_debt['1%'] = round(data_purpose_debt[1] / (data_purpose_debt[0] + data_purpose_debt[1]) * 100)\n",
    "data_purpose_debt.set_axis(['Return_count', 'UN_Return_count', 'Return_%', 'UN_Return_%'], axis='columns', inplace=True)\n",
    "data_purpose_debt = data_purpose_debt.astype('int')\n",
    "data_purpose_debt"
   ]
  },
  {
   "cell_type": "markdown",
   "metadata": {},
   "source": [
    "**Вывод**"
   ]
  },
  {
   "cell_type": "markdown",
   "metadata": {},
   "source": [
    "Явный лидер по погашению, это заёмщики берущие денежные средства на недвижимость. За образование или автомобиль рассчитываются менее охотно."
   ]
  },
  {
   "cell_type": "markdown",
   "metadata": {},
   "source": [
    "## Общий вывод"
   ]
  },
  {
   "cell_type": "markdown",
   "metadata": {},
   "source": [
    "Анализ показал, что лучше расплачиваются люди без детей, в разводе или вдовствующие, с доходом более 200000, оформляющие кредит на недвижимость."
   ]
  },
  {
   "cell_type": "code",
   "execution_count": null,
   "metadata": {},
   "outputs": [],
   "source": []
  }
 ],
 "metadata": {
  "ExecuteTimeLog": [
   {
    "duration": 801,
    "start_time": "2021-06-29T11:18:59.809Z"
   },
   {
    "duration": 13,
    "start_time": "2021-06-29T11:22:17.499Z"
   },
   {
    "duration": 11,
    "start_time": "2021-06-29T11:23:12.970Z"
   },
   {
    "duration": 11,
    "start_time": "2021-06-29T11:23:16.684Z"
   },
   {
    "duration": 12,
    "start_time": "2021-06-29T11:23:26.534Z"
   },
   {
    "duration": 477,
    "start_time": "2021-06-30T10:08:18.785Z"
   },
   {
    "duration": 875,
    "start_time": "2021-06-30T10:08:27.171Z"
   },
   {
    "duration": 14,
    "start_time": "2021-06-30T10:08:31.726Z"
   },
   {
    "duration": 10,
    "start_time": "2021-06-30T10:11:11.406Z"
   },
   {
    "duration": 6,
    "start_time": "2021-06-30T10:11:52.322Z"
   },
   {
    "duration": 13,
    "start_time": "2021-06-30T10:12:24.503Z"
   },
   {
    "duration": 10,
    "start_time": "2021-06-30T10:14:57.751Z"
   },
   {
    "duration": 9,
    "start_time": "2021-06-30T10:15:16.656Z"
   },
   {
    "duration": 117,
    "start_time": "2021-06-30T10:17:56.515Z"
   },
   {
    "duration": 19,
    "start_time": "2021-06-30T10:25:32.369Z"
   },
   {
    "duration": 11,
    "start_time": "2021-06-30T10:25:45.012Z"
   },
   {
    "duration": 37,
    "start_time": "2021-06-30T11:13:33.642Z"
   },
   {
    "duration": 30,
    "start_time": "2021-06-30T11:13:49.769Z"
   },
   {
    "duration": 843,
    "start_time": "2021-06-30T13:13:10.405Z"
   },
   {
    "duration": 564,
    "start_time": "2021-06-30T13:14:13.467Z"
   },
   {
    "duration": 577,
    "start_time": "2021-06-30T13:15:01.043Z"
   },
   {
    "duration": 462,
    "start_time": "2021-06-30T13:15:46.922Z"
   },
   {
    "duration": 75,
    "start_time": "2021-06-30T13:16:00.749Z"
   },
   {
    "duration": 85,
    "start_time": "2021-06-30T13:16:45.279Z"
   },
   {
    "duration": 457,
    "start_time": "2021-06-30T13:35:19.863Z"
   },
   {
    "duration": 394,
    "start_time": "2021-06-30T13:39:52.011Z"
   },
   {
    "duration": 122,
    "start_time": "2021-06-30T15:01:22.924Z"
   },
   {
    "duration": 12,
    "start_time": "2021-06-30T15:01:35.521Z"
   },
   {
    "duration": 21,
    "start_time": "2021-06-30T15:14:35.818Z"
   },
   {
    "duration": 21,
    "start_time": "2021-06-30T15:14:48.247Z"
   },
   {
    "duration": 6,
    "start_time": "2021-06-30T15:17:01.704Z"
   },
   {
    "duration": 6,
    "start_time": "2021-06-30T15:17:25.997Z"
   },
   {
    "duration": 348,
    "start_time": "2021-06-30T15:18:55.319Z"
   },
   {
    "duration": 7,
    "start_time": "2021-06-30T15:19:11.055Z"
   },
   {
    "duration": 7,
    "start_time": "2021-06-30T15:21:38.157Z"
   },
   {
    "duration": 7,
    "start_time": "2021-06-30T15:21:48.979Z"
   },
   {
    "duration": 17,
    "start_time": "2021-06-30T15:24:50.075Z"
   },
   {
    "duration": 5,
    "start_time": "2021-06-30T15:25:14.326Z"
   },
   {
    "duration": 16,
    "start_time": "2021-06-30T15:25:25.935Z"
   },
   {
    "duration": 8261,
    "start_time": "2021-06-30T15:26:36.965Z"
   },
   {
    "duration": -366,
    "start_time": "2021-06-30T15:26:55.195Z"
   },
   {
    "duration": 8680,
    "start_time": "2021-06-30T15:26:58.550Z"
   },
   {
    "duration": 84,
    "start_time": "2021-06-30T15:27:07.258Z"
   },
   {
    "duration": 6,
    "start_time": "2021-06-30T15:27:39.948Z"
   },
   {
    "duration": 20,
    "start_time": "2021-06-30T15:28:03.715Z"
   },
   {
    "duration": 19,
    "start_time": "2021-06-30T15:28:14.484Z"
   },
   {
    "duration": 318,
    "start_time": "2021-06-30T15:30:10.438Z"
   },
   {
    "duration": 344,
    "start_time": "2021-06-30T15:30:18.702Z"
   },
   {
    "duration": 24,
    "start_time": "2021-06-30T15:30:31.509Z"
   },
   {
    "duration": 378,
    "start_time": "2021-06-30T15:33:03.804Z"
   },
   {
    "duration": 56,
    "start_time": "2021-06-30T15:33:19.798Z"
   },
   {
    "duration": 57,
    "start_time": "2021-06-30T15:33:24.291Z"
   },
   {
    "duration": 61,
    "start_time": "2021-06-30T15:33:27.347Z"
   },
   {
    "duration": 19,
    "start_time": "2021-06-30T15:33:36.203Z"
   },
   {
    "duration": 63,
    "start_time": "2021-06-30T15:33:41.668Z"
   },
   {
    "duration": 62,
    "start_time": "2021-06-30T15:33:51.486Z"
   },
   {
    "duration": 63,
    "start_time": "2021-06-30T15:34:00.120Z"
   },
   {
    "duration": 63,
    "start_time": "2021-06-30T15:34:09.793Z"
   },
   {
    "duration": 378,
    "start_time": "2021-06-30T15:46:05.261Z"
   },
   {
    "duration": 108,
    "start_time": "2021-06-30T15:46:44.511Z"
   },
   {
    "duration": 118,
    "start_time": "2021-06-30T15:47:13.236Z"
   },
   {
    "duration": 7,
    "start_time": "2021-06-30T15:47:13.365Z"
   },
   {
    "duration": 32,
    "start_time": "2021-06-30T15:47:13.376Z"
   },
   {
    "duration": 121,
    "start_time": "2021-06-30T15:47:13.411Z"
   },
   {
    "duration": 337,
    "start_time": "2021-06-30T15:47:13.535Z"
   },
   {
    "duration": 462,
    "start_time": "2021-06-30T15:48:09.877Z"
   },
   {
    "duration": 9,
    "start_time": "2021-06-30T15:48:18.819Z"
   },
   {
    "duration": 353,
    "start_time": "2021-06-30T15:49:08.711Z"
   },
   {
    "duration": 361,
    "start_time": "2021-06-30T15:49:20.908Z"
   },
   {
    "duration": 7,
    "start_time": "2021-06-30T15:49:34.180Z"
   },
   {
    "duration": 6,
    "start_time": "2021-06-30T15:49:53.291Z"
   },
   {
    "duration": 11,
    "start_time": "2021-06-30T15:57:40.501Z"
   },
   {
    "duration": 10,
    "start_time": "2021-06-30T15:59:38.964Z"
   },
   {
    "duration": 11,
    "start_time": "2021-06-30T16:00:10.375Z"
   },
   {
    "duration": 924,
    "start_time": "2021-06-30T16:02:47.216Z"
   },
   {
    "duration": 20,
    "start_time": "2021-06-30T16:03:16.016Z"
   },
   {
    "duration": 133,
    "start_time": "2021-06-30T16:05:18.401Z"
   },
   {
    "duration": 22,
    "start_time": "2021-06-30T16:05:44.301Z"
   },
   {
    "duration": 18,
    "start_time": "2021-06-30T16:23:40.803Z"
   },
   {
    "duration": 7,
    "start_time": "2021-06-30T16:49:47.044Z"
   },
   {
    "duration": 376,
    "start_time": "2021-06-30T17:01:19.013Z"
   },
   {
    "duration": 341,
    "start_time": "2021-06-30T17:02:41.179Z"
   },
   {
    "duration": 27,
    "start_time": "2021-06-30T17:03:00.754Z"
   },
   {
    "duration": 333,
    "start_time": "2021-06-30T17:03:27.822Z"
   },
   {
    "duration": 354,
    "start_time": "2021-06-30T17:03:51.785Z"
   },
   {
    "duration": 22,
    "start_time": "2021-06-30T17:15:44.640Z"
   },
   {
    "duration": 548,
    "start_time": "2021-06-30T17:20:40.340Z"
   },
   {
    "duration": 5219,
    "start_time": "2021-06-30T17:21:13.922Z"
   },
   {
    "duration": 695,
    "start_time": "2021-06-30T17:21:44.475Z"
   },
   {
    "duration": 5182,
    "start_time": "2021-06-30T17:22:14.136Z"
   },
   {
    "duration": 5171,
    "start_time": "2021-06-30T17:25:12.225Z"
   },
   {
    "duration": 841,
    "start_time": "2021-07-01T02:11:48.276Z"
   },
   {
    "duration": 10,
    "start_time": "2021-07-01T02:11:49.119Z"
   },
   {
    "duration": 22,
    "start_time": "2021-07-01T02:11:49.133Z"
   },
   {
    "duration": 101,
    "start_time": "2021-07-01T02:11:49.158Z"
   },
   {
    "duration": 6198,
    "start_time": "2021-07-01T02:11:49.263Z"
   },
   {
    "duration": 98,
    "start_time": "2021-07-01T02:11:55.464Z"
   },
   {
    "duration": 487,
    "start_time": "2021-07-01T02:21:29.011Z"
   },
   {
    "duration": 7047,
    "start_time": "2021-07-01T02:22:11.417Z"
   },
   {
    "duration": 23,
    "start_time": "2021-07-01T02:23:06.978Z"
   },
   {
    "duration": 38,
    "start_time": "2021-07-01T02:23:45.161Z"
   },
   {
    "duration": 38,
    "start_time": "2021-07-01T02:27:21.713Z"
   },
   {
    "duration": 38,
    "start_time": "2021-07-01T02:27:36.748Z"
   },
   {
    "duration": 50,
    "start_time": "2021-07-01T02:29:38.134Z"
   },
   {
    "duration": 121,
    "start_time": "2021-07-01T02:30:27.882Z"
   },
   {
    "duration": 51,
    "start_time": "2021-07-01T02:30:28.021Z"
   },
   {
    "duration": 19,
    "start_time": "2021-07-01T02:30:28.086Z"
   },
   {
    "duration": 78,
    "start_time": "2021-07-01T02:30:28.108Z"
   },
   {
    "duration": 5871,
    "start_time": "2021-07-01T02:30:28.189Z"
   },
   {
    "duration": 130,
    "start_time": "2021-07-01T02:33:15.013Z"
   },
   {
    "duration": 50,
    "start_time": "2021-07-01T02:33:15.145Z"
   },
   {
    "duration": 42,
    "start_time": "2021-07-01T02:33:15.197Z"
   },
   {
    "duration": 85,
    "start_time": "2021-07-01T02:33:15.241Z"
   },
   {
    "duration": 6374,
    "start_time": "2021-07-01T02:33:15.328Z"
   },
   {
    "duration": 122,
    "start_time": "2021-07-01T02:34:19.932Z"
   },
   {
    "duration": 47,
    "start_time": "2021-07-01T02:34:20.056Z"
   },
   {
    "duration": 36,
    "start_time": "2021-07-01T02:34:20.106Z"
   },
   {
    "duration": 98,
    "start_time": "2021-07-01T02:34:20.144Z"
   },
   {
    "duration": 6653,
    "start_time": "2021-07-01T02:34:20.244Z"
   },
   {
    "duration": 869,
    "start_time": "2021-07-03T13:00:33.816Z"
   },
   {
    "duration": 71,
    "start_time": "2021-07-03T13:01:09.028Z"
   },
   {
    "duration": 65,
    "start_time": "2021-07-03T13:01:46.736Z"
   },
   {
    "duration": 58,
    "start_time": "2021-07-03T13:09:48.830Z"
   },
   {
    "duration": 54,
    "start_time": "2021-07-03T13:10:15.844Z"
   },
   {
    "duration": 54,
    "start_time": "2021-07-03T13:10:24.427Z"
   },
   {
    "duration": 308,
    "start_time": "2021-07-03T13:11:09.744Z"
   },
   {
    "duration": 276,
    "start_time": "2021-07-03T13:11:33.644Z"
   },
   {
    "duration": 67,
    "start_time": "2021-07-03T13:11:50.362Z"
   },
   {
    "duration": 226,
    "start_time": "2021-07-03T13:16:27.725Z"
   },
   {
    "duration": 33,
    "start_time": "2021-07-03T13:16:40.495Z"
   },
   {
    "duration": 33,
    "start_time": "2021-07-03T13:17:05.287Z"
   },
   {
    "duration": 54,
    "start_time": "2021-07-03T13:18:20.059Z"
   },
   {
    "duration": 62,
    "start_time": "2021-07-03T13:18:52.550Z"
   },
   {
    "duration": 58,
    "start_time": "2021-07-03T13:44:05.312Z"
   },
   {
    "duration": 33,
    "start_time": "2021-07-03T13:44:05.372Z"
   },
   {
    "duration": 12,
    "start_time": "2021-07-03T13:44:05.407Z"
   },
   {
    "duration": 55,
    "start_time": "2021-07-03T13:44:05.420Z"
   },
   {
    "duration": 4178,
    "start_time": "2021-07-03T13:44:05.477Z"
   },
   {
    "duration": 43,
    "start_time": "2021-07-03T13:45:17.496Z"
   },
   {
    "duration": 77,
    "start_time": "2021-07-03T13:59:11.597Z"
   },
   {
    "duration": 40,
    "start_time": "2021-07-03T13:59:20.839Z"
   },
   {
    "duration": 39,
    "start_time": "2021-07-03T13:59:49.406Z"
   },
   {
    "duration": 42,
    "start_time": "2021-07-03T14:01:00.776Z"
   },
   {
    "duration": 38,
    "start_time": "2021-07-03T14:01:18.539Z"
   },
   {
    "duration": 40,
    "start_time": "2021-07-03T15:44:05.017Z"
   },
   {
    "duration": 5,
    "start_time": "2021-07-03T15:45:47.982Z"
   },
   {
    "duration": 8,
    "start_time": "2021-07-03T15:48:36.379Z"
   },
   {
    "duration": 237,
    "start_time": "2021-07-03T15:50:21.809Z"
   },
   {
    "duration": 234,
    "start_time": "2021-07-03T15:50:56.915Z"
   },
   {
    "duration": 12,
    "start_time": "2021-07-03T15:51:08.903Z"
   },
   {
    "duration": 9,
    "start_time": "2021-07-03T15:51:51.310Z"
   },
   {
    "duration": 12,
    "start_time": "2021-07-03T15:52:04.702Z"
   },
   {
    "duration": 12,
    "start_time": "2021-07-03T15:52:11.739Z"
   },
   {
    "duration": 223,
    "start_time": "2021-07-03T15:52:58.021Z"
   },
   {
    "duration": 7,
    "start_time": "2021-07-03T15:53:08.224Z"
   },
   {
    "duration": 6,
    "start_time": "2021-07-03T15:53:43.692Z"
   },
   {
    "duration": 15,
    "start_time": "2021-07-03T15:54:05.165Z"
   },
   {
    "duration": 8,
    "start_time": "2021-07-03T15:55:01.586Z"
   },
   {
    "duration": 267,
    "start_time": "2021-07-03T15:57:01.470Z"
   },
   {
    "duration": 9,
    "start_time": "2021-07-03T15:57:12.936Z"
   },
   {
    "duration": 13,
    "start_time": "2021-07-03T15:57:20.501Z"
   },
   {
    "duration": 6,
    "start_time": "2021-07-03T15:57:57.177Z"
   },
   {
    "duration": 6,
    "start_time": "2021-07-03T15:58:59.589Z"
   },
   {
    "duration": 248,
    "start_time": "2021-07-03T15:59:32.070Z"
   },
   {
    "duration": 228,
    "start_time": "2021-07-03T16:00:12.871Z"
   },
   {
    "duration": 6,
    "start_time": "2021-07-03T16:00:33.015Z"
   },
   {
    "duration": 7,
    "start_time": "2021-07-03T16:01:29.905Z"
   },
   {
    "duration": 280,
    "start_time": "2021-07-03T16:01:36.454Z"
   },
   {
    "duration": 7,
    "start_time": "2021-07-03T16:28:54.060Z"
   },
   {
    "duration": 10,
    "start_time": "2021-07-03T16:29:11.534Z"
   },
   {
    "duration": 9,
    "start_time": "2021-07-03T16:29:54.753Z"
   },
   {
    "duration": 7,
    "start_time": "2021-07-03T16:30:12.747Z"
   },
   {
    "duration": 7,
    "start_time": "2021-07-03T16:30:33.936Z"
   },
   {
    "duration": 7,
    "start_time": "2021-07-03T16:30:51.247Z"
   },
   {
    "duration": 7,
    "start_time": "2021-07-03T16:31:02.880Z"
   },
   {
    "duration": 7,
    "start_time": "2021-07-03T16:31:10.601Z"
   },
   {
    "duration": 7,
    "start_time": "2021-07-03T16:31:21.241Z"
   },
   {
    "duration": 7,
    "start_time": "2021-07-03T16:31:34.003Z"
   },
   {
    "duration": 9,
    "start_time": "2021-07-03T16:33:07.462Z"
   },
   {
    "duration": 10,
    "start_time": "2021-07-03T16:33:53.212Z"
   },
   {
    "duration": 8,
    "start_time": "2021-07-03T16:34:17.255Z"
   },
   {
    "duration": 7,
    "start_time": "2021-07-03T16:34:49.580Z"
   },
   {
    "duration": 35,
    "start_time": "2021-07-03T16:47:33.466Z"
   },
   {
    "duration": 37,
    "start_time": "2021-07-03T17:14:50.262Z"
   },
   {
    "duration": 2004,
    "start_time": "2021-07-05T08:06:42.490Z"
   },
   {
    "duration": 64,
    "start_time": "2021-07-05T08:07:21.369Z"
   },
   {
    "duration": 14,
    "start_time": "2021-07-05T08:08:19.700Z"
   },
   {
    "duration": 16,
    "start_time": "2021-07-05T08:10:23.970Z"
   },
   {
    "duration": 8,
    "start_time": "2021-07-05T08:10:31.246Z"
   },
   {
    "duration": 14,
    "start_time": "2021-07-05T08:11:03.603Z"
   },
   {
    "duration": 11,
    "start_time": "2021-07-05T08:11:30.457Z"
   },
   {
    "duration": 12,
    "start_time": "2021-07-05T08:11:45.996Z"
   },
   {
    "duration": 12,
    "start_time": "2021-07-05T08:12:25.851Z"
   },
   {
    "duration": 13,
    "start_time": "2021-07-05T08:13:21.608Z"
   },
   {
    "duration": 13,
    "start_time": "2021-07-05T08:13:36.810Z"
   },
   {
    "duration": 15,
    "start_time": "2021-07-05T08:14:37.128Z"
   },
   {
    "duration": 19,
    "start_time": "2021-07-05T08:15:27.182Z"
   },
   {
    "duration": 15,
    "start_time": "2021-07-05T08:15:57.803Z"
   },
   {
    "duration": 17,
    "start_time": "2021-07-05T08:18:00.964Z"
   },
   {
    "duration": 15,
    "start_time": "2021-07-05T08:18:27.652Z"
   },
   {
    "duration": 8,
    "start_time": "2021-07-05T08:18:40.595Z"
   },
   {
    "duration": 64,
    "start_time": "2021-07-05T08:18:58.734Z"
   },
   {
    "duration": 11,
    "start_time": "2021-07-05T08:19:05.962Z"
   },
   {
    "duration": 6,
    "start_time": "2021-07-05T08:19:12.365Z"
   },
   {
    "duration": 29,
    "start_time": "2021-07-05T08:19:13.802Z"
   },
   {
    "duration": 8,
    "start_time": "2021-07-05T08:19:16.205Z"
   },
   {
    "duration": 17,
    "start_time": "2021-07-05T08:19:20.837Z"
   },
   {
    "duration": 16,
    "start_time": "2021-07-05T08:22:56.509Z"
   },
   {
    "duration": 16,
    "start_time": "2021-07-05T08:25:21.039Z"
   },
   {
    "duration": 15,
    "start_time": "2021-07-05T08:26:41.139Z"
   },
   {
    "duration": 13,
    "start_time": "2021-07-05T08:28:20.943Z"
   },
   {
    "duration": 46,
    "start_time": "2021-07-05T08:28:33.433Z"
   },
   {
    "duration": 45,
    "start_time": "2021-07-05T08:29:50.509Z"
   },
   {
    "duration": 42,
    "start_time": "2021-07-05T08:30:20.537Z"
   },
   {
    "duration": 44,
    "start_time": "2021-07-05T08:30:30.358Z"
   },
   {
    "duration": 59,
    "start_time": "2021-07-05T08:30:36.190Z"
   },
   {
    "duration": 10,
    "start_time": "2021-07-05T08:30:36.251Z"
   },
   {
    "duration": 5,
    "start_time": "2021-07-05T08:30:36.263Z"
   },
   {
    "duration": 38,
    "start_time": "2021-07-05T08:30:36.270Z"
   },
   {
    "duration": 8,
    "start_time": "2021-07-05T08:30:36.310Z"
   },
   {
    "duration": 16,
    "start_time": "2021-07-05T08:30:36.320Z"
   },
   {
    "duration": 14,
    "start_time": "2021-07-05T08:30:36.337Z"
   },
   {
    "duration": 45,
    "start_time": "2021-07-05T08:30:36.353Z"
   },
   {
    "duration": 14,
    "start_time": "2021-07-05T08:30:36.399Z"
   },
   {
    "duration": 11,
    "start_time": "2021-07-05T08:30:36.415Z"
   },
   {
    "duration": 76,
    "start_time": "2021-07-05T08:30:36.428Z"
   },
   {
    "duration": 3842,
    "start_time": "2021-07-05T08:30:36.506Z"
   },
   {
    "duration": 59,
    "start_time": "2021-07-05T08:30:40.350Z"
   },
   {
    "duration": 89,
    "start_time": "2021-07-05T08:30:55.499Z"
   },
   {
    "duration": 11,
    "start_time": "2021-07-05T08:30:55.590Z"
   },
   {
    "duration": 5,
    "start_time": "2021-07-05T08:30:55.603Z"
   },
   {
    "duration": 29,
    "start_time": "2021-07-05T08:30:55.610Z"
   },
   {
    "duration": 7,
    "start_time": "2021-07-05T08:30:55.641Z"
   },
   {
    "duration": 48,
    "start_time": "2021-07-05T08:30:55.650Z"
   },
   {
    "duration": 14,
    "start_time": "2021-07-05T08:30:55.700Z"
   },
   {
    "duration": 13,
    "start_time": "2021-07-05T08:30:55.716Z"
   },
   {
    "duration": 23,
    "start_time": "2021-07-05T08:30:55.731Z"
   },
   {
    "duration": 31,
    "start_time": "2021-07-05T08:30:55.756Z"
   },
   {
    "duration": 51,
    "start_time": "2021-07-05T08:31:00.174Z"
   },
   {
    "duration": 46,
    "start_time": "2021-07-05T08:31:24.235Z"
   },
   {
    "duration": 67,
    "start_time": "2021-07-05T08:31:31.704Z"
   },
   {
    "duration": 11,
    "start_time": "2021-07-05T08:31:31.773Z"
   },
   {
    "duration": 7,
    "start_time": "2021-07-05T08:31:31.786Z"
   },
   {
    "duration": 28,
    "start_time": "2021-07-05T08:31:31.795Z"
   },
   {
    "duration": 8,
    "start_time": "2021-07-05T08:31:31.825Z"
   },
   {
    "duration": 21,
    "start_time": "2021-07-05T08:31:31.834Z"
   },
   {
    "duration": 38,
    "start_time": "2021-07-05T08:31:31.857Z"
   },
   {
    "duration": 14,
    "start_time": "2021-07-05T08:31:31.898Z"
   },
   {
    "duration": 14,
    "start_time": "2021-07-05T08:31:31.914Z"
   },
   {
    "duration": 18,
    "start_time": "2021-07-05T08:31:31.930Z"
   },
   {
    "duration": 76,
    "start_time": "2021-07-05T08:31:31.950Z"
   },
   {
    "duration": 59,
    "start_time": "2021-07-05T08:32:16.858Z"
   },
   {
    "duration": 10,
    "start_time": "2021-07-05T08:32:16.919Z"
   },
   {
    "duration": 6,
    "start_time": "2021-07-05T08:32:16.931Z"
   },
   {
    "duration": 53,
    "start_time": "2021-07-05T08:32:16.939Z"
   },
   {
    "duration": 8,
    "start_time": "2021-07-05T08:32:16.993Z"
   },
   {
    "duration": 16,
    "start_time": "2021-07-05T08:32:17.002Z"
   },
   {
    "duration": 14,
    "start_time": "2021-07-05T08:32:17.019Z"
   },
   {
    "duration": 14,
    "start_time": "2021-07-05T08:32:17.035Z"
   },
   {
    "duration": 41,
    "start_time": "2021-07-05T08:32:17.050Z"
   },
   {
    "duration": 12,
    "start_time": "2021-07-05T08:32:17.093Z"
   },
   {
    "duration": 52,
    "start_time": "2021-07-05T08:32:20.294Z"
   },
   {
    "duration": 46,
    "start_time": "2021-07-05T08:35:04.962Z"
   },
   {
    "duration": 59,
    "start_time": "2021-07-05T08:35:12.463Z"
   },
   {
    "duration": 10,
    "start_time": "2021-07-05T08:35:12.523Z"
   },
   {
    "duration": 7,
    "start_time": "2021-07-05T08:35:12.535Z"
   },
   {
    "duration": 49,
    "start_time": "2021-07-05T08:35:12.544Z"
   },
   {
    "duration": 7,
    "start_time": "2021-07-05T08:35:12.595Z"
   },
   {
    "duration": 16,
    "start_time": "2021-07-05T08:35:12.603Z"
   },
   {
    "duration": 14,
    "start_time": "2021-07-05T08:35:12.621Z"
   },
   {
    "duration": 14,
    "start_time": "2021-07-05T08:35:12.637Z"
   },
   {
    "duration": 45,
    "start_time": "2021-07-05T08:35:12.652Z"
   },
   {
    "duration": 12,
    "start_time": "2021-07-05T08:35:12.699Z"
   },
   {
    "duration": 49,
    "start_time": "2021-07-05T08:35:12.712Z"
   },
   {
    "duration": 1244,
    "start_time": "2021-07-05T08:40:42.229Z"
   },
   {
    "duration": 19,
    "start_time": "2021-07-05T08:44:35.800Z"
   },
   {
    "duration": 7,
    "start_time": "2021-07-05T08:45:13.995Z"
   },
   {
    "duration": 188,
    "start_time": "2021-07-05T08:45:34.577Z"
   },
   {
    "duration": 193,
    "start_time": "2021-07-05T08:45:48.584Z"
   },
   {
    "duration": 64,
    "start_time": "2021-07-05T08:46:14.710Z"
   },
   {
    "duration": 10,
    "start_time": "2021-07-05T08:46:14.777Z"
   },
   {
    "duration": 5,
    "start_time": "2021-07-05T08:46:14.789Z"
   },
   {
    "duration": 28,
    "start_time": "2021-07-05T08:46:14.796Z"
   },
   {
    "duration": 7,
    "start_time": "2021-07-05T08:46:14.826Z"
   },
   {
    "duration": 17,
    "start_time": "2021-07-05T08:46:14.835Z"
   },
   {
    "duration": 15,
    "start_time": "2021-07-05T08:46:14.885Z"
   },
   {
    "duration": 15,
    "start_time": "2021-07-05T08:46:14.902Z"
   },
   {
    "duration": 14,
    "start_time": "2021-07-05T08:46:14.918Z"
   },
   {
    "duration": 182,
    "start_time": "2021-07-05T08:46:17.456Z"
   },
   {
    "duration": 7,
    "start_time": "2021-07-05T08:46:55.863Z"
   },
   {
    "duration": 65,
    "start_time": "2021-07-05T08:46:59.841Z"
   },
   {
    "duration": 10,
    "start_time": "2021-07-05T08:46:59.908Z"
   },
   {
    "duration": 6,
    "start_time": "2021-07-05T08:46:59.920Z"
   },
   {
    "duration": 29,
    "start_time": "2021-07-05T08:46:59.927Z"
   },
   {
    "duration": 28,
    "start_time": "2021-07-05T08:46:59.957Z"
   },
   {
    "duration": 17,
    "start_time": "2021-07-05T08:46:59.987Z"
   },
   {
    "duration": 17,
    "start_time": "2021-07-05T08:47:00.005Z"
   },
   {
    "duration": 15,
    "start_time": "2021-07-05T08:47:00.024Z"
   },
   {
    "duration": 49,
    "start_time": "2021-07-05T08:47:00.041Z"
   },
   {
    "duration": 6,
    "start_time": "2021-07-05T08:47:00.092Z"
   },
   {
    "duration": 7,
    "start_time": "2021-07-05T08:47:46.709Z"
   },
   {
    "duration": 9,
    "start_time": "2021-07-05T08:48:07.064Z"
   },
   {
    "duration": 63,
    "start_time": "2021-07-05T08:49:29.644Z"
   },
   {
    "duration": 64,
    "start_time": "2021-07-05T08:49:48.553Z"
   },
   {
    "duration": 9,
    "start_time": "2021-07-05T08:49:48.619Z"
   },
   {
    "duration": 5,
    "start_time": "2021-07-05T08:49:48.630Z"
   },
   {
    "duration": 52,
    "start_time": "2021-07-05T08:49:48.636Z"
   },
   {
    "duration": 7,
    "start_time": "2021-07-05T08:49:48.690Z"
   },
   {
    "duration": 15,
    "start_time": "2021-07-05T08:49:48.699Z"
   },
   {
    "duration": 14,
    "start_time": "2021-07-05T08:49:48.716Z"
   },
   {
    "duration": 14,
    "start_time": "2021-07-05T08:49:48.732Z"
   },
   {
    "duration": 48,
    "start_time": "2021-07-05T08:49:48.748Z"
   },
   {
    "duration": 8,
    "start_time": "2021-07-05T08:49:48.797Z"
   },
   {
    "duration": 12,
    "start_time": "2021-07-05T08:49:48.807Z"
   },
   {
    "duration": 73,
    "start_time": "2021-07-05T08:49:48.821Z"
   },
   {
    "duration": 3932,
    "start_time": "2021-07-05T08:49:48.895Z"
   },
   {
    "duration": 1255,
    "start_time": "2021-07-05T08:49:52.829Z"
   },
   {
    "duration": 16,
    "start_time": "2021-07-05T08:50:56.675Z"
   },
   {
    "duration": 80,
    "start_time": "2021-07-05T08:51:02.069Z"
   },
   {
    "duration": 10,
    "start_time": "2021-07-05T08:51:02.187Z"
   },
   {
    "duration": 6,
    "start_time": "2021-07-05T08:51:02.231Z"
   },
   {
    "duration": 29,
    "start_time": "2021-07-05T08:51:02.305Z"
   },
   {
    "duration": 8,
    "start_time": "2021-07-05T08:51:02.353Z"
   },
   {
    "duration": 18,
    "start_time": "2021-07-05T08:51:02.399Z"
   },
   {
    "duration": 18,
    "start_time": "2021-07-05T08:51:02.444Z"
   },
   {
    "duration": 17,
    "start_time": "2021-07-05T08:51:02.464Z"
   },
   {
    "duration": 15,
    "start_time": "2021-07-05T08:51:02.483Z"
   },
   {
    "duration": 7,
    "start_time": "2021-07-05T08:51:02.500Z"
   },
   {
    "duration": 13,
    "start_time": "2021-07-05T08:51:02.509Z"
   },
   {
    "duration": 69,
    "start_time": "2021-07-05T08:51:02.523Z"
   },
   {
    "duration": 3856,
    "start_time": "2021-07-05T08:51:02.594Z"
   },
   {
    "duration": 1267,
    "start_time": "2021-07-05T08:51:06.452Z"
   },
   {
    "duration": 81,
    "start_time": "2021-07-05T08:51:24.642Z"
   },
   {
    "duration": 10,
    "start_time": "2021-07-05T08:51:24.725Z"
   },
   {
    "duration": 6,
    "start_time": "2021-07-05T08:51:24.737Z"
   },
   {
    "duration": 53,
    "start_time": "2021-07-05T08:51:24.745Z"
   },
   {
    "duration": 8,
    "start_time": "2021-07-05T08:51:24.800Z"
   },
   {
    "duration": 16,
    "start_time": "2021-07-05T08:51:24.809Z"
   },
   {
    "duration": 15,
    "start_time": "2021-07-05T08:51:24.827Z"
   },
   {
    "duration": 42,
    "start_time": "2021-07-05T08:51:24.844Z"
   },
   {
    "duration": 15,
    "start_time": "2021-07-05T08:51:24.888Z"
   },
   {
    "duration": 7,
    "start_time": "2021-07-05T08:51:24.905Z"
   },
   {
    "duration": 13,
    "start_time": "2021-07-05T08:51:24.914Z"
   },
   {
    "duration": 79,
    "start_time": "2021-07-05T08:51:24.929Z"
   },
   {
    "duration": 4088,
    "start_time": "2021-07-05T08:51:25.010Z"
   },
   {
    "duration": 1272,
    "start_time": "2021-07-05T08:51:29.100Z"
   },
   {
    "duration": 1485,
    "start_time": "2021-07-05T08:52:12.316Z"
   },
   {
    "duration": 1280,
    "start_time": "2021-07-05T08:52:22.754Z"
   },
   {
    "duration": 76,
    "start_time": "2021-07-05T08:53:44.040Z"
   },
   {
    "duration": 9,
    "start_time": "2021-07-05T08:53:44.118Z"
   },
   {
    "duration": 5,
    "start_time": "2021-07-05T08:53:44.129Z"
   },
   {
    "duration": 29,
    "start_time": "2021-07-05T08:53:44.136Z"
   },
   {
    "duration": 8,
    "start_time": "2021-07-05T08:53:44.185Z"
   },
   {
    "duration": 16,
    "start_time": "2021-07-05T08:53:44.194Z"
   },
   {
    "duration": 14,
    "start_time": "2021-07-05T08:53:44.211Z"
   },
   {
    "duration": 13,
    "start_time": "2021-07-05T08:53:44.227Z"
   },
   {
    "duration": 45,
    "start_time": "2021-07-05T08:53:44.242Z"
   },
   {
    "duration": 13,
    "start_time": "2021-07-05T08:53:44.288Z"
   },
   {
    "duration": 50,
    "start_time": "2021-07-05T08:53:44.302Z"
   },
   {
    "duration": 3911,
    "start_time": "2021-07-05T08:53:44.354Z"
   },
   {
    "duration": 1233,
    "start_time": "2021-07-05T08:53:48.268Z"
   },
   {
    "duration": 82,
    "start_time": "2021-07-05T09:05:29.615Z"
   },
   {
    "duration": 12,
    "start_time": "2021-07-05T09:05:29.699Z"
   },
   {
    "duration": 26,
    "start_time": "2021-07-05T09:05:29.713Z"
   },
   {
    "duration": 39,
    "start_time": "2021-07-05T09:05:29.742Z"
   },
   {
    "duration": 15,
    "start_time": "2021-07-05T09:05:29.783Z"
   },
   {
    "duration": 28,
    "start_time": "2021-07-05T09:05:29.800Z"
   },
   {
    "duration": 17,
    "start_time": "2021-07-05T09:05:29.831Z"
   },
   {
    "duration": 17,
    "start_time": "2021-07-05T09:05:29.850Z"
   },
   {
    "duration": 38,
    "start_time": "2021-07-05T09:05:29.868Z"
   },
   {
    "duration": 23,
    "start_time": "2021-07-05T09:05:29.907Z"
   },
   {
    "duration": 60,
    "start_time": "2021-07-05T09:05:29.933Z"
   },
   {
    "duration": 4752,
    "start_time": "2021-07-05T09:05:35.188Z"
   },
   {
    "duration": 6,
    "start_time": "2021-07-05T09:10:01.550Z"
   },
   {
    "duration": 199,
    "start_time": "2021-07-05T09:10:54.560Z"
   },
   {
    "duration": 6,
    "start_time": "2021-07-05T09:11:09.621Z"
   },
   {
    "duration": 88,
    "start_time": "2021-07-05T09:14:41.483Z"
   },
   {
    "duration": 10,
    "start_time": "2021-07-05T09:22:48.698Z"
   },
   {
    "duration": 12,
    "start_time": "2021-07-05T09:23:07.375Z"
   },
   {
    "duration": 60,
    "start_time": "2021-07-05T09:23:12.345Z"
   },
   {
    "duration": 10,
    "start_time": "2021-07-05T09:23:12.407Z"
   },
   {
    "duration": 6,
    "start_time": "2021-07-05T09:23:12.418Z"
   },
   {
    "duration": 29,
    "start_time": "2021-07-05T09:23:12.426Z"
   },
   {
    "duration": 29,
    "start_time": "2021-07-05T09:23:12.457Z"
   },
   {
    "duration": 16,
    "start_time": "2021-07-05T09:23:12.488Z"
   },
   {
    "duration": 15,
    "start_time": "2021-07-05T09:23:12.505Z"
   },
   {
    "duration": 14,
    "start_time": "2021-07-05T09:23:12.522Z"
   },
   {
    "duration": 47,
    "start_time": "2021-07-05T09:23:12.538Z"
   },
   {
    "duration": 11,
    "start_time": "2021-07-05T09:23:12.586Z"
   },
   {
    "duration": 71,
    "start_time": "2021-07-05T09:27:18.900Z"
   },
   {
    "duration": 3959,
    "start_time": "2021-07-05T09:27:26.168Z"
   },
   {
    "duration": 3712,
    "start_time": "2021-07-05T09:29:24.755Z"
   },
   {
    "duration": 3305,
    "start_time": "2021-07-05T09:32:26.695Z"
   },
   {
    "duration": 85,
    "start_time": "2021-07-05T09:50:06.589Z"
   },
   {
    "duration": 19,
    "start_time": "2021-07-05T09:50:06.675Z"
   },
   {
    "duration": 7,
    "start_time": "2021-07-05T09:50:06.697Z"
   },
   {
    "duration": 28,
    "start_time": "2021-07-05T09:50:06.706Z"
   },
   {
    "duration": 8,
    "start_time": "2021-07-05T09:50:06.735Z"
   },
   {
    "duration": 47,
    "start_time": "2021-07-05T09:50:06.744Z"
   },
   {
    "duration": 22,
    "start_time": "2021-07-05T09:50:06.792Z"
   },
   {
    "duration": 14,
    "start_time": "2021-07-05T09:50:06.816Z"
   },
   {
    "duration": 14,
    "start_time": "2021-07-05T09:50:06.832Z"
   },
   {
    "duration": 41,
    "start_time": "2021-07-05T09:50:06.848Z"
   },
   {
    "duration": 16,
    "start_time": "2021-07-05T09:50:06.891Z"
   },
   {
    "duration": 51,
    "start_time": "2021-07-05T09:50:06.908Z"
   },
   {
    "duration": 4305,
    "start_time": "2021-07-05T09:50:06.985Z"
   },
   {
    "duration": 1331,
    "start_time": "2021-07-05T09:50:11.294Z"
   },
   {
    "duration": 1346,
    "start_time": "2021-07-05T09:50:35.275Z"
   },
   {
    "duration": 3444,
    "start_time": "2021-07-05T09:50:53.775Z"
   },
   {
    "duration": 329,
    "start_time": "2021-07-05T09:52:56.758Z"
   },
   {
    "duration": 30,
    "start_time": "2021-07-05T09:53:10.339Z"
   },
   {
    "duration": 76,
    "start_time": "2021-07-05T09:53:33.687Z"
   },
   {
    "duration": 24,
    "start_time": "2021-07-05T09:53:33.765Z"
   },
   {
    "duration": 8,
    "start_time": "2021-07-05T09:53:33.792Z"
   },
   {
    "duration": 29,
    "start_time": "2021-07-05T09:53:33.803Z"
   },
   {
    "duration": 7,
    "start_time": "2021-07-05T09:53:33.834Z"
   },
   {
    "duration": 18,
    "start_time": "2021-07-05T09:53:33.842Z"
   },
   {
    "duration": 22,
    "start_time": "2021-07-05T09:53:33.885Z"
   },
   {
    "duration": 14,
    "start_time": "2021-07-05T09:53:33.909Z"
   },
   {
    "duration": 13,
    "start_time": "2021-07-05T09:53:33.925Z"
   },
   {
    "duration": 11,
    "start_time": "2021-07-05T09:53:33.940Z"
   },
   {
    "duration": 47,
    "start_time": "2021-07-05T09:53:33.952Z"
   },
   {
    "duration": 51,
    "start_time": "2021-07-05T09:53:34.001Z"
   },
   {
    "duration": 4307,
    "start_time": "2021-07-05T09:53:34.053Z"
   },
   {
    "duration": 1333,
    "start_time": "2021-07-05T09:53:38.362Z"
   },
   {
    "duration": 33,
    "start_time": "2021-07-05T09:53:39.697Z"
   },
   {
    "duration": 181,
    "start_time": "2021-07-05T09:58:59.243Z"
   },
   {
    "duration": 14,
    "start_time": "2021-07-05T10:02:15.855Z"
   },
   {
    "duration": 12,
    "start_time": "2021-07-05T10:02:28.651Z"
   },
   {
    "duration": 184,
    "start_time": "2021-07-05T10:03:13.653Z"
   },
   {
    "duration": 13,
    "start_time": "2021-07-05T10:03:34.052Z"
   },
   {
    "duration": 189,
    "start_time": "2021-07-05T10:03:57.511Z"
   },
   {
    "duration": 65,
    "start_time": "2021-07-05T10:04:34.851Z"
   },
   {
    "duration": 191,
    "start_time": "2021-07-05T10:04:42.806Z"
   },
   {
    "duration": 14,
    "start_time": "2021-07-05T10:05:04.130Z"
   },
   {
    "duration": 182,
    "start_time": "2021-07-05T10:06:26.554Z"
   },
   {
    "duration": 21,
    "start_time": "2021-07-05T10:06:44.232Z"
   },
   {
    "duration": 187,
    "start_time": "2021-07-05T10:07:07.402Z"
   },
   {
    "duration": 40,
    "start_time": "2021-07-05T10:07:28.983Z"
   },
   {
    "duration": 31,
    "start_time": "2021-07-05T10:08:45.323Z"
   },
   {
    "duration": 45,
    "start_time": "2021-07-05T10:09:47.995Z"
   },
   {
    "duration": 28,
    "start_time": "2021-07-05T10:10:13.341Z"
   },
   {
    "duration": 29,
    "start_time": "2021-07-05T10:12:11.025Z"
   },
   {
    "duration": 186,
    "start_time": "2021-07-05T10:12:50.568Z"
   },
   {
    "duration": 59,
    "start_time": "2021-07-05T10:14:24.322Z"
   },
   {
    "duration": 10,
    "start_time": "2021-07-05T10:17:39.368Z"
   },
   {
    "duration": 49,
    "start_time": "2021-07-05T10:18:27.277Z"
   },
   {
    "duration": 19,
    "start_time": "2021-07-05T10:18:53.575Z"
   },
   {
    "duration": 48,
    "start_time": "2021-07-05T10:19:40.297Z"
   },
   {
    "duration": 46,
    "start_time": "2021-07-05T10:21:25.317Z"
   },
   {
    "duration": 176,
    "start_time": "2021-07-05T10:23:20.945Z"
   },
   {
    "duration": 179,
    "start_time": "2021-07-05T10:23:50.391Z"
   },
   {
    "duration": 23,
    "start_time": "2021-07-05T10:24:43.487Z"
   },
   {
    "duration": 10,
    "start_time": "2021-07-05T10:31:11.162Z"
   },
   {
    "duration": 19,
    "start_time": "2021-07-05T10:31:34.567Z"
   },
   {
    "duration": 8,
    "start_time": "2021-07-05T10:33:14.963Z"
   },
   {
    "duration": 9,
    "start_time": "2021-07-05T10:33:19.060Z"
   },
   {
    "duration": 5477,
    "start_time": "2021-07-05T10:33:43.263Z"
   },
   {
    "duration": 83,
    "start_time": "2021-07-05T10:34:12.145Z"
   },
   {
    "duration": 10,
    "start_time": "2021-07-05T10:34:12.229Z"
   },
   {
    "duration": 5,
    "start_time": "2021-07-05T10:34:12.241Z"
   },
   {
    "duration": 54,
    "start_time": "2021-07-05T10:34:12.248Z"
   },
   {
    "duration": 7,
    "start_time": "2021-07-05T10:34:12.304Z"
   },
   {
    "duration": 21,
    "start_time": "2021-07-05T10:34:12.312Z"
   },
   {
    "duration": 14,
    "start_time": "2021-07-05T10:34:12.334Z"
   },
   {
    "duration": 36,
    "start_time": "2021-07-05T10:34:12.350Z"
   },
   {
    "duration": 18,
    "start_time": "2021-07-05T10:34:12.389Z"
   },
   {
    "duration": 12,
    "start_time": "2021-07-05T10:34:12.409Z"
   },
   {
    "duration": 29,
    "start_time": "2021-07-05T10:34:12.422Z"
   },
   {
    "duration": 65,
    "start_time": "2021-07-05T10:34:12.453Z"
   },
   {
    "duration": 4608,
    "start_time": "2021-07-05T10:34:12.520Z"
   },
   {
    "duration": 1338,
    "start_time": "2021-07-05T10:34:17.130Z"
   },
   {
    "duration": 35,
    "start_time": "2021-07-05T10:34:18.470Z"
   },
   {
    "duration": 3633,
    "start_time": "2021-07-05T10:35:55.821Z"
   },
   {
    "duration": 9,
    "start_time": "2021-07-05T10:36:16.976Z"
   },
   {
    "duration": 4,
    "start_time": "2021-07-05T10:36:33.880Z"
   },
   {
    "duration": 181,
    "start_time": "2021-07-05T10:40:39.839Z"
   },
   {
    "duration": 19,
    "start_time": "2021-07-05T10:40:52.618Z"
   },
   {
    "duration": 22,
    "start_time": "2021-07-05T10:40:55.653Z"
   },
   {
    "duration": 8,
    "start_time": "2021-07-05T10:41:05.326Z"
   },
   {
    "duration": 22,
    "start_time": "2021-07-05T10:41:30.314Z"
   },
   {
    "duration": 3427,
    "start_time": "2021-07-05T10:41:31.272Z"
   },
   {
    "duration": 9,
    "start_time": "2021-07-05T10:42:06.696Z"
   },
   {
    "duration": 19,
    "start_time": "2021-07-05T10:42:12.629Z"
   },
   {
    "duration": 9,
    "start_time": "2021-07-05T10:42:13.560Z"
   },
   {
    "duration": 879,
    "start_time": "2021-07-05T10:57:54.057Z"
   },
   {
    "duration": 205,
    "start_time": "2021-07-05T10:58:09.210Z"
   },
   {
    "duration": 185,
    "start_time": "2021-07-05T10:58:58.701Z"
   },
   {
    "duration": 197,
    "start_time": "2021-07-05T10:59:44.049Z"
   },
   {
    "duration": 11,
    "start_time": "2021-07-05T11:00:11.423Z"
   },
   {
    "duration": 224,
    "start_time": "2021-07-05T11:00:59.153Z"
   },
   {
    "duration": 183,
    "start_time": "2021-07-05T11:01:11.688Z"
   },
   {
    "duration": 317,
    "start_time": "2021-07-05T11:01:48.105Z"
   },
   {
    "duration": 63,
    "start_time": "2021-07-05T11:07:29.778Z"
   },
   {
    "duration": 8,
    "start_time": "2021-07-05T11:12:23.289Z"
   },
   {
    "duration": 11,
    "start_time": "2021-07-05T11:12:41.407Z"
   },
   {
    "duration": 12,
    "start_time": "2021-07-05T11:13:08.490Z"
   },
   {
    "duration": 12,
    "start_time": "2021-07-05T11:13:25.754Z"
   },
   {
    "duration": 12,
    "start_time": "2021-07-05T11:13:31.516Z"
   },
   {
    "duration": 61,
    "start_time": "2021-07-05T11:14:30.071Z"
   },
   {
    "duration": 62,
    "start_time": "2021-07-05T11:14:45.928Z"
   },
   {
    "duration": 12,
    "start_time": "2021-07-05T11:15:16.733Z"
   },
   {
    "duration": 20,
    "start_time": "2021-07-05T11:15:26.007Z"
   },
   {
    "duration": 13,
    "start_time": "2021-07-05T11:15:27.013Z"
   },
   {
    "duration": 11,
    "start_time": "2021-07-05T11:15:43.156Z"
   },
   {
    "duration": 11,
    "start_time": "2021-07-05T11:16:06.085Z"
   },
   {
    "duration": 19,
    "start_time": "2021-07-05T11:16:41.178Z"
   },
   {
    "duration": 11,
    "start_time": "2021-07-05T11:16:42.190Z"
   },
   {
    "duration": 11,
    "start_time": "2021-07-05T11:17:01.313Z"
   },
   {
    "duration": 11,
    "start_time": "2021-07-05T11:17:35.771Z"
   },
   {
    "duration": 19,
    "start_time": "2021-07-05T11:17:40.037Z"
   },
   {
    "duration": 11,
    "start_time": "2021-07-05T11:17:45.469Z"
   },
   {
    "duration": 18,
    "start_time": "2021-07-05T11:18:09.085Z"
   },
   {
    "duration": 11,
    "start_time": "2021-07-05T11:18:40.496Z"
   },
   {
    "duration": 13,
    "start_time": "2021-07-05T11:18:57.492Z"
   },
   {
    "duration": 24,
    "start_time": "2021-07-05T11:19:01.890Z"
   },
   {
    "duration": 12,
    "start_time": "2021-07-05T11:19:02.602Z"
   },
   {
    "duration": 15,
    "start_time": "2021-07-05T11:20:45.931Z"
   },
   {
    "duration": 19,
    "start_time": "2021-07-05T11:21:00.039Z"
   },
   {
    "duration": 14,
    "start_time": "2021-07-05T11:21:02.481Z"
   },
   {
    "duration": 15,
    "start_time": "2021-07-05T11:21:25.196Z"
   },
   {
    "duration": 14,
    "start_time": "2021-07-05T11:24:08.704Z"
   },
   {
    "duration": 20,
    "start_time": "2021-07-05T11:24:11.729Z"
   },
   {
    "duration": 14,
    "start_time": "2021-07-05T11:24:14.096Z"
   },
   {
    "duration": 12,
    "start_time": "2021-07-05T11:24:48.138Z"
   },
   {
    "duration": 190,
    "start_time": "2021-07-05T11:27:06.148Z"
   },
   {
    "duration": 544,
    "start_time": "2021-07-05T11:27:58.498Z"
   },
   {
    "duration": 195,
    "start_time": "2021-07-05T11:28:22.262Z"
   },
   {
    "duration": 81,
    "start_time": "2021-07-05T11:28:47.262Z"
   },
   {
    "duration": 10,
    "start_time": "2021-07-05T11:28:47.345Z"
   },
   {
    "duration": 29,
    "start_time": "2021-07-05T11:28:47.357Z"
   },
   {
    "duration": 29,
    "start_time": "2021-07-05T11:28:47.388Z"
   },
   {
    "duration": 9,
    "start_time": "2021-07-05T11:28:47.418Z"
   },
   {
    "duration": 15,
    "start_time": "2021-07-05T11:28:47.429Z"
   },
   {
    "duration": 14,
    "start_time": "2021-07-05T11:28:47.445Z"
   },
   {
    "duration": 15,
    "start_time": "2021-07-05T11:28:47.486Z"
   },
   {
    "duration": 13,
    "start_time": "2021-07-05T11:28:47.503Z"
   },
   {
    "duration": 10,
    "start_time": "2021-07-05T11:28:47.518Z"
   },
   {
    "duration": 12,
    "start_time": "2021-07-05T11:28:47.529Z"
   },
   {
    "duration": 88,
    "start_time": "2021-07-05T11:28:47.543Z"
   },
   {
    "duration": 4184,
    "start_time": "2021-07-05T11:28:47.633Z"
   },
   {
    "duration": 1279,
    "start_time": "2021-07-05T11:28:51.819Z"
   },
   {
    "duration": 23,
    "start_time": "2021-07-05T11:28:53.100Z"
   },
   {
    "duration": 18,
    "start_time": "2021-07-05T11:28:57.235Z"
   },
   {
    "duration": 8,
    "start_time": "2021-07-05T11:28:58.120Z"
   },
   {
    "duration": 178,
    "start_time": "2021-07-05T11:29:11.437Z"
   },
   {
    "duration": 182,
    "start_time": "2021-07-05T11:30:07.552Z"
   },
   {
    "duration": 20,
    "start_time": "2021-07-05T11:30:19.891Z"
   },
   {
    "duration": 8,
    "start_time": "2021-07-05T11:30:20.678Z"
   },
   {
    "duration": 297,
    "start_time": "2021-07-05T11:30:47.395Z"
   },
   {
    "duration": 196,
    "start_time": "2021-07-05T11:30:56.877Z"
   },
   {
    "duration": 19,
    "start_time": "2021-07-05T11:31:19.014Z"
   },
   {
    "duration": 13,
    "start_time": "2021-07-05T11:31:19.718Z"
   },
   {
    "duration": 4774,
    "start_time": "2021-07-05T11:31:48.400Z"
   },
   {
    "duration": 92,
    "start_time": "2021-07-05T11:32:04.264Z"
   },
   {
    "duration": 26,
    "start_time": "2021-07-05T11:32:04.358Z"
   },
   {
    "duration": 6,
    "start_time": "2021-07-05T11:32:04.386Z"
   },
   {
    "duration": 29,
    "start_time": "2021-07-05T11:32:04.394Z"
   },
   {
    "duration": 8,
    "start_time": "2021-07-05T11:32:04.425Z"
   },
   {
    "duration": 19,
    "start_time": "2021-07-05T11:32:04.435Z"
   },
   {
    "duration": 47,
    "start_time": "2021-07-05T11:32:04.456Z"
   },
   {
    "duration": 21,
    "start_time": "2021-07-05T11:32:04.506Z"
   },
   {
    "duration": 19,
    "start_time": "2021-07-05T11:32:04.529Z"
   },
   {
    "duration": 43,
    "start_time": "2021-07-05T11:32:04.550Z"
   },
   {
    "duration": 13,
    "start_time": "2021-07-05T11:32:04.595Z"
   },
   {
    "duration": 75,
    "start_time": "2021-07-05T11:32:04.610Z"
   },
   {
    "duration": 4647,
    "start_time": "2021-07-05T11:32:04.687Z"
   },
   {
    "duration": 1395,
    "start_time": "2021-07-05T11:32:09.336Z"
   },
   {
    "duration": 26,
    "start_time": "2021-07-05T11:32:10.733Z"
   },
   {
    "duration": 36,
    "start_time": "2021-07-05T11:32:10.762Z"
   },
   {
    "duration": 4383,
    "start_time": "2021-07-05T11:32:21.335Z"
   },
   {
    "duration": 84,
    "start_time": "2021-07-05T11:32:27.621Z"
   },
   {
    "duration": 10,
    "start_time": "2021-07-05T11:32:27.707Z"
   },
   {
    "duration": 6,
    "start_time": "2021-07-05T11:32:27.718Z"
   },
   {
    "duration": 30,
    "start_time": "2021-07-05T11:32:27.726Z"
   },
   {
    "duration": 32,
    "start_time": "2021-07-05T11:32:27.758Z"
   },
   {
    "duration": 16,
    "start_time": "2021-07-05T11:32:27.792Z"
   },
   {
    "duration": 14,
    "start_time": "2021-07-05T11:32:27.810Z"
   },
   {
    "duration": 17,
    "start_time": "2021-07-05T11:32:27.826Z"
   },
   {
    "duration": 50,
    "start_time": "2021-07-05T11:32:27.845Z"
   },
   {
    "duration": 9,
    "start_time": "2021-07-05T11:32:27.897Z"
   },
   {
    "duration": 12,
    "start_time": "2021-07-05T11:32:27.907Z"
   },
   {
    "duration": 78,
    "start_time": "2021-07-05T11:32:27.920Z"
   },
   {
    "duration": 4623,
    "start_time": "2021-07-05T11:32:28.000Z"
   },
   {
    "duration": 1355,
    "start_time": "2021-07-05T11:32:32.625Z"
   },
   {
    "duration": 31,
    "start_time": "2021-07-05T11:32:33.985Z"
   },
   {
    "duration": 12,
    "start_time": "2021-07-05T11:32:34.018Z"
   },
   {
    "duration": 113,
    "start_time": "2021-07-05T11:33:00.073Z"
   },
   {
    "duration": 17,
    "start_time": "2021-07-05T11:33:00.189Z"
   },
   {
    "duration": 14,
    "start_time": "2021-07-05T11:33:00.209Z"
   },
   {
    "duration": 32,
    "start_time": "2021-07-05T11:33:00.225Z"
   },
   {
    "duration": 9,
    "start_time": "2021-07-05T11:33:00.260Z"
   },
   {
    "duration": 28,
    "start_time": "2021-07-05T11:33:00.286Z"
   },
   {
    "duration": 15,
    "start_time": "2021-07-05T11:33:00.317Z"
   },
   {
    "duration": 19,
    "start_time": "2021-07-05T11:33:00.335Z"
   },
   {
    "duration": 43,
    "start_time": "2021-07-05T11:33:00.355Z"
   },
   {
    "duration": 15,
    "start_time": "2021-07-05T11:33:00.400Z"
   },
   {
    "duration": 14,
    "start_time": "2021-07-05T11:33:00.418Z"
   },
   {
    "duration": 90,
    "start_time": "2021-07-05T11:33:00.433Z"
   },
   {
    "duration": 4573,
    "start_time": "2021-07-05T11:33:00.524Z"
   },
   {
    "duration": 1387,
    "start_time": "2021-07-05T11:33:05.099Z"
   },
   {
    "duration": 28,
    "start_time": "2021-07-05T11:33:06.489Z"
   },
   {
    "duration": 20,
    "start_time": "2021-07-05T11:33:06.518Z"
   },
   {
    "duration": 88,
    "start_time": "2021-07-05T11:35:09.332Z"
   },
   {
    "duration": 10,
    "start_time": "2021-07-05T11:35:09.422Z"
   },
   {
    "duration": 23,
    "start_time": "2021-07-05T11:35:09.434Z"
   },
   {
    "duration": 46,
    "start_time": "2021-07-05T11:35:09.459Z"
   },
   {
    "duration": 8,
    "start_time": "2021-07-05T11:35:09.507Z"
   },
   {
    "duration": 25,
    "start_time": "2021-07-05T11:35:09.516Z"
   },
   {
    "duration": 21,
    "start_time": "2021-07-05T11:35:09.543Z"
   },
   {
    "duration": 19,
    "start_time": "2021-07-05T11:35:09.566Z"
   },
   {
    "duration": 24,
    "start_time": "2021-07-05T11:35:09.588Z"
   },
   {
    "duration": 21,
    "start_time": "2021-07-05T11:35:09.613Z"
   },
   {
    "duration": 17,
    "start_time": "2021-07-05T11:35:09.635Z"
   },
   {
    "duration": 60,
    "start_time": "2021-07-05T11:35:09.654Z"
   },
   {
    "duration": 4411,
    "start_time": "2021-07-05T11:35:09.716Z"
   },
   {
    "duration": 1351,
    "start_time": "2021-07-05T11:35:14.129Z"
   },
   {
    "duration": 30,
    "start_time": "2021-07-05T11:35:15.484Z"
   },
   {
    "duration": 184,
    "start_time": "2021-07-05T11:35:15.516Z"
   },
   {
    "duration": 87,
    "start_time": "2021-07-05T11:35:31.209Z"
   },
   {
    "duration": 10,
    "start_time": "2021-07-05T11:35:31.298Z"
   },
   {
    "duration": 19,
    "start_time": "2021-07-05T11:35:31.310Z"
   },
   {
    "duration": 36,
    "start_time": "2021-07-05T11:35:31.331Z"
   },
   {
    "duration": 8,
    "start_time": "2021-07-05T11:35:31.369Z"
   },
   {
    "duration": 29,
    "start_time": "2021-07-05T11:35:31.384Z"
   },
   {
    "duration": 16,
    "start_time": "2021-07-05T11:35:31.415Z"
   },
   {
    "duration": 22,
    "start_time": "2021-07-05T11:35:31.434Z"
   },
   {
    "duration": 23,
    "start_time": "2021-07-05T11:35:31.458Z"
   },
   {
    "duration": 19,
    "start_time": "2021-07-05T11:35:31.483Z"
   },
   {
    "duration": 15,
    "start_time": "2021-07-05T11:35:31.503Z"
   },
   {
    "duration": 54,
    "start_time": "2021-07-05T11:35:31.519Z"
   },
   {
    "duration": 4263,
    "start_time": "2021-07-05T11:35:31.575Z"
   },
   {
    "duration": 1311,
    "start_time": "2021-07-05T11:35:35.840Z"
   },
   {
    "duration": 22,
    "start_time": "2021-07-05T11:35:37.153Z"
   },
   {
    "duration": 15,
    "start_time": "2021-07-05T11:35:37.190Z"
   },
   {
    "duration": 90,
    "start_time": "2021-07-05T11:36:16.956Z"
   },
   {
    "duration": 9,
    "start_time": "2021-07-05T11:36:17.048Z"
   },
   {
    "duration": 7,
    "start_time": "2021-07-05T11:36:17.059Z"
   },
   {
    "duration": 54,
    "start_time": "2021-07-05T11:36:17.068Z"
   },
   {
    "duration": 7,
    "start_time": "2021-07-05T11:36:17.123Z"
   },
   {
    "duration": 15,
    "start_time": "2021-07-05T11:36:17.131Z"
   },
   {
    "duration": 39,
    "start_time": "2021-07-05T11:36:17.147Z"
   },
   {
    "duration": 21,
    "start_time": "2021-07-05T11:36:17.189Z"
   },
   {
    "duration": 14,
    "start_time": "2021-07-05T11:36:17.211Z"
   },
   {
    "duration": 9,
    "start_time": "2021-07-05T11:36:17.226Z"
   },
   {
    "duration": 11,
    "start_time": "2021-07-05T11:36:17.237Z"
   },
   {
    "duration": 86,
    "start_time": "2021-07-05T11:36:17.249Z"
   },
   {
    "duration": 4213,
    "start_time": "2021-07-05T11:36:17.336Z"
   },
   {
    "duration": 1354,
    "start_time": "2021-07-05T11:36:21.551Z"
   },
   {
    "duration": 25,
    "start_time": "2021-07-05T11:36:22.907Z"
   },
   {
    "duration": 13,
    "start_time": "2021-07-05T11:36:22.934Z"
   },
   {
    "duration": 22,
    "start_time": "2021-07-05T11:43:59.328Z"
   },
   {
    "duration": 90,
    "start_time": "2021-07-05T11:45:31.345Z"
   },
   {
    "duration": 11,
    "start_time": "2021-07-05T11:45:31.436Z"
   },
   {
    "duration": 15,
    "start_time": "2021-07-05T11:45:31.449Z"
   },
   {
    "duration": 47,
    "start_time": "2021-07-05T11:45:31.466Z"
   },
   {
    "duration": 8,
    "start_time": "2021-07-05T11:45:31.515Z"
   },
   {
    "duration": 20,
    "start_time": "2021-07-05T11:45:31.524Z"
   },
   {
    "duration": 15,
    "start_time": "2021-07-05T11:45:31.546Z"
   },
   {
    "duration": 40,
    "start_time": "2021-07-05T11:45:31.563Z"
   },
   {
    "duration": 13,
    "start_time": "2021-07-05T11:45:31.605Z"
   },
   {
    "duration": 10,
    "start_time": "2021-07-05T11:45:31.620Z"
   },
   {
    "duration": 13,
    "start_time": "2021-07-05T11:45:31.631Z"
   },
   {
    "duration": 88,
    "start_time": "2021-07-05T11:45:31.645Z"
   },
   {
    "duration": 4435,
    "start_time": "2021-07-05T11:45:31.735Z"
   },
   {
    "duration": 1312,
    "start_time": "2021-07-05T11:45:36.172Z"
   },
   {
    "duration": 25,
    "start_time": "2021-07-05T11:45:37.486Z"
   },
   {
    "duration": 6,
    "start_time": "2021-07-05T11:45:37.513Z"
   },
   {
    "duration": 10,
    "start_time": "2021-07-05T11:45:37.521Z"
   },
   {
    "duration": 21,
    "start_time": "2021-07-05T11:45:37.532Z"
   },
   {
    "duration": 27,
    "start_time": "2021-07-05T11:45:39.872Z"
   },
   {
    "duration": 4587,
    "start_time": "2021-07-05T11:45:40.776Z"
   },
   {
    "duration": 89,
    "start_time": "2021-07-05T11:46:06.561Z"
   },
   {
    "duration": 10,
    "start_time": "2021-07-05T11:46:06.651Z"
   },
   {
    "duration": 30,
    "start_time": "2021-07-05T11:46:06.663Z"
   },
   {
    "duration": 29,
    "start_time": "2021-07-05T11:46:06.695Z"
   },
   {
    "duration": 16,
    "start_time": "2021-07-05T11:46:06.726Z"
   },
   {
    "duration": 16,
    "start_time": "2021-07-05T11:46:06.744Z"
   },
   {
    "duration": 37,
    "start_time": "2021-07-05T11:46:06.762Z"
   },
   {
    "duration": 16,
    "start_time": "2021-07-05T11:46:06.802Z"
   },
   {
    "duration": 15,
    "start_time": "2021-07-05T11:46:06.820Z"
   },
   {
    "duration": 9,
    "start_time": "2021-07-05T11:46:06.837Z"
   },
   {
    "duration": 54,
    "start_time": "2021-07-05T11:46:06.848Z"
   },
   {
    "duration": 54,
    "start_time": "2021-07-05T11:46:06.903Z"
   },
   {
    "duration": 4401,
    "start_time": "2021-07-05T11:46:06.958Z"
   },
   {
    "duration": 1364,
    "start_time": "2021-07-05T11:46:11.362Z"
   },
   {
    "duration": 22,
    "start_time": "2021-07-05T11:46:12.728Z"
   },
   {
    "duration": 6,
    "start_time": "2021-07-05T11:46:12.752Z"
   },
   {
    "duration": 31,
    "start_time": "2021-07-05T11:46:12.759Z"
   },
   {
    "duration": 21,
    "start_time": "2021-07-05T11:46:12.792Z"
   },
   {
    "duration": 26,
    "start_time": "2021-07-05T11:46:14.278Z"
   },
   {
    "duration": 14,
    "start_time": "2021-07-05T11:46:15.586Z"
   },
   {
    "duration": 11,
    "start_time": "2021-07-05T11:46:49.063Z"
   },
   {
    "duration": 4293,
    "start_time": "2021-07-05T11:53:23.609Z"
   },
   {
    "duration": 86,
    "start_time": "2021-07-05T11:53:40.757Z"
   },
   {
    "duration": 10,
    "start_time": "2021-07-05T11:53:40.845Z"
   },
   {
    "duration": 16,
    "start_time": "2021-07-05T11:53:40.857Z"
   },
   {
    "duration": 50,
    "start_time": "2021-07-05T11:53:40.875Z"
   },
   {
    "duration": 31,
    "start_time": "2021-07-05T11:53:40.927Z"
   },
   {
    "duration": 41,
    "start_time": "2021-07-05T11:53:40.960Z"
   },
   {
    "duration": 17,
    "start_time": "2021-07-05T11:53:41.003Z"
   },
   {
    "duration": 26,
    "start_time": "2021-07-05T11:53:41.023Z"
   },
   {
    "duration": 20,
    "start_time": "2021-07-05T11:53:41.051Z"
   },
   {
    "duration": 19,
    "start_time": "2021-07-05T11:53:41.072Z"
   },
   {
    "duration": 39,
    "start_time": "2021-07-05T11:53:41.093Z"
   },
   {
    "duration": 62,
    "start_time": "2021-07-05T11:53:41.134Z"
   },
   {
    "duration": 4314,
    "start_time": "2021-07-05T11:53:41.198Z"
   },
   {
    "duration": 1301,
    "start_time": "2021-07-05T11:53:45.514Z"
   },
   {
    "duration": 23,
    "start_time": "2021-07-05T11:53:46.817Z"
   },
   {
    "duration": 7,
    "start_time": "2021-07-05T11:53:46.841Z"
   },
   {
    "duration": 12,
    "start_time": "2021-07-05T11:53:46.849Z"
   },
   {
    "duration": 22,
    "start_time": "2021-07-05T11:53:46.885Z"
   },
   {
    "duration": 17,
    "start_time": "2021-07-05T11:53:46.908Z"
   },
   {
    "duration": 4510,
    "start_time": "2021-07-05T11:53:49.473Z"
   },
   {
    "duration": 78,
    "start_time": "2021-07-05T11:54:52.331Z"
   },
   {
    "duration": 10,
    "start_time": "2021-07-05T11:54:52.411Z"
   },
   {
    "duration": 6,
    "start_time": "2021-07-05T11:54:52.422Z"
   },
   {
    "duration": 29,
    "start_time": "2021-07-05T11:54:52.429Z"
   },
   {
    "duration": 8,
    "start_time": "2021-07-05T11:54:52.484Z"
   },
   {
    "duration": 17,
    "start_time": "2021-07-05T11:54:52.494Z"
   },
   {
    "duration": 15,
    "start_time": "2021-07-05T11:54:52.513Z"
   },
   {
    "duration": 14,
    "start_time": "2021-07-05T11:54:52.530Z"
   },
   {
    "duration": 49,
    "start_time": "2021-07-05T11:54:52.546Z"
   },
   {
    "duration": 11,
    "start_time": "2021-07-05T11:54:52.596Z"
   },
   {
    "duration": 13,
    "start_time": "2021-07-05T11:54:52.608Z"
   },
   {
    "duration": 73,
    "start_time": "2021-07-05T11:54:52.622Z"
   },
   {
    "duration": 4066,
    "start_time": "2021-07-05T11:54:52.697Z"
   },
   {
    "duration": 1273,
    "start_time": "2021-07-05T11:54:56.765Z"
   },
   {
    "duration": 22,
    "start_time": "2021-07-05T11:54:58.039Z"
   },
   {
    "duration": 7,
    "start_time": "2021-07-05T11:54:58.063Z"
   },
   {
    "duration": 10,
    "start_time": "2021-07-05T11:54:58.085Z"
   },
   {
    "duration": 21,
    "start_time": "2021-07-05T11:54:58.097Z"
   },
   {
    "duration": 7,
    "start_time": "2021-07-05T11:54:58.120Z"
   },
   {
    "duration": 14,
    "start_time": "2021-07-05T11:55:16.691Z"
   },
   {
    "duration": 6,
    "start_time": "2021-07-05T11:55:34.085Z"
   },
   {
    "duration": 20,
    "start_time": "2021-07-05T11:56:30.181Z"
   },
   {
    "duration": 12,
    "start_time": "2021-07-05T11:57:28.362Z"
   },
   {
    "duration": 20,
    "start_time": "2021-07-05T11:59:37.890Z"
   },
   {
    "duration": 90,
    "start_time": "2021-07-05T12:01:01.923Z"
   },
   {
    "duration": 10,
    "start_time": "2021-07-05T12:01:02.015Z"
   },
   {
    "duration": 6,
    "start_time": "2021-07-05T12:01:02.027Z"
   },
   {
    "duration": 52,
    "start_time": "2021-07-05T12:01:02.035Z"
   },
   {
    "duration": 9,
    "start_time": "2021-07-05T12:01:02.089Z"
   },
   {
    "duration": 19,
    "start_time": "2021-07-05T12:01:02.100Z"
   },
   {
    "duration": 17,
    "start_time": "2021-07-05T12:01:02.121Z"
   },
   {
    "duration": 51,
    "start_time": "2021-07-05T12:01:02.141Z"
   },
   {
    "duration": 14,
    "start_time": "2021-07-05T12:01:02.195Z"
   },
   {
    "duration": 10,
    "start_time": "2021-07-05T12:01:02.211Z"
   },
   {
    "duration": 13,
    "start_time": "2021-07-05T12:01:02.223Z"
   },
   {
    "duration": 91,
    "start_time": "2021-07-05T12:01:02.237Z"
   },
   {
    "duration": 4089,
    "start_time": "2021-07-05T12:01:02.330Z"
   },
   {
    "duration": 1241,
    "start_time": "2021-07-05T12:01:06.421Z"
   },
   {
    "duration": 31,
    "start_time": "2021-07-05T12:01:07.664Z"
   },
   {
    "duration": 6,
    "start_time": "2021-07-05T12:01:07.696Z"
   },
   {
    "duration": 11,
    "start_time": "2021-07-05T12:01:07.704Z"
   },
   {
    "duration": 24,
    "start_time": "2021-07-05T12:01:07.716Z"
   },
   {
    "duration": 6,
    "start_time": "2021-07-05T12:01:07.741Z"
   },
   {
    "duration": 9,
    "start_time": "2021-07-05T12:01:07.748Z"
   },
   {
    "duration": 40,
    "start_time": "2021-07-05T12:01:07.758Z"
   },
   {
    "duration": 11,
    "start_time": "2021-07-05T12:01:07.799Z"
   },
   {
    "duration": 18,
    "start_time": "2021-07-05T12:01:07.813Z"
   },
   {
    "duration": 19,
    "start_time": "2021-07-05T12:01:10.106Z"
   },
   {
    "duration": 12,
    "start_time": "2021-07-05T12:01:10.791Z"
   },
   {
    "duration": 60,
    "start_time": "2021-07-05T13:27:35.246Z"
   },
   {
    "duration": 1584,
    "start_time": "2021-07-05T13:27:46.152Z"
   },
   {
    "duration": 23,
    "start_time": "2021-07-05T13:28:12.934Z"
   },
   {
    "duration": 90,
    "start_time": "2021-07-05T13:28:32.969Z"
   },
   {
    "duration": 31,
    "start_time": "2021-07-05T13:28:33.062Z"
   },
   {
    "duration": 7,
    "start_time": "2021-07-05T13:28:33.096Z"
   },
   {
    "duration": 31,
    "start_time": "2021-07-05T13:28:33.105Z"
   },
   {
    "duration": 8,
    "start_time": "2021-07-05T13:28:33.138Z"
   },
   {
    "duration": 51,
    "start_time": "2021-07-05T13:28:33.148Z"
   },
   {
    "duration": 17,
    "start_time": "2021-07-05T13:28:33.201Z"
   },
   {
    "duration": 15,
    "start_time": "2021-07-05T13:28:33.221Z"
   },
   {
    "duration": 48,
    "start_time": "2021-07-05T13:28:33.238Z"
   },
   {
    "duration": 10,
    "start_time": "2021-07-05T13:28:33.288Z"
   },
   {
    "duration": 12,
    "start_time": "2021-07-05T13:28:33.300Z"
   },
   {
    "duration": 78,
    "start_time": "2021-07-05T13:28:33.314Z"
   },
   {
    "duration": 4006,
    "start_time": "2021-07-05T13:28:33.394Z"
   },
   {
    "duration": 1607,
    "start_time": "2021-07-05T13:28:37.401Z"
   },
   {
    "duration": 26,
    "start_time": "2021-07-05T13:28:39.010Z"
   },
   {
    "duration": 6,
    "start_time": "2021-07-05T13:28:39.037Z"
   },
   {
    "duration": 6,
    "start_time": "2021-07-05T13:28:51.966Z"
   },
   {
    "duration": 9,
    "start_time": "2021-07-05T13:28:54.159Z"
   },
   {
    "duration": 86,
    "start_time": "2021-07-05T13:30:05.567Z"
   },
   {
    "duration": 30,
    "start_time": "2021-07-05T13:30:05.655Z"
   },
   {
    "duration": 6,
    "start_time": "2021-07-05T13:30:05.687Z"
   },
   {
    "duration": 43,
    "start_time": "2021-07-05T13:30:05.695Z"
   },
   {
    "duration": 23,
    "start_time": "2021-07-05T13:30:05.740Z"
   },
   {
    "duration": 28,
    "start_time": "2021-07-05T13:30:05.765Z"
   },
   {
    "duration": 24,
    "start_time": "2021-07-05T13:30:05.794Z"
   },
   {
    "duration": 16,
    "start_time": "2021-07-05T13:30:05.821Z"
   },
   {
    "duration": 14,
    "start_time": "2021-07-05T13:30:05.839Z"
   },
   {
    "duration": 35,
    "start_time": "2021-07-05T13:30:05.855Z"
   },
   {
    "duration": 13,
    "start_time": "2021-07-05T13:30:05.891Z"
   },
   {
    "duration": 54,
    "start_time": "2021-07-05T13:30:05.906Z"
   },
   {
    "duration": 4346,
    "start_time": "2021-07-05T13:30:05.962Z"
   },
   {
    "duration": 1591,
    "start_time": "2021-07-05T13:30:10.310Z"
   },
   {
    "duration": 23,
    "start_time": "2021-07-05T13:30:11.903Z"
   },
   {
    "duration": 6,
    "start_time": "2021-07-05T13:30:11.927Z"
   },
   {
    "duration": 10,
    "start_time": "2021-07-05T13:30:11.934Z"
   },
   {
    "duration": 54,
    "start_time": "2021-07-05T13:30:11.946Z"
   },
   {
    "duration": 6,
    "start_time": "2021-07-05T13:30:12.002Z"
   },
   {
    "duration": 35,
    "start_time": "2021-07-05T13:30:12.010Z"
   },
   {
    "duration": 11,
    "start_time": "2021-07-05T13:30:12.047Z"
   },
   {
    "duration": 36,
    "start_time": "2021-07-05T13:30:12.060Z"
   },
   {
    "duration": 89,
    "start_time": "2021-07-05T13:30:57.329Z"
   },
   {
    "duration": 10,
    "start_time": "2021-07-05T13:30:57.420Z"
   },
   {
    "duration": 5,
    "start_time": "2021-07-05T13:30:57.432Z"
   },
   {
    "duration": 53,
    "start_time": "2021-07-05T13:30:57.438Z"
   },
   {
    "duration": 7,
    "start_time": "2021-07-05T13:30:57.493Z"
   },
   {
    "duration": 15,
    "start_time": "2021-07-05T13:30:57.502Z"
   },
   {
    "duration": 13,
    "start_time": "2021-07-05T13:30:57.519Z"
   },
   {
    "duration": 14,
    "start_time": "2021-07-05T13:30:57.535Z"
   },
   {
    "duration": 44,
    "start_time": "2021-07-05T13:30:57.551Z"
   },
   {
    "duration": 10,
    "start_time": "2021-07-05T13:30:57.597Z"
   },
   {
    "duration": 12,
    "start_time": "2021-07-05T13:30:57.609Z"
   },
   {
    "duration": 75,
    "start_time": "2021-07-05T13:30:57.623Z"
   },
   {
    "duration": 4232,
    "start_time": "2021-07-05T13:30:57.700Z"
   },
   {
    "duration": 1510,
    "start_time": "2021-07-05T13:31:01.934Z"
   },
   {
    "duration": 21,
    "start_time": "2021-07-05T13:31:03.446Z"
   },
   {
    "duration": 19,
    "start_time": "2021-07-05T13:31:03.468Z"
   },
   {
    "duration": 15,
    "start_time": "2021-07-05T13:31:03.488Z"
   },
   {
    "duration": 20,
    "start_time": "2021-07-05T13:31:03.504Z"
   },
   {
    "duration": 6,
    "start_time": "2021-07-05T13:31:03.525Z"
   },
   {
    "duration": 22,
    "start_time": "2021-07-05T13:31:03.532Z"
   },
   {
    "duration": 32,
    "start_time": "2021-07-05T13:31:03.555Z"
   },
   {
    "duration": 18,
    "start_time": "2021-07-05T13:31:03.589Z"
   },
   {
    "duration": 12,
    "start_time": "2021-07-05T13:31:03.610Z"
   },
   {
    "duration": 90,
    "start_time": "2021-07-05T13:33:39.420Z"
   },
   {
    "duration": 12,
    "start_time": "2021-07-05T13:33:39.512Z"
   },
   {
    "duration": 5,
    "start_time": "2021-07-05T13:33:39.526Z"
   },
   {
    "duration": 54,
    "start_time": "2021-07-05T13:33:39.533Z"
   },
   {
    "duration": 8,
    "start_time": "2021-07-05T13:33:39.589Z"
   },
   {
    "duration": 15,
    "start_time": "2021-07-05T13:33:39.599Z"
   },
   {
    "duration": 14,
    "start_time": "2021-07-05T13:33:39.616Z"
   },
   {
    "duration": 15,
    "start_time": "2021-07-05T13:33:39.632Z"
   },
   {
    "duration": 15,
    "start_time": "2021-07-05T13:33:39.685Z"
   },
   {
    "duration": 9,
    "start_time": "2021-07-05T13:33:39.702Z"
   },
   {
    "duration": 13,
    "start_time": "2021-07-05T13:33:39.712Z"
   },
   {
    "duration": 92,
    "start_time": "2021-07-05T13:33:39.726Z"
   },
   {
    "duration": 4171,
    "start_time": "2021-07-05T13:33:39.819Z"
   },
   {
    "duration": 1604,
    "start_time": "2021-07-05T13:33:43.992Z"
   },
   {
    "duration": 23,
    "start_time": "2021-07-05T13:33:45.598Z"
   },
   {
    "duration": 6,
    "start_time": "2021-07-05T13:33:45.622Z"
   },
   {
    "duration": 9,
    "start_time": "2021-07-05T13:33:45.629Z"
   },
   {
    "duration": 47,
    "start_time": "2021-07-05T13:33:45.640Z"
   },
   {
    "duration": 7,
    "start_time": "2021-07-05T13:33:45.688Z"
   },
   {
    "duration": 22,
    "start_time": "2021-07-05T13:33:45.696Z"
   },
   {
    "duration": 11,
    "start_time": "2021-07-05T13:33:45.720Z"
   },
   {
    "duration": 55,
    "start_time": "2021-07-05T13:33:45.732Z"
   },
   {
    "duration": 12,
    "start_time": "2021-07-05T13:33:45.790Z"
   },
   {
    "duration": 90,
    "start_time": "2021-07-05T13:35:15.028Z"
   },
   {
    "duration": 10,
    "start_time": "2021-07-05T13:35:15.120Z"
   },
   {
    "duration": 6,
    "start_time": "2021-07-05T13:35:15.132Z"
   },
   {
    "duration": 56,
    "start_time": "2021-07-05T13:35:15.140Z"
   },
   {
    "duration": 7,
    "start_time": "2021-07-05T13:35:15.198Z"
   },
   {
    "duration": 17,
    "start_time": "2021-07-05T13:35:15.207Z"
   },
   {
    "duration": 15,
    "start_time": "2021-07-05T13:35:15.226Z"
   },
   {
    "duration": 47,
    "start_time": "2021-07-05T13:35:15.244Z"
   },
   {
    "duration": 14,
    "start_time": "2021-07-05T13:35:15.293Z"
   },
   {
    "duration": 11,
    "start_time": "2021-07-05T13:35:15.309Z"
   },
   {
    "duration": 12,
    "start_time": "2021-07-05T13:35:15.321Z"
   },
   {
    "duration": 80,
    "start_time": "2021-07-05T13:35:15.334Z"
   },
   {
    "duration": 4296,
    "start_time": "2021-07-05T13:35:15.416Z"
   },
   {
    "duration": 1560,
    "start_time": "2021-07-05T13:35:19.714Z"
   },
   {
    "duration": 28,
    "start_time": "2021-07-05T13:35:21.276Z"
   },
   {
    "duration": 5,
    "start_time": "2021-07-05T13:35:21.306Z"
   },
   {
    "duration": 10,
    "start_time": "2021-07-05T13:35:21.313Z"
   },
   {
    "duration": 18,
    "start_time": "2021-07-05T13:35:21.324Z"
   },
   {
    "duration": 5,
    "start_time": "2021-07-05T13:35:21.344Z"
   },
   {
    "duration": 48,
    "start_time": "2021-07-05T13:35:21.351Z"
   },
   {
    "duration": 12,
    "start_time": "2021-07-05T13:35:21.400Z"
   },
   {
    "duration": 30,
    "start_time": "2021-07-05T13:35:21.414Z"
   },
   {
    "duration": 38,
    "start_time": "2021-07-05T13:35:21.447Z"
   },
   {
    "duration": 4935,
    "start_time": "2021-07-05T13:35:56.670Z"
   },
   {
    "duration": 85,
    "start_time": "2021-07-05T13:36:13.623Z"
   },
   {
    "duration": 10,
    "start_time": "2021-07-05T13:36:13.709Z"
   },
   {
    "duration": 6,
    "start_time": "2021-07-05T13:36:13.721Z"
   },
   {
    "duration": 58,
    "start_time": "2021-07-05T13:36:13.728Z"
   },
   {
    "duration": 8,
    "start_time": "2021-07-05T13:36:13.788Z"
   },
   {
    "duration": 16,
    "start_time": "2021-07-05T13:36:13.797Z"
   },
   {
    "duration": 14,
    "start_time": "2021-07-05T13:36:13.815Z"
   },
   {
    "duration": 14,
    "start_time": "2021-07-05T13:36:13.831Z"
   },
   {
    "duration": 50,
    "start_time": "2021-07-05T13:36:13.847Z"
   },
   {
    "duration": 14,
    "start_time": "2021-07-05T13:36:13.899Z"
   },
   {
    "duration": 17,
    "start_time": "2021-07-05T13:36:13.915Z"
   },
   {
    "duration": 77,
    "start_time": "2021-07-05T13:36:13.934Z"
   },
   {
    "duration": 4320,
    "start_time": "2021-07-05T13:36:14.013Z"
   },
   {
    "duration": 1562,
    "start_time": "2021-07-05T13:36:18.335Z"
   },
   {
    "duration": 25,
    "start_time": "2021-07-05T13:36:19.899Z"
   },
   {
    "duration": 6,
    "start_time": "2021-07-05T13:36:19.925Z"
   },
   {
    "duration": 21,
    "start_time": "2021-07-05T13:36:19.933Z"
   },
   {
    "duration": 33,
    "start_time": "2021-07-05T13:36:19.956Z"
   },
   {
    "duration": 9,
    "start_time": "2021-07-05T13:36:19.991Z"
   },
   {
    "duration": 33,
    "start_time": "2021-07-05T13:36:20.002Z"
   },
   {
    "duration": 14,
    "start_time": "2021-07-05T13:36:20.037Z"
   },
   {
    "duration": 32,
    "start_time": "2021-07-05T13:36:20.053Z"
   },
   {
    "duration": 11,
    "start_time": "2021-07-05T13:36:20.088Z"
   },
   {
    "duration": 4657,
    "start_time": "2021-07-05T13:37:22.831Z"
   },
   {
    "duration": 85,
    "start_time": "2021-07-05T13:37:36.180Z"
   },
   {
    "duration": 18,
    "start_time": "2021-07-05T13:37:36.267Z"
   },
   {
    "duration": 6,
    "start_time": "2021-07-05T13:37:36.288Z"
   },
   {
    "duration": 32,
    "start_time": "2021-07-05T13:37:36.296Z"
   },
   {
    "duration": 8,
    "start_time": "2021-07-05T13:37:36.330Z"
   },
   {
    "duration": 45,
    "start_time": "2021-07-05T13:37:36.340Z"
   },
   {
    "duration": 16,
    "start_time": "2021-07-05T13:37:36.388Z"
   },
   {
    "duration": 14,
    "start_time": "2021-07-05T13:37:36.406Z"
   },
   {
    "duration": 14,
    "start_time": "2021-07-05T13:37:36.422Z"
   },
   {
    "duration": 50,
    "start_time": "2021-07-05T13:37:36.437Z"
   },
   {
    "duration": 15,
    "start_time": "2021-07-05T13:37:36.489Z"
   },
   {
    "duration": 51,
    "start_time": "2021-07-05T13:37:36.506Z"
   },
   {
    "duration": 4542,
    "start_time": "2021-07-05T13:37:36.560Z"
   },
   {
    "duration": 1568,
    "start_time": "2021-07-05T13:37:41.104Z"
   },
   {
    "duration": 29,
    "start_time": "2021-07-05T13:37:42.673Z"
   },
   {
    "duration": 5,
    "start_time": "2021-07-05T13:37:42.703Z"
   },
   {
    "duration": 10,
    "start_time": "2021-07-05T13:37:42.710Z"
   },
   {
    "duration": 20,
    "start_time": "2021-07-05T13:37:42.721Z"
   },
   {
    "duration": 12,
    "start_time": "2021-07-05T13:37:42.742Z"
   },
   {
    "duration": 85,
    "start_time": "2021-07-05T13:38:48.116Z"
   },
   {
    "duration": 11,
    "start_time": "2021-07-05T13:38:48.203Z"
   },
   {
    "duration": 6,
    "start_time": "2021-07-05T13:38:48.216Z"
   },
   {
    "duration": 28,
    "start_time": "2021-07-05T13:38:48.224Z"
   },
   {
    "duration": 36,
    "start_time": "2021-07-05T13:38:48.254Z"
   },
   {
    "duration": 16,
    "start_time": "2021-07-05T13:38:48.292Z"
   },
   {
    "duration": 15,
    "start_time": "2021-07-05T13:38:48.310Z"
   },
   {
    "duration": 16,
    "start_time": "2021-07-05T13:38:48.329Z"
   },
   {
    "duration": 45,
    "start_time": "2021-07-05T13:38:48.347Z"
   },
   {
    "duration": 13,
    "start_time": "2021-07-05T13:38:48.394Z"
   },
   {
    "duration": 18,
    "start_time": "2021-07-05T13:38:48.409Z"
   },
   {
    "duration": 77,
    "start_time": "2021-07-05T13:38:48.429Z"
   },
   {
    "duration": 4564,
    "start_time": "2021-07-05T13:38:48.507Z"
   },
   {
    "duration": 1623,
    "start_time": "2021-07-05T13:38:53.072Z"
   },
   {
    "duration": 22,
    "start_time": "2021-07-05T13:38:54.698Z"
   },
   {
    "duration": 7,
    "start_time": "2021-07-05T13:38:54.722Z"
   },
   {
    "duration": 10,
    "start_time": "2021-07-05T13:38:54.731Z"
   },
   {
    "duration": 50,
    "start_time": "2021-07-05T13:38:54.743Z"
   },
   {
    "duration": 12,
    "start_time": "2021-07-05T13:38:54.795Z"
   },
   {
    "duration": 21,
    "start_time": "2021-07-05T13:38:54.809Z"
   },
   {
    "duration": 13,
    "start_time": "2021-07-05T13:38:54.832Z"
   },
   {
    "duration": 53,
    "start_time": "2021-07-05T13:38:54.847Z"
   },
   {
    "duration": 13,
    "start_time": "2021-07-05T13:38:54.903Z"
   },
   {
    "duration": 252,
    "start_time": "2021-07-05T13:50:58.399Z"
   },
   {
    "duration": 12,
    "start_time": "2021-07-05T13:51:12.128Z"
   },
   {
    "duration": 14,
    "start_time": "2021-07-05T13:51:27.359Z"
   },
   {
    "duration": 16,
    "start_time": "2021-07-05T13:53:15.056Z"
   },
   {
    "duration": 17,
    "start_time": "2021-07-05T13:55:30.102Z"
   },
   {
    "duration": 93,
    "start_time": "2021-07-05T13:55:45.602Z"
   },
   {
    "duration": 15,
    "start_time": "2021-07-05T13:55:45.698Z"
   },
   {
    "duration": 8,
    "start_time": "2021-07-05T13:55:45.715Z"
   },
   {
    "duration": 29,
    "start_time": "2021-07-05T13:55:45.725Z"
   },
   {
    "duration": 36,
    "start_time": "2021-07-05T13:55:45.756Z"
   },
   {
    "duration": 26,
    "start_time": "2021-07-05T13:55:45.795Z"
   },
   {
    "duration": 16,
    "start_time": "2021-07-05T13:55:45.823Z"
   },
   {
    "duration": 15,
    "start_time": "2021-07-05T13:55:45.841Z"
   },
   {
    "duration": 50,
    "start_time": "2021-07-05T13:55:45.857Z"
   },
   {
    "duration": 12,
    "start_time": "2021-07-05T13:55:45.909Z"
   },
   {
    "duration": 16,
    "start_time": "2021-07-05T13:55:45.922Z"
   },
   {
    "duration": 93,
    "start_time": "2021-07-05T13:55:45.940Z"
   },
   {
    "duration": 4417,
    "start_time": "2021-07-05T13:55:46.035Z"
   },
   {
    "duration": 1674,
    "start_time": "2021-07-05T13:55:50.454Z"
   },
   {
    "duration": 23,
    "start_time": "2021-07-05T13:55:52.130Z"
   },
   {
    "duration": 6,
    "start_time": "2021-07-05T13:55:52.155Z"
   },
   {
    "duration": 30,
    "start_time": "2021-07-05T13:55:52.162Z"
   },
   {
    "duration": 21,
    "start_time": "2021-07-05T13:55:52.194Z"
   },
   {
    "duration": 16,
    "start_time": "2021-07-05T13:57:17.658Z"
   },
   {
    "duration": 92,
    "start_time": "2021-07-05T13:57:34.642Z"
   },
   {
    "duration": 10,
    "start_time": "2021-07-05T13:57:34.735Z"
   },
   {
    "duration": 5,
    "start_time": "2021-07-05T13:57:34.747Z"
   },
   {
    "duration": 60,
    "start_time": "2021-07-05T13:57:34.754Z"
   },
   {
    "duration": 7,
    "start_time": "2021-07-05T13:57:34.816Z"
   },
   {
    "duration": 17,
    "start_time": "2021-07-05T13:57:34.825Z"
   },
   {
    "duration": 15,
    "start_time": "2021-07-05T13:57:34.844Z"
   },
   {
    "duration": 20,
    "start_time": "2021-07-05T13:57:34.887Z"
   },
   {
    "duration": 15,
    "start_time": "2021-07-05T13:57:34.909Z"
   },
   {
    "duration": 10,
    "start_time": "2021-07-05T13:57:34.925Z"
   },
   {
    "duration": 12,
    "start_time": "2021-07-05T13:57:34.937Z"
   },
   {
    "duration": 90,
    "start_time": "2021-07-05T13:57:34.951Z"
   },
   {
    "duration": 4925,
    "start_time": "2021-07-05T13:57:35.043Z"
   },
   {
    "duration": 1700,
    "start_time": "2021-07-05T13:57:39.969Z"
   },
   {
    "duration": 42,
    "start_time": "2021-07-05T13:57:41.671Z"
   },
   {
    "duration": 5,
    "start_time": "2021-07-05T13:57:41.714Z"
   },
   {
    "duration": 11,
    "start_time": "2021-07-05T13:57:41.721Z"
   },
   {
    "duration": 19,
    "start_time": "2021-07-05T13:57:41.735Z"
   },
   {
    "duration": 16,
    "start_time": "2021-07-05T14:00:35.135Z"
   },
   {
    "duration": 198,
    "start_time": "2021-07-05T14:02:21.602Z"
   },
   {
    "duration": 88,
    "start_time": "2021-07-05T14:02:28.961Z"
   },
   {
    "duration": 10,
    "start_time": "2021-07-05T14:02:29.051Z"
   },
   {
    "duration": 27,
    "start_time": "2021-07-05T14:02:29.063Z"
   },
   {
    "duration": 39,
    "start_time": "2021-07-05T14:02:29.092Z"
   },
   {
    "duration": 7,
    "start_time": "2021-07-05T14:02:29.133Z"
   },
   {
    "duration": 17,
    "start_time": "2021-07-05T14:02:29.141Z"
   },
   {
    "duration": 40,
    "start_time": "2021-07-05T14:02:29.159Z"
   },
   {
    "duration": 17,
    "start_time": "2021-07-05T14:02:29.202Z"
   },
   {
    "duration": 14,
    "start_time": "2021-07-05T14:02:29.221Z"
   },
   {
    "duration": 16,
    "start_time": "2021-07-05T14:02:29.236Z"
   },
   {
    "duration": 44,
    "start_time": "2021-07-05T14:02:29.253Z"
   },
   {
    "duration": 66,
    "start_time": "2021-07-05T14:02:29.299Z"
   },
   {
    "duration": 4394,
    "start_time": "2021-07-05T14:02:29.367Z"
   },
   {
    "duration": 1624,
    "start_time": "2021-07-05T14:02:33.763Z"
   },
   {
    "duration": 27,
    "start_time": "2021-07-05T14:02:35.389Z"
   },
   {
    "duration": 5,
    "start_time": "2021-07-05T14:02:35.418Z"
   },
   {
    "duration": 10,
    "start_time": "2021-07-05T14:02:35.424Z"
   },
   {
    "duration": 206,
    "start_time": "2021-07-05T14:02:35.436Z"
   },
   {
    "duration": 15,
    "start_time": "2021-07-05T14:03:07.295Z"
   },
   {
    "duration": 17,
    "start_time": "2021-07-05T14:07:50.432Z"
   },
   {
    "duration": 193,
    "start_time": "2021-07-05T14:09:33.938Z"
   },
   {
    "duration": 538,
    "start_time": "2021-07-05T14:12:28.263Z"
   },
   {
    "duration": 23,
    "start_time": "2021-07-05T14:12:55.947Z"
   },
   {
    "duration": 27,
    "start_time": "2021-07-05T14:16:05.002Z"
   },
   {
    "duration": 10,
    "start_time": "2021-07-05T14:16:28.211Z"
   },
   {
    "duration": 35,
    "start_time": "2021-07-05T14:16:29.407Z"
   },
   {
    "duration": 102,
    "start_time": "2021-07-05T14:38:52.878Z"
   },
   {
    "duration": 291,
    "start_time": "2021-07-05T14:42:47.973Z"
   },
   {
    "duration": 74,
    "start_time": "2021-07-05T14:43:03.733Z"
   },
   {
    "duration": 11,
    "start_time": "2021-07-05T14:43:03.809Z"
   },
   {
    "duration": 7,
    "start_time": "2021-07-05T14:43:03.823Z"
   },
   {
    "duration": 71,
    "start_time": "2021-07-05T14:43:03.832Z"
   },
   {
    "duration": 9,
    "start_time": "2021-07-05T14:43:03.905Z"
   },
   {
    "duration": 18,
    "start_time": "2021-07-05T14:43:03.916Z"
   },
   {
    "duration": 16,
    "start_time": "2021-07-05T14:43:03.936Z"
   },
   {
    "duration": 52,
    "start_time": "2021-07-05T14:43:03.955Z"
   },
   {
    "duration": 15,
    "start_time": "2021-07-05T14:43:04.009Z"
   },
   {
    "duration": 16,
    "start_time": "2021-07-05T14:43:04.025Z"
   },
   {
    "duration": 12,
    "start_time": "2021-07-05T14:43:04.043Z"
   },
   {
    "duration": 78,
    "start_time": "2021-07-05T14:43:04.057Z"
   },
   {
    "duration": 4424,
    "start_time": "2021-07-05T14:43:04.137Z"
   },
   {
    "duration": 1626,
    "start_time": "2021-07-05T14:43:08.563Z"
   },
   {
    "duration": 25,
    "start_time": "2021-07-05T14:43:10.191Z"
   },
   {
    "duration": 6,
    "start_time": "2021-07-05T14:43:10.218Z"
   },
   {
    "duration": 10,
    "start_time": "2021-07-05T14:43:10.225Z"
   },
   {
    "duration": 57,
    "start_time": "2021-07-05T14:43:10.237Z"
   },
   {
    "duration": 16,
    "start_time": "2021-07-05T14:43:10.296Z"
   },
   {
    "duration": 20,
    "start_time": "2021-07-05T14:43:10.314Z"
   },
   {
    "duration": 12,
    "start_time": "2021-07-05T14:43:10.336Z"
   },
   {
    "duration": 55,
    "start_time": "2021-07-05T14:43:10.350Z"
   },
   {
    "duration": 12,
    "start_time": "2021-07-05T14:43:10.407Z"
   },
   {
    "duration": 1202,
    "start_time": "2021-07-06T09:21:06.718Z"
   },
   {
    "duration": 22,
    "start_time": "2021-07-06T09:21:07.923Z"
   },
   {
    "duration": 22,
    "start_time": "2021-07-06T09:21:07.949Z"
   },
   {
    "duration": 43,
    "start_time": "2021-07-06T09:21:07.974Z"
   },
   {
    "duration": 11,
    "start_time": "2021-07-06T09:21:08.019Z"
   },
   {
    "duration": 57,
    "start_time": "2021-07-06T09:21:08.033Z"
   },
   {
    "duration": 34,
    "start_time": "2021-07-06T09:21:08.093Z"
   },
   {
    "duration": 61,
    "start_time": "2021-07-06T09:21:08.132Z"
   },
   {
    "duration": 33,
    "start_time": "2021-07-06T09:21:08.197Z"
   },
   {
    "duration": 46,
    "start_time": "2021-07-06T09:21:08.232Z"
   },
   {
    "duration": 21,
    "start_time": "2021-07-06T09:21:08.281Z"
   },
   {
    "duration": 106,
    "start_time": "2021-07-06T09:21:08.305Z"
   },
   {
    "duration": 7149,
    "start_time": "2021-07-06T09:21:08.414Z"
   },
   {
    "duration": 2708,
    "start_time": "2021-07-06T09:21:15.567Z"
   },
   {
    "duration": 33,
    "start_time": "2021-07-06T09:21:18.278Z"
   },
   {
    "duration": 16,
    "start_time": "2021-07-06T09:21:18.313Z"
   },
   {
    "duration": 47,
    "start_time": "2021-07-06T09:21:18.332Z"
   },
   {
    "duration": 42,
    "start_time": "2021-07-06T09:21:18.382Z"
   },
   {
    "duration": 51,
    "start_time": "2021-07-06T09:21:18.427Z"
   },
   {
    "duration": 30,
    "start_time": "2021-07-06T09:21:18.481Z"
   },
   {
    "duration": 17,
    "start_time": "2021-07-06T09:21:18.513Z"
   },
   {
    "duration": 26,
    "start_time": "2021-07-06T09:21:18.567Z"
   },
   {
    "duration": 18,
    "start_time": "2021-07-06T09:21:18.599Z"
   },
   {
    "duration": 453,
    "start_time": "2021-07-06T09:32:08.624Z"
   },
   {
    "duration": 27,
    "start_time": "2021-07-06T09:32:26.942Z"
   },
   {
    "duration": 87,
    "start_time": "2021-07-06T10:13:27.776Z"
   },
   {
    "duration": 90,
    "start_time": "2021-07-06T10:13:43.653Z"
   },
   {
    "duration": 611,
    "start_time": "2021-07-06T10:44:22.097Z"
   },
   {
    "duration": 13,
    "start_time": "2021-07-06T10:44:22.710Z"
   },
   {
    "duration": 7,
    "start_time": "2021-07-06T10:44:22.725Z"
   },
   {
    "duration": 56,
    "start_time": "2021-07-06T10:44:22.733Z"
   },
   {
    "duration": 8,
    "start_time": "2021-07-06T10:44:22.791Z"
   },
   {
    "duration": 22,
    "start_time": "2021-07-06T10:44:22.801Z"
   },
   {
    "duration": 24,
    "start_time": "2021-07-06T10:44:22.825Z"
   },
   {
    "duration": 13,
    "start_time": "2021-07-06T10:44:22.852Z"
   },
   {
    "duration": 12,
    "start_time": "2021-07-06T10:44:22.867Z"
   },
   {
    "duration": 9,
    "start_time": "2021-07-06T10:44:22.881Z"
   },
   {
    "duration": 12,
    "start_time": "2021-07-06T10:44:22.891Z"
   },
   {
    "duration": 78,
    "start_time": "2021-07-06T10:44:22.904Z"
   },
   {
    "duration": 4344,
    "start_time": "2021-07-06T10:44:22.984Z"
   },
   {
    "duration": 1390,
    "start_time": "2021-07-06T10:44:27.330Z"
   },
   {
    "duration": 29,
    "start_time": "2021-07-06T10:44:28.721Z"
   },
   {
    "duration": 8,
    "start_time": "2021-07-06T10:44:28.752Z"
   },
   {
    "duration": 18,
    "start_time": "2021-07-06T10:44:28.762Z"
   },
   {
    "duration": 25,
    "start_time": "2021-07-06T10:44:28.782Z"
   },
   {
    "duration": 10,
    "start_time": "2021-07-06T10:44:28.808Z"
   },
   {
    "duration": 32,
    "start_time": "2021-07-06T10:44:28.819Z"
   },
   {
    "duration": 11,
    "start_time": "2021-07-06T10:44:28.852Z"
   },
   {
    "duration": 21,
    "start_time": "2021-07-06T10:44:28.864Z"
   },
   {
    "duration": 10,
    "start_time": "2021-07-06T10:44:28.887Z"
   },
   {
    "duration": 6,
    "start_time": "2021-07-06T11:02:56.927Z"
   },
   {
    "duration": 7,
    "start_time": "2021-07-06T11:03:25.462Z"
   },
   {
    "duration": 20,
    "start_time": "2021-07-06T11:03:38.559Z"
   },
   {
    "duration": 3628,
    "start_time": "2021-07-06T11:09:19.400Z"
   },
   {
    "duration": 4255,
    "start_time": "2021-07-06T11:10:54.379Z"
   },
   {
    "duration": 3364,
    "start_time": "2021-07-06T11:11:39.852Z"
   },
   {
    "duration": 5046,
    "start_time": "2021-07-06T11:11:57.963Z"
   },
   {
    "duration": 359,
    "start_time": "2021-07-06T11:12:50.398Z"
   },
   {
    "duration": 394,
    "start_time": "2021-07-06T11:13:05.351Z"
   },
   {
    "duration": 5198,
    "start_time": "2021-07-06T11:13:40.510Z"
   },
   {
    "duration": 10,
    "start_time": "2021-07-06T11:26:35.161Z"
   },
   {
    "duration": 249,
    "start_time": "2021-07-06T11:38:48.635Z"
   },
   {
    "duration": 3912,
    "start_time": "2021-07-06T11:39:57.381Z"
   },
   {
    "duration": 6647,
    "start_time": "2021-07-06T11:40:48.381Z"
   },
   {
    "duration": 1043,
    "start_time": "2021-07-06T11:42:49.767Z"
   },
   {
    "duration": 1274,
    "start_time": "2021-07-06T11:43:18.963Z"
   },
   {
    "duration": 1793,
    "start_time": "2021-07-06T11:50:09.749Z"
   },
   {
    "duration": 87,
    "start_time": "2021-07-06T11:51:53.905Z"
   },
   {
    "duration": 89,
    "start_time": "2021-07-06T11:54:14.012Z"
   },
   {
    "duration": 79,
    "start_time": "2021-07-06T11:55:11.132Z"
   },
   {
    "duration": 77,
    "start_time": "2021-07-06T11:55:23.724Z"
   },
   {
    "duration": 68,
    "start_time": "2021-07-06T11:55:39.923Z"
   },
   {
    "duration": 60,
    "start_time": "2021-07-06T12:02:14.383Z"
   },
   {
    "duration": 76,
    "start_time": "2021-07-06T12:02:19.210Z"
   },
   {
    "duration": 10,
    "start_time": "2021-07-06T12:02:19.289Z"
   },
   {
    "duration": 9,
    "start_time": "2021-07-06T12:02:19.301Z"
   },
   {
    "duration": 73,
    "start_time": "2021-07-06T12:02:19.312Z"
   },
   {
    "duration": 29,
    "start_time": "2021-07-06T12:02:19.406Z"
   },
   {
    "duration": 21,
    "start_time": "2021-07-06T12:02:19.437Z"
   },
   {
    "duration": 14,
    "start_time": "2021-07-06T12:02:19.460Z"
   },
   {
    "duration": 13,
    "start_time": "2021-07-06T12:02:19.476Z"
   },
   {
    "duration": 13,
    "start_time": "2021-07-06T12:02:19.490Z"
   },
   {
    "duration": 12,
    "start_time": "2021-07-06T12:02:19.505Z"
   },
   {
    "duration": 16,
    "start_time": "2021-07-06T12:02:19.541Z"
   },
   {
    "duration": 20,
    "start_time": "2021-07-06T12:02:19.560Z"
   },
   {
    "duration": 51,
    "start_time": "2021-07-06T12:02:19.582Z"
   },
   {
    "duration": 4046,
    "start_time": "2021-07-06T12:02:19.640Z"
   },
   {
    "duration": 1677,
    "start_time": "2021-07-06T12:02:23.687Z"
   },
   {
    "duration": 20,
    "start_time": "2021-07-06T12:02:25.366Z"
   },
   {
    "duration": 5,
    "start_time": "2021-07-06T12:02:25.388Z"
   },
   {
    "duration": 16,
    "start_time": "2021-07-06T12:02:25.395Z"
   },
   {
    "duration": 33,
    "start_time": "2021-07-06T12:02:25.413Z"
   },
   {
    "duration": 12,
    "start_time": "2021-07-06T12:02:25.448Z"
   },
   {
    "duration": 28,
    "start_time": "2021-07-06T12:02:25.462Z"
   },
   {
    "duration": 9,
    "start_time": "2021-07-06T12:02:25.492Z"
   },
   {
    "duration": 18,
    "start_time": "2021-07-06T12:02:25.503Z"
   },
   {
    "duration": 25,
    "start_time": "2021-07-06T12:02:25.522Z"
   },
   {
    "duration": 617,
    "start_time": "2021-07-07T07:58:29.078Z"
   },
   {
    "duration": 8,
    "start_time": "2021-07-07T07:58:29.697Z"
   },
   {
    "duration": 3,
    "start_time": "2021-07-07T07:58:29.707Z"
   },
   {
    "duration": 9,
    "start_time": "2021-07-07T07:58:35.848Z"
   },
   {
    "duration": 19,
    "start_time": "2021-07-07T07:58:45.797Z"
   },
   {
    "duration": 8,
    "start_time": "2021-07-07T07:59:04.106Z"
   },
   {
    "duration": 7,
    "start_time": "2021-07-07T07:59:09.187Z"
   },
   {
    "duration": 79,
    "start_time": "2021-07-07T07:59:34.309Z"
   },
   {
    "duration": 10,
    "start_time": "2021-07-07T07:59:34.390Z"
   },
   {
    "duration": 12,
    "start_time": "2021-07-07T07:59:34.403Z"
   },
   {
    "duration": 76,
    "start_time": "2021-07-07T07:59:34.417Z"
   },
   {
    "duration": 3,
    "start_time": "2021-07-07T07:59:34.495Z"
   },
   {
    "duration": 55,
    "start_time": "2021-07-07T07:59:34.499Z"
   },
   {
    "duration": 9,
    "start_time": "2021-07-07T07:59:34.556Z"
   },
   {
    "duration": 30,
    "start_time": "2021-07-07T07:59:34.568Z"
   },
   {
    "duration": 15,
    "start_time": "2021-07-07T07:59:34.600Z"
   },
   {
    "duration": 22,
    "start_time": "2021-07-07T07:59:34.617Z"
   },
   {
    "duration": 22,
    "start_time": "2021-07-07T07:59:34.640Z"
   },
   {
    "duration": 34,
    "start_time": "2021-07-07T07:59:34.664Z"
   },
   {
    "duration": 18,
    "start_time": "2021-07-07T07:59:34.700Z"
   },
   {
    "duration": 64,
    "start_time": "2021-07-07T07:59:34.721Z"
   },
   {
    "duration": 4601,
    "start_time": "2021-07-07T07:59:34.787Z"
   },
   {
    "duration": 1541,
    "start_time": "2021-07-07T07:59:39.390Z"
   },
   {
    "duration": 34,
    "start_time": "2021-07-07T07:59:40.932Z"
   },
   {
    "duration": 9,
    "start_time": "2021-07-07T07:59:40.968Z"
   },
   {
    "duration": 7,
    "start_time": "2021-07-07T07:59:40.979Z"
   },
   {
    "duration": 20,
    "start_time": "2021-07-07T07:59:40.988Z"
   },
   {
    "duration": 43,
    "start_time": "2021-07-07T07:59:41.010Z"
   },
   {
    "duration": 21,
    "start_time": "2021-07-07T07:59:41.055Z"
   },
   {
    "duration": 10,
    "start_time": "2021-07-07T07:59:41.079Z"
   },
   {
    "duration": 19,
    "start_time": "2021-07-07T07:59:41.090Z"
   },
   {
    "duration": 31,
    "start_time": "2021-07-07T07:59:41.111Z"
   },
   {
    "duration": 771,
    "start_time": "2022-01-17T05:05:51.726Z"
   },
   {
    "duration": 71,
    "start_time": "2022-01-17T05:05:52.500Z"
   },
   {
    "duration": 48,
    "start_time": "2022-01-17T05:05:52.574Z"
   },
   {
    "duration": 48,
    "start_time": "2022-01-17T05:05:52.624Z"
   },
   {
    "duration": 16,
    "start_time": "2022-01-17T05:06:52.811Z"
   },
   {
    "duration": 2467,
    "start_time": "2022-01-17T05:07:06.691Z"
   },
   {
    "duration": 31,
    "start_time": "2022-01-17T05:12:15.819Z"
   },
   {
    "duration": 14,
    "start_time": "2022-01-17T05:12:23.984Z"
   },
   {
    "duration": 13,
    "start_time": "2022-01-17T05:35:29.407Z"
   },
   {
    "duration": 51,
    "start_time": "2022-01-17T05:39:57.924Z"
   },
   {
    "duration": 35,
    "start_time": "2022-01-17T05:40:31.794Z"
   },
   {
    "duration": 23,
    "start_time": "2022-01-17T05:40:48.608Z"
   },
   {
    "duration": 413,
    "start_time": "2022-01-17T05:41:03.491Z"
   },
   {
    "duration": 8,
    "start_time": "2022-01-17T05:43:12.365Z"
   },
   {
    "duration": 348,
    "start_time": "2022-01-17T05:43:37.070Z"
   },
   {
    "duration": 367,
    "start_time": "2022-01-17T05:44:11.139Z"
   },
   {
    "duration": 25,
    "start_time": "2022-01-17T05:49:07.409Z"
   },
   {
    "duration": 15,
    "start_time": "2022-01-17T05:50:40.109Z"
   },
   {
    "duration": 106,
    "start_time": "2022-01-17T05:50:47.470Z"
   },
   {
    "duration": 338,
    "start_time": "2022-01-17T05:50:58.341Z"
   },
   {
    "duration": 115,
    "start_time": "2022-01-17T05:51:06.934Z"
   },
   {
    "duration": 110,
    "start_time": "2022-01-17T05:51:14.709Z"
   },
   {
    "duration": 15,
    "start_time": "2022-01-17T05:51:23.220Z"
   },
   {
    "duration": 15,
    "start_time": "2022-01-17T05:51:37.531Z"
   },
   {
    "duration": 15,
    "start_time": "2022-01-17T05:53:10.477Z"
   },
   {
    "duration": 15,
    "start_time": "2022-01-17T05:53:28.145Z"
   },
   {
    "duration": 4,
    "start_time": "2022-01-17T05:55:14.248Z"
   },
   {
    "duration": 64,
    "start_time": "2022-01-17T05:55:14.259Z"
   },
   {
    "duration": 33,
    "start_time": "2022-01-17T05:55:14.325Z"
   },
   {
    "duration": 41,
    "start_time": "2022-01-17T05:55:14.361Z"
   },
   {
    "duration": 16,
    "start_time": "2022-01-17T05:55:14.405Z"
   },
   {
    "duration": 33,
    "start_time": "2022-01-17T05:55:14.423Z"
   },
   {
    "duration": 4,
    "start_time": "2022-01-17T06:38:48.856Z"
   },
   {
    "duration": 69,
    "start_time": "2022-01-17T06:38:48.863Z"
   },
   {
    "duration": 33,
    "start_time": "2022-01-17T06:38:48.934Z"
   },
   {
    "duration": 38,
    "start_time": "2022-01-17T06:38:48.969Z"
   },
   {
    "duration": 15,
    "start_time": "2022-01-17T06:38:49.010Z"
   },
   {
    "duration": 25,
    "start_time": "2022-01-17T06:38:49.028Z"
   },
   {
    "duration": 158,
    "start_time": "2022-01-17T06:38:49.056Z"
   },
   {
    "duration": 30,
    "start_time": "2022-01-17T06:38:49.218Z"
   },
   {
    "duration": 3,
    "start_time": "2022-01-17T06:40:58.920Z"
   },
   {
    "duration": 67,
    "start_time": "2022-01-17T06:40:58.932Z"
   },
   {
    "duration": 34,
    "start_time": "2022-01-17T06:40:59.002Z"
   },
   {
    "duration": 13,
    "start_time": "2022-01-17T06:40:59.039Z"
   },
   {
    "duration": 55,
    "start_time": "2022-01-17T06:40:59.055Z"
   },
   {
    "duration": 25,
    "start_time": "2022-01-17T06:40:59.112Z"
   },
   {
    "duration": 22,
    "start_time": "2022-01-17T06:40:59.140Z"
   },
   {
    "duration": 42,
    "start_time": "2022-01-17T06:40:59.164Z"
   },
   {
    "duration": 24,
    "start_time": "2022-01-17T06:41:15.446Z"
   },
   {
    "duration": 357,
    "start_time": "2022-01-17T06:45:06.773Z"
   },
   {
    "duration": 335,
    "start_time": "2022-01-17T06:45:19.436Z"
   },
   {
    "duration": 45,
    "start_time": "2022-01-17T06:46:51.076Z"
   },
   {
    "duration": 13,
    "start_time": "2022-01-17T06:51:22.198Z"
   },
   {
    "duration": 17,
    "start_time": "2022-01-17T06:51:50.386Z"
   },
   {
    "duration": 14,
    "start_time": "2022-01-17T06:52:15.972Z"
   },
   {
    "duration": 15,
    "start_time": "2022-01-17T06:52:57.830Z"
   },
   {
    "duration": 424,
    "start_time": "2022-01-17T06:53:21.703Z"
   },
   {
    "duration": 488,
    "start_time": "2022-01-17T06:53:37.137Z"
   },
   {
    "duration": 362,
    "start_time": "2022-01-17T06:53:51.772Z"
   },
   {
    "duration": 357,
    "start_time": "2022-01-17T06:55:14.383Z"
   },
   {
    "duration": 17,
    "start_time": "2022-01-17T06:55:29.732Z"
   },
   {
    "duration": 14,
    "start_time": "2022-01-17T06:55:50.584Z"
   },
   {
    "duration": 17,
    "start_time": "2022-01-17T06:56:11.065Z"
   },
   {
    "duration": 15,
    "start_time": "2022-01-17T06:57:16.972Z"
   },
   {
    "duration": 110,
    "start_time": "2022-01-17T06:58:39.888Z"
   },
   {
    "duration": 130,
    "start_time": "2022-01-17T06:58:46.742Z"
   },
   {
    "duration": 20,
    "start_time": "2022-01-17T06:59:46.762Z"
   },
   {
    "duration": 17,
    "start_time": "2022-01-17T07:04:16.315Z"
   },
   {
    "duration": 335,
    "start_time": "2022-01-17T07:16:13.681Z"
   },
   {
    "duration": 3,
    "start_time": "2022-01-17T07:16:23.300Z"
   },
   {
    "duration": 65,
    "start_time": "2022-01-17T07:16:23.306Z"
   },
   {
    "duration": 49,
    "start_time": "2022-01-17T07:16:23.374Z"
   },
   {
    "duration": 13,
    "start_time": "2022-01-17T07:16:23.425Z"
   },
   {
    "duration": 74,
    "start_time": "2022-01-17T07:16:23.441Z"
   },
   {
    "duration": 17,
    "start_time": "2022-01-17T07:16:23.518Z"
   },
   {
    "duration": 18,
    "start_time": "2022-01-17T07:16:23.539Z"
   },
   {
    "duration": 54,
    "start_time": "2022-01-17T07:16:23.559Z"
   },
   {
    "duration": 347,
    "start_time": "2022-01-17T07:16:23.616Z"
   },
   {
    "duration": 378,
    "start_time": "2022-01-17T07:17:08.312Z"
   },
   {
    "duration": 12,
    "start_time": "2022-01-17T07:18:41.660Z"
   },
   {
    "duration": 15,
    "start_time": "2022-01-17T07:19:00.711Z"
   },
   {
    "duration": 14,
    "start_time": "2022-01-17T07:20:11.792Z"
   },
   {
    "duration": 22,
    "start_time": "2022-01-17T07:20:35.901Z"
   },
   {
    "duration": 581,
    "start_time": "2022-01-17T10:23:26.879Z"
   },
   {
    "duration": 54,
    "start_time": "2022-01-17T10:23:27.462Z"
   },
   {
    "duration": 27,
    "start_time": "2022-01-17T10:23:27.518Z"
   },
   {
    "duration": 17,
    "start_time": "2022-01-17T10:23:27.547Z"
   },
   {
    "duration": 31,
    "start_time": "2022-01-17T10:23:27.566Z"
   },
   {
    "duration": 14,
    "start_time": "2022-01-17T10:23:27.599Z"
   },
   {
    "duration": 46,
    "start_time": "2022-01-17T10:23:27.615Z"
   },
   {
    "duration": 12,
    "start_time": "2022-01-17T10:23:27.663Z"
   },
   {
    "duration": 13,
    "start_time": "2022-01-17T10:23:27.677Z"
   },
   {
    "duration": 5,
    "start_time": "2022-01-17T10:23:27.691Z"
   },
   {
    "duration": 10,
    "start_time": "2022-01-17T10:24:28.608Z"
   },
   {
    "duration": 44,
    "start_time": "2022-01-17T10:28:41.871Z"
   },
   {
    "duration": 28,
    "start_time": "2022-01-17T10:29:01.992Z"
   },
   {
    "duration": 2,
    "start_time": "2022-01-17T10:29:32.094Z"
   },
   {
    "duration": 55,
    "start_time": "2022-01-17T10:29:32.098Z"
   },
   {
    "duration": 22,
    "start_time": "2022-01-17T10:29:32.156Z"
   },
   {
    "duration": 10,
    "start_time": "2022-01-17T10:29:32.180Z"
   },
   {
    "duration": 30,
    "start_time": "2022-01-17T10:29:32.192Z"
   },
   {
    "duration": 42,
    "start_time": "2022-01-17T10:29:32.224Z"
   },
   {
    "duration": 12,
    "start_time": "2022-01-17T10:29:32.269Z"
   },
   {
    "duration": 12,
    "start_time": "2022-01-17T10:29:32.283Z"
   },
   {
    "duration": 13,
    "start_time": "2022-01-17T10:29:32.297Z"
   },
   {
    "duration": 5,
    "start_time": "2022-01-17T10:29:32.312Z"
   },
   {
    "duration": 52,
    "start_time": "2022-01-17T10:29:32.319Z"
   },
   {
    "duration": 15,
    "start_time": "2022-01-17T10:29:32.373Z"
   },
   {
    "duration": 76,
    "start_time": "2022-01-17T10:29:32.389Z"
   },
   {
    "duration": 3,
    "start_time": "2022-01-17T10:30:41.358Z"
   },
   {
    "duration": 58,
    "start_time": "2022-01-17T10:30:41.363Z"
   },
   {
    "duration": 22,
    "start_time": "2022-01-17T10:30:41.423Z"
   },
   {
    "duration": 25,
    "start_time": "2022-01-17T10:30:41.447Z"
   },
   {
    "duration": 32,
    "start_time": "2022-01-17T10:30:41.474Z"
   },
   {
    "duration": 12,
    "start_time": "2022-01-17T10:30:41.508Z"
   },
   {
    "duration": 48,
    "start_time": "2022-01-17T10:30:41.522Z"
   },
   {
    "duration": 10,
    "start_time": "2022-01-17T10:30:41.573Z"
   },
   {
    "duration": 23,
    "start_time": "2022-01-17T10:30:41.585Z"
   },
   {
    "duration": 2,
    "start_time": "2022-01-17T10:31:43.040Z"
   },
   {
    "duration": 57,
    "start_time": "2022-01-17T10:31:43.048Z"
   },
   {
    "duration": 26,
    "start_time": "2022-01-17T10:31:43.107Z"
   },
   {
    "duration": 29,
    "start_time": "2022-01-17T10:31:43.135Z"
   },
   {
    "duration": 54,
    "start_time": "2022-01-17T10:31:43.166Z"
   },
   {
    "duration": 41,
    "start_time": "2022-01-17T10:31:43.223Z"
   },
   {
    "duration": 391,
    "start_time": "2022-01-17T10:31:43.266Z"
   },
   {
    "duration": 10,
    "start_time": "2022-01-17T10:41:07.397Z"
   },
   {
    "duration": 4,
    "start_time": "2022-01-17T10:41:26.611Z"
   },
   {
    "duration": 248,
    "start_time": "2022-01-17T10:41:40.892Z"
   },
   {
    "duration": 23,
    "start_time": "2022-01-17T10:42:48.994Z"
   },
   {
    "duration": 8,
    "start_time": "2022-01-17T10:43:06.767Z"
   },
   {
    "duration": 10,
    "start_time": "2022-01-17T10:43:19.488Z"
   },
   {
    "duration": 14,
    "start_time": "2022-01-17T10:43:55.566Z"
   },
   {
    "duration": 4,
    "start_time": "2022-01-17T10:44:08.900Z"
   },
   {
    "duration": 67,
    "start_time": "2022-01-17T10:44:08.909Z"
   },
   {
    "duration": 22,
    "start_time": "2022-01-17T10:44:08.978Z"
   },
   {
    "duration": 11,
    "start_time": "2022-01-17T10:44:09.002Z"
   },
   {
    "duration": 58,
    "start_time": "2022-01-17T10:44:09.015Z"
   },
   {
    "duration": 13,
    "start_time": "2022-01-17T10:44:09.075Z"
   },
   {
    "duration": 33,
    "start_time": "2022-01-17T10:44:09.090Z"
   },
   {
    "duration": 20,
    "start_time": "2022-01-17T10:44:09.125Z"
   },
   {
    "duration": 32,
    "start_time": "2022-01-17T10:44:09.147Z"
   },
   {
    "duration": 19,
    "start_time": "2022-01-17T10:44:09.180Z"
   },
   {
    "duration": 23,
    "start_time": "2022-01-17T10:44:09.201Z"
   },
   {
    "duration": 255,
    "start_time": "2022-01-17T10:44:09.226Z"
   },
   {
    "duration": -266,
    "start_time": "2022-01-17T10:44:09.749Z"
   },
   {
    "duration": 5,
    "start_time": "2022-01-17T10:46:02.478Z"
   },
   {
    "duration": 15,
    "start_time": "2022-01-17T10:47:19.175Z"
   },
   {
    "duration": 3,
    "start_time": "2022-01-17T10:47:27.733Z"
   },
   {
    "duration": 73,
    "start_time": "2022-01-17T10:47:27.738Z"
   },
   {
    "duration": 20,
    "start_time": "2022-01-17T10:47:27.813Z"
   },
   {
    "duration": 23,
    "start_time": "2022-01-17T10:47:27.835Z"
   },
   {
    "duration": 64,
    "start_time": "2022-01-17T10:47:27.860Z"
   },
   {
    "duration": 13,
    "start_time": "2022-01-17T10:47:27.926Z"
   },
   {
    "duration": 30,
    "start_time": "2022-01-17T10:47:27.941Z"
   },
   {
    "duration": 36,
    "start_time": "2022-01-17T10:47:27.973Z"
   },
   {
    "duration": 34,
    "start_time": "2022-01-17T10:47:28.011Z"
   },
   {
    "duration": 23,
    "start_time": "2022-01-17T10:47:28.046Z"
   },
   {
    "duration": 29,
    "start_time": "2022-01-17T10:47:28.070Z"
   },
   {
    "duration": 35,
    "start_time": "2022-01-17T10:47:28.101Z"
   },
   {
    "duration": 13,
    "start_time": "2022-01-17T10:47:33.640Z"
   },
   {
    "duration": 54,
    "start_time": "2022-01-17T10:47:37.694Z"
   },
   {
    "duration": 265,
    "start_time": "2022-01-17T10:49:07.515Z"
   },
   {
    "duration": 301,
    "start_time": "2022-01-17T10:49:27.710Z"
   },
   {
    "duration": 251,
    "start_time": "2022-01-17T10:49:31.638Z"
   },
   {
    "duration": 3,
    "start_time": "2022-01-17T10:50:24.550Z"
   },
   {
    "duration": 5,
    "start_time": "2022-01-17T10:50:30.314Z"
   },
   {
    "duration": 63,
    "start_time": "2022-01-17T10:50:42.450Z"
   },
   {
    "duration": 2,
    "start_time": "2022-01-17T10:50:54.934Z"
   },
   {
    "duration": 51,
    "start_time": "2022-01-17T10:50:54.941Z"
   },
   {
    "duration": 23,
    "start_time": "2022-01-17T10:50:54.993Z"
   },
   {
    "duration": 11,
    "start_time": "2022-01-17T10:50:55.018Z"
   },
   {
    "duration": 64,
    "start_time": "2022-01-17T10:50:55.031Z"
   },
   {
    "duration": 15,
    "start_time": "2022-01-17T10:50:55.097Z"
   },
   {
    "duration": 20,
    "start_time": "2022-01-17T10:50:55.115Z"
   },
   {
    "duration": 30,
    "start_time": "2022-01-17T10:50:55.137Z"
   },
   {
    "duration": 24,
    "start_time": "2022-01-17T10:50:55.170Z"
   },
   {
    "duration": 5,
    "start_time": "2022-01-17T10:50:55.197Z"
   },
   {
    "duration": 19,
    "start_time": "2022-01-17T10:50:55.204Z"
   },
   {
    "duration": 40,
    "start_time": "2022-01-17T10:50:55.224Z"
   },
   {
    "duration": 19,
    "start_time": "2022-01-17T10:50:55.266Z"
   },
   {
    "duration": 114,
    "start_time": "2022-01-17T10:50:55.287Z"
   },
   {
    "duration": 3,
    "start_time": "2022-01-17T10:51:25.781Z"
   },
   {
    "duration": 53,
    "start_time": "2022-01-17T10:51:25.789Z"
   },
   {
    "duration": 22,
    "start_time": "2022-01-17T10:51:25.844Z"
   },
   {
    "duration": 10,
    "start_time": "2022-01-17T10:51:25.868Z"
   },
   {
    "duration": 34,
    "start_time": "2022-01-17T10:51:25.880Z"
   },
   {
    "duration": 15,
    "start_time": "2022-01-17T10:51:25.916Z"
   },
   {
    "duration": 41,
    "start_time": "2022-01-17T10:51:25.933Z"
   },
   {
    "duration": 14,
    "start_time": "2022-01-17T10:51:25.976Z"
   },
   {
    "duration": 25,
    "start_time": "2022-01-17T10:51:25.994Z"
   },
   {
    "duration": 44,
    "start_time": "2022-01-17T10:51:26.021Z"
   },
   {
    "duration": 9,
    "start_time": "2022-01-17T10:51:26.068Z"
   },
   {
    "duration": 10,
    "start_time": "2022-01-17T10:51:26.079Z"
   },
   {
    "duration": 20,
    "start_time": "2022-01-17T10:51:26.090Z"
   },
   {
    "duration": 98,
    "start_time": "2022-01-17T10:51:26.112Z"
   },
   {
    "duration": 62,
    "start_time": "2022-01-17T10:52:06.513Z"
   },
   {
    "duration": 3,
    "start_time": "2022-01-17T10:52:21.845Z"
   },
   {
    "duration": 56,
    "start_time": "2022-01-17T10:52:21.851Z"
   },
   {
    "duration": 21,
    "start_time": "2022-01-17T10:52:21.909Z"
   },
   {
    "duration": 29,
    "start_time": "2022-01-17T10:52:21.932Z"
   },
   {
    "duration": 32,
    "start_time": "2022-01-17T10:52:21.963Z"
   },
   {
    "duration": 13,
    "start_time": "2022-01-17T10:52:21.997Z"
   },
   {
    "duration": 51,
    "start_time": "2022-01-17T10:52:22.012Z"
   },
   {
    "duration": 12,
    "start_time": "2022-01-17T10:52:22.065Z"
   },
   {
    "duration": 25,
    "start_time": "2022-01-17T10:52:22.079Z"
   },
   {
    "duration": 6,
    "start_time": "2022-01-17T10:52:22.106Z"
   },
   {
    "duration": 12,
    "start_time": "2022-01-17T10:52:22.113Z"
   },
   {
    "duration": 38,
    "start_time": "2022-01-17T10:52:22.126Z"
   },
   {
    "duration": 40,
    "start_time": "2022-01-17T10:52:22.166Z"
   },
   {
    "duration": 84,
    "start_time": "2022-01-17T10:52:22.208Z"
   },
   {
    "duration": 3,
    "start_time": "2022-01-17T11:04:27.597Z"
   },
   {
    "duration": 56,
    "start_time": "2022-01-17T11:04:27.606Z"
   },
   {
    "duration": 23,
    "start_time": "2022-01-17T11:04:27.663Z"
   },
   {
    "duration": 10,
    "start_time": "2022-01-17T11:04:27.688Z"
   },
   {
    "duration": 64,
    "start_time": "2022-01-17T11:04:27.700Z"
   },
   {
    "duration": 12,
    "start_time": "2022-01-17T11:04:27.766Z"
   },
   {
    "duration": 16,
    "start_time": "2022-01-17T11:04:27.779Z"
   },
   {
    "duration": 17,
    "start_time": "2022-01-17T11:04:27.797Z"
   },
   {
    "duration": 60,
    "start_time": "2022-01-17T11:04:27.817Z"
   },
   {
    "duration": 7,
    "start_time": "2022-01-17T11:04:27.879Z"
   },
   {
    "duration": 12,
    "start_time": "2022-01-17T11:04:27.888Z"
   },
   {
    "duration": 6,
    "start_time": "2022-01-17T11:04:27.902Z"
   },
   {
    "duration": 57,
    "start_time": "2022-01-17T11:04:27.910Z"
   },
   {
    "duration": 67,
    "start_time": "2022-01-17T11:04:27.969Z"
   },
   {
    "duration": 4375,
    "start_time": "2022-01-17T11:04:28.060Z"
   },
   {
    "duration": 1574,
    "start_time": "2022-01-17T11:04:32.438Z"
   },
   {
    "duration": 26,
    "start_time": "2022-01-17T11:04:34.014Z"
   },
   {
    "duration": 27,
    "start_time": "2022-01-17T11:04:34.042Z"
   },
   {
    "duration": 246,
    "start_time": "2022-01-17T11:04:34.071Z"
   },
   {
    "duration": -279,
    "start_time": "2022-01-17T11:04:34.599Z"
   },
   {
    "duration": -283,
    "start_time": "2022-01-17T11:04:34.604Z"
   },
   {
    "duration": -287,
    "start_time": "2022-01-17T11:04:34.609Z"
   },
   {
    "duration": -290,
    "start_time": "2022-01-17T11:04:34.613Z"
   },
   {
    "duration": -293,
    "start_time": "2022-01-17T11:04:34.617Z"
   },
   {
    "duration": -296,
    "start_time": "2022-01-17T11:04:34.621Z"
   },
   {
    "duration": 3,
    "start_time": "2022-01-17T11:05:03.329Z"
   },
   {
    "duration": 98,
    "start_time": "2022-01-17T11:05:03.337Z"
   },
   {
    "duration": 50,
    "start_time": "2022-01-17T11:05:03.437Z"
   },
   {
    "duration": 23,
    "start_time": "2022-01-17T11:05:03.489Z"
   },
   {
    "duration": 70,
    "start_time": "2022-01-17T11:05:03.515Z"
   },
   {
    "duration": 17,
    "start_time": "2022-01-17T11:05:03.587Z"
   },
   {
    "duration": 18,
    "start_time": "2022-01-17T11:05:03.606Z"
   },
   {
    "duration": 36,
    "start_time": "2022-01-17T11:05:03.626Z"
   },
   {
    "duration": 28,
    "start_time": "2022-01-17T11:05:03.665Z"
   },
   {
    "duration": 17,
    "start_time": "2022-01-17T11:05:03.695Z"
   },
   {
    "duration": 30,
    "start_time": "2022-01-17T11:05:03.714Z"
   },
   {
    "duration": 30,
    "start_time": "2022-01-17T11:05:03.746Z"
   },
   {
    "duration": 33,
    "start_time": "2022-01-17T11:05:03.778Z"
   },
   {
    "duration": 76,
    "start_time": "2022-01-17T11:05:03.813Z"
   },
   {
    "duration": 4533,
    "start_time": "2022-01-17T11:05:03.891Z"
   },
   {
    "duration": 1522,
    "start_time": "2022-01-17T11:05:08.426Z"
   },
   {
    "duration": 27,
    "start_time": "2022-01-17T11:05:09.950Z"
   },
   {
    "duration": 32,
    "start_time": "2022-01-17T11:05:09.979Z"
   },
   {
    "duration": 52,
    "start_time": "2022-01-17T11:05:10.013Z"
   },
   {
    "duration": 55,
    "start_time": "2022-01-17T11:05:10.067Z"
   },
   {
    "duration": 24,
    "start_time": "2022-01-17T11:05:10.124Z"
   },
   {
    "duration": 79,
    "start_time": "2022-01-17T11:05:10.150Z"
   },
   {
    "duration": 39,
    "start_time": "2022-01-17T11:05:10.232Z"
   },
   {
    "duration": 68,
    "start_time": "2022-01-17T11:05:10.274Z"
   },
   {
    "duration": 20,
    "start_time": "2022-01-17T11:05:10.344Z"
   }
  ],
  "kernelspec": {
   "display_name": "Python 3",
   "language": "python",
   "name": "python3"
  },
  "language_info": {
   "codemirror_mode": {
    "name": "ipython",
    "version": 3
   },
   "file_extension": ".py",
   "mimetype": "text/x-python",
   "name": "python",
   "nbconvert_exporter": "python",
   "pygments_lexer": "ipython3",
   "version": "3.7.8"
  },
  "toc": {
   "base_numbering": 1,
   "nav_menu": {},
   "number_sections": true,
   "sideBar": true,
   "skip_h1_title": true,
   "title_cell": "Table of Contents",
   "title_sidebar": "Contents",
   "toc_cell": false,
   "toc_position": {},
   "toc_section_display": true,
   "toc_window_display": true
  }
 },
 "nbformat": 4,
 "nbformat_minor": 2
}
