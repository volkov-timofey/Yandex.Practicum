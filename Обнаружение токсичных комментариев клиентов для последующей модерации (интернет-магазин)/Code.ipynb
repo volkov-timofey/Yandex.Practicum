{
 "cells": [
  {
   "cell_type": "markdown",
   "metadata": {
    "toc": true
   },
   "source": [
    "<h1>Содержание<span class=\"tocSkip\"></span></h1>\n",
    "<div class=\"toc\"><ul class=\"toc-item\"><li><span><a href=\"#Подготовка\" data-toc-modified-id=\"Подготовка-1\"><span class=\"toc-item-num\">1&nbsp;&nbsp;</span>Подготовка</a></span><ul class=\"toc-item\"><li><span><a href=\"#Import\" data-toc-modified-id=\"Import-1.1\"><span class=\"toc-item-num\">1.1&nbsp;&nbsp;</span>Import</a></span></li><li><span><a href=\"#Извлекаем-леммы\" data-toc-modified-id=\"Извлекаем-леммы-1.2\"><span class=\"toc-item-num\">1.2&nbsp;&nbsp;</span>Извлекаем леммы</a></span></li><li><span><a href=\"#Train-test\" data-toc-modified-id=\"Train-test-1.3\"><span class=\"toc-item-num\">1.3&nbsp;&nbsp;</span>Train test</a></span></li><li><span><a href=\"#Подготовка-к-обучению\" data-toc-modified-id=\"Подготовка-к-обучению-1.4\"><span class=\"toc-item-num\">1.4&nbsp;&nbsp;</span>Подготовка к обучению</a></span></li></ul></li><li><span><a href=\"#Обучение\" data-toc-modified-id=\"Обучение-2\"><span class=\"toc-item-num\">2&nbsp;&nbsp;</span>Обучение</a></span><ul class=\"toc-item\"><li><span><a href=\"#LogisticRegression\" data-toc-modified-id=\"LogisticRegression-2.1\"><span class=\"toc-item-num\">2.1&nbsp;&nbsp;</span>LogisticRegression</a></span></li><li><span><a href=\"#DecisionTreeClassifier\" data-toc-modified-id=\"DecisionTreeClassifier-2.2\"><span class=\"toc-item-num\">2.2&nbsp;&nbsp;</span>DecisionTreeClassifier</a></span></li><li><span><a href=\"#RandomForestClassifier\" data-toc-modified-id=\"RandomForestClassifier-2.3\"><span class=\"toc-item-num\">2.3&nbsp;&nbsp;</span>RandomForestClassifier</a></span></li><li><span><a href=\"#CatBoostClassifier\" data-toc-modified-id=\"CatBoostClassifier-2.4\"><span class=\"toc-item-num\">2.4&nbsp;&nbsp;</span>CatBoostClassifier</a></span></li></ul></li><li><span><a href=\"#Выводы\" data-toc-modified-id=\"Выводы-3\"><span class=\"toc-item-num\">3&nbsp;&nbsp;</span>Выводы</a></span></li></ul></div>"
   ]
  },
  {
   "cell_type": "markdown",
   "metadata": {},
   "source": [
    "# Проект для «Викишоп»"
   ]
  },
  {
   "cell_type": "markdown",
   "metadata": {},
   "source": [
    "Бизнес идея: Интернет-магазин «Викишоп» запускает новый сервис. Теперь пользователи могут редактировать и дополнять описания товаров, как в вики-сообществах. То есть клиенты предлагают свои правки и комментируют изменения других. \n",
    "\n",
    "Бизнес задача: Магазину нужен инструмент, который будет искать токсичные комментарии и отправлять их на модерацию. \n",
    "\n",
    "Обучим модель классифицирующую комментарии на позитивные и негативные."
   ]
  },
  {
   "cell_type": "markdown",
   "metadata": {},
   "source": [
    "## Подготовка"
   ]
  },
  {
   "cell_type": "markdown",
   "metadata": {},
   "source": [
    "### Import"
   ]
  },
  {
   "cell_type": "code",
   "execution_count": 12,
   "metadata": {},
   "outputs": [
    {
     "name": "stdout",
     "output_type": "stream",
     "text": [
      "Defaulting to user installation because normal site-packages is not writeable\n",
      "Requirement already satisfied: nltk in /opt/conda/lib/python3.7/site-packages (3.4.1)\n",
      "Requirement already satisfied: six in /opt/conda/lib/python3.7/site-packages (from nltk) (1.15.0)\n"
     ]
    }
   ],
   "source": [
    "#!pip install nltk"
   ]
  },
  {
   "cell_type": "code",
   "execution_count": 13,
   "metadata": {},
   "outputs": [],
   "source": [
    "import pandas as pd\n",
    "import numpy as np\n",
    "\n",
    "import warnings\n",
    "warnings.filterwarnings('ignore')\n",
    "\n",
    "import re\n",
    "\n",
    "import nltk\n",
    "from nltk.stem import WordNetLemmatizer\n",
    "from nltk.corpus import stopwords as nltk_stopwords\n",
    "\n",
    "from sklearn.feature_extraction.text import TfidfVectorizer\n",
    "from sklearn.metrics import f1_score\n",
    "from sklearn.metrics import make_scorer\n",
    "\n",
    "# Classifiers\n",
    "from sklearn.linear_model import LogisticRegression\n",
    "from sklearn.tree import DecisionTreeClassifier\n",
    "from sklearn.ensemble import RandomForestClassifier\n",
    "from catboost import CatBoostClassifier\n",
    "\n",
    "from sklearn.model_selection import train_test_split\n",
    "from sklearn.utils.class_weight import compute_class_weight\n",
    "\n",
    "pd.set_option('display.max_columns', None)"
   ]
  },
  {
   "cell_type": "code",
   "execution_count": 14,
   "metadata": {},
   "outputs": [],
   "source": [
    "try:\n",
    "    data = pd.read_csv(\"d:/Temp/toxic_comments.csv\")\n",
    "    \n",
    "except FileNotFoundError:\n",
    "    data = pd.read_csv(\"/datasets/toxic_comments.csv\")"
   ]
  },
  {
   "cell_type": "code",
   "execution_count": 15,
   "metadata": {},
   "outputs": [
    {
     "name": "stdout",
     "output_type": "stream",
     "text": [
      "<class 'pandas.core.frame.DataFrame'>\n",
      "RangeIndex: 159571 entries, 0 to 159570\n",
      "Data columns (total 2 columns):\n",
      "text     159571 non-null object\n",
      "toxic    159571 non-null int64\n",
      "dtypes: int64(1), object(1)\n",
      "memory usage: 2.4+ MB\n"
     ]
    }
   ],
   "source": [
    "data.info()"
   ]
  },
  {
   "cell_type": "code",
   "execution_count": 16,
   "metadata": {},
   "outputs": [
    {
     "data": {
      "text/html": [
       "<div>\n",
       "<style scoped>\n",
       "    .dataframe tbody tr th:only-of-type {\n",
       "        vertical-align: middle;\n",
       "    }\n",
       "\n",
       "    .dataframe tbody tr th {\n",
       "        vertical-align: top;\n",
       "    }\n",
       "\n",
       "    .dataframe thead th {\n",
       "        text-align: right;\n",
       "    }\n",
       "</style>\n",
       "<table border=\"1\" class=\"dataframe\">\n",
       "  <thead>\n",
       "    <tr style=\"text-align: right;\">\n",
       "      <th></th>\n",
       "      <th>text</th>\n",
       "      <th>toxic</th>\n",
       "    </tr>\n",
       "  </thead>\n",
       "  <tbody>\n",
       "    <tr>\n",
       "      <td>132208</td>\n",
       "      <td>\"\\n Not in the material I've read (PSB), or I'...</td>\n",
       "      <td>0</td>\n",
       "    </tr>\n",
       "    <tr>\n",
       "      <td>37297</td>\n",
       "      <td>I will blank out my entire user page. I should...</td>\n",
       "      <td>0</td>\n",
       "    </tr>\n",
       "    <tr>\n",
       "      <td>73531</td>\n",
       "      <td>what gives?  heard of racism?  how about class...</td>\n",
       "      <td>0</td>\n",
       "    </tr>\n",
       "    <tr>\n",
       "      <td>31679</td>\n",
       "      <td>well that's just peachy, now go do something e...</td>\n",
       "      <td>0</td>\n",
       "    </tr>\n",
       "    <tr>\n",
       "      <td>32650</td>\n",
       "      <td>book warhead exploded a metre away independent...</td>\n",
       "      <td>0</td>\n",
       "    </tr>\n",
       "    <tr>\n",
       "      <td>75722</td>\n",
       "      <td>Sources \\n\\nGiven the increased probability th...</td>\n",
       "      <td>0</td>\n",
       "    </tr>\n",
       "    <tr>\n",
       "      <td>47720</td>\n",
       "      <td>Ok, for the mitochondrion you might want to wa...</td>\n",
       "      <td>0</td>\n",
       "    </tr>\n",
       "    <tr>\n",
       "      <td>96380</td>\n",
       "      <td>I've heard that a lemon is also a Russian term...</td>\n",
       "      <td>0</td>\n",
       "    </tr>\n",
       "    <tr>\n",
       "      <td>4263</td>\n",
       "      <td>Link to Wikimedia commons</td>\n",
       "      <td>0</td>\n",
       "    </tr>\n",
       "    <tr>\n",
       "      <td>97943</td>\n",
       "      <td>\"\\n\\nAlso while I'm thinking about it: In all ...</td>\n",
       "      <td>0</td>\n",
       "    </tr>\n",
       "    <tr>\n",
       "      <td>158302</td>\n",
       "      <td>Requested move\\n\\nToombs is best known as Rodd...</td>\n",
       "      <td>0</td>\n",
       "    </tr>\n",
       "    <tr>\n",
       "      <td>9138</td>\n",
       "      <td>Sorry for some of my ignorant behavior and the...</td>\n",
       "      <td>0</td>\n",
       "    </tr>\n",
       "    <tr>\n",
       "      <td>31917</td>\n",
       "      <td>\"\\n\\n podcruft? \\n\\nIn you recent edit to WITF...</td>\n",
       "      <td>0</td>\n",
       "    </tr>\n",
       "    <tr>\n",
       "      <td>120036</td>\n",
       "      <td>Regarding edits made during April 15 2007 (UTC...</td>\n",
       "      <td>0</td>\n",
       "    </tr>\n",
       "    <tr>\n",
       "      <td>106698</td>\n",
       "      <td>Hitman and Slender man resemblance  \\n\\nI dunn...</td>\n",
       "      <td>0</td>\n",
       "    </tr>\n",
       "    <tr>\n",
       "      <td>114648</td>\n",
       "      <td>Information about Trivandrum Int'l Airport\\n\\n...</td>\n",
       "      <td>0</td>\n",
       "    </tr>\n",
       "    <tr>\n",
       "      <td>36621</td>\n",
       "      <td>Probably what every other thug of the early '9...</td>\n",
       "      <td>0</td>\n",
       "    </tr>\n",
       "    <tr>\n",
       "      <td>13392</td>\n",
       "      <td>There is no argument in favour of making the m...</td>\n",
       "      <td>0</td>\n",
       "    </tr>\n",
       "    <tr>\n",
       "      <td>16991</td>\n",
       "      <td>\"\\n\\n Winnie the Pooh (1953 film) \\nI nominate...</td>\n",
       "      <td>0</td>\n",
       "    </tr>\n",
       "    <tr>\n",
       "      <td>61338</td>\n",
       "      <td>\"\\n\\n\"\"you can make an argument for prestige w...</td>\n",
       "      <td>0</td>\n",
       "    </tr>\n",
       "  </tbody>\n",
       "</table>\n",
       "</div>"
      ],
      "text/plain": [
       "                                                     text  toxic\n",
       "132208  \"\\n Not in the material I've read (PSB), or I'...      0\n",
       "37297   I will blank out my entire user page. I should...      0\n",
       "73531   what gives?  heard of racism?  how about class...      0\n",
       "31679   well that's just peachy, now go do something e...      0\n",
       "32650   book warhead exploded a metre away independent...      0\n",
       "75722   Sources \\n\\nGiven the increased probability th...      0\n",
       "47720   Ok, for the mitochondrion you might want to wa...      0\n",
       "96380   I've heard that a lemon is also a Russian term...      0\n",
       "4263                            Link to Wikimedia commons      0\n",
       "97943   \"\\n\\nAlso while I'm thinking about it: In all ...      0\n",
       "158302  Requested move\\n\\nToombs is best known as Rodd...      0\n",
       "9138    Sorry for some of my ignorant behavior and the...      0\n",
       "31917   \"\\n\\n podcruft? \\n\\nIn you recent edit to WITF...      0\n",
       "120036  Regarding edits made during April 15 2007 (UTC...      0\n",
       "106698  Hitman and Slender man resemblance  \\n\\nI dunn...      0\n",
       "114648  Information about Trivandrum Int'l Airport\\n\\n...      0\n",
       "36621   Probably what every other thug of the early '9...      0\n",
       "13392   There is no argument in favour of making the m...      0\n",
       "16991   \"\\n\\n Winnie the Pooh (1953 film) \\nI nominate...      0\n",
       "61338   \"\\n\\n\"\"you can make an argument for prestige w...      0"
      ]
     },
     "execution_count": 16,
     "metadata": {},
     "output_type": "execute_result"
    }
   ],
   "source": [
    "data.sample(20)"
   ]
  },
  {
   "cell_type": "code",
   "execution_count": 17,
   "metadata": {
    "scrolled": true
   },
   "outputs": [
    {
     "data": {
      "text/plain": [
       "text     0.0\n",
       "toxic    0.0\n",
       "dtype: float64"
      ]
     },
     "execution_count": 17,
     "metadata": {},
     "output_type": "execute_result"
    }
   ],
   "source": [
    "data.isnull().mean()"
   ]
  },
  {
   "cell_type": "code",
   "execution_count": 18,
   "metadata": {},
   "outputs": [
    {
     "data": {
      "text/plain": [
       "0.1"
      ]
     },
     "execution_count": 18,
     "metadata": {},
     "output_type": "execute_result"
    }
   ],
   "source": [
    "# количество токсичных правок в датасете\n",
    "data['toxic'].mean().round(2)"
   ]
  },
  {
   "cell_type": "code",
   "execution_count": 19,
   "metadata": {},
   "outputs": [
    {
     "data": {
      "image/png": "[encoded data removed]",
      "text/plain": [
       "<Figure size 432x288 with 1 Axes>"
      ]
     },
     "metadata": {
      "needs_background": "light"
     },
     "output_type": "display_data"
    }
   ],
   "source": [
    "pd.Series(data['toxic'].value_counts() / len(data)).plot(kind='bar', title='Дисбаланс классов токсичности');"
   ]
  },
  {
   "cell_type": "markdown",
   "metadata": {},
   "source": [
    "Присуствует дисбаланс классов."
   ]
  },
  {
   "cell_type": "markdown",
   "metadata": {},
   "source": [
    "### Извлекаем леммы"
   ]
  },
  {
   "cell_type": "code",
   "execution_count": 20,
   "metadata": {},
   "outputs": [],
   "source": [
    "# Лемматизация через WordNetLemmatizer"
   ]
  },
  {
   "cell_type": "code",
   "execution_count": 21,
   "metadata": {},
   "outputs": [
    {
     "name": "stderr",
     "output_type": "stream",
     "text": [
      "[nltk_data] Downloading package wordnet to /home/jovyan/nltk_data...\n",
      "[nltk_data]   Package wordnet is already up-to-date!\n"
     ]
    },
    {
     "data": {
      "text/plain": [
       "True"
      ]
     },
     "execution_count": 21,
     "metadata": {},
     "output_type": "execute_result"
    }
   ],
   "source": [
    "nltk.download('wordnet')"
   ]
  },
  {
   "cell_type": "code",
   "execution_count": 22,
   "metadata": {},
   "outputs": [],
   "source": [
    "# Функция лемматизации к каждому слову, очистка текста от лишних символов"
   ]
  },
  {
   "cell_type": "code",
   "execution_count": 23,
   "metadata": {},
   "outputs": [],
   "source": [
    "def lemm_clear_text(text):\n",
    "    string = re.sub(r'[^a-zA-Z]', ' ', text)\n",
    "    string = ' '.join(string.split()).lower()\n",
    "    \n",
    "    lemmatizer = WordNetLemmatizer()\n",
    "           \n",
    "    return \" \".join([lemmatizer.lemmatize(word) for word in string.split()])"
   ]
  },
  {
   "cell_type": "code",
   "execution_count": 24,
   "metadata": {},
   "outputs": [],
   "source": [
    "features = data['lemm_text'] = data['text'].apply(lemm_clear_text)\n",
    "target = data['toxic']"
   ]
  },
  {
   "cell_type": "markdown",
   "metadata": {},
   "source": [
    "Как видно из корпуса, лемматизация корректно не отработала сокращенные формы, но для определения токсичности это не важно, из за того что в сокращенную форму попадает временная составляющая глагола, отрицательная форма, и принадлежность к личности например I'm = i am. \n",
    "\n",
    "Для токсичности это не имеет значения, так это корректная форма текста, и никак не повлияет на токсичные выражения."
   ]
  },
  {
   "cell_type": "markdown",
   "metadata": {},
   "source": [
    "### Train test"
   ]
  },
  {
   "cell_type": "code",
   "execution_count": 25,
   "metadata": {},
   "outputs": [],
   "source": [
    "features_train, features_test, target_train, target_test = train_test_split(features,\n",
    "                                                                            target,\n",
    "                                                                            test_size=0.25,\n",
    "                                                                            random_state=12345)"
   ]
  },
  {
   "cell_type": "code",
   "execution_count": 26,
   "metadata": {},
   "outputs": [
    {
     "name": "stderr",
     "output_type": "stream",
     "text": [
      "[nltk_data] Downloading package stopwords to /home/jovyan/nltk_data...\n",
      "[nltk_data]   Unzipping corpora/stopwords.zip.\n"
     ]
    },
    {
     "data": {
      "text/plain": [
       "<119678x134110 sparse matrix of type '<class 'numpy.float64'>'\n",
       "\twith 3254925 stored elements in Compressed Sparse Row format>"
      ]
     },
     "execution_count": 26,
     "metadata": {},
     "output_type": "execute_result"
    }
   ],
   "source": [
    "nltk.download('stopwords')\n",
    "stopwords = set(nltk_stopwords.words('english'))\n",
    "\n",
    "count_tf_idf = TfidfVectorizer(stop_words=stopwords)\n",
    "tf_idf_train = count_tf_idf.fit_transform(features_train.values)\n",
    "tf_idf_train"
   ]
  },
  {
   "cell_type": "code",
   "execution_count": 27,
   "metadata": {},
   "outputs": [
    {
     "data": {
      "text/plain": [
       "<39893x134110 sparse matrix of type '<class 'numpy.float64'>'\n",
       "\twith 1047914 stored elements in Compressed Sparse Row format>"
      ]
     },
     "execution_count": 27,
     "metadata": {},
     "output_type": "execute_result"
    }
   ],
   "source": [
    "tf_idf_test = count_tf_idf.transform(features_test.values)\n",
    "tf_idf_test"
   ]
  },
  {
   "cell_type": "markdown",
   "metadata": {},
   "source": [
    "### Подготовка к обучению"
   ]
  },
  {
   "cell_type": "code",
   "execution_count": 28,
   "metadata": {},
   "outputs": [],
   "source": [
    "scoring=make_scorer(f1_score)"
   ]
  },
  {
   "cell_type": "markdown",
   "metadata": {},
   "source": [
    "## Обучение"
   ]
  },
  {
   "cell_type": "markdown",
   "metadata": {},
   "source": [
    "### LogisticRegression"
   ]
  },
  {
   "cell_type": "code",
   "execution_count": 29,
   "metadata": {},
   "outputs": [
    {
     "name": "stdout",
     "output_type": "stream",
     "text": [
      "F1_score = 0.7500803427959294\n"
     ]
    }
   ],
   "source": [
    "model = LogisticRegression(random_state=12345, class_weight='balanced', n_jobs=-1)\n",
    "model.fit(tf_idf_train, target_train)\n",
    "predict_test = model.predict(tf_idf_test)\n",
    "print('F1_score =', f1_score(target_test, predict_test))"
   ]
  },
  {
   "cell_type": "markdown",
   "metadata": {},
   "source": [
    "### DecisionTreeClassifier"
   ]
  },
  {
   "cell_type": "code",
   "execution_count": 30,
   "metadata": {},
   "outputs": [
    {
     "name": "stdout",
     "output_type": "stream",
     "text": [
      "F1_score = 0.6507315983469227\n"
     ]
    }
   ],
   "source": [
    "model = DecisionTreeClassifier(random_state=12345, class_weight='balanced')\n",
    "model.fit(tf_idf_train, target_train)\n",
    "predict_test = model.predict(tf_idf_test)\n",
    "print('F1_score =', f1_score(target_test, predict_test))"
   ]
  },
  {
   "cell_type": "markdown",
   "metadata": {},
   "source": [
    "### RandomForestClassifier"
   ]
  },
  {
   "cell_type": "code",
   "execution_count": 31,
   "metadata": {},
   "outputs": [
    {
     "name": "stdout",
     "output_type": "stream",
     "text": [
      "F1_score = 0.608724171859626\n"
     ]
    }
   ],
   "source": [
    "model = RandomForestClassifier(random_state=12345, n_jobs=-1, class_weight='balanced')\n",
    "model.fit(tf_idf_train, target_train)\n",
    "predict_test = model.predict(tf_idf_test)\n",
    "print('F1_score =', f1_score(target_test, predict_test))"
   ]
  },
  {
   "cell_type": "markdown",
   "metadata": {},
   "source": [
    "### CatBoostClassifier"
   ]
  },
  {
   "cell_type": "code",
   "execution_count": 32,
   "metadata": {},
   "outputs": [
    {
     "name": "stdout",
     "output_type": "stream",
     "text": [
      "F1_score = 0.7443037974683544\n"
     ]
    }
   ],
   "source": [
    "classes = np.unique(target)\n",
    "weights = compute_class_weight(class_weight='balanced', classes=classes, y=target)\n",
    "class_weights = dict(zip(classes, weights))\n",
    "\n",
    "model = CatBoostClassifier(loss_function='Logloss',\n",
    "                           verbose=0,\n",
    "                           learning_rate=0.2,\n",
    "                           iterations=300,\n",
    "                           class_weights=weights,\n",
    "                           random_state=12345)\n",
    "model.fit(tf_idf_train, target_train)\n",
    "predict_test = model.predict(tf_idf_test)\n",
    "print('F1_score =', f1_score(target_test, predict_test))"
   ]
  },
  {
   "cell_type": "markdown",
   "metadata": {},
   "source": [
    "## Выводы"
   ]
  },
  {
   "cell_type": "markdown",
   "metadata": {},
   "source": [
    "В результате обучения модель LogisticRegression показала лучший результат метрики 0.75, с учетом баланса весов. CatBoostClassifier так же дожала метрику до необходимого порога, но временные затраты слишком велики.\n",
    "\n",
    "Векторизацию данных проводил через оценку важности слова (TF-IDF), так как она более точна чем мешок слов, но и менее точна чем BERT."
   ]
  }
 ],
 "metadata": {
  "ExecuteTimeLog": [
   {
    "duration": 1197,
    "start_time": "2021-12-01T11:15:26.495Z"
   },
   {
    "duration": 3556,
    "start_time": "2021-12-01T11:15:27.694Z"
   },
   {
    "duration": 25,
    "start_time": "2021-12-01T11:15:31.252Z"
   },
   {
    "duration": 35,
    "start_time": "2021-12-01T11:15:31.279Z"
   },
   {
    "duration": 28,
    "start_time": "2021-12-01T11:15:31.316Z"
   },
   {
    "duration": 21,
    "start_time": "2021-12-01T11:15:31.347Z"
   },
   {
    "duration": 827,
    "start_time": "2021-12-01T11:15:31.370Z"
   },
   {
    "duration": -494,
    "start_time": "2021-12-01T11:15:32.692Z"
   },
   {
    "duration": -498,
    "start_time": "2021-12-01T11:15:32.697Z"
   },
   {
    "duration": -502,
    "start_time": "2021-12-01T11:15:32.702Z"
   },
   {
    "duration": -519,
    "start_time": "2021-12-01T11:15:32.720Z"
   },
   {
    "duration": -523,
    "start_time": "2021-12-01T11:15:32.725Z"
   },
   {
    "duration": 4,
    "start_time": "2021-12-01T11:16:05.427Z"
   },
   {
    "duration": 2,
    "start_time": "2021-12-01T11:16:09.531Z"
   },
   {
    "duration": 3,
    "start_time": "2021-12-01T11:16:09.875Z"
   },
   {
    "duration": 6731,
    "start_time": "2021-12-01T11:16:10.431Z"
   },
   {
    "duration": 6884,
    "start_time": "2021-12-01T11:16:17.163Z"
   },
   {
    "duration": 3,
    "start_time": "2021-12-01T11:16:24.048Z"
   },
   {
    "duration": 140682,
    "start_time": "2021-12-01T11:16:26.064Z"
   },
   {
    "duration": 201781,
    "start_time": "2021-12-01T11:18:46.748Z"
   },
   {
    "duration": 385663,
    "start_time": "2021-12-01T11:22:08.531Z"
   },
   {
    "duration": -587,
    "start_time": "2021-12-01T11:28:34.783Z"
   },
   {
    "duration": 529176,
    "start_time": "2021-12-01T11:28:59.414Z"
   },
   {
    "duration": 385695,
    "start_time": "2021-12-01T11:37:53.239Z"
   },
   {
    "duration": 32295,
    "start_time": "2021-12-01T11:45:26.271Z"
   },
   {
    "duration": 13782,
    "start_time": "2021-12-01T11:46:17.748Z"
   },
   {
    "duration": 8161527,
    "start_time": "2021-12-01T11:46:37.521Z"
   },
   {
    "duration": -486,
    "start_time": "2021-12-01T14:02:39.536Z"
   },
   {
    "duration": 98,
    "start_time": "2021-12-01T15:09:00.403Z"
   },
   {
    "duration": 1115,
    "start_time": "2021-12-01T15:09:00.503Z"
   },
   {
    "duration": 25,
    "start_time": "2021-12-01T15:09:01.621Z"
   },
   {
    "duration": 14,
    "start_time": "2021-12-01T15:09:01.648Z"
   },
   {
    "duration": 32,
    "start_time": "2021-12-01T15:09:01.663Z"
   },
   {
    "duration": 255,
    "start_time": "2021-12-01T15:09:01.696Z"
   },
   {
    "duration": 171,
    "start_time": "2021-12-01T15:09:16.752Z"
   },
   {
    "duration": 627,
    "start_time": "2021-12-01T15:09:30.564Z"
   },
   {
    "duration": 194,
    "start_time": "2021-12-01T15:09:49.602Z"
   },
   {
    "duration": 5,
    "start_time": "2021-12-01T15:10:36.567Z"
   },
   {
    "duration": 188,
    "start_time": "2021-12-01T15:11:21.271Z"
   },
   {
    "duration": 224,
    "start_time": "2021-12-01T15:11:40.028Z"
   },
   {
    "duration": 12,
    "start_time": "2021-12-01T15:11:54.421Z"
   },
   {
    "duration": 5,
    "start_time": "2021-12-01T15:12:46.127Z"
   },
   {
    "duration": 6,
    "start_time": "2021-12-01T15:13:03.707Z"
   },
   {
    "duration": 215,
    "start_time": "2021-12-01T15:17:15.143Z"
   },
   {
    "duration": 1484,
    "start_time": "2021-12-01T15:17:23.306Z"
   },
   {
    "duration": 2044,
    "start_time": "2021-12-01T15:17:24.792Z"
   },
   {
    "duration": 27,
    "start_time": "2021-12-01T15:17:26.838Z"
   },
   {
    "duration": 16,
    "start_time": "2021-12-01T15:17:26.867Z"
   },
   {
    "duration": 26,
    "start_time": "2021-12-01T15:17:26.885Z"
   },
   {
    "duration": 4,
    "start_time": "2021-12-01T15:17:26.914Z"
   },
   {
    "duration": 477,
    "start_time": "2021-12-01T15:18:38.895Z"
   },
   {
    "duration": 5,
    "start_time": "2021-12-01T15:18:46.809Z"
   },
   {
    "duration": 755,
    "start_time": "2021-12-01T15:18:46.816Z"
   },
   {
    "duration": 25,
    "start_time": "2021-12-01T15:18:47.574Z"
   },
   {
    "duration": 11,
    "start_time": "2021-12-01T15:18:47.600Z"
   },
   {
    "duration": 23,
    "start_time": "2021-12-01T15:18:47.613Z"
   },
   {
    "duration": 4,
    "start_time": "2021-12-01T15:18:47.637Z"
   },
   {
    "duration": 9,
    "start_time": "2021-12-01T15:18:47.643Z"
   },
   {
    "duration": 8,
    "start_time": "2021-12-01T15:19:18.804Z"
   },
   {
    "duration": 192,
    "start_time": "2021-12-01T15:19:25.699Z"
   },
   {
    "duration": 271,
    "start_time": "2021-12-01T15:19:36.606Z"
   },
   {
    "duration": 124,
    "start_time": "2021-12-01T15:20:11.539Z"
   },
   {
    "duration": 117,
    "start_time": "2021-12-01T15:20:18.813Z"
   },
   {
    "duration": 127,
    "start_time": "2021-12-01T15:24:05.439Z"
   },
   {
    "duration": 6,
    "start_time": "2021-12-01T15:35:19.555Z"
   },
   {
    "duration": 748,
    "start_time": "2021-12-01T15:35:19.562Z"
   },
   {
    "duration": 29,
    "start_time": "2021-12-01T15:35:20.312Z"
   },
   {
    "duration": 26,
    "start_time": "2021-12-01T15:35:20.343Z"
   },
   {
    "duration": 56,
    "start_time": "2021-12-01T15:35:20.371Z"
   },
   {
    "duration": 12,
    "start_time": "2021-12-01T15:35:20.429Z"
   },
   {
    "duration": 157,
    "start_time": "2021-12-01T15:35:20.443Z"
   },
   {
    "duration": 3,
    "start_time": "2021-12-01T15:35:20.601Z"
   },
   {
    "duration": 578,
    "start_time": "2021-12-01T15:35:20.606Z"
   },
   {
    "duration": 2,
    "start_time": "2021-12-01T15:35:21.185Z"
   },
   {
    "duration": 27,
    "start_time": "2021-12-01T15:35:21.189Z"
   },
   {
    "duration": 6709,
    "start_time": "2021-12-01T15:35:21.217Z"
   },
   {
    "duration": 6607,
    "start_time": "2021-12-01T15:35:27.928Z"
   },
   {
    "duration": 2,
    "start_time": "2021-12-01T15:35:34.537Z"
   },
   {
    "duration": 63,
    "start_time": "2021-12-01T15:35:34.541Z"
   },
   {
    "duration": 53621,
    "start_time": "2021-12-01T15:36:14.623Z"
   },
   {
    "duration": 232,
    "start_time": "2021-12-01T15:39:05.095Z"
   },
   {
    "duration": 294850,
    "start_time": "2021-12-01T15:39:17.515Z"
   },
   {
    "duration": 382,
    "start_time": "2021-12-01T15:44:11.985Z"
   },
   {
    "duration": 367,
    "start_time": "2021-12-01T15:44:12.001Z"
   },
   {
    "duration": 212,
    "start_time": "2021-12-01T15:46:04.086Z"
   },
   {
    "duration": 1333,
    "start_time": "2021-12-01T15:46:13.228Z"
   },
   {
    "duration": 754,
    "start_time": "2021-12-01T15:46:14.563Z"
   },
   {
    "duration": 21,
    "start_time": "2021-12-01T15:46:15.319Z"
   },
   {
    "duration": 14,
    "start_time": "2021-12-01T15:46:15.342Z"
   },
   {
    "duration": 41,
    "start_time": "2021-12-01T15:46:15.357Z"
   },
   {
    "duration": 4,
    "start_time": "2021-12-01T15:46:15.400Z"
   },
   {
    "duration": 222,
    "start_time": "2021-12-01T15:46:15.406Z"
   },
   {
    "duration": 2,
    "start_time": "2021-12-01T15:46:15.631Z"
   },
   {
    "duration": 219,
    "start_time": "2021-12-01T15:46:15.635Z"
   },
   {
    "duration": 3,
    "start_time": "2021-12-01T15:46:15.855Z"
   },
   {
    "duration": 5,
    "start_time": "2021-12-01T15:46:15.860Z"
   },
   {
    "duration": 7129,
    "start_time": "2021-12-01T15:46:15.866Z"
   },
   {
    "duration": 8018,
    "start_time": "2021-12-01T15:46:22.997Z"
   },
   {
    "duration": 3,
    "start_time": "2021-12-01T15:46:31.017Z"
   },
   {
    "duration": 54137,
    "start_time": "2021-12-01T15:46:31.022Z"
   },
   {
    "duration": 598102,
    "start_time": "2021-12-01T15:47:25.161Z"
   },
   {
    "duration": 367349,
    "start_time": "2021-12-01T15:57:23.265Z"
   },
   {
    "duration": 1436,
    "start_time": "2021-12-01T17:05:45.472Z"
   },
   {
    "duration": 1952,
    "start_time": "2021-12-01T17:05:46.910Z"
   },
   {
    "duration": 27,
    "start_time": "2021-12-01T17:05:48.864Z"
   },
   {
    "duration": 18,
    "start_time": "2021-12-01T17:05:48.893Z"
   },
   {
    "duration": 25,
    "start_time": "2021-12-01T17:05:48.913Z"
   },
   {
    "duration": 6,
    "start_time": "2021-12-01T17:05:48.940Z"
   },
   {
    "duration": 234,
    "start_time": "2021-12-01T17:05:48.948Z"
   },
   {
    "duration": 3,
    "start_time": "2021-12-01T17:05:49.192Z"
   },
   {
    "duration": 529,
    "start_time": "2021-12-01T17:05:49.198Z"
   },
   {
    "duration": 3,
    "start_time": "2021-12-01T17:05:49.729Z"
   },
   {
    "duration": 7,
    "start_time": "2021-12-01T17:05:49.734Z"
   },
   {
    "duration": 7201,
    "start_time": "2021-12-01T17:05:49.742Z"
   },
   {
    "duration": 7467,
    "start_time": "2021-12-01T17:05:56.956Z"
   },
   {
    "duration": 3,
    "start_time": "2021-12-01T17:06:04.425Z"
   },
   {
    "duration": 83,
    "start_time": "2021-12-01T17:06:04.429Z"
   },
   {
    "duration": 354,
    "start_time": "2021-12-01T17:06:04.160Z"
   },
   {
    "duration": 348,
    "start_time": "2021-12-01T17:06:04.167Z"
   },
   {
    "duration": 325,
    "start_time": "2021-12-01T17:06:04.191Z"
   },
   {
    "duration": 322,
    "start_time": "2021-12-01T17:06:04.195Z"
   },
   {
    "duration": 319,
    "start_time": "2021-12-01T17:06:04.199Z"
   },
   {
    "duration": 52,
    "start_time": "2021-12-01T17:06:13.643Z"
   },
   {
    "duration": 3,
    "start_time": "2021-12-01T17:06:25.915Z"
   },
   {
    "duration": 29225,
    "start_time": "2021-12-01T17:06:25.921Z"
   },
   {
    "duration": 257,
    "start_time": "2021-12-01T17:06:54.891Z"
   },
   {
    "duration": 252,
    "start_time": "2021-12-01T17:06:54.897Z"
   },
   {
    "duration": 249,
    "start_time": "2021-12-01T17:06:54.901Z"
   },
   {
    "duration": 450664,
    "start_time": "2021-12-01T17:06:59.531Z"
   },
   {
    "duration": 1328,
    "start_time": "2021-12-02T10:35:27.802Z"
   },
   {
    "duration": 751,
    "start_time": "2021-12-02T10:35:29.132Z"
   },
   {
    "duration": 20,
    "start_time": "2021-12-02T10:35:29.884Z"
   },
   {
    "duration": 29,
    "start_time": "2021-12-02T10:35:29.906Z"
   },
   {
    "duration": 26,
    "start_time": "2021-12-02T10:35:29.937Z"
   },
   {
    "duration": 28,
    "start_time": "2021-12-02T10:35:29.964Z"
   },
   {
    "duration": 140,
    "start_time": "2021-12-02T10:35:29.994Z"
   },
   {
    "duration": 2,
    "start_time": "2021-12-02T10:35:30.136Z"
   },
   {
    "duration": 145,
    "start_time": "2021-12-02T10:35:30.144Z"
   },
   {
    "duration": 3,
    "start_time": "2021-12-02T10:35:30.290Z"
   },
   {
    "duration": 31,
    "start_time": "2021-12-02T10:35:30.294Z"
   },
   {
    "duration": 7253,
    "start_time": "2021-12-02T10:35:30.327Z"
   },
   {
    "duration": 7116,
    "start_time": "2021-12-02T10:35:37.581Z"
   },
   {
    "duration": 3,
    "start_time": "2021-12-02T10:35:44.699Z"
   },
   {
    "duration": 67,
    "start_time": "2021-12-02T10:35:44.703Z"
   },
   {
    "duration": 3,
    "start_time": "2021-12-02T10:35:44.771Z"
   },
   {
    "duration": 53428,
    "start_time": "2021-12-02T10:35:44.776Z"
   },
   {
    "duration": 585245,
    "start_time": "2021-12-02T10:36:38.206Z"
   },
   {
    "duration": 370994,
    "start_time": "2021-12-02T10:46:23.453Z"
   },
   {
    "duration": 284319,
    "start_time": "2021-12-02T10:52:34.448Z"
   },
   {
    "duration": 4,
    "start_time": "2021-12-02T10:58:07.938Z"
   },
   {
    "duration": 812,
    "start_time": "2021-12-02T10:58:07.944Z"
   },
   {
    "duration": 23,
    "start_time": "2021-12-02T10:58:08.758Z"
   },
   {
    "duration": 10,
    "start_time": "2021-12-02T10:58:08.783Z"
   },
   {
    "duration": 25,
    "start_time": "2021-12-02T10:58:08.795Z"
   },
   {
    "duration": 25,
    "start_time": "2021-12-02T10:58:08.822Z"
   },
   {
    "duration": 129,
    "start_time": "2021-12-02T10:58:08.849Z"
   },
   {
    "duration": 3,
    "start_time": "2021-12-02T10:58:08.979Z"
   },
   {
    "duration": 7,
    "start_time": "2021-12-02T10:58:08.983Z"
   },
   {
    "duration": 3,
    "start_time": "2021-12-02T10:58:08.992Z"
   },
   {
    "duration": 10,
    "start_time": "2021-12-02T10:58:08.996Z"
   },
   {
    "duration": 5904,
    "start_time": "2021-12-02T10:58:09.008Z"
   },
   {
    "duration": 6799,
    "start_time": "2021-12-02T10:58:14.913Z"
   },
   {
    "duration": 2,
    "start_time": "2021-12-02T10:58:21.714Z"
   },
   {
    "duration": 58,
    "start_time": "2021-12-02T10:58:21.718Z"
   },
   {
    "duration": 3,
    "start_time": "2021-12-02T10:58:21.778Z"
   },
   {
    "duration": 54129,
    "start_time": "2021-12-02T10:58:21.782Z"
   },
   {
    "duration": 4819,
    "start_time": "2021-12-02T11:44:12.317Z"
   },
   {
    "duration": 4879,
    "start_time": "2021-12-02T11:47:19.101Z"
   },
   {
    "duration": 275,
    "start_time": "2021-12-02T11:48:03.985Z"
   },
   {
    "duration": 261,
    "start_time": "2021-12-02T11:48:13.074Z"
   },
   {
    "duration": 5232,
    "start_time": "2021-12-02T11:48:42.208Z"
   },
   {
    "duration": 5752,
    "start_time": "2021-12-02T11:49:10.512Z"
   },
   {
    "duration": 4961,
    "start_time": "2021-12-02T11:49:52.350Z"
   },
   {
    "duration": 4839,
    "start_time": "2021-12-02T11:50:52.215Z"
   },
   {
    "duration": 4880,
    "start_time": "2021-12-02T11:55:56.976Z"
   },
   {
    "duration": 4819,
    "start_time": "2021-12-02T11:56:15.739Z"
   },
   {
    "duration": 5150,
    "start_time": "2021-12-02T11:56:27.949Z"
   },
   {
    "duration": 4819,
    "start_time": "2021-12-02T11:57:28.566Z"
   },
   {
    "duration": 4817,
    "start_time": "2021-12-02T11:57:54.410Z"
   },
   {
    "duration": 23,
    "start_time": "2021-12-02T11:59:25.545Z"
   },
   {
    "duration": 5598,
    "start_time": "2021-12-02T12:00:49.584Z"
   },
   {
    "duration": 5,
    "start_time": "2021-12-02T12:01:43.586Z"
   },
   {
    "duration": 746,
    "start_time": "2021-12-02T12:01:43.593Z"
   },
   {
    "duration": 30,
    "start_time": "2021-12-02T12:01:44.341Z"
   },
   {
    "duration": 346,
    "start_time": "2021-12-02T12:01:44.373Z"
   },
   {
    "duration": 33,
    "start_time": "2021-12-02T12:01:44.720Z"
   },
   {
    "duration": 5,
    "start_time": "2021-12-02T12:01:44.755Z"
   },
   {
    "duration": 207,
    "start_time": "2021-12-02T12:01:44.762Z"
   },
   {
    "duration": 2,
    "start_time": "2021-12-02T12:01:44.971Z"
   },
   {
    "duration": 132,
    "start_time": "2021-12-02T12:01:44.975Z"
   },
   {
    "duration": 2,
    "start_time": "2021-12-02T12:01:45.109Z"
   },
   {
    "duration": 15,
    "start_time": "2021-12-02T12:01:45.112Z"
   },
   {
    "duration": 6050,
    "start_time": "2021-12-02T12:01:45.129Z"
   },
   {
    "duration": 6885,
    "start_time": "2021-12-02T12:01:51.181Z"
   },
   {
    "duration": 3,
    "start_time": "2021-12-02T12:01:58.067Z"
   },
   {
    "duration": 48,
    "start_time": "2021-12-02T12:01:58.071Z"
   },
   {
    "duration": 3,
    "start_time": "2021-12-02T12:01:58.120Z"
   },
   {
    "duration": 53784,
    "start_time": "2021-12-02T12:01:58.124Z"
   },
   {
    "duration": 345059,
    "start_time": "2021-12-02T12:02:51.911Z"
   },
   {
    "duration": -682,
    "start_time": "2021-12-02T12:08:37.654Z"
   },
   {
    "duration": -685,
    "start_time": "2021-12-02T12:08:37.658Z"
   },
   {
    "duration": 4224,
    "start_time": "2021-12-02T12:08:49.402Z"
   },
   {
    "duration": 4710,
    "start_time": "2021-12-02T12:09:19.882Z"
   },
   {
    "duration": 1438,
    "start_time": "2021-12-02T12:12:01.619Z"
   },
   {
    "duration": 773,
    "start_time": "2021-12-02T12:12:03.059Z"
   },
   {
    "duration": 29,
    "start_time": "2021-12-02T12:12:03.834Z"
   },
   {
    "duration": 14,
    "start_time": "2021-12-02T12:12:03.865Z"
   },
   {
    "duration": 24,
    "start_time": "2021-12-02T12:12:03.881Z"
   },
   {
    "duration": 5,
    "start_time": "2021-12-02T12:12:03.907Z"
   },
   {
    "duration": 215,
    "start_time": "2021-12-02T12:12:03.913Z"
   },
   {
    "duration": 2,
    "start_time": "2021-12-02T12:12:04.130Z"
   },
   {
    "duration": 164,
    "start_time": "2021-12-02T12:12:04.135Z"
   },
   {
    "duration": 2,
    "start_time": "2021-12-02T12:12:04.301Z"
   },
   {
    "duration": 7,
    "start_time": "2021-12-02T12:12:04.305Z"
   },
   {
    "duration": 9082,
    "start_time": "2021-12-02T12:12:04.314Z"
   },
   {
    "duration": 6949,
    "start_time": "2021-12-02T12:12:13.397Z"
   },
   {
    "duration": 2,
    "start_time": "2021-12-02T12:12:20.348Z"
   },
   {
    "duration": 54,
    "start_time": "2021-12-02T12:12:20.352Z"
   },
   {
    "duration": 2,
    "start_time": "2021-12-02T12:12:20.408Z"
   },
   {
    "duration": 420839,
    "start_time": "2021-12-02T12:12:20.412Z"
   },
   {
    "duration": 4,
    "start_time": "2021-12-02T12:32:10.247Z"
   },
   {
    "duration": 94,
    "start_time": "2021-12-02T12:32:37.383Z"
   },
   {
    "duration": 4,
    "start_time": "2021-12-02T12:32:48.299Z"
   },
   {
    "duration": 5,
    "start_time": "2021-12-02T12:38:47.316Z"
   },
   {
    "duration": 791,
    "start_time": "2021-12-02T12:38:47.325Z"
   },
   {
    "duration": 28,
    "start_time": "2021-12-02T12:38:48.119Z"
   },
   {
    "duration": 11,
    "start_time": "2021-12-02T12:38:48.149Z"
   },
   {
    "duration": 25,
    "start_time": "2021-12-02T12:38:48.162Z"
   },
   {
    "duration": 5,
    "start_time": "2021-12-02T12:38:48.189Z"
   },
   {
    "duration": 161,
    "start_time": "2021-12-02T12:38:48.196Z"
   },
   {
    "duration": 2,
    "start_time": "2021-12-02T12:38:48.359Z"
   },
   {
    "duration": 9,
    "start_time": "2021-12-02T12:38:48.362Z"
   },
   {
    "duration": 3,
    "start_time": "2021-12-02T12:38:48.374Z"
   },
   {
    "duration": 7,
    "start_time": "2021-12-02T12:38:48.379Z"
   },
   {
    "duration": 6059,
    "start_time": "2021-12-02T12:38:48.388Z"
   },
   {
    "duration": 7089,
    "start_time": "2021-12-02T12:38:54.449Z"
   },
   {
    "duration": 6,
    "start_time": "2021-12-02T12:39:01.539Z"
   },
   {
    "duration": 44,
    "start_time": "2021-12-02T12:39:01.546Z"
   },
   {
    "duration": 2,
    "start_time": "2021-12-02T12:39:01.592Z"
   },
   {
    "duration": 53612,
    "start_time": "2021-12-02T12:39:01.596Z"
   },
   {
    "duration": 613811,
    "start_time": "2021-12-02T12:39:55.210Z"
   },
   {
    "duration": 401128,
    "start_time": "2021-12-02T12:50:09.023Z"
   },
   {
    "duration": 422352,
    "start_time": "2021-12-02T12:56:50.153Z"
   },
   {
    "duration": 1296,
    "start_time": "2021-12-02T13:06:47.386Z"
   },
   {
    "duration": 890,
    "start_time": "2021-12-02T13:06:48.684Z"
   },
   {
    "duration": 24,
    "start_time": "2021-12-02T13:06:49.576Z"
   },
   {
    "duration": 14,
    "start_time": "2021-12-02T13:06:49.602Z"
   },
   {
    "duration": 37,
    "start_time": "2021-12-02T13:06:49.618Z"
   },
   {
    "duration": 3,
    "start_time": "2021-12-02T13:06:49.657Z"
   },
   {
    "duration": 199,
    "start_time": "2021-12-02T13:06:49.662Z"
   },
   {
    "duration": 2,
    "start_time": "2021-12-02T13:06:49.864Z"
   },
   {
    "duration": 133,
    "start_time": "2021-12-02T13:06:49.868Z"
   },
   {
    "duration": 2,
    "start_time": "2021-12-02T13:06:50.003Z"
   },
   {
    "duration": 10,
    "start_time": "2021-12-02T13:06:50.007Z"
   },
   {
    "duration": 7271,
    "start_time": "2021-12-02T13:06:50.019Z"
   },
   {
    "duration": 6645,
    "start_time": "2021-12-02T13:06:57.292Z"
   },
   {
    "duration": 7,
    "start_time": "2021-12-02T13:07:03.938Z"
   },
   {
    "duration": 53560,
    "start_time": "2021-12-02T13:07:03.947Z"
   },
   {
    "duration": 610609,
    "start_time": "2021-12-02T13:07:57.509Z"
   },
   {
    "duration": 384446,
    "start_time": "2021-12-02T13:18:08.119Z"
   },
   {
    "duration": 342156,
    "start_time": "2021-12-02T13:24:32.567Z"
   },
   {
    "duration": 347886,
    "start_time": "2021-12-02T13:32:53.948Z"
   },
   {
    "duration": 181891,
    "start_time": "2021-12-02T13:43:25.551Z"
   },
   {
    "duration": 581220,
    "start_time": "2021-12-02T13:46:45.808Z"
   },
   {
    "duration": 1829619,
    "start_time": "2021-12-02T14:03:04.577Z"
   },
   {
    "duration": 1300,
    "start_time": "2021-12-02T14:48:48.554Z"
   },
   {
    "duration": 3372,
    "start_time": "2021-12-02T14:48:49.856Z"
   },
   {
    "duration": 29,
    "start_time": "2021-12-02T14:48:53.231Z"
   },
   {
    "duration": 24,
    "start_time": "2021-12-02T14:48:53.262Z"
   },
   {
    "duration": 25,
    "start_time": "2021-12-02T14:48:53.288Z"
   },
   {
    "duration": 3,
    "start_time": "2021-12-02T14:48:53.315Z"
   },
   {
    "duration": 210,
    "start_time": "2021-12-02T14:48:53.320Z"
   },
   {
    "duration": 2,
    "start_time": "2021-12-02T14:48:53.532Z"
   },
   {
    "duration": 232,
    "start_time": "2021-12-02T14:48:53.544Z"
   },
   {
    "duration": 2,
    "start_time": "2021-12-02T14:48:53.778Z"
   },
   {
    "duration": 8,
    "start_time": "2021-12-02T14:48:53.781Z"
   },
   {
    "duration": 6826,
    "start_time": "2021-12-02T14:48:53.791Z"
   },
   {
    "duration": 6810,
    "start_time": "2021-12-02T14:49:00.619Z"
   },
   {
    "duration": 3,
    "start_time": "2021-12-02T14:49:07.430Z"
   },
   {
    "duration": 54071,
    "start_time": "2021-12-02T14:49:07.435Z"
   },
   {
    "duration": 647410,
    "start_time": "2021-12-02T14:50:01.508Z"
   },
   {
    "duration": -597,
    "start_time": "2021-12-02T15:00:49.518Z"
   },
   {
    "duration": -608,
    "start_time": "2021-12-02T15:00:49.531Z"
   },
   {
    "duration": -547,
    "start_time": "2021-12-02T15:04:57.270Z"
   },
   {
    "duration": 2030,
    "start_time": "2021-12-02T15:05:20.662Z"
   },
   {
    "duration": 3471,
    "start_time": "2021-12-02T15:05:22.694Z"
   },
   {
    "duration": 28,
    "start_time": "2021-12-02T15:05:26.167Z"
   },
   {
    "duration": 14,
    "start_time": "2021-12-02T15:05:26.197Z"
   },
   {
    "duration": 46,
    "start_time": "2021-12-02T15:05:26.212Z"
   },
   {
    "duration": 5,
    "start_time": "2021-12-02T15:05:26.260Z"
   },
   {
    "duration": 204,
    "start_time": "2021-12-02T15:05:26.266Z"
   },
   {
    "duration": 3,
    "start_time": "2021-12-02T15:05:26.472Z"
   },
   {
    "duration": 456,
    "start_time": "2021-12-02T15:05:26.476Z"
   },
   {
    "duration": 2,
    "start_time": "2021-12-02T15:05:26.934Z"
   },
   {
    "duration": 6,
    "start_time": "2021-12-02T15:05:26.938Z"
   },
   {
    "duration": 7307,
    "start_time": "2021-12-02T15:05:26.946Z"
   },
   {
    "duration": 6718,
    "start_time": "2021-12-02T15:05:34.255Z"
   },
   {
    "duration": 2,
    "start_time": "2021-12-02T15:05:40.975Z"
   },
   {
    "duration": 56122,
    "start_time": "2021-12-02T15:05:40.979Z"
   },
   {
    "duration": 658265,
    "start_time": "2021-12-02T15:06:37.103Z"
   },
   {
    "duration": 407095,
    "start_time": "2021-12-02T15:17:35.369Z"
   },
   {
    "duration": 2042061,
    "start_time": "2021-12-02T15:24:22.466Z"
   },
   {
    "duration": 239837,
    "start_time": "2021-12-02T15:59:03.099Z"
   },
   {
    "duration": 3403978,
    "start_time": "2021-12-02T16:04:05.090Z"
   },
   {
    "duration": 8,
    "start_time": "2021-12-03T01:21:41.676Z"
   },
   {
    "duration": 6,
    "start_time": "2021-12-03T01:21:57.816Z"
   },
   {
    "duration": 1922,
    "start_time": "2021-12-03T01:24:40.508Z"
   },
   {
    "duration": 1122,
    "start_time": "2021-12-03T01:24:42.433Z"
   },
   {
    "duration": 30,
    "start_time": "2021-12-03T01:24:43.558Z"
   },
   {
    "duration": 21,
    "start_time": "2021-12-03T01:24:43.591Z"
   },
   {
    "duration": 68,
    "start_time": "2021-12-03T01:24:43.615Z"
   },
   {
    "duration": 5,
    "start_time": "2021-12-03T01:24:43.686Z"
   },
   {
    "duration": 228,
    "start_time": "2021-12-03T01:24:43.694Z"
   },
   {
    "duration": 3,
    "start_time": "2021-12-03T01:24:43.925Z"
   },
   {
    "duration": 223,
    "start_time": "2021-12-03T01:24:43.931Z"
   },
   {
    "duration": 3,
    "start_time": "2021-12-03T01:24:44.156Z"
   },
   {
    "duration": 9,
    "start_time": "2021-12-03T01:24:44.161Z"
   },
   {
    "duration": 67787,
    "start_time": "2021-12-03T01:24:44.172Z"
   },
   {
    "duration": 5,
    "start_time": "2021-12-03T01:26:11.545Z"
   },
   {
    "duration": 76458,
    "start_time": "2021-12-03T01:26:12.470Z"
   },
   {
    "duration": 106,
    "start_time": "2021-12-03T01:38:55.290Z"
   },
   {
    "duration": 7,
    "start_time": "2021-12-03T01:41:16.515Z"
   },
   {
    "duration": 1028,
    "start_time": "2021-12-03T01:41:16.525Z"
   },
   {
    "duration": 40,
    "start_time": "2021-12-03T01:41:17.557Z"
   },
   {
    "duration": 15,
    "start_time": "2021-12-03T01:41:17.600Z"
   },
   {
    "duration": 68,
    "start_time": "2021-12-03T01:41:17.619Z"
   },
   {
    "duration": 8,
    "start_time": "2021-12-03T01:41:17.689Z"
   },
   {
    "duration": 213,
    "start_time": "2021-12-03T01:41:17.700Z"
   },
   {
    "duration": 3,
    "start_time": "2021-12-03T01:41:17.916Z"
   },
   {
    "duration": 8,
    "start_time": "2021-12-03T01:41:17.921Z"
   },
   {
    "duration": 4,
    "start_time": "2021-12-03T01:41:17.932Z"
   },
   {
    "duration": 10,
    "start_time": "2021-12-03T01:41:17.939Z"
   },
   {
    "duration": 66715,
    "start_time": "2021-12-03T01:41:17.952Z"
   },
   {
    "duration": 478,
    "start_time": "2021-12-03T01:42:24.669Z"
   },
   {
    "duration": -148,
    "start_time": "2021-12-03T01:42:25.298Z"
   },
   {
    "duration": -153,
    "start_time": "2021-12-03T01:42:25.305Z"
   },
   {
    "duration": 36,
    "start_time": "2021-12-03T01:42:50.460Z"
   },
   {
    "duration": 9036,
    "start_time": "2021-12-03T01:42:52.202Z"
   },
   {
    "duration": 2858,
    "start_time": "2021-12-03T01:43:01.240Z"
   },
   {
    "duration": 3,
    "start_time": "2021-12-03T01:43:30.372Z"
   },
   {
    "duration": 9,
    "start_time": "2021-12-03T01:46:57.334Z"
   },
   {
    "duration": 995,
    "start_time": "2021-12-03T01:46:57.347Z"
   },
   {
    "duration": 37,
    "start_time": "2021-12-03T01:46:58.345Z"
   },
   {
    "duration": 16,
    "start_time": "2021-12-03T01:46:58.385Z"
   },
   {
    "duration": 33,
    "start_time": "2021-12-03T01:46:58.404Z"
   },
   {
    "duration": 46,
    "start_time": "2021-12-03T01:46:58.440Z"
   },
   {
    "duration": 300,
    "start_time": "2021-12-03T01:46:58.491Z"
   },
   {
    "duration": 4,
    "start_time": "2021-12-03T01:46:58.794Z"
   },
   {
    "duration": 11,
    "start_time": "2021-12-03T01:46:58.801Z"
   },
   {
    "duration": 4,
    "start_time": "2021-12-03T01:46:58.815Z"
   },
   {
    "duration": 6,
    "start_time": "2021-12-03T01:46:58.822Z"
   },
   {
    "duration": 69211,
    "start_time": "2021-12-03T01:46:58.831Z"
   },
   {
    "duration": 55,
    "start_time": "2021-12-03T01:48:08.044Z"
   },
   {
    "duration": 8462,
    "start_time": "2021-12-03T01:48:08.102Z"
   },
   {
    "duration": 2735,
    "start_time": "2021-12-03T01:48:16.567Z"
   },
   {
    "duration": 5,
    "start_time": "2021-12-03T01:48:19.305Z"
   },
   {
    "duration": 10,
    "start_time": "2021-12-03T01:48:52.730Z"
   },
   {
    "duration": 4,
    "start_time": "2021-12-03T01:53:05.671Z"
   },
   {
    "duration": 318,
    "start_time": "2021-12-03T01:53:08.444Z"
   },
   {
    "duration": 19273,
    "start_time": "2021-12-03T01:53:53.594Z"
   },
   {
    "duration": 102,
    "start_time": "2021-12-03T02:01:20.656Z"
   },
   {
    "duration": 10,
    "start_time": "2021-12-03T02:07:30.777Z"
   },
   {
    "duration": 1128,
    "start_time": "2021-12-03T02:07:30.791Z"
   },
   {
    "duration": 33,
    "start_time": "2021-12-03T02:07:31.924Z"
   },
   {
    "duration": 42,
    "start_time": "2021-12-03T02:07:31.960Z"
   },
   {
    "duration": 38,
    "start_time": "2021-12-03T02:07:32.004Z"
   },
   {
    "duration": 39,
    "start_time": "2021-12-03T02:07:32.044Z"
   },
   {
    "duration": 257,
    "start_time": "2021-12-03T02:07:32.086Z"
   },
   {
    "duration": 2,
    "start_time": "2021-12-03T02:07:32.347Z"
   },
   {
    "duration": 16,
    "start_time": "2021-12-03T02:07:32.352Z"
   },
   {
    "duration": 15,
    "start_time": "2021-12-03T02:07:32.370Z"
   },
   {
    "duration": 9,
    "start_time": "2021-12-03T02:07:32.387Z"
   },
   {
    "duration": 65929,
    "start_time": "2021-12-03T02:07:32.399Z"
   },
   {
    "duration": 33,
    "start_time": "2021-12-03T02:08:38.331Z"
   },
   {
    "duration": 9829,
    "start_time": "2021-12-03T02:08:38.367Z"
   },
   {
    "duration": 2617,
    "start_time": "2021-12-03T02:08:48.198Z"
   },
   {
    "duration": 4,
    "start_time": "2021-12-03T02:08:50.818Z"
   },
   {
    "duration": 11,
    "start_time": "2021-12-03T02:08:50.824Z"
   },
   {
    "duration": 17239,
    "start_time": "2021-12-03T02:08:50.837Z"
   },
   {
    "duration": 193858,
    "start_time": "2021-12-03T02:09:08.083Z"
   },
   {
    "duration": 76313,
    "start_time": "2021-12-03T02:12:21.943Z"
   },
   {
    "duration": 3,
    "start_time": "2022-01-18T10:16:20.693Z"
   },
   {
    "duration": 2,
    "start_time": "2022-01-18T10:17:29.671Z"
   },
   {
    "duration": 1226,
    "start_time": "2022-01-18T10:29:27.137Z"
   },
   {
    "duration": 701,
    "start_time": "2022-01-18T10:29:28.365Z"
   },
   {
    "duration": 16,
    "start_time": "2022-01-18T10:29:29.068Z"
   },
   {
    "duration": 27,
    "start_time": "2022-01-18T10:29:29.086Z"
   },
   {
    "duration": 22,
    "start_time": "2022-01-18T10:29:29.114Z"
   },
   {
    "duration": 20,
    "start_time": "2022-01-18T10:29:29.137Z"
   },
   {
    "duration": 188,
    "start_time": "2022-01-18T10:29:29.159Z"
   },
   {
    "duration": 2,
    "start_time": "2022-01-18T10:29:29.350Z"
   },
   {
    "duration": -386,
    "start_time": "2022-01-18T10:39:35.054Z"
   },
   {
    "duration": -389,
    "start_time": "2022-01-18T10:39:35.059Z"
   },
   {
    "duration": -393,
    "start_time": "2022-01-18T10:39:35.064Z"
   },
   {
    "duration": -407,
    "start_time": "2022-01-18T10:39:35.080Z"
   },
   {
    "duration": -411,
    "start_time": "2022-01-18T10:39:35.085Z"
   },
   {
    "duration": -413,
    "start_time": "2022-01-18T10:39:35.089Z"
   },
   {
    "duration": -416,
    "start_time": "2022-01-18T10:39:35.093Z"
   },
   {
    "duration": -418,
    "start_time": "2022-01-18T10:39:35.097Z"
   },
   {
    "duration": -421,
    "start_time": "2022-01-18T10:39:35.101Z"
   },
   {
    "duration": -424,
    "start_time": "2022-01-18T10:39:35.106Z"
   },
   {
    "duration": -427,
    "start_time": "2022-01-18T10:39:35.110Z"
   },
   {
    "duration": -417,
    "start_time": "2022-01-18T10:39:35.128Z"
   },
   {
    "duration": -423,
    "start_time": "2022-01-18T10:39:35.136Z"
   },
   {
    "duration": -426,
    "start_time": "2022-01-18T10:39:35.140Z"
   },
   {
    "duration": -430,
    "start_time": "2022-01-18T10:39:35.146Z"
   },
   {
    "duration": -436,
    "start_time": "2022-01-18T10:39:35.153Z"
   },
   {
    "duration": -438,
    "start_time": "2022-01-18T10:39:35.157Z"
   },
   {
    "duration": -449,
    "start_time": "2022-01-18T10:39:35.169Z"
   },
   {
    "duration": -453,
    "start_time": "2022-01-18T10:39:35.174Z"
   },
   {
    "duration": -458,
    "start_time": "2022-01-18T10:39:35.181Z"
   },
   {
    "duration": 5,
    "start_time": "2022-01-18T10:39:38.338Z"
   },
   {
    "duration": 739,
    "start_time": "2022-01-18T10:39:38.345Z"
   },
   {
    "duration": 25,
    "start_time": "2022-01-18T10:39:39.087Z"
   },
   {
    "duration": 11,
    "start_time": "2022-01-18T10:39:39.114Z"
   },
   {
    "duration": 25,
    "start_time": "2022-01-18T10:39:39.126Z"
   },
   {
    "duration": 9,
    "start_time": "2022-01-18T10:39:39.153Z"
   },
   {
    "duration": 147,
    "start_time": "2022-01-18T10:39:39.164Z"
   },
   {
    "duration": 2,
    "start_time": "2022-01-18T10:39:39.314Z"
   },
   {
    "duration": 1028794,
    "start_time": "2022-01-18T10:39:39.318Z"
   },
   {
    "duration": -129,
    "start_time": "2022-01-18T10:56:48.243Z"
   },
   {
    "duration": -132,
    "start_time": "2022-01-18T10:56:48.247Z"
   },
   {
    "duration": -135,
    "start_time": "2022-01-18T10:56:48.250Z"
   },
   {
    "duration": -138,
    "start_time": "2022-01-18T10:56:48.254Z"
   },
   {
    "duration": -141,
    "start_time": "2022-01-18T10:56:48.258Z"
   },
   {
    "duration": -143,
    "start_time": "2022-01-18T10:56:48.261Z"
   },
   {
    "duration": -146,
    "start_time": "2022-01-18T10:56:48.265Z"
   },
   {
    "duration": -149,
    "start_time": "2022-01-18T10:56:48.269Z"
   },
   {
    "duration": -197,
    "start_time": "2022-01-18T10:56:48.318Z"
   },
   {
    "duration": -200,
    "start_time": "2022-01-18T10:56:48.322Z"
   },
   {
    "duration": -205,
    "start_time": "2022-01-18T10:56:48.328Z"
   },
   {
    "duration": 1261,
    "start_time": "2022-01-18T11:01:52.034Z"
   },
   {
    "duration": 730,
    "start_time": "2022-01-18T11:01:53.296Z"
   },
   {
    "duration": 24,
    "start_time": "2022-01-18T11:01:54.028Z"
   },
   {
    "duration": 16,
    "start_time": "2022-01-18T11:01:54.054Z"
   },
   {
    "duration": 40,
    "start_time": "2022-01-18T11:01:54.073Z"
   },
   {
    "duration": 4,
    "start_time": "2022-01-18T11:01:54.115Z"
   },
   {
    "duration": 216,
    "start_time": "2022-01-18T11:01:54.121Z"
   },
   {
    "duration": 3,
    "start_time": "2022-01-18T11:01:54.339Z"
   },
   {
    "duration": 284131,
    "start_time": "2022-01-18T11:01:54.344Z"
   },
   {
    "duration": -120,
    "start_time": "2022-01-18T11:06:38.597Z"
   },
   {
    "duration": -122,
    "start_time": "2022-01-18T11:06:38.601Z"
   },
   {
    "duration": -124,
    "start_time": "2022-01-18T11:06:38.605Z"
   },
   {
    "duration": -128,
    "start_time": "2022-01-18T11:06:38.610Z"
   },
   {
    "duration": -131,
    "start_time": "2022-01-18T11:06:38.615Z"
   },
   {
    "duration": -133,
    "start_time": "2022-01-18T11:06:38.618Z"
   },
   {
    "duration": -137,
    "start_time": "2022-01-18T11:06:38.624Z"
   },
   {
    "duration": -139,
    "start_time": "2022-01-18T11:06:38.627Z"
   },
   {
    "duration": -141,
    "start_time": "2022-01-18T11:06:38.631Z"
   },
   {
    "duration": -145,
    "start_time": "2022-01-18T11:06:38.636Z"
   },
   {
    "duration": -148,
    "start_time": "2022-01-18T11:06:38.640Z"
   },
   {
    "duration": 7383,
    "start_time": "2022-01-18T11:16:24.177Z"
   },
   {
    "duration": 5,
    "start_time": "2022-01-18T11:16:31.563Z"
   },
   {
    "duration": 752,
    "start_time": "2022-01-18T11:16:31.570Z"
   },
   {
    "duration": 22,
    "start_time": "2022-01-18T11:16:32.325Z"
   },
   {
    "duration": 12,
    "start_time": "2022-01-18T11:16:32.349Z"
   },
   {
    "duration": 25,
    "start_time": "2022-01-18T11:16:32.362Z"
   },
   {
    "duration": 25,
    "start_time": "2022-01-18T11:16:32.389Z"
   },
   {
    "duration": 133,
    "start_time": "2022-01-18T11:16:32.415Z"
   },
   {
    "duration": 2,
    "start_time": "2022-01-18T11:16:40.501Z"
   },
   {
    "duration": 30464,
    "start_time": "2022-01-18T11:16:41.249Z"
   },
   {
    "duration": -208,
    "start_time": "2022-01-18T11:17:11.923Z"
   },
   {
    "duration": 3453,
    "start_time": "2022-01-23T05:06:52.095Z"
   },
   {
    "duration": 1774,
    "start_time": "2022-01-23T05:06:55.552Z"
   },
   {
    "duration": 984,
    "start_time": "2022-01-23T05:06:57.330Z"
   },
   {
    "duration": 32,
    "start_time": "2022-01-23T05:06:58.317Z"
   },
   {
    "duration": 36,
    "start_time": "2022-01-23T05:06:58.351Z"
   },
   {
    "duration": 32,
    "start_time": "2022-01-23T05:06:58.390Z"
   },
   {
    "duration": 6,
    "start_time": "2022-01-23T05:06:58.425Z"
   },
   {
    "duration": 405,
    "start_time": "2022-01-23T05:06:58.434Z"
   },
   {
    "duration": 3,
    "start_time": "2022-01-23T05:06:58.842Z"
   },
   {
    "duration": 254,
    "start_time": "2022-01-23T05:06:58.847Z"
   },
   {
    "duration": 4,
    "start_time": "2022-01-23T05:06:59.103Z"
   },
   {
    "duration": 3539,
    "start_time": "2022-01-23T05:07:11.984Z"
   },
   {
    "duration": 8,
    "start_time": "2022-01-23T05:07:15.526Z"
   },
   {
    "duration": 1014,
    "start_time": "2022-01-23T05:07:15.538Z"
   },
   {
    "duration": 37,
    "start_time": "2022-01-23T05:07:16.556Z"
   },
   {
    "duration": 17,
    "start_time": "2022-01-23T05:07:16.596Z"
   },
   {
    "duration": 58,
    "start_time": "2022-01-23T05:07:16.615Z"
   },
   {
    "duration": 7,
    "start_time": "2022-01-23T05:07:16.675Z"
   },
   {
    "duration": 223,
    "start_time": "2022-01-23T05:07:16.686Z"
   },
   {
    "duration": 3,
    "start_time": "2022-01-23T05:07:16.912Z"
   },
   {
    "duration": 10,
    "start_time": "2022-01-23T05:07:16.917Z"
   },
   {
    "duration": 4,
    "start_time": "2022-01-23T05:07:16.929Z"
   },
   {
    "duration": 33,
    "start_time": "2022-01-23T05:07:16.936Z"
   },
   {
    "duration": 66408,
    "start_time": "2022-01-23T05:07:16.972Z"
   },
   {
    "duration": 34,
    "start_time": "2022-01-23T05:08:23.382Z"
   },
   {
    "duration": 8637,
    "start_time": "2022-01-23T05:08:23.418Z"
   },
   {
    "duration": 2582,
    "start_time": "2022-01-23T05:08:32.057Z"
   },
   {
    "duration": 3,
    "start_time": "2022-01-23T05:08:34.641Z"
   },
   {
    "duration": 14504,
    "start_time": "2022-01-23T05:08:34.646Z"
   },
   {
    "duration": 177112,
    "start_time": "2022-01-23T05:08:49.152Z"
   },
   {
    "duration": 72714,
    "start_time": "2022-01-23T05:11:46.270Z"
   },
   {
    "duration": 1541791,
    "start_time": "2022-01-23T05:12:58.986Z"
   }
  ],
  "kernelspec": {
   "display_name": "Python 3",
   "language": "python",
   "name": "python3"
  },
  "language_info": {
   "codemirror_mode": {
    "name": "ipython",
    "version": 3
   },
   "file_extension": ".py",
   "mimetype": "text/x-python",
   "name": "python",
   "nbconvert_exporter": "python",
   "pygments_lexer": "ipython3",
   "version": "3.8.8"
  },
  "toc": {
   "base_numbering": 1,
   "nav_menu": {},
   "number_sections": true,
   "sideBar": true,
   "skip_h1_title": true,
   "title_cell": "Содержание",
   "title_sidebar": "Contents",
   "toc_cell": true,
   "toc_position": {
    "height": "calc(100% - 180px)",
    "left": "10px",
    "top": "150px",
    "width": "179.391px"
   },
   "toc_section_display": true,
   "toc_window_display": true
  }
 },
 "nbformat": 4,
 "nbformat_minor": 2
}
