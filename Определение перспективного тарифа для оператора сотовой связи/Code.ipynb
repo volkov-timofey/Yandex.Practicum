{
 "cells": [
  {
   "cell_type": "markdown",
   "metadata": {
    "toc": true
   },
   "source": [
    "<h1>Содержание<span class=\"tocSkip\"></span></h1>\n",
    "<div class=\"toc\"><ul class=\"toc-item\"><li><span><a href=\"#Изучение-данных-из-файлов\" data-toc-modified-id=\"Изучение-данных-из-файлов-1\"><span class=\"toc-item-num\">1&nbsp;&nbsp;</span>Изучение данных из файлов</a></span><ul class=\"toc-item\"><li><span><a href=\"#Вывод\" data-toc-modified-id=\"Вывод-1.1\"><span class=\"toc-item-num\">1.1&nbsp;&nbsp;</span>Вывод</a></span></li></ul></li><li><span><a href=\"#Предобработка-данных\" data-toc-modified-id=\"Предобработка-данных-2\"><span class=\"toc-item-num\">2&nbsp;&nbsp;</span>Предобработка данных</a></span><ul class=\"toc-item\"><li><span><a href=\"#Звонки\" data-toc-modified-id=\"Звонки-2.1\"><span class=\"toc-item-num\">2.1&nbsp;&nbsp;</span>Звонки</a></span></li><li><span><a href=\"#Сообщения\" data-toc-modified-id=\"Сообщения-2.2\"><span class=\"toc-item-num\">2.2&nbsp;&nbsp;</span>Сообщения</a></span></li><li><span><a href=\"#Интернет-трафик\" data-toc-modified-id=\"Интернет-трафик-2.3\"><span class=\"toc-item-num\">2.3&nbsp;&nbsp;</span>Интернет трафик</a></span></li><li><span><a href=\"#Абоненты\" data-toc-modified-id=\"Абоненты-2.4\"><span class=\"toc-item-num\">2.4&nbsp;&nbsp;</span>Абоненты</a></span></li></ul></li><li><span><a href=\"#Расчёты\" data-toc-modified-id=\"Расчёты-3\"><span class=\"toc-item-num\">3&nbsp;&nbsp;</span>Расчёты</a></span><ul class=\"toc-item\"><li><span><a href=\"#Звонки\" data-toc-modified-id=\"Звонки-3.1\"><span class=\"toc-item-num\">3.1&nbsp;&nbsp;</span>Звонки</a></span></li><li><span><a href=\"#Интернет\" data-toc-modified-id=\"Интернет-3.2\"><span class=\"toc-item-num\">3.2&nbsp;&nbsp;</span>Интернет</a></span></li><li><span><a href=\"#Сообщения\" data-toc-modified-id=\"Сообщения-3.3\"><span class=\"toc-item-num\">3.3&nbsp;&nbsp;</span>Сообщения</a></span></li><li><span><a href=\"#Финальная-таблица\" data-toc-modified-id=\"Финальная-таблица-3.4\"><span class=\"toc-item-num\">3.4&nbsp;&nbsp;</span>Финальная таблица</a></span></li></ul></li><li><span><a href=\"#Исследовательский-анализ-данных\" data-toc-modified-id=\"Исследовательский-анализ-данных-4\"><span class=\"toc-item-num\">4&nbsp;&nbsp;</span>Исследовательский анализ данных</a></span><ul class=\"toc-item\"><li><span><a href=\"#Тариф-&quot;Smart&quot;\" data-toc-modified-id=\"Тариф-&quot;Smart&quot;-4.1\"><span class=\"toc-item-num\">4.1&nbsp;&nbsp;</span>Тариф \"Smart\"</a></span></li><li><span><a href=\"#Тариф-Ultra\" data-toc-modified-id=\"Тариф-Ultra-4.2\"><span class=\"toc-item-num\">4.2&nbsp;&nbsp;</span>Тариф Ultra</a></span></li></ul></li><li><span><a href=\"#Проверка-гипотез\" data-toc-modified-id=\"Проверка-гипотез-5\"><span class=\"toc-item-num\">5&nbsp;&nbsp;</span>Проверка гипотез</a></span><ul class=\"toc-item\"><li><span><a href=\"#Гипотеза-№1\" data-toc-modified-id=\"Гипотеза-№1-5.1\"><span class=\"toc-item-num\">5.1&nbsp;&nbsp;</span>Гипотеза №1</a></span></li><li><span><a href=\"#Гипотеза-№2.\" data-toc-modified-id=\"Гипотеза-№2.-5.2\"><span class=\"toc-item-num\">5.2&nbsp;&nbsp;</span>Гипотеза №2.</a></span></li><li><span><a href=\"#Дополнительные-расчёты\" data-toc-modified-id=\"Дополнительные-расчёты-5.3\"><span class=\"toc-item-num\">5.3&nbsp;&nbsp;</span>Дополнительные расчёты</a></span></li></ul></li><li><span><a href=\"#Общий-вывод\" data-toc-modified-id=\"Общий-вывод-6\"><span class=\"toc-item-num\">6&nbsp;&nbsp;</span>Общий вывод</a></span></li></ul></div>"
   ]
  },
  {
   "cell_type": "markdown",
   "metadata": {},
   "source": [
    "# Определение перспективного тарифа для телеком компании\n",
    "\n",
    "Клиентам предлагают два тарифных плана: «Смарт» и «Ультра».\n",
    "\n",
    "Задача заказчика: Необходимо скорректировать рекламный бюджет, коммерческий департамент хочет понять, какой тариф приносит больше денег.\n",
    "\n",
    "Выполнено: Предварительный анализ тарифов на небольшой выборке клиентов (500 абонентов).\n",
    "\n",
    "Необходимо проанализировать поведение клиентов и сделать вывод — какой тариф лучше."
   ]
  },
  {
   "cell_type": "markdown",
   "metadata": {},
   "source": [
    "## Изучение данных из файлов"
   ]
  },
  {
   "cell_type": "code",
   "execution_count": 3,
   "metadata": {},
   "outputs": [],
   "source": [
    "import pandas as pd\n",
    "import numpy as np\n",
    "import matplotlib.pyplot as plt\n",
    "import seaborn as sns\n",
    "import datetime as dt\n",
    "from scipy import stats as st\n",
    "pd.set_option('display.max_columns', None)\n",
    "\n",
    "import warnings\n",
    "warnings.simplefilter(\"ignore\")"
   ]
  },
  {
   "cell_type": "code",
   "execution_count": 4,
   "metadata": {
    "scrolled": false
   },
   "outputs": [],
   "source": [
    "try:\n",
    "    calls = pd.read_csv(\"data/calls.csv\")\n",
    "    internet = pd.read_csv(\"data/internet.csv\")\n",
    "    messages = pd.read_csv(\"data/messages.csv\")\n",
    "    tariffs = pd.read_csv(\"data/tariffs.csv\")\n",
    "    users = pd.read_csv(\"data/users.csv\")\n",
    "except FileNotFoundError:\n",
    "    calls = pd.read_csv(\"/datasets/calls.csv\")\n",
    "    internet = pd.read_csv(\"/datasets/internet.csv\")\n",
    "    messages = pd.read_csv(\"/datasets/messages.csv\")\n",
    "    tariffs = pd.read_csv(\"/datasets/tariffs.csv\")\n",
    "    users = pd.read_csv(\"/datasets/users.csv\")"
   ]
  },
  {
   "cell_type": "code",
   "execution_count": 5,
   "metadata": {},
   "outputs": [
    {
     "name": "stdout",
     "output_type": "stream",
     "text": [
      "<class 'pandas.core.frame.DataFrame'>\n",
      "RangeIndex: 202607 entries, 0 to 202606\n",
      "Data columns (total 4 columns):\n",
      " #   Column     Non-Null Count   Dtype  \n",
      "---  ------     --------------   -----  \n",
      " 0   id         202607 non-null  object \n",
      " 1   call_date  202607 non-null  object \n",
      " 2   duration   202607 non-null  float64\n",
      " 3   user_id    202607 non-null  int64  \n",
      "dtypes: float64(1), int64(1), object(2)\n",
      "memory usage: 6.2+ MB\n",
      "\n"
     ]
    },
    {
     "data": {
      "text/html": [
       "<div>\n",
       "<style scoped>\n",
       "    .dataframe tbody tr th:only-of-type {\n",
       "        vertical-align: middle;\n",
       "    }\n",
       "\n",
       "    .dataframe tbody tr th {\n",
       "        vertical-align: top;\n",
       "    }\n",
       "\n",
       "    .dataframe thead th {\n",
       "        text-align: right;\n",
       "    }\n",
       "</style>\n",
       "<table border=\"1\" class=\"dataframe\">\n",
       "  <thead>\n",
       "    <tr style=\"text-align: right;\">\n",
       "      <th></th>\n",
       "      <th>id</th>\n",
       "      <th>call_date</th>\n",
       "      <th>duration</th>\n",
       "      <th>user_id</th>\n",
       "    </tr>\n",
       "  </thead>\n",
       "  <tbody>\n",
       "    <tr>\n",
       "      <th>0</th>\n",
       "      <td>1000_0</td>\n",
       "      <td>2018-07-25</td>\n",
       "      <td>0.00</td>\n",
       "      <td>1000</td>\n",
       "    </tr>\n",
       "    <tr>\n",
       "      <th>1</th>\n",
       "      <td>1000_1</td>\n",
       "      <td>2018-08-17</td>\n",
       "      <td>0.00</td>\n",
       "      <td>1000</td>\n",
       "    </tr>\n",
       "    <tr>\n",
       "      <th>2</th>\n",
       "      <td>1000_2</td>\n",
       "      <td>2018-06-11</td>\n",
       "      <td>2.85</td>\n",
       "      <td>1000</td>\n",
       "    </tr>\n",
       "    <tr>\n",
       "      <th>3</th>\n",
       "      <td>1000_3</td>\n",
       "      <td>2018-09-21</td>\n",
       "      <td>13.80</td>\n",
       "      <td>1000</td>\n",
       "    </tr>\n",
       "    <tr>\n",
       "      <th>4</th>\n",
       "      <td>1000_4</td>\n",
       "      <td>2018-12-15</td>\n",
       "      <td>5.18</td>\n",
       "      <td>1000</td>\n",
       "    </tr>\n",
       "    <tr>\n",
       "      <th>5</th>\n",
       "      <td>1000_5</td>\n",
       "      <td>2018-11-02</td>\n",
       "      <td>0.00</td>\n",
       "      <td>1000</td>\n",
       "    </tr>\n",
       "    <tr>\n",
       "      <th>6</th>\n",
       "      <td>1000_6</td>\n",
       "      <td>2018-10-18</td>\n",
       "      <td>0.00</td>\n",
       "      <td>1000</td>\n",
       "    </tr>\n",
       "    <tr>\n",
       "      <th>7</th>\n",
       "      <td>1000_7</td>\n",
       "      <td>2018-08-22</td>\n",
       "      <td>18.31</td>\n",
       "      <td>1000</td>\n",
       "    </tr>\n",
       "    <tr>\n",
       "      <th>8</th>\n",
       "      <td>1000_8</td>\n",
       "      <td>2018-09-15</td>\n",
       "      <td>18.44</td>\n",
       "      <td>1000</td>\n",
       "    </tr>\n",
       "    <tr>\n",
       "      <th>9</th>\n",
       "      <td>1000_9</td>\n",
       "      <td>2018-08-15</td>\n",
       "      <td>0.00</td>\n",
       "      <td>1000</td>\n",
       "    </tr>\n",
       "  </tbody>\n",
       "</table>\n",
       "</div>"
      ],
      "text/plain": [
       "       id   call_date  duration  user_id\n",
       "0  1000_0  2018-07-25      0.00     1000\n",
       "1  1000_1  2018-08-17      0.00     1000\n",
       "2  1000_2  2018-06-11      2.85     1000\n",
       "3  1000_3  2018-09-21     13.80     1000\n",
       "4  1000_4  2018-12-15      5.18     1000\n",
       "5  1000_5  2018-11-02      0.00     1000\n",
       "6  1000_6  2018-10-18      0.00     1000\n",
       "7  1000_7  2018-08-22     18.31     1000\n",
       "8  1000_8  2018-09-15     18.44     1000\n",
       "9  1000_9  2018-08-15      0.00     1000"
      ]
     },
     "execution_count": 5,
     "metadata": {},
     "output_type": "execute_result"
    }
   ],
   "source": [
    "#Информация по голосовым сервисам\n",
    "calls.info()\n",
    "print()\n",
    "calls.head(10)"
   ]
  },
  {
   "cell_type": "markdown",
   "metadata": {},
   "source": [
    "Длина таблицы со звоками 202607 - пропусков нет. Сводная информация по звонкам каждого абонента."
   ]
  },
  {
   "cell_type": "code",
   "execution_count": 6,
   "metadata": {
    "scrolled": false
   },
   "outputs": [
    {
     "name": "stdout",
     "output_type": "stream",
     "text": [
      "<class 'pandas.core.frame.DataFrame'>\n",
      "RangeIndex: 149396 entries, 0 to 149395\n",
      "Data columns (total 5 columns):\n",
      " #   Column        Non-Null Count   Dtype  \n",
      "---  ------        --------------   -----  \n",
      " 0   Unnamed: 0    149396 non-null  int64  \n",
      " 1   id            149396 non-null  object \n",
      " 2   mb_used       149396 non-null  float64\n",
      " 3   session_date  149396 non-null  object \n",
      " 4   user_id       149396 non-null  int64  \n",
      "dtypes: float64(1), int64(2), object(2)\n",
      "memory usage: 5.7+ MB\n",
      "\n"
     ]
    },
    {
     "data": {
      "text/html": [
       "<div>\n",
       "<style scoped>\n",
       "    .dataframe tbody tr th:only-of-type {\n",
       "        vertical-align: middle;\n",
       "    }\n",
       "\n",
       "    .dataframe tbody tr th {\n",
       "        vertical-align: top;\n",
       "    }\n",
       "\n",
       "    .dataframe thead th {\n",
       "        text-align: right;\n",
       "    }\n",
       "</style>\n",
       "<table border=\"1\" class=\"dataframe\">\n",
       "  <thead>\n",
       "    <tr style=\"text-align: right;\">\n",
       "      <th></th>\n",
       "      <th>Unnamed: 0</th>\n",
       "      <th>id</th>\n",
       "      <th>mb_used</th>\n",
       "      <th>session_date</th>\n",
       "      <th>user_id</th>\n",
       "    </tr>\n",
       "  </thead>\n",
       "  <tbody>\n",
       "    <tr>\n",
       "      <th>0</th>\n",
       "      <td>0</td>\n",
       "      <td>1000_0</td>\n",
       "      <td>112.95</td>\n",
       "      <td>2018-11-25</td>\n",
       "      <td>1000</td>\n",
       "    </tr>\n",
       "    <tr>\n",
       "      <th>1</th>\n",
       "      <td>1</td>\n",
       "      <td>1000_1</td>\n",
       "      <td>1052.81</td>\n",
       "      <td>2018-09-07</td>\n",
       "      <td>1000</td>\n",
       "    </tr>\n",
       "    <tr>\n",
       "      <th>2</th>\n",
       "      <td>2</td>\n",
       "      <td>1000_2</td>\n",
       "      <td>1197.26</td>\n",
       "      <td>2018-06-25</td>\n",
       "      <td>1000</td>\n",
       "    </tr>\n",
       "    <tr>\n",
       "      <th>3</th>\n",
       "      <td>3</td>\n",
       "      <td>1000_3</td>\n",
       "      <td>550.27</td>\n",
       "      <td>2018-08-22</td>\n",
       "      <td>1000</td>\n",
       "    </tr>\n",
       "    <tr>\n",
       "      <th>4</th>\n",
       "      <td>4</td>\n",
       "      <td>1000_4</td>\n",
       "      <td>302.56</td>\n",
       "      <td>2018-09-24</td>\n",
       "      <td>1000</td>\n",
       "    </tr>\n",
       "    <tr>\n",
       "      <th>5</th>\n",
       "      <td>5</td>\n",
       "      <td>1000_5</td>\n",
       "      <td>399.97</td>\n",
       "      <td>2018-10-02</td>\n",
       "      <td>1000</td>\n",
       "    </tr>\n",
       "    <tr>\n",
       "      <th>6</th>\n",
       "      <td>6</td>\n",
       "      <td>1000_6</td>\n",
       "      <td>540.08</td>\n",
       "      <td>2018-09-07</td>\n",
       "      <td>1000</td>\n",
       "    </tr>\n",
       "    <tr>\n",
       "      <th>7</th>\n",
       "      <td>7</td>\n",
       "      <td>1000_7</td>\n",
       "      <td>415.70</td>\n",
       "      <td>2018-07-11</td>\n",
       "      <td>1000</td>\n",
       "    </tr>\n",
       "    <tr>\n",
       "      <th>8</th>\n",
       "      <td>8</td>\n",
       "      <td>1000_8</td>\n",
       "      <td>505.40</td>\n",
       "      <td>2018-10-08</td>\n",
       "      <td>1000</td>\n",
       "    </tr>\n",
       "    <tr>\n",
       "      <th>9</th>\n",
       "      <td>9</td>\n",
       "      <td>1000_9</td>\n",
       "      <td>345.54</td>\n",
       "      <td>2018-09-03</td>\n",
       "      <td>1000</td>\n",
       "    </tr>\n",
       "  </tbody>\n",
       "</table>\n",
       "</div>"
      ],
      "text/plain": [
       "   Unnamed: 0      id  mb_used session_date  user_id\n",
       "0           0  1000_0   112.95   2018-11-25     1000\n",
       "1           1  1000_1  1052.81   2018-09-07     1000\n",
       "2           2  1000_2  1197.26   2018-06-25     1000\n",
       "3           3  1000_3   550.27   2018-08-22     1000\n",
       "4           4  1000_4   302.56   2018-09-24     1000\n",
       "5           5  1000_5   399.97   2018-10-02     1000\n",
       "6           6  1000_6   540.08   2018-09-07     1000\n",
       "7           7  1000_7   415.70   2018-07-11     1000\n",
       "8           8  1000_8   505.40   2018-10-08     1000\n",
       "9           9  1000_9   345.54   2018-09-03     1000"
      ]
     },
     "execution_count": 6,
     "metadata": {},
     "output_type": "execute_result"
    }
   ],
   "source": [
    "#Информация по использованию услуги Интернет\n",
    "internet.info()\n",
    "print()\n",
    "internet.head(10)"
   ]
  },
  {
   "cell_type": "markdown",
   "metadata": {},
   "source": [
    "Длина таблицы со звоками 149396 - пропусков нет. Сводная информация объему трафика и дате выхода в сеть интрнет каждого абонента."
   ]
  },
  {
   "cell_type": "code",
   "execution_count": 7,
   "metadata": {},
   "outputs": [
    {
     "name": "stdout",
     "output_type": "stream",
     "text": [
      "<class 'pandas.core.frame.DataFrame'>\n",
      "RangeIndex: 123036 entries, 0 to 123035\n",
      "Data columns (total 3 columns):\n",
      " #   Column        Non-Null Count   Dtype \n",
      "---  ------        --------------   ----- \n",
      " 0   id            123036 non-null  object\n",
      " 1   message_date  123036 non-null  object\n",
      " 2   user_id       123036 non-null  int64 \n",
      "dtypes: int64(1), object(2)\n",
      "memory usage: 2.8+ MB\n",
      "\n"
     ]
    },
    {
     "data": {
      "text/html": [
       "<div>\n",
       "<style scoped>\n",
       "    .dataframe tbody tr th:only-of-type {\n",
       "        vertical-align: middle;\n",
       "    }\n",
       "\n",
       "    .dataframe tbody tr th {\n",
       "        vertical-align: top;\n",
       "    }\n",
       "\n",
       "    .dataframe thead th {\n",
       "        text-align: right;\n",
       "    }\n",
       "</style>\n",
       "<table border=\"1\" class=\"dataframe\">\n",
       "  <thead>\n",
       "    <tr style=\"text-align: right;\">\n",
       "      <th></th>\n",
       "      <th>id</th>\n",
       "      <th>message_date</th>\n",
       "      <th>user_id</th>\n",
       "    </tr>\n",
       "  </thead>\n",
       "  <tbody>\n",
       "    <tr>\n",
       "      <th>0</th>\n",
       "      <td>1000_0</td>\n",
       "      <td>2018-06-27</td>\n",
       "      <td>1000</td>\n",
       "    </tr>\n",
       "    <tr>\n",
       "      <th>1</th>\n",
       "      <td>1000_1</td>\n",
       "      <td>2018-10-08</td>\n",
       "      <td>1000</td>\n",
       "    </tr>\n",
       "    <tr>\n",
       "      <th>2</th>\n",
       "      <td>1000_2</td>\n",
       "      <td>2018-08-04</td>\n",
       "      <td>1000</td>\n",
       "    </tr>\n",
       "    <tr>\n",
       "      <th>3</th>\n",
       "      <td>1000_3</td>\n",
       "      <td>2018-06-16</td>\n",
       "      <td>1000</td>\n",
       "    </tr>\n",
       "    <tr>\n",
       "      <th>4</th>\n",
       "      <td>1000_4</td>\n",
       "      <td>2018-12-05</td>\n",
       "      <td>1000</td>\n",
       "    </tr>\n",
       "    <tr>\n",
       "      <th>5</th>\n",
       "      <td>1000_5</td>\n",
       "      <td>2018-06-20</td>\n",
       "      <td>1000</td>\n",
       "    </tr>\n",
       "    <tr>\n",
       "      <th>6</th>\n",
       "      <td>1000_6</td>\n",
       "      <td>2018-11-19</td>\n",
       "      <td>1000</td>\n",
       "    </tr>\n",
       "    <tr>\n",
       "      <th>7</th>\n",
       "      <td>1000_7</td>\n",
       "      <td>2018-10-29</td>\n",
       "      <td>1000</td>\n",
       "    </tr>\n",
       "    <tr>\n",
       "      <th>8</th>\n",
       "      <td>1000_8</td>\n",
       "      <td>2018-06-25</td>\n",
       "      <td>1000</td>\n",
       "    </tr>\n",
       "    <tr>\n",
       "      <th>9</th>\n",
       "      <td>1000_9</td>\n",
       "      <td>2018-12-18</td>\n",
       "      <td>1000</td>\n",
       "    </tr>\n",
       "  </tbody>\n",
       "</table>\n",
       "</div>"
      ],
      "text/plain": [
       "       id message_date  user_id\n",
       "0  1000_0   2018-06-27     1000\n",
       "1  1000_1   2018-10-08     1000\n",
       "2  1000_2   2018-08-04     1000\n",
       "3  1000_3   2018-06-16     1000\n",
       "4  1000_4   2018-12-05     1000\n",
       "5  1000_5   2018-06-20     1000\n",
       "6  1000_6   2018-11-19     1000\n",
       "7  1000_7   2018-10-29     1000\n",
       "8  1000_8   2018-06-25     1000\n",
       "9  1000_9   2018-12-18     1000"
      ]
     },
     "execution_count": 7,
     "metadata": {},
     "output_type": "execute_result"
    }
   ],
   "source": [
    "#Информация по использованию услуги текстовых сообщений\n",
    "messages.info()\n",
    "print()\n",
    "messages.head(10)"
   ]
  },
  {
   "cell_type": "markdown",
   "metadata": {},
   "source": [
    "Длина таблицы со звоками 123036 - пропусков нет. Сводная информация по факту отправки текстовых сообщений каждого абонента."
   ]
  },
  {
   "cell_type": "code",
   "execution_count": 8,
   "metadata": {},
   "outputs": [
    {
     "name": "stdout",
     "output_type": "stream",
     "text": [
      "<class 'pandas.core.frame.DataFrame'>\n",
      "RangeIndex: 2 entries, 0 to 1\n",
      "Data columns (total 8 columns):\n",
      " #   Column                 Non-Null Count  Dtype \n",
      "---  ------                 --------------  ----- \n",
      " 0   messages_included      2 non-null      int64 \n",
      " 1   mb_per_month_included  2 non-null      int64 \n",
      " 2   minutes_included       2 non-null      int64 \n",
      " 3   rub_monthly_fee        2 non-null      int64 \n",
      " 4   rub_per_gb             2 non-null      int64 \n",
      " 5   rub_per_message        2 non-null      int64 \n",
      " 6   rub_per_minute         2 non-null      int64 \n",
      " 7   tariff_name            2 non-null      object\n",
      "dtypes: int64(7), object(1)\n",
      "memory usage: 256.0+ bytes\n",
      "\n"
     ]
    },
    {
     "data": {
      "text/html": [
       "<div>\n",
       "<style scoped>\n",
       "    .dataframe tbody tr th:only-of-type {\n",
       "        vertical-align: middle;\n",
       "    }\n",
       "\n",
       "    .dataframe tbody tr th {\n",
       "        vertical-align: top;\n",
       "    }\n",
       "\n",
       "    .dataframe thead th {\n",
       "        text-align: right;\n",
       "    }\n",
       "</style>\n",
       "<table border=\"1\" class=\"dataframe\">\n",
       "  <thead>\n",
       "    <tr style=\"text-align: right;\">\n",
       "      <th></th>\n",
       "      <th>messages_included</th>\n",
       "      <th>mb_per_month_included</th>\n",
       "      <th>minutes_included</th>\n",
       "      <th>rub_monthly_fee</th>\n",
       "      <th>rub_per_gb</th>\n",
       "      <th>rub_per_message</th>\n",
       "      <th>rub_per_minute</th>\n",
       "      <th>tariff_name</th>\n",
       "    </tr>\n",
       "  </thead>\n",
       "  <tbody>\n",
       "    <tr>\n",
       "      <th>0</th>\n",
       "      <td>50</td>\n",
       "      <td>15360</td>\n",
       "      <td>500</td>\n",
       "      <td>550</td>\n",
       "      <td>200</td>\n",
       "      <td>3</td>\n",
       "      <td>3</td>\n",
       "      <td>smart</td>\n",
       "    </tr>\n",
       "    <tr>\n",
       "      <th>1</th>\n",
       "      <td>1000</td>\n",
       "      <td>30720</td>\n",
       "      <td>3000</td>\n",
       "      <td>1950</td>\n",
       "      <td>150</td>\n",
       "      <td>1</td>\n",
       "      <td>1</td>\n",
       "      <td>ultra</td>\n",
       "    </tr>\n",
       "  </tbody>\n",
       "</table>\n",
       "</div>"
      ],
      "text/plain": [
       "   messages_included  mb_per_month_included  minutes_included  \\\n",
       "0                 50                  15360               500   \n",
       "1               1000                  30720              3000   \n",
       "\n",
       "   rub_monthly_fee  rub_per_gb  rub_per_message  rub_per_minute tariff_name  \n",
       "0              550         200                3               3       smart  \n",
       "1             1950         150                1               1       ultra  "
      ]
     },
     "execution_count": 8,
     "metadata": {},
     "output_type": "execute_result"
    }
   ],
   "source": [
    "#Информация по имеющимся у абонентов тарифам\n",
    "tariffs.info()\n",
    "print()\n",
    "tariffs.head(10)"
   ]
  },
  {
   "cell_type": "markdown",
   "metadata": {},
   "source": [
    "Описание тарифных планов"
   ]
  },
  {
   "cell_type": "code",
   "execution_count": 9,
   "metadata": {},
   "outputs": [
    {
     "name": "stdout",
     "output_type": "stream",
     "text": [
      "<class 'pandas.core.frame.DataFrame'>\n",
      "RangeIndex: 500 entries, 0 to 499\n",
      "Data columns (total 8 columns):\n",
      " #   Column      Non-Null Count  Dtype \n",
      "---  ------      --------------  ----- \n",
      " 0   user_id     500 non-null    int64 \n",
      " 1   age         500 non-null    int64 \n",
      " 2   churn_date  38 non-null     object\n",
      " 3   city        500 non-null    object\n",
      " 4   first_name  500 non-null    object\n",
      " 5   last_name   500 non-null    object\n",
      " 6   reg_date    500 non-null    object\n",
      " 7   tariff      500 non-null    object\n",
      "dtypes: int64(2), object(6)\n",
      "memory usage: 31.4+ KB\n",
      "\n"
     ]
    },
    {
     "data": {
      "text/html": [
       "<div>\n",
       "<style scoped>\n",
       "    .dataframe tbody tr th:only-of-type {\n",
       "        vertical-align: middle;\n",
       "    }\n",
       "\n",
       "    .dataframe tbody tr th {\n",
       "        vertical-align: top;\n",
       "    }\n",
       "\n",
       "    .dataframe thead th {\n",
       "        text-align: right;\n",
       "    }\n",
       "</style>\n",
       "<table border=\"1\" class=\"dataframe\">\n",
       "  <thead>\n",
       "    <tr style=\"text-align: right;\">\n",
       "      <th></th>\n",
       "      <th>user_id</th>\n",
       "      <th>age</th>\n",
       "      <th>churn_date</th>\n",
       "      <th>city</th>\n",
       "      <th>first_name</th>\n",
       "      <th>last_name</th>\n",
       "      <th>reg_date</th>\n",
       "      <th>tariff</th>\n",
       "    </tr>\n",
       "  </thead>\n",
       "  <tbody>\n",
       "    <tr>\n",
       "      <th>0</th>\n",
       "      <td>1000</td>\n",
       "      <td>52</td>\n",
       "      <td>NaN</td>\n",
       "      <td>Краснодар</td>\n",
       "      <td>Рафаил</td>\n",
       "      <td>Верещагин</td>\n",
       "      <td>2018-05-25</td>\n",
       "      <td>ultra</td>\n",
       "    </tr>\n",
       "    <tr>\n",
       "      <th>1</th>\n",
       "      <td>1001</td>\n",
       "      <td>41</td>\n",
       "      <td>NaN</td>\n",
       "      <td>Москва</td>\n",
       "      <td>Иван</td>\n",
       "      <td>Ежов</td>\n",
       "      <td>2018-11-01</td>\n",
       "      <td>smart</td>\n",
       "    </tr>\n",
       "    <tr>\n",
       "      <th>2</th>\n",
       "      <td>1002</td>\n",
       "      <td>59</td>\n",
       "      <td>NaN</td>\n",
       "      <td>Стерлитамак</td>\n",
       "      <td>Евгений</td>\n",
       "      <td>Абрамович</td>\n",
       "      <td>2018-06-17</td>\n",
       "      <td>smart</td>\n",
       "    </tr>\n",
       "    <tr>\n",
       "      <th>3</th>\n",
       "      <td>1003</td>\n",
       "      <td>23</td>\n",
       "      <td>NaN</td>\n",
       "      <td>Москва</td>\n",
       "      <td>Белла</td>\n",
       "      <td>Белякова</td>\n",
       "      <td>2018-08-17</td>\n",
       "      <td>ultra</td>\n",
       "    </tr>\n",
       "    <tr>\n",
       "      <th>4</th>\n",
       "      <td>1004</td>\n",
       "      <td>68</td>\n",
       "      <td>NaN</td>\n",
       "      <td>Новокузнецк</td>\n",
       "      <td>Татьяна</td>\n",
       "      <td>Авдеенко</td>\n",
       "      <td>2018-05-14</td>\n",
       "      <td>ultra</td>\n",
       "    </tr>\n",
       "    <tr>\n",
       "      <th>5</th>\n",
       "      <td>1005</td>\n",
       "      <td>67</td>\n",
       "      <td>NaN</td>\n",
       "      <td>Набережные Челны</td>\n",
       "      <td>Афанасий</td>\n",
       "      <td>Горлов</td>\n",
       "      <td>2018-01-25</td>\n",
       "      <td>smart</td>\n",
       "    </tr>\n",
       "    <tr>\n",
       "      <th>6</th>\n",
       "      <td>1006</td>\n",
       "      <td>21</td>\n",
       "      <td>NaN</td>\n",
       "      <td>Ульяновск</td>\n",
       "      <td>Леонид</td>\n",
       "      <td>Ермолаев</td>\n",
       "      <td>2018-02-26</td>\n",
       "      <td>smart</td>\n",
       "    </tr>\n",
       "    <tr>\n",
       "      <th>7</th>\n",
       "      <td>1007</td>\n",
       "      <td>65</td>\n",
       "      <td>NaN</td>\n",
       "      <td>Москва</td>\n",
       "      <td>Юна</td>\n",
       "      <td>Березина</td>\n",
       "      <td>2018-04-19</td>\n",
       "      <td>smart</td>\n",
       "    </tr>\n",
       "    <tr>\n",
       "      <th>8</th>\n",
       "      <td>1008</td>\n",
       "      <td>63</td>\n",
       "      <td>NaN</td>\n",
       "      <td>Челябинск</td>\n",
       "      <td>Рустэм</td>\n",
       "      <td>Пономарёв</td>\n",
       "      <td>2018-12-19</td>\n",
       "      <td>smart</td>\n",
       "    </tr>\n",
       "    <tr>\n",
       "      <th>9</th>\n",
       "      <td>1009</td>\n",
       "      <td>24</td>\n",
       "      <td>NaN</td>\n",
       "      <td>Пермь</td>\n",
       "      <td>Василиса</td>\n",
       "      <td>Блинова</td>\n",
       "      <td>2018-03-22</td>\n",
       "      <td>smart</td>\n",
       "    </tr>\n",
       "  </tbody>\n",
       "</table>\n",
       "</div>"
      ],
      "text/plain": [
       "   user_id  age churn_date              city first_name  last_name  \\\n",
       "0     1000   52        NaN         Краснодар     Рафаил  Верещагин   \n",
       "1     1001   41        NaN            Москва       Иван       Ежов   \n",
       "2     1002   59        NaN       Стерлитамак    Евгений  Абрамович   \n",
       "3     1003   23        NaN            Москва      Белла   Белякова   \n",
       "4     1004   68        NaN       Новокузнецк    Татьяна   Авдеенко   \n",
       "5     1005   67        NaN  Набережные Челны   Афанасий     Горлов   \n",
       "6     1006   21        NaN         Ульяновск     Леонид   Ермолаев   \n",
       "7     1007   65        NaN            Москва        Юна   Березина   \n",
       "8     1008   63        NaN         Челябинск     Рустэм  Пономарёв   \n",
       "9     1009   24        NaN             Пермь   Василиса    Блинова   \n",
       "\n",
       "     reg_date tariff  \n",
       "0  2018-05-25  ultra  \n",
       "1  2018-11-01  smart  \n",
       "2  2018-06-17  smart  \n",
       "3  2018-08-17  ultra  \n",
       "4  2018-05-14  ultra  \n",
       "5  2018-01-25  smart  \n",
       "6  2018-02-26  smart  \n",
       "7  2018-04-19  smart  \n",
       "8  2018-12-19  smart  \n",
       "9  2018-03-22  smart  "
      ]
     },
     "execution_count": 9,
     "metadata": {},
     "output_type": "execute_result"
    }
   ],
   "source": [
    "#Информация по абонентам\n",
    "users.info()\n",
    "print()\n",
    "users.head(10)"
   ]
  },
  {
   "cell_type": "markdown",
   "metadata": {},
   "source": [
    "Для анализа предоставлено 500 абонентов, в churn_date 38 записей, 38 абонентов прекратили использование тарифными планами, остальные 462 пользуются услугами тарифных планов."
   ]
  },
  {
   "cell_type": "markdown",
   "metadata": {},
   "source": [
    "### Вывод"
   ]
  },
  {
   "cell_type": "markdown",
   "metadata": {},
   "source": [
    "Имеем в наличии 5 датасетов 4 из них имеют общий столбец user_id. Датасеты users и tariffs связаны между собой названием тарифа."
   ]
  },
  {
   "cell_type": "markdown",
   "metadata": {},
   "source": [
    "## Предобработка данных"
   ]
  },
  {
   "cell_type": "markdown",
   "metadata": {},
   "source": [
    "### Звонки"
   ]
  },
  {
   "cell_type": "code",
   "execution_count": 10,
   "metadata": {
    "scrolled": true
   },
   "outputs": [
    {
     "name": "stdout",
     "output_type": "stream",
     "text": [
      "<class 'pandas.core.frame.DataFrame'>\n",
      "RangeIndex: 202607 entries, 0 to 202606\n",
      "Data columns (total 4 columns):\n",
      " #   Column     Non-Null Count   Dtype  \n",
      "---  ------     --------------   -----  \n",
      " 0   id         202607 non-null  object \n",
      " 1   call_date  202607 non-null  object \n",
      " 2   duration   202607 non-null  float64\n",
      " 3   user_id    202607 non-null  int64  \n",
      "dtypes: float64(1), int64(1), object(2)\n",
      "memory usage: 6.2+ MB\n"
     ]
    }
   ],
   "source": [
    "calls.info()"
   ]
  },
  {
   "cell_type": "markdown",
   "metadata": {},
   "source": [
    "call_date необходимо изменить тип object на date_time\n",
    "duration - длительность необходимо округлить в потолок и привести к целочисленному виду.\n",
    "\n",
    "По звонкам, будем считать что все звонки исходящие, а нулевые значения - как недозвон, потому что пропущенные значения это уже входящий трафик."
   ]
  },
  {
   "cell_type": "code",
   "execution_count": 11,
   "metadata": {},
   "outputs": [],
   "source": [
    "calls['call_date'] = pd.to_datetime(calls['call_date'])\n",
    "calls['duration'] = (np.ceil(calls['duration'])).astype('int')"
   ]
  },
  {
   "cell_type": "code",
   "execution_count": 12,
   "metadata": {},
   "outputs": [
    {
     "name": "stdout",
     "output_type": "stream",
     "text": [
      "<class 'pandas.core.frame.DataFrame'>\n",
      "RangeIndex: 202607 entries, 0 to 202606\n",
      "Data columns (total 4 columns):\n",
      " #   Column     Non-Null Count   Dtype         \n",
      "---  ------     --------------   -----         \n",
      " 0   id         202607 non-null  object        \n",
      " 1   call_date  202607 non-null  datetime64[ns]\n",
      " 2   duration   202607 non-null  int32         \n",
      " 3   user_id    202607 non-null  int64         \n",
      "dtypes: datetime64[ns](1), int32(1), int64(1), object(1)\n",
      "memory usage: 5.4+ MB\n"
     ]
    },
    {
     "data": {
      "text/html": [
       "<div>\n",
       "<style scoped>\n",
       "    .dataframe tbody tr th:only-of-type {\n",
       "        vertical-align: middle;\n",
       "    }\n",
       "\n",
       "    .dataframe tbody tr th {\n",
       "        vertical-align: top;\n",
       "    }\n",
       "\n",
       "    .dataframe thead th {\n",
       "        text-align: right;\n",
       "    }\n",
       "</style>\n",
       "<table border=\"1\" class=\"dataframe\">\n",
       "  <thead>\n",
       "    <tr style=\"text-align: right;\">\n",
       "      <th></th>\n",
       "      <th>id</th>\n",
       "      <th>call_date</th>\n",
       "      <th>duration</th>\n",
       "      <th>user_id</th>\n",
       "    </tr>\n",
       "  </thead>\n",
       "  <tbody>\n",
       "    <tr>\n",
       "      <th>0</th>\n",
       "      <td>1000_0</td>\n",
       "      <td>2018-07-25</td>\n",
       "      <td>0</td>\n",
       "      <td>1000</td>\n",
       "    </tr>\n",
       "    <tr>\n",
       "      <th>1</th>\n",
       "      <td>1000_1</td>\n",
       "      <td>2018-08-17</td>\n",
       "      <td>0</td>\n",
       "      <td>1000</td>\n",
       "    </tr>\n",
       "    <tr>\n",
       "      <th>2</th>\n",
       "      <td>1000_2</td>\n",
       "      <td>2018-06-11</td>\n",
       "      <td>3</td>\n",
       "      <td>1000</td>\n",
       "    </tr>\n",
       "    <tr>\n",
       "      <th>3</th>\n",
       "      <td>1000_3</td>\n",
       "      <td>2018-09-21</td>\n",
       "      <td>14</td>\n",
       "      <td>1000</td>\n",
       "    </tr>\n",
       "    <tr>\n",
       "      <th>4</th>\n",
       "      <td>1000_4</td>\n",
       "      <td>2018-12-15</td>\n",
       "      <td>6</td>\n",
       "      <td>1000</td>\n",
       "    </tr>\n",
       "  </tbody>\n",
       "</table>\n",
       "</div>"
      ],
      "text/plain": [
       "       id  call_date  duration  user_id\n",
       "0  1000_0 2018-07-25         0     1000\n",
       "1  1000_1 2018-08-17         0     1000\n",
       "2  1000_2 2018-06-11         3     1000\n",
       "3  1000_3 2018-09-21        14     1000\n",
       "4  1000_4 2018-12-15         6     1000"
      ]
     },
     "execution_count": 12,
     "metadata": {},
     "output_type": "execute_result"
    }
   ],
   "source": [
    "calls.info()\n",
    "calls.head()"
   ]
  },
  {
   "cell_type": "markdown",
   "metadata": {},
   "source": [
    "Сделали все необходимое переходим к следующему сервису."
   ]
  },
  {
   "cell_type": "markdown",
   "metadata": {},
   "source": [
    "### Сообщения"
   ]
  },
  {
   "cell_type": "code",
   "execution_count": 13,
   "metadata": {},
   "outputs": [
    {
     "name": "stdout",
     "output_type": "stream",
     "text": [
      "<class 'pandas.core.frame.DataFrame'>\n",
      "RangeIndex: 123036 entries, 0 to 123035\n",
      "Data columns (total 3 columns):\n",
      " #   Column        Non-Null Count   Dtype \n",
      "---  ------        --------------   ----- \n",
      " 0   id            123036 non-null  object\n",
      " 1   message_date  123036 non-null  object\n",
      " 2   user_id       123036 non-null  int64 \n",
      "dtypes: int64(1), object(2)\n",
      "memory usage: 2.8+ MB\n"
     ]
    }
   ],
   "source": [
    "messages.info()"
   ]
  },
  {
   "cell_type": "markdown",
   "metadata": {},
   "source": [
    "Приведем дату отправки сообщения в соответствующий формат"
   ]
  },
  {
   "cell_type": "code",
   "execution_count": 14,
   "metadata": {},
   "outputs": [
    {
     "name": "stdout",
     "output_type": "stream",
     "text": [
      "<class 'pandas.core.frame.DataFrame'>\n",
      "RangeIndex: 123036 entries, 0 to 123035\n",
      "Data columns (total 3 columns):\n",
      " #   Column        Non-Null Count   Dtype         \n",
      "---  ------        --------------   -----         \n",
      " 0   id            123036 non-null  object        \n",
      " 1   message_date  123036 non-null  datetime64[ns]\n",
      " 2   user_id       123036 non-null  int64         \n",
      "dtypes: datetime64[ns](1), int64(1), object(1)\n",
      "memory usage: 2.8+ MB\n"
     ]
    },
    {
     "data": {
      "text/html": [
       "<div>\n",
       "<style scoped>\n",
       "    .dataframe tbody tr th:only-of-type {\n",
       "        vertical-align: middle;\n",
       "    }\n",
       "\n",
       "    .dataframe tbody tr th {\n",
       "        vertical-align: top;\n",
       "    }\n",
       "\n",
       "    .dataframe thead th {\n",
       "        text-align: right;\n",
       "    }\n",
       "</style>\n",
       "<table border=\"1\" class=\"dataframe\">\n",
       "  <thead>\n",
       "    <tr style=\"text-align: right;\">\n",
       "      <th></th>\n",
       "      <th>id</th>\n",
       "      <th>message_date</th>\n",
       "      <th>user_id</th>\n",
       "    </tr>\n",
       "  </thead>\n",
       "  <tbody>\n",
       "    <tr>\n",
       "      <th>0</th>\n",
       "      <td>1000_0</td>\n",
       "      <td>2018-06-27</td>\n",
       "      <td>1000</td>\n",
       "    </tr>\n",
       "    <tr>\n",
       "      <th>1</th>\n",
       "      <td>1000_1</td>\n",
       "      <td>2018-10-08</td>\n",
       "      <td>1000</td>\n",
       "    </tr>\n",
       "    <tr>\n",
       "      <th>2</th>\n",
       "      <td>1000_2</td>\n",
       "      <td>2018-08-04</td>\n",
       "      <td>1000</td>\n",
       "    </tr>\n",
       "    <tr>\n",
       "      <th>3</th>\n",
       "      <td>1000_3</td>\n",
       "      <td>2018-06-16</td>\n",
       "      <td>1000</td>\n",
       "    </tr>\n",
       "    <tr>\n",
       "      <th>4</th>\n",
       "      <td>1000_4</td>\n",
       "      <td>2018-12-05</td>\n",
       "      <td>1000</td>\n",
       "    </tr>\n",
       "  </tbody>\n",
       "</table>\n",
       "</div>"
      ],
      "text/plain": [
       "       id message_date  user_id\n",
       "0  1000_0   2018-06-27     1000\n",
       "1  1000_1   2018-10-08     1000\n",
       "2  1000_2   2018-08-04     1000\n",
       "3  1000_3   2018-06-16     1000\n",
       "4  1000_4   2018-12-05     1000"
      ]
     },
     "execution_count": 14,
     "metadata": {},
     "output_type": "execute_result"
    }
   ],
   "source": [
    "messages['message_date'] = pd.to_datetime(messages['message_date'])\n",
    "messages.info()\n",
    "messages.head()"
   ]
  },
  {
   "cell_type": "markdown",
   "metadata": {},
   "source": [
    "Сделали все необходимое переходим к следующему сервису."
   ]
  },
  {
   "cell_type": "markdown",
   "metadata": {},
   "source": [
    "### Интернет трафик"
   ]
  },
  {
   "cell_type": "code",
   "execution_count": 15,
   "metadata": {},
   "outputs": [
    {
     "name": "stdout",
     "output_type": "stream",
     "text": [
      "<class 'pandas.core.frame.DataFrame'>\n",
      "RangeIndex: 149396 entries, 0 to 149395\n",
      "Data columns (total 5 columns):\n",
      " #   Column        Non-Null Count   Dtype  \n",
      "---  ------        --------------   -----  \n",
      " 0   Unnamed: 0    149396 non-null  int64  \n",
      " 1   id            149396 non-null  object \n",
      " 2   mb_used       149396 non-null  float64\n",
      " 3   session_date  149396 non-null  object \n",
      " 4   user_id       149396 non-null  int64  \n",
      "dtypes: float64(1), int64(2), object(2)\n",
      "memory usage: 5.7+ MB\n"
     ]
    }
   ],
   "source": [
    "internet.info()"
   ]
  },
  {
   "cell_type": "markdown",
   "metadata": {},
   "source": [
    "Использованный трафик округлим в потолок до целых значений (так делают операторы), приведём к целочисленному типу. \n",
    "Дате сессии подарим datetime."
   ]
  },
  {
   "cell_type": "code",
   "execution_count": 16,
   "metadata": {},
   "outputs": [],
   "source": [
    "internet['session_date'] = pd.to_datetime(internet['session_date'])\n",
    "internet['mb_used'] = (np.ceil(internet['mb_used'])).astype('int')\n"
   ]
  },
  {
   "cell_type": "code",
   "execution_count": 17,
   "metadata": {
    "scrolled": false
   },
   "outputs": [
    {
     "name": "stdout",
     "output_type": "stream",
     "text": [
      "<class 'pandas.core.frame.DataFrame'>\n",
      "RangeIndex: 149396 entries, 0 to 149395\n",
      "Data columns (total 5 columns):\n",
      " #   Column        Non-Null Count   Dtype         \n",
      "---  ------        --------------   -----         \n",
      " 0   Unnamed: 0    149396 non-null  int64         \n",
      " 1   id            149396 non-null  object        \n",
      " 2   mb_used       149396 non-null  int32         \n",
      " 3   session_date  149396 non-null  datetime64[ns]\n",
      " 4   user_id       149396 non-null  int64         \n",
      "dtypes: datetime64[ns](1), int32(1), int64(2), object(1)\n",
      "memory usage: 5.1+ MB\n"
     ]
    },
    {
     "data": {
      "text/html": [
       "<div>\n",
       "<style scoped>\n",
       "    .dataframe tbody tr th:only-of-type {\n",
       "        vertical-align: middle;\n",
       "    }\n",
       "\n",
       "    .dataframe tbody tr th {\n",
       "        vertical-align: top;\n",
       "    }\n",
       "\n",
       "    .dataframe thead th {\n",
       "        text-align: right;\n",
       "    }\n",
       "</style>\n",
       "<table border=\"1\" class=\"dataframe\">\n",
       "  <thead>\n",
       "    <tr style=\"text-align: right;\">\n",
       "      <th></th>\n",
       "      <th>Unnamed: 0</th>\n",
       "      <th>id</th>\n",
       "      <th>mb_used</th>\n",
       "      <th>session_date</th>\n",
       "      <th>user_id</th>\n",
       "    </tr>\n",
       "  </thead>\n",
       "  <tbody>\n",
       "    <tr>\n",
       "      <th>0</th>\n",
       "      <td>0</td>\n",
       "      <td>1000_0</td>\n",
       "      <td>113</td>\n",
       "      <td>2018-11-25</td>\n",
       "      <td>1000</td>\n",
       "    </tr>\n",
       "    <tr>\n",
       "      <th>1</th>\n",
       "      <td>1</td>\n",
       "      <td>1000_1</td>\n",
       "      <td>1053</td>\n",
       "      <td>2018-09-07</td>\n",
       "      <td>1000</td>\n",
       "    </tr>\n",
       "    <tr>\n",
       "      <th>2</th>\n",
       "      <td>2</td>\n",
       "      <td>1000_2</td>\n",
       "      <td>1198</td>\n",
       "      <td>2018-06-25</td>\n",
       "      <td>1000</td>\n",
       "    </tr>\n",
       "    <tr>\n",
       "      <th>3</th>\n",
       "      <td>3</td>\n",
       "      <td>1000_3</td>\n",
       "      <td>551</td>\n",
       "      <td>2018-08-22</td>\n",
       "      <td>1000</td>\n",
       "    </tr>\n",
       "    <tr>\n",
       "      <th>4</th>\n",
       "      <td>4</td>\n",
       "      <td>1000_4</td>\n",
       "      <td>303</td>\n",
       "      <td>2018-09-24</td>\n",
       "      <td>1000</td>\n",
       "    </tr>\n",
       "  </tbody>\n",
       "</table>\n",
       "</div>"
      ],
      "text/plain": [
       "   Unnamed: 0      id  mb_used session_date  user_id\n",
       "0           0  1000_0      113   2018-11-25     1000\n",
       "1           1  1000_1     1053   2018-09-07     1000\n",
       "2           2  1000_2     1198   2018-06-25     1000\n",
       "3           3  1000_3      551   2018-08-22     1000\n",
       "4           4  1000_4      303   2018-09-24     1000"
      ]
     },
     "execution_count": 17,
     "metadata": {},
     "output_type": "execute_result"
    }
   ],
   "source": [
    "internet.info()\n",
    "internet.head()"
   ]
  },
  {
   "cell_type": "markdown",
   "metadata": {},
   "source": [
    "Сделали все необходимое переходим к следующей части."
   ]
  },
  {
   "cell_type": "markdown",
   "metadata": {},
   "source": [
    "### Абоненты"
   ]
  },
  {
   "cell_type": "code",
   "execution_count": 18,
   "metadata": {},
   "outputs": [
    {
     "name": "stdout",
     "output_type": "stream",
     "text": [
      "<class 'pandas.core.frame.DataFrame'>\n",
      "RangeIndex: 500 entries, 0 to 499\n",
      "Data columns (total 8 columns):\n",
      " #   Column      Non-Null Count  Dtype \n",
      "---  ------      --------------  ----- \n",
      " 0   user_id     500 non-null    int64 \n",
      " 1   age         500 non-null    int64 \n",
      " 2   churn_date  38 non-null     object\n",
      " 3   city        500 non-null    object\n",
      " 4   first_name  500 non-null    object\n",
      " 5   last_name   500 non-null    object\n",
      " 6   reg_date    500 non-null    object\n",
      " 7   tariff      500 non-null    object\n",
      "dtypes: int64(2), object(6)\n",
      "memory usage: 31.4+ KB\n"
     ]
    },
    {
     "data": {
      "text/html": [
       "<div>\n",
       "<style scoped>\n",
       "    .dataframe tbody tr th:only-of-type {\n",
       "        vertical-align: middle;\n",
       "    }\n",
       "\n",
       "    .dataframe tbody tr th {\n",
       "        vertical-align: top;\n",
       "    }\n",
       "\n",
       "    .dataframe thead th {\n",
       "        text-align: right;\n",
       "    }\n",
       "</style>\n",
       "<table border=\"1\" class=\"dataframe\">\n",
       "  <thead>\n",
       "    <tr style=\"text-align: right;\">\n",
       "      <th></th>\n",
       "      <th>user_id</th>\n",
       "      <th>age</th>\n",
       "      <th>churn_date</th>\n",
       "      <th>city</th>\n",
       "      <th>first_name</th>\n",
       "      <th>last_name</th>\n",
       "      <th>reg_date</th>\n",
       "      <th>tariff</th>\n",
       "    </tr>\n",
       "  </thead>\n",
       "  <tbody>\n",
       "    <tr>\n",
       "      <th>0</th>\n",
       "      <td>1000</td>\n",
       "      <td>52</td>\n",
       "      <td>NaN</td>\n",
       "      <td>Краснодар</td>\n",
       "      <td>Рафаил</td>\n",
       "      <td>Верещагин</td>\n",
       "      <td>2018-05-25</td>\n",
       "      <td>ultra</td>\n",
       "    </tr>\n",
       "    <tr>\n",
       "      <th>1</th>\n",
       "      <td>1001</td>\n",
       "      <td>41</td>\n",
       "      <td>NaN</td>\n",
       "      <td>Москва</td>\n",
       "      <td>Иван</td>\n",
       "      <td>Ежов</td>\n",
       "      <td>2018-11-01</td>\n",
       "      <td>smart</td>\n",
       "    </tr>\n",
       "    <tr>\n",
       "      <th>2</th>\n",
       "      <td>1002</td>\n",
       "      <td>59</td>\n",
       "      <td>NaN</td>\n",
       "      <td>Стерлитамак</td>\n",
       "      <td>Евгений</td>\n",
       "      <td>Абрамович</td>\n",
       "      <td>2018-06-17</td>\n",
       "      <td>smart</td>\n",
       "    </tr>\n",
       "    <tr>\n",
       "      <th>3</th>\n",
       "      <td>1003</td>\n",
       "      <td>23</td>\n",
       "      <td>NaN</td>\n",
       "      <td>Москва</td>\n",
       "      <td>Белла</td>\n",
       "      <td>Белякова</td>\n",
       "      <td>2018-08-17</td>\n",
       "      <td>ultra</td>\n",
       "    </tr>\n",
       "    <tr>\n",
       "      <th>4</th>\n",
       "      <td>1004</td>\n",
       "      <td>68</td>\n",
       "      <td>NaN</td>\n",
       "      <td>Новокузнецк</td>\n",
       "      <td>Татьяна</td>\n",
       "      <td>Авдеенко</td>\n",
       "      <td>2018-05-14</td>\n",
       "      <td>ultra</td>\n",
       "    </tr>\n",
       "  </tbody>\n",
       "</table>\n",
       "</div>"
      ],
      "text/plain": [
       "   user_id  age churn_date         city first_name  last_name    reg_date  \\\n",
       "0     1000   52        NaN    Краснодар     Рафаил  Верещагин  2018-05-25   \n",
       "1     1001   41        NaN       Москва       Иван       Ежов  2018-11-01   \n",
       "2     1002   59        NaN  Стерлитамак    Евгений  Абрамович  2018-06-17   \n",
       "3     1003   23        NaN       Москва      Белла   Белякова  2018-08-17   \n",
       "4     1004   68        NaN  Новокузнецк    Татьяна   Авдеенко  2018-05-14   \n",
       "\n",
       "  tariff  \n",
       "0  ultra  \n",
       "1  smart  \n",
       "2  smart  \n",
       "3  ultra  \n",
       "4  ultra  "
      ]
     },
     "execution_count": 18,
     "metadata": {},
     "output_type": "execute_result"
    }
   ],
   "source": [
    "users.info()\n",
    "users.head()"
   ]
  },
  {
   "cell_type": "markdown",
   "metadata": {},
   "source": [
    "reg_date и churn_date - переведём в datetime."
   ]
  },
  {
   "cell_type": "code",
   "execution_count": 19,
   "metadata": {},
   "outputs": [],
   "source": [
    "users['reg_date'] = pd.to_datetime(users['reg_date'])\n",
    "users['churn_date'] = pd.to_datetime(users['churn_date'])"
   ]
  },
  {
   "cell_type": "code",
   "execution_count": 20,
   "metadata": {
    "scrolled": false
   },
   "outputs": [
    {
     "data": {
      "text/html": [
       "<div>\n",
       "<style scoped>\n",
       "    .dataframe tbody tr th:only-of-type {\n",
       "        vertical-align: middle;\n",
       "    }\n",
       "\n",
       "    .dataframe tbody tr th {\n",
       "        vertical-align: top;\n",
       "    }\n",
       "\n",
       "    .dataframe thead th {\n",
       "        text-align: right;\n",
       "    }\n",
       "</style>\n",
       "<table border=\"1\" class=\"dataframe\">\n",
       "  <thead>\n",
       "    <tr style=\"text-align: right;\">\n",
       "      <th></th>\n",
       "      <th>user_id</th>\n",
       "      <th>age</th>\n",
       "      <th>churn_date</th>\n",
       "      <th>city</th>\n",
       "      <th>first_name</th>\n",
       "      <th>last_name</th>\n",
       "      <th>reg_date</th>\n",
       "      <th>tariff</th>\n",
       "    </tr>\n",
       "  </thead>\n",
       "  <tbody>\n",
       "    <tr>\n",
       "      <th>0</th>\n",
       "      <td>1000</td>\n",
       "      <td>52</td>\n",
       "      <td>NaT</td>\n",
       "      <td>Краснодар</td>\n",
       "      <td>Рафаил</td>\n",
       "      <td>Верещагин</td>\n",
       "      <td>2018-05-25</td>\n",
       "      <td>ultra</td>\n",
       "    </tr>\n",
       "    <tr>\n",
       "      <th>1</th>\n",
       "      <td>1001</td>\n",
       "      <td>41</td>\n",
       "      <td>NaT</td>\n",
       "      <td>Москва</td>\n",
       "      <td>Иван</td>\n",
       "      <td>Ежов</td>\n",
       "      <td>2018-11-01</td>\n",
       "      <td>smart</td>\n",
       "    </tr>\n",
       "    <tr>\n",
       "      <th>2</th>\n",
       "      <td>1002</td>\n",
       "      <td>59</td>\n",
       "      <td>NaT</td>\n",
       "      <td>Стерлитамак</td>\n",
       "      <td>Евгений</td>\n",
       "      <td>Абрамович</td>\n",
       "      <td>2018-06-17</td>\n",
       "      <td>smart</td>\n",
       "    </tr>\n",
       "    <tr>\n",
       "      <th>3</th>\n",
       "      <td>1003</td>\n",
       "      <td>23</td>\n",
       "      <td>NaT</td>\n",
       "      <td>Москва</td>\n",
       "      <td>Белла</td>\n",
       "      <td>Белякова</td>\n",
       "      <td>2018-08-17</td>\n",
       "      <td>ultra</td>\n",
       "    </tr>\n",
       "    <tr>\n",
       "      <th>4</th>\n",
       "      <td>1004</td>\n",
       "      <td>68</td>\n",
       "      <td>NaT</td>\n",
       "      <td>Новокузнецк</td>\n",
       "      <td>Татьяна</td>\n",
       "      <td>Авдеенко</td>\n",
       "      <td>2018-05-14</td>\n",
       "      <td>ultra</td>\n",
       "    </tr>\n",
       "    <tr>\n",
       "      <th>...</th>\n",
       "      <td>...</td>\n",
       "      <td>...</td>\n",
       "      <td>...</td>\n",
       "      <td>...</td>\n",
       "      <td>...</td>\n",
       "      <td>...</td>\n",
       "      <td>...</td>\n",
       "      <td>...</td>\n",
       "    </tr>\n",
       "    <tr>\n",
       "      <th>494</th>\n",
       "      <td>1494</td>\n",
       "      <td>62</td>\n",
       "      <td>NaT</td>\n",
       "      <td>Омск</td>\n",
       "      <td>Ренат</td>\n",
       "      <td>Андропов</td>\n",
       "      <td>2018-08-17</td>\n",
       "      <td>smart</td>\n",
       "    </tr>\n",
       "    <tr>\n",
       "      <th>495</th>\n",
       "      <td>1495</td>\n",
       "      <td>65</td>\n",
       "      <td>NaT</td>\n",
       "      <td>Иркутск</td>\n",
       "      <td>Авксентий</td>\n",
       "      <td>Фокин</td>\n",
       "      <td>2018-08-28</td>\n",
       "      <td>ultra</td>\n",
       "    </tr>\n",
       "    <tr>\n",
       "      <th>496</th>\n",
       "      <td>1496</td>\n",
       "      <td>36</td>\n",
       "      <td>NaT</td>\n",
       "      <td>Вологда</td>\n",
       "      <td>Трифон</td>\n",
       "      <td>Блохин</td>\n",
       "      <td>2018-01-27</td>\n",
       "      <td>smart</td>\n",
       "    </tr>\n",
       "    <tr>\n",
       "      <th>497</th>\n",
       "      <td>1497</td>\n",
       "      <td>32</td>\n",
       "      <td>NaT</td>\n",
       "      <td>Челябинск</td>\n",
       "      <td>Каролина</td>\n",
       "      <td>Агеева</td>\n",
       "      <td>2018-10-09</td>\n",
       "      <td>smart</td>\n",
       "    </tr>\n",
       "    <tr>\n",
       "      <th>499</th>\n",
       "      <td>1499</td>\n",
       "      <td>35</td>\n",
       "      <td>NaT</td>\n",
       "      <td>Пермь</td>\n",
       "      <td>Гектор</td>\n",
       "      <td>Корнилов</td>\n",
       "      <td>2018-09-27</td>\n",
       "      <td>smart</td>\n",
       "    </tr>\n",
       "  </tbody>\n",
       "</table>\n",
       "<p>462 rows × 8 columns</p>\n",
       "</div>"
      ],
      "text/plain": [
       "     user_id  age churn_date         city first_name  last_name   reg_date  \\\n",
       "0       1000   52        NaT    Краснодар     Рафаил  Верещагин 2018-05-25   \n",
       "1       1001   41        NaT       Москва       Иван       Ежов 2018-11-01   \n",
       "2       1002   59        NaT  Стерлитамак    Евгений  Абрамович 2018-06-17   \n",
       "3       1003   23        NaT       Москва      Белла   Белякова 2018-08-17   \n",
       "4       1004   68        NaT  Новокузнецк    Татьяна   Авдеенко 2018-05-14   \n",
       "..       ...  ...        ...          ...        ...        ...        ...   \n",
       "494     1494   62        NaT         Омск      Ренат   Андропов 2018-08-17   \n",
       "495     1495   65        NaT      Иркутск  Авксентий      Фокин 2018-08-28   \n",
       "496     1496   36        NaT      Вологда     Трифон     Блохин 2018-01-27   \n",
       "497     1497   32        NaT    Челябинск   Каролина     Агеева 2018-10-09   \n",
       "499     1499   35        NaT        Пермь     Гектор   Корнилов 2018-09-27   \n",
       "\n",
       "    tariff  \n",
       "0    ultra  \n",
       "1    smart  \n",
       "2    smart  \n",
       "3    ultra  \n",
       "4    ultra  \n",
       "..     ...  \n",
       "494  smart  \n",
       "495  ultra  \n",
       "496  smart  \n",
       "497  smart  \n",
       "499  smart  \n",
       "\n",
       "[462 rows x 8 columns]"
      ]
     },
     "execution_count": 20,
     "metadata": {},
     "output_type": "execute_result"
    }
   ],
   "source": [
    "users[users['churn_date'].isna()]"
   ]
  },
  {
   "cell_type": "code",
   "execution_count": 21,
   "metadata": {
    "scrolled": true
   },
   "outputs": [
    {
     "data": {
      "text/plain": [
       "smart    351\n",
       "ultra    149\n",
       "Name: tariff, dtype: int64"
      ]
     },
     "execution_count": 21,
     "metadata": {},
     "output_type": "execute_result"
    }
   ],
   "source": [
    "users['tariff'].value_counts()"
   ]
  },
  {
   "cell_type": "markdown",
   "metadata": {},
   "source": [
    "Всего у нас 500 абонентов из них 351 - пользуется тарифом Smart, 149 - Ultra."
   ]
  },
  {
   "cell_type": "markdown",
   "metadata": {},
   "source": [
    "## Расчёты"
   ]
  },
  {
   "cell_type": "markdown",
   "metadata": {},
   "source": [
    "Посчитайте для каждого пользователя:\n",
    "\n",
    "•\tколичество сделанных звонков и израсходованных минут разговора по месяцам;\n",
    "\n",
    "•\tколичество отправленных сообщений по месяцам;\n",
    "\n",
    "•\tобъем израсходованного интернет-трафика по месяцам;\n",
    "\n",
    "•\tпомесячную выручку с каждого пользователя (вычтите бесплатный лимит из суммарного количества звонков, сообщений и интернет-трафика; остаток умножьте на значение из тарифного плана; прибавьте абонентскую плату, соответствующую тарифному плану).\n"
   ]
  },
  {
   "cell_type": "markdown",
   "metadata": {},
   "source": [
    "### Звонки"
   ]
  },
  {
   "cell_type": "code",
   "execution_count": 22,
   "metadata": {
    "scrolled": false
   },
   "outputs": [
    {
     "data": {
      "text/plain": [
       "count    202607.000000\n",
       "mean          7.158198\n",
       "std           5.959173\n",
       "min           0.000000\n",
       "25%           2.000000\n",
       "50%           6.000000\n",
       "75%          11.000000\n",
       "max          38.000000\n",
       "Name: duration, dtype: float64"
      ]
     },
     "execution_count": 22,
     "metadata": {},
     "output_type": "execute_result"
    }
   ],
   "source": [
    "calls['duration'].describe() # по звонкам все в порядке"
   ]
  },
  {
   "cell_type": "markdown",
   "metadata": {},
   "source": [
    "Будем производить расчёты"
   ]
  },
  {
   "cell_type": "code",
   "execution_count": 23,
   "metadata": {},
   "outputs": [
    {
     "data": {
      "text/html": [
       "<div>\n",
       "<style scoped>\n",
       "    .dataframe tbody tr th:only-of-type {\n",
       "        vertical-align: middle;\n",
       "    }\n",
       "\n",
       "    .dataframe tbody tr th {\n",
       "        vertical-align: top;\n",
       "    }\n",
       "\n",
       "    .dataframe thead th {\n",
       "        text-align: right;\n",
       "    }\n",
       "</style>\n",
       "<table border=\"1\" class=\"dataframe\">\n",
       "  <thead>\n",
       "    <tr style=\"text-align: right;\">\n",
       "      <th></th>\n",
       "      <th>id</th>\n",
       "      <th>call_date</th>\n",
       "      <th>duration</th>\n",
       "      <th>user_id</th>\n",
       "    </tr>\n",
       "  </thead>\n",
       "  <tbody>\n",
       "    <tr>\n",
       "      <th>0</th>\n",
       "      <td>1000_0</td>\n",
       "      <td>2018-07-25</td>\n",
       "      <td>0</td>\n",
       "      <td>1000</td>\n",
       "    </tr>\n",
       "    <tr>\n",
       "      <th>1</th>\n",
       "      <td>1000_1</td>\n",
       "      <td>2018-08-17</td>\n",
       "      <td>0</td>\n",
       "      <td>1000</td>\n",
       "    </tr>\n",
       "    <tr>\n",
       "      <th>2</th>\n",
       "      <td>1000_2</td>\n",
       "      <td>2018-06-11</td>\n",
       "      <td>3</td>\n",
       "      <td>1000</td>\n",
       "    </tr>\n",
       "    <tr>\n",
       "      <th>3</th>\n",
       "      <td>1000_3</td>\n",
       "      <td>2018-09-21</td>\n",
       "      <td>14</td>\n",
       "      <td>1000</td>\n",
       "    </tr>\n",
       "    <tr>\n",
       "      <th>4</th>\n",
       "      <td>1000_4</td>\n",
       "      <td>2018-12-15</td>\n",
       "      <td>6</td>\n",
       "      <td>1000</td>\n",
       "    </tr>\n",
       "    <tr>\n",
       "      <th>...</th>\n",
       "      <td>...</td>\n",
       "      <td>...</td>\n",
       "      <td>...</td>\n",
       "      <td>...</td>\n",
       "    </tr>\n",
       "    <tr>\n",
       "      <th>202602</th>\n",
       "      <td>1499_215</td>\n",
       "      <td>2018-12-26</td>\n",
       "      <td>1</td>\n",
       "      <td>1499</td>\n",
       "    </tr>\n",
       "    <tr>\n",
       "      <th>202603</th>\n",
       "      <td>1499_216</td>\n",
       "      <td>2018-10-18</td>\n",
       "      <td>19</td>\n",
       "      <td>1499</td>\n",
       "    </tr>\n",
       "    <tr>\n",
       "      <th>202604</th>\n",
       "      <td>1499_217</td>\n",
       "      <td>2018-11-10</td>\n",
       "      <td>11</td>\n",
       "      <td>1499</td>\n",
       "    </tr>\n",
       "    <tr>\n",
       "      <th>202605</th>\n",
       "      <td>1499_218</td>\n",
       "      <td>2018-10-06</td>\n",
       "      <td>5</td>\n",
       "      <td>1499</td>\n",
       "    </tr>\n",
       "    <tr>\n",
       "      <th>202606</th>\n",
       "      <td>1499_219</td>\n",
       "      <td>2018-12-14</td>\n",
       "      <td>20</td>\n",
       "      <td>1499</td>\n",
       "    </tr>\n",
       "  </tbody>\n",
       "</table>\n",
       "<p>202607 rows × 4 columns</p>\n",
       "</div>"
      ],
      "text/plain": [
       "              id  call_date  duration  user_id\n",
       "0         1000_0 2018-07-25         0     1000\n",
       "1         1000_1 2018-08-17         0     1000\n",
       "2         1000_2 2018-06-11         3     1000\n",
       "3         1000_3 2018-09-21        14     1000\n",
       "4         1000_4 2018-12-15         6     1000\n",
       "...          ...        ...       ...      ...\n",
       "202602  1499_215 2018-12-26         1     1499\n",
       "202603  1499_216 2018-10-18        19     1499\n",
       "202604  1499_217 2018-11-10        11     1499\n",
       "202605  1499_218 2018-10-06         5     1499\n",
       "202606  1499_219 2018-12-14        20     1499\n",
       "\n",
       "[202607 rows x 4 columns]"
      ]
     },
     "execution_count": 23,
     "metadata": {},
     "output_type": "execute_result"
    }
   ],
   "source": [
    "calls"
   ]
  },
  {
   "cell_type": "markdown",
   "metadata": {},
   "source": [
    "Количество звонков и их общая длительность, каждого пользователя с группировкой по месяцам."
   ]
  },
  {
   "cell_type": "code",
   "execution_count": 24,
   "metadata": {},
   "outputs": [
    {
     "data": {
      "text/html": [
       "<div>\n",
       "<style scoped>\n",
       "    .dataframe tbody tr th:only-of-type {\n",
       "        vertical-align: middle;\n",
       "    }\n",
       "\n",
       "    .dataframe tbody tr th {\n",
       "        vertical-align: top;\n",
       "    }\n",
       "\n",
       "    .dataframe thead th {\n",
       "        text-align: right;\n",
       "    }\n",
       "</style>\n",
       "<table border=\"1\" class=\"dataframe\">\n",
       "  <thead>\n",
       "    <tr style=\"text-align: right;\">\n",
       "      <th></th>\n",
       "      <th></th>\n",
       "      <th>count_calls</th>\n",
       "      <th>sum_duration</th>\n",
       "    </tr>\n",
       "    <tr>\n",
       "      <th>user_id</th>\n",
       "      <th>month</th>\n",
       "      <th></th>\n",
       "      <th></th>\n",
       "    </tr>\n",
       "  </thead>\n",
       "  <tbody>\n",
       "    <tr>\n",
       "      <th rowspan=\"8\" valign=\"top\">1000</th>\n",
       "      <th>5</th>\n",
       "      <td>22</td>\n",
       "      <td>159</td>\n",
       "    </tr>\n",
       "    <tr>\n",
       "      <th>6</th>\n",
       "      <td>43</td>\n",
       "      <td>172</td>\n",
       "    </tr>\n",
       "    <tr>\n",
       "      <th>7</th>\n",
       "      <td>47</td>\n",
       "      <td>340</td>\n",
       "    </tr>\n",
       "    <tr>\n",
       "      <th>8</th>\n",
       "      <td>52</td>\n",
       "      <td>408</td>\n",
       "    </tr>\n",
       "    <tr>\n",
       "      <th>9</th>\n",
       "      <td>58</td>\n",
       "      <td>466</td>\n",
       "    </tr>\n",
       "    <tr>\n",
       "      <th>10</th>\n",
       "      <td>57</td>\n",
       "      <td>350</td>\n",
       "    </tr>\n",
       "    <tr>\n",
       "      <th>11</th>\n",
       "      <td>43</td>\n",
       "      <td>338</td>\n",
       "    </tr>\n",
       "    <tr>\n",
       "      <th>12</th>\n",
       "      <td>46</td>\n",
       "      <td>333</td>\n",
       "    </tr>\n",
       "    <tr>\n",
       "      <th rowspan=\"2\" valign=\"top\">1001</th>\n",
       "      <th>11</th>\n",
       "      <td>59</td>\n",
       "      <td>430</td>\n",
       "    </tr>\n",
       "    <tr>\n",
       "      <th>12</th>\n",
       "      <td>63</td>\n",
       "      <td>414</td>\n",
       "    </tr>\n",
       "  </tbody>\n",
       "</table>\n",
       "</div>"
      ],
      "text/plain": [
       "               count_calls  sum_duration\n",
       "user_id month                           \n",
       "1000    5               22           159\n",
       "        6               43           172\n",
       "        7               47           340\n",
       "        8               52           408\n",
       "        9               58           466\n",
       "        10              57           350\n",
       "        11              43           338\n",
       "        12              46           333\n",
       "1001    11              59           430\n",
       "        12              63           414"
      ]
     },
     "execution_count": 24,
     "metadata": {},
     "output_type": "execute_result"
    }
   ],
   "source": [
    "calls_count_sum = calls.pivot_table(index=['user_id', calls['call_date'].dt.month.rename('month')],\n",
    "                              values=['duration'], aggfunc=['count', 'sum']\n",
    "                               )\n",
    "calls_count_sum.set_axis(['count_calls', 'sum_duration'], axis='columns', inplace=True)\n",
    "calls_count_sum.head(10)"
   ]
  },
  {
   "cell_type": "markdown",
   "metadata": {},
   "source": [
    "### Интернет"
   ]
  },
  {
   "cell_type": "code",
   "execution_count": 25,
   "metadata": {},
   "outputs": [
    {
     "data": {
      "text/html": [
       "<div>\n",
       "<style scoped>\n",
       "    .dataframe tbody tr th:only-of-type {\n",
       "        vertical-align: middle;\n",
       "    }\n",
       "\n",
       "    .dataframe tbody tr th {\n",
       "        vertical-align: top;\n",
       "    }\n",
       "\n",
       "    .dataframe thead th {\n",
       "        text-align: right;\n",
       "    }\n",
       "</style>\n",
       "<table border=\"1\" class=\"dataframe\">\n",
       "  <thead>\n",
       "    <tr style=\"text-align: right;\">\n",
       "      <th></th>\n",
       "      <th>Unnamed: 0</th>\n",
       "      <th>id</th>\n",
       "      <th>mb_used</th>\n",
       "      <th>session_date</th>\n",
       "      <th>user_id</th>\n",
       "    </tr>\n",
       "  </thead>\n",
       "  <tbody>\n",
       "    <tr>\n",
       "      <th>252</th>\n",
       "      <td>252</td>\n",
       "      <td>1001_41</td>\n",
       "      <td>521</td>\n",
       "      <td>2018-11-01</td>\n",
       "      <td>1001</td>\n",
       "    </tr>\n",
       "    <tr>\n",
       "      <th>303</th>\n",
       "      <td>303</td>\n",
       "      <td>1001_92</td>\n",
       "      <td>0</td>\n",
       "      <td>2018-11-02</td>\n",
       "      <td>1001</td>\n",
       "    </tr>\n",
       "    <tr>\n",
       "      <th>296</th>\n",
       "      <td>296</td>\n",
       "      <td>1001_85</td>\n",
       "      <td>494</td>\n",
       "      <td>2018-11-03</td>\n",
       "      <td>1001</td>\n",
       "    </tr>\n",
       "    <tr>\n",
       "      <th>256</th>\n",
       "      <td>256</td>\n",
       "      <td>1001_45</td>\n",
       "      <td>861</td>\n",
       "      <td>2018-11-04</td>\n",
       "      <td>1001</td>\n",
       "    </tr>\n",
       "    <tr>\n",
       "      <th>290</th>\n",
       "      <td>290</td>\n",
       "      <td>1001_79</td>\n",
       "      <td>726</td>\n",
       "      <td>2018-11-04</td>\n",
       "      <td>1001</td>\n",
       "    </tr>\n",
       "    <tr>\n",
       "      <th>247</th>\n",
       "      <td>247</td>\n",
       "      <td>1001_36</td>\n",
       "      <td>519</td>\n",
       "      <td>2018-11-04</td>\n",
       "      <td>1001</td>\n",
       "    </tr>\n",
       "    <tr>\n",
       "      <th>224</th>\n",
       "      <td>224</td>\n",
       "      <td>1001_13</td>\n",
       "      <td>227</td>\n",
       "      <td>2018-11-04</td>\n",
       "      <td>1001</td>\n",
       "    </tr>\n",
       "    <tr>\n",
       "      <th>295</th>\n",
       "      <td>295</td>\n",
       "      <td>1001_84</td>\n",
       "      <td>746</td>\n",
       "      <td>2018-11-06</td>\n",
       "      <td>1001</td>\n",
       "    </tr>\n",
       "    <tr>\n",
       "      <th>282</th>\n",
       "      <td>282</td>\n",
       "      <td>1001_71</td>\n",
       "      <td>187</td>\n",
       "      <td>2018-11-07</td>\n",
       "      <td>1001</td>\n",
       "    </tr>\n",
       "    <tr>\n",
       "      <th>223</th>\n",
       "      <td>223</td>\n",
       "      <td>1001_12</td>\n",
       "      <td>815</td>\n",
       "      <td>2018-11-07</td>\n",
       "      <td>1001</td>\n",
       "    </tr>\n",
       "  </tbody>\n",
       "</table>\n",
       "</div>"
      ],
      "text/plain": [
       "     Unnamed: 0       id  mb_used session_date  user_id\n",
       "252         252  1001_41      521   2018-11-01     1001\n",
       "303         303  1001_92        0   2018-11-02     1001\n",
       "296         296  1001_85      494   2018-11-03     1001\n",
       "256         256  1001_45      861   2018-11-04     1001\n",
       "290         290  1001_79      726   2018-11-04     1001\n",
       "247         247  1001_36      519   2018-11-04     1001\n",
       "224         224  1001_13      227   2018-11-04     1001\n",
       "295         295  1001_84      746   2018-11-06     1001\n",
       "282         282  1001_71      187   2018-11-07     1001\n",
       "223         223  1001_12      815   2018-11-07     1001"
      ]
     },
     "execution_count": 25,
     "metadata": {},
     "output_type": "execute_result"
    }
   ],
   "source": [
    "internet.describe()\n",
    "internet[(internet['user_id'] == 1001)].sort_values(by='session_date').head(10)"
   ]
  },
  {
   "cell_type": "markdown",
   "metadata": {},
   "source": [
    "В интернет сессиях существуют нулевые значения, примем это не за ошибку, а за факт включения интернета на телефоне. У операторов существует не тарифицируемый порог в 150 - 400 кб."
   ]
  },
  {
   "cell_type": "code",
   "execution_count": 26,
   "metadata": {
    "scrolled": false
   },
   "outputs": [
    {
     "data": {
      "text/html": [
       "<div>\n",
       "<style scoped>\n",
       "    .dataframe tbody tr th:only-of-type {\n",
       "        vertical-align: middle;\n",
       "    }\n",
       "\n",
       "    .dataframe tbody tr th {\n",
       "        vertical-align: top;\n",
       "    }\n",
       "\n",
       "    .dataframe thead th {\n",
       "        text-align: right;\n",
       "    }\n",
       "</style>\n",
       "<table border=\"1\" class=\"dataframe\">\n",
       "  <thead>\n",
       "    <tr style=\"text-align: right;\">\n",
       "      <th></th>\n",
       "      <th></th>\n",
       "      <th>sum_value_inet_traffic_Gb</th>\n",
       "    </tr>\n",
       "    <tr>\n",
       "      <th>user_id</th>\n",
       "      <th>month</th>\n",
       "      <th></th>\n",
       "    </tr>\n",
       "  </thead>\n",
       "  <tbody>\n",
       "    <tr>\n",
       "      <th rowspan=\"5\" valign=\"top\">1000</th>\n",
       "      <th>5</th>\n",
       "      <td>3</td>\n",
       "    </tr>\n",
       "    <tr>\n",
       "      <th>6</th>\n",
       "      <td>23</td>\n",
       "    </tr>\n",
       "    <tr>\n",
       "      <th>7</th>\n",
       "      <td>14</td>\n",
       "    </tr>\n",
       "    <tr>\n",
       "      <th>8</th>\n",
       "      <td>14</td>\n",
       "    </tr>\n",
       "    <tr>\n",
       "      <th>9</th>\n",
       "      <td>15</td>\n",
       "    </tr>\n",
       "    <tr>\n",
       "      <th>...</th>\n",
       "      <th>...</th>\n",
       "      <td>...</td>\n",
       "    </tr>\n",
       "    <tr>\n",
       "      <th>1498</th>\n",
       "      <th>10</th>\n",
       "      <td>21</td>\n",
       "    </tr>\n",
       "    <tr>\n",
       "      <th rowspan=\"4\" valign=\"top\">1499</th>\n",
       "      <th>9</th>\n",
       "      <td>2</td>\n",
       "    </tr>\n",
       "    <tr>\n",
       "      <th>10</th>\n",
       "      <td>18</td>\n",
       "    </tr>\n",
       "    <tr>\n",
       "      <th>11</th>\n",
       "      <td>18</td>\n",
       "    </tr>\n",
       "    <tr>\n",
       "      <th>12</th>\n",
       "      <td>13</td>\n",
       "    </tr>\n",
       "  </tbody>\n",
       "</table>\n",
       "<p>3203 rows × 1 columns</p>\n",
       "</div>"
      ],
      "text/plain": [
       "               sum_value_inet_traffic_Gb\n",
       "user_id month                           \n",
       "1000    5                              3\n",
       "        6                             23\n",
       "        7                             14\n",
       "        8                             14\n",
       "        9                             15\n",
       "...                                  ...\n",
       "1498    10                            21\n",
       "1499    9                              2\n",
       "        10                            18\n",
       "        11                            18\n",
       "        12                            13\n",
       "\n",
       "[3203 rows x 1 columns]"
      ]
     },
     "execution_count": 26,
     "metadata": {},
     "output_type": "execute_result"
    }
   ],
   "source": [
    "# Произведём расчёт объёма израсходованного трафика каждого абонента по месяцам, переведём Мб в Гб.\n",
    "internet_sum_value = internet.pivot_table(index=['user_id', internet['session_date'].dt.month.rename('month')],\n",
    "                              values=['mb_used'], aggfunc=['sum']\n",
    "                               )\n",
    "internet_sum_value.set_axis(['sum_value_inet_traffic_Gb'], axis='columns', inplace=True)\n",
    "internet_sum_value['sum_value_inet_traffic_Gb'] = (np.ceil(internet_sum_value['sum_value_inet_traffic_Gb'] / 1024)).astype('int')\n",
    "internet_sum_value\n"
   ]
  },
  {
   "cell_type": "markdown",
   "metadata": {},
   "source": [
    "Произведён рассчёт потребляемого трафика по месяцам, определённым абонентом."
   ]
  },
  {
   "cell_type": "markdown",
   "metadata": {},
   "source": [
    "### Сообщения"
   ]
  },
  {
   "cell_type": "code",
   "execution_count": 27,
   "metadata": {},
   "outputs": [
    {
     "data": {
      "text/html": [
       "<div>\n",
       "<style scoped>\n",
       "    .dataframe tbody tr th:only-of-type {\n",
       "        vertical-align: middle;\n",
       "    }\n",
       "\n",
       "    .dataframe tbody tr th {\n",
       "        vertical-align: top;\n",
       "    }\n",
       "\n",
       "    .dataframe thead th {\n",
       "        text-align: right;\n",
       "    }\n",
       "</style>\n",
       "<table border=\"1\" class=\"dataframe\">\n",
       "  <thead>\n",
       "    <tr style=\"text-align: right;\">\n",
       "      <th></th>\n",
       "      <th></th>\n",
       "      <th>sum_value_messages</th>\n",
       "    </tr>\n",
       "    <tr>\n",
       "      <th>user_id</th>\n",
       "      <th>month</th>\n",
       "      <th></th>\n",
       "    </tr>\n",
       "  </thead>\n",
       "  <tbody>\n",
       "    <tr>\n",
       "      <th rowspan=\"5\" valign=\"top\">1000</th>\n",
       "      <th>5</th>\n",
       "      <td>22</td>\n",
       "    </tr>\n",
       "    <tr>\n",
       "      <th>6</th>\n",
       "      <td>60</td>\n",
       "    </tr>\n",
       "    <tr>\n",
       "      <th>7</th>\n",
       "      <td>75</td>\n",
       "    </tr>\n",
       "    <tr>\n",
       "      <th>8</th>\n",
       "      <td>81</td>\n",
       "    </tr>\n",
       "    <tr>\n",
       "      <th>9</th>\n",
       "      <td>57</td>\n",
       "    </tr>\n",
       "    <tr>\n",
       "      <th>...</th>\n",
       "      <th>...</th>\n",
       "      <td>...</td>\n",
       "    </tr>\n",
       "    <tr>\n",
       "      <th>1498</th>\n",
       "      <th>10</th>\n",
       "      <td>42</td>\n",
       "    </tr>\n",
       "    <tr>\n",
       "      <th rowspan=\"4\" valign=\"top\">1499</th>\n",
       "      <th>9</th>\n",
       "      <td>11</td>\n",
       "    </tr>\n",
       "    <tr>\n",
       "      <th>10</th>\n",
       "      <td>48</td>\n",
       "    </tr>\n",
       "    <tr>\n",
       "      <th>11</th>\n",
       "      <td>59</td>\n",
       "    </tr>\n",
       "    <tr>\n",
       "      <th>12</th>\n",
       "      <td>66</td>\n",
       "    </tr>\n",
       "  </tbody>\n",
       "</table>\n",
       "<p>2717 rows × 1 columns</p>\n",
       "</div>"
      ],
      "text/plain": [
       "               sum_value_messages\n",
       "user_id month                    \n",
       "1000    5                      22\n",
       "        6                      60\n",
       "        7                      75\n",
       "        8                      81\n",
       "        9                      57\n",
       "...                           ...\n",
       "1498    10                     42\n",
       "1499    9                      11\n",
       "        10                     48\n",
       "        11                     59\n",
       "        12                     66\n",
       "\n",
       "[2717 rows x 1 columns]"
      ]
     },
     "execution_count": 27,
     "metadata": {},
     "output_type": "execute_result"
    }
   ],
   "source": [
    "messages_sum_value = messages.pivot_table(index=['user_id', messages['message_date'].dt.month.rename('month')],\n",
    "                              values=['id'], aggfunc=['count']\n",
    "                               )\n",
    "messages_sum_value.set_axis(['sum_value_messages'], axis='columns', inplace=True)\n",
    "messages_sum_value"
   ]
  },
  {
   "cell_type": "markdown",
   "metadata": {},
   "source": [
    "### Финальная таблица"
   ]
  },
  {
   "cell_type": "markdown",
   "metadata": {},
   "source": [
    "Создадим общую таблицу для анализа потребностей абонентов"
   ]
  },
  {
   "cell_type": "code",
   "execution_count": 28,
   "metadata": {},
   "outputs": [
    {
     "data": {
      "text/html": [
       "<div>\n",
       "<style scoped>\n",
       "    .dataframe tbody tr th:only-of-type {\n",
       "        vertical-align: middle;\n",
       "    }\n",
       "\n",
       "    .dataframe tbody tr th {\n",
       "        vertical-align: top;\n",
       "    }\n",
       "\n",
       "    .dataframe thead th {\n",
       "        text-align: right;\n",
       "    }\n",
       "</style>\n",
       "<table border=\"1\" class=\"dataframe\">\n",
       "  <thead>\n",
       "    <tr style=\"text-align: right;\">\n",
       "      <th></th>\n",
       "      <th>month</th>\n",
       "      <th>count_calls</th>\n",
       "      <th>sum_duration</th>\n",
       "      <th>sum_value_messages</th>\n",
       "      <th>sum_value_inet_traffic_Gb</th>\n",
       "    </tr>\n",
       "    <tr>\n",
       "      <th>user_id</th>\n",
       "      <th></th>\n",
       "      <th></th>\n",
       "      <th></th>\n",
       "      <th></th>\n",
       "      <th></th>\n",
       "    </tr>\n",
       "  </thead>\n",
       "  <tbody>\n",
       "    <tr>\n",
       "      <th>1000</th>\n",
       "      <td>5</td>\n",
       "      <td>22.0</td>\n",
       "      <td>159.0</td>\n",
       "      <td>22.0</td>\n",
       "      <td>3.0</td>\n",
       "    </tr>\n",
       "    <tr>\n",
       "      <th>1000</th>\n",
       "      <td>6</td>\n",
       "      <td>43.0</td>\n",
       "      <td>172.0</td>\n",
       "      <td>60.0</td>\n",
       "      <td>23.0</td>\n",
       "    </tr>\n",
       "    <tr>\n",
       "      <th>1000</th>\n",
       "      <td>7</td>\n",
       "      <td>47.0</td>\n",
       "      <td>340.0</td>\n",
       "      <td>75.0</td>\n",
       "      <td>14.0</td>\n",
       "    </tr>\n",
       "    <tr>\n",
       "      <th>1000</th>\n",
       "      <td>8</td>\n",
       "      <td>52.0</td>\n",
       "      <td>408.0</td>\n",
       "      <td>81.0</td>\n",
       "      <td>14.0</td>\n",
       "    </tr>\n",
       "    <tr>\n",
       "      <th>1000</th>\n",
       "      <td>9</td>\n",
       "      <td>58.0</td>\n",
       "      <td>466.0</td>\n",
       "      <td>57.0</td>\n",
       "      <td>15.0</td>\n",
       "    </tr>\n",
       "    <tr>\n",
       "      <th>...</th>\n",
       "      <td>...</td>\n",
       "      <td>...</td>\n",
       "      <td>...</td>\n",
       "      <td>...</td>\n",
       "      <td>...</td>\n",
       "    </tr>\n",
       "    <tr>\n",
       "      <th>1489</th>\n",
       "      <td>9</td>\n",
       "      <td>NaN</td>\n",
       "      <td>NaN</td>\n",
       "      <td>32.0</td>\n",
       "      <td>17.0</td>\n",
       "    </tr>\n",
       "    <tr>\n",
       "      <th>1489</th>\n",
       "      <td>10</td>\n",
       "      <td>NaN</td>\n",
       "      <td>NaN</td>\n",
       "      <td>21.0</td>\n",
       "      <td>20.0</td>\n",
       "    </tr>\n",
       "    <tr>\n",
       "      <th>1489</th>\n",
       "      <td>11</td>\n",
       "      <td>NaN</td>\n",
       "      <td>NaN</td>\n",
       "      <td>20.0</td>\n",
       "      <td>18.0</td>\n",
       "    </tr>\n",
       "    <tr>\n",
       "      <th>1489</th>\n",
       "      <td>12</td>\n",
       "      <td>NaN</td>\n",
       "      <td>NaN</td>\n",
       "      <td>35.0</td>\n",
       "      <td>17.0</td>\n",
       "    </tr>\n",
       "    <tr>\n",
       "      <th>1476</th>\n",
       "      <td>4</td>\n",
       "      <td>NaN</td>\n",
       "      <td>NaN</td>\n",
       "      <td>NaN</td>\n",
       "      <td>1.0</td>\n",
       "    </tr>\n",
       "  </tbody>\n",
       "</table>\n",
       "<p>3214 rows × 5 columns</p>\n",
       "</div>"
      ],
      "text/plain": [
       "         month  count_calls  sum_duration  sum_value_messages  \\\n",
       "user_id                                                         \n",
       "1000         5         22.0         159.0                22.0   \n",
       "1000         6         43.0         172.0                60.0   \n",
       "1000         7         47.0         340.0                75.0   \n",
       "1000         8         52.0         408.0                81.0   \n",
       "1000         9         58.0         466.0                57.0   \n",
       "...        ...          ...           ...                 ...   \n",
       "1489         9          NaN           NaN                32.0   \n",
       "1489        10          NaN           NaN                21.0   \n",
       "1489        11          NaN           NaN                20.0   \n",
       "1489        12          NaN           NaN                35.0   \n",
       "1476         4          NaN           NaN                 NaN   \n",
       "\n",
       "         sum_value_inet_traffic_Gb  \n",
       "user_id                             \n",
       "1000                           3.0  \n",
       "1000                          23.0  \n",
       "1000                          14.0  \n",
       "1000                          14.0  \n",
       "1000                          15.0  \n",
       "...                            ...  \n",
       "1489                          17.0  \n",
       "1489                          20.0  \n",
       "1489                          18.0  \n",
       "1489                          17.0  \n",
       "1476                           1.0  \n",
       "\n",
       "[3214 rows x 5 columns]"
      ]
     },
     "execution_count": 28,
     "metadata": {},
     "output_type": "execute_result"
    }
   ],
   "source": [
    "fin_df = calls_count_sum.merge(\n",
    "    messages_sum_value.merge(internet_sum_value, on=['user_id', 'month'], how='outer'),\n",
    "    on=['user_id', 'month'],\n",
    "    how='outer'\n",
    ")\n",
    "fin_df = fin_df.reset_index(level=['month'])\n",
    "fin_df"
   ]
  },
  {
   "cell_type": "code",
   "execution_count": 29,
   "metadata": {
    "scrolled": false
   },
   "outputs": [
    {
     "data": {
      "text/plain": [
       "month                          0\n",
       "count_calls                   40\n",
       "sum_duration                  40\n",
       "sum_value_messages           497\n",
       "sum_value_inet_traffic_Gb     11\n",
       "dtype: int64"
      ]
     },
     "execution_count": 29,
     "metadata": {},
     "output_type": "execute_result"
    }
   ],
   "source": [
    "fin_df.isna().sum()"
   ]
  },
  {
   "cell_type": "markdown",
   "metadata": {},
   "source": [
    "Нет данных по сообщениям и использованию интернет трафика. Заменим пропуски нулями."
   ]
  },
  {
   "cell_type": "code",
   "execution_count": 30,
   "metadata": {},
   "outputs": [],
   "source": [
    "fin_df = fin_df.fillna(value=0)\n",
    "fin_df['sum_value_inet_traffic_Gb'] = fin_df['sum_value_inet_traffic_Gb'].astype('int')\n",
    "fin_df['sum_value_messages'] = fin_df['sum_value_messages'].astype('int')"
   ]
  },
  {
   "cell_type": "code",
   "execution_count": 31,
   "metadata": {},
   "outputs": [
    {
     "data": {
      "text/plain": [
       "month                        0\n",
       "count_calls                  0\n",
       "sum_duration                 0\n",
       "sum_value_messages           0\n",
       "sum_value_inet_traffic_Gb    0\n",
       "dtype: int64"
      ]
     },
     "execution_count": 31,
     "metadata": {},
     "output_type": "execute_result"
    }
   ],
   "source": [
    "fin_df.isna().sum()"
   ]
  },
  {
   "cell_type": "markdown",
   "metadata": {},
   "source": [
    "Произведём слияние таблиц по индексам user_id и month, данные по голосовой связи, сообщениям и интернет трафику."
   ]
  },
  {
   "cell_type": "code",
   "execution_count": 32,
   "metadata": {},
   "outputs": [],
   "source": [
    "fin_df = fin_df.merge(users[['user_id', 'city', 'tariff']], on='user_id')"
   ]
  },
  {
   "cell_type": "markdown",
   "metadata": {},
   "source": [
    "Создадим итоговый датафрейм для анализа, подтянем данные из таблицы users."
   ]
  },
  {
   "cell_type": "code",
   "execution_count": 33,
   "metadata": {
    "scrolled": false
   },
   "outputs": [
    {
     "data": {
      "text/html": [
       "<div>\n",
       "<style scoped>\n",
       "    .dataframe tbody tr th:only-of-type {\n",
       "        vertical-align: middle;\n",
       "    }\n",
       "\n",
       "    .dataframe tbody tr th {\n",
       "        vertical-align: top;\n",
       "    }\n",
       "\n",
       "    .dataframe thead th {\n",
       "        text-align: right;\n",
       "    }\n",
       "</style>\n",
       "<table border=\"1\" class=\"dataframe\">\n",
       "  <thead>\n",
       "    <tr style=\"text-align: right;\">\n",
       "      <th></th>\n",
       "      <th>user_id</th>\n",
       "      <th>month</th>\n",
       "      <th>count_calls</th>\n",
       "      <th>sum_duration</th>\n",
       "      <th>sum_value_messages</th>\n",
       "      <th>sum_value_inet_traffic_Gb</th>\n",
       "      <th>city</th>\n",
       "      <th>tariff</th>\n",
       "    </tr>\n",
       "  </thead>\n",
       "  <tbody>\n",
       "    <tr>\n",
       "      <th>0</th>\n",
       "      <td>1000</td>\n",
       "      <td>5</td>\n",
       "      <td>22.0</td>\n",
       "      <td>159.0</td>\n",
       "      <td>22</td>\n",
       "      <td>3</td>\n",
       "      <td>Краснодар</td>\n",
       "      <td>ultra</td>\n",
       "    </tr>\n",
       "    <tr>\n",
       "      <th>1</th>\n",
       "      <td>1000</td>\n",
       "      <td>6</td>\n",
       "      <td>43.0</td>\n",
       "      <td>172.0</td>\n",
       "      <td>60</td>\n",
       "      <td>23</td>\n",
       "      <td>Краснодар</td>\n",
       "      <td>ultra</td>\n",
       "    </tr>\n",
       "    <tr>\n",
       "      <th>2</th>\n",
       "      <td>1000</td>\n",
       "      <td>7</td>\n",
       "      <td>47.0</td>\n",
       "      <td>340.0</td>\n",
       "      <td>75</td>\n",
       "      <td>14</td>\n",
       "      <td>Краснодар</td>\n",
       "      <td>ultra</td>\n",
       "    </tr>\n",
       "    <tr>\n",
       "      <th>3</th>\n",
       "      <td>1000</td>\n",
       "      <td>8</td>\n",
       "      <td>52.0</td>\n",
       "      <td>408.0</td>\n",
       "      <td>81</td>\n",
       "      <td>14</td>\n",
       "      <td>Краснодар</td>\n",
       "      <td>ultra</td>\n",
       "    </tr>\n",
       "    <tr>\n",
       "      <th>4</th>\n",
       "      <td>1000</td>\n",
       "      <td>9</td>\n",
       "      <td>58.0</td>\n",
       "      <td>466.0</td>\n",
       "      <td>57</td>\n",
       "      <td>15</td>\n",
       "      <td>Краснодар</td>\n",
       "      <td>ultra</td>\n",
       "    </tr>\n",
       "    <tr>\n",
       "      <th>...</th>\n",
       "      <td>...</td>\n",
       "      <td>...</td>\n",
       "      <td>...</td>\n",
       "      <td>...</td>\n",
       "      <td>...</td>\n",
       "      <td>...</td>\n",
       "      <td>...</td>\n",
       "      <td>...</td>\n",
       "    </tr>\n",
       "    <tr>\n",
       "      <th>3209</th>\n",
       "      <td>1489</td>\n",
       "      <td>8</td>\n",
       "      <td>0.0</td>\n",
       "      <td>0.0</td>\n",
       "      <td>17</td>\n",
       "      <td>11</td>\n",
       "      <td>Санкт-Петербург</td>\n",
       "      <td>smart</td>\n",
       "    </tr>\n",
       "    <tr>\n",
       "      <th>3210</th>\n",
       "      <td>1489</td>\n",
       "      <td>9</td>\n",
       "      <td>0.0</td>\n",
       "      <td>0.0</td>\n",
       "      <td>32</td>\n",
       "      <td>17</td>\n",
       "      <td>Санкт-Петербург</td>\n",
       "      <td>smart</td>\n",
       "    </tr>\n",
       "    <tr>\n",
       "      <th>3211</th>\n",
       "      <td>1489</td>\n",
       "      <td>10</td>\n",
       "      <td>0.0</td>\n",
       "      <td>0.0</td>\n",
       "      <td>21</td>\n",
       "      <td>20</td>\n",
       "      <td>Санкт-Петербург</td>\n",
       "      <td>smart</td>\n",
       "    </tr>\n",
       "    <tr>\n",
       "      <th>3212</th>\n",
       "      <td>1489</td>\n",
       "      <td>11</td>\n",
       "      <td>0.0</td>\n",
       "      <td>0.0</td>\n",
       "      <td>20</td>\n",
       "      <td>18</td>\n",
       "      <td>Санкт-Петербург</td>\n",
       "      <td>smart</td>\n",
       "    </tr>\n",
       "    <tr>\n",
       "      <th>3213</th>\n",
       "      <td>1489</td>\n",
       "      <td>12</td>\n",
       "      <td>0.0</td>\n",
       "      <td>0.0</td>\n",
       "      <td>35</td>\n",
       "      <td>17</td>\n",
       "      <td>Санкт-Петербург</td>\n",
       "      <td>smart</td>\n",
       "    </tr>\n",
       "  </tbody>\n",
       "</table>\n",
       "<p>3214 rows × 8 columns</p>\n",
       "</div>"
      ],
      "text/plain": [
       "      user_id  month  count_calls  sum_duration  sum_value_messages  \\\n",
       "0        1000      5         22.0         159.0                  22   \n",
       "1        1000      6         43.0         172.0                  60   \n",
       "2        1000      7         47.0         340.0                  75   \n",
       "3        1000      8         52.0         408.0                  81   \n",
       "4        1000      9         58.0         466.0                  57   \n",
       "...       ...    ...          ...           ...                 ...   \n",
       "3209     1489      8          0.0           0.0                  17   \n",
       "3210     1489      9          0.0           0.0                  32   \n",
       "3211     1489     10          0.0           0.0                  21   \n",
       "3212     1489     11          0.0           0.0                  20   \n",
       "3213     1489     12          0.0           0.0                  35   \n",
       "\n",
       "      sum_value_inet_traffic_Gb             city tariff  \n",
       "0                             3        Краснодар  ultra  \n",
       "1                            23        Краснодар  ultra  \n",
       "2                            14        Краснодар  ultra  \n",
       "3                            14        Краснодар  ultra  \n",
       "4                            15        Краснодар  ultra  \n",
       "...                         ...              ...    ...  \n",
       "3209                         11  Санкт-Петербург  smart  \n",
       "3210                         17  Санкт-Петербург  smart  \n",
       "3211                         20  Санкт-Петербург  smart  \n",
       "3212                         18  Санкт-Петербург  smart  \n",
       "3213                         17  Санкт-Петербург  smart  \n",
       "\n",
       "[3214 rows x 8 columns]"
      ]
     },
     "execution_count": 33,
     "metadata": {},
     "output_type": "execute_result"
    }
   ],
   "source": [
    "fin_df"
   ]
  },
  {
   "cell_type": "code",
   "execution_count": 34,
   "metadata": {},
   "outputs": [],
   "source": [
    "tariffs = tariffs.pivot_table(index='tariff_name')"
   ]
  },
  {
   "cell_type": "code",
   "execution_count": 35,
   "metadata": {
    "scrolled": false
   },
   "outputs": [
    {
     "data": {
      "text/html": [
       "<div>\n",
       "<style scoped>\n",
       "    .dataframe tbody tr th:only-of-type {\n",
       "        vertical-align: middle;\n",
       "    }\n",
       "\n",
       "    .dataframe tbody tr th {\n",
       "        vertical-align: top;\n",
       "    }\n",
       "\n",
       "    .dataframe thead th {\n",
       "        text-align: right;\n",
       "    }\n",
       "</style>\n",
       "<table border=\"1\" class=\"dataframe\">\n",
       "  <thead>\n",
       "    <tr style=\"text-align: right;\">\n",
       "      <th></th>\n",
       "      <th>user_id</th>\n",
       "      <th>month</th>\n",
       "      <th>count_calls</th>\n",
       "      <th>sum_duration</th>\n",
       "      <th>sum_value_messages</th>\n",
       "      <th>sum_value_inet_traffic_Gb</th>\n",
       "      <th>city</th>\n",
       "      <th>tariff</th>\n",
       "      <th>mb_per_month_included</th>\n",
       "      <th>messages_included</th>\n",
       "      <th>minutes_included</th>\n",
       "      <th>rub_monthly_fee</th>\n",
       "      <th>rub_per_gb</th>\n",
       "      <th>rub_per_message</th>\n",
       "      <th>rub_per_minute</th>\n",
       "    </tr>\n",
       "  </thead>\n",
       "  <tbody>\n",
       "    <tr>\n",
       "      <th>0</th>\n",
       "      <td>1000</td>\n",
       "      <td>5</td>\n",
       "      <td>22.0</td>\n",
       "      <td>159.0</td>\n",
       "      <td>22</td>\n",
       "      <td>3</td>\n",
       "      <td>Краснодар</td>\n",
       "      <td>ultra</td>\n",
       "      <td>30720</td>\n",
       "      <td>1000</td>\n",
       "      <td>3000</td>\n",
       "      <td>1950</td>\n",
       "      <td>150</td>\n",
       "      <td>1</td>\n",
       "      <td>1</td>\n",
       "    </tr>\n",
       "    <tr>\n",
       "      <th>1</th>\n",
       "      <td>1000</td>\n",
       "      <td>6</td>\n",
       "      <td>43.0</td>\n",
       "      <td>172.0</td>\n",
       "      <td>60</td>\n",
       "      <td>23</td>\n",
       "      <td>Краснодар</td>\n",
       "      <td>ultra</td>\n",
       "      <td>30720</td>\n",
       "      <td>1000</td>\n",
       "      <td>3000</td>\n",
       "      <td>1950</td>\n",
       "      <td>150</td>\n",
       "      <td>1</td>\n",
       "      <td>1</td>\n",
       "    </tr>\n",
       "    <tr>\n",
       "      <th>2</th>\n",
       "      <td>1000</td>\n",
       "      <td>7</td>\n",
       "      <td>47.0</td>\n",
       "      <td>340.0</td>\n",
       "      <td>75</td>\n",
       "      <td>14</td>\n",
       "      <td>Краснодар</td>\n",
       "      <td>ultra</td>\n",
       "      <td>30720</td>\n",
       "      <td>1000</td>\n",
       "      <td>3000</td>\n",
       "      <td>1950</td>\n",
       "      <td>150</td>\n",
       "      <td>1</td>\n",
       "      <td>1</td>\n",
       "    </tr>\n",
       "    <tr>\n",
       "      <th>3</th>\n",
       "      <td>1000</td>\n",
       "      <td>8</td>\n",
       "      <td>52.0</td>\n",
       "      <td>408.0</td>\n",
       "      <td>81</td>\n",
       "      <td>14</td>\n",
       "      <td>Краснодар</td>\n",
       "      <td>ultra</td>\n",
       "      <td>30720</td>\n",
       "      <td>1000</td>\n",
       "      <td>3000</td>\n",
       "      <td>1950</td>\n",
       "      <td>150</td>\n",
       "      <td>1</td>\n",
       "      <td>1</td>\n",
       "    </tr>\n",
       "    <tr>\n",
       "      <th>4</th>\n",
       "      <td>1000</td>\n",
       "      <td>9</td>\n",
       "      <td>58.0</td>\n",
       "      <td>466.0</td>\n",
       "      <td>57</td>\n",
       "      <td>15</td>\n",
       "      <td>Краснодар</td>\n",
       "      <td>ultra</td>\n",
       "      <td>30720</td>\n",
       "      <td>1000</td>\n",
       "      <td>3000</td>\n",
       "      <td>1950</td>\n",
       "      <td>150</td>\n",
       "      <td>1</td>\n",
       "      <td>1</td>\n",
       "    </tr>\n",
       "    <tr>\n",
       "      <th>...</th>\n",
       "      <td>...</td>\n",
       "      <td>...</td>\n",
       "      <td>...</td>\n",
       "      <td>...</td>\n",
       "      <td>...</td>\n",
       "      <td>...</td>\n",
       "      <td>...</td>\n",
       "      <td>...</td>\n",
       "      <td>...</td>\n",
       "      <td>...</td>\n",
       "      <td>...</td>\n",
       "      <td>...</td>\n",
       "      <td>...</td>\n",
       "      <td>...</td>\n",
       "      <td>...</td>\n",
       "    </tr>\n",
       "    <tr>\n",
       "      <th>3209</th>\n",
       "      <td>1489</td>\n",
       "      <td>8</td>\n",
       "      <td>0.0</td>\n",
       "      <td>0.0</td>\n",
       "      <td>17</td>\n",
       "      <td>11</td>\n",
       "      <td>Санкт-Петербург</td>\n",
       "      <td>smart</td>\n",
       "      <td>15360</td>\n",
       "      <td>50</td>\n",
       "      <td>500</td>\n",
       "      <td>550</td>\n",
       "      <td>200</td>\n",
       "      <td>3</td>\n",
       "      <td>3</td>\n",
       "    </tr>\n",
       "    <tr>\n",
       "      <th>3210</th>\n",
       "      <td>1489</td>\n",
       "      <td>9</td>\n",
       "      <td>0.0</td>\n",
       "      <td>0.0</td>\n",
       "      <td>32</td>\n",
       "      <td>17</td>\n",
       "      <td>Санкт-Петербург</td>\n",
       "      <td>smart</td>\n",
       "      <td>15360</td>\n",
       "      <td>50</td>\n",
       "      <td>500</td>\n",
       "      <td>550</td>\n",
       "      <td>200</td>\n",
       "      <td>3</td>\n",
       "      <td>3</td>\n",
       "    </tr>\n",
       "    <tr>\n",
       "      <th>3211</th>\n",
       "      <td>1489</td>\n",
       "      <td>10</td>\n",
       "      <td>0.0</td>\n",
       "      <td>0.0</td>\n",
       "      <td>21</td>\n",
       "      <td>20</td>\n",
       "      <td>Санкт-Петербург</td>\n",
       "      <td>smart</td>\n",
       "      <td>15360</td>\n",
       "      <td>50</td>\n",
       "      <td>500</td>\n",
       "      <td>550</td>\n",
       "      <td>200</td>\n",
       "      <td>3</td>\n",
       "      <td>3</td>\n",
       "    </tr>\n",
       "    <tr>\n",
       "      <th>3212</th>\n",
       "      <td>1489</td>\n",
       "      <td>11</td>\n",
       "      <td>0.0</td>\n",
       "      <td>0.0</td>\n",
       "      <td>20</td>\n",
       "      <td>18</td>\n",
       "      <td>Санкт-Петербург</td>\n",
       "      <td>smart</td>\n",
       "      <td>15360</td>\n",
       "      <td>50</td>\n",
       "      <td>500</td>\n",
       "      <td>550</td>\n",
       "      <td>200</td>\n",
       "      <td>3</td>\n",
       "      <td>3</td>\n",
       "    </tr>\n",
       "    <tr>\n",
       "      <th>3213</th>\n",
       "      <td>1489</td>\n",
       "      <td>12</td>\n",
       "      <td>0.0</td>\n",
       "      <td>0.0</td>\n",
       "      <td>35</td>\n",
       "      <td>17</td>\n",
       "      <td>Санкт-Петербург</td>\n",
       "      <td>smart</td>\n",
       "      <td>15360</td>\n",
       "      <td>50</td>\n",
       "      <td>500</td>\n",
       "      <td>550</td>\n",
       "      <td>200</td>\n",
       "      <td>3</td>\n",
       "      <td>3</td>\n",
       "    </tr>\n",
       "  </tbody>\n",
       "</table>\n",
       "<p>3214 rows × 15 columns</p>\n",
       "</div>"
      ],
      "text/plain": [
       "      user_id  month  count_calls  sum_duration  sum_value_messages  \\\n",
       "0        1000      5         22.0         159.0                  22   \n",
       "1        1000      6         43.0         172.0                  60   \n",
       "2        1000      7         47.0         340.0                  75   \n",
       "3        1000      8         52.0         408.0                  81   \n",
       "4        1000      9         58.0         466.0                  57   \n",
       "...       ...    ...          ...           ...                 ...   \n",
       "3209     1489      8          0.0           0.0                  17   \n",
       "3210     1489      9          0.0           0.0                  32   \n",
       "3211     1489     10          0.0           0.0                  21   \n",
       "3212     1489     11          0.0           0.0                  20   \n",
       "3213     1489     12          0.0           0.0                  35   \n",
       "\n",
       "      sum_value_inet_traffic_Gb             city tariff  \\\n",
       "0                             3        Краснодар  ultra   \n",
       "1                            23        Краснодар  ultra   \n",
       "2                            14        Краснодар  ultra   \n",
       "3                            14        Краснодар  ultra   \n",
       "4                            15        Краснодар  ultra   \n",
       "...                         ...              ...    ...   \n",
       "3209                         11  Санкт-Петербург  smart   \n",
       "3210                         17  Санкт-Петербург  smart   \n",
       "3211                         20  Санкт-Петербург  smart   \n",
       "3212                         18  Санкт-Петербург  smart   \n",
       "3213                         17  Санкт-Петербург  smart   \n",
       "\n",
       "      mb_per_month_included  messages_included  minutes_included  \\\n",
       "0                     30720               1000              3000   \n",
       "1                     30720               1000              3000   \n",
       "2                     30720               1000              3000   \n",
       "3                     30720               1000              3000   \n",
       "4                     30720               1000              3000   \n",
       "...                     ...                ...               ...   \n",
       "3209                  15360                 50               500   \n",
       "3210                  15360                 50               500   \n",
       "3211                  15360                 50               500   \n",
       "3212                  15360                 50               500   \n",
       "3213                  15360                 50               500   \n",
       "\n",
       "      rub_monthly_fee  rub_per_gb  rub_per_message  rub_per_minute  \n",
       "0                1950         150                1               1  \n",
       "1                1950         150                1               1  \n",
       "2                1950         150                1               1  \n",
       "3                1950         150                1               1  \n",
       "4                1950         150                1               1  \n",
       "...               ...         ...              ...             ...  \n",
       "3209              550         200                3               3  \n",
       "3210              550         200                3               3  \n",
       "3211              550         200                3               3  \n",
       "3212              550         200                3               3  \n",
       "3213              550         200                3               3  \n",
       "\n",
       "[3214 rows x 15 columns]"
      ]
     },
     "execution_count": 35,
     "metadata": {},
     "output_type": "execute_result"
    }
   ],
   "source": [
    "fin_df = fin_df.join(tariffs, on='tariff')\n",
    "fin_df"
   ]
  },
  {
   "cell_type": "markdown",
   "metadata": {},
   "source": [
    "Добавим расшифровку тарифов"
   ]
  },
  {
   "cell_type": "code",
   "execution_count": 36,
   "metadata": {},
   "outputs": [],
   "source": [
    "fin_df['mb_per_month_included'] = (fin_df['mb_per_month_included'] / 1024).astype('int')"
   ]
  },
  {
   "cell_type": "markdown",
   "metadata": {},
   "source": [
    "Переведём предоплаченный трафик в Gb. Тип целочисленный."
   ]
  },
  {
   "cell_type": "code",
   "execution_count": 37,
   "metadata": {},
   "outputs": [],
   "source": [
    "fin_df.rename(columns={'mb_per_month_included': 'Gb_per_month_included'}, inplace=True)"
   ]
  },
  {
   "cell_type": "markdown",
   "metadata": {},
   "source": [
    "Переименуем столбец в соответствии с изменениями. Мб изменим на Гб чтобы не было путаницы."
   ]
  },
  {
   "cell_type": "markdown",
   "metadata": {},
   "source": [
    "Функция для расчёта выручки"
   ]
  },
  {
   "cell_type": "code",
   "execution_count": 38,
   "metadata": {},
   "outputs": [],
   "source": [
    "def revenue(row):\n",
    "    rev_min, rev_sms, rev_inet = 0, 0, 0\n",
    "    #min\n",
    "    if (row['sum_duration'] - row['minutes_included']) > 0:\n",
    "        rev_min = (row['sum_duration'] - row['minutes_included']) * row['rub_per_minute']\n",
    "    #SMS\n",
    "    if (row['sum_value_messages'] - row['messages_included']) > 0:\n",
    "        rev_sms = (row['sum_value_messages'] - row['messages_included']) * row['rub_per_message']\n",
    "    #inet\n",
    "    if (row['sum_value_inet_traffic_Gb'] - row['Gb_per_month_included']) > 0:\n",
    "        rev_inet = (row['sum_value_inet_traffic_Gb'] - row['Gb_per_month_included']) * row['rub_per_gb']\n",
    "            \n",
    "    return rev_min + rev_sms + rev_inet + row['rub_monthly_fee']\n",
    "    \n",
    "   "
   ]
  },
  {
   "cell_type": "code",
   "execution_count": 39,
   "metadata": {},
   "outputs": [],
   "source": [
    "fin_df['revenue_rub'] = fin_df.apply(revenue, axis=1)"
   ]
  },
  {
   "cell_type": "markdown",
   "metadata": {},
   "source": [
    "Новый столбец с выручкой в рублях."
   ]
  },
  {
   "cell_type": "code",
   "execution_count": 40,
   "metadata": {},
   "outputs": [
    {
     "data": {
      "text/html": [
       "<div>\n",
       "<style scoped>\n",
       "    .dataframe tbody tr th:only-of-type {\n",
       "        vertical-align: middle;\n",
       "    }\n",
       "\n",
       "    .dataframe tbody tr th {\n",
       "        vertical-align: top;\n",
       "    }\n",
       "\n",
       "    .dataframe thead th {\n",
       "        text-align: right;\n",
       "    }\n",
       "</style>\n",
       "<table border=\"1\" class=\"dataframe\">\n",
       "  <thead>\n",
       "    <tr style=\"text-align: right;\">\n",
       "      <th></th>\n",
       "      <th>user_id</th>\n",
       "      <th>month</th>\n",
       "      <th>count_calls</th>\n",
       "      <th>sum_duration</th>\n",
       "      <th>sum_value_messages</th>\n",
       "      <th>sum_value_inet_traffic_Gb</th>\n",
       "      <th>city</th>\n",
       "      <th>tariff</th>\n",
       "      <th>Gb_per_month_included</th>\n",
       "      <th>messages_included</th>\n",
       "      <th>minutes_included</th>\n",
       "      <th>rub_monthly_fee</th>\n",
       "      <th>rub_per_gb</th>\n",
       "      <th>rub_per_message</th>\n",
       "      <th>rub_per_minute</th>\n",
       "      <th>revenue_rub</th>\n",
       "    </tr>\n",
       "  </thead>\n",
       "  <tbody>\n",
       "    <tr>\n",
       "      <th>0</th>\n",
       "      <td>1000</td>\n",
       "      <td>5</td>\n",
       "      <td>22.0</td>\n",
       "      <td>159.0</td>\n",
       "      <td>22</td>\n",
       "      <td>3</td>\n",
       "      <td>Краснодар</td>\n",
       "      <td>ultra</td>\n",
       "      <td>30</td>\n",
       "      <td>1000</td>\n",
       "      <td>3000</td>\n",
       "      <td>1950</td>\n",
       "      <td>150</td>\n",
       "      <td>1</td>\n",
       "      <td>1</td>\n",
       "      <td>1950.0</td>\n",
       "    </tr>\n",
       "    <tr>\n",
       "      <th>1</th>\n",
       "      <td>1000</td>\n",
       "      <td>6</td>\n",
       "      <td>43.0</td>\n",
       "      <td>172.0</td>\n",
       "      <td>60</td>\n",
       "      <td>23</td>\n",
       "      <td>Краснодар</td>\n",
       "      <td>ultra</td>\n",
       "      <td>30</td>\n",
       "      <td>1000</td>\n",
       "      <td>3000</td>\n",
       "      <td>1950</td>\n",
       "      <td>150</td>\n",
       "      <td>1</td>\n",
       "      <td>1</td>\n",
       "      <td>1950.0</td>\n",
       "    </tr>\n",
       "    <tr>\n",
       "      <th>2</th>\n",
       "      <td>1000</td>\n",
       "      <td>7</td>\n",
       "      <td>47.0</td>\n",
       "      <td>340.0</td>\n",
       "      <td>75</td>\n",
       "      <td>14</td>\n",
       "      <td>Краснодар</td>\n",
       "      <td>ultra</td>\n",
       "      <td>30</td>\n",
       "      <td>1000</td>\n",
       "      <td>3000</td>\n",
       "      <td>1950</td>\n",
       "      <td>150</td>\n",
       "      <td>1</td>\n",
       "      <td>1</td>\n",
       "      <td>1950.0</td>\n",
       "    </tr>\n",
       "    <tr>\n",
       "      <th>3</th>\n",
       "      <td>1000</td>\n",
       "      <td>8</td>\n",
       "      <td>52.0</td>\n",
       "      <td>408.0</td>\n",
       "      <td>81</td>\n",
       "      <td>14</td>\n",
       "      <td>Краснодар</td>\n",
       "      <td>ultra</td>\n",
       "      <td>30</td>\n",
       "      <td>1000</td>\n",
       "      <td>3000</td>\n",
       "      <td>1950</td>\n",
       "      <td>150</td>\n",
       "      <td>1</td>\n",
       "      <td>1</td>\n",
       "      <td>1950.0</td>\n",
       "    </tr>\n",
       "    <tr>\n",
       "      <th>4</th>\n",
       "      <td>1000</td>\n",
       "      <td>9</td>\n",
       "      <td>58.0</td>\n",
       "      <td>466.0</td>\n",
       "      <td>57</td>\n",
       "      <td>15</td>\n",
       "      <td>Краснодар</td>\n",
       "      <td>ultra</td>\n",
       "      <td>30</td>\n",
       "      <td>1000</td>\n",
       "      <td>3000</td>\n",
       "      <td>1950</td>\n",
       "      <td>150</td>\n",
       "      <td>1</td>\n",
       "      <td>1</td>\n",
       "      <td>1950.0</td>\n",
       "    </tr>\n",
       "    <tr>\n",
       "      <th>...</th>\n",
       "      <td>...</td>\n",
       "      <td>...</td>\n",
       "      <td>...</td>\n",
       "      <td>...</td>\n",
       "      <td>...</td>\n",
       "      <td>...</td>\n",
       "      <td>...</td>\n",
       "      <td>...</td>\n",
       "      <td>...</td>\n",
       "      <td>...</td>\n",
       "      <td>...</td>\n",
       "      <td>...</td>\n",
       "      <td>...</td>\n",
       "      <td>...</td>\n",
       "      <td>...</td>\n",
       "      <td>...</td>\n",
       "    </tr>\n",
       "    <tr>\n",
       "      <th>3209</th>\n",
       "      <td>1489</td>\n",
       "      <td>8</td>\n",
       "      <td>0.0</td>\n",
       "      <td>0.0</td>\n",
       "      <td>17</td>\n",
       "      <td>11</td>\n",
       "      <td>Санкт-Петербург</td>\n",
       "      <td>smart</td>\n",
       "      <td>15</td>\n",
       "      <td>50</td>\n",
       "      <td>500</td>\n",
       "      <td>550</td>\n",
       "      <td>200</td>\n",
       "      <td>3</td>\n",
       "      <td>3</td>\n",
       "      <td>550.0</td>\n",
       "    </tr>\n",
       "    <tr>\n",
       "      <th>3210</th>\n",
       "      <td>1489</td>\n",
       "      <td>9</td>\n",
       "      <td>0.0</td>\n",
       "      <td>0.0</td>\n",
       "      <td>32</td>\n",
       "      <td>17</td>\n",
       "      <td>Санкт-Петербург</td>\n",
       "      <td>smart</td>\n",
       "      <td>15</td>\n",
       "      <td>50</td>\n",
       "      <td>500</td>\n",
       "      <td>550</td>\n",
       "      <td>200</td>\n",
       "      <td>3</td>\n",
       "      <td>3</td>\n",
       "      <td>950.0</td>\n",
       "    </tr>\n",
       "    <tr>\n",
       "      <th>3211</th>\n",
       "      <td>1489</td>\n",
       "      <td>10</td>\n",
       "      <td>0.0</td>\n",
       "      <td>0.0</td>\n",
       "      <td>21</td>\n",
       "      <td>20</td>\n",
       "      <td>Санкт-Петербург</td>\n",
       "      <td>smart</td>\n",
       "      <td>15</td>\n",
       "      <td>50</td>\n",
       "      <td>500</td>\n",
       "      <td>550</td>\n",
       "      <td>200</td>\n",
       "      <td>3</td>\n",
       "      <td>3</td>\n",
       "      <td>1550.0</td>\n",
       "    </tr>\n",
       "    <tr>\n",
       "      <th>3212</th>\n",
       "      <td>1489</td>\n",
       "      <td>11</td>\n",
       "      <td>0.0</td>\n",
       "      <td>0.0</td>\n",
       "      <td>20</td>\n",
       "      <td>18</td>\n",
       "      <td>Санкт-Петербург</td>\n",
       "      <td>smart</td>\n",
       "      <td>15</td>\n",
       "      <td>50</td>\n",
       "      <td>500</td>\n",
       "      <td>550</td>\n",
       "      <td>200</td>\n",
       "      <td>3</td>\n",
       "      <td>3</td>\n",
       "      <td>1150.0</td>\n",
       "    </tr>\n",
       "    <tr>\n",
       "      <th>3213</th>\n",
       "      <td>1489</td>\n",
       "      <td>12</td>\n",
       "      <td>0.0</td>\n",
       "      <td>0.0</td>\n",
       "      <td>35</td>\n",
       "      <td>17</td>\n",
       "      <td>Санкт-Петербург</td>\n",
       "      <td>smart</td>\n",
       "      <td>15</td>\n",
       "      <td>50</td>\n",
       "      <td>500</td>\n",
       "      <td>550</td>\n",
       "      <td>200</td>\n",
       "      <td>3</td>\n",
       "      <td>3</td>\n",
       "      <td>950.0</td>\n",
       "    </tr>\n",
       "  </tbody>\n",
       "</table>\n",
       "<p>3214 rows × 16 columns</p>\n",
       "</div>"
      ],
      "text/plain": [
       "      user_id  month  count_calls  sum_duration  sum_value_messages  \\\n",
       "0        1000      5         22.0         159.0                  22   \n",
       "1        1000      6         43.0         172.0                  60   \n",
       "2        1000      7         47.0         340.0                  75   \n",
       "3        1000      8         52.0         408.0                  81   \n",
       "4        1000      9         58.0         466.0                  57   \n",
       "...       ...    ...          ...           ...                 ...   \n",
       "3209     1489      8          0.0           0.0                  17   \n",
       "3210     1489      9          0.0           0.0                  32   \n",
       "3211     1489     10          0.0           0.0                  21   \n",
       "3212     1489     11          0.0           0.0                  20   \n",
       "3213     1489     12          0.0           0.0                  35   \n",
       "\n",
       "      sum_value_inet_traffic_Gb             city tariff  \\\n",
       "0                             3        Краснодар  ultra   \n",
       "1                            23        Краснодар  ultra   \n",
       "2                            14        Краснодар  ultra   \n",
       "3                            14        Краснодар  ultra   \n",
       "4                            15        Краснодар  ultra   \n",
       "...                         ...              ...    ...   \n",
       "3209                         11  Санкт-Петербург  smart   \n",
       "3210                         17  Санкт-Петербург  smart   \n",
       "3211                         20  Санкт-Петербург  smart   \n",
       "3212                         18  Санкт-Петербург  smart   \n",
       "3213                         17  Санкт-Петербург  smart   \n",
       "\n",
       "      Gb_per_month_included  messages_included  minutes_included  \\\n",
       "0                        30               1000              3000   \n",
       "1                        30               1000              3000   \n",
       "2                        30               1000              3000   \n",
       "3                        30               1000              3000   \n",
       "4                        30               1000              3000   \n",
       "...                     ...                ...               ...   \n",
       "3209                     15                 50               500   \n",
       "3210                     15                 50               500   \n",
       "3211                     15                 50               500   \n",
       "3212                     15                 50               500   \n",
       "3213                     15                 50               500   \n",
       "\n",
       "      rub_monthly_fee  rub_per_gb  rub_per_message  rub_per_minute  \\\n",
       "0                1950         150                1               1   \n",
       "1                1950         150                1               1   \n",
       "2                1950         150                1               1   \n",
       "3                1950         150                1               1   \n",
       "4                1950         150                1               1   \n",
       "...               ...         ...              ...             ...   \n",
       "3209              550         200                3               3   \n",
       "3210              550         200                3               3   \n",
       "3211              550         200                3               3   \n",
       "3212              550         200                3               3   \n",
       "3213              550         200                3               3   \n",
       "\n",
       "      revenue_rub  \n",
       "0          1950.0  \n",
       "1          1950.0  \n",
       "2          1950.0  \n",
       "3          1950.0  \n",
       "4          1950.0  \n",
       "...           ...  \n",
       "3209        550.0  \n",
       "3210        950.0  \n",
       "3211       1550.0  \n",
       "3212       1150.0  \n",
       "3213        950.0  \n",
       "\n",
       "[3214 rows x 16 columns]"
      ]
     },
     "execution_count": 40,
     "metadata": {},
     "output_type": "execute_result"
    }
   ],
   "source": [
    "fin_df"
   ]
  },
  {
   "cell_type": "markdown",
   "metadata": {},
   "source": [
    "Создали итогую таблицу для анализа данных, даже из демонстрационной части датафрейма видно, что кому то пора менять тариф.\n",
    "Рассмотрим данные внимательнее."
   ]
  },
  {
   "cell_type": "markdown",
   "metadata": {},
   "source": [
    "## Исследовательский анализ данных"
   ]
  },
  {
   "cell_type": "markdown",
   "metadata": {},
   "source": [
    "Опишите поведение клиентов оператора, исходя из выборки. Сколько минут разговора, сколько сообщений и какой объём интернет-трафика требуется пользователям каждого тарифа в месяц?\n",
    "\n",
    "Посчитайте среднее количество, дисперсию и стандартное отклонение. Постройте гистограммы. Опишите распределения."
   ]
  },
  {
   "cell_type": "markdown",
   "metadata": {},
   "source": [
    "### Тариф \"Smart\""
   ]
  },
  {
   "cell_type": "markdown",
   "metadata": {},
   "source": [
    "Как считали ранее:\n",
    "    \n",
    "Всего у нас 500 абонентов из них 351 - пользуется тарифом Smart, 149 - Ultra."
   ]
  },
  {
   "cell_type": "code",
   "execution_count": 41,
   "metadata": {
    "scrolled": false
   },
   "outputs": [
    {
     "data": {
      "text/plain": [
       "count    2229.000000\n",
       "mean      417.934948\n",
       "std       190.313730\n",
       "min         0.000000\n",
       "25%       282.000000\n",
       "50%       422.000000\n",
       "75%       545.000000\n",
       "max      1435.000000\n",
       "Name: sum_duration, dtype: float64"
      ]
     },
     "execution_count": 41,
     "metadata": {},
     "output_type": "execute_result"
    }
   ],
   "source": [
    "users_smart = fin_df[fin_df['tariff'] == 'smart']\n",
    "users_smart['sum_duration'].describe()"
   ]
  },
  {
   "cell_type": "code",
   "execution_count": 42,
   "metadata": {},
   "outputs": [
    {
     "data": {
      "text/html": [
       "<div>\n",
       "<style scoped>\n",
       "    .dataframe tbody tr th:only-of-type {\n",
       "        vertical-align: middle;\n",
       "    }\n",
       "\n",
       "    .dataframe tbody tr th {\n",
       "        vertical-align: top;\n",
       "    }\n",
       "\n",
       "    .dataframe thead th {\n",
       "        text-align: right;\n",
       "    }\n",
       "</style>\n",
       "<table border=\"1\" class=\"dataframe\">\n",
       "  <thead>\n",
       "    <tr style=\"text-align: right;\">\n",
       "      <th></th>\n",
       "      <th>user_id</th>\n",
       "      <th>month</th>\n",
       "      <th>count_calls</th>\n",
       "      <th>sum_duration</th>\n",
       "      <th>sum_value_messages</th>\n",
       "      <th>sum_value_inet_traffic_Gb</th>\n",
       "      <th>city</th>\n",
       "      <th>tariff</th>\n",
       "      <th>Gb_per_month_included</th>\n",
       "      <th>messages_included</th>\n",
       "      <th>minutes_included</th>\n",
       "      <th>rub_monthly_fee</th>\n",
       "      <th>rub_per_gb</th>\n",
       "      <th>rub_per_message</th>\n",
       "      <th>rub_per_minute</th>\n",
       "      <th>revenue_rub</th>\n",
       "    </tr>\n",
       "  </thead>\n",
       "  <tbody>\n",
       "    <tr>\n",
       "      <th>8</th>\n",
       "      <td>1001</td>\n",
       "      <td>11</td>\n",
       "      <td>59.0</td>\n",
       "      <td>430.0</td>\n",
       "      <td>0</td>\n",
       "      <td>19</td>\n",
       "      <td>Москва</td>\n",
       "      <td>smart</td>\n",
       "      <td>15</td>\n",
       "      <td>50</td>\n",
       "      <td>500</td>\n",
       "      <td>550</td>\n",
       "      <td>200</td>\n",
       "      <td>3</td>\n",
       "      <td>3</td>\n",
       "      <td>1350.0</td>\n",
       "    </tr>\n",
       "    <tr>\n",
       "      <th>9</th>\n",
       "      <td>1001</td>\n",
       "      <td>12</td>\n",
       "      <td>63.0</td>\n",
       "      <td>414.0</td>\n",
       "      <td>0</td>\n",
       "      <td>14</td>\n",
       "      <td>Москва</td>\n",
       "      <td>smart</td>\n",
       "      <td>15</td>\n",
       "      <td>50</td>\n",
       "      <td>500</td>\n",
       "      <td>550</td>\n",
       "      <td>200</td>\n",
       "      <td>3</td>\n",
       "      <td>3</td>\n",
       "      <td>550.0</td>\n",
       "    </tr>\n",
       "    <tr>\n",
       "      <th>10</th>\n",
       "      <td>1002</td>\n",
       "      <td>6</td>\n",
       "      <td>15.0</td>\n",
       "      <td>117.0</td>\n",
       "      <td>4</td>\n",
       "      <td>11</td>\n",
       "      <td>Стерлитамак</td>\n",
       "      <td>smart</td>\n",
       "      <td>15</td>\n",
       "      <td>50</td>\n",
       "      <td>500</td>\n",
       "      <td>550</td>\n",
       "      <td>200</td>\n",
       "      <td>3</td>\n",
       "      <td>3</td>\n",
       "      <td>550.0</td>\n",
       "    </tr>\n",
       "    <tr>\n",
       "      <th>11</th>\n",
       "      <td>1002</td>\n",
       "      <td>7</td>\n",
       "      <td>26.0</td>\n",
       "      <td>214.0</td>\n",
       "      <td>11</td>\n",
       "      <td>18</td>\n",
       "      <td>Стерлитамак</td>\n",
       "      <td>smart</td>\n",
       "      <td>15</td>\n",
       "      <td>50</td>\n",
       "      <td>500</td>\n",
       "      <td>550</td>\n",
       "      <td>200</td>\n",
       "      <td>3</td>\n",
       "      <td>3</td>\n",
       "      <td>1150.0</td>\n",
       "    </tr>\n",
       "    <tr>\n",
       "      <th>12</th>\n",
       "      <td>1002</td>\n",
       "      <td>8</td>\n",
       "      <td>42.0</td>\n",
       "      <td>289.0</td>\n",
       "      <td>13</td>\n",
       "      <td>20</td>\n",
       "      <td>Стерлитамак</td>\n",
       "      <td>smart</td>\n",
       "      <td>15</td>\n",
       "      <td>50</td>\n",
       "      <td>500</td>\n",
       "      <td>550</td>\n",
       "      <td>200</td>\n",
       "      <td>3</td>\n",
       "      <td>3</td>\n",
       "      <td>1550.0</td>\n",
       "    </tr>\n",
       "    <tr>\n",
       "      <th>...</th>\n",
       "      <td>...</td>\n",
       "      <td>...</td>\n",
       "      <td>...</td>\n",
       "      <td>...</td>\n",
       "      <td>...</td>\n",
       "      <td>...</td>\n",
       "      <td>...</td>\n",
       "      <td>...</td>\n",
       "      <td>...</td>\n",
       "      <td>...</td>\n",
       "      <td>...</td>\n",
       "      <td>...</td>\n",
       "      <td>...</td>\n",
       "      <td>...</td>\n",
       "      <td>...</td>\n",
       "      <td>...</td>\n",
       "    </tr>\n",
       "    <tr>\n",
       "      <th>3209</th>\n",
       "      <td>1489</td>\n",
       "      <td>8</td>\n",
       "      <td>0.0</td>\n",
       "      <td>0.0</td>\n",
       "      <td>17</td>\n",
       "      <td>11</td>\n",
       "      <td>Санкт-Петербург</td>\n",
       "      <td>smart</td>\n",
       "      <td>15</td>\n",
       "      <td>50</td>\n",
       "      <td>500</td>\n",
       "      <td>550</td>\n",
       "      <td>200</td>\n",
       "      <td>3</td>\n",
       "      <td>3</td>\n",
       "      <td>550.0</td>\n",
       "    </tr>\n",
       "    <tr>\n",
       "      <th>3210</th>\n",
       "      <td>1489</td>\n",
       "      <td>9</td>\n",
       "      <td>0.0</td>\n",
       "      <td>0.0</td>\n",
       "      <td>32</td>\n",
       "      <td>17</td>\n",
       "      <td>Санкт-Петербург</td>\n",
       "      <td>smart</td>\n",
       "      <td>15</td>\n",
       "      <td>50</td>\n",
       "      <td>500</td>\n",
       "      <td>550</td>\n",
       "      <td>200</td>\n",
       "      <td>3</td>\n",
       "      <td>3</td>\n",
       "      <td>950.0</td>\n",
       "    </tr>\n",
       "    <tr>\n",
       "      <th>3211</th>\n",
       "      <td>1489</td>\n",
       "      <td>10</td>\n",
       "      <td>0.0</td>\n",
       "      <td>0.0</td>\n",
       "      <td>21</td>\n",
       "      <td>20</td>\n",
       "      <td>Санкт-Петербург</td>\n",
       "      <td>smart</td>\n",
       "      <td>15</td>\n",
       "      <td>50</td>\n",
       "      <td>500</td>\n",
       "      <td>550</td>\n",
       "      <td>200</td>\n",
       "      <td>3</td>\n",
       "      <td>3</td>\n",
       "      <td>1550.0</td>\n",
       "    </tr>\n",
       "    <tr>\n",
       "      <th>3212</th>\n",
       "      <td>1489</td>\n",
       "      <td>11</td>\n",
       "      <td>0.0</td>\n",
       "      <td>0.0</td>\n",
       "      <td>20</td>\n",
       "      <td>18</td>\n",
       "      <td>Санкт-Петербург</td>\n",
       "      <td>smart</td>\n",
       "      <td>15</td>\n",
       "      <td>50</td>\n",
       "      <td>500</td>\n",
       "      <td>550</td>\n",
       "      <td>200</td>\n",
       "      <td>3</td>\n",
       "      <td>3</td>\n",
       "      <td>1150.0</td>\n",
       "    </tr>\n",
       "    <tr>\n",
       "      <th>3213</th>\n",
       "      <td>1489</td>\n",
       "      <td>12</td>\n",
       "      <td>0.0</td>\n",
       "      <td>0.0</td>\n",
       "      <td>35</td>\n",
       "      <td>17</td>\n",
       "      <td>Санкт-Петербург</td>\n",
       "      <td>smart</td>\n",
       "      <td>15</td>\n",
       "      <td>50</td>\n",
       "      <td>500</td>\n",
       "      <td>550</td>\n",
       "      <td>200</td>\n",
       "      <td>3</td>\n",
       "      <td>3</td>\n",
       "      <td>950.0</td>\n",
       "    </tr>\n",
       "  </tbody>\n",
       "</table>\n",
       "<p>2229 rows × 16 columns</p>\n",
       "</div>"
      ],
      "text/plain": [
       "      user_id  month  count_calls  sum_duration  sum_value_messages  \\\n",
       "8        1001     11         59.0         430.0                   0   \n",
       "9        1001     12         63.0         414.0                   0   \n",
       "10       1002      6         15.0         117.0                   4   \n",
       "11       1002      7         26.0         214.0                  11   \n",
       "12       1002      8         42.0         289.0                  13   \n",
       "...       ...    ...          ...           ...                 ...   \n",
       "3209     1489      8          0.0           0.0                  17   \n",
       "3210     1489      9          0.0           0.0                  32   \n",
       "3211     1489     10          0.0           0.0                  21   \n",
       "3212     1489     11          0.0           0.0                  20   \n",
       "3213     1489     12          0.0           0.0                  35   \n",
       "\n",
       "      sum_value_inet_traffic_Gb             city tariff  \\\n",
       "8                            19           Москва  smart   \n",
       "9                            14           Москва  smart   \n",
       "10                           11      Стерлитамак  smart   \n",
       "11                           18      Стерлитамак  smart   \n",
       "12                           20      Стерлитамак  smart   \n",
       "...                         ...              ...    ...   \n",
       "3209                         11  Санкт-Петербург  smart   \n",
       "3210                         17  Санкт-Петербург  smart   \n",
       "3211                         20  Санкт-Петербург  smart   \n",
       "3212                         18  Санкт-Петербург  smart   \n",
       "3213                         17  Санкт-Петербург  smart   \n",
       "\n",
       "      Gb_per_month_included  messages_included  minutes_included  \\\n",
       "8                        15                 50               500   \n",
       "9                        15                 50               500   \n",
       "10                       15                 50               500   \n",
       "11                       15                 50               500   \n",
       "12                       15                 50               500   \n",
       "...                     ...                ...               ...   \n",
       "3209                     15                 50               500   \n",
       "3210                     15                 50               500   \n",
       "3211                     15                 50               500   \n",
       "3212                     15                 50               500   \n",
       "3213                     15                 50               500   \n",
       "\n",
       "      rub_monthly_fee  rub_per_gb  rub_per_message  rub_per_minute  \\\n",
       "8                 550         200                3               3   \n",
       "9                 550         200                3               3   \n",
       "10                550         200                3               3   \n",
       "11                550         200                3               3   \n",
       "12                550         200                3               3   \n",
       "...               ...         ...              ...             ...   \n",
       "3209              550         200                3               3   \n",
       "3210              550         200                3               3   \n",
       "3211              550         200                3               3   \n",
       "3212              550         200                3               3   \n",
       "3213              550         200                3               3   \n",
       "\n",
       "      revenue_rub  \n",
       "8          1350.0  \n",
       "9           550.0  \n",
       "10          550.0  \n",
       "11         1150.0  \n",
       "12         1550.0  \n",
       "...           ...  \n",
       "3209        550.0  \n",
       "3210        950.0  \n",
       "3211       1550.0  \n",
       "3212       1150.0  \n",
       "3213        950.0  \n",
       "\n",
       "[2229 rows x 16 columns]"
      ]
     },
     "execution_count": 42,
     "metadata": {},
     "output_type": "execute_result"
    }
   ],
   "source": [
    "users_smart"
   ]
  },
  {
   "cell_type": "markdown",
   "metadata": {},
   "source": [
    "По числовому описанию, у абонентов или абонента данного тарифа был месяц в котором лимит разговоров превышен почти в 3 раза.\n",
    "По среднему и медиане, большинство абонентов укладываются в предоставляемый им лимит."
   ]
  },
  {
   "cell_type": "code",
   "execution_count": 43,
   "metadata": {},
   "outputs": [],
   "source": [
    "def var_tariff(users_tariff):\n",
    "    numeric_col = ['sum_duration', 'sum_value_messages', 'sum_value_inet_traffic_Gb']\n",
    "    for col in numeric_col:\n",
    "        sns.boxplot(users_tariff[col])\n",
    "        plt.title('Диаграмма размаха для ' + col)\n",
    "        plt.show()\n",
    "    \n",
    "        # расчёт выбросов по квартилям\n",
    "        q75,q25 = np.percentile(users_tariff.loc[:,col],[75,25])\n",
    "        intr_qr = q75-q25\n",
    "\n",
    "        max = q75+(1.5*intr_qr)\n",
    "        min = q25-(1.5*intr_qr)\n",
    "    \n",
    "        print('Все что ниже', min, 'Все что выше', max, '- является выбросом, по определению (справочные данные)')\n",
    "        print('Медиана = ', users_tariff[col].median())\n",
    "        print('Среднее = ', users_tariff[col].mean())\n",
    "    \n",
    "        #дисперсия\n",
    "        print(f'Дисперсия {col} = ', np.var(users_tariff[col], ddof=1))\n",
    "    \n",
    "        # Стандартное отклонение\n",
    "        print(f'Стандартное отклонение {col} = ', np.std(users_tariff[col], ddof=1))\n",
    "    \n",
    "        sns.histplot(users_tariff[col],bins=20)\n",
    "        plt.title('Гистограмма частотности ' + col)\n",
    "        plt.show()\n",
    "    \n",
    "        users_tariff[col].plot.kde()\n",
    "        plt.title('Гистограмма плотности ' + col)\n",
    "        plt.show()\n",
    "    \n",
    "        # оценим количество абонентов за пределами 1 и 3 квартилей по каждому показателю.\n",
    "        print('Количество записей за пределами 1 и 3 квартилей')\n",
    "        print(len(users_tariff[(users_tariff[col] <= min) | (users_tariff[col] >= max)]))\n",
    "    \n",
    "        print(users_tariff[(users_tariff[col] <= min) | (users_tariff[col] >= max)]\n",
    "              [['user_id','month', col]])\n",
    "    \n",
    "    "
   ]
  },
  {
   "cell_type": "code",
   "execution_count": 44,
   "metadata": {
    "scrolled": false
   },
   "outputs": [
    {
     "data": {
      "image/png": "[encoded data removed]",
      "text/plain": [
       "<Figure size 432x288 with 1 Axes>"
      ]
     },
     "metadata": {
      "needs_background": "light"
     },
     "output_type": "display_data"
    },
    {
     "name": "stdout",
     "output_type": "stream",
     "text": [
      "Все что ниже -112.5 Все что выше 939.5 - является выбросом, по определению (справочные данные)\n",
      "Медиана =  422.0\n",
      "Среднее =  417.9349484073576\n",
      "Дисперсия sum_duration =  36219.315784344246\n",
      "Стандартное отклонение sum_duration =  190.3137298892128\n"
     ]
    },
    {
     "data": {
      "image/png": "[encoded data removed]",
      "text/plain": [
       "<Figure size 432x288 with 1 Axes>"
      ]
     },
     "metadata": {
      "needs_background": "light"
     },
     "output_type": "display_data"
    },
    {
     "data": {
      "image/png": "[encoded data removed]",
      "text/plain": [
       "<Figure size 432x288 with 1 Axes>"
      ]
     },
     "metadata": {
      "needs_background": "light"
     },
     "output_type": "display_data"
    },
    {
     "name": "stdout",
     "output_type": "stream",
     "text": [
      "Количество записей за пределами 1 и 3 квартилей\n",
      "10\n",
      "      user_id  month  sum_duration\n",
      "1078     1173      8        1000.0\n",
      "1359     1216     12        1435.0\n",
      "1452     1229     12        1022.0\n",
      "1622     1261     12        1074.0\n",
      "1961     1313     12         964.0\n",
      "1998     1319     10        1005.0\n",
      "2824     1443     10         965.0\n",
      "2856     1451     12        1144.0\n",
      "2932     1460     11         954.0\n",
      "3108     1486     12        1007.0\n"
     ]
    },
    {
     "data": {
      "image/png": "[encoded data removed]",
      "text/plain": [
       "<Figure size 432x288 with 1 Axes>"
      ]
     },
     "metadata": {
      "needs_background": "light"
     },
     "output_type": "display_data"
    },
    {
     "name": "stdout",
     "output_type": "stream",
     "text": [
      "Все что ниже -51.5 Все что выше 112.5 - является выбросом, по определению (справочные данные)\n",
      "Медиана =  28.0\n",
      "Среднее =  33.384028712427096\n",
      "Дисперсия sum_value_messages =  796.8129584480083\n",
      "Стандартное отклонение sum_value_messages =  28.22787555676141\n"
     ]
    },
    {
     "data": {
      "image/png": "[encoded data removed]",
      "text/plain": [
       "<Figure size 432x288 with 1 Axes>"
      ]
     },
     "metadata": {
      "needs_background": "light"
     },
     "output_type": "display_data"
    },
    {
     "data": {
      "image/png": "[encoded data removed]",
      "text/plain": [
       "<Figure size 432x288 with 1 Axes>"
      ]
     },
     "metadata": {
      "needs_background": "light"
     },
     "output_type": "display_data"
    },
    {
     "name": "stdout",
     "output_type": "stream",
     "text": [
      "Количество записей за пределами 1 и 3 квартилей\n",
      "14\n",
      "      user_id  month  sum_value_messages\n",
      "695      1112     12                 143\n",
      "1341     1212     12                 129\n",
      "1785     1285      6                 117\n",
      "1788     1285      9                 114\n",
      "1853     1295     12                 115\n",
      "2026     1324      6                 134\n",
      "2027     1324      7                 137\n",
      "2028     1324      8                 134\n",
      "2029     1324      9                 136\n",
      "2030     1324     10                 139\n",
      "2031     1324     11                 124\n",
      "2032     1324     12                 125\n",
      "3102     1484     10                 127\n",
      "3103     1484     11                 121\n"
     ]
    },
    {
     "data": {
      "image/png": "[encoded data removed]",
      "text/plain": [
       "<Figure size 432x288 with 1 Axes>"
      ]
     },
     "metadata": {
      "needs_background": "light"
     },
     "output_type": "display_data"
    },
    {
     "name": "stdout",
     "output_type": "stream",
     "text": [
      "Все что ниже 2.5 Все что выше 30.5 - является выбросом, по определению (справочные данные)\n",
      "Медиана =  17.0\n",
      "Среднее =  16.35935397039031\n",
      "Дисперсия sum_value_inet_traffic_Gb =  33.16030407078875\n",
      "Стандартное отклонение sum_value_inet_traffic_Gb =  5.758498421532192\n"
     ]
    },
    {
     "data": {
      "image/png": "[encoded data removed]",
      "text/plain": [
       "<Figure size 432x288 with 1 Axes>"
      ]
     },
     "metadata": {
      "needs_background": "light"
     },
     "output_type": "display_data"
    },
    {
     "data": {
      "image/png": "[encoded data removed]",
      "text/plain": [
       "<Figure size 432x288 with 1 Axes>"
      ]
     },
     "metadata": {
      "needs_background": "light"
     },
     "output_type": "display_data"
    },
    {
     "name": "stdout",
     "output_type": "stream",
     "text": [
      "Количество записей за пределами 1 и 3 квартилей\n",
      "53\n",
      "      user_id  month  sum_value_inet_traffic_Gb\n",
      "42       1006      2                          2\n",
      "108      1015      4                          1\n",
      "260      1042     12                         37\n",
      "292      1047     10                          2\n",
      "315      1051      5                          2\n",
      "423      1066      8                         31\n",
      "577      1093      6                          1\n",
      "611      1098      8                         31\n",
      "615      1098     12                         36\n",
      "659      1105      9                          1\n",
      "696      1113      1                          1\n",
      "708      1114      7                          2\n",
      "714      1115      7                          1\n",
      "840      1135      1                          2\n",
      "853      1136     12                         31\n",
      "884      1144      4                          1\n",
      "1000     1159     12                         35\n",
      "1069     1172      6                         34\n",
      "1073     1172     10                         33\n",
      "1201     1189      1                          1\n",
      "1214     1191      6                          2\n",
      "1218     1191     10                          2\n",
      "1327     1210      7                          2\n",
      "1450     1229     10                          2\n",
      "1507     1241      8                         31\n",
      "1600     1256      9                          2\n",
      "1620     1261     10                          2\n",
      "1621     1261     11                         32\n",
      "1622     1261     12                         32\n",
      "1667     1268      5                          2\n",
      "1781     1285      2                          1\n",
      "1782     1285      3                          2\n",
      "1793     1286     12                         35\n",
      "1795     1287     10                         31\n",
      "1886     1301      9                          1\n",
      "1913     1306     11                          1\n",
      "1914     1306     12                         35\n",
      "1978     1316     11                          1\n",
      "2238     1359      7                          1\n",
      "2278     1365     10                          0\n",
      "2351     1376      5                          1\n",
      "2420     1384      4                          1\n",
      "2442     1386      9                         31\n",
      "2679     1423      1                          2\n",
      "2698     1425      2                          2\n",
      "2804     1439      6                          1\n",
      "2830     1446      8                          0\n",
      "2951     1464     12                         31\n",
      "3080     1482      2                          1\n",
      "3106     1486     10                          1\n",
      "3107     1486     11                         36\n",
      "3108     1486     12                         38\n",
      "3172     1499      9                          2\n"
     ]
    }
   ],
   "source": [
    "var_tariff(users_smart)"
   ]
  },
  {
   "cell_type": "code",
   "execution_count": 45,
   "metadata": {},
   "outputs": [
    {
     "data": {
      "text/plain": [
       "44"
      ]
     },
     "execution_count": 45,
     "metadata": {},
     "output_type": "execute_result"
    }
   ],
   "source": [
    "# Количество абонентов выходящих за пределы 1 и 3 квартилей по интернет трафику\n",
    "users_smart[(users_smart['sum_value_inet_traffic_Gb'] <= 2.5) | (users_smart['sum_value_inet_traffic_Gb'] >= 30.5)]['user_id'].value_counts().count()"
   ]
  },
  {
   "cell_type": "code",
   "execution_count": 46,
   "metadata": {},
   "outputs": [
    {
     "data": {
      "text/plain": [
       "62"
      ]
     },
     "execution_count": 46,
     "metadata": {},
     "output_type": "execute_result"
    }
   ],
   "source": [
    "len(users_smart[users_smart['sum_value_messages'] == 0]['user_id'].unique())"
   ]
  },
  {
   "cell_type": "markdown",
   "metadata": {},
   "source": [
    "Точно можно сказать, что клиенты очень разнородные, об этом говорит стандартное отклонение.\n",
    "\n",
    "Пройдёмся по показателям:\n",
    "1) Звонки\n",
    " - Среднестатистический абонент тарифа Smart использует 421 минуту разговора из 500\n",
    " - Данные имеют нормальное распределение\n",
    " - Незначительная скошенность влево\n",
    " - По данному показателю, только 10 абонентов выходят за пределы 1 и 3 квартилей\n",
    " - Разные абоненты и только в одном месяце, преобладает декабрь (аномальный месяц, нужно всех поздравить с Наступающим)\n",
    " \n",
    "2) Текстовые сообщения\n",
    " - Среднестатистический абонент тарифа Smart использует 34 сообщений из 50\n",
    " - Данные имеют распределение Пуассона, скорее всего из-за того что это выборка\n",
    " - 6 абонентам стоит поискать или дополнительную услугу или новый тариф\n",
    " - 62 абонента не пользуются смс сообщениями - 307 записей.\n",
    " \n",
    "3) Интернет трафик\n",
    " - Среднестатистический абонент тарифа Smart превышает предоплаченный трафик на 2 Гб\n",
    " - Данные имеют нормальное распределение\n",
    " - Незначительная скошенность влево\n",
    " - По данному показателю, 34 абонента выходят за пределы 1 и 3 квартилей !!!(обновлённые данные 44)\n",
    " - Этим абонентам стоит поискать или дополнительную услугу или новый тариф"
   ]
  },
  {
   "cell_type": "markdown",
   "metadata": {},
   "source": [
    "### Тариф Ultra"
   ]
  },
  {
   "cell_type": "markdown",
   "metadata": {},
   "source": [
    "Как считали ранее:\n",
    "    \n",
    "Всего у нас 500 абонентов из них 149 - пользуется тарифом Ultra."
   ]
  },
  {
   "cell_type": "code",
   "execution_count": 47,
   "metadata": {
    "scrolled": false
   },
   "outputs": [
    {
     "data": {
      "image/png": "[encoded data removed]",
      "text/plain": [
       "<Figure size 432x288 with 1 Axes>"
      ]
     },
     "metadata": {
      "needs_background": "light"
     },
     "output_type": "display_data"
    },
    {
     "name": "stdout",
     "output_type": "stream",
     "text": [
      "Все что ниже -418.0 Все что выше 1454.0 - является выбросом, по определению (справочные данные)\n",
      "Медиана =  518.0\n",
      "Среднее =  526.6233502538071\n",
      "Дисперсия sum_duration =  100873.63339730089\n",
      "Стандартное отклонение sum_duration =  317.60609785912624\n"
     ]
    },
    {
     "data": {
      "image/png": "[encoded data removed]",
      "text/plain": [
       "<Figure size 432x288 with 1 Axes>"
      ]
     },
     "metadata": {
      "needs_background": "light"
     },
     "output_type": "display_data"
    },
    {
     "data": {
      "image/png": "[encoded data removed]",
      "text/plain": [
       "<Figure size 432x288 with 1 Axes>"
      ]
     },
     "metadata": {
      "needs_background": "light"
     },
     "output_type": "display_data"
    },
    {
     "name": "stdout",
     "output_type": "stream",
     "text": [
      "Количество записей за пределами 1 и 3 квартилей\n",
      "2\n",
      "      user_id  month  sum_duration\n",
      "2360     1377      3        1609.0\n",
      "2973     1467     12        1673.0\n"
     ]
    },
    {
     "data": {
      "image/png": "[encoded data removed]",
      "text/plain": [
       "<Figure size 432x288 with 1 Axes>"
      ]
     },
     "metadata": {
      "needs_background": "light"
     },
     "output_type": "display_data"
    },
    {
     "name": "stdout",
     "output_type": "stream",
     "text": [
      "Все что ниже -103.5 Все что выше 188.5 - является выбросом, по определению (справочные данные)\n",
      "Медиана =  38.0\n",
      "Среднее =  49.36345177664975\n",
      "Дисперсия sum_value_messages =  2285.2661425446827\n",
      "Стандартное отклонение sum_value_messages =  47.804457350174815\n"
     ]
    },
    {
     "data": {
      "image/png": "[encoded data removed]",
      "text/plain": [
       "<Figure size 432x288 with 1 Axes>"
      ]
     },
     "metadata": {
      "needs_background": "light"
     },
     "output_type": "display_data"
    },
    {
     "data": {
      "image/png": "[encoded data removed]",
      "text/plain": [
       "<Figure size 432x288 with 1 Axes>"
      ]
     },
     "metadata": {
      "needs_background": "light"
     },
     "output_type": "display_data"
    },
    {
     "name": "stdout",
     "output_type": "stream",
     "text": [
      "Количество записей за пределами 1 и 3 квартилей\n",
      "8\n",
      "      user_id  month  sum_value_messages\n",
      "183      1028     10                 223\n",
      "1027     1165     11                 197\n",
      "1028     1165     12                 224\n",
      "1035     1167     10                 190\n",
      "1883     1300     10                 191\n",
      "3194     1231      6                 201\n",
      "3195     1231      7                 211\n",
      "3200     1231     12                 191\n"
     ]
    },
    {
     "data": {
      "image/png": "[encoded data removed]",
      "text/plain": [
       "<Figure size 432x288 with 1 Axes>"
      ]
     },
     "metadata": {
      "needs_background": "light"
     },
     "output_type": "display_data"
    },
    {
     "name": "stdout",
     "output_type": "stream",
     "text": [
      "Все что ниже -10.5 Все что выше 49.5 - является выбросом, по определению (справочные данные)\n",
      "Медиана =  19.0\n",
      "Среднее =  19.525888324873097\n",
      "Дисперсия sum_value_inet_traffic_Gb =  97.33494903223153\n",
      "Стандартное отклонение sum_value_inet_traffic_Gb =  9.865847608403017\n"
     ]
    },
    {
     "data": {
      "image/png": "[encoded data removed]",
      "text/plain": [
       "<Figure size 432x288 with 1 Axes>"
      ]
     },
     "metadata": {
      "needs_background": "light"
     },
     "output_type": "display_data"
    },
    {
     "data": {
      "image/png": "[encoded data removed]",
      "text/plain": [
       "<Figure size 432x288 with 1 Axes>"
      ]
     },
     "metadata": {
      "needs_background": "light"
     },
     "output_type": "display_data"
    },
    {
     "name": "stdout",
     "output_type": "stream",
     "text": [
      "Количество записей за пределами 1 и 3 квартилей\n",
      "0\n",
      "Empty DataFrame\n",
      "Columns: [user_id, month, sum_value_inet_traffic_Gb]\n",
      "Index: []\n"
     ]
    }
   ],
   "source": [
    "users_ultra = fin_df[fin_df['tariff'] == 'ultra']\n",
    "var_tariff(users_ultra)"
   ]
  },
  {
   "cell_type": "markdown",
   "metadata": {},
   "source": [
    "Пройдёмся по показателям абонентов тарифного плана Ultra:\n",
    "1) Звонки\n",
    " - Среднестатистический абонент тарифа Ultra использует 545 минут из 3000\n",
    " - Данные имеют нормальное распределение\n",
    " - Незначительная скошенность вправо\n",
    " - По данному показателю, 2 абонента выходят за пределы 1 и 3 квартилей, но не за пределы тарифа, больше 1500 минут никто не проговорил.\n",
    " \n",
    "2) Текстовые сообщения\n",
    " - Среднестатистический абонент тарифа Ultra отправляет 50 сообщений из 1000\n",
    " - Более 250 сообщений из выборки никто не отправлял\n",
    " - Данные имеют распределение Пуассона, скорее всего из-за того что это выборка\n",
    " - По данному показателю, 4 абонента выходят за пределы 1 и 3 квартилей, но не за пределы тарифа.\n",
    " \n",
    "3) Интернет трафик\n",
    " - Среднестатистический абонент тарифа Ultra использует 20 Гб интернет трафика из 30 Гб\n",
    " - Данные имеют нормальное распределение\n",
    " - Незначительная скошенность влево\n",
    " - Все абоненты находятся в пределах 1 и 3 квартилей, по данному показателю"
   ]
  },
  {
   "cell_type": "markdown",
   "metadata": {},
   "source": [
    "Итого:\n",
    "Премиальный тариф Ultra превосходит потребности своих абонентов, нежели Smart, но и платят они абонентской платы почти в 4 раза больше.\n",
    "Посмотрим кто приносит больший доход компании."
   ]
  },
  {
   "cell_type": "markdown",
   "metadata": {},
   "source": [
    "Сводная таблица по статистике"
   ]
  },
  {
   "cell_type": "code",
   "execution_count": 48,
   "metadata": {},
   "outputs": [
    {
     "data": {
      "text/html": [
       "<div>\n",
       "<style scoped>\n",
       "    .dataframe tbody tr th:only-of-type {\n",
       "        vertical-align: middle;\n",
       "    }\n",
       "\n",
       "    .dataframe tbody tr th {\n",
       "        vertical-align: top;\n",
       "    }\n",
       "\n",
       "    .dataframe thead tr th {\n",
       "        text-align: left;\n",
       "    }\n",
       "\n",
       "    .dataframe thead tr:last-of-type th {\n",
       "        text-align: right;\n",
       "    }\n",
       "</style>\n",
       "<table border=\"1\" class=\"dataframe\">\n",
       "  <thead>\n",
       "    <tr>\n",
       "      <th></th>\n",
       "      <th colspan=\"3\" halign=\"left\">mean</th>\n",
       "      <th colspan=\"3\" halign=\"left\">std</th>\n",
       "      <th colspan=\"3\" halign=\"left\">var</th>\n",
       "    </tr>\n",
       "    <tr>\n",
       "      <th></th>\n",
       "      <th>sum_duration</th>\n",
       "      <th>sum_value_inet_traffic_Gb</th>\n",
       "      <th>sum_value_messages</th>\n",
       "      <th>sum_duration</th>\n",
       "      <th>sum_value_inet_traffic_Gb</th>\n",
       "      <th>sum_value_messages</th>\n",
       "      <th>sum_duration</th>\n",
       "      <th>sum_value_inet_traffic_Gb</th>\n",
       "      <th>sum_value_messages</th>\n",
       "    </tr>\n",
       "    <tr>\n",
       "      <th>tariff</th>\n",
       "      <th></th>\n",
       "      <th></th>\n",
       "      <th></th>\n",
       "      <th></th>\n",
       "      <th></th>\n",
       "      <th></th>\n",
       "      <th></th>\n",
       "      <th></th>\n",
       "      <th></th>\n",
       "    </tr>\n",
       "  </thead>\n",
       "  <tbody>\n",
       "    <tr>\n",
       "      <th>smart</th>\n",
       "      <td>417.934948</td>\n",
       "      <td>16.359354</td>\n",
       "      <td>33.384029</td>\n",
       "      <td>190.313730</td>\n",
       "      <td>5.758498</td>\n",
       "      <td>28.227876</td>\n",
       "      <td>36219.315784</td>\n",
       "      <td>33.160304</td>\n",
       "      <td>796.812958</td>\n",
       "    </tr>\n",
       "    <tr>\n",
       "      <th>ultra</th>\n",
       "      <td>526.623350</td>\n",
       "      <td>19.525888</td>\n",
       "      <td>49.363452</td>\n",
       "      <td>317.606098</td>\n",
       "      <td>9.865848</td>\n",
       "      <td>47.804457</td>\n",
       "      <td>100873.633397</td>\n",
       "      <td>97.334949</td>\n",
       "      <td>2285.266143</td>\n",
       "    </tr>\n",
       "  </tbody>\n",
       "</table>\n",
       "</div>"
      ],
      "text/plain": [
       "               mean                                                       std  \\\n",
       "       sum_duration sum_value_inet_traffic_Gb sum_value_messages sum_duration   \n",
       "tariff                                                                          \n",
       "smart    417.934948                 16.359354          33.384029   190.313730   \n",
       "ultra    526.623350                 19.525888          49.363452   317.606098   \n",
       "\n",
       "                                                               var  \\\n",
       "       sum_value_inet_traffic_Gb sum_value_messages   sum_duration   \n",
       "tariff                                                               \n",
       "smart                   5.758498          28.227876   36219.315784   \n",
       "ultra                   9.865848          47.804457  100873.633397   \n",
       "\n",
       "                                                     \n",
       "       sum_value_inet_traffic_Gb sum_value_messages  \n",
       "tariff                                               \n",
       "smart                  33.160304         796.812958  \n",
       "ultra                  97.334949        2285.266143  "
      ]
     },
     "execution_count": 48,
     "metadata": {},
     "output_type": "execute_result"
    }
   ],
   "source": [
    "fin_df.pivot_table(index='tariff', values=['sum_duration', 'sum_value_messages', 'sum_value_inet_traffic_Gb'],\n",
    "                       aggfunc=['mean', 'std', 'var'])"
   ]
  },
  {
   "cell_type": "code",
   "execution_count": 49,
   "metadata": {
    "scrolled": false
   },
   "outputs": [
    {
     "data": {
      "image/png": "[encoded data removed]",
      "text/plain": [
       "<Figure size 720x576 with 1 Axes>"
      ]
     },
     "metadata": {},
     "output_type": "display_data"
    },
    {
     "data": {
      "image/png": "[encoded data removed]",
      "text/plain": [
       "<Figure size 720x576 with 1 Axes>"
      ]
     },
     "metadata": {},
     "output_type": "display_data"
    },
    {
     "data": {
      "image/png": "[encoded data removed]",
      "text/plain": [
       "<Figure size 720x576 with 1 Axes>"
      ]
     },
     "metadata": {},
     "output_type": "display_data"
    }
   ],
   "source": [
    "# сравним объемы потребления услуг на разных тарифах\n",
    "\n",
    "plt.style.use('ggplot')\n",
    "\n",
    "numeric_col = ['sum_duration', 'sum_value_messages', 'sum_value_inet_traffic_Gb']\n",
    "for col in numeric_col:\n",
    "    fin_df.groupby('tariff')[col].plot.hist(alpha=0.5, legend=True, bins=25, figsize=(10,8));\n",
    "    \n",
    "        \n",
    "    plt.legend(['Смарт', 'Ультра'])\n",
    "    plt.title(f'Частотная диаграмма распределения {col}')\n",
    "    plt.xlabel(col)\n",
    "    plt.ylabel('Frequency')\n",
    "    plt.show()"
   ]
  },
  {
   "cell_type": "markdown",
   "metadata": {},
   "source": [
    "Распределения потребления услуг на разных тарифах имеют схожие распределения. По СМС сообщениям, на тарифе Ultra, так же как и на тарифе Smart есть всплеск в 0, тенденция к тому, что СМС постепенно уходят в прошлое."
   ]
  },
  {
   "cell_type": "markdown",
   "metadata": {},
   "source": [
    "## Проверка гипотез"
   ]
  },
  {
   "cell_type": "markdown",
   "metadata": {},
   "source": [
    "### Гипотеза №1\n",
    "\n",
    " -  Н0 Средняя выручка пользователей тарифов «Ультра» и «Смарт» одинаковы."
   ]
  },
  {
   "cell_type": "code",
   "execution_count": 50,
   "metadata": {},
   "outputs": [
    {
     "data": {
      "text/plain": [
       "2071.0659898477156"
      ]
     },
     "execution_count": 50,
     "metadata": {},
     "output_type": "execute_result"
    }
   ],
   "source": [
    "# средняя выручка ultra - 149 абонентов\n",
    "mean_ultra_rev_rub = users_ultra['revenue_rub'].mean()\n",
    "mean_ultra_rev_rub"
   ]
  },
  {
   "cell_type": "code",
   "execution_count": 51,
   "metadata": {},
   "outputs": [
    {
     "data": {
      "text/plain": [
       "1294.6393001345896"
      ]
     },
     "execution_count": 51,
     "metadata": {},
     "output_type": "execute_result"
    }
   ],
   "source": [
    "# средняя выручка smart - 351\n",
    "mean_smart_rev_rub = users_smart['revenue_rub'].mean()\n",
    "mean_smart_rev_rub"
   ]
  },
  {
   "cell_type": "code",
   "execution_count": 52,
   "metadata": {},
   "outputs": [
    {
     "name": "stdout",
     "output_type": "stream",
     "text": [
      "p-значение: 2.7240946993530856e-246\n",
      "Отвергаем нулевую гипотезу\n"
     ]
    }
   ],
   "source": [
    "alpha = .05# критический уровень статистической значимости\n",
    "\n",
    "results = st.ttest_ind(users_smart['revenue_rub'], users_ultra['revenue_rub'], equal_var=False)\n",
    "\n",
    "print('p-значение:', results.pvalue)\n",
    "\n",
    "if (results.pvalue < alpha):\n",
    "    print(\"Отвергаем нулевую гипотезу\")\n",
    "else:\n",
    "    print(\"Не получилось отвергнуть нулевую гипотезу\")\n"
   ]
  },
  {
   "cell_type": "markdown",
   "metadata": {},
   "source": [
    "Гипотеза №1 не подтвердилась, средняя выручка пользователей тарифов «Ультра» и «Смарт» различаются.\n",
    "\n",
    "Критический уровень значимости 5%. Применяемый метод для сравнения двух выборок. (st.ttest_ind)"
   ]
  },
  {
   "cell_type": "markdown",
   "metadata": {},
   "source": [
    "### Гипотеза №2.\n",
    "\n",
    " - Н0 Средняя выручка пользователи из Москвы не отличается от выручки пользователей из других регионов"
   ]
  },
  {
   "cell_type": "code",
   "execution_count": 53,
   "metadata": {
    "scrolled": true
   },
   "outputs": [
    {
     "name": "stdout",
     "output_type": "stream",
     "text": [
      "p-значение: 0.531666503831252\n",
      "Не получилось отвергнуть нулевую гипотезу\n"
     ]
    }
   ],
   "source": [
    "alpha = .05# критический уровень статистической значимости\n",
    "\n",
    "results = st.ttest_ind(fin_df[fin_df['city'] != 'Москва']['revenue_rub'],\n",
    "                       fin_df[fin_df['city'] == 'Москва']['revenue_rub'],\n",
    "                       equal_var=True)\n",
    "\n",
    "print('p-значение:', results.pvalue)\n",
    "\n",
    "if (results.pvalue < alpha):\n",
    "    print(\"Отвергаем нулевую гипотезу\")\n",
    "else:\n",
    "    print(\"Не получилось отвергнуть нулевую гипотезу\")\n"
   ]
  },
  {
   "cell_type": "markdown",
   "metadata": {},
   "source": [
    "Между средними выручками пользователями из Москвы и других регионов нет статистически значимой разницы. Если разница и есть будем считать ее случайной."
   ]
  },
  {
   "cell_type": "code",
   "execution_count": 54,
   "metadata": {
    "scrolled": false
   },
   "outputs": [
    {
     "name": "stdout",
     "output_type": "stream",
     "text": [
      "Средняя выручка с пользователя из Москвы =  1550.8052373158755\n"
     ]
    }
   ],
   "source": [
    "print('Средняя выручка с пользователя из Москвы = ',fin_df[fin_df['city'] == 'Москва']['revenue_rub'].mean())"
   ]
  },
  {
   "cell_type": "code",
   "execution_count": 55,
   "metadata": {},
   "outputs": [
    {
     "name": "stdout",
     "output_type": "stream",
     "text": [
      "Средняя выручка с пользователя НЕ из Москвы =  1528.3169419900116\n"
     ]
    }
   ],
   "source": [
    "print('Средняя выручка с пользователя НЕ из Москвы = ',fin_df[fin_df['city'] != 'Москва']['revenue_rub'].mean())"
   ]
  },
  {
   "cell_type": "markdown",
   "metadata": {},
   "source": [
    "### Дополнительные расчёты"
   ]
  },
  {
   "cell_type": "code",
   "execution_count": 56,
   "metadata": {},
   "outputs": [
    {
     "data": {
      "text/plain": [
       "308589"
      ]
     },
     "execution_count": 56,
     "metadata": {},
     "output_type": "execute_result"
    }
   ],
   "source": [
    "#ultra 149 абонентов\n",
    "round(mean_ultra_rev_rub * 149)"
   ]
  },
  {
   "cell_type": "code",
   "execution_count": 57,
   "metadata": {},
   "outputs": [
    {
     "data": {
      "text/plain": [
       "726944"
      ]
     },
     "execution_count": 57,
     "metadata": {},
     "output_type": "execute_result"
    }
   ],
   "source": [
    "#smart 351 абонент\n",
    "round(mean_ultra_rev_rub * 351)"
   ]
  },
  {
   "cell_type": "markdown",
   "metadata": {},
   "source": [
    "## Общий вывод"
   ]
  },
  {
   "cell_type": "markdown",
   "metadata": {},
   "source": [
    "Проведён анализ потребления услуг абонентами сотового оператора \"МегаЛайн\" на тарифах Smart и Ultra.\n",
    "\n",
    "Если отвечать прямо какой тариф приносит больше денег? Ответ: тариф \"Smart\".\n",
    "\n",
    "Рекламная кампания данного продукта даст больше клиентов компании и охватит потребности большого круга клиентов, из данной выборки 70% абонентов выбрали данный тариф.\n",
    "\n",
    "От рекламы тарифа Ultra отказываться не стоит, это премиум тариф, который так же приносит доход компании, больший охват клиентов, просто это не массовый продукт, поэтому стоит заняться персонализированной рекламой. Предложить уже существующим клиентам с большими потребностями перейти на этот тариф. Разместить рекламу в бизнес центрах, автосалонах марок люкс, в бизнес залах аэропртов.\n",
    "\n",
    "\n",
    "Так же стоит проанализировать возможность создания, другого тарифного плана. Если взглянуть на потребление интернет трафика, то средний показатель схож на обоих тарифах, при этом текстовыми сообщениями пользуется минимальное количество абонентов. Либо изменение пакетов у существующего, добавление новой услуги безлимитная соц сеть, если потребление текстовых сообщений крайне низкое, то это не говорит, что абоненты стали реже общаться посредством текстовых сообщений, значит они нашли другие каналы связи, как вариант ушли во всемирную сеть.\n",
    "\n",
    "И второй вопрос, какой тариф лучше. Тут ответа нет, т.к нет лучшего/худшего, они разные и ориентированы на разные слои абонентов."
   ]
  },
  {
   "cell_type": "code",
   "execution_count": null,
   "metadata": {},
   "outputs": [],
   "source": []
  }
 ],
 "metadata": {
  "ExecuteTimeLog": [
   {
    "duration": 1299,
    "start_time": "2021-08-12T22:23:18.541Z"
   },
   {
    "duration": 660,
    "start_time": "2021-08-12T22:23:19.843Z"
   },
   {
    "duration": 40,
    "start_time": "2021-08-12T22:23:20.505Z"
   },
   {
    "duration": 54,
    "start_time": "2021-08-12T22:23:20.548Z"
   },
   {
    "duration": 27,
    "start_time": "2021-08-12T22:23:20.605Z"
   },
   {
    "duration": 17,
    "start_time": "2021-08-12T22:23:20.635Z"
   },
   {
    "duration": 62,
    "start_time": "2021-08-12T22:23:20.655Z"
   },
   {
    "duration": 26,
    "start_time": "2021-08-12T22:23:20.721Z"
   },
   {
    "duration": 70,
    "start_time": "2021-08-12T22:23:20.750Z"
   },
   {
    "duration": 31,
    "start_time": "2021-08-12T22:23:20.823Z"
   },
   {
    "duration": 47,
    "start_time": "2021-08-12T22:23:20.856Z"
   },
   {
    "duration": 42,
    "start_time": "2021-08-12T22:23:20.905Z"
   },
   {
    "duration": 54,
    "start_time": "2021-08-12T22:23:20.950Z"
   },
   {
    "duration": 34,
    "start_time": "2021-08-12T22:23:21.006Z"
   },
   {
    "duration": 58,
    "start_time": "2021-08-12T22:23:21.043Z"
   },
   {
    "duration": 18,
    "start_time": "2021-08-12T22:23:21.103Z"
   },
   {
    "duration": 17,
    "start_time": "2021-08-12T22:23:21.124Z"
   },
   {
    "duration": 26,
    "start_time": "2021-08-12T22:23:21.143Z"
   },
   {
    "duration": 8,
    "start_time": "2021-08-12T22:23:21.200Z"
   },
   {
    "duration": 21,
    "start_time": "2021-08-12T22:23:21.210Z"
   },
   {
    "duration": 14,
    "start_time": "2021-08-12T22:23:21.234Z"
   },
   {
    "duration": 144,
    "start_time": "2021-08-12T22:23:21.251Z"
   },
   {
    "duration": 48,
    "start_time": "2021-08-12T22:23:21.404Z"
   },
   {
    "duration": 95,
    "start_time": "2021-08-12T22:23:21.455Z"
   },
   {
    "duration": 74,
    "start_time": "2021-08-12T22:23:21.553Z"
   },
   {
    "duration": 39,
    "start_time": "2021-08-12T22:23:21.629Z"
   },
   {
    "duration": 32,
    "start_time": "2021-08-12T22:23:21.671Z"
   },
   {
    "duration": 29,
    "start_time": "2021-08-12T22:23:21.706Z"
   },
   {
    "duration": 13,
    "start_time": "2021-08-12T22:23:21.737Z"
   },
   {
    "duration": 86,
    "start_time": "2021-08-12T22:23:21.752Z"
   },
   {
    "duration": 5,
    "start_time": "2021-08-12T22:23:21.840Z"
   },
   {
    "duration": 10,
    "start_time": "2021-08-12T22:23:21.847Z"
   },
   {
    "duration": 6,
    "start_time": "2021-08-12T22:23:21.860Z"
   },
   {
    "duration": 332,
    "start_time": "2021-08-12T22:23:21.868Z"
   },
   {
    "duration": 46,
    "start_time": "2021-08-12T22:23:22.204Z"
   },
   {
    "duration": 14,
    "start_time": "2021-08-12T22:23:22.254Z"
   },
   {
    "duration": 11,
    "start_time": "2021-08-12T22:23:22.302Z"
   },
   {
    "duration": 1640,
    "start_time": "2021-08-12T22:23:22.316Z"
   },
   {
    "duration": 610,
    "start_time": "2021-08-12T22:23:23.349Z"
   },
   {
    "duration": 606,
    "start_time": "2021-08-12T22:23:23.355Z"
   },
   {
    "duration": 602,
    "start_time": "2021-08-12T22:23:23.361Z"
   },
   {
    "duration": 597,
    "start_time": "2021-08-12T22:23:23.368Z"
   },
   {
    "duration": 595,
    "start_time": "2021-08-12T22:23:23.372Z"
   },
   {
    "duration": 592,
    "start_time": "2021-08-12T22:23:23.378Z"
   },
   {
    "duration": 589,
    "start_time": "2021-08-12T22:23:23.382Z"
   },
   {
    "duration": 585,
    "start_time": "2021-08-12T22:23:23.388Z"
   },
   {
    "duration": 582,
    "start_time": "2021-08-12T22:23:23.392Z"
   },
   {
    "duration": 578,
    "start_time": "2021-08-12T22:23:23.397Z"
   },
   {
    "duration": 259,
    "start_time": "2021-08-12T22:33:44.761Z"
   },
   {
    "duration": 1388,
    "start_time": "2021-08-12T22:34:02.251Z"
   },
   {
    "duration": 521,
    "start_time": "2021-08-12T22:34:03.120Z"
   },
   {
    "duration": 506,
    "start_time": "2021-08-12T22:34:03.137Z"
   },
   {
    "duration": 490,
    "start_time": "2021-08-12T22:34:03.154Z"
   },
   {
    "duration": 476,
    "start_time": "2021-08-12T22:34:03.170Z"
   },
   {
    "duration": 460,
    "start_time": "2021-08-12T22:34:03.187Z"
   },
   {
    "duration": 454,
    "start_time": "2021-08-12T22:34:03.195Z"
   },
   {
    "duration": 448,
    "start_time": "2021-08-12T22:34:03.202Z"
   },
   {
    "duration": 444,
    "start_time": "2021-08-12T22:34:03.207Z"
   },
   {
    "duration": 7,
    "start_time": "2021-08-12T22:34:31.618Z"
   },
   {
    "duration": 18,
    "start_time": "2021-08-12T22:34:31.631Z"
   },
   {
    "duration": 15,
    "start_time": "2021-08-12T22:34:31.653Z"
   },
   {
    "duration": 18,
    "start_time": "2021-08-12T22:34:31.671Z"
   },
   {
    "duration": 25,
    "start_time": "2021-08-12T22:34:31.691Z"
   },
   {
    "duration": 17,
    "start_time": "2021-08-12T22:34:31.718Z"
   },
   {
    "duration": 21,
    "start_time": "2021-08-12T22:34:31.738Z"
   },
   {
    "duration": 16,
    "start_time": "2021-08-12T22:34:31.762Z"
   },
   {
    "duration": 1388,
    "start_time": "2021-08-13T09:35:00.752Z"
   },
   {
    "duration": 739,
    "start_time": "2021-08-13T09:35:02.143Z"
   },
   {
    "duration": 46,
    "start_time": "2021-08-13T09:35:02.885Z"
   },
   {
    "duration": 60,
    "start_time": "2021-08-13T09:35:02.933Z"
   },
   {
    "duration": 31,
    "start_time": "2021-08-13T09:35:02.996Z"
   },
   {
    "duration": 23,
    "start_time": "2021-08-13T09:35:03.030Z"
   },
   {
    "duration": 27,
    "start_time": "2021-08-13T09:35:03.089Z"
   },
   {
    "duration": 28,
    "start_time": "2021-08-13T09:35:03.119Z"
   },
   {
    "duration": 85,
    "start_time": "2021-08-13T09:35:03.151Z"
   },
   {
    "duration": 48,
    "start_time": "2021-08-13T09:35:03.238Z"
   },
   {
    "duration": 29,
    "start_time": "2021-08-13T09:35:03.289Z"
   },
   {
    "duration": 84,
    "start_time": "2021-08-13T09:35:03.321Z"
   },
   {
    "duration": 32,
    "start_time": "2021-08-13T09:35:03.409Z"
   },
   {
    "duration": 72,
    "start_time": "2021-08-13T09:35:03.443Z"
   },
   {
    "duration": 40,
    "start_time": "2021-08-13T09:35:03.517Z"
   },
   {
    "duration": 56,
    "start_time": "2021-08-13T09:35:03.559Z"
   },
   {
    "duration": 9,
    "start_time": "2021-08-13T09:35:03.618Z"
   },
   {
    "duration": 31,
    "start_time": "2021-08-13T09:35:03.630Z"
   },
   {
    "duration": 14,
    "start_time": "2021-08-13T09:35:03.689Z"
   },
   {
    "duration": 31,
    "start_time": "2021-08-13T09:35:03.705Z"
   },
   {
    "duration": 15,
    "start_time": "2021-08-13T09:35:03.739Z"
   },
   {
    "duration": 142,
    "start_time": "2021-08-13T09:35:03.757Z"
   },
   {
    "duration": 41,
    "start_time": "2021-08-13T09:35:03.905Z"
   },
   {
    "duration": 110,
    "start_time": "2021-08-13T09:35:03.950Z"
   },
   {
    "duration": 92,
    "start_time": "2021-08-13T09:35:04.063Z"
   },
   {
    "duration": 506,
    "start_time": "2021-08-13T09:35:04.158Z"
   },
   {
    "duration": 4,
    "start_time": "2021-08-13T09:36:07.601Z"
   },
   {
    "duration": 704,
    "start_time": "2021-08-13T09:36:07.609Z"
   },
   {
    "duration": 34,
    "start_time": "2021-08-13T09:36:08.316Z"
   },
   {
    "duration": 33,
    "start_time": "2021-08-13T09:36:08.352Z"
   },
   {
    "duration": 38,
    "start_time": "2021-08-13T09:36:08.389Z"
   },
   {
    "duration": 24,
    "start_time": "2021-08-13T09:36:08.430Z"
   },
   {
    "duration": 27,
    "start_time": "2021-08-13T09:36:08.491Z"
   },
   {
    "duration": 26,
    "start_time": "2021-08-13T09:36:08.520Z"
   },
   {
    "duration": 75,
    "start_time": "2021-08-13T09:36:08.550Z"
   },
   {
    "duration": 30,
    "start_time": "2021-08-13T09:36:08.628Z"
   },
   {
    "duration": 50,
    "start_time": "2021-08-13T09:36:08.660Z"
   },
   {
    "duration": 42,
    "start_time": "2021-08-13T09:36:08.713Z"
   },
   {
    "duration": 53,
    "start_time": "2021-08-13T09:36:08.758Z"
   },
   {
    "duration": 32,
    "start_time": "2021-08-13T09:36:08.814Z"
   },
   {
    "duration": 63,
    "start_time": "2021-08-13T09:36:08.848Z"
   },
   {
    "duration": 27,
    "start_time": "2021-08-13T09:36:08.914Z"
   },
   {
    "duration": 46,
    "start_time": "2021-08-13T09:36:08.944Z"
   },
   {
    "duration": 29,
    "start_time": "2021-08-13T09:36:08.997Z"
   },
   {
    "duration": 10,
    "start_time": "2021-08-13T09:36:09.029Z"
   },
   {
    "duration": 55,
    "start_time": "2021-08-13T09:36:09.042Z"
   },
   {
    "duration": 21,
    "start_time": "2021-08-13T09:36:09.100Z"
   },
   {
    "duration": 125,
    "start_time": "2021-08-13T09:36:09.124Z"
   },
   {
    "duration": 59,
    "start_time": "2021-08-13T09:36:09.251Z"
   },
   {
    "duration": 77,
    "start_time": "2021-08-13T09:36:09.315Z"
   },
   {
    "duration": 71,
    "start_time": "2021-08-13T09:36:09.399Z"
   },
   {
    "duration": 44,
    "start_time": "2021-08-13T09:36:09.484Z"
   },
   {
    "duration": 38,
    "start_time": "2021-08-13T09:36:59.753Z"
   },
   {
    "duration": 38,
    "start_time": "2021-08-13T09:38:47.821Z"
   },
   {
    "duration": 19,
    "start_time": "2021-08-13T09:41:59.824Z"
   },
   {
    "duration": 5,
    "start_time": "2021-08-13T09:42:28.412Z"
   },
   {
    "duration": 670,
    "start_time": "2021-08-13T09:42:28.420Z"
   },
   {
    "duration": 40,
    "start_time": "2021-08-13T09:42:29.097Z"
   },
   {
    "duration": 50,
    "start_time": "2021-08-13T09:42:29.140Z"
   },
   {
    "duration": 39,
    "start_time": "2021-08-13T09:42:29.193Z"
   },
   {
    "duration": 23,
    "start_time": "2021-08-13T09:42:29.235Z"
   },
   {
    "duration": 26,
    "start_time": "2021-08-13T09:42:29.291Z"
   },
   {
    "duration": 26,
    "start_time": "2021-08-13T09:42:29.320Z"
   },
   {
    "duration": 85,
    "start_time": "2021-08-13T09:42:29.348Z"
   },
   {
    "duration": 29,
    "start_time": "2021-08-13T09:42:29.435Z"
   },
   {
    "duration": 26,
    "start_time": "2021-08-13T09:42:29.483Z"
   },
   {
    "duration": 76,
    "start_time": "2021-08-13T09:42:29.512Z"
   },
   {
    "duration": 29,
    "start_time": "2021-08-13T09:42:29.590Z"
   },
   {
    "duration": 32,
    "start_time": "2021-08-13T09:42:29.622Z"
   },
   {
    "duration": 53,
    "start_time": "2021-08-13T09:42:29.657Z"
   },
   {
    "duration": 20,
    "start_time": "2021-08-13T09:42:29.714Z"
   },
   {
    "duration": 9,
    "start_time": "2021-08-13T09:42:29.736Z"
   },
   {
    "duration": 65,
    "start_time": "2021-08-13T09:42:29.747Z"
   },
   {
    "duration": 7,
    "start_time": "2021-08-13T09:42:29.816Z"
   },
   {
    "duration": 16,
    "start_time": "2021-08-13T09:42:29.826Z"
   },
   {
    "duration": 54,
    "start_time": "2021-08-13T09:42:29.845Z"
   },
   {
    "duration": 124,
    "start_time": "2021-08-13T09:42:29.902Z"
   },
   {
    "duration": 56,
    "start_time": "2021-08-13T09:42:30.028Z"
   },
   {
    "duration": 70,
    "start_time": "2021-08-13T09:42:30.087Z"
   },
   {
    "duration": 86,
    "start_time": "2021-08-13T09:42:30.160Z"
   },
   {
    "duration": 62,
    "start_time": "2021-08-13T09:42:30.249Z"
   },
   {
    "duration": 12,
    "start_time": "2021-08-13T09:42:30.314Z"
   },
   {
    "duration": 14,
    "start_time": "2021-08-13T09:42:47.520Z"
   },
   {
    "duration": 33,
    "start_time": "2021-08-13T09:42:50.180Z"
   },
   {
    "duration": 5,
    "start_time": "2021-08-13T09:43:03.820Z"
   },
   {
    "duration": 873,
    "start_time": "2021-08-13T09:43:03.828Z"
   },
   {
    "duration": 43,
    "start_time": "2021-08-13T09:43:04.703Z"
   },
   {
    "duration": 55,
    "start_time": "2021-08-13T09:43:04.750Z"
   },
   {
    "duration": 33,
    "start_time": "2021-08-13T09:43:04.807Z"
   },
   {
    "duration": 44,
    "start_time": "2021-08-13T09:43:04.842Z"
   },
   {
    "duration": 24,
    "start_time": "2021-08-13T09:43:04.892Z"
   },
   {
    "duration": 26,
    "start_time": "2021-08-13T09:43:04.919Z"
   },
   {
    "duration": 47,
    "start_time": "2021-08-13T09:43:04.985Z"
   },
   {
    "duration": 52,
    "start_time": "2021-08-13T09:43:05.035Z"
   },
   {
    "duration": 22,
    "start_time": "2021-08-13T09:43:05.090Z"
   },
   {
    "duration": 46,
    "start_time": "2021-08-13T09:43:05.115Z"
   },
   {
    "duration": 28,
    "start_time": "2021-08-13T09:43:05.185Z"
   },
   {
    "duration": 68,
    "start_time": "2021-08-13T09:43:05.216Z"
   },
   {
    "duration": 32,
    "start_time": "2021-08-13T09:43:05.291Z"
   },
   {
    "duration": 18,
    "start_time": "2021-08-13T09:43:05.326Z"
   },
   {
    "duration": 37,
    "start_time": "2021-08-13T09:43:05.347Z"
   },
   {
    "duration": 31,
    "start_time": "2021-08-13T09:43:05.395Z"
   },
   {
    "duration": 7,
    "start_time": "2021-08-13T09:43:05.430Z"
   },
   {
    "duration": 51,
    "start_time": "2021-08-13T09:43:05.440Z"
   },
   {
    "duration": 18,
    "start_time": "2021-08-13T09:43:05.494Z"
   },
   {
    "duration": 149,
    "start_time": "2021-08-13T09:43:05.515Z"
   },
   {
    "duration": 59,
    "start_time": "2021-08-13T09:43:05.667Z"
   },
   {
    "duration": 100,
    "start_time": "2021-08-13T09:43:05.729Z"
   },
   {
    "duration": 94,
    "start_time": "2021-08-13T09:43:05.832Z"
   },
   {
    "duration": 62,
    "start_time": "2021-08-13T09:43:05.929Z"
   },
   {
    "duration": 13,
    "start_time": "2021-08-13T09:43:05.994Z"
   },
   {
    "duration": 29,
    "start_time": "2021-08-13T09:43:06.010Z"
   },
   {
    "duration": 17,
    "start_time": "2021-08-13T09:43:29.504Z"
   },
   {
    "duration": 30,
    "start_time": "2021-08-13T09:43:36.611Z"
   },
   {
    "duration": 5,
    "start_time": "2021-08-13T09:46:51.694Z"
   },
   {
    "duration": 685,
    "start_time": "2021-08-13T09:46:51.707Z"
   },
   {
    "duration": 46,
    "start_time": "2021-08-13T09:46:52.395Z"
   },
   {
    "duration": 63,
    "start_time": "2021-08-13T09:46:52.445Z"
   },
   {
    "duration": 38,
    "start_time": "2021-08-13T09:46:52.511Z"
   },
   {
    "duration": 45,
    "start_time": "2021-08-13T09:46:52.552Z"
   },
   {
    "duration": 29,
    "start_time": "2021-08-13T09:46:52.600Z"
   },
   {
    "duration": 72,
    "start_time": "2021-08-13T09:46:52.633Z"
   },
   {
    "duration": 73,
    "start_time": "2021-08-13T09:46:52.711Z"
   },
   {
    "duration": 42,
    "start_time": "2021-08-13T09:46:52.788Z"
   },
   {
    "duration": 18,
    "start_time": "2021-08-13T09:46:52.832Z"
   },
   {
    "duration": 75,
    "start_time": "2021-08-13T09:46:52.853Z"
   },
   {
    "duration": 22,
    "start_time": "2021-08-13T09:46:52.931Z"
   },
   {
    "duration": 39,
    "start_time": "2021-08-13T09:46:52.984Z"
   },
   {
    "duration": 29,
    "start_time": "2021-08-13T09:46:53.026Z"
   },
   {
    "duration": 24,
    "start_time": "2021-08-13T09:46:53.083Z"
   },
   {
    "duration": 23,
    "start_time": "2021-08-13T09:46:53.109Z"
   },
   {
    "duration": 28,
    "start_time": "2021-08-13T09:46:53.135Z"
   },
   {
    "duration": 28,
    "start_time": "2021-08-13T09:46:53.166Z"
   },
   {
    "duration": 29,
    "start_time": "2021-08-13T09:46:53.197Z"
   },
   {
    "duration": 15,
    "start_time": "2021-08-13T09:46:53.229Z"
   },
   {
    "duration": 137,
    "start_time": "2021-08-13T09:46:53.247Z"
   },
   {
    "duration": 41,
    "start_time": "2021-08-13T09:46:53.393Z"
   },
   {
    "duration": 87,
    "start_time": "2021-08-13T09:46:53.439Z"
   },
   {
    "duration": 81,
    "start_time": "2021-08-13T09:46:53.529Z"
   },
   {
    "duration": 40,
    "start_time": "2021-08-13T09:46:53.613Z"
   },
   {
    "duration": 65,
    "start_time": "2021-08-13T09:46:53.655Z"
   },
   {
    "duration": 98,
    "start_time": "2021-08-13T09:46:53.723Z"
   },
   {
    "duration": 45,
    "start_time": "2021-08-13T09:46:53.824Z"
   },
   {
    "duration": 84,
    "start_time": "2021-08-13T09:46:53.873Z"
   },
   {
    "duration": 8,
    "start_time": "2021-08-13T09:46:53.961Z"
   },
   {
    "duration": 15,
    "start_time": "2021-08-13T09:46:53.978Z"
   },
   {
    "duration": 21,
    "start_time": "2021-08-13T09:46:53.997Z"
   },
   {
    "duration": 415,
    "start_time": "2021-08-13T09:46:54.022Z"
   },
   {
    "duration": 32,
    "start_time": "2021-08-13T09:46:54.439Z"
   },
   {
    "duration": 19,
    "start_time": "2021-08-13T09:46:54.484Z"
   },
   {
    "duration": 12,
    "start_time": "2021-08-13T09:46:54.506Z"
   },
   {
    "duration": 1562,
    "start_time": "2021-08-13T09:46:54.521Z"
   },
   {
    "duration": 86,
    "start_time": "2021-08-13T09:48:15.556Z"
   },
   {
    "duration": 14,
    "start_time": "2021-08-13T09:48:53.123Z"
   },
   {
    "duration": 3208,
    "start_time": "2021-08-13T09:49:21.520Z"
   },
   {
    "duration": 5,
    "start_time": "2021-08-13T09:52:18.347Z"
   },
   {
    "duration": 712,
    "start_time": "2021-08-13T09:52:18.357Z"
   },
   {
    "duration": 43,
    "start_time": "2021-08-13T09:52:19.071Z"
   },
   {
    "duration": 32,
    "start_time": "2021-08-13T09:52:19.118Z"
   },
   {
    "duration": 71,
    "start_time": "2021-08-13T09:52:19.153Z"
   },
   {
    "duration": 17,
    "start_time": "2021-08-13T09:52:19.226Z"
   },
   {
    "duration": 51,
    "start_time": "2021-08-13T09:52:19.246Z"
   },
   {
    "duration": 30,
    "start_time": "2021-08-13T09:52:19.300Z"
   },
   {
    "duration": 71,
    "start_time": "2021-08-13T09:52:19.334Z"
   },
   {
    "duration": 30,
    "start_time": "2021-08-13T09:52:19.408Z"
   },
   {
    "duration": 18,
    "start_time": "2021-08-13T09:52:19.441Z"
   },
   {
    "duration": 49,
    "start_time": "2021-08-13T09:52:19.481Z"
   },
   {
    "duration": 28,
    "start_time": "2021-08-13T09:52:19.532Z"
   },
   {
    "duration": 37,
    "start_time": "2021-08-13T09:52:19.582Z"
   },
   {
    "duration": 30,
    "start_time": "2021-08-13T09:52:19.621Z"
   },
   {
    "duration": 45,
    "start_time": "2021-08-13T09:52:19.653Z"
   },
   {
    "duration": 10,
    "start_time": "2021-08-13T09:52:19.701Z"
   },
   {
    "duration": 26,
    "start_time": "2021-08-13T09:52:19.713Z"
   },
   {
    "duration": 49,
    "start_time": "2021-08-13T09:52:19.742Z"
   },
   {
    "duration": 18,
    "start_time": "2021-08-13T09:52:19.794Z"
   },
   {
    "duration": 16,
    "start_time": "2021-08-13T09:52:19.815Z"
   },
   {
    "duration": 126,
    "start_time": "2021-08-13T09:52:19.834Z"
   },
   {
    "duration": 52,
    "start_time": "2021-08-13T09:52:19.962Z"
   },
   {
    "duration": 88,
    "start_time": "2021-08-13T09:52:20.021Z"
   },
   {
    "duration": 77,
    "start_time": "2021-08-13T09:52:20.112Z"
   },
   {
    "duration": 37,
    "start_time": "2021-08-13T09:52:20.198Z"
   },
   {
    "duration": 11,
    "start_time": "2021-08-13T09:52:20.237Z"
   },
   {
    "duration": 43,
    "start_time": "2021-08-13T09:52:20.250Z"
   },
   {
    "duration": 15,
    "start_time": "2021-08-13T09:52:20.303Z"
   },
   {
    "duration": 30,
    "start_time": "2021-08-13T09:52:20.321Z"
   },
   {
    "duration": 5,
    "start_time": "2021-08-13T09:52:20.353Z"
   },
   {
    "duration": 39,
    "start_time": "2021-08-13T09:52:20.361Z"
   },
   {
    "duration": 6,
    "start_time": "2021-08-13T09:52:20.402Z"
   },
   {
    "duration": 351,
    "start_time": "2021-08-13T09:52:20.411Z"
   },
   {
    "duration": 44,
    "start_time": "2021-08-13T09:52:20.764Z"
   },
   {
    "duration": 12,
    "start_time": "2021-08-13T09:52:20.811Z"
   },
   {
    "duration": 11,
    "start_time": "2021-08-13T09:52:20.825Z"
   },
   {
    "duration": 2933,
    "start_time": "2021-08-13T09:52:20.838Z"
   },
   {
    "duration": 32,
    "start_time": "2021-08-13T09:53:16.003Z"
   },
   {
    "duration": 9,
    "start_time": "2021-08-13T09:54:32.332Z"
   },
   {
    "duration": 9,
    "start_time": "2021-08-13T10:11:24.388Z"
   },
   {
    "duration": 8,
    "start_time": "2021-08-13T10:11:27.210Z"
   },
   {
    "duration": 29,
    "start_time": "2021-08-13T10:11:28.509Z"
   },
   {
    "duration": 9,
    "start_time": "2021-08-13T10:11:38.221Z"
   },
   {
    "duration": 5,
    "start_time": "2021-08-13T10:12:04.907Z"
   },
   {
    "duration": 703,
    "start_time": "2021-08-13T10:12:04.917Z"
   },
   {
    "duration": 37,
    "start_time": "2021-08-13T10:12:05.622Z"
   },
   {
    "duration": 33,
    "start_time": "2021-08-13T10:12:05.662Z"
   },
   {
    "duration": 29,
    "start_time": "2021-08-13T10:12:05.698Z"
   },
   {
    "duration": 17,
    "start_time": "2021-08-13T10:12:05.729Z"
   },
   {
    "duration": 57,
    "start_time": "2021-08-13T10:12:05.749Z"
   },
   {
    "duration": 25,
    "start_time": "2021-08-13T10:12:05.808Z"
   },
   {
    "duration": 82,
    "start_time": "2021-08-13T10:12:05.837Z"
   },
   {
    "duration": 34,
    "start_time": "2021-08-13T10:12:05.921Z"
   },
   {
    "duration": 41,
    "start_time": "2021-08-13T10:12:05.957Z"
   },
   {
    "duration": 42,
    "start_time": "2021-08-13T10:12:06.002Z"
   },
   {
    "duration": 52,
    "start_time": "2021-08-13T10:12:06.046Z"
   },
   {
    "duration": 31,
    "start_time": "2021-08-13T10:12:06.100Z"
   },
   {
    "duration": 49,
    "start_time": "2021-08-13T10:12:06.133Z"
   },
   {
    "duration": 25,
    "start_time": "2021-08-13T10:12:06.184Z"
   },
   {
    "duration": 9,
    "start_time": "2021-08-13T10:12:06.211Z"
   },
   {
    "duration": 29,
    "start_time": "2021-08-13T10:12:06.223Z"
   },
   {
    "duration": 39,
    "start_time": "2021-08-13T10:12:06.255Z"
   },
   {
    "duration": 25,
    "start_time": "2021-08-13T10:12:06.297Z"
   },
   {
    "duration": 15,
    "start_time": "2021-08-13T10:12:06.325Z"
   },
   {
    "duration": 151,
    "start_time": "2021-08-13T10:12:06.343Z"
   },
   {
    "duration": 37,
    "start_time": "2021-08-13T10:12:06.496Z"
   },
   {
    "duration": 94,
    "start_time": "2021-08-13T10:12:06.537Z"
   },
   {
    "duration": 77,
    "start_time": "2021-08-13T10:12:06.634Z"
   },
   {
    "duration": 38,
    "start_time": "2021-08-13T10:12:06.714Z"
   },
   {
    "duration": 32,
    "start_time": "2021-08-13T10:12:06.754Z"
   },
   {
    "duration": 5,
    "start_time": "2021-08-13T10:12:06.793Z"
   },
   {
    "duration": 8,
    "start_time": "2021-08-13T10:12:06.800Z"
   },
   {
    "duration": 11,
    "start_time": "2021-08-13T10:12:06.810Z"
   },
   {
    "duration": 21,
    "start_time": "2021-08-13T10:12:06.823Z"
   },
   {
    "duration": 48,
    "start_time": "2021-08-13T10:12:06.846Z"
   },
   {
    "duration": 32,
    "start_time": "2021-08-13T10:12:06.896Z"
   },
   {
    "duration": 4,
    "start_time": "2021-08-13T10:12:06.931Z"
   },
   {
    "duration": 8,
    "start_time": "2021-08-13T10:12:06.938Z"
   },
   {
    "duration": 46,
    "start_time": "2021-08-13T10:12:06.949Z"
   },
   {
    "duration": 325,
    "start_time": "2021-08-13T10:12:06.997Z"
   },
   {
    "duration": 29,
    "start_time": "2021-08-13T10:12:07.324Z"
   },
   {
    "duration": 34,
    "start_time": "2021-08-13T10:12:07.356Z"
   },
   {
    "duration": 31,
    "start_time": "2021-08-13T10:12:07.394Z"
   },
   {
    "duration": 11,
    "start_time": "2021-08-13T10:12:07.427Z"
   },
   {
    "duration": 2930,
    "start_time": "2021-08-13T10:12:07.440Z"
   },
   {
    "duration": 5,
    "start_time": "2021-08-13T10:15:17.041Z"
   },
   {
    "duration": 695,
    "start_time": "2021-08-13T10:15:17.055Z"
   },
   {
    "duration": 35,
    "start_time": "2021-08-13T10:15:17.752Z"
   },
   {
    "duration": 36,
    "start_time": "2021-08-13T10:15:17.791Z"
   },
   {
    "duration": 25,
    "start_time": "2021-08-13T10:15:17.830Z"
   },
   {
    "duration": 88,
    "start_time": "2021-08-13T10:15:17.882Z"
   },
   {
    "duration": 24,
    "start_time": "2021-08-13T10:15:17.983Z"
   },
   {
    "duration": 26,
    "start_time": "2021-08-13T10:15:18.010Z"
   },
   {
    "duration": 85,
    "start_time": "2021-08-13T10:15:18.039Z"
   },
   {
    "duration": 29,
    "start_time": "2021-08-13T10:15:18.128Z"
   },
   {
    "duration": 45,
    "start_time": "2021-08-13T10:15:18.160Z"
   },
   {
    "duration": 44,
    "start_time": "2021-08-13T10:15:18.208Z"
   },
   {
    "duration": 52,
    "start_time": "2021-08-13T10:15:18.254Z"
   },
   {
    "duration": 34,
    "start_time": "2021-08-13T10:15:18.308Z"
   },
   {
    "duration": 53,
    "start_time": "2021-08-13T10:15:18.344Z"
   },
   {
    "duration": 18,
    "start_time": "2021-08-13T10:15:18.400Z"
   },
   {
    "duration": 24,
    "start_time": "2021-08-13T10:15:18.420Z"
   },
   {
    "duration": 45,
    "start_time": "2021-08-13T10:15:18.447Z"
   },
   {
    "duration": 8,
    "start_time": "2021-08-13T10:15:18.496Z"
   },
   {
    "duration": 35,
    "start_time": "2021-08-13T10:15:18.506Z"
   },
   {
    "duration": 15,
    "start_time": "2021-08-13T10:15:18.544Z"
   },
   {
    "duration": 114,
    "start_time": "2021-08-13T10:15:18.561Z"
   },
   {
    "duration": 40,
    "start_time": "2021-08-13T10:15:18.683Z"
   },
   {
    "duration": 92,
    "start_time": "2021-08-13T10:15:18.730Z"
   },
   {
    "duration": 77,
    "start_time": "2021-08-13T10:15:18.826Z"
   },
   {
    "duration": 38,
    "start_time": "2021-08-13T10:15:18.905Z"
   },
   {
    "duration": 37,
    "start_time": "2021-08-13T10:15:18.946Z"
   },
   {
    "duration": 12,
    "start_time": "2021-08-13T10:15:18.985Z"
   },
   {
    "duration": 14,
    "start_time": "2021-08-13T10:15:18.999Z"
   },
   {
    "duration": 12,
    "start_time": "2021-08-13T10:15:19.016Z"
   },
   {
    "duration": 17,
    "start_time": "2021-08-13T10:15:19.031Z"
   },
   {
    "duration": 51,
    "start_time": "2021-08-13T10:15:19.050Z"
   },
   {
    "duration": 27,
    "start_time": "2021-08-13T10:15:19.103Z"
   },
   {
    "duration": 5,
    "start_time": "2021-08-13T10:15:19.132Z"
   },
   {
    "duration": 10,
    "start_time": "2021-08-13T10:15:19.139Z"
   },
   {
    "duration": 39,
    "start_time": "2021-08-13T10:15:19.151Z"
   },
   {
    "duration": 338,
    "start_time": "2021-08-13T10:15:19.193Z"
   },
   {
    "duration": 26,
    "start_time": "2021-08-13T10:15:19.533Z"
   },
   {
    "duration": 32,
    "start_time": "2021-08-13T10:15:19.561Z"
   },
   {
    "duration": 25,
    "start_time": "2021-08-13T10:15:19.596Z"
   },
   {
    "duration": 11,
    "start_time": "2021-08-13T10:15:19.623Z"
   },
   {
    "duration": 3029,
    "start_time": "2021-08-13T10:15:19.636Z"
   },
   {
    "duration": 10,
    "start_time": "2021-08-13T10:16:36.268Z"
   },
   {
    "duration": 1591,
    "start_time": "2021-08-13T10:16:37.022Z"
   },
   {
    "duration": 10,
    "start_time": "2021-08-13T10:16:57.638Z"
   },
   {
    "duration": 3008,
    "start_time": "2021-08-13T10:16:59.421Z"
   },
   {
    "duration": 315,
    "start_time": "2021-08-13T10:17:54.894Z"
   },
   {
    "duration": 314,
    "start_time": "2021-08-13T10:19:02.491Z"
   },
   {
    "duration": 295,
    "start_time": "2021-08-13T10:19:37.420Z"
   },
   {
    "duration": 297,
    "start_time": "2021-08-13T10:20:19.050Z"
   },
   {
    "duration": 294,
    "start_time": "2021-08-13T10:20:44.991Z"
   },
   {
    "duration": 11,
    "start_time": "2021-08-13T10:21:53.832Z"
   },
   {
    "duration": 3186,
    "start_time": "2021-08-13T10:21:55.231Z"
   },
   {
    "duration": 27,
    "start_time": "2021-08-13T10:21:58.419Z"
   },
   {
    "duration": 12,
    "start_time": "2021-08-13T10:22:29.835Z"
   },
   {
    "duration": 12,
    "start_time": "2021-08-13T10:22:39.491Z"
   },
   {
    "duration": 98,
    "start_time": "2021-08-13T10:26:43.965Z"
   },
   {
    "duration": 14,
    "start_time": "2021-08-13T10:27:17.723Z"
   },
   {
    "duration": 10,
    "start_time": "2021-08-13T10:28:06.646Z"
   },
   {
    "duration": 129,
    "start_time": "2021-08-13T10:29:24.641Z"
   },
   {
    "duration": 12,
    "start_time": "2021-08-13T10:29:46.514Z"
   },
   {
    "duration": 258,
    "start_time": "2021-08-13T10:31:38.530Z"
   },
   {
    "duration": 34,
    "start_time": "2021-08-13T10:32:19.353Z"
   },
   {
    "duration": 37,
    "start_time": "2021-08-13T10:33:04.203Z"
   },
   {
    "duration": 56,
    "start_time": "2021-08-13T10:37:05.709Z"
   },
   {
    "duration": 10,
    "start_time": "2021-08-13T10:37:53.062Z"
   },
   {
    "duration": 6,
    "start_time": "2021-08-13T10:38:40.148Z"
   },
   {
    "duration": 723,
    "start_time": "2021-08-13T10:38:40.157Z"
   },
   {
    "duration": 46,
    "start_time": "2021-08-13T10:38:40.886Z"
   },
   {
    "duration": 69,
    "start_time": "2021-08-13T10:38:40.935Z"
   },
   {
    "duration": 28,
    "start_time": "2021-08-13T10:38:41.012Z"
   },
   {
    "duration": 41,
    "start_time": "2021-08-13T10:38:41.043Z"
   },
   {
    "duration": 26,
    "start_time": "2021-08-13T10:38:41.093Z"
   },
   {
    "duration": 70,
    "start_time": "2021-08-13T10:38:41.124Z"
   },
   {
    "duration": 42,
    "start_time": "2021-08-13T10:38:41.197Z"
   },
   {
    "duration": 53,
    "start_time": "2021-08-13T10:38:41.242Z"
   },
   {
    "duration": 23,
    "start_time": "2021-08-13T10:38:41.297Z"
   },
   {
    "duration": 86,
    "start_time": "2021-08-13T10:38:41.323Z"
   },
   {
    "duration": 23,
    "start_time": "2021-08-13T10:38:41.412Z"
   },
   {
    "duration": 66,
    "start_time": "2021-08-13T10:38:41.438Z"
   },
   {
    "duration": 30,
    "start_time": "2021-08-13T10:38:41.507Z"
   },
   {
    "duration": 46,
    "start_time": "2021-08-13T10:38:41.539Z"
   },
   {
    "duration": 11,
    "start_time": "2021-08-13T10:38:41.590Z"
   },
   {
    "duration": 46,
    "start_time": "2021-08-13T10:38:41.604Z"
   },
   {
    "duration": 33,
    "start_time": "2021-08-13T10:38:41.658Z"
   },
   {
    "duration": 22,
    "start_time": "2021-08-13T10:38:41.695Z"
   },
   {
    "duration": 22,
    "start_time": "2021-08-13T10:38:41.720Z"
   },
   {
    "duration": 181,
    "start_time": "2021-08-13T10:38:41.745Z"
   },
   {
    "duration": 67,
    "start_time": "2021-08-13T10:38:41.929Z"
   },
   {
    "duration": 105,
    "start_time": "2021-08-13T10:38:42.003Z"
   },
   {
    "duration": 78,
    "start_time": "2021-08-13T10:38:42.110Z"
   },
   {
    "duration": 58,
    "start_time": "2021-08-13T10:38:42.191Z"
   },
   {
    "duration": 8,
    "start_time": "2021-08-13T10:38:42.252Z"
   },
   {
    "duration": 25,
    "start_time": "2021-08-13T10:38:42.262Z"
   },
   {
    "duration": 15,
    "start_time": "2021-08-13T10:38:42.291Z"
   },
   {
    "duration": 11,
    "start_time": "2021-08-13T10:38:42.308Z"
   },
   {
    "duration": 26,
    "start_time": "2021-08-13T10:38:42.321Z"
   },
   {
    "duration": 42,
    "start_time": "2021-08-13T10:38:42.349Z"
   },
   {
    "duration": 28,
    "start_time": "2021-08-13T10:38:42.394Z"
   },
   {
    "duration": 5,
    "start_time": "2021-08-13T10:38:42.425Z"
   },
   {
    "duration": 18,
    "start_time": "2021-08-13T10:38:42.432Z"
   },
   {
    "duration": 13,
    "start_time": "2021-08-13T10:38:42.452Z"
   },
   {
    "duration": 360,
    "start_time": "2021-08-13T10:38:42.468Z"
   },
   {
    "duration": 27,
    "start_time": "2021-08-13T10:38:42.830Z"
   },
   {
    "duration": 40,
    "start_time": "2021-08-13T10:38:42.860Z"
   },
   {
    "duration": 38,
    "start_time": "2021-08-13T10:38:42.903Z"
   },
   {
    "duration": 39,
    "start_time": "2021-08-13T10:38:42.944Z"
   },
   {
    "duration": 2956,
    "start_time": "2021-08-13T10:38:42.986Z"
   },
   {
    "duration": 10,
    "start_time": "2021-08-13T10:38:45.945Z"
   },
   {
    "duration": 3444,
    "start_time": "2021-08-13T10:38:45.959Z"
   },
   {
    "duration": 6,
    "start_time": "2021-08-13T11:22:53.954Z"
   },
   {
    "duration": 746,
    "start_time": "2021-08-13T11:22:53.962Z"
   },
   {
    "duration": 34,
    "start_time": "2021-08-13T11:22:54.711Z"
   },
   {
    "duration": 39,
    "start_time": "2021-08-13T11:22:54.748Z"
   },
   {
    "duration": 36,
    "start_time": "2021-08-13T11:22:54.790Z"
   },
   {
    "duration": 23,
    "start_time": "2021-08-13T11:22:54.829Z"
   },
   {
    "duration": 48,
    "start_time": "2021-08-13T11:22:54.857Z"
   },
   {
    "duration": 40,
    "start_time": "2021-08-13T11:22:54.909Z"
   },
   {
    "duration": 87,
    "start_time": "2021-08-13T11:22:54.952Z"
   },
   {
    "duration": 44,
    "start_time": "2021-08-13T11:22:55.042Z"
   },
   {
    "duration": 25,
    "start_time": "2021-08-13T11:22:55.089Z"
   },
   {
    "duration": 41,
    "start_time": "2021-08-13T11:22:55.116Z"
   },
   {
    "duration": 56,
    "start_time": "2021-08-13T11:22:55.159Z"
   },
   {
    "duration": 36,
    "start_time": "2021-08-13T11:22:55.217Z"
   },
   {
    "duration": 36,
    "start_time": "2021-08-13T11:22:55.289Z"
   },
   {
    "duration": 25,
    "start_time": "2021-08-13T11:22:55.328Z"
   },
   {
    "duration": 30,
    "start_time": "2021-08-13T11:22:55.355Z"
   },
   {
    "duration": 41,
    "start_time": "2021-08-13T11:22:55.387Z"
   },
   {
    "duration": 11,
    "start_time": "2021-08-13T11:22:55.433Z"
   },
   {
    "duration": 52,
    "start_time": "2021-08-13T11:22:55.447Z"
   },
   {
    "duration": 20,
    "start_time": "2021-08-13T11:22:55.503Z"
   },
   {
    "duration": 123,
    "start_time": "2021-08-13T11:22:55.526Z"
   },
   {
    "duration": 55,
    "start_time": "2021-08-13T11:22:55.651Z"
   },
   {
    "duration": 81,
    "start_time": "2021-08-13T11:22:55.708Z"
   },
   {
    "duration": 65,
    "start_time": "2021-08-13T11:22:55.791Z"
   },
   {
    "duration": 59,
    "start_time": "2021-08-13T11:22:55.859Z"
   },
   {
    "duration": 7,
    "start_time": "2021-08-13T11:22:55.921Z"
   },
   {
    "duration": 7,
    "start_time": "2021-08-13T11:22:55.931Z"
   },
   {
    "duration": 8,
    "start_time": "2021-08-13T11:22:55.940Z"
   },
   {
    "duration": 17,
    "start_time": "2021-08-13T11:22:55.986Z"
   },
   {
    "duration": 18,
    "start_time": "2021-08-13T11:22:56.006Z"
   },
   {
    "duration": 19,
    "start_time": "2021-08-13T11:22:56.026Z"
   },
   {
    "duration": 66,
    "start_time": "2021-08-13T11:22:56.048Z"
   },
   {
    "duration": 5,
    "start_time": "2021-08-13T11:22:56.116Z"
   },
   {
    "duration": 9,
    "start_time": "2021-08-13T11:22:56.124Z"
   },
   {
    "duration": 7,
    "start_time": "2021-08-13T11:22:56.136Z"
   },
   {
    "duration": 463,
    "start_time": "2021-08-13T11:22:56.146Z"
   },
   {
    "duration": 25,
    "start_time": "2021-08-13T11:22:56.614Z"
   },
   {
    "duration": 13,
    "start_time": "2021-08-13T11:22:56.642Z"
   },
   {
    "duration": 32,
    "start_time": "2021-08-13T11:22:56.681Z"
   },
   {
    "duration": 9,
    "start_time": "2021-08-13T11:22:56.716Z"
   },
   {
    "duration": 3211,
    "start_time": "2021-08-13T11:22:56.727Z"
   },
   {
    "duration": 13,
    "start_time": "2021-08-13T11:22:59.942Z"
   },
   {
    "duration": 2913,
    "start_time": "2021-08-13T11:22:59.957Z"
   },
   {
    "duration": 13,
    "start_time": "2021-08-13T11:23:02.873Z"
   },
   {
    "duration": 14,
    "start_time": "2021-08-13T11:23:02.889Z"
   },
   {
    "duration": 6,
    "start_time": "2021-08-13T11:23:06.466Z"
   },
   {
    "duration": 7,
    "start_time": "2021-08-13T11:23:12.249Z"
   },
   {
    "duration": 7,
    "start_time": "2021-08-13T11:27:06.313Z"
   },
   {
    "duration": 12,
    "start_time": "2021-08-13T11:27:47.206Z"
   },
   {
    "duration": 4,
    "start_time": "2021-08-13T11:39:07.260Z"
   },
   {
    "duration": 741,
    "start_time": "2021-08-13T11:39:07.268Z"
   },
   {
    "duration": 38,
    "start_time": "2021-08-13T11:39:08.012Z"
   },
   {
    "duration": 47,
    "start_time": "2021-08-13T11:39:08.054Z"
   },
   {
    "duration": 27,
    "start_time": "2021-08-13T11:39:08.104Z"
   },
   {
    "duration": 126,
    "start_time": "2021-08-13T11:39:08.134Z"
   },
   {
    "duration": 48,
    "start_time": "2021-08-13T11:39:08.264Z"
   },
   {
    "duration": 26,
    "start_time": "2021-08-13T11:39:08.315Z"
   },
   {
    "duration": 77,
    "start_time": "2021-08-13T11:39:08.345Z"
   },
   {
    "duration": 31,
    "start_time": "2021-08-13T11:39:08.425Z"
   },
   {
    "duration": 43,
    "start_time": "2021-08-13T11:39:08.459Z"
   },
   {
    "duration": 45,
    "start_time": "2021-08-13T11:39:08.505Z"
   },
   {
    "duration": 61,
    "start_time": "2021-08-13T11:39:08.553Z"
   },
   {
    "duration": 33,
    "start_time": "2021-08-13T11:39:08.618Z"
   },
   {
    "duration": 60,
    "start_time": "2021-08-13T11:39:08.654Z"
   },
   {
    "duration": 21,
    "start_time": "2021-08-13T11:39:08.716Z"
   },
   {
    "duration": 9,
    "start_time": "2021-08-13T11:39:08.740Z"
   },
   {
    "duration": 69,
    "start_time": "2021-08-13T11:39:08.751Z"
   },
   {
    "duration": 9,
    "start_time": "2021-08-13T11:39:08.822Z"
   },
   {
    "duration": 18,
    "start_time": "2021-08-13T11:39:08.834Z"
   },
   {
    "duration": 22,
    "start_time": "2021-08-13T11:39:08.883Z"
   },
   {
    "duration": 128,
    "start_time": "2021-08-13T11:39:08.907Z"
   },
   {
    "duration": 60,
    "start_time": "2021-08-13T11:39:09.038Z"
   },
   {
    "duration": 69,
    "start_time": "2021-08-13T11:39:09.103Z"
   },
   {
    "duration": 74,
    "start_time": "2021-08-13T11:39:09.175Z"
   },
   {
    "duration": 69,
    "start_time": "2021-08-13T11:39:09.252Z"
   },
   {
    "duration": 10,
    "start_time": "2021-08-13T11:39:09.325Z"
   },
   {
    "duration": 9,
    "start_time": "2021-08-13T11:39:09.338Z"
   },
   {
    "duration": 50,
    "start_time": "2021-08-13T11:39:09.349Z"
   },
   {
    "duration": 16,
    "start_time": "2021-08-13T11:39:09.402Z"
   },
   {
    "duration": 27,
    "start_time": "2021-08-13T11:39:09.422Z"
   },
   {
    "duration": 45,
    "start_time": "2021-08-13T11:39:09.452Z"
   },
   {
    "duration": 36,
    "start_time": "2021-08-13T11:39:09.499Z"
   },
   {
    "duration": 6,
    "start_time": "2021-08-13T11:39:09.537Z"
   },
   {
    "duration": 8,
    "start_time": "2021-08-13T11:39:09.545Z"
   },
   {
    "duration": 33,
    "start_time": "2021-08-13T11:39:09.556Z"
   },
   {
    "duration": 626,
    "start_time": "2021-08-13T11:39:09.599Z"
   },
   {
    "duration": 27,
    "start_time": "2021-08-13T11:39:10.229Z"
   },
   {
    "duration": 42,
    "start_time": "2021-08-13T11:39:10.259Z"
   },
   {
    "duration": 26,
    "start_time": "2021-08-13T11:39:10.303Z"
   },
   {
    "duration": 10,
    "start_time": "2021-08-13T11:39:10.332Z"
   },
   {
    "duration": 3422,
    "start_time": "2021-08-13T11:39:10.346Z"
   },
   {
    "duration": 22,
    "start_time": "2021-08-13T11:39:13.771Z"
   },
   {
    "duration": 3226,
    "start_time": "2021-08-13T11:39:13.796Z"
   },
   {
    "duration": 5,
    "start_time": "2021-08-13T11:39:17.024Z"
   },
   {
    "duration": 9,
    "start_time": "2021-08-13T11:39:17.032Z"
   },
   {
    "duration": 42,
    "start_time": "2021-08-13T11:39:17.044Z"
   },
   {
    "duration": 14,
    "start_time": "2021-08-13T11:39:17.090Z"
   },
   {
    "duration": 9,
    "start_time": "2021-08-13T11:39:17.108Z"
   },
   {
    "duration": 10,
    "start_time": "2021-08-13T11:39:17.120Z"
   },
   {
    "duration": 52,
    "start_time": "2021-08-13T11:39:17.133Z"
   },
   {
    "duration": 14,
    "start_time": "2021-08-13T11:39:17.188Z"
   },
   {
    "duration": 1074,
    "start_time": "2021-08-13T14:39:19.539Z"
   },
   {
    "duration": 559,
    "start_time": "2021-08-13T14:39:20.615Z"
   },
   {
    "duration": 28,
    "start_time": "2021-08-13T14:39:21.176Z"
   },
   {
    "duration": 23,
    "start_time": "2021-08-13T14:39:21.205Z"
   },
   {
    "duration": 18,
    "start_time": "2021-08-13T14:39:21.230Z"
   },
   {
    "duration": 12,
    "start_time": "2021-08-13T14:39:21.250Z"
   },
   {
    "duration": 20,
    "start_time": "2021-08-13T14:39:21.263Z"
   },
   {
    "duration": 19,
    "start_time": "2021-08-13T14:39:21.285Z"
   },
   {
    "duration": 57,
    "start_time": "2021-08-13T14:39:21.306Z"
   },
   {
    "duration": 22,
    "start_time": "2021-08-13T14:39:21.365Z"
   },
   {
    "duration": 14,
    "start_time": "2021-08-13T14:39:21.389Z"
   },
   {
    "duration": 47,
    "start_time": "2021-08-13T14:39:21.405Z"
   },
   {
    "duration": 16,
    "start_time": "2021-08-13T14:39:21.454Z"
   },
   {
    "duration": 24,
    "start_time": "2021-08-13T14:39:21.471Z"
   },
   {
    "duration": 21,
    "start_time": "2021-08-13T14:39:21.497Z"
   },
   {
    "duration": 33,
    "start_time": "2021-08-13T14:39:21.519Z"
   },
   {
    "duration": 9,
    "start_time": "2021-08-13T14:39:21.554Z"
   },
   {
    "duration": 34,
    "start_time": "2021-08-13T14:39:21.565Z"
   },
   {
    "duration": 6,
    "start_time": "2021-08-13T14:39:21.600Z"
   },
   {
    "duration": 20,
    "start_time": "2021-08-13T14:39:21.607Z"
   },
   {
    "duration": 16,
    "start_time": "2021-08-13T14:39:21.629Z"
   },
   {
    "duration": 73,
    "start_time": "2021-08-13T14:39:21.647Z"
   },
   {
    "duration": 39,
    "start_time": "2021-08-13T14:39:21.723Z"
   },
   {
    "duration": 47,
    "start_time": "2021-08-13T14:39:21.764Z"
   },
   {
    "duration": 62,
    "start_time": "2021-08-13T14:39:21.812Z"
   },
   {
    "duration": 24,
    "start_time": "2021-08-13T14:39:21.875Z"
   },
   {
    "duration": 5,
    "start_time": "2021-08-13T14:39:21.901Z"
   },
   {
    "duration": 15,
    "start_time": "2021-08-13T14:39:21.907Z"
   },
   {
    "duration": 19,
    "start_time": "2021-08-13T14:39:21.924Z"
   },
   {
    "duration": 7,
    "start_time": "2021-08-13T14:39:21.945Z"
   },
   {
    "duration": 16,
    "start_time": "2021-08-13T14:39:21.953Z"
   },
   {
    "duration": 7,
    "start_time": "2021-08-13T14:39:21.971Z"
   },
   {
    "duration": 25,
    "start_time": "2021-08-13T14:39:21.980Z"
   },
   {
    "duration": 317,
    "start_time": "2021-08-13T14:39:27.760Z"
   },
   {
    "duration": 266,
    "start_time": "2021-08-13T14:39:34.056Z"
   },
   {
    "duration": 7,
    "start_time": "2021-08-13T14:39:39.130Z"
   },
   {
    "duration": 3,
    "start_time": "2021-08-13T14:40:31.699Z"
   },
   {
    "duration": 601,
    "start_time": "2021-08-13T14:40:31.705Z"
   },
   {
    "duration": 23,
    "start_time": "2021-08-13T14:40:32.308Z"
   },
   {
    "duration": 26,
    "start_time": "2021-08-13T14:40:32.333Z"
   },
   {
    "duration": 17,
    "start_time": "2021-08-13T14:40:32.361Z"
   },
   {
    "duration": 18,
    "start_time": "2021-08-13T14:40:32.379Z"
   },
   {
    "duration": 24,
    "start_time": "2021-08-13T14:40:32.398Z"
   },
   {
    "duration": 28,
    "start_time": "2021-08-13T14:40:32.424Z"
   },
   {
    "duration": 31,
    "start_time": "2021-08-13T14:40:32.455Z"
   },
   {
    "duration": 21,
    "start_time": "2021-08-13T14:40:32.487Z"
   },
   {
    "duration": 13,
    "start_time": "2021-08-13T14:40:32.510Z"
   },
   {
    "duration": 27,
    "start_time": "2021-08-13T14:40:32.541Z"
   },
   {
    "duration": 15,
    "start_time": "2021-08-13T14:40:32.569Z"
   },
   {
    "duration": 35,
    "start_time": "2021-08-13T14:40:32.585Z"
   },
   {
    "duration": 28,
    "start_time": "2021-08-13T14:40:32.622Z"
   },
   {
    "duration": 14,
    "start_time": "2021-08-13T14:40:32.652Z"
   },
   {
    "duration": 16,
    "start_time": "2021-08-13T14:40:32.667Z"
   },
   {
    "duration": 24,
    "start_time": "2021-08-13T14:40:32.685Z"
   },
   {
    "duration": 7,
    "start_time": "2021-08-13T14:40:32.710Z"
   },
   {
    "duration": 31,
    "start_time": "2021-08-13T14:40:32.718Z"
   },
   {
    "duration": 8,
    "start_time": "2021-08-13T14:40:32.751Z"
   },
   {
    "duration": 90,
    "start_time": "2021-08-13T14:40:32.760Z"
   },
   {
    "duration": 29,
    "start_time": "2021-08-13T14:40:32.852Z"
   },
   {
    "duration": 63,
    "start_time": "2021-08-13T14:40:32.885Z"
   },
   {
    "duration": 45,
    "start_time": "2021-08-13T14:40:32.950Z"
   },
   {
    "duration": 44,
    "start_time": "2021-08-13T14:40:32.997Z"
   },
   {
    "duration": 5,
    "start_time": "2021-08-13T14:40:33.043Z"
   },
   {
    "duration": 11,
    "start_time": "2021-08-13T14:40:33.050Z"
   },
   {
    "duration": 19,
    "start_time": "2021-08-13T14:40:33.062Z"
   },
   {
    "duration": 18,
    "start_time": "2021-08-13T14:40:33.082Z"
   },
   {
    "duration": 18,
    "start_time": "2021-08-13T14:40:33.101Z"
   },
   {
    "duration": 10,
    "start_time": "2021-08-13T14:40:33.120Z"
   },
   {
    "duration": 18,
    "start_time": "2021-08-13T14:40:33.132Z"
   },
   {
    "duration": 8,
    "start_time": "2021-08-13T14:40:33.411Z"
   },
   {
    "duration": 3,
    "start_time": "2021-08-13T14:42:26.899Z"
   },
   {
    "duration": 567,
    "start_time": "2021-08-13T14:42:26.906Z"
   },
   {
    "duration": 24,
    "start_time": "2021-08-13T14:42:27.475Z"
   },
   {
    "duration": 29,
    "start_time": "2021-08-13T14:42:27.501Z"
   },
   {
    "duration": 18,
    "start_time": "2021-08-13T14:42:27.532Z"
   },
   {
    "duration": 17,
    "start_time": "2021-08-13T14:42:27.551Z"
   },
   {
    "duration": 23,
    "start_time": "2021-08-13T14:42:27.570Z"
   },
   {
    "duration": 31,
    "start_time": "2021-08-13T14:42:27.594Z"
   },
   {
    "duration": 31,
    "start_time": "2021-08-13T14:42:27.627Z"
   },
   {
    "duration": 20,
    "start_time": "2021-08-13T14:42:27.660Z"
   },
   {
    "duration": 22,
    "start_time": "2021-08-13T14:42:27.681Z"
   },
   {
    "duration": 41,
    "start_time": "2021-08-13T14:42:27.705Z"
   },
   {
    "duration": 24,
    "start_time": "2021-08-13T14:42:27.747Z"
   },
   {
    "duration": 21,
    "start_time": "2021-08-13T14:42:27.772Z"
   },
   {
    "duration": 29,
    "start_time": "2021-08-13T14:42:27.794Z"
   },
   {
    "duration": 17,
    "start_time": "2021-08-13T14:42:27.825Z"
   },
   {
    "duration": 23,
    "start_time": "2021-08-13T14:42:27.844Z"
   },
   {
    "duration": 27,
    "start_time": "2021-08-13T14:42:27.869Z"
   },
   {
    "duration": 6,
    "start_time": "2021-08-13T14:42:27.898Z"
   },
   {
    "duration": 30,
    "start_time": "2021-08-13T14:42:27.905Z"
   },
   {
    "duration": 19,
    "start_time": "2021-08-13T14:42:27.937Z"
   },
   {
    "duration": 79,
    "start_time": "2021-08-13T14:42:27.958Z"
   },
   {
    "duration": 25,
    "start_time": "2021-08-13T14:42:28.038Z"
   },
   {
    "duration": 43,
    "start_time": "2021-08-13T14:42:28.067Z"
   },
   {
    "duration": 58,
    "start_time": "2021-08-13T14:42:28.112Z"
   },
   {
    "duration": 22,
    "start_time": "2021-08-13T14:42:28.171Z"
   },
   {
    "duration": 19,
    "start_time": "2021-08-13T14:42:28.194Z"
   },
   {
    "duration": 27,
    "start_time": "2021-08-13T14:42:28.214Z"
   },
   {
    "duration": 15,
    "start_time": "2021-08-13T14:42:28.242Z"
   },
   {
    "duration": 25,
    "start_time": "2021-08-13T14:42:28.259Z"
   },
   {
    "duration": 24,
    "start_time": "2021-08-13T14:42:28.286Z"
   },
   {
    "duration": 35,
    "start_time": "2021-08-13T14:42:28.311Z"
   },
   {
    "duration": 30,
    "start_time": "2021-08-13T14:42:28.348Z"
   },
   {
    "duration": 4,
    "start_time": "2021-08-13T14:42:28.380Z"
   },
   {
    "duration": 25,
    "start_time": "2021-08-13T14:42:28.386Z"
   },
   {
    "duration": 32,
    "start_time": "2021-08-13T14:42:28.412Z"
   },
   {
    "duration": 18,
    "start_time": "2021-08-13T14:42:28.445Z"
   },
   {
    "duration": 212,
    "start_time": "2021-08-13T14:42:28.465Z"
   },
   {
    "duration": 15,
    "start_time": "2021-08-13T14:42:28.678Z"
   },
   {
    "duration": 34,
    "start_time": "2021-08-13T14:42:28.694Z"
   },
   {
    "duration": 33,
    "start_time": "2021-08-13T14:42:28.729Z"
   },
   {
    "duration": 27,
    "start_time": "2021-08-13T14:42:28.764Z"
   },
   {
    "duration": 1866,
    "start_time": "2021-08-13T14:42:28.792Z"
   },
   {
    "duration": 6,
    "start_time": "2021-08-13T14:42:30.660Z"
   },
   {
    "duration": 1441,
    "start_time": "2021-08-13T14:42:30.668Z"
   },
   {
    "duration": 4,
    "start_time": "2021-08-13T14:42:32.110Z"
   },
   {
    "duration": 6,
    "start_time": "2021-08-13T14:42:32.116Z"
   },
   {
    "duration": 5,
    "start_time": "2021-08-13T14:42:32.141Z"
   },
   {
    "duration": 8,
    "start_time": "2021-08-13T14:42:32.147Z"
   },
   {
    "duration": 4,
    "start_time": "2021-08-13T14:42:32.156Z"
   },
   {
    "duration": 6,
    "start_time": "2021-08-13T14:42:32.162Z"
   },
   {
    "duration": 6,
    "start_time": "2021-08-13T14:42:32.169Z"
   },
   {
    "duration": 4,
    "start_time": "2021-08-13T14:42:32.177Z"
   },
   {
    "duration": 15,
    "start_time": "2021-08-13T15:07:00.801Z"
   },
   {
    "duration": 30,
    "start_time": "2021-08-13T15:07:22.418Z"
   },
   {
    "duration": 57,
    "start_time": "2021-08-13T15:07:55.730Z"
   },
   {
    "duration": 399,
    "start_time": "2021-08-13T15:09:08.427Z"
   },
   {
    "duration": 293,
    "start_time": "2021-08-13T17:40:08.709Z"
   },
   {
    "duration": 1082,
    "start_time": "2021-08-13T17:40:18.024Z"
   },
   {
    "duration": 550,
    "start_time": "2021-08-13T17:40:19.107Z"
   },
   {
    "duration": 30,
    "start_time": "2021-08-13T17:40:19.659Z"
   },
   {
    "duration": 22,
    "start_time": "2021-08-13T17:40:19.690Z"
   },
   {
    "duration": 29,
    "start_time": "2021-08-13T17:40:19.713Z"
   },
   {
    "duration": 12,
    "start_time": "2021-08-13T17:40:19.743Z"
   },
   {
    "duration": 16,
    "start_time": "2021-08-13T17:40:19.757Z"
   },
   {
    "duration": 20,
    "start_time": "2021-08-13T17:40:19.776Z"
   },
   {
    "duration": 66,
    "start_time": "2021-08-13T17:40:19.799Z"
   },
   {
    "duration": 25,
    "start_time": "2021-08-13T17:40:19.866Z"
   },
   {
    "duration": 15,
    "start_time": "2021-08-13T17:40:19.893Z"
   },
   {
    "duration": 54,
    "start_time": "2021-08-13T17:40:19.909Z"
   },
   {
    "duration": 16,
    "start_time": "2021-08-13T17:40:19.965Z"
   },
   {
    "duration": 27,
    "start_time": "2021-08-13T17:40:19.983Z"
   },
   {
    "duration": 54,
    "start_time": "2021-08-13T17:40:20.012Z"
   },
   {
    "duration": 15,
    "start_time": "2021-08-13T17:40:20.068Z"
   },
   {
    "duration": 9,
    "start_time": "2021-08-13T17:40:20.085Z"
   },
   {
    "duration": 19,
    "start_time": "2021-08-13T17:40:20.096Z"
   },
   {
    "duration": 25,
    "start_time": "2021-08-13T17:40:20.116Z"
   },
   {
    "duration": 14,
    "start_time": "2021-08-13T17:40:20.143Z"
   },
   {
    "duration": 11,
    "start_time": "2021-08-13T17:40:20.158Z"
   },
   {
    "duration": 102,
    "start_time": "2021-08-13T17:40:20.171Z"
   },
   {
    "duration": 29,
    "start_time": "2021-08-13T17:40:20.276Z"
   },
   {
    "duration": 66,
    "start_time": "2021-08-13T17:40:20.308Z"
   },
   {
    "duration": 46,
    "start_time": "2021-08-13T17:40:20.376Z"
   },
   {
    "duration": 82,
    "start_time": "2021-08-13T17:40:20.424Z"
   },
   {
    "duration": -736,
    "start_time": "2021-08-13T17:40:21.244Z"
   },
   {
    "duration": -744,
    "start_time": "2021-08-13T17:40:21.253Z"
   },
   {
    "duration": -751,
    "start_time": "2021-08-13T17:40:21.261Z"
   },
   {
    "duration": -759,
    "start_time": "2021-08-13T17:40:21.270Z"
   },
   {
    "duration": -767,
    "start_time": "2021-08-13T17:40:21.278Z"
   },
   {
    "duration": -775,
    "start_time": "2021-08-13T17:40:21.287Z"
   },
   {
    "duration": -782,
    "start_time": "2021-08-13T17:40:21.295Z"
   },
   {
    "duration": -790,
    "start_time": "2021-08-13T17:40:21.304Z"
   },
   {
    "duration": -797,
    "start_time": "2021-08-13T17:40:21.312Z"
   },
   {
    "duration": -806,
    "start_time": "2021-08-13T17:40:21.321Z"
   },
   {
    "duration": -813,
    "start_time": "2021-08-13T17:40:21.329Z"
   },
   {
    "duration": -821,
    "start_time": "2021-08-13T17:40:21.338Z"
   },
   {
    "duration": -828,
    "start_time": "2021-08-13T17:40:21.345Z"
   },
   {
    "duration": -836,
    "start_time": "2021-08-13T17:40:21.354Z"
   },
   {
    "duration": -1350,
    "start_time": "2021-08-13T17:40:21.869Z"
   },
   {
    "duration": -1420,
    "start_time": "2021-08-13T17:40:21.940Z"
   },
   {
    "duration": -1427,
    "start_time": "2021-08-13T17:40:21.948Z"
   },
   {
    "duration": -1436,
    "start_time": "2021-08-13T17:40:21.958Z"
   },
   {
    "duration": -1444,
    "start_time": "2021-08-13T17:40:21.966Z"
   },
   {
    "duration": -1452,
    "start_time": "2021-08-13T17:40:21.975Z"
   },
   {
    "duration": -1459,
    "start_time": "2021-08-13T17:40:21.983Z"
   },
   {
    "duration": -1466,
    "start_time": "2021-08-13T17:40:21.991Z"
   },
   {
    "duration": 3,
    "start_time": "2021-08-13T17:41:28.088Z"
   },
   {
    "duration": 538,
    "start_time": "2021-08-13T17:41:28.095Z"
   },
   {
    "duration": 26,
    "start_time": "2021-08-13T17:41:28.635Z"
   },
   {
    "duration": 23,
    "start_time": "2021-08-13T17:41:28.663Z"
   },
   {
    "duration": 19,
    "start_time": "2021-08-13T17:41:28.688Z"
   },
   {
    "duration": 41,
    "start_time": "2021-08-13T17:41:28.708Z"
   },
   {
    "duration": 16,
    "start_time": "2021-08-13T17:41:28.751Z"
   },
   {
    "duration": 19,
    "start_time": "2021-08-13T17:41:28.768Z"
   },
   {
    "duration": 53,
    "start_time": "2021-08-13T17:41:28.790Z"
   },
   {
    "duration": 23,
    "start_time": "2021-08-13T17:41:28.846Z"
   },
   {
    "duration": 14,
    "start_time": "2021-08-13T17:41:28.870Z"
   },
   {
    "duration": 56,
    "start_time": "2021-08-13T17:41:28.886Z"
   },
   {
    "duration": 26,
    "start_time": "2021-08-13T17:41:28.944Z"
   },
   {
    "duration": 27,
    "start_time": "2021-08-13T17:41:28.972Z"
   },
   {
    "duration": 42,
    "start_time": "2021-08-13T17:41:29.000Z"
   },
   {
    "duration": 28,
    "start_time": "2021-08-13T17:41:29.044Z"
   },
   {
    "duration": 7,
    "start_time": "2021-08-13T17:41:29.074Z"
   },
   {
    "duration": 17,
    "start_time": "2021-08-13T17:41:29.083Z"
   },
   {
    "duration": 4,
    "start_time": "2021-08-13T17:41:29.102Z"
   },
   {
    "duration": 17,
    "start_time": "2021-08-13T17:41:29.108Z"
   },
   {
    "duration": 28,
    "start_time": "2021-08-13T17:41:29.126Z"
   },
   {
    "duration": 85,
    "start_time": "2021-08-13T17:41:29.156Z"
   },
   {
    "duration": 36,
    "start_time": "2021-08-13T17:41:29.242Z"
   },
   {
    "duration": 42,
    "start_time": "2021-08-13T17:41:29.282Z"
   },
   {
    "duration": 54,
    "start_time": "2021-08-13T17:41:29.341Z"
   },
   {
    "duration": 22,
    "start_time": "2021-08-13T17:41:29.397Z"
   },
   {
    "duration": 22,
    "start_time": "2021-08-13T17:41:29.420Z"
   },
   {
    "duration": 6,
    "start_time": "2021-08-13T17:41:29.443Z"
   },
   {
    "duration": 13,
    "start_time": "2021-08-13T17:41:29.451Z"
   },
   {
    "duration": 8,
    "start_time": "2021-08-13T17:41:29.466Z"
   },
   {
    "duration": 15,
    "start_time": "2021-08-13T17:41:29.476Z"
   },
   {
    "duration": 8,
    "start_time": "2021-08-13T17:41:29.493Z"
   },
   {
    "duration": 48,
    "start_time": "2021-08-13T17:41:29.503Z"
   },
   {
    "duration": 5,
    "start_time": "2021-08-13T17:41:29.553Z"
   },
   {
    "duration": 6,
    "start_time": "2021-08-13T17:41:29.560Z"
   },
   {
    "duration": 6,
    "start_time": "2021-08-13T17:41:29.568Z"
   },
   {
    "duration": 4,
    "start_time": "2021-08-13T17:41:29.575Z"
   },
   {
    "duration": 214,
    "start_time": "2021-08-13T17:41:29.581Z"
   },
   {
    "duration": 20,
    "start_time": "2021-08-13T17:41:29.797Z"
   },
   {
    "duration": 27,
    "start_time": "2021-08-13T17:41:29.819Z"
   },
   {
    "duration": 18,
    "start_time": "2021-08-13T17:41:29.848Z"
   },
   {
    "duration": 6,
    "start_time": "2021-08-13T17:41:29.868Z"
   },
   {
    "duration": 1629,
    "start_time": "2021-08-13T17:41:29.876Z"
   },
   {
    "duration": 7,
    "start_time": "2021-08-13T17:41:31.507Z"
   },
   {
    "duration": 1600,
    "start_time": "2021-08-13T17:41:31.516Z"
   },
   {
    "duration": 48,
    "start_time": "2021-08-13T17:41:33.117Z"
   },
   {
    "duration": 62,
    "start_time": "2021-08-13T17:41:33.167Z"
   },
   {
    "duration": 400,
    "start_time": "2021-08-13T17:41:33.245Z"
   },
   {
    "duration": 89,
    "start_time": "2021-08-13T17:44:56.948Z"
   },
   {
    "duration": 1214,
    "start_time": "2021-08-13T17:45:25.956Z"
   },
   {
    "duration": 1037,
    "start_time": "2021-08-13T17:45:48.715Z"
   },
   {
    "duration": 961,
    "start_time": "2021-08-13T17:46:27.412Z"
   },
   {
    "duration": 293,
    "start_time": "2021-08-13T17:59:19.889Z"
   },
   {
    "duration": 252,
    "start_time": "2021-08-13T17:59:44.081Z"
   },
   {
    "duration": 5,
    "start_time": "2021-08-13T18:00:13.559Z"
   },
   {
    "duration": 10,
    "start_time": "2021-08-13T18:08:02.096Z"
   },
   {
    "duration": 3,
    "start_time": "2021-08-13T18:12:50.527Z"
   },
   {
    "duration": 552,
    "start_time": "2021-08-13T18:12:50.533Z"
   },
   {
    "duration": 26,
    "start_time": "2021-08-13T18:12:51.087Z"
   },
   {
    "duration": 22,
    "start_time": "2021-08-13T18:12:51.115Z"
   },
   {
    "duration": 19,
    "start_time": "2021-08-13T18:12:51.140Z"
   },
   {
    "duration": 11,
    "start_time": "2021-08-13T18:12:51.161Z"
   },
   {
    "duration": 14,
    "start_time": "2021-08-13T18:12:51.174Z"
   },
   {
    "duration": 20,
    "start_time": "2021-08-13T18:12:51.189Z"
   },
   {
    "duration": 28,
    "start_time": "2021-08-13T18:12:51.242Z"
   },
   {
    "duration": 21,
    "start_time": "2021-08-13T18:12:51.272Z"
   },
   {
    "duration": 14,
    "start_time": "2021-08-13T18:12:51.294Z"
   },
   {
    "duration": 58,
    "start_time": "2021-08-13T18:12:51.309Z"
   },
   {
    "duration": 17,
    "start_time": "2021-08-13T18:12:51.368Z"
   },
   {
    "duration": 22,
    "start_time": "2021-08-13T18:12:51.387Z"
   },
   {
    "duration": 41,
    "start_time": "2021-08-13T18:12:51.410Z"
   },
   {
    "duration": 11,
    "start_time": "2021-08-13T18:12:51.453Z"
   },
   {
    "duration": 12,
    "start_time": "2021-08-13T18:12:51.466Z"
   },
   {
    "duration": 24,
    "start_time": "2021-08-13T18:12:51.479Z"
   },
   {
    "duration": 6,
    "start_time": "2021-08-13T18:12:51.505Z"
   },
   {
    "duration": 30,
    "start_time": "2021-08-13T18:12:51.513Z"
   },
   {
    "duration": 11,
    "start_time": "2021-08-13T18:12:51.545Z"
   },
   {
    "duration": 84,
    "start_time": "2021-08-13T18:12:51.558Z"
   },
   {
    "duration": 25,
    "start_time": "2021-08-13T18:12:51.644Z"
   },
   {
    "duration": 44,
    "start_time": "2021-08-13T18:12:51.673Z"
   },
   {
    "duration": 58,
    "start_time": "2021-08-13T18:12:51.719Z"
   },
   {
    "duration": 23,
    "start_time": "2021-08-13T18:12:51.779Z"
   },
   {
    "duration": 5,
    "start_time": "2021-08-13T18:12:51.803Z"
   },
   {
    "duration": 31,
    "start_time": "2021-08-13T18:12:51.810Z"
   },
   {
    "duration": 6,
    "start_time": "2021-08-13T18:12:51.842Z"
   },
   {
    "duration": 8,
    "start_time": "2021-08-13T18:12:51.849Z"
   },
   {
    "duration": 13,
    "start_time": "2021-08-13T18:12:51.859Z"
   },
   {
    "duration": 10,
    "start_time": "2021-08-13T18:12:51.873Z"
   },
   {
    "duration": 20,
    "start_time": "2021-08-13T18:12:51.884Z"
   },
   {
    "duration": 5,
    "start_time": "2021-08-13T18:12:51.906Z"
   },
   {
    "duration": 31,
    "start_time": "2021-08-13T18:12:51.912Z"
   },
   {
    "duration": 7,
    "start_time": "2021-08-13T18:12:51.945Z"
   },
   {
    "duration": 9,
    "start_time": "2021-08-13T18:12:51.953Z"
   },
   {
    "duration": 200,
    "start_time": "2021-08-13T18:12:51.963Z"
   },
   {
    "duration": 19,
    "start_time": "2021-08-13T18:12:52.164Z"
   },
   {
    "duration": 10,
    "start_time": "2021-08-13T18:12:52.184Z"
   },
   {
    "duration": 17,
    "start_time": "2021-08-13T18:12:52.196Z"
   },
   {
    "duration": 27,
    "start_time": "2021-08-13T18:12:52.215Z"
   },
   {
    "duration": 1650,
    "start_time": "2021-08-13T18:12:52.244Z"
   },
   {
    "duration": 6,
    "start_time": "2021-08-13T18:12:53.896Z"
   },
   {
    "duration": 1814,
    "start_time": "2021-08-13T18:12:53.903Z"
   },
   {
    "duration": 49,
    "start_time": "2021-08-13T18:12:55.718Z"
   },
   {
    "duration": 58,
    "start_time": "2021-08-13T18:12:55.768Z"
   },
   {
    "duration": 1003,
    "start_time": "2021-08-13T18:12:55.828Z"
   },
   {
    "duration": 9,
    "start_time": "2021-08-13T18:12:56.833Z"
   },
   {
    "duration": 4,
    "start_time": "2021-08-13T18:12:56.844Z"
   },
   {
    "duration": 7,
    "start_time": "2021-08-13T18:12:56.849Z"
   },
   {
    "duration": 8,
    "start_time": "2021-08-13T18:12:56.859Z"
   },
   {
    "duration": 12,
    "start_time": "2021-08-13T18:12:56.869Z"
   },
   {
    "duration": 6,
    "start_time": "2021-08-13T18:12:56.883Z"
   },
   {
    "duration": 5,
    "start_time": "2021-08-13T18:12:56.890Z"
   },
   {
    "duration": 6,
    "start_time": "2021-08-13T18:12:56.897Z"
   },
   {
    "duration": 387,
    "start_time": "2022-01-23T10:36:33.706Z"
   },
   {
    "duration": 1523,
    "start_time": "2022-01-23T10:36:39.592Z"
   },
   {
    "duration": 781,
    "start_time": "2022-01-23T10:36:41.118Z"
   },
   {
    "duration": 5,
    "start_time": "2022-01-23T11:05:21.687Z"
   },
   {
    "duration": 1996,
    "start_time": "2022-01-23T11:05:21.698Z"
   },
   {
    "duration": 41,
    "start_time": "2022-01-23T11:05:23.697Z"
   },
   {
    "duration": 33,
    "start_time": "2022-01-23T11:05:23.742Z"
   },
   {
    "duration": 42,
    "start_time": "2022-01-23T11:05:23.779Z"
   },
   {
    "duration": 55,
    "start_time": "2022-01-23T11:05:23.824Z"
   },
   {
    "duration": 25,
    "start_time": "2022-01-23T11:05:23.882Z"
   },
   {
    "duration": 62,
    "start_time": "2022-01-23T11:05:23.910Z"
   },
   {
    "duration": 40,
    "start_time": "2022-01-23T11:05:23.976Z"
   },
   {
    "duration": 65,
    "start_time": "2022-01-23T11:05:24.019Z"
   },
   {
    "duration": 18,
    "start_time": "2022-01-23T11:05:24.087Z"
   },
   {
    "duration": 67,
    "start_time": "2022-01-23T11:05:24.108Z"
   },
   {
    "duration": 24,
    "start_time": "2022-01-23T11:05:24.178Z"
   },
   {
    "duration": 42,
    "start_time": "2022-01-23T11:05:24.205Z"
   },
   {
    "duration": 42,
    "start_time": "2022-01-23T11:05:24.250Z"
   },
   {
    "duration": 18,
    "start_time": "2022-01-23T11:05:24.295Z"
   },
   {
    "duration": 11,
    "start_time": "2022-01-23T11:05:24.316Z"
   },
   {
    "duration": 29,
    "start_time": "2022-01-23T11:05:24.370Z"
   },
   {
    "duration": 8,
    "start_time": "2022-01-23T11:05:24.402Z"
   },
   {
    "duration": 22,
    "start_time": "2022-01-23T11:05:24.412Z"
   },
   {
    "duration": 46,
    "start_time": "2022-01-23T11:05:24.436Z"
   },
   {
    "duration": 128,
    "start_time": "2022-01-23T11:05:24.485Z"
   },
   {
    "duration": 56,
    "start_time": "2022-01-23T11:05:24.615Z"
   },
   {
    "duration": 72,
    "start_time": "2022-01-23T11:05:24.676Z"
   },
   {
    "duration": 100,
    "start_time": "2022-01-23T11:05:24.751Z"
   },
   {
    "duration": 62,
    "start_time": "2022-01-23T11:05:24.870Z"
   },
   {
    "duration": 34,
    "start_time": "2022-01-23T11:05:24.935Z"
   },
   {
    "duration": 10,
    "start_time": "2022-01-23T11:05:24.972Z"
   },
   {
    "duration": 16,
    "start_time": "2022-01-23T11:05:24.985Z"
   },
   {
    "duration": 19,
    "start_time": "2022-01-23T11:05:25.005Z"
   },
   {
    "duration": 55,
    "start_time": "2022-01-23T11:05:25.027Z"
   },
   {
    "duration": 24,
    "start_time": "2022-01-23T11:05:25.085Z"
   },
   {
    "duration": 31,
    "start_time": "2022-01-23T11:05:25.112Z"
   },
   {
    "duration": 27,
    "start_time": "2022-01-23T11:05:25.145Z"
   },
   {
    "duration": 6,
    "start_time": "2022-01-23T11:05:25.175Z"
   },
   {
    "duration": 8,
    "start_time": "2022-01-23T11:05:25.183Z"
   },
   {
    "duration": 6,
    "start_time": "2022-01-23T11:05:25.193Z"
   },
   {
    "duration": 375,
    "start_time": "2022-01-23T11:05:25.202Z"
   },
   {
    "duration": 31,
    "start_time": "2022-01-23T11:05:25.579Z"
   },
   {
    "duration": 13,
    "start_time": "2022-01-23T11:05:25.612Z"
   },
   {
    "duration": 59,
    "start_time": "2022-01-23T11:05:25.627Z"
   },
   {
    "duration": 11,
    "start_time": "2022-01-23T11:05:25.688Z"
   },
   {
    "duration": 3050,
    "start_time": "2022-01-23T11:05:25.701Z"
   },
   {
    "duration": 12,
    "start_time": "2022-01-23T11:06:23.137Z"
   },
   {
    "duration": 13,
    "start_time": "2022-01-23T11:12:05.943Z"
   },
   {
    "duration": 8,
    "start_time": "2022-01-23T11:12:19.046Z"
   },
   {
    "duration": 7978,
    "start_time": "2022-01-23T11:15:18.561Z"
   },
   {
    "duration": 8,
    "start_time": "2022-01-23T11:15:38.686Z"
   },
   {
    "duration": 4,
    "start_time": "2022-01-23T11:17:00.886Z"
   },
   {
    "duration": 739,
    "start_time": "2022-01-23T11:17:00.893Z"
   },
   {
    "duration": 36,
    "start_time": "2022-01-23T11:17:01.635Z"
   },
   {
    "duration": 33,
    "start_time": "2022-01-23T11:17:01.674Z"
   },
   {
    "duration": 28,
    "start_time": "2022-01-23T11:17:01.709Z"
   },
   {
    "duration": 48,
    "start_time": "2022-01-23T11:17:01.739Z"
   },
   {
    "duration": 24,
    "start_time": "2022-01-23T11:17:01.790Z"
   },
   {
    "duration": 62,
    "start_time": "2022-01-23T11:17:01.818Z"
   },
   {
    "duration": 48,
    "start_time": "2022-01-23T11:17:01.883Z"
   },
   {
    "duration": 52,
    "start_time": "2022-01-23T11:17:01.934Z"
   },
   {
    "duration": 20,
    "start_time": "2022-01-23T11:17:01.988Z"
   },
   {
    "duration": 70,
    "start_time": "2022-01-23T11:17:02.010Z"
   },
   {
    "duration": 23,
    "start_time": "2022-01-23T11:17:02.082Z"
   },
   {
    "duration": 63,
    "start_time": "2022-01-23T11:17:02.108Z"
   },
   {
    "duration": 29,
    "start_time": "2022-01-23T11:17:02.173Z"
   },
   {
    "duration": 21,
    "start_time": "2022-01-23T11:17:02.205Z"
   },
   {
    "duration": 45,
    "start_time": "2022-01-23T11:17:02.228Z"
   },
   {
    "duration": 30,
    "start_time": "2022-01-23T11:17:02.275Z"
   },
   {
    "duration": 9,
    "start_time": "2022-01-23T11:17:02.311Z"
   },
   {
    "duration": 47,
    "start_time": "2022-01-23T11:17:02.323Z"
   },
   {
    "duration": 15,
    "start_time": "2022-01-23T11:17:02.373Z"
   },
   {
    "duration": 126,
    "start_time": "2022-01-23T11:17:02.391Z"
   },
   {
    "duration": 54,
    "start_time": "2022-01-23T11:17:02.520Z"
   },
   {
    "duration": 76,
    "start_time": "2022-01-23T11:17:02.576Z"
   },
   {
    "duration": 68,
    "start_time": "2022-01-23T11:17:02.670Z"
   },
   {
    "duration": 61,
    "start_time": "2022-01-23T11:17:02.741Z"
   },
   {
    "duration": 7,
    "start_time": "2022-01-23T11:17:02.805Z"
   },
   {
    "duration": 6,
    "start_time": "2022-01-23T11:17:02.815Z"
   },
   {
    "duration": 8,
    "start_time": "2022-01-23T11:17:02.824Z"
   },
   {
    "duration": 45,
    "start_time": "2022-01-23T11:17:02.835Z"
   },
   {
    "duration": 23,
    "start_time": "2022-01-23T11:17:02.883Z"
   },
   {
    "duration": 14,
    "start_time": "2022-01-23T11:17:02.908Z"
   },
   {
    "duration": 74,
    "start_time": "2022-01-23T11:17:02.924Z"
   },
   {
    "duration": 7,
    "start_time": "2022-01-23T11:17:03.000Z"
   },
   {
    "duration": 7,
    "start_time": "2022-01-23T11:17:03.009Z"
   },
   {
    "duration": 6,
    "start_time": "2022-01-23T11:17:03.018Z"
   },
   {
    "duration": 7,
    "start_time": "2022-01-23T11:17:03.026Z"
   },
   {
    "duration": 386,
    "start_time": "2022-01-23T11:17:03.035Z"
   },
   {
    "duration": 47,
    "start_time": "2022-01-23T11:17:03.424Z"
   },
   {
    "duration": 15,
    "start_time": "2022-01-23T11:17:03.474Z"
   },
   {
    "duration": 32,
    "start_time": "2022-01-23T11:17:03.492Z"
   },
   {
    "duration": 45,
    "start_time": "2022-01-23T11:17:03.527Z"
   },
   {
    "duration": 2960,
    "start_time": "2022-01-23T11:17:03.574Z"
   },
   {
    "duration": 10,
    "start_time": "2022-01-23T11:17:06.537Z"
   },
   {
    "duration": 7,
    "start_time": "2022-01-23T11:17:06.568Z"
   },
   {
    "duration": 2907,
    "start_time": "2022-01-23T11:17:24.407Z"
   },
   {
    "duration": 109,
    "start_time": "2022-01-23T12:33:18.285Z"
   },
   {
    "duration": 1869,
    "start_time": "2022-01-23T12:34:25.764Z"
   },
   {
    "duration": 5,
    "start_time": "2022-01-23T12:55:52.300Z"
   },
   {
    "duration": 680,
    "start_time": "2022-01-23T12:55:52.307Z"
   },
   {
    "duration": 37,
    "start_time": "2022-01-23T12:55:52.990Z"
   },
   {
    "duration": 45,
    "start_time": "2022-01-23T12:55:53.030Z"
   },
   {
    "duration": 29,
    "start_time": "2022-01-23T12:55:53.077Z"
   },
   {
    "duration": 19,
    "start_time": "2022-01-23T12:55:53.108Z"
   },
   {
    "duration": 57,
    "start_time": "2022-01-23T12:55:53.131Z"
   },
   {
    "duration": 28,
    "start_time": "2022-01-23T12:55:53.191Z"
   },
   {
    "duration": 74,
    "start_time": "2022-01-23T12:55:53.222Z"
   },
   {
    "duration": 33,
    "start_time": "2022-01-23T12:55:53.298Z"
   },
   {
    "duration": 44,
    "start_time": "2022-01-23T12:55:53.334Z"
   },
   {
    "duration": 87,
    "start_time": "2022-01-23T12:55:53.382Z"
   },
   {
    "duration": 37,
    "start_time": "2022-01-23T12:55:53.473Z"
   },
   {
    "duration": 73,
    "start_time": "2022-01-23T12:55:53.513Z"
   },
   {
    "duration": 40,
    "start_time": "2022-01-23T12:55:53.589Z"
   },
   {
    "duration": 49,
    "start_time": "2022-01-23T12:55:53.632Z"
   },
   {
    "duration": 15,
    "start_time": "2022-01-23T12:55:53.684Z"
   },
   {
    "duration": 69,
    "start_time": "2022-01-23T12:55:53.702Z"
   },
   {
    "duration": 11,
    "start_time": "2022-01-23T12:55:53.781Z"
   },
   {
    "duration": 24,
    "start_time": "2022-01-23T12:55:53.798Z"
   },
   {
    "duration": 53,
    "start_time": "2022-01-23T12:55:53.825Z"
   },
   {
    "duration": 125,
    "start_time": "2022-01-23T12:55:53.881Z"
   },
   {
    "duration": 60,
    "start_time": "2022-01-23T12:55:54.009Z"
   },
   {
    "duration": 77,
    "start_time": "2022-01-23T12:55:54.072Z"
   },
   {
    "duration": 81,
    "start_time": "2022-01-23T12:55:54.151Z"
   },
   {
    "duration": 63,
    "start_time": "2022-01-23T12:55:54.234Z"
   },
   {
    "duration": 9,
    "start_time": "2022-01-23T12:55:54.299Z"
   },
   {
    "duration": 13,
    "start_time": "2022-01-23T12:55:54.310Z"
   },
   {
    "duration": 13,
    "start_time": "2022-01-23T12:55:54.326Z"
   },
   {
    "duration": 39,
    "start_time": "2022-01-23T12:55:54.342Z"
   },
   {
    "duration": 24,
    "start_time": "2022-01-23T12:55:54.384Z"
   },
   {
    "duration": 16,
    "start_time": "2022-01-23T12:55:54.410Z"
   },
   {
    "duration": 64,
    "start_time": "2022-01-23T12:55:54.428Z"
   },
   {
    "duration": 7,
    "start_time": "2022-01-23T12:55:54.494Z"
   },
   {
    "duration": 10,
    "start_time": "2022-01-23T12:55:54.504Z"
   },
   {
    "duration": 5,
    "start_time": "2022-01-23T12:55:54.517Z"
   },
   {
    "duration": 7,
    "start_time": "2022-01-23T12:55:54.524Z"
   },
   {
    "duration": 426,
    "start_time": "2022-01-23T12:55:54.533Z"
   },
   {
    "duration": 38,
    "start_time": "2022-01-23T12:55:54.961Z"
   },
   {
    "duration": 14,
    "start_time": "2022-01-23T12:55:55.002Z"
   },
   {
    "duration": 60,
    "start_time": "2022-01-23T12:55:55.018Z"
   },
   {
    "duration": 11,
    "start_time": "2022-01-23T12:55:55.080Z"
   },
   {
    "duration": 3050,
    "start_time": "2022-01-23T12:55:55.093Z"
   },
   {
    "duration": 10,
    "start_time": "2022-01-23T12:55:58.145Z"
   },
   {
    "duration": 9,
    "start_time": "2022-01-23T12:55:58.171Z"
   },
   {
    "duration": 3125,
    "start_time": "2022-01-23T12:55:58.183Z"
   },
   {
    "duration": 78,
    "start_time": "2022-01-23T12:56:01.311Z"
   },
   {
    "duration": 1870,
    "start_time": "2022-01-23T12:56:01.391Z"
   },
   {
    "duration": 8,
    "start_time": "2022-01-23T12:56:03.269Z"
   },
   {
    "duration": 15,
    "start_time": "2022-01-23T12:56:03.279Z"
   },
   {
    "duration": 9,
    "start_time": "2022-01-23T12:56:03.297Z"
   },
   {
    "duration": 13,
    "start_time": "2022-01-23T12:56:03.308Z"
   },
   {
    "duration": 46,
    "start_time": "2022-01-23T12:56:03.323Z"
   },
   {
    "duration": 8,
    "start_time": "2022-01-23T12:56:03.372Z"
   },
   {
    "duration": 5,
    "start_time": "2022-01-23T12:56:03.386Z"
   },
   {
    "duration": 7,
    "start_time": "2022-01-23T12:56:03.393Z"
   }
  ],
  "kernelspec": {
   "display_name": "Python 3",
   "language": "python",
   "name": "python3"
  },
  "language_info": {
   "codemirror_mode": {
    "name": "ipython",
    "version": 3
   },
   "file_extension": ".py",
   "mimetype": "text/x-python",
   "name": "python",
   "nbconvert_exporter": "python",
   "pygments_lexer": "ipython3",
   "version": "3.8.8"
  },
  "toc": {
   "base_numbering": 1,
   "nav_menu": {
    "height": "340px",
    "width": "206px"
   },
   "number_sections": true,
   "sideBar": true,
   "skip_h1_title": true,
   "title_cell": "Содержание",
   "title_sidebar": "Contents",
   "toc_cell": true,
   "toc_position": {
    "height": "calc(100% - 180px)",
    "left": "10px",
    "top": "150px",
    "width": "255.594px"
   },
   "toc_section_display": true,
   "toc_window_display": true
  }
 },
 "nbformat": 4,
 "nbformat_minor": 2
}
