{
 "cells": [
  {
   "cell_type": "markdown",
   "metadata": {
    "toc": true
   },
   "source": [
    "<h1>Содержание<span class=\"tocSkip\"></span></h1>\n",
    "<div class=\"toc\"><ul class=\"toc-item\"><li><span><a href=\"#Подготовка\" data-toc-modified-id=\"Подготовка-1\"><span class=\"toc-item-num\">1&nbsp;&nbsp;</span>Подготовка</a></span><ul class=\"toc-item\"><li><span><a href=\"#Import\" data-toc-modified-id=\"Import-1.1\"><span class=\"toc-item-num\">1.1&nbsp;&nbsp;</span>Import</a></span></li><li><span><a href=\"#Анализ\" data-toc-modified-id=\"Анализ-1.2\"><span class=\"toc-item-num\">1.2&nbsp;&nbsp;</span>Анализ</a></span></li></ul></li><li><span><a href=\"#Tf-idf\" data-toc-modified-id=\"Tf-idf-2\"><span class=\"toc-item-num\">2&nbsp;&nbsp;</span>Tf-idf</a></span><ul class=\"toc-item\"><li><span><a href=\"#Извлекаем-леммы\" data-toc-modified-id=\"Извлекаем-леммы-2.1\"><span class=\"toc-item-num\">2.1&nbsp;&nbsp;</span>Извлекаем леммы</a></span></li></ul></li><li><span><a href=\"#Обучение-+-Валидация\" data-toc-modified-id=\"Обучение-+-Валидация-3\"><span class=\"toc-item-num\">3&nbsp;&nbsp;</span>Обучение + Валидация</a></span><ul class=\"toc-item\"><li><span><a href=\"#LogisticRegression\" data-toc-modified-id=\"LogisticRegression-3.1\"><span class=\"toc-item-num\">3.1&nbsp;&nbsp;</span>LogisticRegression</a></span></li><li><span><a href=\"#RandomForestClassifier\" data-toc-modified-id=\"RandomForestClassifier-3.2\"><span class=\"toc-item-num\">3.2&nbsp;&nbsp;</span>RandomForestClassifier</a></span></li><li><span><a href=\"#CatBoostClassifier\" data-toc-modified-id=\"CatBoostClassifier-3.3\"><span class=\"toc-item-num\">3.3&nbsp;&nbsp;</span>CatBoostClassifier</a></span></li></ul></li><li><span><a href=\"#Bert\" data-toc-modified-id=\"Bert-4\"><span class=\"toc-item-num\">4&nbsp;&nbsp;</span>Bert</a></span></li><li><span><a href=\"#Создание-эмбеддингов\" data-toc-modified-id=\"Создание-эмбеддингов-5\"><span class=\"toc-item-num\">5&nbsp;&nbsp;</span>Создание эмбеддингов</a></span></li><li><span><a href=\"#Подготовка-признаков\" data-toc-modified-id=\"Подготовка-признаков-6\"><span class=\"toc-item-num\">6&nbsp;&nbsp;</span>Подготовка признаков</a></span></li><li><span><a href=\"#Обучение-+-Валидация\" data-toc-modified-id=\"Обучение-+-Валидация-7\"><span class=\"toc-item-num\">7&nbsp;&nbsp;</span>Обучение + Валидация</a></span><ul class=\"toc-item\"><li><span><a href=\"#LogisticRegression\" data-toc-modified-id=\"LogisticRegression-7.1\"><span class=\"toc-item-num\">7.1&nbsp;&nbsp;</span>LogisticRegression</a></span></li><li><span><a href=\"#RandomForestClassifier\" data-toc-modified-id=\"RandomForestClassifier-7.2\"><span class=\"toc-item-num\">7.2&nbsp;&nbsp;</span>RandomForestClassifier</a></span></li><li><span><a href=\"#CatBoostClassifier\" data-toc-modified-id=\"CatBoostClassifier-7.3\"><span class=\"toc-item-num\">7.3&nbsp;&nbsp;</span>CatBoostClassifier</a></span></li></ul></li><li><span><a href=\"#Вывод\" data-toc-modified-id=\"Вывод-8\"><span class=\"toc-item-num\">8&nbsp;&nbsp;</span>Вывод</a></span></li><li><span><a href=\"#Подготовка-признаков\" data-toc-modified-id=\"Подготовка-признаков-9\"><span class=\"toc-item-num\">9&nbsp;&nbsp;</span>Подготовка признаков</a></span></li></ul></div>"
   ]
  },
  {
   "cell_type": "markdown",
   "metadata": {
    "id": "57Yx4Pfp8R95"
   },
   "source": [
    "# Разработка модели определения фейковых новостей"
   ]
  },
  {
   "cell_type": "markdown",
   "metadata": {
    "id": "UEwFOif_8R96"
   },
   "source": [
    "Требуется разработать модель, которая будет способна различать заголовки реальных и выдуманных новостей.\n",
    "\n",
    "Для обучения модели используйте данные из файла `train.tsv`. В файле находится таблица, состоящая из двух колонок. \n",
    "В колонке title записан заголовок новости. В колонке is_fake содержатся метки: 0 – новость реальная; 1 – новость выдуманная.\n",
    "Для демонстрации работы модели используйте данные тестового набора из файла `test.tsv`. В нем также есть колонка title, данные которой являются входными для вашей модели."
   ]
  },
  {
   "cell_type": "markdown",
   "metadata": {
    "id": "gnDV3b3q8R98"
   },
   "source": [
    "## Подготовка"
   ]
  },
  {
   "cell_type": "markdown",
   "metadata": {
    "id": "vRzhz9pt8R99"
   },
   "source": [
    "### Import"
   ]
  },
  {
   "cell_type": "code",
   "execution_count": 4,
   "metadata": {
    "colab": {
     "base_uri": "https://localhost:8080/"
    },
    "executionInfo": {
     "elapsed": 60500,
     "status": "ok",
     "timestamp": 1650194571678,
     "user": {
      "displayName": "Тимофей Волков",
      "userId": "10194013534399443615"
     },
     "user_tz": -300
    },
    "id": "cMyxrSaQ81Qk",
    "outputId": "75dbfdf1-5294-4027-9fb1-0cddb6e8c992"
   },
   "outputs": [
    {
     "name": "stdout",
     "output_type": "stream",
     "text": [
      "Collecting CatBoost\n",
      "  Downloading catboost-1.0.5-cp37-none-manylinux1_x86_64.whl (76.6 MB)\n",
      "\u001b[K     |████████████████████████████████| 76.6 MB 1.1 MB/s \n",
      "\u001b[?25hRequirement already satisfied: scipy in /usr/local/lib/python3.7/dist-packages (from CatBoost) (1.4.1)\n",
      "Requirement already satisfied: matplotlib in /usr/local/lib/python3.7/dist-packages (from CatBoost) (3.2.2)\n",
      "Requirement already satisfied: numpy>=1.16.0 in /usr/local/lib/python3.7/dist-packages (from CatBoost) (1.21.5)\n",
      "Requirement already satisfied: graphviz in /usr/local/lib/python3.7/dist-packages (from CatBoost) (0.10.1)\n",
      "Requirement already satisfied: six in /usr/local/lib/python3.7/dist-packages (from CatBoost) (1.15.0)\n",
      "Requirement already satisfied: plotly in /usr/local/lib/python3.7/dist-packages (from CatBoost) (5.5.0)\n",
      "Requirement already satisfied: pandas>=0.24.0 in /usr/local/lib/python3.7/dist-packages (from CatBoost) (1.3.5)\n",
      "Requirement already satisfied: python-dateutil>=2.7.3 in /usr/local/lib/python3.7/dist-packages (from pandas>=0.24.0->CatBoost) (2.8.2)\n",
      "Requirement already satisfied: pytz>=2017.3 in /usr/local/lib/python3.7/dist-packages (from pandas>=0.24.0->CatBoost) (2018.9)\n",
      "Requirement already satisfied: kiwisolver>=1.0.1 in /usr/local/lib/python3.7/dist-packages (from matplotlib->CatBoost) (1.4.2)\n",
      "Requirement already satisfied: pyparsing!=2.0.4,!=2.1.2,!=2.1.6,>=2.0.1 in /usr/local/lib/python3.7/dist-packages (from matplotlib->CatBoost) (3.0.8)\n",
      "Requirement already satisfied: cycler>=0.10 in /usr/local/lib/python3.7/dist-packages (from matplotlib->CatBoost) (0.11.0)\n",
      "Requirement already satisfied: typing-extensions in /usr/local/lib/python3.7/dist-packages (from kiwisolver>=1.0.1->matplotlib->CatBoost) (4.1.1)\n",
      "Requirement already satisfied: tenacity>=6.2.0 in /usr/local/lib/python3.7/dist-packages (from plotly->CatBoost) (8.0.1)\n",
      "Installing collected packages: CatBoost\n",
      "Successfully installed CatBoost-1.0.5\n",
      "Requirement already satisfied: spacy in /usr/local/lib/python3.7/dist-packages (2.2.4)\n",
      "Collecting spacy\n",
      "  Downloading spacy-3.2.4-cp37-cp37m-manylinux_2_17_x86_64.manylinux2014_x86_64.whl (6.0 MB)\n",
      "\u001b[K     |████████████████████████████████| 6.0 MB 14.7 MB/s \n",
      "\u001b[?25hRequirement already satisfied: wasabi<1.1.0,>=0.8.1 in /usr/local/lib/python3.7/dist-packages (from spacy) (0.9.1)\n",
      "Requirement already satisfied: jinja2 in /usr/local/lib/python3.7/dist-packages (from spacy) (2.11.3)\n",
      "Requirement already satisfied: requests<3.0.0,>=2.13.0 in /usr/local/lib/python3.7/dist-packages (from spacy) (2.23.0)\n",
      "Collecting pathy>=0.3.5\n",
      "  Downloading pathy-0.6.1-py3-none-any.whl (42 kB)\n",
      "\u001b[K     |████████████████████████████████| 42 kB 1.7 MB/s \n",
      "\u001b[?25hRequirement already satisfied: numpy>=1.15.0 in /usr/local/lib/python3.7/dist-packages (from spacy) (1.21.5)\n",
      "Collecting thinc<8.1.0,>=8.0.12\n",
      "  Downloading thinc-8.0.15-cp37-cp37m-manylinux_2_17_x86_64.manylinux2014_x86_64.whl (653 kB)\n",
      "\u001b[K     |████████████████████████████████| 653 kB 53.8 MB/s \n",
      "\u001b[?25hRequirement already satisfied: cymem<2.1.0,>=2.0.2 in /usr/local/lib/python3.7/dist-packages (from spacy) (2.0.6)\n",
      "Requirement already satisfied: preshed<3.1.0,>=3.0.2 in /usr/local/lib/python3.7/dist-packages (from spacy) (3.0.6)\n",
      "Collecting spacy-legacy<3.1.0,>=3.0.8\n",
      "  Downloading spacy_legacy-3.0.9-py2.py3-none-any.whl (20 kB)\n",
      "Requirement already satisfied: packaging>=20.0 in /usr/local/lib/python3.7/dist-packages (from spacy) (21.3)\n",
      "Requirement already satisfied: blis<0.8.0,>=0.4.0 in /usr/local/lib/python3.7/dist-packages (from spacy) (0.4.1)\n",
      "Collecting spacy-loggers<2.0.0,>=1.0.0\n",
      "  Downloading spacy_loggers-1.0.2-py3-none-any.whl (7.2 kB)\n",
      "Collecting typer<0.5.0,>=0.3.0\n",
      "  Downloading typer-0.4.1-py3-none-any.whl (27 kB)\n",
      "Requirement already satisfied: click<8.1.0 in /usr/local/lib/python3.7/dist-packages (from spacy) (7.1.2)\n",
      "Collecting catalogue<2.1.0,>=2.0.6\n",
      "  Downloading catalogue-2.0.7-py3-none-any.whl (17 kB)\n",
      "Collecting srsly<3.0.0,>=2.4.1\n",
      "  Downloading srsly-2.4.3-cp37-cp37m-manylinux_2_17_x86_64.manylinux2014_x86_64.whl (457 kB)\n",
      "\u001b[K     |████████████████████████████████| 457 kB 52.3 MB/s \n",
      "\u001b[?25hCollecting typing-extensions<4.0.0.0,>=3.7.4\n",
      "  Downloading typing_extensions-3.10.0.2-py3-none-any.whl (26 kB)\n",
      "Collecting langcodes<4.0.0,>=3.2.0\n",
      "  Downloading langcodes-3.3.0-py3-none-any.whl (181 kB)\n",
      "\u001b[K     |████████████████████████████████| 181 kB 62.4 MB/s \n",
      "\u001b[?25hCollecting pydantic!=1.8,!=1.8.1,<1.9.0,>=1.7.4\n",
      "  Downloading pydantic-1.8.2-cp37-cp37m-manylinux2014_x86_64.whl (10.1 MB)\n",
      "\u001b[K     |████████████████████████████████| 10.1 MB 48.5 MB/s \n",
      "\u001b[?25hRequirement already satisfied: murmurhash<1.1.0,>=0.28.0 in /usr/local/lib/python3.7/dist-packages (from spacy) (1.0.6)\n",
      "Requirement already satisfied: tqdm<5.0.0,>=4.38.0 in /usr/local/lib/python3.7/dist-packages (from spacy) (4.64.0)\n",
      "Requirement already satisfied: setuptools in /usr/local/lib/python3.7/dist-packages (from spacy) (57.4.0)\n",
      "Requirement already satisfied: zipp>=0.5 in /usr/local/lib/python3.7/dist-packages (from catalogue<2.1.0,>=2.0.6->spacy) (3.8.0)\n",
      "Requirement already satisfied: pyparsing!=3.0.5,>=2.0.2 in /usr/local/lib/python3.7/dist-packages (from packaging>=20.0->spacy) (3.0.8)\n",
      "Requirement already satisfied: smart-open<6.0.0,>=5.0.0 in /usr/local/lib/python3.7/dist-packages (from pathy>=0.3.5->spacy) (5.2.1)\n",
      "Requirement already satisfied: chardet<4,>=3.0.2 in /usr/local/lib/python3.7/dist-packages (from requests<3.0.0,>=2.13.0->spacy) (3.0.4)\n",
      "Requirement already satisfied: certifi>=2017.4.17 in /usr/local/lib/python3.7/dist-packages (from requests<3.0.0,>=2.13.0->spacy) (2021.10.8)\n",
      "Requirement already satisfied: idna<3,>=2.5 in /usr/local/lib/python3.7/dist-packages (from requests<3.0.0,>=2.13.0->spacy) (2.10)\n",
      "Requirement already satisfied: urllib3!=1.25.0,!=1.25.1,<1.26,>=1.21.1 in /usr/local/lib/python3.7/dist-packages (from requests<3.0.0,>=2.13.0->spacy) (1.24.3)\n",
      "Requirement already satisfied: MarkupSafe>=0.23 in /usr/local/lib/python3.7/dist-packages (from jinja2->spacy) (2.0.1)\n",
      "Installing collected packages: typing-extensions, catalogue, typer, srsly, pydantic, thinc, spacy-loggers, spacy-legacy, pathy, langcodes, spacy\n",
      "  Attempting uninstall: typing-extensions\n",
      "    Found existing installation: typing-extensions 4.1.1\n",
      "    Uninstalling typing-extensions-4.1.1:\n",
      "      Successfully uninstalled typing-extensions-4.1.1\n",
      "  Attempting uninstall: catalogue\n",
      "    Found existing installation: catalogue 1.0.0\n",
      "    Uninstalling catalogue-1.0.0:\n",
      "      Successfully uninstalled catalogue-1.0.0\n",
      "  Attempting uninstall: srsly\n",
      "    Found existing installation: srsly 1.0.5\n",
      "    Uninstalling srsly-1.0.5:\n",
      "      Successfully uninstalled srsly-1.0.5\n",
      "  Attempting uninstall: thinc\n",
      "    Found existing installation: thinc 7.4.0\n",
      "    Uninstalling thinc-7.4.0:\n",
      "      Successfully uninstalled thinc-7.4.0\n",
      "  Attempting uninstall: spacy\n",
      "    Found existing installation: spacy 2.2.4\n",
      "    Uninstalling spacy-2.2.4:\n",
      "      Successfully uninstalled spacy-2.2.4\n",
      "\u001b[31mERROR: pip's dependency resolver does not currently take into account all the packages that are installed. This behaviour is the source of the following dependency conflicts.\n",
      "tensorflow 2.8.0 requires tf-estimator-nightly==2.8.0.dev2021122109, which is not installed.\u001b[0m\n",
      "Successfully installed catalogue-2.0.7 langcodes-3.3.0 pathy-0.6.1 pydantic-1.8.2 spacy-3.2.4 spacy-legacy-3.0.9 spacy-loggers-1.0.2 srsly-2.4.3 thinc-8.0.15 typer-0.4.1 typing-extensions-3.10.0.2\n",
      "Collecting langdetect\n",
      "  Downloading langdetect-1.0.9.tar.gz (981 kB)\n",
      "\u001b[K     |████████████████████████████████| 981 kB 15.1 MB/s \n",
      "\u001b[?25hRequirement already satisfied: six in /usr/local/lib/python3.7/dist-packages (from langdetect) (1.15.0)\n",
      "Building wheels for collected packages: langdetect\n",
      "  Building wheel for langdetect (setup.py) ... \u001b[?25l\u001b[?25hdone\n",
      "  Created wheel for langdetect: filename=langdetect-1.0.9-py3-none-any.whl size=993242 sha256=d67a9b75f8d2b8fa6f3b79281ccf6503a5969388a6bf18e6d637c835551908af\n",
      "  Stored in directory: /root/.cache/pip/wheels/c5/96/8a/f90c59ed25d75e50a8c10a1b1c2d4c402e4dacfa87f3aff36a\n",
      "Successfully built langdetect\n",
      "Installing collected packages: langdetect\n",
      "Successfully installed langdetect-1.0.9\n",
      "Collecting ru-core-news-md==3.2.0\n",
      "  Downloading https://github.com/explosion/spacy-models/releases/download/ru_core_news_md-3.2.0/ru_core_news_md-3.2.0-py3-none-any.whl (43.0 MB)\n",
      "\u001b[K     |████████████████████████████████| 43.0 MB 55.1 MB/s \n",
      "\u001b[?25hRequirement already satisfied: spacy<3.3.0,>=3.2.0 in /usr/local/lib/python3.7/dist-packages (from ru-core-news-md==3.2.0) (3.2.4)\n",
      "Collecting pymorphy2>=0.9\n",
      "  Downloading pymorphy2-0.9.1-py3-none-any.whl (55 kB)\n",
      "\u001b[K     |████████████████████████████████| 55 kB 3.7 MB/s \n",
      "\u001b[?25hCollecting pymorphy2-dicts-ru<3.0,>=2.4\n",
      "  Downloading pymorphy2_dicts_ru-2.4.417127.4579844-py2.py3-none-any.whl (8.2 MB)\n",
      "\u001b[K     |████████████████████████████████| 8.2 MB 37.9 MB/s \n",
      "\u001b[?25hRequirement already satisfied: docopt>=0.6 in /usr/local/lib/python3.7/dist-packages (from pymorphy2>=0.9->ru-core-news-md==3.2.0) (0.6.2)\n",
      "Collecting dawg-python>=0.7.1\n",
      "  Downloading DAWG_Python-0.7.2-py2.py3-none-any.whl (11 kB)\n",
      "Requirement already satisfied: click<8.1.0 in /usr/local/lib/python3.7/dist-packages (from spacy<3.3.0,>=3.2.0->ru-core-news-md==3.2.0) (7.1.2)\n",
      "Requirement already satisfied: pydantic!=1.8,!=1.8.1,<1.9.0,>=1.7.4 in /usr/local/lib/python3.7/dist-packages (from spacy<3.3.0,>=3.2.0->ru-core-news-md==3.2.0) (1.8.2)\n",
      "Requirement already satisfied: spacy-legacy<3.1.0,>=3.0.8 in /usr/local/lib/python3.7/dist-packages (from spacy<3.3.0,>=3.2.0->ru-core-news-md==3.2.0) (3.0.9)\n",
      "Requirement already satisfied: typer<0.5.0,>=0.3.0 in /usr/local/lib/python3.7/dist-packages (from spacy<3.3.0,>=3.2.0->ru-core-news-md==3.2.0) (0.4.1)\n",
      "Requirement already satisfied: jinja2 in /usr/local/lib/python3.7/dist-packages (from spacy<3.3.0,>=3.2.0->ru-core-news-md==3.2.0) (2.11.3)\n",
      "Requirement already satisfied: setuptools in /usr/local/lib/python3.7/dist-packages (from spacy<3.3.0,>=3.2.0->ru-core-news-md==3.2.0) (57.4.0)\n",
      "Requirement already satisfied: tqdm<5.0.0,>=4.38.0 in /usr/local/lib/python3.7/dist-packages (from spacy<3.3.0,>=3.2.0->ru-core-news-md==3.2.0) (4.64.0)\n",
      "Requirement already satisfied: packaging>=20.0 in /usr/local/lib/python3.7/dist-packages (from spacy<3.3.0,>=3.2.0->ru-core-news-md==3.2.0) (21.3)\n",
      "Requirement already satisfied: wasabi<1.1.0,>=0.8.1 in /usr/local/lib/python3.7/dist-packages (from spacy<3.3.0,>=3.2.0->ru-core-news-md==3.2.0) (0.9.1)\n",
      "Requirement already satisfied: spacy-loggers<2.0.0,>=1.0.0 in /usr/local/lib/python3.7/dist-packages (from spacy<3.3.0,>=3.2.0->ru-core-news-md==3.2.0) (1.0.2)\n",
      "Requirement already satisfied: cymem<2.1.0,>=2.0.2 in /usr/local/lib/python3.7/dist-packages (from spacy<3.3.0,>=3.2.0->ru-core-news-md==3.2.0) (2.0.6)\n",
      "Requirement already satisfied: pathy>=0.3.5 in /usr/local/lib/python3.7/dist-packages (from spacy<3.3.0,>=3.2.0->ru-core-news-md==3.2.0) (0.6.1)\n",
      "Requirement already satisfied: numpy>=1.15.0 in /usr/local/lib/python3.7/dist-packages (from spacy<3.3.0,>=3.2.0->ru-core-news-md==3.2.0) (1.21.5)\n",
      "Requirement already satisfied: murmurhash<1.1.0,>=0.28.0 in /usr/local/lib/python3.7/dist-packages (from spacy<3.3.0,>=3.2.0->ru-core-news-md==3.2.0) (1.0.6)\n",
      "Requirement already satisfied: requests<3.0.0,>=2.13.0 in /usr/local/lib/python3.7/dist-packages (from spacy<3.3.0,>=3.2.0->ru-core-news-md==3.2.0) (2.23.0)\n",
      "Requirement already satisfied: catalogue<2.1.0,>=2.0.6 in /usr/local/lib/python3.7/dist-packages (from spacy<3.3.0,>=3.2.0->ru-core-news-md==3.2.0) (2.0.7)\n",
      "Requirement already satisfied: typing-extensions<4.0.0.0,>=3.7.4 in /usr/local/lib/python3.7/dist-packages (from spacy<3.3.0,>=3.2.0->ru-core-news-md==3.2.0) (3.10.0.2)\n",
      "Requirement already satisfied: langcodes<4.0.0,>=3.2.0 in /usr/local/lib/python3.7/dist-packages (from spacy<3.3.0,>=3.2.0->ru-core-news-md==3.2.0) (3.3.0)\n",
      "Requirement already satisfied: thinc<8.1.0,>=8.0.12 in /usr/local/lib/python3.7/dist-packages (from spacy<3.3.0,>=3.2.0->ru-core-news-md==3.2.0) (8.0.15)\n",
      "Requirement already satisfied: srsly<3.0.0,>=2.4.1 in /usr/local/lib/python3.7/dist-packages (from spacy<3.3.0,>=3.2.0->ru-core-news-md==3.2.0) (2.4.3)\n",
      "Requirement already satisfied: blis<0.8.0,>=0.4.0 in /usr/local/lib/python3.7/dist-packages (from spacy<3.3.0,>=3.2.0->ru-core-news-md==3.2.0) (0.4.1)\n",
      "Requirement already satisfied: preshed<3.1.0,>=3.0.2 in /usr/local/lib/python3.7/dist-packages (from spacy<3.3.0,>=3.2.0->ru-core-news-md==3.2.0) (3.0.6)\n",
      "Requirement already satisfied: zipp>=0.5 in /usr/local/lib/python3.7/dist-packages (from catalogue<2.1.0,>=2.0.6->spacy<3.3.0,>=3.2.0->ru-core-news-md==3.2.0) (3.8.0)\n",
      "Requirement already satisfied: pyparsing!=3.0.5,>=2.0.2 in /usr/local/lib/python3.7/dist-packages (from packaging>=20.0->spacy<3.3.0,>=3.2.0->ru-core-news-md==3.2.0) (3.0.8)\n",
      "Requirement already satisfied: smart-open<6.0.0,>=5.0.0 in /usr/local/lib/python3.7/dist-packages (from pathy>=0.3.5->spacy<3.3.0,>=3.2.0->ru-core-news-md==3.2.0) (5.2.1)\n",
      "Requirement already satisfied: urllib3!=1.25.0,!=1.25.1,<1.26,>=1.21.1 in /usr/local/lib/python3.7/dist-packages (from requests<3.0.0,>=2.13.0->spacy<3.3.0,>=3.2.0->ru-core-news-md==3.2.0) (1.24.3)\n",
      "Requirement already satisfied: idna<3,>=2.5 in /usr/local/lib/python3.7/dist-packages (from requests<3.0.0,>=2.13.0->spacy<3.3.0,>=3.2.0->ru-core-news-md==3.2.0) (2.10)\n",
      "Requirement already satisfied: chardet<4,>=3.0.2 in /usr/local/lib/python3.7/dist-packages (from requests<3.0.0,>=2.13.0->spacy<3.3.0,>=3.2.0->ru-core-news-md==3.2.0) (3.0.4)\n",
      "Requirement already satisfied: certifi>=2017.4.17 in /usr/local/lib/python3.7/dist-packages (from requests<3.0.0,>=2.13.0->spacy<3.3.0,>=3.2.0->ru-core-news-md==3.2.0) (2021.10.8)\n",
      "Requirement already satisfied: MarkupSafe>=0.23 in /usr/local/lib/python3.7/dist-packages (from jinja2->spacy<3.3.0,>=3.2.0->ru-core-news-md==3.2.0) (2.0.1)\n",
      "Installing collected packages: pymorphy2-dicts-ru, dawg-python, pymorphy2, ru-core-news-md\n",
      "Successfully installed dawg-python-0.7.2 pymorphy2-0.9.1 pymorphy2-dicts-ru-2.4.417127.4579844 ru-core-news-md-3.2.0\n",
      "\u001b[38;5;2m✔ Download and installation successful\u001b[0m\n",
      "You can now load the package via spacy.load('ru_core_news_md')\n",
      "Collecting transformers\n",
      "  Downloading transformers-4.18.0-py3-none-any.whl (4.0 MB)\n",
      "\u001b[K     |████████████████████████████████| 4.0 MB 14.1 MB/s \n",
      "\u001b[?25hRequirement already satisfied: requests in /usr/local/lib/python3.7/dist-packages (from transformers) (2.23.0)\n",
      "Requirement already satisfied: importlib-metadata in /usr/local/lib/python3.7/dist-packages (from transformers) (4.11.3)\n",
      "Requirement already satisfied: regex!=2019.12.17 in /usr/local/lib/python3.7/dist-packages (from transformers) (2019.12.20)\n",
      "Collecting huggingface-hub<1.0,>=0.1.0\n",
      "  Downloading huggingface_hub-0.5.1-py3-none-any.whl (77 kB)\n",
      "\u001b[K     |████████████████████████████████| 77 kB 6.6 MB/s \n",
      "\u001b[?25hRequirement already satisfied: packaging>=20.0 in /usr/local/lib/python3.7/dist-packages (from transformers) (21.3)\n",
      "Collecting sacremoses\n",
      "  Downloading sacremoses-0.0.49-py3-none-any.whl (895 kB)\n",
      "\u001b[K     |████████████████████████████████| 895 kB 46.8 MB/s \n",
      "\u001b[?25hRequirement already satisfied: tqdm>=4.27 in /usr/local/lib/python3.7/dist-packages (from transformers) (4.64.0)\n",
      "Collecting pyyaml>=5.1\n",
      "  Downloading PyYAML-6.0-cp37-cp37m-manylinux_2_5_x86_64.manylinux1_x86_64.manylinux_2_12_x86_64.manylinux2010_x86_64.whl (596 kB)\n",
      "\u001b[K     |████████████████████████████████| 596 kB 48.8 MB/s \n",
      "\u001b[?25hRequirement already satisfied: numpy>=1.17 in /usr/local/lib/python3.7/dist-packages (from transformers) (1.21.5)\n",
      "Requirement already satisfied: filelock in /usr/local/lib/python3.7/dist-packages (from transformers) (3.6.0)\n",
      "Collecting tokenizers!=0.11.3,<0.13,>=0.11.1\n",
      "  Downloading tokenizers-0.12.1-cp37-cp37m-manylinux_2_12_x86_64.manylinux2010_x86_64.whl (6.6 MB)\n",
      "\u001b[K     |████████████████████████████████| 6.6 MB 55.6 MB/s \n",
      "\u001b[?25hRequirement already satisfied: typing-extensions>=3.7.4.3 in /usr/local/lib/python3.7/dist-packages (from huggingface-hub<1.0,>=0.1.0->transformers) (3.10.0.2)\n",
      "Requirement already satisfied: pyparsing!=3.0.5,>=2.0.2 in /usr/local/lib/python3.7/dist-packages (from packaging>=20.0->transformers) (3.0.8)\n",
      "Requirement already satisfied: zipp>=0.5 in /usr/local/lib/python3.7/dist-packages (from importlib-metadata->transformers) (3.8.0)\n",
      "Requirement already satisfied: chardet<4,>=3.0.2 in /usr/local/lib/python3.7/dist-packages (from requests->transformers) (3.0.4)\n",
      "Requirement already satisfied: urllib3!=1.25.0,!=1.25.1,<1.26,>=1.21.1 in /usr/local/lib/python3.7/dist-packages (from requests->transformers) (1.24.3)\n",
      "Requirement already satisfied: idna<3,>=2.5 in /usr/local/lib/python3.7/dist-packages (from requests->transformers) (2.10)\n",
      "Requirement already satisfied: certifi>=2017.4.17 in /usr/local/lib/python3.7/dist-packages (from requests->transformers) (2021.10.8)\n",
      "Requirement already satisfied: joblib in /usr/local/lib/python3.7/dist-packages (from sacremoses->transformers) (1.1.0)\n",
      "Requirement already satisfied: six in /usr/local/lib/python3.7/dist-packages (from sacremoses->transformers) (1.15.0)\n",
      "Requirement already satisfied: click in /usr/local/lib/python3.7/dist-packages (from sacremoses->transformers) (7.1.2)\n",
      "Installing collected packages: pyyaml, tokenizers, sacremoses, huggingface-hub, transformers\n",
      "  Attempting uninstall: pyyaml\n",
      "    Found existing installation: PyYAML 3.13\n",
      "    Uninstalling PyYAML-3.13:\n",
      "      Successfully uninstalled PyYAML-3.13\n",
      "Successfully installed huggingface-hub-0.5.1 pyyaml-6.0 sacremoses-0.0.49 tokenizers-0.12.1 transformers-4.18.0\n"
     ]
    }
   ],
   "source": [
    "!pip install CatBoost\n",
    "!pip install -U spacy\n",
    "!pip install langdetect\n",
    "!spacy download ru_core_news_md\n",
    "!pip install transformers"
   ]
  },
  {
   "cell_type": "code",
   "execution_count": 5,
   "metadata": {
    "executionInfo": {
     "elapsed": 9140,
     "status": "ok",
     "timestamp": 1650194580755,
     "user": {
      "displayName": "Тимофей Волков",
      "userId": "10194013534399443615"
     },
     "user_tz": -300
    },
    "id": "AOdcARCo8R9-"
   },
   "outputs": [],
   "source": [
    "import pandas as pd\n",
    "import numpy as np\n",
    "\n",
    "import seaborn as sns\n",
    "from matplotlib import pyplot as plt\n",
    "\n",
    "import re\n",
    "\n",
    "import nltk\n",
    "from nltk.corpus import stopwords as nltk_stopwords\n",
    "import spacy\n",
    "from langdetect import detect\n",
    "\n",
    "from sklearn.feature_extraction.text import TfidfVectorizer\n",
    "\n",
    "from sklearn.linear_model import LogisticRegression\n",
    "from sklearn.tree import DecisionTreeClassifier\n",
    "from sklearn.ensemble import RandomForestClassifier\n",
    "from catboost import CatBoostClassifier\n",
    "from sklearn.model_selection import GridSearchCV\n",
    "from sklearn.metrics import f1_score\n",
    "from sklearn.model_selection import cross_val_score\n",
    "from sklearn.model_selection import train_test_split\n",
    "from sklearn.metrics import plot_confusion_matrix\n",
    "from sklearn.metrics import recall_score\n",
    "from sklearn.metrics import precision_score\n",
    "\n",
    "import torch\n",
    "import transformers\n",
    "\n",
    "from tqdm import notebook\n",
    "\n",
    "pd.set_option('display.max_columns', None)\n",
    "\n",
    "import warnings\n",
    "warnings.filterwarnings('ignore')\n",
    "\n",
    "#Global\n",
    "random_state=12345"
   ]
  },
  {
   "cell_type": "code",
   "execution_count": 7,
   "metadata": {
    "executionInfo": {
     "elapsed": 1067,
     "status": "ok",
     "timestamp": 1650194623008,
     "user": {
      "displayName": "Тимофей Волков",
      "userId": "10194013534399443615"
     },
     "user_tz": -300
    },
    "id": "SLQPnT6B8R-C"
   },
   "outputs": [],
   "source": [
    "data = pd.read_table('train.tsv')"
   ]
  },
  {
   "cell_type": "code",
   "execution_count": 8,
   "metadata": {
    "colab": {
     "base_uri": "https://localhost:8080/"
    },
    "executionInfo": {
     "elapsed": 66,
     "status": "ok",
     "timestamp": 1650194623010,
     "user": {
      "displayName": "Тимофей Волков",
      "userId": "10194013534399443615"
     },
     "user_tz": -300
    },
    "id": "y8WsfgQr8R-D",
    "outputId": "dea4268b-2ecb-4e93-bb44-2c1abbfd54ed"
   },
   "outputs": [
    {
     "name": "stdout",
     "output_type": "stream",
     "text": [
      "<class 'pandas.core.frame.DataFrame'>\n",
      "RangeIndex: 5758 entries, 0 to 5757\n",
      "Data columns (total 2 columns):\n",
      " #   Column   Non-Null Count  Dtype \n",
      "---  ------   --------------  ----- \n",
      " 0   title    5758 non-null   object\n",
      " 1   is_fake  5758 non-null   int64 \n",
      "dtypes: int64(1), object(1)\n",
      "memory usage: 90.1+ KB\n"
     ]
    }
   ],
   "source": [
    "data.info()"
   ]
  },
  {
   "cell_type": "markdown",
   "metadata": {
    "id": "oR8GDgCNao3m"
   },
   "source": [
    "В тренировочном датасете 5758 семплов. Явных пропусков нет. Рассмотрим как выглядят записи в датасете."
   ]
  },
  {
   "cell_type": "code",
   "execution_count": 9,
   "metadata": {
    "colab": {
     "base_uri": "https://localhost:8080/",
     "height": 677
    },
    "executionInfo": {
     "elapsed": 66,
     "status": "ok",
     "timestamp": 1650194623015,
     "user": {
      "displayName": "Тимофей Волков",
      "userId": "10194013534399443615"
     },
     "user_tz": -300
    },
    "id": "02UuLEON8R-G",
    "outputId": "5dcb4bd3-2e20-4bec-a0ac-25a8eb4d1184",
    "scrolled": false
   },
   "outputs": [
    {
     "data": {
      "text/html": [
       "\n",
       "  <div id=\"df-c5721603-c035-494c-a516-8aa9274d6f29\">\n",
       "    <div class=\"colab-df-container\">\n",
       "      <div>\n",
       "<style scoped>\n",
       "    .dataframe tbody tr th:only-of-type {\n",
       "        vertical-align: middle;\n",
       "    }\n",
       "\n",
       "    .dataframe tbody tr th {\n",
       "        vertical-align: top;\n",
       "    }\n",
       "\n",
       "    .dataframe thead th {\n",
       "        text-align: right;\n",
       "    }\n",
       "</style>\n",
       "<table border=\"1\" class=\"dataframe\">\n",
       "  <thead>\n",
       "    <tr style=\"text-align: right;\">\n",
       "      <th></th>\n",
       "      <th>title</th>\n",
       "      <th>is_fake</th>\n",
       "    </tr>\n",
       "  </thead>\n",
       "  <tbody>\n",
       "    <tr>\n",
       "      <th>590</th>\n",
       "      <td>Дэвид Боуи и группа Cream получат Грэмми за вк...</td>\n",
       "      <td>0</td>\n",
       "    </tr>\n",
       "    <tr>\n",
       "      <th>3757</th>\n",
       "      <td>ВТБ записали в покупатели еще одного крупного ...</td>\n",
       "      <td>0</td>\n",
       "    </tr>\n",
       "    <tr>\n",
       "      <th>5457</th>\n",
       "      <td>Налоговая Ленобласти предложила девушкам сдать...</td>\n",
       "      <td>1</td>\n",
       "    </tr>\n",
       "    <tr>\n",
       "      <th>1491</th>\n",
       "      <td>Раскрыто «шокирующее» число жертв насильников ...</td>\n",
       "      <td>0</td>\n",
       "    </tr>\n",
       "    <tr>\n",
       "      <th>5137</th>\n",
       "      <td>Лидер партии «Родина» предложил «забить стрелу...</td>\n",
       "      <td>1</td>\n",
       "    </tr>\n",
       "    <tr>\n",
       "      <th>3959</th>\n",
       "      <td>Овечкин набрал два очка в матче НХЛ</td>\n",
       "      <td>0</td>\n",
       "    </tr>\n",
       "    <tr>\n",
       "      <th>3920</th>\n",
       "      <td>Рэпер Гнойный станет членом жюри вокального шо...</td>\n",
       "      <td>0</td>\n",
       "    </tr>\n",
       "    <tr>\n",
       "      <th>3772</th>\n",
       "      <td>Вместо асфальта — эко-опилки, дома из природны...</td>\n",
       "      <td>1</td>\n",
       "    </tr>\n",
       "    <tr>\n",
       "      <th>4962</th>\n",
       "      <td>Госдума одобрила Международное соглашение по к...</td>\n",
       "      <td>0</td>\n",
       "    </tr>\n",
       "    <tr>\n",
       "      <th>704</th>\n",
       "      <td>В России запретят выдавать кредиты меньше милл...</td>\n",
       "      <td>1</td>\n",
       "    </tr>\n",
       "    <tr>\n",
       "      <th>4212</th>\n",
       "      <td>Власти Литвы освободили пилота Су-27 Валерия Т...</td>\n",
       "      <td>0</td>\n",
       "    </tr>\n",
       "    <tr>\n",
       "      <th>3826</th>\n",
       "      <td>Букмекеры пострадали от скандинавской ничьей</td>\n",
       "      <td>0</td>\n",
       "    </tr>\n",
       "    <tr>\n",
       "      <th>3634</th>\n",
       "      <td>Американский боксер потребовал поединка с сест...</td>\n",
       "      <td>0</td>\n",
       "    </tr>\n",
       "    <tr>\n",
       "      <th>1068</th>\n",
       "      <td>Ребгун предложил дочкам ЮКОСа обменяться лицен...</td>\n",
       "      <td>0</td>\n",
       "    </tr>\n",
       "    <tr>\n",
       "      <th>3590</th>\n",
       "      <td>Sony Pictures купила сценарий фильма-катастроф...</td>\n",
       "      <td>0</td>\n",
       "    </tr>\n",
       "    <tr>\n",
       "      <th>5303</th>\n",
       "      <td>Исландцы прокомментировали информацию о бойкот...</td>\n",
       "      <td>0</td>\n",
       "    </tr>\n",
       "    <tr>\n",
       "      <th>667</th>\n",
       "      <td>Армения вышлет российских дипломатов в ответ н...</td>\n",
       "      <td>1</td>\n",
       "    </tr>\n",
       "    <tr>\n",
       "      <th>1718</th>\n",
       "      <td>Певица Ники Минаж оплатит студенту из Бишкека ...</td>\n",
       "      <td>0</td>\n",
       "    </tr>\n",
       "    <tr>\n",
       "      <th>5275</th>\n",
       "      <td>Причиной массовой драки гастарбайтеров в Петер...</td>\n",
       "      <td>1</td>\n",
       "    </tr>\n",
       "    <tr>\n",
       "      <th>492</th>\n",
       "      <td>Введение налога на добавленный доход увеличит ...</td>\n",
       "      <td>0</td>\n",
       "    </tr>\n",
       "  </tbody>\n",
       "</table>\n",
       "</div>\n",
       "      <button class=\"colab-df-convert\" onclick=\"convertToInteractive('df-c5721603-c035-494c-a516-8aa9274d6f29')\"\n",
       "              title=\"Convert this dataframe to an interactive table.\"\n",
       "              style=\"display:none;\">\n",
       "        \n",
       "  <svg xmlns=\"http://www.w3.org/2000/svg\" height=\"24px\"viewBox=\"0 0 24 24\"\n",
       "       width=\"24px\">\n",
       "    <path d=\"M0 0h24v24H0V0z\" fill=\"none\"/>\n",
       "    <path d=\"M18.56 5.44l.94 2.06.94-2.06 2.06-.94-2.06-.94-.94-2.06-.94 2.06-2.06.94zm-11 1L8.5 8.5l.94-2.06 2.06-.94-2.06-.94L8.5 2.5l-.94 2.06-2.06.94zm10 10l.94 2.06.94-2.06 2.06-.94-2.06-.94-.94-2.06-.94 2.06-2.06.94z\"/><path d=\"M17.41 7.96l-1.37-1.37c-.4-.4-.92-.59-1.43-.59-.52 0-1.04.2-1.43.59L10.3 9.45l-7.72 7.72c-.78.78-.78 2.05 0 2.83L4 21.41c.39.39.9.59 1.41.59.51 0 1.02-.2 1.41-.59l7.78-7.78 2.81-2.81c.8-.78.8-2.07 0-2.86zM5.41 20L4 18.59l7.72-7.72 1.47 1.35L5.41 20z\"/>\n",
       "  </svg>\n",
       "      </button>\n",
       "      \n",
       "  <style>\n",
       "    .colab-df-container {\n",
       "      display:flex;\n",
       "      flex-wrap:wrap;\n",
       "      gap: 12px;\n",
       "    }\n",
       "\n",
       "    .colab-df-convert {\n",
       "      background-color: #E8F0FE;\n",
       "      border: none;\n",
       "      border-radius: 50%;\n",
       "      cursor: pointer;\n",
       "      display: none;\n",
       "      fill: #1967D2;\n",
       "      height: 32px;\n",
       "      padding: 0 0 0 0;\n",
       "      width: 32px;\n",
       "    }\n",
       "\n",
       "    .colab-df-convert:hover {\n",
       "      background-color: #E2EBFA;\n",
       "      box-shadow: 0px 1px 2px rgba(60, 64, 67, 0.3), 0px 1px 3px 1px rgba(60, 64, 67, 0.15);\n",
       "      fill: #174EA6;\n",
       "    }\n",
       "\n",
       "    [theme=dark] .colab-df-convert {\n",
       "      background-color: #3B4455;\n",
       "      fill: #D2E3FC;\n",
       "    }\n",
       "\n",
       "    [theme=dark] .colab-df-convert:hover {\n",
       "      background-color: #434B5C;\n",
       "      box-shadow: 0px 1px 3px 1px rgba(0, 0, 0, 0.15);\n",
       "      filter: drop-shadow(0px 1px 2px rgba(0, 0, 0, 0.3));\n",
       "      fill: #FFFFFF;\n",
       "    }\n",
       "  </style>\n",
       "\n",
       "      <script>\n",
       "        const buttonEl =\n",
       "          document.querySelector('#df-c5721603-c035-494c-a516-8aa9274d6f29 button.colab-df-convert');\n",
       "        buttonEl.style.display =\n",
       "          google.colab.kernel.accessAllowed ? 'block' : 'none';\n",
       "\n",
       "        async function convertToInteractive(key) {\n",
       "          const element = document.querySelector('#df-c5721603-c035-494c-a516-8aa9274d6f29');\n",
       "          const dataTable =\n",
       "            await google.colab.kernel.invokeFunction('convertToInteractive',\n",
       "                                                     [key], {});\n",
       "          if (!dataTable) return;\n",
       "\n",
       "          const docLinkHtml = 'Like what you see? Visit the ' +\n",
       "            '<a target=\"_blank\" href=https://colab.research.google.com/notebooks/data_table.ipynb>data table notebook</a>'\n",
       "            + ' to learn more about interactive tables.';\n",
       "          element.innerHTML = '';\n",
       "          dataTable['output_type'] = 'display_data';\n",
       "          await google.colab.output.renderOutput(dataTable, element);\n",
       "          const docLink = document.createElement('div');\n",
       "          docLink.innerHTML = docLinkHtml;\n",
       "          element.appendChild(docLink);\n",
       "        }\n",
       "      </script>\n",
       "    </div>\n",
       "  </div>\n",
       "  "
      ],
      "text/plain": [
       "                                                  title  is_fake\n",
       "590   Дэвид Боуи и группа Cream получат Грэмми за вк...        0\n",
       "3757  ВТБ записали в покупатели еще одного крупного ...        0\n",
       "5457  Налоговая Ленобласти предложила девушкам сдать...        1\n",
       "1491  Раскрыто «шокирующее» число жертв насильников ...        0\n",
       "5137  Лидер партии «Родина» предложил «забить стрелу...        1\n",
       "3959                Овечкин набрал два очка в матче НХЛ        0\n",
       "3920  Рэпер Гнойный станет членом жюри вокального шо...        0\n",
       "3772  Вместо асфальта — эко-опилки, дома из природны...        1\n",
       "4962  Госдума одобрила Международное соглашение по к...        0\n",
       "704   В России запретят выдавать кредиты меньше милл...        1\n",
       "4212  Власти Литвы освободили пилота Су-27 Валерия Т...        0\n",
       "3826       Букмекеры пострадали от скандинавской ничьей        0\n",
       "3634  Американский боксер потребовал поединка с сест...        0\n",
       "1068  Ребгун предложил дочкам ЮКОСа обменяться лицен...        0\n",
       "3590  Sony Pictures купила сценарий фильма-катастроф...        0\n",
       "5303  Исландцы прокомментировали информацию о бойкот...        0\n",
       "667   Армения вышлет российских дипломатов в ответ н...        1\n",
       "1718  Певица Ники Минаж оплатит студенту из Бишкека ...        0\n",
       "5275  Причиной массовой драки гастарбайтеров в Петер...        1\n",
       "492   Введение налога на добавленный доход увеличит ...        0"
      ]
     },
     "execution_count": 9,
     "metadata": {},
     "output_type": "execute_result"
    }
   ],
   "source": [
    "# 20 рандомных записей\n",
    "data.sample(20)"
   ]
  },
  {
   "cell_type": "markdown",
   "metadata": {
    "id": "8ugTyuEyXE-5"
   },
   "source": [
    "### Анализ"
   ]
  },
  {
   "cell_type": "code",
   "execution_count": 10,
   "metadata": {
    "colab": {
     "base_uri": "https://localhost:8080/",
     "height": 295
    },
    "executionInfo": {
     "elapsed": 65,
     "status": "ok",
     "timestamp": 1650194623017,
     "user": {
      "displayName": "Тимофей Волков",
      "userId": "10194013534399443615"
     },
     "user_tz": -300
    },
    "id": "tgYuVxMo8R-K",
    "outputId": "ff7eeec7-303a-40e2-9a65-174eb740d30f",
    "scrolled": true
   },
   "outputs": [
    {
     "data": {
      "image/png": "[encoded data removed]",
      "text/plain": [
       "<Figure size 576x288 with 1 Axes>"
      ]
     },
     "metadata": {
      "needs_background": "light"
     },
     "output_type": "display_data"
    }
   ],
   "source": [
    "# Сравним количество фейковых и действительных новостных заголовков\n",
    "\n",
    "plt.figure(figsize=(8,4))\n",
    "sns.barplot(x=data['is_fake'], y=data['is_fake'].value_counts())\n",
    "plt.title('Распределение целевого признака')\n",
    "plt.xlabel('Признак фейковости')\n",
    "plt.ylabel('Количество новостных заголовков')\n",
    "plt.show()"
   ]
  },
  {
   "cell_type": "markdown",
   "metadata": {
    "id": "jUdYBLgWs1wa"
   },
   "source": [
    "Судя по графику их количество должно совпадать.\n",
    "\n",
    "Дисбаланса классов нет."
   ]
  },
  {
   "cell_type": "code",
   "execution_count": 11,
   "metadata": {
    "colab": {
     "base_uri": "https://localhost:8080/"
    },
    "executionInfo": {
     "elapsed": 560,
     "status": "ok",
     "timestamp": 1650194623514,
     "user": {
      "displayName": "Тимофей Волков",
      "userId": "10194013534399443615"
     },
     "user_tz": -300
    },
    "id": "e9J9BTepshe1",
    "outputId": "2262cdcd-f6ed-46e9-8e7c-2eab47fe597a"
   },
   "outputs": [
    {
     "data": {
      "text/plain": [
       "1    2879\n",
       "0    2879\n",
       "Name: is_fake, dtype: int64"
      ]
     },
     "execution_count": 11,
     "metadata": {},
     "output_type": "execute_result"
    }
   ],
   "source": [
    "data['is_fake'].value_counts()"
   ]
  },
  {
   "cell_type": "markdown",
   "metadata": {
    "id": "3zismJR3tQ0V"
   },
   "source": [
    "Количество фейковых и действительных заголовоков совпадает."
   ]
  },
  {
   "cell_type": "markdown",
   "metadata": {
    "id": "QliKCUPKsDK1"
   },
   "source": [
    "На первый взгляд, основной язык новостных заголовков - русский. Проанализируем так ли это на самом деле."
   ]
  },
  {
   "cell_type": "code",
   "execution_count": 12,
   "metadata": {
    "colab": {
     "base_uri": "https://localhost:8080/",
     "height": 206
    },
    "executionInfo": {
     "elapsed": 38145,
     "status": "ok",
     "timestamp": 1650194661657,
     "user": {
      "displayName": "Тимофей Волков",
      "userId": "10194013534399443615"
     },
     "user_tz": -300
    },
    "id": "6K6FG0KCvH4s",
    "outputId": "1f77c35b-84b3-40a5-a6ac-5fb7862e7f9c"
   },
   "outputs": [
    {
     "data": {
      "text/html": [
       "\n",
       "  <div id=\"df-7254efa0-ffd7-4da3-910d-9d6576bef89b\">\n",
       "    <div class=\"colab-df-container\">\n",
       "      <div>\n",
       "<style scoped>\n",
       "    .dataframe tbody tr th:only-of-type {\n",
       "        vertical-align: middle;\n",
       "    }\n",
       "\n",
       "    .dataframe tbody tr th {\n",
       "        vertical-align: top;\n",
       "    }\n",
       "\n",
       "    .dataframe thead th {\n",
       "        text-align: right;\n",
       "    }\n",
       "</style>\n",
       "<table border=\"1\" class=\"dataframe\">\n",
       "  <thead>\n",
       "    <tr style=\"text-align: right;\">\n",
       "      <th></th>\n",
       "      <th>title</th>\n",
       "      <th>is_fake</th>\n",
       "      <th>lang</th>\n",
       "    </tr>\n",
       "  </thead>\n",
       "  <tbody>\n",
       "    <tr>\n",
       "      <th>0</th>\n",
       "      <td>Москвичу Владимиру Клутину пришёл счёт за вмеш...</td>\n",
       "      <td>1</td>\n",
       "      <td>ru</td>\n",
       "    </tr>\n",
       "    <tr>\n",
       "      <th>1</th>\n",
       "      <td>Агент Кокорина назвал езду по встречке житейск...</td>\n",
       "      <td>0</td>\n",
       "      <td>ru</td>\n",
       "    </tr>\n",
       "    <tr>\n",
       "      <th>2</th>\n",
       "      <td>Госдума рассмотрит возможность введения секрет...</td>\n",
       "      <td>1</td>\n",
       "      <td>ru</td>\n",
       "    </tr>\n",
       "    <tr>\n",
       "      <th>3</th>\n",
       "      <td>ФАС заблокировала поставку скоростных трамваев...</td>\n",
       "      <td>0</td>\n",
       "      <td>ru</td>\n",
       "    </tr>\n",
       "    <tr>\n",
       "      <th>4</th>\n",
       "      <td>Против Навального завели дело о недоносительст...</td>\n",
       "      <td>1</td>\n",
       "      <td>ru</td>\n",
       "    </tr>\n",
       "  </tbody>\n",
       "</table>\n",
       "</div>\n",
       "      <button class=\"colab-df-convert\" onclick=\"convertToInteractive('df-7254efa0-ffd7-4da3-910d-9d6576bef89b')\"\n",
       "              title=\"Convert this dataframe to an interactive table.\"\n",
       "              style=\"display:none;\">\n",
       "        \n",
       "  <svg xmlns=\"http://www.w3.org/2000/svg\" height=\"24px\"viewBox=\"0 0 24 24\"\n",
       "       width=\"24px\">\n",
       "    <path d=\"M0 0h24v24H0V0z\" fill=\"none\"/>\n",
       "    <path d=\"M18.56 5.44l.94 2.06.94-2.06 2.06-.94-2.06-.94-.94-2.06-.94 2.06-2.06.94zm-11 1L8.5 8.5l.94-2.06 2.06-.94-2.06-.94L8.5 2.5l-.94 2.06-2.06.94zm10 10l.94 2.06.94-2.06 2.06-.94-2.06-.94-.94-2.06-.94 2.06-2.06.94z\"/><path d=\"M17.41 7.96l-1.37-1.37c-.4-.4-.92-.59-1.43-.59-.52 0-1.04.2-1.43.59L10.3 9.45l-7.72 7.72c-.78.78-.78 2.05 0 2.83L4 21.41c.39.39.9.59 1.41.59.51 0 1.02-.2 1.41-.59l7.78-7.78 2.81-2.81c.8-.78.8-2.07 0-2.86zM5.41 20L4 18.59l7.72-7.72 1.47 1.35L5.41 20z\"/>\n",
       "  </svg>\n",
       "      </button>\n",
       "      \n",
       "  <style>\n",
       "    .colab-df-container {\n",
       "      display:flex;\n",
       "      flex-wrap:wrap;\n",
       "      gap: 12px;\n",
       "    }\n",
       "\n",
       "    .colab-df-convert {\n",
       "      background-color: #E8F0FE;\n",
       "      border: none;\n",
       "      border-radius: 50%;\n",
       "      cursor: pointer;\n",
       "      display: none;\n",
       "      fill: #1967D2;\n",
       "      height: 32px;\n",
       "      padding: 0 0 0 0;\n",
       "      width: 32px;\n",
       "    }\n",
       "\n",
       "    .colab-df-convert:hover {\n",
       "      background-color: #E2EBFA;\n",
       "      box-shadow: 0px 1px 2px rgba(60, 64, 67, 0.3), 0px 1px 3px 1px rgba(60, 64, 67, 0.15);\n",
       "      fill: #174EA6;\n",
       "    }\n",
       "\n",
       "    [theme=dark] .colab-df-convert {\n",
       "      background-color: #3B4455;\n",
       "      fill: #D2E3FC;\n",
       "    }\n",
       "\n",
       "    [theme=dark] .colab-df-convert:hover {\n",
       "      background-color: #434B5C;\n",
       "      box-shadow: 0px 1px 3px 1px rgba(0, 0, 0, 0.15);\n",
       "      filter: drop-shadow(0px 1px 2px rgba(0, 0, 0, 0.3));\n",
       "      fill: #FFFFFF;\n",
       "    }\n",
       "  </style>\n",
       "\n",
       "      <script>\n",
       "        const buttonEl =\n",
       "          document.querySelector('#df-7254efa0-ffd7-4da3-910d-9d6576bef89b button.colab-df-convert');\n",
       "        buttonEl.style.display =\n",
       "          google.colab.kernel.accessAllowed ? 'block' : 'none';\n",
       "\n",
       "        async function convertToInteractive(key) {\n",
       "          const element = document.querySelector('#df-7254efa0-ffd7-4da3-910d-9d6576bef89b');\n",
       "          const dataTable =\n",
       "            await google.colab.kernel.invokeFunction('convertToInteractive',\n",
       "                                                     [key], {});\n",
       "          if (!dataTable) return;\n",
       "\n",
       "          const docLinkHtml = 'Like what you see? Visit the ' +\n",
       "            '<a target=\"_blank\" href=https://colab.research.google.com/notebooks/data_table.ipynb>data table notebook</a>'\n",
       "            + ' to learn more about interactive tables.';\n",
       "          element.innerHTML = '';\n",
       "          dataTable['output_type'] = 'display_data';\n",
       "          await google.colab.output.renderOutput(dataTable, element);\n",
       "          const docLink = document.createElement('div');\n",
       "          docLink.innerHTML = docLinkHtml;\n",
       "          element.appendChild(docLink);\n",
       "        }\n",
       "      </script>\n",
       "    </div>\n",
       "  </div>\n",
       "  "
      ],
      "text/plain": [
       "                                               title  is_fake lang\n",
       "0  Москвичу Владимиру Клутину пришёл счёт за вмеш...        1   ru\n",
       "1  Агент Кокорина назвал езду по встречке житейск...        0   ru\n",
       "2  Госдума рассмотрит возможность введения секрет...        1   ru\n",
       "3  ФАС заблокировала поставку скоростных трамваев...        0   ru\n",
       "4  Против Навального завели дело о недоносительст...        1   ru"
      ]
     },
     "execution_count": 12,
     "metadata": {},
     "output_type": "execute_result"
    }
   ],
   "source": [
    "# Детекция языка используемого в заголовке\n",
    "\n",
    "data['lang'] = data['title'].apply(lambda x: detect(x))\n",
    "data.head()"
   ]
  },
  {
   "cell_type": "code",
   "execution_count": 13,
   "metadata": {
    "colab": {
     "base_uri": "https://localhost:8080/",
     "height": 279
    },
    "executionInfo": {
     "elapsed": 67,
     "status": "ok",
     "timestamp": 1650194661658,
     "user": {
      "displayName": "Тимофей Волков",
      "userId": "10194013534399443615"
     },
     "user_tz": -300
    },
    "id": "zRCdcPI8vxnx",
    "outputId": "e2d68a70-db62-4e98-f4b5-faf7a021dae8"
   },
   "outputs": [
    {
     "data": {
      "image/png": "[encoded data removed]",
      "text/plain": [
       "<Figure size 576x288 with 1 Axes>"
      ]
     },
     "metadata": {
      "needs_background": "light"
     },
     "output_type": "display_data"
    }
   ],
   "source": [
    "# Оценим детектором на каких языках имеются заголовки в датасете\n",
    "\n",
    "plt.figure(figsize=(8,4))\n",
    "sns.histplot(data['lang'])\n",
    "plt.show()"
   ]
  },
  {
   "cell_type": "markdown",
   "metadata": {
    "id": "4jh4oXK6WG_Z"
   },
   "source": [
    "По графику, в датасете есть заголовки на 6 иностранных языках.\n",
    "Рассмотрим, так ли это на самом деле."
   ]
  },
  {
   "cell_type": "code",
   "execution_count": 14,
   "metadata": {
    "colab": {
     "base_uri": "https://localhost:8080/"
    },
    "executionInfo": {
     "elapsed": 62,
     "status": "ok",
     "timestamp": 1650194661660,
     "user": {
      "displayName": "Тимофей Волков",
      "userId": "10194013534399443615"
     },
     "user_tz": -300
    },
    "id": "uLWUpXegwDkO",
    "outputId": "91e8cc2b-5ff0-4be9-dec3-1df7163c8cf1"
   },
   "outputs": [
    {
     "name": "stdout",
     "output_type": "stream",
     "text": [
      "bg                                                   title  is_fake lang\n",
      "14          Режиссера Алексея Германа наградили орденом        0   bg\n",
      "48    Интересы Газпромбанка защитят два американских...        0   bg\n",
      "51    В РПЦ призвали предать анафеме Илона Маска из-...        1   bg\n",
      "266   Давида Микеланджело защитят от грязи с помощью...        0   bg\n",
      "303    Динара Сафина вышла в 1/8 финала Australian Open        0   bg\n",
      "...                                                 ...      ...  ...\n",
      "5623                 Пиво Миллер станет южноафриканским        0   bg\n",
      "5709                  Дацюк набрал три очка в матче НХЛ        0   bg\n",
      "5723     Терек подал жалобу на судейство матча с Динамо        0   bg\n",
      "5732          Вдова Джорджа Харрисона посвятила ему сад        0   bg\n",
      "5756   Туркмения в декабре начнет поставки газа в Китай        0   bg\n",
      "\n",
      "[151 rows x 3 columns]\n",
      "Количество заголовков на языке bg = 151 \n",
      "\n",
      "en                                                   title  is_fake lang\n",
      "1706              Call of Duty: Black Ops выйдет на Mac        0   en\n",
      "1757  Продюсер Ico и Shadow of the Colossus покинул ...        0   en\n",
      "Количество заголовков на языке en = 2 \n",
      "\n",
      "et                                                   title  is_fake lang\n",
      "1412  Lollipop Chainsaw стала самой успешной игрой G...        0   et\n",
      "5749             Resistance: Retribution выйдет в марте        0   et\n",
      "Количество заголовков на языке et = 2 \n",
      "\n",
      "mk                                                   title  is_fake lang\n",
      "184   Автор песни American Pie арестован за домашнее...        0   mk\n",
      "192                   ФАС прекратила дело против Google        0   mk\n",
      "504              Украина продаст Хлеб Киева на аукционе        0   mk\n",
      "625   Лада Калина неизвестного депутата поцарапала б...        1   mk\n",
      "677   Пугачева показала тапки в ответ на критику ее ...        0   mk\n",
      "726                Европа отступает на банановом фронте        0   mk\n",
      "794     Марадона наехал на автомобиле на ногу фотографу        0   mk\n",
      "962   Илон Маск неудачно пошутил и снова обвалил акц...        0   mk\n",
      "1119                          Зенит разгромил Локомотив        0   mk\n",
      "1120   Игрока клуба НБА дисквалифицировали на 20 матчей        0   mk\n",
      "1328           Американского астронавта подвел скафандр        0   mk\n",
      "1559              Prince of Persia «поставили на паузу»        0   mk\n",
      "1942                  США наказали Украину за пиратство        0   mk\n",
      "2006          На Ланта-тур завели административное дело        0   mk\n",
      "2612       Владимир Кличко победил Александра Поветкина        0   mk\n",
      "3323          Apple прекратила поставки iMac и Mac mini        0   mk\n",
      "3445  Под видом Hummer Patriot Украина получила от Н...        1   mk\n",
      "3854                        Тренеру Милана нашли замену        0   mk\n",
      "3959                Овечкин набрал два очка в матче НХЛ        0   mk\n",
      "4125                      Мастер-банк признан банкротом        0   mk\n",
      "4593        Спартак опротестует дисквалификацию Карпина        0   mk\n",
      "4632  Сотрудник Microsoft показал прототип смартфона...        0   mk\n",
      "4904      Пение гиббонов напомнило биоакустикам сопрано        0   mk\n",
      "5306  Физики анонсировали создание «микроба Шредингера»        0   mk\n",
      "5458  Лимонова оштрафовали за митинг против капитализма        0   mk\n",
      "5562       Центробанк понизил курс доллара на 55 копеек        0   mk\n",
      "5575          Физики сделали транзистор из одного атома        0   mk\n",
      "Количество заголовков на языке mk = 27 \n",
      "\n",
      "uk                                                 title  is_fake lang\n",
      "2685  Дональд Трамп завел страницу в «Одноклассниках»        1   uk\n",
      "5106               Атланта решила обменять Ковальчука        0   uk\n",
      "Количество заголовков на языке uk = 2 \n",
      "\n"
     ]
    }
   ],
   "source": [
    "data[data['lang'] != 'ru'].groupby(data['lang'])\n",
    "for key, group in iter(data[data['lang'] != 'ru'].groupby(data['lang'])):\n",
    "  print(key, group)\n",
    "  print(f'Количество заголовков на языке {key} = {len(group)}', '\\n')"
   ]
  },
  {
   "cell_type": "markdown",
   "metadata": {
    "id": "axGgQwRGWhPJ"
   },
   "source": [
    "На самом деле, все заголовки на русском языке. Детектор опознал язык отличный от русского в случаях с аббревиатурами и с преобладанием в заголовках иностранных имен, компаний и названий продуктов."
   ]
  },
  {
   "cell_type": "code",
   "execution_count": 15,
   "metadata": {
    "colab": {
     "base_uri": "https://localhost:8080/",
     "height": 206
    },
    "executionInfo": {
     "elapsed": 57,
     "status": "ok",
     "timestamp": 1650194661662,
     "user": {
      "displayName": "Тимофей Волков",
      "userId": "10194013534399443615"
     },
     "user_tz": -300
    },
    "id": "C05J2QynXsMS",
    "outputId": "f90f9a6b-b064-4a7d-eaed-16cbf7d5d58d"
   },
   "outputs": [
    {
     "data": {
      "text/html": [
       "\n",
       "  <div id=\"df-f05e1ee5-a968-441b-922a-83142936ea11\">\n",
       "    <div class=\"colab-df-container\">\n",
       "      <div>\n",
       "<style scoped>\n",
       "    .dataframe tbody tr th:only-of-type {\n",
       "        vertical-align: middle;\n",
       "    }\n",
       "\n",
       "    .dataframe tbody tr th {\n",
       "        vertical-align: top;\n",
       "    }\n",
       "\n",
       "    .dataframe thead th {\n",
       "        text-align: right;\n",
       "    }\n",
       "</style>\n",
       "<table border=\"1\" class=\"dataframe\">\n",
       "  <thead>\n",
       "    <tr style=\"text-align: right;\">\n",
       "      <th></th>\n",
       "      <th>title</th>\n",
       "      <th>is_fake</th>\n",
       "      <th>lang</th>\n",
       "      <th>len</th>\n",
       "    </tr>\n",
       "  </thead>\n",
       "  <tbody>\n",
       "    <tr>\n",
       "      <th>0</th>\n",
       "      <td>Москвичу Владимиру Клутину пришёл счёт за вмеш...</td>\n",
       "      <td>1</td>\n",
       "      <td>ru</td>\n",
       "      <td>0.36</td>\n",
       "    </tr>\n",
       "    <tr>\n",
       "      <th>1</th>\n",
       "      <td>Агент Кокорина назвал езду по встречке житейск...</td>\n",
       "      <td>0</td>\n",
       "      <td>ru</td>\n",
       "      <td>0.27</td>\n",
       "    </tr>\n",
       "    <tr>\n",
       "      <th>2</th>\n",
       "      <td>Госдума рассмотрит возможность введения секрет...</td>\n",
       "      <td>1</td>\n",
       "      <td>ru</td>\n",
       "      <td>0.36</td>\n",
       "    </tr>\n",
       "    <tr>\n",
       "      <th>3</th>\n",
       "      <td>ФАС заблокировала поставку скоростных трамваев...</td>\n",
       "      <td>0</td>\n",
       "      <td>ru</td>\n",
       "      <td>0.27</td>\n",
       "    </tr>\n",
       "    <tr>\n",
       "      <th>4</th>\n",
       "      <td>Против Навального завели дело о недоносительст...</td>\n",
       "      <td>1</td>\n",
       "      <td>ru</td>\n",
       "      <td>0.28</td>\n",
       "    </tr>\n",
       "  </tbody>\n",
       "</table>\n",
       "</div>\n",
       "      <button class=\"colab-df-convert\" onclick=\"convertToInteractive('df-f05e1ee5-a968-441b-922a-83142936ea11')\"\n",
       "              title=\"Convert this dataframe to an interactive table.\"\n",
       "              style=\"display:none;\">\n",
       "        \n",
       "  <svg xmlns=\"http://www.w3.org/2000/svg\" height=\"24px\"viewBox=\"0 0 24 24\"\n",
       "       width=\"24px\">\n",
       "    <path d=\"M0 0h24v24H0V0z\" fill=\"none\"/>\n",
       "    <path d=\"M18.56 5.44l.94 2.06.94-2.06 2.06-.94-2.06-.94-.94-2.06-.94 2.06-2.06.94zm-11 1L8.5 8.5l.94-2.06 2.06-.94-2.06-.94L8.5 2.5l-.94 2.06-2.06.94zm10 10l.94 2.06.94-2.06 2.06-.94-2.06-.94-.94-2.06-.94 2.06-2.06.94z\"/><path d=\"M17.41 7.96l-1.37-1.37c-.4-.4-.92-.59-1.43-.59-.52 0-1.04.2-1.43.59L10.3 9.45l-7.72 7.72c-.78.78-.78 2.05 0 2.83L4 21.41c.39.39.9.59 1.41.59.51 0 1.02-.2 1.41-.59l7.78-7.78 2.81-2.81c.8-.78.8-2.07 0-2.86zM5.41 20L4 18.59l7.72-7.72 1.47 1.35L5.41 20z\"/>\n",
       "  </svg>\n",
       "      </button>\n",
       "      \n",
       "  <style>\n",
       "    .colab-df-container {\n",
       "      display:flex;\n",
       "      flex-wrap:wrap;\n",
       "      gap: 12px;\n",
       "    }\n",
       "\n",
       "    .colab-df-convert {\n",
       "      background-color: #E8F0FE;\n",
       "      border: none;\n",
       "      border-radius: 50%;\n",
       "      cursor: pointer;\n",
       "      display: none;\n",
       "      fill: #1967D2;\n",
       "      height: 32px;\n",
       "      padding: 0 0 0 0;\n",
       "      width: 32px;\n",
       "    }\n",
       "\n",
       "    .colab-df-convert:hover {\n",
       "      background-color: #E2EBFA;\n",
       "      box-shadow: 0px 1px 2px rgba(60, 64, 67, 0.3), 0px 1px 3px 1px rgba(60, 64, 67, 0.15);\n",
       "      fill: #174EA6;\n",
       "    }\n",
       "\n",
       "    [theme=dark] .colab-df-convert {\n",
       "      background-color: #3B4455;\n",
       "      fill: #D2E3FC;\n",
       "    }\n",
       "\n",
       "    [theme=dark] .colab-df-convert:hover {\n",
       "      background-color: #434B5C;\n",
       "      box-shadow: 0px 1px 3px 1px rgba(0, 0, 0, 0.15);\n",
       "      filter: drop-shadow(0px 1px 2px rgba(0, 0, 0, 0.3));\n",
       "      fill: #FFFFFF;\n",
       "    }\n",
       "  </style>\n",
       "\n",
       "      <script>\n",
       "        const buttonEl =\n",
       "          document.querySelector('#df-f05e1ee5-a968-441b-922a-83142936ea11 button.colab-df-convert');\n",
       "        buttonEl.style.display =\n",
       "          google.colab.kernel.accessAllowed ? 'block' : 'none';\n",
       "\n",
       "        async function convertToInteractive(key) {\n",
       "          const element = document.querySelector('#df-f05e1ee5-a968-441b-922a-83142936ea11');\n",
       "          const dataTable =\n",
       "            await google.colab.kernel.invokeFunction('convertToInteractive',\n",
       "                                                     [key], {});\n",
       "          if (!dataTable) return;\n",
       "\n",
       "          const docLinkHtml = 'Like what you see? Visit the ' +\n",
       "            '<a target=\"_blank\" href=https://colab.research.google.com/notebooks/data_table.ipynb>data table notebook</a>'\n",
       "            + ' to learn more about interactive tables.';\n",
       "          element.innerHTML = '';\n",
       "          dataTable['output_type'] = 'display_data';\n",
       "          await google.colab.output.renderOutput(dataTable, element);\n",
       "          const docLink = document.createElement('div');\n",
       "          docLink.innerHTML = docLinkHtml;\n",
       "          element.appendChild(docLink);\n",
       "        }\n",
       "      </script>\n",
       "    </div>\n",
       "  </div>\n",
       "  "
      ],
      "text/plain": [
       "                                               title  is_fake lang   len\n",
       "0  Москвичу Владимиру Клутину пришёл счёт за вмеш...        1   ru  0.36\n",
       "1  Агент Кокорина назвал езду по встречке житейск...        0   ru  0.27\n",
       "2  Госдума рассмотрит возможность введения секрет...        1   ru  0.36\n",
       "3  ФАС заблокировала поставку скоростных трамваев...        0   ru  0.27\n",
       "4  Против Навального завели дело о недоносительст...        1   ru  0.28"
      ]
     },
     "execution_count": 15,
     "metadata": {},
     "output_type": "execute_result"
    }
   ],
   "source": [
    "# Есть ли зависимость между длиной заголовка и его правдоподобностью\n",
    "\n",
    "data['len'] = pd.Series([len(x) for x in data['title']])\n",
    "\n",
    "# нормализация значений длины\n",
    "data['len'] = round(data['len'] / max(data['len']), 2) \n",
    "data.head()"
   ]
  },
  {
   "cell_type": "code",
   "execution_count": 16,
   "metadata": {
    "colab": {
     "base_uri": "https://localhost:8080/",
     "height": 280
    },
    "executionInfo": {
     "elapsed": 707,
     "status": "ok",
     "timestamp": 1650194662313,
     "user": {
      "displayName": "Тимофей Волков",
      "userId": "10194013534399443615"
     },
     "user_tz": -300
    },
    "id": "iVmBwyd7ebTB",
    "outputId": "59c50e81-a9b1-425f-da1e-19827cbb0f00"
   },
   "outputs": [
    {
     "data": {
      "image/png": "[encoded data removed]",
      "text/plain": [
       "<Figure size 576x288 with 1 Axes>"
      ]
     },
     "metadata": {
      "needs_background": "light"
     },
     "output_type": "display_data"
    }
   ],
   "source": [
    "plt.figure(figsize=(8,4))\n",
    "sns.barplot(x=data['is_fake'], y = data['len'])\n",
    "plt.show()"
   ]
  },
  {
   "cell_type": "code",
   "execution_count": 17,
   "metadata": {
    "colab": {
     "base_uri": "https://localhost:8080/",
     "height": 280
    },
    "executionInfo": {
     "elapsed": 56,
     "status": "ok",
     "timestamp": 1650194662316,
     "user": {
      "displayName": "Тимофей Волков",
      "userId": "10194013534399443615"
     },
     "user_tz": -300
    },
    "id": "UomrGuL9aNQx",
    "outputId": "441025c5-c577-4047-9972-cb4bffac107d"
   },
   "outputs": [
    {
     "data": {
      "image/png": "[encoded data removed]",
      "text/plain": [
       "<Figure size 576x288 with 1 Axes>"
      ]
     },
     "metadata": {
      "needs_background": "light"
     },
     "output_type": "display_data"
    }
   ],
   "source": [
    "plt.figure(figsize=(8,4))\n",
    "sns.boxplot(x=data['is_fake'], y = data['len'])\n",
    "plt.show()"
   ]
  },
  {
   "cell_type": "markdown",
   "metadata": {
    "id": "ZkShTirEX_AE"
   },
   "source": [
    "Фейковые новости в среднем длинее подлиных."
   ]
  },
  {
   "cell_type": "markdown",
   "metadata": {
    "id": "tlEgkptmR4c3"
   },
   "source": [
    "## Tf-idf"
   ]
  },
  {
   "cell_type": "markdown",
   "metadata": {
    "id": "fyxBf7FE8R-L"
   },
   "source": [
    "### Извлекаем леммы"
   ]
  },
  {
   "cell_type": "code",
   "execution_count": 18,
   "metadata": {
    "colab": {
     "base_uri": "https://localhost:8080/"
    },
    "executionInfo": {
     "elapsed": 2231,
     "status": "ok",
     "timestamp": 1650194664496,
     "user": {
      "displayName": "Тимофей Волков",
      "userId": "10194013534399443615"
     },
     "user_tz": -300
    },
    "id": "bTZuGD7S8R-M",
    "outputId": "0c060313-110c-4d59-a9ef-555529ec0f84",
    "scrolled": true
   },
   "outputs": [
    {
     "name": "stdout",
     "output_type": "stream",
     "text": [
      "[nltk_data] Downloading package stopwords to /root/nltk_data...\n",
      "[nltk_data]   Unzipping corpora/stopwords.zip.\n"
     ]
    }
   ],
   "source": [
    "nltk.download('stopwords') # извлечение стоп слов\n",
    "\n",
    "nlp = spacy.load('ru_core_news_md') # из библиотеки spacy загружаем pipeline русского текста СМИ"
   ]
  },
  {
   "cell_type": "code",
   "execution_count": 19,
   "metadata": {
    "executionInfo": {
     "elapsed": 12,
     "status": "ok",
     "timestamp": 1650194664497,
     "user": {
      "displayName": "Тимофей Волков",
      "userId": "10194013534399443615"
     },
     "user_tz": -300
    },
    "id": "wqk5DfjwgimV"
   },
   "outputs": [],
   "source": [
    "# функция удаления лишних символов и стоп слов + выделение лемма\n",
    "\n",
    "def lemm_clear_text(title):\n",
    "    # очищаем от лишних символов\n",
    "    title_without_sw = re.sub(r'[^а-яёЁА-Яa-zA-Z0-9]', ' ', title) \n",
    "    \n",
    "    # очищаем строку от стоп слов\n",
    "    text = [word.lower() for word in title_without_sw.split() if word.lower() not in set(nltk_stopwords.words('russian'))]\n",
    "    text =  \" \".join(text)\n",
    "\n",
    "    # извлечение лемм (lib Scapy)\n",
    "    result_text = [word.lemma_ for word in nlp(text)]\n",
    "\n",
    "    return \" \".join(result_text)"
   ]
  },
  {
   "cell_type": "code",
   "execution_count": 20,
   "metadata": {
    "colab": {
     "base_uri": "https://localhost:8080/",
     "height": 363
    },
    "executionInfo": {
     "elapsed": 68827,
     "status": "ok",
     "timestamp": 1650194733314,
     "user": {
      "displayName": "Тимофей Волков",
      "userId": "10194013534399443615"
     },
     "user_tz": -300
    },
    "id": "pR6Dtpi-8R-U",
    "outputId": "0cf76b17-759c-4964-e905-0716eb4a4488"
   },
   "outputs": [
    {
     "data": {
      "text/html": [
       "\n",
       "  <div id=\"df-70533e43-1063-4593-9f60-7acb8c48bcc7\">\n",
       "    <div class=\"colab-df-container\">\n",
       "      <div>\n",
       "<style scoped>\n",
       "    .dataframe tbody tr th:only-of-type {\n",
       "        vertical-align: middle;\n",
       "    }\n",
       "\n",
       "    .dataframe tbody tr th {\n",
       "        vertical-align: top;\n",
       "    }\n",
       "\n",
       "    .dataframe thead th {\n",
       "        text-align: right;\n",
       "    }\n",
       "</style>\n",
       "<table border=\"1\" class=\"dataframe\">\n",
       "  <thead>\n",
       "    <tr style=\"text-align: right;\">\n",
       "      <th></th>\n",
       "      <th>title</th>\n",
       "      <th>is_fake</th>\n",
       "      <th>lang</th>\n",
       "      <th>len</th>\n",
       "      <th>lemm_title</th>\n",
       "    </tr>\n",
       "  </thead>\n",
       "  <tbody>\n",
       "    <tr>\n",
       "      <th>5461</th>\n",
       "      <td>NASA: из-за глобального потепления уже через 1...</td>\n",
       "      <td>1</td>\n",
       "      <td>ru</td>\n",
       "      <td>0.50</td>\n",
       "      <td>nasa глобальный потепление 10 год погибнуть ки...</td>\n",
       "    </tr>\n",
       "    <tr>\n",
       "      <th>3340</th>\n",
       "      <td>Алексей Навальный отказался от еды до конца св...</td>\n",
       "      <td>1</td>\n",
       "      <td>ru</td>\n",
       "      <td>0.33</td>\n",
       "      <td>алексей навальный отказаться еда конец священн...</td>\n",
       "    </tr>\n",
       "    <tr>\n",
       "      <th>1152</th>\n",
       "      <td>Звезда «Зачарованных» вступилась за свою вагин...</td>\n",
       "      <td>0</td>\n",
       "      <td>ru</td>\n",
       "      <td>0.35</td>\n",
       "      <td>звезда зачаровать вступиться вагин обматерить ...</td>\n",
       "    </tr>\n",
       "    <tr>\n",
       "      <th>3930</th>\n",
       "      <td>Министр нефти Кувейта предсказал снижение ее ц...</td>\n",
       "      <td>0</td>\n",
       "      <td>ru</td>\n",
       "      <td>0.30</td>\n",
       "      <td>министр нефть кувейт предсказать снижение цена...</td>\n",
       "    </tr>\n",
       "    <tr>\n",
       "      <th>2473</th>\n",
       "      <td>Прибор наведения противотанковых ракет приспос...</td>\n",
       "      <td>0</td>\n",
       "      <td>ru</td>\n",
       "      <td>0.34</td>\n",
       "      <td>прибор наведение противотанковый ракета приспо...</td>\n",
       "    </tr>\n",
       "    <tr>\n",
       "      <th>4174</th>\n",
       "      <td>Выкупивший картину Папича за 1 миллион рублей ...</td>\n",
       "      <td>1</td>\n",
       "      <td>ru</td>\n",
       "      <td>0.38</td>\n",
       "      <td>выкупить картина папича 1 миллион рубль продат...</td>\n",
       "    </tr>\n",
       "    <tr>\n",
       "      <th>4048</th>\n",
       "      <td>Из-за низкой платёжеспособности населения Росп...</td>\n",
       "      <td>1</td>\n",
       "      <td>ru</td>\n",
       "      <td>0.43</td>\n",
       "      <td>низкий платёжеспособность население роспотребн...</td>\n",
       "    </tr>\n",
       "    <tr>\n",
       "      <th>2929</th>\n",
       "      <td>Тверской суд обязал Германию оплатить восстано...</td>\n",
       "      <td>1</td>\n",
       "      <td>ru</td>\n",
       "      <td>0.36</td>\n",
       "      <td>тверской суд обязать германия оплатить восстан...</td>\n",
       "    </tr>\n",
       "    <tr>\n",
       "      <th>110</th>\n",
       "      <td>Депутаты Думы устроили давку и драку во время ...</td>\n",
       "      <td>1</td>\n",
       "      <td>ru</td>\n",
       "      <td>0.40</td>\n",
       "      <td>депутат дума устроить давка драка время распро...</td>\n",
       "    </tr>\n",
       "    <tr>\n",
       "      <th>4135</th>\n",
       "      <td>Средняя зарплата в Москве впервые превысила 40...</td>\n",
       "      <td>0</td>\n",
       "      <td>ru</td>\n",
       "      <td>0.28</td>\n",
       "      <td>средний зарплата москве впервые превысить 40 т...</td>\n",
       "    </tr>\n",
       "  </tbody>\n",
       "</table>\n",
       "</div>\n",
       "      <button class=\"colab-df-convert\" onclick=\"convertToInteractive('df-70533e43-1063-4593-9f60-7acb8c48bcc7')\"\n",
       "              title=\"Convert this dataframe to an interactive table.\"\n",
       "              style=\"display:none;\">\n",
       "        \n",
       "  <svg xmlns=\"http://www.w3.org/2000/svg\" height=\"24px\"viewBox=\"0 0 24 24\"\n",
       "       width=\"24px\">\n",
       "    <path d=\"M0 0h24v24H0V0z\" fill=\"none\"/>\n",
       "    <path d=\"M18.56 5.44l.94 2.06.94-2.06 2.06-.94-2.06-.94-.94-2.06-.94 2.06-2.06.94zm-11 1L8.5 8.5l.94-2.06 2.06-.94-2.06-.94L8.5 2.5l-.94 2.06-2.06.94zm10 10l.94 2.06.94-2.06 2.06-.94-2.06-.94-.94-2.06-.94 2.06-2.06.94z\"/><path d=\"M17.41 7.96l-1.37-1.37c-.4-.4-.92-.59-1.43-.59-.52 0-1.04.2-1.43.59L10.3 9.45l-7.72 7.72c-.78.78-.78 2.05 0 2.83L4 21.41c.39.39.9.59 1.41.59.51 0 1.02-.2 1.41-.59l7.78-7.78 2.81-2.81c.8-.78.8-2.07 0-2.86zM5.41 20L4 18.59l7.72-7.72 1.47 1.35L5.41 20z\"/>\n",
       "  </svg>\n",
       "      </button>\n",
       "      \n",
       "  <style>\n",
       "    .colab-df-container {\n",
       "      display:flex;\n",
       "      flex-wrap:wrap;\n",
       "      gap: 12px;\n",
       "    }\n",
       "\n",
       "    .colab-df-convert {\n",
       "      background-color: #E8F0FE;\n",
       "      border: none;\n",
       "      border-radius: 50%;\n",
       "      cursor: pointer;\n",
       "      display: none;\n",
       "      fill: #1967D2;\n",
       "      height: 32px;\n",
       "      padding: 0 0 0 0;\n",
       "      width: 32px;\n",
       "    }\n",
       "\n",
       "    .colab-df-convert:hover {\n",
       "      background-color: #E2EBFA;\n",
       "      box-shadow: 0px 1px 2px rgba(60, 64, 67, 0.3), 0px 1px 3px 1px rgba(60, 64, 67, 0.15);\n",
       "      fill: #174EA6;\n",
       "    }\n",
       "\n",
       "    [theme=dark] .colab-df-convert {\n",
       "      background-color: #3B4455;\n",
       "      fill: #D2E3FC;\n",
       "    }\n",
       "\n",
       "    [theme=dark] .colab-df-convert:hover {\n",
       "      background-color: #434B5C;\n",
       "      box-shadow: 0px 1px 3px 1px rgba(0, 0, 0, 0.15);\n",
       "      filter: drop-shadow(0px 1px 2px rgba(0, 0, 0, 0.3));\n",
       "      fill: #FFFFFF;\n",
       "    }\n",
       "  </style>\n",
       "\n",
       "      <script>\n",
       "        const buttonEl =\n",
       "          document.querySelector('#df-70533e43-1063-4593-9f60-7acb8c48bcc7 button.colab-df-convert');\n",
       "        buttonEl.style.display =\n",
       "          google.colab.kernel.accessAllowed ? 'block' : 'none';\n",
       "\n",
       "        async function convertToInteractive(key) {\n",
       "          const element = document.querySelector('#df-70533e43-1063-4593-9f60-7acb8c48bcc7');\n",
       "          const dataTable =\n",
       "            await google.colab.kernel.invokeFunction('convertToInteractive',\n",
       "                                                     [key], {});\n",
       "          if (!dataTable) return;\n",
       "\n",
       "          const docLinkHtml = 'Like what you see? Visit the ' +\n",
       "            '<a target=\"_blank\" href=https://colab.research.google.com/notebooks/data_table.ipynb>data table notebook</a>'\n",
       "            + ' to learn more about interactive tables.';\n",
       "          element.innerHTML = '';\n",
       "          dataTable['output_type'] = 'display_data';\n",
       "          await google.colab.output.renderOutput(dataTable, element);\n",
       "          const docLink = document.createElement('div');\n",
       "          docLink.innerHTML = docLinkHtml;\n",
       "          element.appendChild(docLink);\n",
       "        }\n",
       "      </script>\n",
       "    </div>\n",
       "  </div>\n",
       "  "
      ],
      "text/plain": [
       "                                                  title  is_fake lang   len  \\\n",
       "5461  NASA: из-за глобального потепления уже через 1...        1   ru  0.50   \n",
       "3340  Алексей Навальный отказался от еды до конца св...        1   ru  0.33   \n",
       "1152  Звезда «Зачарованных» вступилась за свою вагин...        0   ru  0.35   \n",
       "3930  Министр нефти Кувейта предсказал снижение ее ц...        0   ru  0.30   \n",
       "2473  Прибор наведения противотанковых ракет приспос...        0   ru  0.34   \n",
       "4174  Выкупивший картину Папича за 1 миллион рублей ...        1   ru  0.38   \n",
       "4048  Из-за низкой платёжеспособности населения Росп...        1   ru  0.43   \n",
       "2929  Тверской суд обязал Германию оплатить восстано...        1   ru  0.36   \n",
       "110   Депутаты Думы устроили давку и драку во время ...        1   ru  0.40   \n",
       "4135  Средняя зарплата в Москве впервые превысила 40...        0   ru  0.28   \n",
       "\n",
       "                                             lemm_title  \n",
       "5461  nasa глобальный потепление 10 год погибнуть ки...  \n",
       "3340  алексей навальный отказаться еда конец священн...  \n",
       "1152  звезда зачаровать вступиться вагин обматерить ...  \n",
       "3930  министр нефть кувейт предсказать снижение цена...  \n",
       "2473  прибор наведение противотанковый ракета приспо...  \n",
       "4174  выкупить картина папича 1 миллион рубль продат...  \n",
       "4048  низкий платёжеспособность население роспотребн...  \n",
       "2929  тверской суд обязать германия оплатить восстан...  \n",
       "110   депутат дума устроить давка драка время распро...  \n",
       "4135  средний зарплата москве впервые превысить 40 т...  "
      ]
     },
     "execution_count": 20,
     "metadata": {},
     "output_type": "execute_result"
    }
   ],
   "source": [
    "# Применеие функции lemm_clear_text к заголовкам статей\n",
    "data['lemm_title'] = data['title'].apply(lemm_clear_text)\n",
    "data.sample(10)"
   ]
  },
  {
   "cell_type": "code",
   "execution_count": 21,
   "metadata": {
    "executionInfo": {
     "elapsed": 29,
     "status": "ok",
     "timestamp": 1650194733320,
     "user": {
      "displayName": "Тимофей Волков",
      "userId": "10194013534399443615"
     },
     "user_tz": -300
    },
    "id": "UoFbjlah8R-V"
   },
   "outputs": [],
   "source": [
    "# создаем признаки для дальнейшей векторизации и обучения\n",
    "features_corp = data['lemm_title'].values\n",
    "target = data['is_fake']"
   ]
  },
  {
   "cell_type": "code",
   "execution_count": 22,
   "metadata": {
    "executionInfo": {
     "elapsed": 30,
     "status": "ok",
     "timestamp": 1650194733323,
     "user": {
      "displayName": "Тимофей Волков",
      "userId": "10194013534399443615"
     },
     "user_tz": -300
    },
    "id": "Q_5mrkv__n-I"
   },
   "outputs": [],
   "source": [
    "features_train, features_valid, target_train, target_valid = \\\n",
    "train_test_split(features_corp, target, test_size=0.2, random_state=random_state)"
   ]
  },
  {
   "cell_type": "code",
   "execution_count": 23,
   "metadata": {
    "executionInfo": {
     "elapsed": 33,
     "status": "ok",
     "timestamp": 1650194733327,
     "user": {
      "displayName": "Тимофей Волков",
      "userId": "10194013534399443615"
     },
     "user_tz": -300
    },
    "id": "Y-3Dbzxj8R-X"
   },
   "outputs": [],
   "source": [
    "count_tf_idf = TfidfVectorizer()\n",
    "\n",
    "features_train = count_tf_idf.fit_transform(features_train)\n",
    "features_valid = count_tf_idf.transform(features_valid)"
   ]
  },
  {
   "cell_type": "markdown",
   "metadata": {
    "id": "Pq4sHZG08R-Y"
   },
   "source": [
    "## Обучение + Валидация"
   ]
  },
  {
   "cell_type": "code",
   "execution_count": 24,
   "metadata": {
    "executionInfo": {
     "elapsed": 34,
     "status": "ok",
     "timestamp": 1650194733328,
     "user": {
      "displayName": "Тимофей Волков",
      "userId": "10194013534399443615"
     },
     "user_tz": -300
    },
    "id": "sV1ai86tASpq"
   },
   "outputs": [],
   "source": [
    "dictionary_models = {} #словарь моделей, для записи метрик и гиперпараметров"
   ]
  },
  {
   "cell_type": "code",
   "execution_count": 25,
   "metadata": {
    "executionInfo": {
     "elapsed": 34,
     "status": "ok",
     "timestamp": 1650194733329,
     "user": {
      "displayName": "Тимофей Волков",
      "userId": "10194013534399443615"
     },
     "user_tz": -300
    },
    "id": "ekfd5Js0_BSm"
   },
   "outputs": [],
   "source": [
    "# функция для подбора гиперпараметров и расчета метрик\n",
    "def model_tuning(model, params):\n",
    "  clf = GridSearchCV(\n",
    "    estimator=model,\n",
    "    param_grid=params,\n",
    "    cv=5,\n",
    "    n_jobs=-1,\n",
    "    verbose=1,\n",
    "    scoring='f1'\n",
    "  )\n",
    "\n",
    "  clf.fit(features_train, target_train)\n",
    "  \n",
    "  f1_train = f1_score(target_train, clf.predict(features_train))\n",
    "  f1_valid = f1_score(target_valid, clf.predict(features_valid))\n",
    "\n",
    "  print(f'f1_train = {f1_train}, f1_valid = {f1_valid}', '\\n')\n",
    "\n",
    "  # Confusion_matrix_for_valid\n",
    "  plot_confusion_matrix(clf, features_valid, target_valid)\n",
    "  plt.title('Confusion_matrix_for_valid')\n",
    "  plt.show()\n",
    "\n",
    "  return [clf.best_params_,\n",
    "          f1_train,\n",
    "          precision_score(target_train, clf.predict(features_train)),\n",
    "          recall_score(target_valid, clf.predict(features_valid)),\n",
    "          f1_valid,\n",
    "          precision_score(target_valid, clf.predict(features_valid)),\n",
    "          recall_score(target_valid, clf.predict(features_valid))\n",
    "          ]"
   ]
  },
  {
   "cell_type": "markdown",
   "metadata": {
    "id": "1MbVXIEb8R-a"
   },
   "source": [
    "### LogisticRegression"
   ]
  },
  {
   "cell_type": "code",
   "execution_count": 26,
   "metadata": {
    "colab": {
     "base_uri": "https://localhost:8080/",
     "height": 347
    },
    "executionInfo": {
     "elapsed": 22049,
     "status": "ok",
     "timestamp": 1650194755345,
     "user": {
      "displayName": "Тимофей Волков",
      "userId": "10194013534399443615"
     },
     "user_tz": -300
    },
    "id": "U5q6-U0WJAXH",
    "outputId": "bf8c3cb5-d8f0-4e2e-f8ef-6bc16f06ba6c"
   },
   "outputs": [
    {
     "name": "stdout",
     "output_type": "stream",
     "text": [
      "Fitting 5 folds for each of 14 candidates, totalling 70 fits\n",
      "f1_train = 1.0, f1_valid = 0.8445199660152931 \n",
      "\n"
     ]
    },
    {
     "data": {
      "image/png": "[encoded data removed]",
      "text/plain": [
       "<Figure size 432x288 with 2 Axes>"
      ]
     },
     "metadata": {
      "needs_background": "light"
     },
     "output_type": "display_data"
    }
   ],
   "source": [
    "dictionary_models['LogisticRegression_tf_idf'] = \\\n",
    "model_tuning(model=LogisticRegression(random_state=random_state),\n",
    "             params = {\n",
    "                'penalty' : ['l1', 'l2'],\n",
    "                'C': [0.001, 0.01, 0.1, 1, 10, 100, 1000],\n",
    "                'solver' : ['liblinear']\n",
    "                }\n",
    "             )"
   ]
  },
  {
   "cell_type": "markdown",
   "metadata": {
    "id": "KMQIvxbR2ChQ"
   },
   "source": [
    "Проверка на валидационной выборке показывает, FP и FN - показывают значения порядка 100 записей каждый."
   ]
  },
  {
   "cell_type": "markdown",
   "metadata": {
    "id": "ptPEuAWZ8R-c"
   },
   "source": [
    "### RandomForestClassifier"
   ]
  },
  {
   "cell_type": "code",
   "execution_count": 27,
   "metadata": {
    "executionInfo": {
     "elapsed": 4174,
     "status": "ok",
     "timestamp": 1650194759470,
     "user": {
      "displayName": "Тимофей Волков",
      "userId": "10194013534399443615"
     },
     "user_tz": -300
    },
    "id": "xT1nXy6m8R-c"
   },
   "outputs": [],
   "source": [
    "clf = RandomForestClassifier(random_state=random_state)\n",
    "clf.fit(features_train, target_train)\n",
    "\n",
    "f1_train = f1_score(target_train, clf.predict(features_train))\n",
    "f1_valid = f1_score(target_valid, clf.predict(features_valid))\n",
    "\n",
    "dictionary_models['RandomForestClassifier_tf_idf'] = \\\n",
    "[\n",
    " clf.get_params,\n",
    " f1_train,\n",
    " precision_score(target_train, clf.predict(features_train)),\n",
    " recall_score(target_valid, clf.predict(features_valid)),\n",
    " f1_valid,\n",
    " precision_score(target_valid, clf.predict(features_valid)),\n",
    " recall_score(target_valid, clf.predict(features_valid))\n",
    " ]"
   ]
  },
  {
   "cell_type": "code",
   "execution_count": 28,
   "metadata": {
    "colab": {
     "base_uri": "https://localhost:8080/",
     "height": 330
    },
    "executionInfo": {
     "elapsed": 38,
     "status": "ok",
     "timestamp": 1650194759476,
     "user": {
      "displayName": "Тимофей Волков",
      "userId": "10194013534399443615"
     },
     "user_tz": -300
    },
    "id": "RPGdgFp5ZiW8",
    "outputId": "9d0994c9-7a0b-4923-ea48-fa1c83024029"
   },
   "outputs": [
    {
     "name": "stdout",
     "output_type": "stream",
     "text": [
      "f1_train = 1.0, f1_valid = 0.764 \n",
      "\n"
     ]
    },
    {
     "data": {
      "image/png": "[encoded data removed]",
      "text/plain": [
       "<Figure size 432x288 with 2 Axes>"
      ]
     },
     "metadata": {
      "needs_background": "light"
     },
     "output_type": "display_data"
    }
   ],
   "source": [
    "print(f'f1_train = {f1_train}, f1_valid = {f1_valid}', '\\n')\n",
    "\n",
    "plot_confusion_matrix(clf, features_valid, target_valid)\n",
    "plt.title('Confusion_matrix_for_valid')\n",
    "plt.show()"
   ]
  },
  {
   "cell_type": "markdown",
   "metadata": {
    "id": "w8bhZ9Xm2gKF"
   },
   "source": [
    "Модель RandomForestClassifier показала результаты метрики f1 ниже чем LogisticRegression. Ошибочно фейковых меньше, но увеличилось количество фейковых новостей определенных как действительные."
   ]
  },
  {
   "cell_type": "markdown",
   "metadata": {
    "id": "j7DcR7-l8R-d"
   },
   "source": [
    "### CatBoostClassifier"
   ]
  },
  {
   "cell_type": "code",
   "execution_count": 29,
   "metadata": {
    "colab": {
     "base_uri": "https://localhost:8080/",
     "height": 399
    },
    "executionInfo": {
     "elapsed": 1146693,
     "status": "ok",
     "timestamp": 1650195906140,
     "user": {
      "displayName": "Тимофей Волков",
      "userId": "10194013534399443615"
     },
     "user_tz": -300
    },
    "id": "HbYxsWprK8ZD",
    "outputId": "e61090f1-5459-426d-d8da-76a13a2f4299"
   },
   "outputs": [
    {
     "name": "stdout",
     "output_type": "stream",
     "text": [
      "Fitting 5 folds for each of 4 candidates, totalling 20 fits\n",
      "0:\tlearn: 0.6873686\ttotal: 116ms\tremaining: 1m 55s\n",
      "500:\tlearn: 0.2802397\ttotal: 27.4s\tremaining: 27.3s\n",
      "999:\tlearn: 0.1854443\ttotal: 54.5s\tremaining: 0us\n",
      "f1_train = 1.0, f1_valid = 0.7958214624881291 \n",
      "\n"
     ]
    },
    {
     "data": {
      "image/png": "[encoded data removed]",
      "text/plain": [
       "<Figure size 432x288 with 2 Axes>"
      ]
     },
     "metadata": {
      "needs_background": "light"
     },
     "output_type": "display_data"
    }
   ],
   "source": [
    "dictionary_models['CatBoostClassifier_tf_idf'] = \\\n",
    "model_tuning(model=CatBoostClassifier(random_state=random_state),\n",
    "             params = {\n",
    "                'learning_rate' : list(np.arange(0.1,0.5,0.1)),\n",
    "                'loss_function': ['Logloss'],\n",
    "                'verbose': [500]\n",
    "                }\n",
    "             )"
   ]
  },
  {
   "cell_type": "markdown",
   "metadata": {
    "id": "TtFA4F22FMFN"
   },
   "source": [
    "Модель CatBoostClassifier отработала лучшем чем RandomForest, но модель так же определяет большое количество фейкоых заголовков, как действительные."
   ]
  },
  {
   "cell_type": "markdown",
   "metadata": {
    "id": "1VR_zXen8R-f"
   },
   "source": [
    "## Bert"
   ]
  },
  {
   "cell_type": "markdown",
   "metadata": {
    "id": "BkVlDN9U8R-f"
   },
   "source": [
    "Создадим эмбеддинги с помощью модели RuBERT."
   ]
  },
  {
   "cell_type": "markdown",
   "metadata": {
    "id": "UOvH2GCHSb-t"
   },
   "source": [
    "## Создание эмбеддингов"
   ]
  },
  {
   "cell_type": "code",
   "execution_count": 31,
   "metadata": {
    "executionInfo": {
     "elapsed": 27,
     "status": "ok",
     "timestamp": 1650195906141,
     "user": {
      "displayName": "Тимофей Волков",
      "userId": "10194013534399443615"
     },
     "user_tz": -300
    },
    "id": "qFg-Lc4QLZjc"
   },
   "outputs": [],
   "source": [
    "def create_embeddings(features, batch_size):\n",
    "  #токенизация\n",
    "  tokenizer = transformers.BertTokenizer(\n",
    "    vocab_file='/Bert/vocab.txt')\n",
    "\n",
    "  tokenized = features.apply(\n",
    "      lambda x: tokenizer.encode(x, add_special_tokens=True))\n",
    "\n",
    "  # создание маски для важных токенов\n",
    "  max_len = 0\n",
    "  for i in tokenized.values:\n",
    "      if len(i) > max_len:\n",
    "          max_len = len(i)\n",
    "\n",
    "  padded = np.array([i + [0]*(max_len - len(i)) for i in tokenized.values])\n",
    "\n",
    "  attention_mask = np.where(padded != 0, 1, 0)\n",
    "\n",
    "  #инициализация конфигурации и модели\n",
    "\n",
    "  config = transformers.BertConfig.from_json_file('/Bert/config.json')\n",
    "  model = transformers.BertModel.from_pretrained('/Bert/pytorch_model.bin', config=config)\n",
    "  \n",
    "  #создание эмбеддингов\n",
    "\n",
    "  embeddings = []\n",
    "  for i in notebook.tqdm(range(padded.shape[0] // batch_size)):\n",
    "          batch = torch.LongTensor(padded[batch_size*i:batch_size*(i+1)]) \n",
    "          attention_mask_batch = torch.LongTensor(attention_mask[batch_size*i:batch_size*(i+1)])\n",
    "          \n",
    "          with torch.no_grad():\n",
    "              batch_embeddings = model(batch, attention_mask=attention_mask_batch)\n",
    "          \n",
    "          embeddings.append(batch_embeddings[0][:,0,:].numpy())\n",
    "\n",
    "  return embeddings"
   ]
  },
  {
   "cell_type": "markdown",
   "metadata": {
    "id": "Rvbr1Qg_Snmi"
   },
   "source": [
    "## Подготовка признаков"
   ]
  },
  {
   "cell_type": "code",
   "execution_count": 32,
   "metadata": {
    "colab": {
     "base_uri": "https://localhost:8080/",
     "height": 121,
     "referenced_widgets": [
      "68e8cf0888c347349967ec05a5b1b9b7",
      "142f7270cbb943cebf04f4bc5ed987d2",
      "9a7eefa678534528bc526140293b78e5",
      "c6a1f58a3ef44c82af5a25be74f5e142",
      "9ea0670777634580941b5ffb986afe04",
      "0d613e2247df49fb9ce93699a911a361",
      "2eb22d7ecf2c41a7b8670ba64f66c99c",
      "04769e71d8db4e4fba4fd19bcd587c7e",
      "081a3d5a95704473a5fb0ee4263041cc",
      "0834406d7dc64886ae2d03cf9e259538",
      "ae22bd79d45246f0984af5f46e46cd00"
     ]
    },
    "executionInfo": {
     "elapsed": 981809,
     "status": "ok",
     "timestamp": 1650196887927,
     "user": {
      "displayName": "Тимофей Волков",
      "userId": "10194013534399443615"
     },
     "user_tz": -300
    },
    "id": "mxf0rIZwNgu0",
    "outputId": "b3df6f28-bf4c-483d-d52c-0449ebf03a62"
   },
   "outputs": [
    {
     "name": "stderr",
     "output_type": "stream",
     "text": [
      "Some weights of the model checkpoint at /content/drive/MyDrive/Kontur/Bert/pytorch_model.bin were not used when initializing BertModel: ['cls.seq_relationship.bias', 'cls.predictions.transform.dense.weight', 'cls.predictions.transform.LayerNorm.weight', 'cls.predictions.transform.LayerNorm.bias', 'cls.predictions.transform.dense.bias', 'cls.predictions.bias', 'cls.predictions.decoder.bias', 'cls.predictions.decoder.weight', 'cls.seq_relationship.weight']\n",
      "- This IS expected if you are initializing BertModel from the checkpoint of a model trained on another task or with another architecture (e.g. initializing a BertForSequenceClassification model from a BertForPreTraining model).\n",
      "- This IS NOT expected if you are initializing BertModel from the checkpoint of a model that you expect to be exactly identical (initializing a BertForSequenceClassification model from a BertForSequenceClassification model).\n"
     ]
    },
    {
     "data": {
      "application/vnd.jupyter.widget-view+json": {
       "model_id": "68e8cf0888c347349967ec05a5b1b9b7",
       "version_major": 2,
       "version_minor": 0
      },
      "text/plain": [
       "  0%|          | 0/115 [00:00<?, ?it/s]"
      ]
     },
     "metadata": {},
     "output_type": "display_data"
    }
   ],
   "source": [
    "features = np.concatenate(create_embeddings(data['title'], batch_size=50))\n",
    "target = data['is_fake'].iloc[0:features.shape[0]]\n",
    "\n",
    "features_train, features_valid, target_train, target_valid = \\\n",
    "train_test_split(features, target, test_size=0.2, random_state=random_state)"
   ]
  },
  {
   "cell_type": "markdown",
   "metadata": {
    "id": "IX2d6Re3SrcY"
   },
   "source": [
    "## Обучение + Валидация"
   ]
  },
  {
   "cell_type": "markdown",
   "metadata": {
    "id": "mSwuNQU-SvNF"
   },
   "source": [
    "### LogisticRegression"
   ]
  },
  {
   "cell_type": "code",
   "execution_count": 33,
   "metadata": {
    "colab": {
     "base_uri": "https://localhost:8080/",
     "height": 347
    },
    "executionInfo": {
     "elapsed": 1852300,
     "status": "ok",
     "timestamp": 1650198740190,
     "user": {
      "displayName": "Тимофей Волков",
      "userId": "10194013534399443615"
     },
     "user_tz": -300
    },
    "id": "187RM6PoLmwF",
    "outputId": "b205a1ba-4301-4ffa-e03b-125eea8c210e"
   },
   "outputs": [
    {
     "name": "stdout",
     "output_type": "stream",
     "text": [
      "Fitting 5 folds for each of 14 candidates, totalling 70 fits\n",
      "f1_train = 0.8834248079034027, f1_valid = 0.8668407310704961 \n",
      "\n"
     ]
    },
    {
     "data": {
      "image/png": "[encoded data removed]",
      "text/plain": [
       "<Figure size 432x288 with 2 Axes>"
      ]
     },
     "metadata": {
      "needs_background": "light"
     },
     "output_type": "display_data"
    }
   ],
   "source": [
    "dictionary_models['LogisticRegression_bert'] = \\\n",
    "model_tuning(model=LogisticRegression(random_state=random_state),\n",
    "             params = {\n",
    "                'penalty' : ['l1', 'l2'],\n",
    "                'C': [0.001, 0.01, 0.1, 1, 10, 100, 1000],\n",
    "                'solver' : ['liblinear']\n",
    "                }\n",
    "             )"
   ]
  },
  {
   "cell_type": "markdown",
   "metadata": {
    "id": "j-zP1d8IS3Es"
   },
   "source": [
    "### RandomForestClassifier"
   ]
  },
  {
   "cell_type": "code",
   "execution_count": 34,
   "metadata": {
    "executionInfo": {
     "elapsed": 11582,
     "status": "ok",
     "timestamp": 1650198751729,
     "user": {
      "displayName": "Тимофей Волков",
      "userId": "10194013534399443615"
     },
     "user_tz": -300
    },
    "id": "5WeS6LauirKh"
   },
   "outputs": [],
   "source": [
    "clf = RandomForestClassifier(random_state=random_state)\n",
    "\n",
    "clf.fit(features_train, target_train)\n",
    "\n",
    "f1_train = f1_score(target_train, clf.predict(features_train))\n",
    "f1_valid = f1_score(target_valid, clf.predict(features_valid))\n",
    "\n",
    "dictionary_models['RandomForestClassifier_bert'] = \\\n",
    "[\n",
    " clf.get_params,\n",
    " f1_train,\n",
    " precision_score(target_train, clf.predict(features_train)),\n",
    " recall_score(target_valid, clf.predict(features_valid)),\n",
    " f1_valid,\n",
    " precision_score(target_valid, clf.predict(features_valid)),\n",
    " recall_score(target_valid, clf.predict(features_valid))\n",
    " ]"
   ]
  },
  {
   "cell_type": "code",
   "execution_count": 35,
   "metadata": {
    "colab": {
     "base_uri": "https://localhost:8080/",
     "height": 330
    },
    "executionInfo": {
     "elapsed": 62,
     "status": "ok",
     "timestamp": 1650198751733,
     "user": {
      "displayName": "Тимофей Волков",
      "userId": "10194013534399443615"
     },
     "user_tz": -300
    },
    "id": "bYQvp_tacUcf",
    "outputId": "72e575ed-26b0-452f-f02f-593a93eae6ba"
   },
   "outputs": [
    {
     "name": "stdout",
     "output_type": "stream",
     "text": [
      "f1_train = 1.0, f1_valid = 0.8217317487266553 \n",
      "\n"
     ]
    },
    {
     "data": {
      "image/png": "[encoded data removed]",
      "text/plain": [
       "<Figure size 432x288 with 2 Axes>"
      ]
     },
     "metadata": {
      "needs_background": "light"
     },
     "output_type": "display_data"
    }
   ],
   "source": [
    "print(f'f1_train = {f1_train}, f1_valid = {f1_valid}', '\\n')\n",
    "\n",
    "# Confusion_matrix_for_valid\n",
    "plot_confusion_matrix(clf, features_valid, target_valid)\n",
    "plt.title('Confusion_matrix_for_valid')\n",
    "plt.show()"
   ]
  },
  {
   "cell_type": "markdown",
   "metadata": {
    "id": "jwKqoMTXS6qC"
   },
   "source": [
    "### CatBoostClassifier"
   ]
  },
  {
   "cell_type": "code",
   "execution_count": 36,
   "metadata": {
    "colab": {
     "base_uri": "https://localhost:8080/",
     "height": 399
    },
    "executionInfo": {
     "elapsed": 4426702,
     "status": "ok",
     "timestamp": 1650203178384,
     "user": {
      "displayName": "Тимофей Волков",
      "userId": "10194013534399443615"
     },
     "user_tz": -300
    },
    "id": "X8pTz3MPLw-X",
    "outputId": "8e541a44-7923-43d6-925e-ed30f29b9157"
   },
   "outputs": [
    {
     "name": "stdout",
     "output_type": "stream",
     "text": [
      "Fitting 5 folds for each of 4 candidates, totalling 20 fits\n",
      "0:\tlearn: 0.6615810\ttotal: 287ms\tremaining: 4m 47s\n",
      "500:\tlearn: 0.0170104\ttotal: 1m 47s\tremaining: 1m 46s\n",
      "999:\tlearn: 0.0039655\ttotal: 3m 33s\tremaining: 0us\n",
      "f1_train = 1.0, f1_valid = 0.8554421768707482 \n",
      "\n"
     ]
    },
    {
     "data": {
      "image/png": "[encoded data removed]",
      "text/plain": [
       "<Figure size 432x288 with 2 Axes>"
      ]
     },
     "metadata": {
      "needs_background": "light"
     },
     "output_type": "display_data"
    }
   ],
   "source": [
    "dictionary_models['CatBoostClassifier_bert'] = \\\n",
    "model_tuning(model=CatBoostClassifier(random_state=random_state,\n",
    "                                      verbose=500,\n",
    "                                      loss_function='Logloss'),\n",
    "             params = {\n",
    "                'learning_rate' : list(np.arange(0.1,0.5,0.1)),\n",
    "                }\n",
    "             )"
   ]
  },
  {
   "cell_type": "markdown",
   "metadata": {
    "id": "Kk0aoAwRkEzl"
   },
   "source": [
    "##Таблица с результатами обучения"
   ]
  },
  {
   "cell_type": "code",
   "execution_count": 37,
   "metadata": {
    "colab": {
     "base_uri": "https://localhost:8080/",
     "height": 238
    },
    "executionInfo": {
     "elapsed": 105,
     "status": "ok",
     "timestamp": 1650203178386,
     "user": {
      "displayName": "Тимофей Волков",
      "userId": "10194013534399443615"
     },
     "user_tz": -300
    },
    "id": "ZuxZgiYaB6N1",
    "outputId": "508c143a-98b0-46e1-8a6e-addc9174c193"
   },
   "outputs": [
    {
     "data": {
      "text/html": [
       "\n",
       "  <div id=\"df-8ec90f09-c54e-45d4-aec3-83e8b7954e8f\">\n",
       "    <div class=\"colab-df-container\">\n",
       "      <div>\n",
       "<style scoped>\n",
       "    .dataframe tbody tr th:only-of-type {\n",
       "        vertical-align: middle;\n",
       "    }\n",
       "\n",
       "    .dataframe tbody tr th {\n",
       "        vertical-align: top;\n",
       "    }\n",
       "\n",
       "    .dataframe thead th {\n",
       "        text-align: right;\n",
       "    }\n",
       "</style>\n",
       "<table border=\"1\" class=\"dataframe\">\n",
       "  <thead>\n",
       "    <tr style=\"text-align: right;\">\n",
       "      <th></th>\n",
       "      <th>f1_train</th>\n",
       "      <th>precision_train</th>\n",
       "      <th>recall_train</th>\n",
       "      <th>f1_valid</th>\n",
       "      <th>precision_valid</th>\n",
       "      <th>recall_valid</th>\n",
       "    </tr>\n",
       "  </thead>\n",
       "  <tbody>\n",
       "    <tr>\n",
       "      <th>LogisticRegression_tf_idf</th>\n",
       "      <td>1.0</td>\n",
       "      <td>1.0</td>\n",
       "      <td>0.859862</td>\n",
       "      <td>0.84452</td>\n",
       "      <td>0.829716</td>\n",
       "      <td>0.859862</td>\n",
       "    </tr>\n",
       "    <tr>\n",
       "      <th>RandomForestClassifier_tf_idf</th>\n",
       "      <td>1.0</td>\n",
       "      <td>1.0</td>\n",
       "      <td>0.6609</td>\n",
       "      <td>0.764</td>\n",
       "      <td>0.905213</td>\n",
       "      <td>0.6609</td>\n",
       "    </tr>\n",
       "    <tr>\n",
       "      <th>CatBoostClassifier_tf_idf</th>\n",
       "      <td>1.0</td>\n",
       "      <td>1.0</td>\n",
       "      <td>0.724913</td>\n",
       "      <td>0.795821</td>\n",
       "      <td>0.882105</td>\n",
       "      <td>0.724913</td>\n",
       "    </tr>\n",
       "    <tr>\n",
       "      <th>LogisticRegression_bert</th>\n",
       "      <td>0.883425</td>\n",
       "      <td>0.891054</td>\n",
       "      <td>0.858621</td>\n",
       "      <td>0.866841</td>\n",
       "      <td>0.87522</td>\n",
       "      <td>0.858621</td>\n",
       "    </tr>\n",
       "    <tr>\n",
       "      <th>RandomForestClassifier_bert</th>\n",
       "      <td>1.0</td>\n",
       "      <td>1.0</td>\n",
       "      <td>0.834483</td>\n",
       "      <td>0.821732</td>\n",
       "      <td>0.809365</td>\n",
       "      <td>0.834483</td>\n",
       "    </tr>\n",
       "    <tr>\n",
       "      <th>CatBoostClassifier_bert</th>\n",
       "      <td>1.0</td>\n",
       "      <td>1.0</td>\n",
       "      <td>0.867241</td>\n",
       "      <td>0.855442</td>\n",
       "      <td>0.84396</td>\n",
       "      <td>0.867241</td>\n",
       "    </tr>\n",
       "  </tbody>\n",
       "</table>\n",
       "</div>\n",
       "      <button class=\"colab-df-convert\" onclick=\"convertToInteractive('df-8ec90f09-c54e-45d4-aec3-83e8b7954e8f')\"\n",
       "              title=\"Convert this dataframe to an interactive table.\"\n",
       "              style=\"display:none;\">\n",
       "        \n",
       "  <svg xmlns=\"http://www.w3.org/2000/svg\" height=\"24px\"viewBox=\"0 0 24 24\"\n",
       "       width=\"24px\">\n",
       "    <path d=\"M0 0h24v24H0V0z\" fill=\"none\"/>\n",
       "    <path d=\"M18.56 5.44l.94 2.06.94-2.06 2.06-.94-2.06-.94-.94-2.06-.94 2.06-2.06.94zm-11 1L8.5 8.5l.94-2.06 2.06-.94-2.06-.94L8.5 2.5l-.94 2.06-2.06.94zm10 10l.94 2.06.94-2.06 2.06-.94-2.06-.94-.94-2.06-.94 2.06-2.06.94z\"/><path d=\"M17.41 7.96l-1.37-1.37c-.4-.4-.92-.59-1.43-.59-.52 0-1.04.2-1.43.59L10.3 9.45l-7.72 7.72c-.78.78-.78 2.05 0 2.83L4 21.41c.39.39.9.59 1.41.59.51 0 1.02-.2 1.41-.59l7.78-7.78 2.81-2.81c.8-.78.8-2.07 0-2.86zM5.41 20L4 18.59l7.72-7.72 1.47 1.35L5.41 20z\"/>\n",
       "  </svg>\n",
       "      </button>\n",
       "      \n",
       "  <style>\n",
       "    .colab-df-container {\n",
       "      display:flex;\n",
       "      flex-wrap:wrap;\n",
       "      gap: 12px;\n",
       "    }\n",
       "\n",
       "    .colab-df-convert {\n",
       "      background-color: #E8F0FE;\n",
       "      border: none;\n",
       "      border-radius: 50%;\n",
       "      cursor: pointer;\n",
       "      display: none;\n",
       "      fill: #1967D2;\n",
       "      height: 32px;\n",
       "      padding: 0 0 0 0;\n",
       "      width: 32px;\n",
       "    }\n",
       "\n",
       "    .colab-df-convert:hover {\n",
       "      background-color: #E2EBFA;\n",
       "      box-shadow: 0px 1px 2px rgba(60, 64, 67, 0.3), 0px 1px 3px 1px rgba(60, 64, 67, 0.15);\n",
       "      fill: #174EA6;\n",
       "    }\n",
       "\n",
       "    [theme=dark] .colab-df-convert {\n",
       "      background-color: #3B4455;\n",
       "      fill: #D2E3FC;\n",
       "    }\n",
       "\n",
       "    [theme=dark] .colab-df-convert:hover {\n",
       "      background-color: #434B5C;\n",
       "      box-shadow: 0px 1px 3px 1px rgba(0, 0, 0, 0.15);\n",
       "      filter: drop-shadow(0px 1px 2px rgba(0, 0, 0, 0.3));\n",
       "      fill: #FFFFFF;\n",
       "    }\n",
       "  </style>\n",
       "\n",
       "      <script>\n",
       "        const buttonEl =\n",
       "          document.querySelector('#df-8ec90f09-c54e-45d4-aec3-83e8b7954e8f button.colab-df-convert');\n",
       "        buttonEl.style.display =\n",
       "          google.colab.kernel.accessAllowed ? 'block' : 'none';\n",
       "\n",
       "        async function convertToInteractive(key) {\n",
       "          const element = document.querySelector('#df-8ec90f09-c54e-45d4-aec3-83e8b7954e8f');\n",
       "          const dataTable =\n",
       "            await google.colab.kernel.invokeFunction('convertToInteractive',\n",
       "                                                     [key], {});\n",
       "          if (!dataTable) return;\n",
       "\n",
       "          const docLinkHtml = 'Like what you see? Visit the ' +\n",
       "            '<a target=\"_blank\" href=https://colab.research.google.com/notebooks/data_table.ipynb>data table notebook</a>'\n",
       "            + ' to learn more about interactive tables.';\n",
       "          element.innerHTML = '';\n",
       "          dataTable['output_type'] = 'display_data';\n",
       "          await google.colab.output.renderOutput(dataTable, element);\n",
       "          const docLink = document.createElement('div');\n",
       "          docLink.innerHTML = docLinkHtml;\n",
       "          element.appendChild(docLink);\n",
       "        }\n",
       "      </script>\n",
       "    </div>\n",
       "  </div>\n",
       "  "
      ],
      "text/plain": [
       "                               f1_train precision_train recall_train  \\\n",
       "LogisticRegression_tf_idf           1.0             1.0     0.859862   \n",
       "RandomForestClassifier_tf_idf       1.0             1.0       0.6609   \n",
       "CatBoostClassifier_tf_idf           1.0             1.0     0.724913   \n",
       "LogisticRegression_bert        0.883425        0.891054     0.858621   \n",
       "RandomForestClassifier_bert         1.0             1.0     0.834483   \n",
       "CatBoostClassifier_bert             1.0             1.0     0.867241   \n",
       "\n",
       "                               f1_valid precision_valid recall_valid  \n",
       "LogisticRegression_tf_idf       0.84452        0.829716     0.859862  \n",
       "RandomForestClassifier_tf_idf     0.764        0.905213       0.6609  \n",
       "CatBoostClassifier_tf_idf      0.795821        0.882105     0.724913  \n",
       "LogisticRegression_bert        0.866841         0.87522     0.858621  \n",
       "RandomForestClassifier_bert    0.821732        0.809365     0.834483  \n",
       "CatBoostClassifier_bert        0.855442         0.84396     0.867241  "
      ]
     },
     "execution_count": 37,
     "metadata": {},
     "output_type": "execute_result"
    }
   ],
   "source": [
    "pivot_table = pd.DataFrame(dictionary_models, index=[\n",
    "                                                     'params',\n",
    "                                                     'f1_train',\n",
    "                                                     'precision_train',\n",
    "                                                     'recall_train',\n",
    "                                                     'f1_valid',\n",
    "                                                     'precision_valid',\n",
    "                                                     'recall_valid'])\n",
    "pivot_table = pivot_table.drop(index=['params'])\n",
    "pivot_table.T      "
   ]
  },
  {
   "cell_type": "markdown",
   "metadata": {
    "id": "hey04RnF-zl9"
   },
   "source": [
    "## Вывод"
   ]
  },
  {
   "cell_type": "markdown",
   "metadata": {
    "id": "CXMKOd276kYS"
   },
   "source": [
    "В результате обучения, лучшие показатели метрики f1 показала модель LogisticRegression (среди других моделей), независимо от способа преобразования текста.\n",
    "\n",
    "Показатель метрики f1 на валидациооной выборке у LogisticRegression, при преобзовании текста в эмбеддинги с помощью модели RuBERT выше, чем с векторизацией tf-idf. Выигрываем в метрике, проигрываем по времени выполнения. \n",
    "\n",
    "Используем данну модель (LogisticRegression (RuBERT)), для дальнейшего предсказания на тестовой выборке."
   ]
  },
  {
   "cell_type": "markdown",
   "metadata": {
    "id": "qTy1p7bXMTOl"
   },
   "source": [
    "# Тестовая выборка"
   ]
  },
  {
   "cell_type": "code",
   "execution_count": 38,
   "metadata": {
    "colab": {
     "base_uri": "https://localhost:8080/"
    },
    "executionInfo": {
     "elapsed": 1079,
     "status": "ok",
     "timestamp": 1650203179368,
     "user": {
      "displayName": "Тимофей Волков",
      "userId": "10194013534399443615"
     },
     "user_tz": -300
    },
    "id": "xQkFc78NMeFc",
    "outputId": "d1bcfad3-2b86-4dea-ebad-e998c1d0bc0d"
   },
   "outputs": [
    {
     "name": "stdout",
     "output_type": "stream",
     "text": [
      "<class 'pandas.core.frame.DataFrame'>\n",
      "RangeIndex: 1000 entries, 0 to 999\n",
      "Data columns (total 2 columns):\n",
      " #   Column   Non-Null Count  Dtype \n",
      "---  ------   --------------  ----- \n",
      " 0   title    1000 non-null   object\n",
      " 1   is_fake  1000 non-null   int64 \n",
      "dtypes: int64(1), object(1)\n",
      "memory usage: 15.8+ KB\n"
     ]
    }
   ],
   "source": [
    "data_test = pd.read_table('test.tsv')\n",
    "data_test.info()"
   ]
  },
  {
   "cell_type": "code",
   "execution_count": 39,
   "metadata": {
    "colab": {
     "base_uri": "https://localhost:8080/",
     "height": 363
    },
    "executionInfo": {
     "elapsed": 21,
     "status": "ok",
     "timestamp": 1650203179369,
     "user": {
      "displayName": "Тимофей Волков",
      "userId": "10194013534399443615"
     },
     "user_tz": -300
    },
    "id": "yXx_nSHxGeoS",
    "outputId": "292f302b-8967-41d0-f362-698ab30ea40e"
   },
   "outputs": [
    {
     "data": {
      "text/html": [
       "\n",
       "  <div id=\"df-a6d86d63-9ada-46e2-8107-d90accb7e7b8\">\n",
       "    <div class=\"colab-df-container\">\n",
       "      <div>\n",
       "<style scoped>\n",
       "    .dataframe tbody tr th:only-of-type {\n",
       "        vertical-align: middle;\n",
       "    }\n",
       "\n",
       "    .dataframe tbody tr th {\n",
       "        vertical-align: top;\n",
       "    }\n",
       "\n",
       "    .dataframe thead th {\n",
       "        text-align: right;\n",
       "    }\n",
       "</style>\n",
       "<table border=\"1\" class=\"dataframe\">\n",
       "  <thead>\n",
       "    <tr style=\"text-align: right;\">\n",
       "      <th></th>\n",
       "      <th>title</th>\n",
       "      <th>is_fake</th>\n",
       "    </tr>\n",
       "  </thead>\n",
       "  <tbody>\n",
       "    <tr>\n",
       "      <th>434</th>\n",
       "      <td>Александр Емельяненко нокаутировал бразильца з...</td>\n",
       "      <td>0</td>\n",
       "    </tr>\n",
       "    <tr>\n",
       "      <th>125</th>\n",
       "      <td>Международный союз биатлонистов обвинили в сок...</td>\n",
       "      <td>0</td>\n",
       "    </tr>\n",
       "    <tr>\n",
       "      <th>214</th>\n",
       "      <td>Навальный приобрёл виллу на берегу озера Комо</td>\n",
       "      <td>0</td>\n",
       "    </tr>\n",
       "    <tr>\n",
       "      <th>615</th>\n",
       "      <td>Новый порядок госзакупок за год сэкономит 230 ...</td>\n",
       "      <td>0</td>\n",
       "    </tr>\n",
       "    <tr>\n",
       "      <th>128</th>\n",
       "      <td>Индекс РТС поднялся до максимума с сентября 20...</td>\n",
       "      <td>0</td>\n",
       "    </tr>\n",
       "    <tr>\n",
       "      <th>471</th>\n",
       "      <td>Пенсионерам выплатят по 500 рублей за обещание...</td>\n",
       "      <td>0</td>\n",
       "    </tr>\n",
       "    <tr>\n",
       "      <th>223</th>\n",
       "      <td>Голодец попросила Путина повысить МРОТ</td>\n",
       "      <td>0</td>\n",
       "    </tr>\n",
       "    <tr>\n",
       "      <th>427</th>\n",
       "      <td>В России отменят право на отказ от прививок и ...</td>\n",
       "      <td>0</td>\n",
       "    </tr>\n",
       "    <tr>\n",
       "      <th>953</th>\n",
       "      <td>Газпром и Нафтогаз поправили газовые контракты...</td>\n",
       "      <td>0</td>\n",
       "    </tr>\n",
       "    <tr>\n",
       "      <th>250</th>\n",
       "      <td>Пенсионеры, не получившие подарочных карт на в...</td>\n",
       "      <td>0</td>\n",
       "    </tr>\n",
       "  </tbody>\n",
       "</table>\n",
       "</div>\n",
       "      <button class=\"colab-df-convert\" onclick=\"convertToInteractive('df-a6d86d63-9ada-46e2-8107-d90accb7e7b8')\"\n",
       "              title=\"Convert this dataframe to an interactive table.\"\n",
       "              style=\"display:none;\">\n",
       "        \n",
       "  <svg xmlns=\"http://www.w3.org/2000/svg\" height=\"24px\"viewBox=\"0 0 24 24\"\n",
       "       width=\"24px\">\n",
       "    <path d=\"M0 0h24v24H0V0z\" fill=\"none\"/>\n",
       "    <path d=\"M18.56 5.44l.94 2.06.94-2.06 2.06-.94-2.06-.94-.94-2.06-.94 2.06-2.06.94zm-11 1L8.5 8.5l.94-2.06 2.06-.94-2.06-.94L8.5 2.5l-.94 2.06-2.06.94zm10 10l.94 2.06.94-2.06 2.06-.94-2.06-.94-.94-2.06-.94 2.06-2.06.94z\"/><path d=\"M17.41 7.96l-1.37-1.37c-.4-.4-.92-.59-1.43-.59-.52 0-1.04.2-1.43.59L10.3 9.45l-7.72 7.72c-.78.78-.78 2.05 0 2.83L4 21.41c.39.39.9.59 1.41.59.51 0 1.02-.2 1.41-.59l7.78-7.78 2.81-2.81c.8-.78.8-2.07 0-2.86zM5.41 20L4 18.59l7.72-7.72 1.47 1.35L5.41 20z\"/>\n",
       "  </svg>\n",
       "      </button>\n",
       "      \n",
       "  <style>\n",
       "    .colab-df-container {\n",
       "      display:flex;\n",
       "      flex-wrap:wrap;\n",
       "      gap: 12px;\n",
       "    }\n",
       "\n",
       "    .colab-df-convert {\n",
       "      background-color: #E8F0FE;\n",
       "      border: none;\n",
       "      border-radius: 50%;\n",
       "      cursor: pointer;\n",
       "      display: none;\n",
       "      fill: #1967D2;\n",
       "      height: 32px;\n",
       "      padding: 0 0 0 0;\n",
       "      width: 32px;\n",
       "    }\n",
       "\n",
       "    .colab-df-convert:hover {\n",
       "      background-color: #E2EBFA;\n",
       "      box-shadow: 0px 1px 2px rgba(60, 64, 67, 0.3), 0px 1px 3px 1px rgba(60, 64, 67, 0.15);\n",
       "      fill: #174EA6;\n",
       "    }\n",
       "\n",
       "    [theme=dark] .colab-df-convert {\n",
       "      background-color: #3B4455;\n",
       "      fill: #D2E3FC;\n",
       "    }\n",
       "\n",
       "    [theme=dark] .colab-df-convert:hover {\n",
       "      background-color: #434B5C;\n",
       "      box-shadow: 0px 1px 3px 1px rgba(0, 0, 0, 0.15);\n",
       "      filter: drop-shadow(0px 1px 2px rgba(0, 0, 0, 0.3));\n",
       "      fill: #FFFFFF;\n",
       "    }\n",
       "  </style>\n",
       "\n",
       "      <script>\n",
       "        const buttonEl =\n",
       "          document.querySelector('#df-a6d86d63-9ada-46e2-8107-d90accb7e7b8 button.colab-df-convert');\n",
       "        buttonEl.style.display =\n",
       "          google.colab.kernel.accessAllowed ? 'block' : 'none';\n",
       "\n",
       "        async function convertToInteractive(key) {\n",
       "          const element = document.querySelector('#df-a6d86d63-9ada-46e2-8107-d90accb7e7b8');\n",
       "          const dataTable =\n",
       "            await google.colab.kernel.invokeFunction('convertToInteractive',\n",
       "                                                     [key], {});\n",
       "          if (!dataTable) return;\n",
       "\n",
       "          const docLinkHtml = 'Like what you see? Visit the ' +\n",
       "            '<a target=\"_blank\" href=https://colab.research.google.com/notebooks/data_table.ipynb>data table notebook</a>'\n",
       "            + ' to learn more about interactive tables.';\n",
       "          element.innerHTML = '';\n",
       "          dataTable['output_type'] = 'display_data';\n",
       "          await google.colab.output.renderOutput(dataTable, element);\n",
       "          const docLink = document.createElement('div');\n",
       "          docLink.innerHTML = docLinkHtml;\n",
       "          element.appendChild(docLink);\n",
       "        }\n",
       "      </script>\n",
       "    </div>\n",
       "  </div>\n",
       "  "
      ],
      "text/plain": [
       "                                                 title  is_fake\n",
       "434  Александр Емельяненко нокаутировал бразильца з...        0\n",
       "125  Международный союз биатлонистов обвинили в сок...        0\n",
       "214      Навальный приобрёл виллу на берегу озера Комо        0\n",
       "615  Новый порядок госзакупок за год сэкономит 230 ...        0\n",
       "128  Индекс РТС поднялся до максимума с сентября 20...        0\n",
       "471  Пенсионерам выплатят по 500 рублей за обещание...        0\n",
       "223             Голодец попросила Путина повысить МРОТ        0\n",
       "427  В России отменят право на отказ от прививок и ...        0\n",
       "953  Газпром и Нафтогаз поправили газовые контракты...        0\n",
       "250  Пенсионеры, не получившие подарочных карт на в...        0"
      ]
     },
     "execution_count": 39,
     "metadata": {},
     "output_type": "execute_result"
    }
   ],
   "source": [
    "data_test.sample(10)"
   ]
  },
  {
   "cell_type": "markdown",
   "metadata": {
    "id": "7HwIG_b8ISn2"
   },
   "source": [
    "## Подготовка признаков"
   ]
  },
  {
   "cell_type": "code",
   "execution_count": 40,
   "metadata": {
    "colab": {
     "base_uri": "https://localhost:8080/",
     "height": 121,
     "referenced_widgets": [
      "1f11b13973d74afca4ebbda9819703d7",
      "1f9726e5d6004421a975419f357a5c75",
      "eacb2fb4e42a466aad0743866fc28fa8",
      "904fc12c88d4455aafd199daa04f89a0",
      "48177038b94a40149233432125c30044",
      "cc93fed442974d78b3ba582b316bb43a",
      "58b5febf8ac04ebb9aacb41947a92c73",
      "ccfcccb38440410d8c4cb6192342633c",
      "b5d07a06281d430f9f7547f7590c7ce3",
      "49a92c8cfbc04d8ba3ced358436b06f3",
      "bc2460e8ac224073ada8668cc663a28d"
     ]
    },
    "executionInfo": {
     "elapsed": 145710,
     "status": "ok",
     "timestamp": 1650203325061,
     "user": {
      "displayName": "Тимофей Волков",
      "userId": "10194013534399443615"
     },
     "user_tz": -300
    },
    "id": "XuY-sDzfISn2",
    "outputId": "d5157c51-6355-4638-db22-7333fe7fae3d"
   },
   "outputs": [
    {
     "name": "stderr",
     "output_type": "stream",
     "text": [
      "Some weights of the model checkpoint at /content/drive/MyDrive/Kontur/Bert/pytorch_model.bin were not used when initializing BertModel: ['cls.seq_relationship.bias', 'cls.predictions.transform.dense.weight', 'cls.predictions.transform.LayerNorm.weight', 'cls.predictions.transform.LayerNorm.bias', 'cls.predictions.transform.dense.bias', 'cls.predictions.bias', 'cls.predictions.decoder.bias', 'cls.predictions.decoder.weight', 'cls.seq_relationship.weight']\n",
      "- This IS expected if you are initializing BertModel from the checkpoint of a model trained on another task or with another architecture (e.g. initializing a BertForSequenceClassification model from a BertForPreTraining model).\n",
      "- This IS NOT expected if you are initializing BertModel from the checkpoint of a model that you expect to be exactly identical (initializing a BertForSequenceClassification model from a BertForSequenceClassification model).\n"
     ]
    },
    {
     "data": {
      "application/vnd.jupyter.widget-view+json": {
       "model_id": "1f11b13973d74afca4ebbda9819703d7",
       "version_major": 2,
       "version_minor": 0
      },
      "text/plain": [
       "  0%|          | 0/20 [00:00<?, ?it/s]"
      ]
     },
     "metadata": {},
     "output_type": "display_data"
    }
   ],
   "source": [
    "features_test = np.concatenate(\n",
    "    create_embeddings(data_test['title'], batch_size=50)\n",
    "    )"
   ]
  },
  {
   "cell_type": "markdown",
   "metadata": {
    "id": "zOWpZ0WADOKr"
   },
   "source": [
    "Для итогового предсказания обучим LogisticRegression на всем датасете train."
   ]
  },
  {
   "cell_type": "code",
   "execution_count": 41,
   "metadata": {
    "executionInfo": {
     "elapsed": 44,
     "status": "ok",
     "timestamp": 1650203325065,
     "user": {
      "displayName": "Тимофей Волков",
      "userId": "10194013534399443615"
     },
     "user_tz": -300
    },
    "id": "oR5fDbxBEewD"
   },
   "outputs": [],
   "source": [
    "params = dictionary_models['LogisticRegression_bert'][0]"
   ]
  },
  {
   "cell_type": "code",
   "execution_count": 42,
   "metadata": {
    "colab": {
     "base_uri": "https://localhost:8080/"
    },
    "executionInfo": {
     "elapsed": 8409,
     "status": "ok",
     "timestamp": 1650203333438,
     "user": {
      "displayName": "Тимофей Волков",
      "userId": "10194013534399443615"
     },
     "user_tz": -300
    },
    "id": "2yTtY6XjMdPy",
    "outputId": "d6e4e41d-92fc-49f3-889f-4bbe56d06ab2"
   },
   "outputs": [
    {
     "data": {
      "text/plain": [
       "0.8587888335350318"
      ]
     },
     "execution_count": 42,
     "metadata": {},
     "output_type": "execute_result"
    }
   ],
   "source": [
    "model = LogisticRegression(random_state=random_state).set_params(**params)\n",
    "model.fit(features, target)\n",
    "\n",
    "# оценим усредненную метрику f1 на всем датасете\n",
    "scores = cross_val_score(model, features, target, scoring='f1')\n",
    "scores.mean()"
   ]
  },
  {
   "cell_type": "markdown",
   "metadata": {
    "id": "sXwaGeGZlh6M"
   },
   "source": [
    "##Предсказание"
   ]
  },
  {
   "cell_type": "code",
   "execution_count": 43,
   "metadata": {
    "executionInfo": {
     "elapsed": 83,
     "status": "ok",
     "timestamp": 1650203333439,
     "user": {
      "displayName": "Тимофей Волков",
      "userId": "10194013534399443615"
     },
     "user_tz": -300
    },
    "id": "01BCixjSHqnu"
   },
   "outputs": [],
   "source": [
    "data_test['is_fake'] = model.predict(features_test)"
   ]
  },
  {
   "cell_type": "markdown",
   "metadata": {
    "id": "K7WoY6DaCb1T"
   },
   "source": [
    "Оценим количество предсказаний"
   ]
  },
  {
   "cell_type": "code",
   "execution_count": 44,
   "metadata": {
    "colab": {
     "base_uri": "https://localhost:8080/"
    },
    "executionInfo": {
     "elapsed": 78,
     "status": "ok",
     "timestamp": 1650203333440,
     "user": {
      "displayName": "Тимофей Волков",
      "userId": "10194013534399443615"
     },
     "user_tz": -300
    },
    "id": "wuz7GrA0xZcd",
    "outputId": "9a17f706-8837-476c-92e2-51b2d6da5ef6"
   },
   "outputs": [
    {
     "data": {
      "text/plain": [
       "0    507\n",
       "1    493\n",
       "Name: is_fake, dtype: int64"
      ]
     },
     "execution_count": 44,
     "metadata": {},
     "output_type": "execute_result"
    }
   ],
   "source": [
    "data_test['is_fake'].value_counts()"
   ]
  },
  {
   "cell_type": "markdown",
   "metadata": {
    "id": "-1YOXApqlnKj"
   },
   "source": [
    "##Запись в файл"
   ]
  },
  {
   "cell_type": "code",
   "execution_count": 45,
   "metadata": {
    "executionInfo": {
     "elapsed": 31,
     "status": "ok",
     "timestamp": 1650203333441,
     "user": {
      "displayName": "Тимофей Волков",
      "userId": "10194013534399443615"
     },
     "user_tz": -300
    },
    "id": "L9D4PtXZ_jEA"
   },
   "outputs": [],
   "source": [
    "data_test.to_csv('predictions.tsv', index=False, sep='\\t')"
   ]
  }
 ],
 "metadata": {
  "colab": {
   "collapsed_sections": [],
   "name": "Fake_news.ipynb",
   "provenance": [],
   "toc_visible": true
  },
  "kernelspec": {
   "display_name": "Python 3",
   "language": "python",
   "name": "python3"
  },
  "language_info": {
   "codemirror_mode": {
    "name": "ipython",
    "version": 3
   },
   "file_extension": ".py",
   "mimetype": "text/x-python",
   "name": "python",
   "nbconvert_exporter": "python",
   "pygments_lexer": "ipython3",
   "version": "3.8.8"
  },
  "toc": {
   "base_numbering": 1,
   "nav_menu": {},
   "number_sections": true,
   "sideBar": true,
   "skip_h1_title": true,
   "title_cell": "Содержание",
   "title_sidebar": "Contents",
   "toc_cell": true,
   "toc_position": {
    "height": "calc(100% - 180px)",
    "left": "10px",
    "top": "150px",
    "width": "179.391px"
   },
   "toc_section_display": true,
   "toc_window_display": true
  },
  "widgets": {
   "application/vnd.jupyter.widget-state+json": {
    "04769e71d8db4e4fba4fd19bcd587c7e": {
     "model_module": "@jupyter-widgets/base",
     "model_module_version": "1.2.0",
     "model_name": "LayoutModel",
     "state": {
      "_model_module": "@jupyter-widgets/base",
      "_model_module_version": "1.2.0",
      "_model_name": "LayoutModel",
      "_view_count": null,
      "_view_module": "@jupyter-widgets/base",
      "_view_module_version": "1.2.0",
      "_view_name": "LayoutView",
      "align_content": null,
      "align_items": null,
      "align_self": null,
      "border": null,
      "bottom": null,
      "display": null,
      "flex": null,
      "flex_flow": null,
      "grid_area": null,
      "grid_auto_columns": null,
      "grid_auto_flow": null,
      "grid_auto_rows": null,
      "grid_column": null,
      "grid_gap": null,
      "grid_row": null,
      "grid_template_areas": null,
      "grid_template_columns": null,
      "grid_template_rows": null,
      "height": null,
      "justify_content": null,
      "justify_items": null,
      "left": null,
      "margin": null,
      "max_height": null,
      "max_width": null,
      "min_height": null,
      "min_width": null,
      "object_fit": null,
      "object_position": null,
      "order": null,
      "overflow": null,
      "overflow_x": null,
      "overflow_y": null,
      "padding": null,
      "right": null,
      "top": null,
      "visibility": null,
      "width": null
     }
    },
    "081a3d5a95704473a5fb0ee4263041cc": {
     "model_module": "@jupyter-widgets/controls",
     "model_module_version": "1.5.0",
     "model_name": "ProgressStyleModel",
     "state": {
      "_model_module": "@jupyter-widgets/controls",
      "_model_module_version": "1.5.0",
      "_model_name": "ProgressStyleModel",
      "_view_count": null,
      "_view_module": "@jupyter-widgets/base",
      "_view_module_version": "1.2.0",
      "_view_name": "StyleView",
      "bar_color": null,
      "description_width": ""
     }
    },
    "0834406d7dc64886ae2d03cf9e259538": {
     "model_module": "@jupyter-widgets/base",
     "model_module_version": "1.2.0",
     "model_name": "LayoutModel",
     "state": {
      "_model_module": "@jupyter-widgets/base",
      "_model_module_version": "1.2.0",
      "_model_name": "LayoutModel",
      "_view_count": null,
      "_view_module": "@jupyter-widgets/base",
      "_view_module_version": "1.2.0",
      "_view_name": "LayoutView",
      "align_content": null,
      "align_items": null,
      "align_self": null,
      "border": null,
      "bottom": null,
      "display": null,
      "flex": null,
      "flex_flow": null,
      "grid_area": null,
      "grid_auto_columns": null,
      "grid_auto_flow": null,
      "grid_auto_rows": null,
      "grid_column": null,
      "grid_gap": null,
      "grid_row": null,
      "grid_template_areas": null,
      "grid_template_columns": null,
      "grid_template_rows": null,
      "height": null,
      "justify_content": null,
      "justify_items": null,
      "left": null,
      "margin": null,
      "max_height": null,
      "max_width": null,
      "min_height": null,
      "min_width": null,
      "object_fit": null,
      "object_position": null,
      "order": null,
      "overflow": null,
      "overflow_x": null,
      "overflow_y": null,
      "padding": null,
      "right": null,
      "top": null,
      "visibility": null,
      "width": null
     }
    },
    "0d613e2247df49fb9ce93699a911a361": {
     "model_module": "@jupyter-widgets/base",
     "model_module_version": "1.2.0",
     "model_name": "LayoutModel",
     "state": {
      "_model_module": "@jupyter-widgets/base",
      "_model_module_version": "1.2.0",
      "_model_name": "LayoutModel",
      "_view_count": null,
      "_view_module": "@jupyter-widgets/base",
      "_view_module_version": "1.2.0",
      "_view_name": "LayoutView",
      "align_content": null,
      "align_items": null,
      "align_self": null,
      "border": null,
      "bottom": null,
      "display": null,
      "flex": null,
      "flex_flow": null,
      "grid_area": null,
      "grid_auto_columns": null,
      "grid_auto_flow": null,
      "grid_auto_rows": null,
      "grid_column": null,
      "grid_gap": null,
      "grid_row": null,
      "grid_template_areas": null,
      "grid_template_columns": null,
      "grid_template_rows": null,
      "height": null,
      "justify_content": null,
      "justify_items": null,
      "left": null,
      "margin": null,
      "max_height": null,
      "max_width": null,
      "min_height": null,
      "min_width": null,
      "object_fit": null,
      "object_position": null,
      "order": null,
      "overflow": null,
      "overflow_x": null,
      "overflow_y": null,
      "padding": null,
      "right": null,
      "top": null,
      "visibility": null,
      "width": null
     }
    },
    "142f7270cbb943cebf04f4bc5ed987d2": {
     "model_module": "@jupyter-widgets/controls",
     "model_module_version": "1.5.0",
     "model_name": "HTMLModel",
     "state": {
      "_dom_classes": [],
      "_model_module": "@jupyter-widgets/controls",
      "_model_module_version": "1.5.0",
      "_model_name": "HTMLModel",
      "_view_count": null,
      "_view_module": "@jupyter-widgets/controls",
      "_view_module_version": "1.5.0",
      "_view_name": "HTMLView",
      "description": "",
      "description_tooltip": null,
      "layout": "IPY_MODEL_0d613e2247df49fb9ce93699a911a361",
      "placeholder": "​",
      "style": "IPY_MODEL_2eb22d7ecf2c41a7b8670ba64f66c99c",
      "value": "100%"
     }
    },
    "1f11b13973d74afca4ebbda9819703d7": {
     "model_module": "@jupyter-widgets/controls",
     "model_module_version": "1.5.0",
     "model_name": "HBoxModel",
     "state": {
      "_dom_classes": [],
      "_model_module": "@jupyter-widgets/controls",
      "_model_module_version": "1.5.0",
      "_model_name": "HBoxModel",
      "_view_count": null,
      "_view_module": "@jupyter-widgets/controls",
      "_view_module_version": "1.5.0",
      "_view_name": "HBoxView",
      "box_style": "",
      "children": [
       "IPY_MODEL_1f9726e5d6004421a975419f357a5c75",
       "IPY_MODEL_eacb2fb4e42a466aad0743866fc28fa8",
       "IPY_MODEL_904fc12c88d4455aafd199daa04f89a0"
      ],
      "layout": "IPY_MODEL_48177038b94a40149233432125c30044"
     }
    },
    "1f9726e5d6004421a975419f357a5c75": {
     "model_module": "@jupyter-widgets/controls",
     "model_module_version": "1.5.0",
     "model_name": "HTMLModel",
     "state": {
      "_dom_classes": [],
      "_model_module": "@jupyter-widgets/controls",
      "_model_module_version": "1.5.0",
      "_model_name": "HTMLModel",
      "_view_count": null,
      "_view_module": "@jupyter-widgets/controls",
      "_view_module_version": "1.5.0",
      "_view_name": "HTMLView",
      "description": "",
      "description_tooltip": null,
      "layout": "IPY_MODEL_cc93fed442974d78b3ba582b316bb43a",
      "placeholder": "​",
      "style": "IPY_MODEL_58b5febf8ac04ebb9aacb41947a92c73",
      "value": "100%"
     }
    },
    "2eb22d7ecf2c41a7b8670ba64f66c99c": {
     "model_module": "@jupyter-widgets/controls",
     "model_module_version": "1.5.0",
     "model_name": "DescriptionStyleModel",
     "state": {
      "_model_module": "@jupyter-widgets/controls",
      "_model_module_version": "1.5.0",
      "_model_name": "DescriptionStyleModel",
      "_view_count": null,
      "_view_module": "@jupyter-widgets/base",
      "_view_module_version": "1.2.0",
      "_view_name": "StyleView",
      "description_width": ""
     }
    },
    "48177038b94a40149233432125c30044": {
     "model_module": "@jupyter-widgets/base",
     "model_module_version": "1.2.0",
     "model_name": "LayoutModel",
     "state": {
      "_model_module": "@jupyter-widgets/base",
      "_model_module_version": "1.2.0",
      "_model_name": "LayoutModel",
      "_view_count": null,
      "_view_module": "@jupyter-widgets/base",
      "_view_module_version": "1.2.0",
      "_view_name": "LayoutView",
      "align_content": null,
      "align_items": null,
      "align_self": null,
      "border": null,
      "bottom": null,
      "display": null,
      "flex": null,
      "flex_flow": null,
      "grid_area": null,
      "grid_auto_columns": null,
      "grid_auto_flow": null,
      "grid_auto_rows": null,
      "grid_column": null,
      "grid_gap": null,
      "grid_row": null,
      "grid_template_areas": null,
      "grid_template_columns": null,
      "grid_template_rows": null,
      "height": null,
      "justify_content": null,
      "justify_items": null,
      "left": null,
      "margin": null,
      "max_height": null,
      "max_width": null,
      "min_height": null,
      "min_width": null,
      "object_fit": null,
      "object_position": null,
      "order": null,
      "overflow": null,
      "overflow_x": null,
      "overflow_y": null,
      "padding": null,
      "right": null,
      "top": null,
      "visibility": null,
      "width": null
     }
    },
    "49a92c8cfbc04d8ba3ced358436b06f3": {
     "model_module": "@jupyter-widgets/base",
     "model_module_version": "1.2.0",
     "model_name": "LayoutModel",
     "state": {
      "_model_module": "@jupyter-widgets/base",
      "_model_module_version": "1.2.0",
      "_model_name": "LayoutModel",
      "_view_count": null,
      "_view_module": "@jupyter-widgets/base",
      "_view_module_version": "1.2.0",
      "_view_name": "LayoutView",
      "align_content": null,
      "align_items": null,
      "align_self": null,
      "border": null,
      "bottom": null,
      "display": null,
      "flex": null,
      "flex_flow": null,
      "grid_area": null,
      "grid_auto_columns": null,
      "grid_auto_flow": null,
      "grid_auto_rows": null,
      "grid_column": null,
      "grid_gap": null,
      "grid_row": null,
      "grid_template_areas": null,
      "grid_template_columns": null,
      "grid_template_rows": null,
      "height": null,
      "justify_content": null,
      "justify_items": null,
      "left": null,
      "margin": null,
      "max_height": null,
      "max_width": null,
      "min_height": null,
      "min_width": null,
      "object_fit": null,
      "object_position": null,
      "order": null,
      "overflow": null,
      "overflow_x": null,
      "overflow_y": null,
      "padding": null,
      "right": null,
      "top": null,
      "visibility": null,
      "width": null
     }
    },
    "58b5febf8ac04ebb9aacb41947a92c73": {
     "model_module": "@jupyter-widgets/controls",
     "model_module_version": "1.5.0",
     "model_name": "DescriptionStyleModel",
     "state": {
      "_model_module": "@jupyter-widgets/controls",
      "_model_module_version": "1.5.0",
      "_model_name": "DescriptionStyleModel",
      "_view_count": null,
      "_view_module": "@jupyter-widgets/base",
      "_view_module_version": "1.2.0",
      "_view_name": "StyleView",
      "description_width": ""
     }
    },
    "68e8cf0888c347349967ec05a5b1b9b7": {
     "model_module": "@jupyter-widgets/controls",
     "model_module_version": "1.5.0",
     "model_name": "HBoxModel",
     "state": {
      "_dom_classes": [],
      "_model_module": "@jupyter-widgets/controls",
      "_model_module_version": "1.5.0",
      "_model_name": "HBoxModel",
      "_view_count": null,
      "_view_module": "@jupyter-widgets/controls",
      "_view_module_version": "1.5.0",
      "_view_name": "HBoxView",
      "box_style": "",
      "children": [
       "IPY_MODEL_142f7270cbb943cebf04f4bc5ed987d2",
       "IPY_MODEL_9a7eefa678534528bc526140293b78e5",
       "IPY_MODEL_c6a1f58a3ef44c82af5a25be74f5e142"
      ],
      "layout": "IPY_MODEL_9ea0670777634580941b5ffb986afe04"
     }
    },
    "904fc12c88d4455aafd199daa04f89a0": {
     "model_module": "@jupyter-widgets/controls",
     "model_module_version": "1.5.0",
     "model_name": "HTMLModel",
     "state": {
      "_dom_classes": [],
      "_model_module": "@jupyter-widgets/controls",
      "_model_module_version": "1.5.0",
      "_model_name": "HTMLModel",
      "_view_count": null,
      "_view_module": "@jupyter-widgets/controls",
      "_view_module_version": "1.5.0",
      "_view_name": "HTMLView",
      "description": "",
      "description_tooltip": null,
      "layout": "IPY_MODEL_49a92c8cfbc04d8ba3ced358436b06f3",
      "placeholder": "​",
      "style": "IPY_MODEL_bc2460e8ac224073ada8668cc663a28d",
      "value": " 20/20 [02:18&lt;00:00,  6.90s/it]"
     }
    },
    "9a7eefa678534528bc526140293b78e5": {
     "model_module": "@jupyter-widgets/controls",
     "model_module_version": "1.5.0",
     "model_name": "FloatProgressModel",
     "state": {
      "_dom_classes": [],
      "_model_module": "@jupyter-widgets/controls",
      "_model_module_version": "1.5.0",
      "_model_name": "FloatProgressModel",
      "_view_count": null,
      "_view_module": "@jupyter-widgets/controls",
      "_view_module_version": "1.5.0",
      "_view_name": "ProgressView",
      "bar_style": "success",
      "description": "",
      "description_tooltip": null,
      "layout": "IPY_MODEL_04769e71d8db4e4fba4fd19bcd587c7e",
      "max": 115,
      "min": 0,
      "orientation": "horizontal",
      "style": "IPY_MODEL_081a3d5a95704473a5fb0ee4263041cc",
      "value": 115
     }
    },
    "9ea0670777634580941b5ffb986afe04": {
     "model_module": "@jupyter-widgets/base",
     "model_module_version": "1.2.0",
     "model_name": "LayoutModel",
     "state": {
      "_model_module": "@jupyter-widgets/base",
      "_model_module_version": "1.2.0",
      "_model_name": "LayoutModel",
      "_view_count": null,
      "_view_module": "@jupyter-widgets/base",
      "_view_module_version": "1.2.0",
      "_view_name": "LayoutView",
      "align_content": null,
      "align_items": null,
      "align_self": null,
      "border": null,
      "bottom": null,
      "display": null,
      "flex": null,
      "flex_flow": null,
      "grid_area": null,
      "grid_auto_columns": null,
      "grid_auto_flow": null,
      "grid_auto_rows": null,
      "grid_column": null,
      "grid_gap": null,
      "grid_row": null,
      "grid_template_areas": null,
      "grid_template_columns": null,
      "grid_template_rows": null,
      "height": null,
      "justify_content": null,
      "justify_items": null,
      "left": null,
      "margin": null,
      "max_height": null,
      "max_width": null,
      "min_height": null,
      "min_width": null,
      "object_fit": null,
      "object_position": null,
      "order": null,
      "overflow": null,
      "overflow_x": null,
      "overflow_y": null,
      "padding": null,
      "right": null,
      "top": null,
      "visibility": null,
      "width": null
     }
    },
    "ae22bd79d45246f0984af5f46e46cd00": {
     "model_module": "@jupyter-widgets/controls",
     "model_module_version": "1.5.0",
     "model_name": "DescriptionStyleModel",
     "state": {
      "_model_module": "@jupyter-widgets/controls",
      "_model_module_version": "1.5.0",
      "_model_name": "DescriptionStyleModel",
      "_view_count": null,
      "_view_module": "@jupyter-widgets/base",
      "_view_module_version": "1.2.0",
      "_view_name": "StyleView",
      "description_width": ""
     }
    },
    "b5d07a06281d430f9f7547f7590c7ce3": {
     "model_module": "@jupyter-widgets/controls",
     "model_module_version": "1.5.0",
     "model_name": "ProgressStyleModel",
     "state": {
      "_model_module": "@jupyter-widgets/controls",
      "_model_module_version": "1.5.0",
      "_model_name": "ProgressStyleModel",
      "_view_count": null,
      "_view_module": "@jupyter-widgets/base",
      "_view_module_version": "1.2.0",
      "_view_name": "StyleView",
      "bar_color": null,
      "description_width": ""
     }
    },
    "bc2460e8ac224073ada8668cc663a28d": {
     "model_module": "@jupyter-widgets/controls",
     "model_module_version": "1.5.0",
     "model_name": "DescriptionStyleModel",
     "state": {
      "_model_module": "@jupyter-widgets/controls",
      "_model_module_version": "1.5.0",
      "_model_name": "DescriptionStyleModel",
      "_view_count": null,
      "_view_module": "@jupyter-widgets/base",
      "_view_module_version": "1.2.0",
      "_view_name": "StyleView",
      "description_width": ""
     }
    },
    "c6a1f58a3ef44c82af5a25be74f5e142": {
     "model_module": "@jupyter-widgets/controls",
     "model_module_version": "1.5.0",
     "model_name": "HTMLModel",
     "state": {
      "_dom_classes": [],
      "_model_module": "@jupyter-widgets/controls",
      "_model_module_version": "1.5.0",
      "_model_name": "HTMLModel",
      "_view_count": null,
      "_view_module": "@jupyter-widgets/controls",
      "_view_module_version": "1.5.0",
      "_view_name": "HTMLView",
      "description": "",
      "description_tooltip": null,
      "layout": "IPY_MODEL_0834406d7dc64886ae2d03cf9e259538",
      "placeholder": "​",
      "style": "IPY_MODEL_ae22bd79d45246f0984af5f46e46cd00",
      "value": " 115/115 [16:03&lt;00:00,  8.35s/it]"
     }
    },
    "cc93fed442974d78b3ba582b316bb43a": {
     "model_module": "@jupyter-widgets/base",
     "model_module_version": "1.2.0",
     "model_name": "LayoutModel",
     "state": {
      "_model_module": "@jupyter-widgets/base",
      "_model_module_version": "1.2.0",
      "_model_name": "LayoutModel",
      "_view_count": null,
      "_view_module": "@jupyter-widgets/base",
      "_view_module_version": "1.2.0",
      "_view_name": "LayoutView",
      "align_content": null,
      "align_items": null,
      "align_self": null,
      "border": null,
      "bottom": null,
      "display": null,
      "flex": null,
      "flex_flow": null,
      "grid_area": null,
      "grid_auto_columns": null,
      "grid_auto_flow": null,
      "grid_auto_rows": null,
      "grid_column": null,
      "grid_gap": null,
      "grid_row": null,
      "grid_template_areas": null,
      "grid_template_columns": null,
      "grid_template_rows": null,
      "height": null,
      "justify_content": null,
      "justify_items": null,
      "left": null,
      "margin": null,
      "max_height": null,
      "max_width": null,
      "min_height": null,
      "min_width": null,
      "object_fit": null,
      "object_position": null,
      "order": null,
      "overflow": null,
      "overflow_x": null,
      "overflow_y": null,
      "padding": null,
      "right": null,
      "top": null,
      "visibility": null,
      "width": null
     }
    },
    "ccfcccb38440410d8c4cb6192342633c": {
     "model_module": "@jupyter-widgets/base",
     "model_module_version": "1.2.0",
     "model_name": "LayoutModel",
     "state": {
      "_model_module": "@jupyter-widgets/base",
      "_model_module_version": "1.2.0",
      "_model_name": "LayoutModel",
      "_view_count": null,
      "_view_module": "@jupyter-widgets/base",
      "_view_module_version": "1.2.0",
      "_view_name": "LayoutView",
      "align_content": null,
      "align_items": null,
      "align_self": null,
      "border": null,
      "bottom": null,
      "display": null,
      "flex": null,
      "flex_flow": null,
      "grid_area": null,
      "grid_auto_columns": null,
      "grid_auto_flow": null,
      "grid_auto_rows": null,
      "grid_column": null,
      "grid_gap": null,
      "grid_row": null,
      "grid_template_areas": null,
      "grid_template_columns": null,
      "grid_template_rows": null,
      "height": null,
      "justify_content": null,
      "justify_items": null,
      "left": null,
      "margin": null,
      "max_height": null,
      "max_width": null,
      "min_height": null,
      "min_width": null,
      "object_fit": null,
      "object_position": null,
      "order": null,
      "overflow": null,
      "overflow_x": null,
      "overflow_y": null,
      "padding": null,
      "right": null,
      "top": null,
      "visibility": null,
      "width": null
     }
    },
    "eacb2fb4e42a466aad0743866fc28fa8": {
     "model_module": "@jupyter-widgets/controls",
     "model_module_version": "1.5.0",
     "model_name": "FloatProgressModel",
     "state": {
      "_dom_classes": [],
      "_model_module": "@jupyter-widgets/controls",
      "_model_module_version": "1.5.0",
      "_model_name": "FloatProgressModel",
      "_view_count": null,
      "_view_module": "@jupyter-widgets/controls",
      "_view_module_version": "1.5.0",
      "_view_name": "ProgressView",
      "bar_style": "success",
      "description": "",
      "description_tooltip": null,
      "layout": "IPY_MODEL_ccfcccb38440410d8c4cb6192342633c",
      "max": 20,
      "min": 0,
      "orientation": "horizontal",
      "style": "IPY_MODEL_b5d07a06281d430f9f7547f7590c7ce3",
      "value": 20
     }
    }
   }
  }
 },
 "nbformat": 4,
 "nbformat_minor": 1
}
