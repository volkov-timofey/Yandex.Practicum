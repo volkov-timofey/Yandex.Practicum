{
 "cells": [
  {
   "cell_type": "markdown",
   "metadata": {
    "toc": true
   },
   "source": [
    "<h1>Содержание<span class=\"tocSkip\"></span></h1>\n",
    "<div class=\"toc\"><ul class=\"toc-item\"><li><span><a href=\"#Подготовка-данных\" data-toc-modified-id=\"Подготовка-данных-1\"><span class=\"toc-item-num\">1&nbsp;&nbsp;</span>Подготовка данных</a></span><ul class=\"toc-item\"><li><span><a href=\"#About-DataSet\" data-toc-modified-id=\"About-DataSet-1.1\"><span class=\"toc-item-num\">1.1&nbsp;&nbsp;</span>About DataSet</a></span></li><li><span><a href=\"#Попробуем-заполнить-пропуски-по-возможным-дубликатам-с-разным-ID\" data-toc-modified-id=\"Попробуем-заполнить-пропуски-по-возможным-дубликатам-с-разным-ID-1.2\"><span class=\"toc-item-num\">1.2&nbsp;&nbsp;</span>Попробуем заполнить пропуски по возможным дубликатам с разным ID</a></span></li><li><span><a href=\"#Рассмотрим-корреляцию-численных-параметров\" data-toc-modified-id=\"Рассмотрим-корреляцию-численных-параметров-1.3\"><span class=\"toc-item-num\">1.3&nbsp;&nbsp;</span>Рассмотрим корреляцию численных параметров</a></span></li><li><span><a href=\"#Вариант-восполнить-пропуски-через-KNN\" data-toc-modified-id=\"Вариант-восполнить-пропуски-через-KNN-1.4\"><span class=\"toc-item-num\">1.4&nbsp;&nbsp;</span>Вариант восполнить пропуски через KNN</a></span></li><li><span><a href=\"#Заполнение-пропущенных-значений-Random\" data-toc-modified-id=\"Заполнение-пропущенных-значений-Random-1.5\"><span class=\"toc-item-num\">1.5&nbsp;&nbsp;</span>Заполнение пропущенных значений Random</a></span></li><li><span><a href=\"#OHE\" data-toc-modified-id=\"OHE-1.6\"><span class=\"toc-item-num\">1.6&nbsp;&nbsp;</span>OHE</a></span></li></ul></li><li><span><a href=\"#Исследование-задачи\" data-toc-modified-id=\"Исследование-задачи-2\"><span class=\"toc-item-num\">2&nbsp;&nbsp;</span>Исследование задачи</a></span><ul class=\"toc-item\"><li><span><a href=\"#Исследование-балансов-классов\" data-toc-modified-id=\"Исследование-балансов-классов-2.1\"><span class=\"toc-item-num\">2.1&nbsp;&nbsp;</span>Исследование балансов классов</a></span></li><li><span><a href=\"#Подбор-гиперпараметров-на-несбалансированных-данных\" data-toc-modified-id=\"Подбор-гиперпараметров-на-несбалансированных-данных-2.2\"><span class=\"toc-item-num\">2.2&nbsp;&nbsp;</span>Подбор гиперпараметров на несбалансированных данных</a></span><ul class=\"toc-item\"><li><span><a href=\"#Решающее-дерево\" data-toc-modified-id=\"Решающее-дерево-2.2.1\"><span class=\"toc-item-num\">2.2.1&nbsp;&nbsp;</span>Решающее дерево</a></span></li><li><span><a href=\"#Случайный-лес\" data-toc-modified-id=\"Случайный-лес-2.2.2\"><span class=\"toc-item-num\">2.2.2&nbsp;&nbsp;</span>Случайный лес</a></span></li></ul></li><li><span><a href=\"#Итог\" data-toc-modified-id=\"Итог-2.3\"><span class=\"toc-item-num\">2.3&nbsp;&nbsp;</span>Итог</a></span></li></ul></li><li><span><a href=\"#Борьба-с-дисбалансом\" data-toc-modified-id=\"Борьба-с-дисбалансом-3\"><span class=\"toc-item-num\">3&nbsp;&nbsp;</span>Борьба с дисбалансом</a></span><ul class=\"toc-item\"><li><span><a href=\"#Увеличим-выборку-положительного-класса\" data-toc-modified-id=\"Увеличим-выборку-положительного-класса-3.1\"><span class=\"toc-item-num\">3.1&nbsp;&nbsp;</span>Увеличим выборку положительного класса</a></span><ul class=\"toc-item\"><li><span><a href=\"#AUC_ROC-Upsample\" data-toc-modified-id=\"AUC_ROC-Upsample-3.1.1\"><span class=\"toc-item-num\">3.1.1&nbsp;&nbsp;</span>AUC_ROC Upsample</a></span></li></ul></li><li><span><a href=\"#Уменьшим-выборку-отрицательного-класса\" data-toc-modified-id=\"Уменьшим-выборку-отрицательного-класса-3.2\"><span class=\"toc-item-num\">3.2&nbsp;&nbsp;</span>Уменьшим выборку отрицательного класса</a></span><ul class=\"toc-item\"><li><span><a href=\"#AUC_ROC-Downsample\" data-toc-modified-id=\"AUC_ROC-Downsample-3.2.1\"><span class=\"toc-item-num\">3.2.1&nbsp;&nbsp;</span>AUC_ROC Downsample</a></span></li></ul></li><li><span><a href=\"#Изменение-порога\" data-toc-modified-id=\"Изменение-порога-3.3\"><span class=\"toc-item-num\">3.3&nbsp;&nbsp;</span>Изменение порога</a></span><ul class=\"toc-item\"><li><span><a href=\"#На-сохраненной-модели-найдём-порог-при-максимальном-значении-F1\" data-toc-modified-id=\"На-сохраненной-модели-найдём-порог-при-максимальном-значении-F1-3.3.1\"><span class=\"toc-item-num\">3.3.1&nbsp;&nbsp;</span>На сохраненной модели найдём порог при максимальном значении F1</a></span></li></ul></li><li><span><a href=\"#Результаты-на-валидационной-выборке\" data-toc-modified-id=\"Результаты-на-валидационной-выборке-3.4\"><span class=\"toc-item-num\">3.4&nbsp;&nbsp;</span>Результаты на валидационной выборке</a></span></li></ul></li><li><span><a href=\"#Исследование-метрики-AUC-ROC\" data-toc-modified-id=\"Исследование-метрики-AUC-ROC-4\"><span class=\"toc-item-num\">4&nbsp;&nbsp;</span>Исследование метрики AUC-ROC</a></span></li><li><span><a href=\"#Тестирование-модели\" data-toc-modified-id=\"Тестирование-модели-5\"><span class=\"toc-item-num\">5&nbsp;&nbsp;</span>Тестирование модели</a></span></li></ul></div>"
   ]
  },
  {
   "cell_type": "markdown",
   "metadata": {},
   "source": [
    "# Отток клиентов"
   ]
  },
  {
   "cell_type": "markdown",
   "metadata": {},
   "source": [
    "Из «Бета-Банка» стали уходить клиенты. Каждый месяц. Немного, но заметно. Банковские маркетологи посчитали: сохранять текущих клиентов дешевле, чем привлекать новых.\n",
    "\n",
    "Задача: Построить модель прогнозирующую уход клиента в ближайшее время. \n",
    "\n",
    "Источник данных: [https://www.kaggle.com/barelydedicated/bank-customer-churn-modeling](https://www.kaggle.com/barelydedicated/bank-customer-churn-modeling)"
   ]
  },
  {
   "cell_type": "markdown",
   "metadata": {},
   "source": [
    "## Подготовка данных"
   ]
  },
  {
   "cell_type": "code",
   "execution_count": 192,
   "metadata": {
    "scrolled": false
   },
   "outputs": [],
   "source": [
    "#!pip install library -U --user\n",
    "#!pip install seaborn"
   ]
  },
  {
   "cell_type": "code",
   "execution_count": 193,
   "metadata": {
    "scrolled": false
   },
   "outputs": [],
   "source": [
    "import pandas as pd\n",
    "import numpy as np\n",
    "\n",
    "# model\n",
    "from sklearn.model_selection import train_test_split\n",
    "from sklearn.tree import DecisionTreeClassifier\n",
    "from sklearn.ensemble import RandomForestClassifier\n",
    "from sklearn.linear_model import LogisticRegression\n",
    "from sklearn.model_selection import GridSearchCV\n",
    "\n",
    "from sklearn.metrics import accuracy_score\n",
    "from sklearn.metrics import f1_score\n",
    "from sklearn.metrics import mean_squared_error\n",
    "from sklearn.metrics import r2_score\n",
    "from sklearn.metrics import roc_auc_score, roc_curve\n",
    "from sklearn.utils import shuffle\n",
    "\n",
    "from sklearn.neighbors import KNeighborsRegressor\n",
    "from sklearn.preprocessing import StandardScaler\n",
    "\n",
    "import seaborn as sns\n",
    "import matplotlib.pyplot as plt\n",
    "\n",
    "from tqdm.notebook import tqdm\n",
    "pd.set_option('display.max_columns', None)\n",
    "\n",
    "import warnings\n",
    "warnings.filterwarnings('ignore')"
   ]
  },
  {
   "cell_type": "code",
   "execution_count": 194,
   "metadata": {},
   "outputs": [],
   "source": [
    "try:\n",
    "    data = pd.read_csv(\"d:/Temp/Churn.csv\")\n",
    "except FileNotFoundError:\n",
    "    data = pd.read_csv(\"/datasets/Churn.csv\")"
   ]
  },
  {
   "cell_type": "markdown",
   "metadata": {},
   "source": [
    "### About DataSet"
   ]
  },
  {
   "cell_type": "code",
   "execution_count": 195,
   "metadata": {},
   "outputs": [
    {
     "name": "stdout",
     "output_type": "stream",
     "text": [
      "<class 'pandas.core.frame.DataFrame'>\n",
      "RangeIndex: 10000 entries, 0 to 9999\n",
      "Data columns (total 14 columns):\n",
      "RowNumber          10000 non-null int64\n",
      "CustomerId         10000 non-null int64\n",
      "Surname            10000 non-null object\n",
      "CreditScore        10000 non-null int64\n",
      "Geography          10000 non-null object\n",
      "Gender             10000 non-null object\n",
      "Age                10000 non-null int64\n",
      "Tenure             9091 non-null float64\n",
      "Balance            10000 non-null float64\n",
      "NumOfProducts      10000 non-null int64\n",
      "HasCrCard          10000 non-null int64\n",
      "IsActiveMember     10000 non-null int64\n",
      "EstimatedSalary    10000 non-null float64\n",
      "Exited             10000 non-null int64\n",
      "dtypes: float64(3), int64(8), object(3)\n",
      "memory usage: 1.1+ MB\n",
      "None\n"
     ]
    },
    {
     "data": {
      "text/html": [
       "<div>\n",
       "<style scoped>\n",
       "    .dataframe tbody tr th:only-of-type {\n",
       "        vertical-align: middle;\n",
       "    }\n",
       "\n",
       "    .dataframe tbody tr th {\n",
       "        vertical-align: top;\n",
       "    }\n",
       "\n",
       "    .dataframe thead th {\n",
       "        text-align: right;\n",
       "    }\n",
       "</style>\n",
       "<table border=\"1\" class=\"dataframe\">\n",
       "  <thead>\n",
       "    <tr style=\"text-align: right;\">\n",
       "      <th></th>\n",
       "      <th>RowNumber</th>\n",
       "      <th>CustomerId</th>\n",
       "      <th>Surname</th>\n",
       "      <th>CreditScore</th>\n",
       "      <th>Geography</th>\n",
       "      <th>Gender</th>\n",
       "      <th>Age</th>\n",
       "      <th>Tenure</th>\n",
       "      <th>Balance</th>\n",
       "      <th>NumOfProducts</th>\n",
       "      <th>HasCrCard</th>\n",
       "      <th>IsActiveMember</th>\n",
       "      <th>EstimatedSalary</th>\n",
       "      <th>Exited</th>\n",
       "    </tr>\n",
       "  </thead>\n",
       "  <tbody>\n",
       "    <tr>\n",
       "      <td>447</td>\n",
       "      <td>448</td>\n",
       "      <td>15644572</td>\n",
       "      <td>Turnbull</td>\n",
       "      <td>501</td>\n",
       "      <td>France</td>\n",
       "      <td>Male</td>\n",
       "      <td>40</td>\n",
       "      <td>4.0</td>\n",
       "      <td>125832.20</td>\n",
       "      <td>1</td>\n",
       "      <td>1</td>\n",
       "      <td>1</td>\n",
       "      <td>100433.83</td>\n",
       "      <td>0</td>\n",
       "    </tr>\n",
       "    <tr>\n",
       "      <td>6613</td>\n",
       "      <td>6614</td>\n",
       "      <td>15679991</td>\n",
       "      <td>Kennedy</td>\n",
       "      <td>524</td>\n",
       "      <td>France</td>\n",
       "      <td>Female</td>\n",
       "      <td>28</td>\n",
       "      <td>7.0</td>\n",
       "      <td>0.00</td>\n",
       "      <td>2</td>\n",
       "      <td>0</td>\n",
       "      <td>1</td>\n",
       "      <td>147100.72</td>\n",
       "      <td>0</td>\n",
       "    </tr>\n",
       "    <tr>\n",
       "      <td>2183</td>\n",
       "      <td>2184</td>\n",
       "      <td>15730735</td>\n",
       "      <td>Henning</td>\n",
       "      <td>713</td>\n",
       "      <td>France</td>\n",
       "      <td>Male</td>\n",
       "      <td>38</td>\n",
       "      <td>NaN</td>\n",
       "      <td>72286.84</td>\n",
       "      <td>2</td>\n",
       "      <td>1</td>\n",
       "      <td>1</td>\n",
       "      <td>26136.89</td>\n",
       "      <td>0</td>\n",
       "    </tr>\n",
       "    <tr>\n",
       "      <td>2793</td>\n",
       "      <td>2794</td>\n",
       "      <td>15624793</td>\n",
       "      <td>Soubeiran</td>\n",
       "      <td>627</td>\n",
       "      <td>Germany</td>\n",
       "      <td>Male</td>\n",
       "      <td>23</td>\n",
       "      <td>5.0</td>\n",
       "      <td>184244.86</td>\n",
       "      <td>1</td>\n",
       "      <td>1</td>\n",
       "      <td>0</td>\n",
       "      <td>103099.22</td>\n",
       "      <td>0</td>\n",
       "    </tr>\n",
       "    <tr>\n",
       "      <td>4433</td>\n",
       "      <td>4434</td>\n",
       "      <td>15724099</td>\n",
       "      <td>Udinese</td>\n",
       "      <td>674</td>\n",
       "      <td>France</td>\n",
       "      <td>Male</td>\n",
       "      <td>26</td>\n",
       "      <td>6.0</td>\n",
       "      <td>166257.96</td>\n",
       "      <td>1</td>\n",
       "      <td>1</td>\n",
       "      <td>1</td>\n",
       "      <td>149369.41</td>\n",
       "      <td>0</td>\n",
       "    </tr>\n",
       "    <tr>\n",
       "      <td>6718</td>\n",
       "      <td>6719</td>\n",
       "      <td>15744553</td>\n",
       "      <td>Ho</td>\n",
       "      <td>444</td>\n",
       "      <td>France</td>\n",
       "      <td>Male</td>\n",
       "      <td>34</td>\n",
       "      <td>2.0</td>\n",
       "      <td>144318.97</td>\n",
       "      <td>1</td>\n",
       "      <td>1</td>\n",
       "      <td>0</td>\n",
       "      <td>112668.06</td>\n",
       "      <td>0</td>\n",
       "    </tr>\n",
       "    <tr>\n",
       "      <td>8756</td>\n",
       "      <td>8757</td>\n",
       "      <td>15784923</td>\n",
       "      <td>Chimezie</td>\n",
       "      <td>705</td>\n",
       "      <td>Germany</td>\n",
       "      <td>Female</td>\n",
       "      <td>37</td>\n",
       "      <td>3.0</td>\n",
       "      <td>109974.22</td>\n",
       "      <td>1</td>\n",
       "      <td>1</td>\n",
       "      <td>1</td>\n",
       "      <td>36320.87</td>\n",
       "      <td>1</td>\n",
       "    </tr>\n",
       "    <tr>\n",
       "      <td>857</td>\n",
       "      <td>858</td>\n",
       "      <td>15760550</td>\n",
       "      <td>Duncan</td>\n",
       "      <td>741</td>\n",
       "      <td>Spain</td>\n",
       "      <td>Male</td>\n",
       "      <td>39</td>\n",
       "      <td>7.0</td>\n",
       "      <td>143637.58</td>\n",
       "      <td>2</td>\n",
       "      <td>0</td>\n",
       "      <td>1</td>\n",
       "      <td>174227.66</td>\n",
       "      <td>0</td>\n",
       "    </tr>\n",
       "    <tr>\n",
       "      <td>7030</td>\n",
       "      <td>7031</td>\n",
       "      <td>15610042</td>\n",
       "      <td>Brown</td>\n",
       "      <td>574</td>\n",
       "      <td>France</td>\n",
       "      <td>Male</td>\n",
       "      <td>33</td>\n",
       "      <td>8.0</td>\n",
       "      <td>100267.03</td>\n",
       "      <td>1</td>\n",
       "      <td>1</td>\n",
       "      <td>0</td>\n",
       "      <td>103006.27</td>\n",
       "      <td>0</td>\n",
       "    </tr>\n",
       "    <tr>\n",
       "      <td>6682</td>\n",
       "      <td>6683</td>\n",
       "      <td>15680683</td>\n",
       "      <td>Simmons</td>\n",
       "      <td>640</td>\n",
       "      <td>Spain</td>\n",
       "      <td>Male</td>\n",
       "      <td>29</td>\n",
       "      <td>5.0</td>\n",
       "      <td>197200.04</td>\n",
       "      <td>2</td>\n",
       "      <td>1</td>\n",
       "      <td>0</td>\n",
       "      <td>141453.62</td>\n",
       "      <td>0</td>\n",
       "    </tr>\n",
       "  </tbody>\n",
       "</table>\n",
       "</div>"
      ],
      "text/plain": [
       "      RowNumber  CustomerId    Surname  CreditScore Geography  Gender  Age  \\\n",
       "447         448    15644572   Turnbull          501    France    Male   40   \n",
       "6613       6614    15679991    Kennedy          524    France  Female   28   \n",
       "2183       2184    15730735    Henning          713    France    Male   38   \n",
       "2793       2794    15624793  Soubeiran          627   Germany    Male   23   \n",
       "4433       4434    15724099    Udinese          674    France    Male   26   \n",
       "6718       6719    15744553         Ho          444    France    Male   34   \n",
       "8756       8757    15784923   Chimezie          705   Germany  Female   37   \n",
       "857         858    15760550     Duncan          741     Spain    Male   39   \n",
       "7030       7031    15610042      Brown          574    France    Male   33   \n",
       "6682       6683    15680683    Simmons          640     Spain    Male   29   \n",
       "\n",
       "      Tenure    Balance  NumOfProducts  HasCrCard  IsActiveMember  \\\n",
       "447      4.0  125832.20              1          1               1   \n",
       "6613     7.0       0.00              2          0               1   \n",
       "2183     NaN   72286.84              2          1               1   \n",
       "2793     5.0  184244.86              1          1               0   \n",
       "4433     6.0  166257.96              1          1               1   \n",
       "6718     2.0  144318.97              1          1               0   \n",
       "8756     3.0  109974.22              1          1               1   \n",
       "857      7.0  143637.58              2          0               1   \n",
       "7030     8.0  100267.03              1          1               0   \n",
       "6682     5.0  197200.04              2          1               0   \n",
       "\n",
       "      EstimatedSalary  Exited  \n",
       "447         100433.83       0  \n",
       "6613        147100.72       0  \n",
       "2183         26136.89       0  \n",
       "2793        103099.22       0  \n",
       "4433        149369.41       0  \n",
       "6718        112668.06       0  \n",
       "8756         36320.87       1  \n",
       "857         174227.66       0  \n",
       "7030        103006.27       0  \n",
       "6682        141453.62       0  "
      ]
     },
     "execution_count": 195,
     "metadata": {},
     "output_type": "execute_result"
    }
   ],
   "source": [
    "#Информация о датасете\n",
    "print(data.info())\n",
    "data.sample(10)"
   ]
  },
  {
   "cell_type": "code",
   "execution_count": 196,
   "metadata": {
    "scrolled": true
   },
   "outputs": [
    {
     "data": {
      "text/plain": [
       "RowNumber          0.0000\n",
       "CustomerId         0.0000\n",
       "Surname            0.0000\n",
       "CreditScore        0.0000\n",
       "Geography          0.0000\n",
       "Gender             0.0000\n",
       "Age                0.0000\n",
       "Tenure             0.0909\n",
       "Balance            0.0000\n",
       "NumOfProducts      0.0000\n",
       "HasCrCard          0.0000\n",
       "IsActiveMember     0.0000\n",
       "EstimatedSalary    0.0000\n",
       "Exited             0.0000\n",
       "dtype: float64"
      ]
     },
     "execution_count": 196,
     "metadata": {},
     "output_type": "execute_result"
    }
   ],
   "source": [
    "data.isnull().mean()"
   ]
  },
  {
   "cell_type": "markdown",
   "metadata": {},
   "source": [
    "У нас в распоряжении датасет 10000 строк 14 столбцов. Пропуски имеются только в одном столбце Tenure - сколько лет человек является клиентом банка, около 9%.\n",
    "\n",
    "Рассмотрим, какой характер имеют пропуски и разработаем тактику заполнения."
   ]
  },
  {
   "cell_type": "markdown",
   "metadata": {},
   "source": [
    "Для последующей обработки приведём названия столбцов к нижнему регистру."
   ]
  },
  {
   "cell_type": "code",
   "execution_count": 197,
   "metadata": {},
   "outputs": [
    {
     "data": {
      "text/plain": [
       "Index(['rownumber', 'customerid', 'surname', 'creditscore', 'geography',\n",
       "       'gender', 'age', 'tenure', 'balance', 'numofproducts', 'hascrcard',\n",
       "       'isactivemember', 'estimatedsalary', 'exited'],\n",
       "      dtype='object')"
      ]
     },
     "execution_count": 197,
     "metadata": {},
     "output_type": "execute_result"
    }
   ],
   "source": [
    "data.columns = [col.lower() for col in data.columns]\n",
    "data.columns"
   ]
  },
  {
   "cell_type": "code",
   "execution_count": 198,
   "metadata": {
    "scrolled": false
   },
   "outputs": [
    {
     "name": "stdout",
     "output_type": "stream",
     "text": [
      "France     4550\n",
      "Germany    2293\n",
      "Spain      2248\n",
      "Name: geography, dtype: int64\n"
     ]
    },
    {
     "data": {
      "text/plain": [
       "geography\n",
       "France     5.0\n",
       "Germany    5.0\n",
       "Spain      5.0\n",
       "Name: tenure, dtype: float64"
      ]
     },
     "execution_count": 198,
     "metadata": {},
     "output_type": "execute_result"
    }
   ],
   "source": [
    "data[data['tenure'].notna()]['tenure'].value_counts()\n",
    "\n",
    "print(data[data['tenure'].notna()]['geography'].value_counts())\n",
    "data.groupby('geography')['tenure'].median()"
   ]
  },
  {
   "cell_type": "code",
   "execution_count": 199,
   "metadata": {
    "scrolled": true
   },
   "outputs": [
    {
     "data": {
      "image/png": "[encoded data removed]",
      "text/plain": [
       "<Figure size 432x288 with 1 Axes>"
      ]
     },
     "metadata": {
      "needs_background": "light"
     },
     "output_type": "display_data"
    }
   ],
   "source": [
    "sns.histplot(data['tenure'], kde=True)\n",
    "plt.title('Распределение периода жизни клиента исходных данных')\n",
    "plt.show()"
   ]
  },
  {
   "cell_type": "markdown",
   "metadata": {},
   "source": [
    "Максимальная длительность жизни клиента в данном дата сете 10 лет. \n",
    "Среднее и медианное время жизни в представленных странах составляет 5 лет\n",
    "У банка на первый взгляд отличные показатели, возможно банку чуть более 9 лет, возможно среднее время пребывания клиента составляет 9 лет.\n",
    "Со значением менее года - 382 клиента, но год еще не закончился."
   ]
  },
  {
   "cell_type": "code",
   "execution_count": 200,
   "metadata": {
    "scrolled": true
   },
   "outputs": [
    {
     "data": {
      "text/html": [
       "<div>\n",
       "<style scoped>\n",
       "    .dataframe tbody tr th:only-of-type {\n",
       "        vertical-align: middle;\n",
       "    }\n",
       "\n",
       "    .dataframe tbody tr th {\n",
       "        vertical-align: top;\n",
       "    }\n",
       "\n",
       "    .dataframe thead th {\n",
       "        text-align: right;\n",
       "    }\n",
       "</style>\n",
       "<table border=\"1\" class=\"dataframe\">\n",
       "  <thead>\n",
       "    <tr style=\"text-align: right;\">\n",
       "      <th></th>\n",
       "      <th>rownumber</th>\n",
       "      <th>customerid</th>\n",
       "      <th>surname</th>\n",
       "      <th>creditscore</th>\n",
       "      <th>geography</th>\n",
       "      <th>gender</th>\n",
       "      <th>age</th>\n",
       "      <th>tenure</th>\n",
       "      <th>balance</th>\n",
       "      <th>numofproducts</th>\n",
       "      <th>hascrcard</th>\n",
       "      <th>isactivemember</th>\n",
       "      <th>estimatedsalary</th>\n",
       "      <th>exited</th>\n",
       "    </tr>\n",
       "  </thead>\n",
       "  <tbody>\n",
       "    <tr>\n",
       "      <td>7678</td>\n",
       "      <td>7679</td>\n",
       "      <td>15690169</td>\n",
       "      <td>Meng</td>\n",
       "      <td>645</td>\n",
       "      <td>France</td>\n",
       "      <td>Male</td>\n",
       "      <td>31</td>\n",
       "      <td>NaN</td>\n",
       "      <td>161171.70</td>\n",
       "      <td>2</td>\n",
       "      <td>1</td>\n",
       "      <td>0</td>\n",
       "      <td>12599.94</td>\n",
       "      <td>1</td>\n",
       "    </tr>\n",
       "    <tr>\n",
       "      <td>7667</td>\n",
       "      <td>7668</td>\n",
       "      <td>15606554</td>\n",
       "      <td>Douglas</td>\n",
       "      <td>797</td>\n",
       "      <td>France</td>\n",
       "      <td>Male</td>\n",
       "      <td>29</td>\n",
       "      <td>NaN</td>\n",
       "      <td>0.00</td>\n",
       "      <td>1</td>\n",
       "      <td>0</td>\n",
       "      <td>1</td>\n",
       "      <td>149991.32</td>\n",
       "      <td>0</td>\n",
       "    </tr>\n",
       "    <tr>\n",
       "      <td>7458</td>\n",
       "      <td>7459</td>\n",
       "      <td>15800049</td>\n",
       "      <td>Grigoryeva</td>\n",
       "      <td>728</td>\n",
       "      <td>Spain</td>\n",
       "      <td>Female</td>\n",
       "      <td>43</td>\n",
       "      <td>NaN</td>\n",
       "      <td>0.00</td>\n",
       "      <td>1</td>\n",
       "      <td>1</td>\n",
       "      <td>1</td>\n",
       "      <td>120088.17</td>\n",
       "      <td>0</td>\n",
       "    </tr>\n",
       "    <tr>\n",
       "      <td>3784</td>\n",
       "      <td>3785</td>\n",
       "      <td>15723169</td>\n",
       "      <td>Williams</td>\n",
       "      <td>640</td>\n",
       "      <td>France</td>\n",
       "      <td>Female</td>\n",
       "      <td>31</td>\n",
       "      <td>NaN</td>\n",
       "      <td>138857.59</td>\n",
       "      <td>1</td>\n",
       "      <td>1</td>\n",
       "      <td>0</td>\n",
       "      <td>48640.77</td>\n",
       "      <td>0</td>\n",
       "    </tr>\n",
       "    <tr>\n",
       "      <td>1771</td>\n",
       "      <td>1772</td>\n",
       "      <td>15633260</td>\n",
       "      <td>Dumetochukwu</td>\n",
       "      <td>600</td>\n",
       "      <td>France</td>\n",
       "      <td>Male</td>\n",
       "      <td>37</td>\n",
       "      <td>NaN</td>\n",
       "      <td>142663.46</td>\n",
       "      <td>1</td>\n",
       "      <td>0</td>\n",
       "      <td>1</td>\n",
       "      <td>88669.89</td>\n",
       "      <td>0</td>\n",
       "    </tr>\n",
       "    <tr>\n",
       "      <td>4980</td>\n",
       "      <td>4981</td>\n",
       "      <td>15740406</td>\n",
       "      <td>Padovesi</td>\n",
       "      <td>628</td>\n",
       "      <td>Germany</td>\n",
       "      <td>Male</td>\n",
       "      <td>38</td>\n",
       "      <td>NaN</td>\n",
       "      <td>113525.84</td>\n",
       "      <td>1</td>\n",
       "      <td>1</td>\n",
       "      <td>0</td>\n",
       "      <td>46044.48</td>\n",
       "      <td>1</td>\n",
       "    </tr>\n",
       "    <tr>\n",
       "      <td>6039</td>\n",
       "      <td>6040</td>\n",
       "      <td>15768887</td>\n",
       "      <td>Hsing</td>\n",
       "      <td>597</td>\n",
       "      <td>Spain</td>\n",
       "      <td>Male</td>\n",
       "      <td>26</td>\n",
       "      <td>NaN</td>\n",
       "      <td>0.00</td>\n",
       "      <td>2</td>\n",
       "      <td>0</td>\n",
       "      <td>1</td>\n",
       "      <td>95159.13</td>\n",
       "      <td>0</td>\n",
       "    </tr>\n",
       "    <tr>\n",
       "      <td>1042</td>\n",
       "      <td>1043</td>\n",
       "      <td>15593969</td>\n",
       "      <td>Abramovich</td>\n",
       "      <td>630</td>\n",
       "      <td>Spain</td>\n",
       "      <td>Female</td>\n",
       "      <td>39</td>\n",
       "      <td>NaN</td>\n",
       "      <td>135483.17</td>\n",
       "      <td>1</td>\n",
       "      <td>1</td>\n",
       "      <td>0</td>\n",
       "      <td>140881.20</td>\n",
       "      <td>1</td>\n",
       "    </tr>\n",
       "    <tr>\n",
       "      <td>1817</td>\n",
       "      <td>1818</td>\n",
       "      <td>15804075</td>\n",
       "      <td>Chuang</td>\n",
       "      <td>628</td>\n",
       "      <td>Germany</td>\n",
       "      <td>Female</td>\n",
       "      <td>36</td>\n",
       "      <td>NaN</td>\n",
       "      <td>91286.51</td>\n",
       "      <td>1</td>\n",
       "      <td>1</td>\n",
       "      <td>0</td>\n",
       "      <td>63085.94</td>\n",
       "      <td>0</td>\n",
       "    </tr>\n",
       "    <tr>\n",
       "      <td>4878</td>\n",
       "      <td>4879</td>\n",
       "      <td>15579433</td>\n",
       "      <td>Pugh</td>\n",
       "      <td>793</td>\n",
       "      <td>Spain</td>\n",
       "      <td>Male</td>\n",
       "      <td>29</td>\n",
       "      <td>NaN</td>\n",
       "      <td>96674.55</td>\n",
       "      <td>2</td>\n",
       "      <td>0</td>\n",
       "      <td>0</td>\n",
       "      <td>192120.66</td>\n",
       "      <td>0</td>\n",
       "    </tr>\n",
       "  </tbody>\n",
       "</table>\n",
       "</div>"
      ],
      "text/plain": [
       "      rownumber  customerid       surname  creditscore geography  gender  age  \\\n",
       "7678       7679    15690169          Meng          645    France    Male   31   \n",
       "7667       7668    15606554       Douglas          797    France    Male   29   \n",
       "7458       7459    15800049    Grigoryeva          728     Spain  Female   43   \n",
       "3784       3785    15723169      Williams          640    France  Female   31   \n",
       "1771       1772    15633260  Dumetochukwu          600    France    Male   37   \n",
       "4980       4981    15740406      Padovesi          628   Germany    Male   38   \n",
       "6039       6040    15768887         Hsing          597     Spain    Male   26   \n",
       "1042       1043    15593969    Abramovich          630     Spain  Female   39   \n",
       "1817       1818    15804075        Chuang          628   Germany  Female   36   \n",
       "4878       4879    15579433          Pugh          793     Spain    Male   29   \n",
       "\n",
       "      tenure    balance  numofproducts  hascrcard  isactivemember  \\\n",
       "7678     NaN  161171.70              2          1               0   \n",
       "7667     NaN       0.00              1          0               1   \n",
       "7458     NaN       0.00              1          1               1   \n",
       "3784     NaN  138857.59              1          1               0   \n",
       "1771     NaN  142663.46              1          0               1   \n",
       "4980     NaN  113525.84              1          1               0   \n",
       "6039     NaN       0.00              2          0               1   \n",
       "1042     NaN  135483.17              1          1               0   \n",
       "1817     NaN   91286.51              1          1               0   \n",
       "4878     NaN   96674.55              2          0               0   \n",
       "\n",
       "      estimatedsalary  exited  \n",
       "7678         12599.94       1  \n",
       "7667        149991.32       0  \n",
       "7458        120088.17       0  \n",
       "3784         48640.77       0  \n",
       "1771         88669.89       0  \n",
       "4980         46044.48       1  \n",
       "6039         95159.13       0  \n",
       "1042        140881.20       1  \n",
       "1817         63085.94       0  \n",
       "4878        192120.66       0  "
      ]
     },
     "execution_count": 200,
     "metadata": {},
     "output_type": "execute_result"
    }
   ],
   "source": [
    "data[data['tenure'].isnull()].sample(10)"
   ]
  },
  {
   "cell_type": "markdown",
   "metadata": {},
   "source": [
    "### Попробуем заполнить пропуски по возможным дубликатам с разным ID"
   ]
  },
  {
   "cell_type": "code",
   "execution_count": 201,
   "metadata": {
    "scrolled": false
   },
   "outputs": [
    {
     "name": "stdout",
     "output_type": "stream",
     "text": [
      "                         customerid_x  customerid_y\n",
      "surname   geography age                            \n",
      "Shih      France    40            2.0           2.0\n",
      "Genovesi  France    33            3.0           2.0\n",
      "Greco     France    34            2.0           2.0\n",
      "T'ien     France    40            3.0           2.0\n",
      "Calabresi France    35            2.0           2.0\n",
      "...                               ...           ...\n",
      "Yen       France    40            2.0           NaN\n",
      "Yin       Spain     40            2.0           NaN\n",
      "Yobanna   France    29            2.0           NaN\n",
      "Young     France    36            3.0           NaN\n",
      "Yu        France    41            2.0           NaN\n",
      "\n",
      "[1244 rows x 2 columns]\n"
     ]
    }
   ],
   "source": [
    "pivot_nan = data.pivot_table(index=['surname', 'geography', 'age'],\n",
    "                             values=['customerid'],\n",
    "                             aggfunc='count').sort_values(by='surname')\n",
    "\n",
    "print(pivot_nan[pivot_nan['customerid'] > 1].merge(\n",
    "    data[data['tenure'].isnull()].pivot_table(\n",
    "        index=['surname', 'geography', 'age'],\n",
    "        values=['customerid'], aggfunc='count'),\n",
    "    how='outer',\n",
    "    right_index=True,\n",
    "    left_index=True).sort_values(by='customerid_y', ascending=False))"
   ]
  },
  {
   "cell_type": "markdown",
   "metadata": {},
   "source": [
    "Заполнить пропуски по возможным дублирующимся пользователям с разными ID не получится. Схожие группы либо все заполненны, либо все с пропусками."
   ]
  },
  {
   "cell_type": "markdown",
   "metadata": {},
   "source": [
    "### Рассмотрим корреляцию численных параметров"
   ]
  },
  {
   "cell_type": "code",
   "execution_count": 202,
   "metadata": {
    "scrolled": false
   },
   "outputs": [
    {
     "data": {
      "image/png": "[encoded data removed]",
      "text/plain": [
       "<Figure size 480x400 with 2 Axes>"
      ]
     },
     "metadata": {
      "needs_background": "light"
     },
     "output_type": "display_data"
    }
   ],
   "source": [
    "data_col = data[['creditscore', 'age', 'estimatedsalary', 'tenure']]\n",
    "plt.figure(figsize=(6,5), dpi= 80);\n",
    "sns.heatmap(\n",
    "    data_col.corr(),\n",
    "    xticklabels=data_col.corr().columns,\n",
    "    yticklabels=data_col.corr().columns,\n",
    "    cmap='RdYlGn', center=0, annot=True);\n",
    "plt.title('Тепловая диаграмма корреляции численных значений таблицы');"
   ]
  },
  {
   "cell_type": "markdown",
   "metadata": {},
   "source": [
    "Корреляции между показателями нет, природа пропусков неизвестна.\n",
    "\n",
    "Попробуем заполнить пропуски относительно соседей."
   ]
  },
  {
   "cell_type": "markdown",
   "metadata": {},
   "source": [
    "### Вариант восполнить пропуски через KNN"
   ]
  },
  {
   "cell_type": "markdown",
   "metadata": {},
   "source": [
    "Воспользуемся прямым кодированием OHE для преобразования категориальных признаков"
   ]
  },
  {
   "cell_type": "code",
   "execution_count": 203,
   "metadata": {},
   "outputs": [],
   "source": [
    "data_notna = data[~data['tenure'].isnull()]"
   ]
  },
  {
   "cell_type": "code",
   "execution_count": 204,
   "metadata": {},
   "outputs": [],
   "source": [
    "data_ohe = pd.get_dummies(data_notna.drop(['rownumber', 'customerid', 'surname'], axis=1), drop_first=True)\n",
    "target = data_ohe['tenure']\n",
    "features = data_ohe.drop('tenure', axis=1)\n",
    "\n",
    "features_train, features_valid_test, target_train, target_valid_test = \\\n",
    "train_test_split(features, target, test_size=0.4, random_state=12345)\n",
    "\n",
    "features_valid, features_test, target_valid, target_test = \\\n",
    "train_test_split(features_valid_test, target_valid_test, test_size=0.5, random_state=12345)\n"
   ]
  },
  {
   "cell_type": "code",
   "execution_count": 205,
   "metadata": {},
   "outputs": [
    {
     "data": {
      "text/html": [
       "<div>\n",
       "<style scoped>\n",
       "    .dataframe tbody tr th:only-of-type {\n",
       "        vertical-align: middle;\n",
       "    }\n",
       "\n",
       "    .dataframe tbody tr th {\n",
       "        vertical-align: top;\n",
       "    }\n",
       "\n",
       "    .dataframe thead th {\n",
       "        text-align: right;\n",
       "    }\n",
       "</style>\n",
       "<table border=\"1\" class=\"dataframe\">\n",
       "  <thead>\n",
       "    <tr style=\"text-align: right;\">\n",
       "      <th></th>\n",
       "      <th>creditscore</th>\n",
       "      <th>age</th>\n",
       "      <th>tenure</th>\n",
       "      <th>balance</th>\n",
       "      <th>numofproducts</th>\n",
       "      <th>hascrcard</th>\n",
       "      <th>isactivemember</th>\n",
       "      <th>estimatedsalary</th>\n",
       "      <th>exited</th>\n",
       "      <th>geography_Germany</th>\n",
       "      <th>geography_Spain</th>\n",
       "      <th>gender_Male</th>\n",
       "    </tr>\n",
       "  </thead>\n",
       "  <tbody>\n",
       "    <tr>\n",
       "      <td>3045</td>\n",
       "      <td>621</td>\n",
       "      <td>27</td>\n",
       "      <td>1.0</td>\n",
       "      <td>74298.43</td>\n",
       "      <td>1</td>\n",
       "      <td>1</td>\n",
       "      <td>1</td>\n",
       "      <td>52581.96</td>\n",
       "      <td>0</td>\n",
       "      <td>1</td>\n",
       "      <td>0</td>\n",
       "      <td>1</td>\n",
       "    </tr>\n",
       "    <tr>\n",
       "      <td>1224</td>\n",
       "      <td>500</td>\n",
       "      <td>47</td>\n",
       "      <td>8.0</td>\n",
       "      <td>128486.11</td>\n",
       "      <td>1</td>\n",
       "      <td>1</td>\n",
       "      <td>0</td>\n",
       "      <td>179227.12</td>\n",
       "      <td>0</td>\n",
       "      <td>0</td>\n",
       "      <td>1</td>\n",
       "      <td>0</td>\n",
       "    </tr>\n",
       "    <tr>\n",
       "      <td>9153</td>\n",
       "      <td>507</td>\n",
       "      <td>36</td>\n",
       "      <td>9.0</td>\n",
       "      <td>118214.32</td>\n",
       "      <td>3</td>\n",
       "      <td>1</td>\n",
       "      <td>0</td>\n",
       "      <td>119110.03</td>\n",
       "      <td>1</td>\n",
       "      <td>1</td>\n",
       "      <td>0</td>\n",
       "      <td>1</td>\n",
       "    </tr>\n",
       "    <tr>\n",
       "      <td>2125</td>\n",
       "      <td>544</td>\n",
       "      <td>45</td>\n",
       "      <td>6.0</td>\n",
       "      <td>0.00</td>\n",
       "      <td>2</td>\n",
       "      <td>0</td>\n",
       "      <td>1</td>\n",
       "      <td>151401.33</td>\n",
       "      <td>0</td>\n",
       "      <td>0</td>\n",
       "      <td>0</td>\n",
       "      <td>0</td>\n",
       "    </tr>\n",
       "    <tr>\n",
       "      <td>5657</td>\n",
       "      <td>496</td>\n",
       "      <td>30</td>\n",
       "      <td>0.0</td>\n",
       "      <td>90963.49</td>\n",
       "      <td>1</td>\n",
       "      <td>0</td>\n",
       "      <td>1</td>\n",
       "      <td>27802.00</td>\n",
       "      <td>0</td>\n",
       "      <td>0</td>\n",
       "      <td>0</td>\n",
       "      <td>1</td>\n",
       "    </tr>\n",
       "    <tr>\n",
       "      <td>149</td>\n",
       "      <td>416</td>\n",
       "      <td>32</td>\n",
       "      <td>0.0</td>\n",
       "      <td>0.00</td>\n",
       "      <td>2</td>\n",
       "      <td>0</td>\n",
       "      <td>1</td>\n",
       "      <td>878.87</td>\n",
       "      <td>0</td>\n",
       "      <td>0</td>\n",
       "      <td>0</td>\n",
       "      <td>1</td>\n",
       "    </tr>\n",
       "    <tr>\n",
       "      <td>8050</td>\n",
       "      <td>707</td>\n",
       "      <td>33</td>\n",
       "      <td>2.0</td>\n",
       "      <td>0.00</td>\n",
       "      <td>2</td>\n",
       "      <td>0</td>\n",
       "      <td>0</td>\n",
       "      <td>130866.95</td>\n",
       "      <td>0</td>\n",
       "      <td>0</td>\n",
       "      <td>0</td>\n",
       "      <td>1</td>\n",
       "    </tr>\n",
       "    <tr>\n",
       "      <td>7189</td>\n",
       "      <td>647</td>\n",
       "      <td>40</td>\n",
       "      <td>9.0</td>\n",
       "      <td>0.00</td>\n",
       "      <td>2</td>\n",
       "      <td>0</td>\n",
       "      <td>1</td>\n",
       "      <td>92357.21</td>\n",
       "      <td>0</td>\n",
       "      <td>0</td>\n",
       "      <td>0</td>\n",
       "      <td>0</td>\n",
       "    </tr>\n",
       "    <tr>\n",
       "      <td>4366</td>\n",
       "      <td>662</td>\n",
       "      <td>74</td>\n",
       "      <td>6.0</td>\n",
       "      <td>0.00</td>\n",
       "      <td>2</td>\n",
       "      <td>1</td>\n",
       "      <td>0</td>\n",
       "      <td>123583.85</td>\n",
       "      <td>0</td>\n",
       "      <td>0</td>\n",
       "      <td>0</td>\n",
       "      <td>1</td>\n",
       "    </tr>\n",
       "    <tr>\n",
       "      <td>551</td>\n",
       "      <td>674</td>\n",
       "      <td>47</td>\n",
       "      <td>6.0</td>\n",
       "      <td>106901.94</td>\n",
       "      <td>1</td>\n",
       "      <td>1</td>\n",
       "      <td>1</td>\n",
       "      <td>2079.20</td>\n",
       "      <td>1</td>\n",
       "      <td>1</td>\n",
       "      <td>0</td>\n",
       "      <td>1</td>\n",
       "    </tr>\n",
       "  </tbody>\n",
       "</table>\n",
       "</div>"
      ],
      "text/plain": [
       "      creditscore  age  tenure    balance  numofproducts  hascrcard  \\\n",
       "3045          621   27     1.0   74298.43              1          1   \n",
       "1224          500   47     8.0  128486.11              1          1   \n",
       "9153          507   36     9.0  118214.32              3          1   \n",
       "2125          544   45     6.0       0.00              2          0   \n",
       "5657          496   30     0.0   90963.49              1          0   \n",
       "149           416   32     0.0       0.00              2          0   \n",
       "8050          707   33     2.0       0.00              2          0   \n",
       "7189          647   40     9.0       0.00              2          0   \n",
       "4366          662   74     6.0       0.00              2          1   \n",
       "551           674   47     6.0  106901.94              1          1   \n",
       "\n",
       "      isactivemember  estimatedsalary  exited  geography_Germany  \\\n",
       "3045               1         52581.96       0                  1   \n",
       "1224               0        179227.12       0                  0   \n",
       "9153               0        119110.03       1                  1   \n",
       "2125               1        151401.33       0                  0   \n",
       "5657               1         27802.00       0                  0   \n",
       "149                1           878.87       0                  0   \n",
       "8050               0        130866.95       0                  0   \n",
       "7189               1         92357.21       0                  0   \n",
       "4366               0        123583.85       0                  0   \n",
       "551                1          2079.20       1                  1   \n",
       "\n",
       "      geography_Spain  gender_Male  \n",
       "3045                0            1  \n",
       "1224                1            0  \n",
       "9153                0            1  \n",
       "2125                0            0  \n",
       "5657                0            1  \n",
       "149                 0            1  \n",
       "8050                0            1  \n",
       "7189                0            0  \n",
       "4366                0            1  \n",
       "551                 0            1  "
      ]
     },
     "execution_count": 205,
     "metadata": {},
     "output_type": "execute_result"
    }
   ],
   "source": [
    "data_ohe.sample(10)"
   ]
  },
  {
   "cell_type": "markdown",
   "metadata": {},
   "source": [
    "Масштабирование"
   ]
  },
  {
   "cell_type": "code",
   "execution_count": 206,
   "metadata": {},
   "outputs": [],
   "source": [
    "numeric = ['creditscore', 'age', 'balance', 'estimatedsalary']\n",
    "\n",
    "scaler = StandardScaler()\n",
    "scaler.fit(features_train[numeric])\n",
    "\n",
    "features_train[numeric] = scaler.transform(features_train[numeric])\n",
    "features_valid[numeric] = scaler.transform(features_valid[numeric])"
   ]
  },
  {
   "cell_type": "code",
   "execution_count": 207,
   "metadata": {
    "scrolled": false
   },
   "outputs": [
    {
     "data": {
      "text/plain": [
       "-0.22385473321748717"
      ]
     },
     "execution_count": 207,
     "metadata": {},
     "output_type": "execute_result"
    }
   ],
   "source": [
    "neigh = KNeighborsRegressor(n_neighbors=5, weights='distance')\n",
    "neigh.fit(features_train, target_train)\n",
    "neigh.score(features_valid, target_valid)"
   ]
  },
  {
   "cell_type": "markdown",
   "metadata": {},
   "source": [
    "Качество модели оставляет желать лучшего. Попробуем заполнить рандомно и посмотреть насколько сильно изменилось распределение."
   ]
  },
  {
   "cell_type": "markdown",
   "metadata": {},
   "source": [
    "### Заполнение пропущенных значений Random"
   ]
  },
  {
   "cell_type": "code",
   "execution_count": 208,
   "metadata": {
    "scrolled": true
   },
   "outputs": [
    {
     "data": {
      "text/plain": [
       "count    9091.000000\n",
       "mean        4.997690\n",
       "std         2.894723\n",
       "min         0.000000\n",
       "25%         2.000000\n",
       "50%         5.000000\n",
       "75%         7.000000\n",
       "max        10.000000\n",
       "Name: tenure, dtype: float64"
      ]
     },
     "execution_count": 208,
     "metadata": {},
     "output_type": "execute_result"
    }
   ],
   "source": [
    "data_notna['tenure'].describe()\n"
   ]
  },
  {
   "cell_type": "code",
   "execution_count": 209,
   "metadata": {
    "scrolled": true
   },
   "outputs": [],
   "source": [
    "data.loc[data['tenure'].isnull(), 'tenure'] = np.random.randint(11, size=len(data[data['tenure'].isnull()]))"
   ]
  },
  {
   "cell_type": "code",
   "execution_count": 210,
   "metadata": {},
   "outputs": [
    {
     "data": {
      "text/plain": [
       "0"
      ]
     },
     "execution_count": 210,
     "metadata": {},
     "output_type": "execute_result"
    }
   ],
   "source": [
    "len(data[data['tenure'].isnull()])"
   ]
  },
  {
   "cell_type": "code",
   "execution_count": 211,
   "metadata": {
    "scrolled": true
   },
   "outputs": [
    {
     "data": {
      "text/plain": [
       "1.0     952\n",
       "2.0     950\n",
       "8.0     933\n",
       "3.0     928\n",
       "5.0     927\n",
       "7.0     925\n",
       "4.0     885\n",
       "9.0     882\n",
       "6.0     881\n",
       "10.0    446\n",
       "0.0     382\n",
       "Name: tenure, dtype: int64"
      ]
     },
     "execution_count": 211,
     "metadata": {},
     "output_type": "execute_result"
    }
   ],
   "source": [
    "data_notna['tenure'].value_counts()"
   ]
  },
  {
   "cell_type": "markdown",
   "metadata": {},
   "source": [
    "Количество клиентов с разным периодом жизни (без пропущенных значений)."
   ]
  },
  {
   "cell_type": "code",
   "execution_count": 212,
   "metadata": {
    "scrolled": true
   },
   "outputs": [
    {
     "data": {
      "text/plain": [
       "2.0     1045\n",
       "1.0     1028\n",
       "3.0     1015\n",
       "7.0     1013\n",
       "5.0     1010\n",
       "8.0     1009\n",
       "4.0      972\n",
       "6.0      971\n",
       "9.0      940\n",
       "10.0     541\n",
       "0.0      456\n",
       "Name: tenure, dtype: int64"
      ]
     },
     "execution_count": 212,
     "metadata": {},
     "output_type": "execute_result"
    }
   ],
   "source": [
    "data['tenure'].value_counts()"
   ]
  },
  {
   "cell_type": "markdown",
   "metadata": {},
   "source": [
    "Количество клиентов с разным периодом жизни (пропущенные значения заполнены рандомно)."
   ]
  },
  {
   "cell_type": "code",
   "execution_count": 213,
   "metadata": {
    "scrolled": false
   },
   "outputs": [
    {
     "data": {
      "image/png": "[encoded data removed]",
      "text/plain": [
       "<Figure size 432x288 with 1 Axes>"
      ]
     },
     "metadata": {
      "needs_background": "light"
     },
     "output_type": "display_data"
    },
    {
     "data": {
      "image/png": "[encoded data removed]",
      "text/plain": [
       "<Figure size 432x288 with 1 Axes>"
      ]
     },
     "metadata": {
      "needs_background": "light"
     },
     "output_type": "display_data"
    }
   ],
   "source": [
    "sns.histplot(data_notna['tenure'], kde=True)\n",
    "plt.title('Распределение периода жизни клиента без пропущенных значений')\n",
    "plt.show()\n",
    "\n",
    "sns.histplot(data['tenure'], kde=True)\n",
    "plt.title('Распределение периода жизни клиента с заполнением пропусков')\n",
    "plt.show()"
   ]
  },
  {
   "cell_type": "markdown",
   "metadata": {},
   "source": [
    "Рандомное заполнение данных не внесло изменений в распределение жизни клиента. \n",
    "Оставим 2 дата сета: 1й - без пропущенных значений. 2й - с заполнением пропущенных значений."
   ]
  },
  {
   "cell_type": "markdown",
   "metadata": {},
   "source": [
    "Приведём данные в столбце tenure к целочисленному типу."
   ]
  },
  {
   "cell_type": "code",
   "execution_count": 214,
   "metadata": {
    "scrolled": false
   },
   "outputs": [
    {
     "data": {
      "text/html": [
       "<div>\n",
       "<style scoped>\n",
       "    .dataframe tbody tr th:only-of-type {\n",
       "        vertical-align: middle;\n",
       "    }\n",
       "\n",
       "    .dataframe tbody tr th {\n",
       "        vertical-align: top;\n",
       "    }\n",
       "\n",
       "    .dataframe thead th {\n",
       "        text-align: right;\n",
       "    }\n",
       "</style>\n",
       "<table border=\"1\" class=\"dataframe\">\n",
       "  <thead>\n",
       "    <tr style=\"text-align: right;\">\n",
       "      <th></th>\n",
       "      <th>rownumber</th>\n",
       "      <th>customerid</th>\n",
       "      <th>surname</th>\n",
       "      <th>creditscore</th>\n",
       "      <th>geography</th>\n",
       "      <th>gender</th>\n",
       "      <th>age</th>\n",
       "      <th>tenure</th>\n",
       "      <th>balance</th>\n",
       "      <th>numofproducts</th>\n",
       "      <th>hascrcard</th>\n",
       "      <th>isactivemember</th>\n",
       "      <th>estimatedsalary</th>\n",
       "      <th>exited</th>\n",
       "    </tr>\n",
       "  </thead>\n",
       "  <tbody>\n",
       "    <tr>\n",
       "      <td>0</td>\n",
       "      <td>1</td>\n",
       "      <td>15634602</td>\n",
       "      <td>Hargrave</td>\n",
       "      <td>619</td>\n",
       "      <td>France</td>\n",
       "      <td>Female</td>\n",
       "      <td>42</td>\n",
       "      <td>2</td>\n",
       "      <td>0.00</td>\n",
       "      <td>1</td>\n",
       "      <td>1</td>\n",
       "      <td>1</td>\n",
       "      <td>101348.88</td>\n",
       "      <td>1</td>\n",
       "    </tr>\n",
       "    <tr>\n",
       "      <td>1</td>\n",
       "      <td>2</td>\n",
       "      <td>15647311</td>\n",
       "      <td>Hill</td>\n",
       "      <td>608</td>\n",
       "      <td>Spain</td>\n",
       "      <td>Female</td>\n",
       "      <td>41</td>\n",
       "      <td>1</td>\n",
       "      <td>83807.86</td>\n",
       "      <td>1</td>\n",
       "      <td>0</td>\n",
       "      <td>1</td>\n",
       "      <td>112542.58</td>\n",
       "      <td>0</td>\n",
       "    </tr>\n",
       "    <tr>\n",
       "      <td>2</td>\n",
       "      <td>3</td>\n",
       "      <td>15619304</td>\n",
       "      <td>Onio</td>\n",
       "      <td>502</td>\n",
       "      <td>France</td>\n",
       "      <td>Female</td>\n",
       "      <td>42</td>\n",
       "      <td>8</td>\n",
       "      <td>159660.80</td>\n",
       "      <td>3</td>\n",
       "      <td>1</td>\n",
       "      <td>0</td>\n",
       "      <td>113931.57</td>\n",
       "      <td>1</td>\n",
       "    </tr>\n",
       "    <tr>\n",
       "      <td>3</td>\n",
       "      <td>4</td>\n",
       "      <td>15701354</td>\n",
       "      <td>Boni</td>\n",
       "      <td>699</td>\n",
       "      <td>France</td>\n",
       "      <td>Female</td>\n",
       "      <td>39</td>\n",
       "      <td>1</td>\n",
       "      <td>0.00</td>\n",
       "      <td>2</td>\n",
       "      <td>0</td>\n",
       "      <td>0</td>\n",
       "      <td>93826.63</td>\n",
       "      <td>0</td>\n",
       "    </tr>\n",
       "    <tr>\n",
       "      <td>4</td>\n",
       "      <td>5</td>\n",
       "      <td>15737888</td>\n",
       "      <td>Mitchell</td>\n",
       "      <td>850</td>\n",
       "      <td>Spain</td>\n",
       "      <td>Female</td>\n",
       "      <td>43</td>\n",
       "      <td>2</td>\n",
       "      <td>125510.82</td>\n",
       "      <td>1</td>\n",
       "      <td>1</td>\n",
       "      <td>1</td>\n",
       "      <td>79084.10</td>\n",
       "      <td>0</td>\n",
       "    </tr>\n",
       "    <tr>\n",
       "      <td>...</td>\n",
       "      <td>...</td>\n",
       "      <td>...</td>\n",
       "      <td>...</td>\n",
       "      <td>...</td>\n",
       "      <td>...</td>\n",
       "      <td>...</td>\n",
       "      <td>...</td>\n",
       "      <td>...</td>\n",
       "      <td>...</td>\n",
       "      <td>...</td>\n",
       "      <td>...</td>\n",
       "      <td>...</td>\n",
       "      <td>...</td>\n",
       "      <td>...</td>\n",
       "    </tr>\n",
       "    <tr>\n",
       "      <td>9994</td>\n",
       "      <td>9995</td>\n",
       "      <td>15719294</td>\n",
       "      <td>Wood</td>\n",
       "      <td>800</td>\n",
       "      <td>France</td>\n",
       "      <td>Female</td>\n",
       "      <td>29</td>\n",
       "      <td>2</td>\n",
       "      <td>0.00</td>\n",
       "      <td>2</td>\n",
       "      <td>0</td>\n",
       "      <td>0</td>\n",
       "      <td>167773.55</td>\n",
       "      <td>0</td>\n",
       "    </tr>\n",
       "    <tr>\n",
       "      <td>9995</td>\n",
       "      <td>9996</td>\n",
       "      <td>15606229</td>\n",
       "      <td>Obijiaku</td>\n",
       "      <td>771</td>\n",
       "      <td>France</td>\n",
       "      <td>Male</td>\n",
       "      <td>39</td>\n",
       "      <td>5</td>\n",
       "      <td>0.00</td>\n",
       "      <td>2</td>\n",
       "      <td>1</td>\n",
       "      <td>0</td>\n",
       "      <td>96270.64</td>\n",
       "      <td>0</td>\n",
       "    </tr>\n",
       "    <tr>\n",
       "      <td>9996</td>\n",
       "      <td>9997</td>\n",
       "      <td>15569892</td>\n",
       "      <td>Johnstone</td>\n",
       "      <td>516</td>\n",
       "      <td>France</td>\n",
       "      <td>Male</td>\n",
       "      <td>35</td>\n",
       "      <td>10</td>\n",
       "      <td>57369.61</td>\n",
       "      <td>1</td>\n",
       "      <td>1</td>\n",
       "      <td>1</td>\n",
       "      <td>101699.77</td>\n",
       "      <td>0</td>\n",
       "    </tr>\n",
       "    <tr>\n",
       "      <td>9997</td>\n",
       "      <td>9998</td>\n",
       "      <td>15584532</td>\n",
       "      <td>Liu</td>\n",
       "      <td>709</td>\n",
       "      <td>France</td>\n",
       "      <td>Female</td>\n",
       "      <td>36</td>\n",
       "      <td>7</td>\n",
       "      <td>0.00</td>\n",
       "      <td>1</td>\n",
       "      <td>0</td>\n",
       "      <td>1</td>\n",
       "      <td>42085.58</td>\n",
       "      <td>1</td>\n",
       "    </tr>\n",
       "    <tr>\n",
       "      <td>9998</td>\n",
       "      <td>9999</td>\n",
       "      <td>15682355</td>\n",
       "      <td>Sabbatini</td>\n",
       "      <td>772</td>\n",
       "      <td>Germany</td>\n",
       "      <td>Male</td>\n",
       "      <td>42</td>\n",
       "      <td>3</td>\n",
       "      <td>75075.31</td>\n",
       "      <td>2</td>\n",
       "      <td>1</td>\n",
       "      <td>0</td>\n",
       "      <td>92888.52</td>\n",
       "      <td>1</td>\n",
       "    </tr>\n",
       "  </tbody>\n",
       "</table>\n",
       "<p>9091 rows × 14 columns</p>\n",
       "</div>"
      ],
      "text/plain": [
       "      rownumber  customerid    surname  creditscore geography  gender  age  \\\n",
       "0             1    15634602   Hargrave          619    France  Female   42   \n",
       "1             2    15647311       Hill          608     Spain  Female   41   \n",
       "2             3    15619304       Onio          502    France  Female   42   \n",
       "3             4    15701354       Boni          699    France  Female   39   \n",
       "4             5    15737888   Mitchell          850     Spain  Female   43   \n",
       "...         ...         ...        ...          ...       ...     ...  ...   \n",
       "9994       9995    15719294       Wood          800    France  Female   29   \n",
       "9995       9996    15606229   Obijiaku          771    France    Male   39   \n",
       "9996       9997    15569892  Johnstone          516    France    Male   35   \n",
       "9997       9998    15584532        Liu          709    France  Female   36   \n",
       "9998       9999    15682355  Sabbatini          772   Germany    Male   42   \n",
       "\n",
       "      tenure    balance  numofproducts  hascrcard  isactivemember  \\\n",
       "0          2       0.00              1          1               1   \n",
       "1          1   83807.86              1          0               1   \n",
       "2          8  159660.80              3          1               0   \n",
       "3          1       0.00              2          0               0   \n",
       "4          2  125510.82              1          1               1   \n",
       "...      ...        ...            ...        ...             ...   \n",
       "9994       2       0.00              2          0               0   \n",
       "9995       5       0.00              2          1               0   \n",
       "9996      10   57369.61              1          1               1   \n",
       "9997       7       0.00              1          0               1   \n",
       "9998       3   75075.31              2          1               0   \n",
       "\n",
       "      estimatedsalary  exited  \n",
       "0           101348.88       1  \n",
       "1           112542.58       0  \n",
       "2           113931.57       1  \n",
       "3            93826.63       0  \n",
       "4            79084.10       0  \n",
       "...               ...     ...  \n",
       "9994        167773.55       0  \n",
       "9995         96270.64       0  \n",
       "9996        101699.77       0  \n",
       "9997         42085.58       1  \n",
       "9998         92888.52       1  \n",
       "\n",
       "[9091 rows x 14 columns]"
      ]
     },
     "execution_count": 214,
     "metadata": {},
     "output_type": "execute_result"
    }
   ],
   "source": [
    "data_notna['tenure'], data['tenure'] = data_notna['tenure'].astype('int'), data['tenure'].astype('int')\n",
    "data_notna"
   ]
  },
  {
   "cell_type": "markdown",
   "metadata": {},
   "source": [
    "В обучении модели нас будут интересовать все признаки кроме:\n",
    "Номер строки\n",
    "ID клиента\n",
    "Его фамилия\n",
    "\n",
    "Все остальные признаки могут влиять на результат целевого признака.\n",
    "\n",
    "Для обучения модели, будет достаточно только заполненных данных 9091."
   ]
  },
  {
   "cell_type": "markdown",
   "metadata": {},
   "source": [
    "### OHE"
   ]
  },
  {
   "cell_type": "markdown",
   "metadata": {},
   "source": [
    "Для обучения моделей преобразуем данные датасета.\n",
    "Воспользуемся прямым кодированием."
   ]
  },
  {
   "cell_type": "code",
   "execution_count": 215,
   "metadata": {},
   "outputs": [],
   "source": [
    "data_ohe = pd.get_dummies(data_notna.drop(['rownumber', 'customerid', 'surname'], axis=1), drop_first=True)\n",
    "target = data_ohe['exited']\n",
    "features = data_ohe.drop('exited', axis=1)\n",
    "\n",
    "features_train, features_valid_test, target_train, target_valid_test = \\\n",
    "train_test_split(features, target, test_size=0.4, random_state=12345, stratify=target)\n",
    "\n",
    "features_valid, features_test, target_valid, target_test = \\\n",
    "train_test_split(features_valid_test, target_valid_test, test_size=0.5, random_state=12345, stratify=target_valid_test)"
   ]
  },
  {
   "cell_type": "code",
   "execution_count": 216,
   "metadata": {},
   "outputs": [
    {
     "data": {
      "text/html": [
       "<div>\n",
       "<style scoped>\n",
       "    .dataframe tbody tr th:only-of-type {\n",
       "        vertical-align: middle;\n",
       "    }\n",
       "\n",
       "    .dataframe tbody tr th {\n",
       "        vertical-align: top;\n",
       "    }\n",
       "\n",
       "    .dataframe thead th {\n",
       "        text-align: right;\n",
       "    }\n",
       "</style>\n",
       "<table border=\"1\" class=\"dataframe\">\n",
       "  <thead>\n",
       "    <tr style=\"text-align: right;\">\n",
       "      <th></th>\n",
       "      <th>creditscore</th>\n",
       "      <th>age</th>\n",
       "      <th>tenure</th>\n",
       "      <th>balance</th>\n",
       "      <th>numofproducts</th>\n",
       "      <th>hascrcard</th>\n",
       "      <th>isactivemember</th>\n",
       "      <th>estimatedsalary</th>\n",
       "      <th>exited</th>\n",
       "      <th>geography_Germany</th>\n",
       "      <th>geography_Spain</th>\n",
       "      <th>gender_Male</th>\n",
       "    </tr>\n",
       "  </thead>\n",
       "  <tbody>\n",
       "    <tr>\n",
       "      <td>2212</td>\n",
       "      <td>741</td>\n",
       "      <td>37</td>\n",
       "      <td>8</td>\n",
       "      <td>170840.08</td>\n",
       "      <td>2</td>\n",
       "      <td>0</td>\n",
       "      <td>0</td>\n",
       "      <td>109843.16</td>\n",
       "      <td>0</td>\n",
       "      <td>1</td>\n",
       "      <td>0</td>\n",
       "      <td>0</td>\n",
       "    </tr>\n",
       "    <tr>\n",
       "      <td>8571</td>\n",
       "      <td>767</td>\n",
       "      <td>42</td>\n",
       "      <td>2</td>\n",
       "      <td>133616.39</td>\n",
       "      <td>1</td>\n",
       "      <td>1</td>\n",
       "      <td>0</td>\n",
       "      <td>28615.80</td>\n",
       "      <td>0</td>\n",
       "      <td>0</td>\n",
       "      <td>0</td>\n",
       "      <td>0</td>\n",
       "    </tr>\n",
       "    <tr>\n",
       "      <td>7819</td>\n",
       "      <td>613</td>\n",
       "      <td>29</td>\n",
       "      <td>0</td>\n",
       "      <td>0.00</td>\n",
       "      <td>2</td>\n",
       "      <td>0</td>\n",
       "      <td>1</td>\n",
       "      <td>133897.32</td>\n",
       "      <td>0</td>\n",
       "      <td>0</td>\n",
       "      <td>1</td>\n",
       "      <td>1</td>\n",
       "    </tr>\n",
       "    <tr>\n",
       "      <td>3478</td>\n",
       "      <td>537</td>\n",
       "      <td>28</td>\n",
       "      <td>3</td>\n",
       "      <td>157842.07</td>\n",
       "      <td>1</td>\n",
       "      <td>1</td>\n",
       "      <td>0</td>\n",
       "      <td>86911.49</td>\n",
       "      <td>0</td>\n",
       "      <td>0</td>\n",
       "      <td>0</td>\n",
       "      <td>1</td>\n",
       "    </tr>\n",
       "    <tr>\n",
       "      <td>8733</td>\n",
       "      <td>749</td>\n",
       "      <td>42</td>\n",
       "      <td>9</td>\n",
       "      <td>222267.63</td>\n",
       "      <td>1</td>\n",
       "      <td>0</td>\n",
       "      <td>0</td>\n",
       "      <td>101108.85</td>\n",
       "      <td>1</td>\n",
       "      <td>0</td>\n",
       "      <td>1</td>\n",
       "      <td>1</td>\n",
       "    </tr>\n",
       "    <tr>\n",
       "      <td>4534</td>\n",
       "      <td>656</td>\n",
       "      <td>41</td>\n",
       "      <td>2</td>\n",
       "      <td>0.00</td>\n",
       "      <td>2</td>\n",
       "      <td>1</td>\n",
       "      <td>0</td>\n",
       "      <td>158973.77</td>\n",
       "      <td>0</td>\n",
       "      <td>0</td>\n",
       "      <td>0</td>\n",
       "      <td>1</td>\n",
       "    </tr>\n",
       "    <tr>\n",
       "      <td>2303</td>\n",
       "      <td>714</td>\n",
       "      <td>45</td>\n",
       "      <td>0</td>\n",
       "      <td>124693.48</td>\n",
       "      <td>1</td>\n",
       "      <td>0</td>\n",
       "      <td>1</td>\n",
       "      <td>187194.15</td>\n",
       "      <td>0</td>\n",
       "      <td>0</td>\n",
       "      <td>1</td>\n",
       "      <td>1</td>\n",
       "    </tr>\n",
       "    <tr>\n",
       "      <td>2914</td>\n",
       "      <td>604</td>\n",
       "      <td>28</td>\n",
       "      <td>7</td>\n",
       "      <td>0.00</td>\n",
       "      <td>2</td>\n",
       "      <td>0</td>\n",
       "      <td>0</td>\n",
       "      <td>58595.64</td>\n",
       "      <td>0</td>\n",
       "      <td>0</td>\n",
       "      <td>0</td>\n",
       "      <td>1</td>\n",
       "    </tr>\n",
       "    <tr>\n",
       "      <td>3844</td>\n",
       "      <td>681</td>\n",
       "      <td>38</td>\n",
       "      <td>6</td>\n",
       "      <td>153722.47</td>\n",
       "      <td>1</td>\n",
       "      <td>1</td>\n",
       "      <td>0</td>\n",
       "      <td>101319.76</td>\n",
       "      <td>0</td>\n",
       "      <td>0</td>\n",
       "      <td>0</td>\n",
       "      <td>1</td>\n",
       "    </tr>\n",
       "    <tr>\n",
       "      <td>891</td>\n",
       "      <td>435</td>\n",
       "      <td>32</td>\n",
       "      <td>2</td>\n",
       "      <td>57017.06</td>\n",
       "      <td>2</td>\n",
       "      <td>1</td>\n",
       "      <td>1</td>\n",
       "      <td>5907.11</td>\n",
       "      <td>0</td>\n",
       "      <td>1</td>\n",
       "      <td>0</td>\n",
       "      <td>1</td>\n",
       "    </tr>\n",
       "  </tbody>\n",
       "</table>\n",
       "</div>"
      ],
      "text/plain": [
       "      creditscore  age  tenure    balance  numofproducts  hascrcard  \\\n",
       "2212          741   37       8  170840.08              2          0   \n",
       "8571          767   42       2  133616.39              1          1   \n",
       "7819          613   29       0       0.00              2          0   \n",
       "3478          537   28       3  157842.07              1          1   \n",
       "8733          749   42       9  222267.63              1          0   \n",
       "4534          656   41       2       0.00              2          1   \n",
       "2303          714   45       0  124693.48              1          0   \n",
       "2914          604   28       7       0.00              2          0   \n",
       "3844          681   38       6  153722.47              1          1   \n",
       "891           435   32       2   57017.06              2          1   \n",
       "\n",
       "      isactivemember  estimatedsalary  exited  geography_Germany  \\\n",
       "2212               0        109843.16       0                  1   \n",
       "8571               0         28615.80       0                  0   \n",
       "7819               1        133897.32       0                  0   \n",
       "3478               0         86911.49       0                  0   \n",
       "8733               0        101108.85       1                  0   \n",
       "4534               0        158973.77       0                  0   \n",
       "2303               1        187194.15       0                  0   \n",
       "2914               0         58595.64       0                  0   \n",
       "3844               0        101319.76       0                  0   \n",
       "891                1          5907.11       0                  1   \n",
       "\n",
       "      geography_Spain  gender_Male  \n",
       "2212                0            0  \n",
       "8571                0            0  \n",
       "7819                1            1  \n",
       "3478                0            1  \n",
       "8733                1            1  \n",
       "4534                0            1  \n",
       "2303                1            1  \n",
       "2914                0            1  \n",
       "3844                0            1  \n",
       "891                 0            1  "
      ]
     },
     "execution_count": 216,
     "metadata": {},
     "output_type": "execute_result"
    }
   ],
   "source": [
    "data_ohe.sample(10)"
   ]
  },
  {
   "cell_type": "markdown",
   "metadata": {},
   "source": [
    "Проведём масштабирование целочисленных признаков"
   ]
  },
  {
   "cell_type": "code",
   "execution_count": 217,
   "metadata": {},
   "outputs": [],
   "source": [
    "numeric = ['creditscore', 'age', 'balance', 'estimatedsalary']\n",
    "\n",
    "scaler = StandardScaler()\n",
    "scaler.fit(features_train[numeric])\n",
    "\n",
    "features_train[numeric] = scaler.transform(features_train[numeric])\n",
    "features_valid[numeric] = scaler.transform(features_valid[numeric])\n",
    "features_test[numeric] = scaler.transform(features_test[numeric])"
   ]
  },
  {
   "cell_type": "markdown",
   "metadata": {},
   "source": [
    "В данной части проекта, мы ознакомились с датасетом. Выявлены пропущенные значения в одном столбце (срок жизни клиента). Их около 9% значений. Попробовали восполнить пропущенные данные через KNN, модель показала отрицательную точность, что хуже чем случайные значения. Заполнили пропущенные значения рандомно, на распределениии показателя (срок жизни клиента), это никак не отразилось. НО. На мой субъективный взгляд, лучше работать с нетронутыми данными, т.е только с полностью заполненной частью и отбросить пропуски. Этих данных хватит для обучения модели."
   ]
  },
  {
   "cell_type": "markdown",
   "metadata": {},
   "source": [
    "## Исследование задачи"
   ]
  },
  {
   "cell_type": "markdown",
   "metadata": {},
   "source": [
    "### Исследование балансов классов"
   ]
  },
  {
   "cell_type": "code",
   "execution_count": 218,
   "metadata": {},
   "outputs": [
    {
     "name": "stdout",
     "output_type": "stream",
     "text": [
      "0.7915291529152916\n"
     ]
    }
   ],
   "source": [
    "model = DecisionTreeClassifier(random_state=12345)\n",
    "model.fit(features_train, target_train)\n",
    "predicted_valid = model.predict(features_valid)\n",
    "accuracy_valid = accuracy_score(target_valid, predicted_valid)\n",
    "print(accuracy_valid)"
   ]
  },
  {
   "cell_type": "markdown",
   "metadata": {},
   "source": [
    "Проверка модели на адекватность"
   ]
  },
  {
   "cell_type": "code",
   "execution_count": 219,
   "metadata": {},
   "outputs": [
    {
     "name": "stdout",
     "output_type": "stream",
     "text": [
      "0.7960620393796062\n"
     ]
    }
   ],
   "source": [
    "target_pred_constant = pd.Series(0 for x in range(0, len(target)))\n",
    "\n",
    "print(accuracy_score(target, target_pred_constant))"
   ]
  },
  {
   "cell_type": "markdown",
   "metadata": {},
   "source": [
    "Точность модели решающего дерева и константной модели практически одинаковы.\n",
    "Без баланса классов все не так уж и плохо, с вероятность 80% банк сохранит клиентов.\n",
    "Будем вести борьбу с дисбалансом."
   ]
  },
  {
   "cell_type": "markdown",
   "metadata": {},
   "source": [
    "Рассмотрим среднее гармоническое точности и полноты. На разных моделях."
   ]
  },
  {
   "cell_type": "code",
   "execution_count": 220,
   "metadata": {},
   "outputs": [
    {
     "name": "stdout",
     "output_type": "stream",
     "text": [
      "F1: 0.3306772908366534\n"
     ]
    }
   ],
   "source": [
    "model = LogisticRegression(random_state=12345)\n",
    "model.fit(features_train, target_train)\n",
    "predicted_valid = model.predict(features_valid)\n",
    "print(\"F1:\", f1_score(target_valid, predicted_valid))"
   ]
  },
  {
   "cell_type": "code",
   "execution_count": 221,
   "metadata": {},
   "outputs": [
    {
     "name": "stdout",
     "output_type": "stream",
     "text": [
      "0    0.927943\n",
      "1    0.072057\n",
      "dtype: float64\n"
     ]
    },
    {
     "data": {
      "image/png": "[encoded data removed]",
      "text/plain": [
       "<Figure size 432x288 with 1 Axes>"
      ]
     },
     "metadata": {
      "needs_background": "light"
     },
     "output_type": "display_data"
    }
   ],
   "source": [
    "predicted_valid = pd.Series(model.predict(features_valid))\n",
    "class_frequency = predicted_valid.value_counts(normalize=True)\n",
    "print(class_frequency)\n",
    "class_frequency.plot(kind='bar')\n",
    "plt.title('Предсказывание классов');"
   ]
  },
  {
   "cell_type": "code",
   "execution_count": 222,
   "metadata": {},
   "outputs": [
    {
     "name": "stdout",
     "output_type": "stream",
     "text": [
      "F1: 0.4939919893190921\n"
     ]
    }
   ],
   "source": [
    "model = DecisionTreeClassifier(random_state=12345)\n",
    "model.fit(features_train, target_train)\n",
    "predicted_valid = model.predict(features_valid)\n",
    "print(\"F1:\", f1_score(target_valid, predicted_valid))"
   ]
  },
  {
   "cell_type": "code",
   "execution_count": 223,
   "metadata": {},
   "outputs": [
    {
     "name": "stdout",
     "output_type": "stream",
     "text": [
      "0    0.792079\n",
      "1    0.207921\n",
      "dtype: float64\n"
     ]
    },
    {
     "data": {
      "image/png": "[encoded data removed]",
      "text/plain": [
       "<Figure size 432x288 with 1 Axes>"
      ]
     },
     "metadata": {
      "needs_background": "light"
     },
     "output_type": "display_data"
    }
   ],
   "source": [
    "predicted_valid = pd.Series(model.predict(features_valid))\n",
    "class_frequency = predicted_valid.value_counts(normalize=True)\n",
    "print(class_frequency)\n",
    "class_frequency.plot(kind='bar')\n",
    "plt.title('Предсказывание классов');"
   ]
  },
  {
   "cell_type": "code",
   "execution_count": 224,
   "metadata": {},
   "outputs": [
    {
     "name": "stdout",
     "output_type": "stream",
     "text": [
      "F1: 0.5827814569536424\n"
     ]
    }
   ],
   "source": [
    "model = RandomForestClassifier(random_state=12345)\n",
    "model.fit(features_train, target_train)\n",
    "predicted_valid = model.predict(features_valid)\n",
    "print(\"F1:\", f1_score(target_valid, predicted_valid))"
   ]
  },
  {
   "cell_type": "code",
   "execution_count": 225,
   "metadata": {},
   "outputs": [
    {
     "name": "stdout",
     "output_type": "stream",
     "text": [
      "0    0.871837\n",
      "1    0.128163\n",
      "dtype: float64\n"
     ]
    },
    {
     "data": {
      "image/png": "[encoded data removed]",
      "text/plain": [
       "<Figure size 432x288 with 1 Axes>"
      ]
     },
     "metadata": {
      "needs_background": "light"
     },
     "output_type": "display_data"
    }
   ],
   "source": [
    "predicted_valid = pd.Series(model.predict(features_valid))\n",
    "class_frequency = predicted_valid.value_counts(normalize=True)\n",
    "print(class_frequency)\n",
    "class_frequency.plot(kind='bar')\n",
    "plt.title('Предсказывание классов');"
   ]
  },
  {
   "cell_type": "markdown",
   "metadata": {},
   "source": [
    "Рассмотрим как балансировка веса классов (параметр class_weight='balanced') повлияет на значение F1-меры"
   ]
  },
  {
   "cell_type": "code",
   "execution_count": 226,
   "metadata": {
    "scrolled": false
   },
   "outputs": [
    {
     "name": "stdout",
     "output_type": "stream",
     "text": [
      "F1: 0.5065420560747663\n"
     ]
    }
   ],
   "source": [
    "model = LogisticRegression(random_state=12345, \n",
    "                           solver='liblinear',\n",
    "                           class_weight='balanced'\n",
    "                          )\n",
    "model.fit(features_train, target_train)\n",
    "predicted_valid = model.predict(features_valid)\n",
    "print(\"F1:\", f1_score(target_valid, predicted_valid))"
   ]
  },
  {
   "cell_type": "code",
   "execution_count": 227,
   "metadata": {},
   "outputs": [
    {
     "name": "stdout",
     "output_type": "stream",
     "text": [
      "F1: 0.5208053691275167\n"
     ]
    }
   ],
   "source": [
    "model = DecisionTreeClassifier(random_state=12345, class_weight='balanced')\n",
    "model.fit(features_train, target_train)\n",
    "predicted_valid = model.predict(features_valid)\n",
    "print(\"F1:\", f1_score(target_valid, predicted_valid))"
   ]
  },
  {
   "cell_type": "code",
   "execution_count": 228,
   "metadata": {},
   "outputs": [
    {
     "name": "stdout",
     "output_type": "stream",
     "text": [
      "F1: 0.5454545454545454\n"
     ]
    }
   ],
   "source": [
    "model = RandomForestClassifier(random_state=12345, class_weight='balanced')\n",
    "model.fit(features_train, target_train)\n",
    "predicted_valid = model.predict(features_valid)\n",
    "print(\"F1:\", f1_score(target_valid, predicted_valid))"
   ]
  },
  {
   "cell_type": "markdown",
   "metadata": {},
   "source": [
    "### Подбор гиперпараметров на несбалансированных данных"
   ]
  },
  {
   "cell_type": "markdown",
   "metadata": {},
   "source": [
    "#### Решающее дерево"
   ]
  },
  {
   "cell_type": "markdown",
   "metadata": {},
   "source": [
    "Так как лучшие показатели F1, были у моделей решающего дерева и случайного леса, проведём подбор гиперпараметров."
   ]
  },
  {
   "cell_type": "code",
   "execution_count": 229,
   "metadata": {},
   "outputs": [
    {
     "name": "stdout",
     "output_type": "stream",
     "text": [
      "Количество ветвей = 7, Значение F1 меры = 0.5815126050420169\n"
     ]
    }
   ],
   "source": [
    "parametrs = {'max_depth': range(1, 16, 1)}\n",
    "\n",
    "grid_unbal_DTC = GridSearchCV(DecisionTreeClassifier(random_state=12345),\n",
    "                              parametrs, cv=5, scoring='f1')\n",
    "grid_unbal_DTC.fit(features_train, target_train)\n",
    "\n",
    "depth = grid_unbal_DTC.best_params_['max_depth']\n",
    "\n",
    "predicted_valid = grid_unbal_DTC.predict(features_valid)\n",
    "print(f'Количество ветвей = {depth}, Значение F1 меры = {f1_score(target_valid, predicted_valid)}')"
   ]
  },
  {
   "cell_type": "markdown",
   "metadata": {},
   "source": [
    "Лучший результат у данной модели с количеством ветвей = 7, F1 = 0.5815126050420169"
   ]
  },
  {
   "cell_type": "markdown",
   "metadata": {},
   "source": [
    "#### Случайный лес"
   ]
  },
  {
   "cell_type": "code",
   "execution_count": 230,
   "metadata": {},
   "outputs": [
    {
     "name": "stdout",
     "output_type": "stream",
     "text": [
      "Гиперпараметры для лучшей модели: Количество деревьев = 200, Глубина леса = 13, Значение F1 меры = 0.6102819237147595\n",
      "auc_roc = 0.8763628438427307\n"
     ]
    }
   ],
   "source": [
    "parametrs = {'max_depth': range(1, 16, 1),\n",
    "             'n_estimators': range(100, 300, 50)}\n",
    "\n",
    "grid_unbal_RFC = GridSearchCV(RandomForestClassifier(random_state=12345),\n",
    "                              parametrs, cv=5, scoring='f1')\n",
    "grid_unbal_RFC.fit(features_train, target_train)\n",
    "\n",
    "depth = grid_unbal_RFC.best_params_['max_depth']\n",
    "esti = grid_unbal_RFC.best_params_['n_estimators']\n",
    "\n",
    "predicted_valid = grid_unbal_RFC.predict(features_valid)\n",
    "print(f'Гиперпараметры для лучшей модели: Количество деревьев = {esti}, Глубина леса = {depth}, Значение F1 меры = {f1_score(target_valid, predicted_valid)}')\n",
    "\n",
    "probabilities_valid = grid_unbal_RFC.predict_proba(features_valid)\n",
    "probabilities_one_valid = probabilities_valid[:, 1]\n",
    "\n",
    "print('auc_roc =', roc_auc_score(target_valid, probabilities_one_valid))"
   ]
  },
  {
   "cell_type": "markdown",
   "metadata": {},
   "source": [
    "### Итог"
   ]
  },
  {
   "cell_type": "markdown",
   "metadata": {},
   "source": [
    "Проведено исследование балансов классов. Проверка модели, решающего дерева, на адекватность показала, что точность модели решающего дерева и константной модели практически одинаковы.\n",
    "\n",
    "Рассмотрели частоту предсказывания классов на разных моделях:\n",
    "Подтвердили предыдущий показатель, действительно, класс 0 модель предсказывает гораздо чаще чем класс 1. \n",
    "\n",
    "Значения F1 меры при дисбалансе классов малы. Лучший результат у случайного леса при дефолтных значениях.\n",
    "\n",
    "Установка параметра сбалансированности классов (class_weight='balanced'), лучше всего повлияла только на модель логистической регрессии.\n",
    "\n",
    "Будем бороться с дисбалансом и искать лучшую модель для достижения лучшего результата среднего гармонического точности и полноты (F1 - мера)."
   ]
  },
  {
   "cell_type": "markdown",
   "metadata": {},
   "source": [
    "## Борьба с дисбалансом"
   ]
  },
  {
   "cell_type": "markdown",
   "metadata": {},
   "source": [
    "Обученные модели предсказывают в основном одно и то же число. Необходимо преобразовать обучающие данные."
   ]
  },
  {
   "cell_type": "markdown",
   "metadata": {},
   "source": [
    "### Увеличим выборку положительного класса"
   ]
  },
  {
   "cell_type": "code",
   "execution_count": 231,
   "metadata": {},
   "outputs": [],
   "source": [
    "def upsample(features, target, repeat):\n",
    "    features_zeros = features[target == 0]\n",
    "    features_ones = features[target == 1]\n",
    "    target_zeros = target[target == 0]\n",
    "    target_ones = target[target == 1]\n",
    "\n",
    "    features_upsampled = pd.concat([features_zeros] + [features_ones] * repeat)\n",
    "    target_upsampled = pd.concat([target_zeros] + [target_ones] * repeat)\n",
    "    \n",
    "    features_upsampled, target_upsampled = shuffle(\n",
    "        features_upsampled, target_upsampled, random_state=12345)\n",
    "    \n",
    "    return features_upsampled, target_upsampled"
   ]
  },
  {
   "cell_type": "code",
   "execution_count": 232,
   "metadata": {
    "scrolled": false
   },
   "outputs": [
    {
     "name": "stdout",
     "output_type": "stream",
     "text": [
      "F1: 0.5093525179856114\n"
     ]
    }
   ],
   "source": [
    "features_upsampled, target_upsampled = upsample(features_train, target_train, 2)\n",
    "\n",
    "model = LogisticRegression(random_state=12345, solver='liblinear')\n",
    "model.fit(features_upsampled, target_upsampled)\n",
    "predicted_valid = model.predict(features_valid)\n",
    "\n",
    "print(\"F1:\", f1_score(target_valid, predicted_valid))"
   ]
  },
  {
   "cell_type": "code",
   "execution_count": 233,
   "metadata": {},
   "outputs": [
    {
     "name": "stdout",
     "output_type": "stream",
     "text": [
      "0    0.821782\n",
      "1    0.178218\n",
      "dtype: float64\n"
     ]
    },
    {
     "data": {
      "image/png": "[encoded data removed]",
      "text/plain": [
       "<Figure size 432x288 with 1 Axes>"
      ]
     },
     "metadata": {
      "needs_background": "light"
     },
     "output_type": "display_data"
    }
   ],
   "source": [
    "predicted_valid = pd.Series(model.predict(features_valid))\n",
    "class_frequency = predicted_valid.value_counts(normalize=True)\n",
    "print(class_frequency)\n",
    "class_frequency.plot(kind='bar')\n",
    "plt.title('Предсказывание классов');"
   ]
  },
  {
   "cell_type": "code",
   "execution_count": 234,
   "metadata": {},
   "outputs": [
    {
     "name": "stdout",
     "output_type": "stream",
     "text": [
      "F1: 0.5236842105263158\n"
     ]
    }
   ],
   "source": [
    "model = DecisionTreeClassifier(random_state=12345)\n",
    "model.fit(features_upsampled, target_upsampled)\n",
    "predicted_valid = model.predict(features_valid)\n",
    "\n",
    "print(\"F1:\", f1_score(target_valid, predicted_valid))"
   ]
  },
  {
   "cell_type": "code",
   "execution_count": 235,
   "metadata": {},
   "outputs": [
    {
     "name": "stdout",
     "output_type": "stream",
     "text": [
      "0    0.786029\n",
      "1    0.213971\n",
      "dtype: float64\n"
     ]
    },
    {
     "data": {
      "image/png": "[encoded data removed]",
      "text/plain": [
       "<Figure size 432x288 with 1 Axes>"
      ]
     },
     "metadata": {
      "needs_background": "light"
     },
     "output_type": "display_data"
    }
   ],
   "source": [
    "predicted_valid = pd.Series(model.predict(features_valid))\n",
    "class_frequency = predicted_valid.value_counts(normalize=True)\n",
    "print(class_frequency)\n",
    "class_frequency.plot(kind='bar')\n",
    "plt.title('Предсказывание классов');"
   ]
  },
  {
   "cell_type": "code",
   "execution_count": 236,
   "metadata": {
    "scrolled": true
   },
   "outputs": [
    {
     "name": "stdout",
     "output_type": "stream",
     "text": [
      "F1: 0.5784615384615384\n"
     ]
    }
   ],
   "source": [
    "model = RandomForestClassifier(random_state=12345)\n",
    "model.fit(features_upsampled, target_upsampled)\n",
    "predicted_valid = model.predict(features_valid)\n",
    "\n",
    "print(\"F1:\", f1_score(target_valid, predicted_valid))"
   ]
  },
  {
   "cell_type": "code",
   "execution_count": 237,
   "metadata": {
    "scrolled": false
   },
   "outputs": [
    {
     "name": "stdout",
     "output_type": "stream",
     "text": [
      "0    0.846535\n",
      "1    0.153465\n",
      "dtype: float64\n"
     ]
    },
    {
     "data": {
      "image/png": "[encoded data removed]",
      "text/plain": [
       "<Figure size 432x288 with 1 Axes>"
      ]
     },
     "metadata": {
      "needs_background": "light"
     },
     "output_type": "display_data"
    }
   ],
   "source": [
    "predicted_valid = pd.Series(model.predict(features_valid))\n",
    "class_frequency = predicted_valid.value_counts(normalize=True)\n",
    "print(class_frequency)\n",
    "class_frequency.plot(kind='bar')\n",
    "plt.title('Предсказывание классов');"
   ]
  },
  {
   "cell_type": "markdown",
   "metadata": {},
   "source": [
    "У модель логистической регрессии предсказания положительного класса превысили предсказания отрицательного.\n",
    "У моделей решающего дерева и случайного леса предсказания положительного класса увеличились, F1 мера так же возросла. Лучший результат у случайного леса (0.61).\n",
    "\n",
    "Далее рассмотрим как результаты повлияет уменьшение выборки отрицательного класса."
   ]
  },
  {
   "cell_type": "markdown",
   "metadata": {},
   "source": [
    "#### AUC_ROC Upsample"
   ]
  },
  {
   "cell_type": "code",
   "execution_count": 238,
   "metadata": {},
   "outputs": [
    {
     "name": "stdout",
     "output_type": "stream",
     "text": [
      "Гиперпараметры для лучшей модели: Количество деревьев = 150, Глубина леса = 9, Значение F1 меры = 0.6417910447761194\n",
      "auc_roc = 0.8806211196322161\n"
     ]
    }
   ],
   "source": [
    "parametrs = {'max_depth': range(3, 11, 2),\n",
    "             'n_estimators': range(100, 300, 50)}\n",
    "\n",
    "grid_upsample_RFC = GridSearchCV(RandomForestClassifier(random_state=12345),\n",
    "                              parametrs, cv=5, scoring='f1')\n",
    "grid_upsample_RFC.fit(features_upsampled, target_upsampled)\n",
    "\n",
    "depth = grid_upsample_RFC.best_params_['max_depth']\n",
    "esti = grid_upsample_RFC.best_params_['n_estimators']\n",
    "\n",
    "predicted_valid = grid_upsample_RFC.predict(features_valid)\n",
    "print(f'Гиперпараметры для лучшей модели: Количество деревьев = {esti}, Глубина леса = {depth}, Значение F1 меры = {f1_score(target_valid, predicted_valid)}')\n",
    "\n",
    "probabilities_valid = grid_upsample_RFC.predict_proba(features_valid)\n",
    "probabilities_one_valid = probabilities_valid[:, 1]\n",
    "\n",
    "print('auc_roc =', roc_auc_score(target_valid, probabilities_one_valid))"
   ]
  },
  {
   "cell_type": "markdown",
   "metadata": {},
   "source": [
    "### Уменьшим выборку отрицательного класса"
   ]
  },
  {
   "cell_type": "code",
   "execution_count": 239,
   "metadata": {},
   "outputs": [],
   "source": [
    "def downsample(features, target, fraction):\n",
    "    features_zeros = features[target == 0]\n",
    "    features_ones = features[target == 1]\n",
    "    target_zeros = target[target == 0]\n",
    "    target_ones = target[target == 1]\n",
    "\n",
    "    features_downsampled = pd.concat(\n",
    "        [features_zeros.sample(frac=fraction, random_state=12345)] + [features_ones])\n",
    "    target_downsampled = pd.concat(\n",
    "        [target_zeros.sample(frac=fraction, random_state=12345)] + [target_ones])\n",
    "    \n",
    "    features_downsampled, target_downsampled = shuffle(\n",
    "        features_downsampled, target_downsampled, random_state=12345)\n",
    "    \n",
    "    return features_downsampled, target_downsampled"
   ]
  },
  {
   "cell_type": "code",
   "execution_count": 240,
   "metadata": {},
   "outputs": [
    {
     "name": "stdout",
     "output_type": "stream",
     "text": [
      "F1: 0.42340168878166456\n"
     ]
    }
   ],
   "source": [
    "features_downsampled, target_downsampled = downsample(features_train, target_train, 0.1)\n",
    "\n",
    "model = LogisticRegression(random_state=12345, solver='liblinear')\n",
    "model.fit(features_downsampled, target_downsampled)\n",
    "predicted_valid = model.predict(features_valid)\n",
    "\n",
    "print(\"F1:\", f1_score(target_valid, predicted_valid))"
   ]
  },
  {
   "cell_type": "code",
   "execution_count": 241,
   "metadata": {},
   "outputs": [
    {
     "name": "stdout",
     "output_type": "stream",
     "text": [
      "1    0.707921\n",
      "0    0.292079\n",
      "dtype: float64\n"
     ]
    },
    {
     "data": {
      "image/png": "[encoded data removed]",
      "text/plain": [
       "<Figure size 432x288 with 1 Axes>"
      ]
     },
     "metadata": {
      "needs_background": "light"
     },
     "output_type": "display_data"
    }
   ],
   "source": [
    "predicted_valid = pd.Series(model.predict(features_valid))\n",
    "class_frequency = predicted_valid.value_counts(normalize=True)\n",
    "print(class_frequency)\n",
    "class_frequency.plot(kind='bar')\n",
    "plt.title('Предсказывание классов');"
   ]
  },
  {
   "cell_type": "code",
   "execution_count": 242,
   "metadata": {},
   "outputs": [
    {
     "name": "stdout",
     "output_type": "stream",
     "text": [
      "F1: 0.45522388059701496\n"
     ]
    }
   ],
   "source": [
    "model = DecisionTreeClassifier(random_state=12345)\n",
    "model.fit(features_downsampled, target_downsampled)\n",
    "predicted_valid = model.predict(features_valid)\n",
    "\n",
    "print(\"F1:\", f1_score(target_valid, predicted_valid))"
   ]
  },
  {
   "cell_type": "code",
   "execution_count": 243,
   "metadata": {},
   "outputs": [
    {
     "name": "stdout",
     "output_type": "stream",
     "text": [
      "1    0.533003\n",
      "0    0.466997\n",
      "dtype: float64\n"
     ]
    },
    {
     "data": {
      "image/png": "[encoded data removed]",
      "text/plain": [
       "<Figure size 432x288 with 1 Axes>"
      ]
     },
     "metadata": {
      "needs_background": "light"
     },
     "output_type": "display_data"
    }
   ],
   "source": [
    "predicted_valid = pd.Series(model.predict(features_valid))\n",
    "class_frequency = predicted_valid.value_counts(normalize=True)\n",
    "print(class_frequency)\n",
    "class_frequency.plot(kind='bar')\n",
    "plt.title('Предсказывание классов');"
   ]
  },
  {
   "cell_type": "code",
   "execution_count": 244,
   "metadata": {},
   "outputs": [
    {
     "name": "stdout",
     "output_type": "stream",
     "text": [
      "F1: 0.487369985141159\n"
     ]
    }
   ],
   "source": [
    "model = RandomForestClassifier(random_state=12345)\n",
    "model.fit(features_downsampled, target_downsampled)\n",
    "predicted_valid = model.predict(features_valid)\n",
    "\n",
    "print(\"F1:\", f1_score(target_valid, predicted_valid))"
   ]
  },
  {
   "cell_type": "code",
   "execution_count": 245,
   "metadata": {},
   "outputs": [
    {
     "name": "stdout",
     "output_type": "stream",
     "text": [
      "1    0.536304\n",
      "0    0.463696\n",
      "dtype: float64\n"
     ]
    },
    {
     "data": {
      "image/png": "[encoded data removed]",
      "text/plain": [
       "<Figure size 432x288 with 1 Axes>"
      ]
     },
     "metadata": {
      "needs_background": "light"
     },
     "output_type": "display_data"
    }
   ],
   "source": [
    "predicted_valid = pd.Series(model.predict(features_valid))\n",
    "class_frequency = predicted_valid.value_counts(normalize=True)\n",
    "print(class_frequency)\n",
    "class_frequency.plot(kind='bar')\n",
    "plt.title('Предсказывание классов');"
   ]
  },
  {
   "cell_type": "markdown",
   "metadata": {},
   "source": [
    "Уменьшения выборки отрицательного класса, увеличили количество предсказаний положительного класса у всех моделей. Но при этом метрика F1 уменьшилась на всех моделях."
   ]
  },
  {
   "cell_type": "markdown",
   "metadata": {},
   "source": [
    "#### AUC_ROC Downsample"
   ]
  },
  {
   "cell_type": "code",
   "execution_count": 246,
   "metadata": {},
   "outputs": [
    {
     "name": "stdout",
     "output_type": "stream",
     "text": [
      "Гиперпараметры для лучшей модели: Количество деревьев = 100, Глубина леса = 9, Значение F1 меры = 0.47043189368770766\n",
      "auc_roc = 0.8660878441687142\n"
     ]
    }
   ],
   "source": [
    "parametrs = {'max_depth': range(3, 11, 2),\n",
    "             'n_estimators': range(100, 300, 50)}\n",
    "\n",
    "grid_downsample_RFC = GridSearchCV(RandomForestClassifier(random_state=12345),\n",
    "                              parametrs, cv=5, scoring='f1')\n",
    "grid_downsample_RFC.fit(features_downsampled, target_downsampled)\n",
    "\n",
    "depth = grid_downsample_RFC.best_params_['max_depth']\n",
    "esti = grid_downsample_RFC.best_params_['n_estimators']\n",
    "\n",
    "predicted_valid = grid_downsample_RFC.predict(features_valid)\n",
    "print(f'Гиперпараметры для лучшей модели: Количество деревьев = {esti}, Глубина леса = {depth}, Значение F1 меры = {f1_score(target_valid, predicted_valid)}')\n",
    "\n",
    "probabilities_valid = grid_downsample_RFC.predict_proba(features_valid)\n",
    "probabilities_one_valid = probabilities_valid[:, 1]\n",
    "\n",
    "print('auc_roc =', roc_auc_score(target_valid, probabilities_one_valid))"
   ]
  },
  {
   "cell_type": "markdown",
   "metadata": {},
   "source": [
    "### Изменение порога"
   ]
  },
  {
   "cell_type": "code",
   "execution_count": 247,
   "metadata": {},
   "outputs": [
    {
     "name": "stdout",
     "output_type": "stream",
     "text": [
      "Порог = 0.00 | F1 - мера = 0.339\n",
      "Порог = 0.02 | F1 - мера = 0.340\n",
      "Порог = 0.04 | F1 - мера = 0.350\n",
      "Порог = 0.06 | F1 - мера = 0.376\n",
      "Порог = 0.08 | F1 - мера = 0.399\n",
      "Порог = 0.10 | F1 - мера = 0.418\n",
      "Порог = 0.12 | F1 - мера = 0.435\n",
      "Порог = 0.14 | F1 - мера = 0.457\n",
      "Порог = 0.16 | F1 - мера = 0.478\n",
      "Порог = 0.18 | F1 - мера = 0.491\n",
      "Порог = 0.20 | F1 - мера = 0.486\n",
      "Порог = 0.22 | F1 - мера = 0.507\n",
      "Порог = 0.24 | F1 - мера = 0.521\n",
      "Порог = 0.26 | F1 - мера = 0.522\n",
      "Порог = 0.28 | F1 - мера = 0.534\n"
     ]
    }
   ],
   "source": [
    "model = LogisticRegression(random_state=12345, solver='liblinear')\n",
    "model.fit(features_train, target_train)\n",
    "probabilities_valid = model.predict_proba(features_valid)\n",
    "probabilities_one_valid = probabilities_valid[:, 1]\n",
    "\n",
    "for threshold in np.arange(0, 0.3, 0.02):\n",
    "    predicted_valid = probabilities_one_valid > threshold\n",
    "    print(\"Порог = {:.2f} | F1 - мера = {:.3f}\".format(\n",
    "        threshold, f1_score(target_valid, predicted_valid)))"
   ]
  },
  {
   "cell_type": "code",
   "execution_count": 248,
   "metadata": {},
   "outputs": [
    {
     "name": "stdout",
     "output_type": "stream",
     "text": [
      "Порог = 0.00 | F1 - мера = 0.494\n",
      "Порог = 0.02 | F1 - мера = 0.494\n",
      "Порог = 0.04 | F1 - мера = 0.494\n",
      "Порог = 0.06 | F1 - мера = 0.494\n",
      "Порог = 0.08 | F1 - мера = 0.494\n",
      "Порог = 0.10 | F1 - мера = 0.494\n",
      "Порог = 0.12 | F1 - мера = 0.494\n",
      "Порог = 0.14 | F1 - мера = 0.494\n",
      "Порог = 0.16 | F1 - мера = 0.494\n",
      "Порог = 0.18 | F1 - мера = 0.494\n",
      "Порог = 0.20 | F1 - мера = 0.494\n",
      "Порог = 0.22 | F1 - мера = 0.494\n",
      "Порог = 0.24 | F1 - мера = 0.494\n",
      "Порог = 0.26 | F1 - мера = 0.494\n",
      "Порог = 0.28 | F1 - мера = 0.494\n"
     ]
    }
   ],
   "source": [
    "model = DecisionTreeClassifier(random_state=12345)\n",
    "model.fit(features_train, target_train)\n",
    "probabilities_valid = model.predict_proba(features_valid)\n",
    "probabilities_one_valid = probabilities_valid[:, 1]\n",
    "\n",
    "for threshold in np.arange(0, 0.3, 0.02):\n",
    "    predicted_valid = probabilities_one_valid > threshold\n",
    "    print(\"Порог = {:.2f} | F1 - мера = {:.3f}\".format(\n",
    "        threshold, f1_score(target_valid, predicted_valid)))"
   ]
  },
  {
   "cell_type": "code",
   "execution_count": 249,
   "metadata": {
    "scrolled": false
   },
   "outputs": [
    {
     "name": "stdout",
     "output_type": "stream",
     "text": [
      "Порог = 0.00 | F1 - мера = 0.456\n",
      "Порог = 0.02 | F1 - мера = 0.456\n",
      "Порог = 0.04 | F1 - мера = 0.456\n",
      "Порог = 0.06 | F1 - мера = 0.456\n",
      "Порог = 0.08 | F1 - мера = 0.456\n",
      "Порог = 0.10 | F1 - мера = 0.542\n",
      "Порог = 0.12 | F1 - мера = 0.542\n",
      "Порог = 0.14 | F1 - мера = 0.542\n",
      "Порог = 0.16 | F1 - мера = 0.542\n",
      "Порог = 0.18 | F1 - мера = 0.542\n",
      "Порог = 0.20 | F1 - мера = 0.595\n",
      "Порог = 0.22 | F1 - мера = 0.595\n",
      "Порог = 0.24 | F1 - мера = 0.595\n",
      "Порог = 0.26 | F1 - мера = 0.595\n",
      "Порог = 0.28 | F1 - мера = 0.595\n",
      "Порог = 0.30 | F1 - мера = 0.623\n",
      "Порог = 0.32 | F1 - мера = 0.623\n",
      "Порог = 0.34 | F1 - мера = 0.623\n",
      "Порог = 0.36 | F1 - мера = 0.623\n",
      "Порог = 0.38 | F1 - мера = 0.623\n",
      "Порог = 0.40 | F1 - мера = 0.597\n",
      "Порог = 0.42 | F1 - мера = 0.597\n"
     ]
    }
   ],
   "source": [
    "model = RandomForestClassifier(random_state=12345)\n",
    "model.fit(features_train, target_train)\n",
    "probabilities_valid = model.predict_proba(features_valid)\n",
    "probabilities_one_valid = probabilities_valid[:, 1]\n",
    "\n",
    "for threshold in np.arange(0, 0.44, 0.02):\n",
    "    predicted_valid = probabilities_one_valid > threshold\n",
    "    print(\"Порог = {:.2f} | F1 - мера = {:.3f}\".format(\n",
    "        threshold, f1_score(target_valid, predicted_valid)))"
   ]
  },
  {
   "cell_type": "markdown",
   "metadata": {},
   "source": [
    "#### На сохраненной модели найдём порог при максимальном значении F1"
   ]
  },
  {
   "cell_type": "code",
   "execution_count": 250,
   "metadata": {},
   "outputs": [],
   "source": [
    "parametrs = {'max_depth': range(3, 11, 2),\n",
    "             'n_estimators': range(100, 300, 50)}\n",
    "\n",
    "grid_threshold_RFC = GridSearchCV(RandomForestClassifier(random_state=12345),\n",
    "                              parametrs, cv=5, scoring='f1')\n",
    "grid_threshold_RFC.fit(features_train, target_train)\n",
    "\n",
    "probabilities_valid = grid_threshold_RFC.predict_proba(features_valid)\n",
    "probabilities_one_valid = probabilities_valid[:, 1]"
   ]
  },
  {
   "cell_type": "code",
   "execution_count": 251,
   "metadata": {},
   "outputs": [
    {
     "name": "stdout",
     "output_type": "stream",
     "text": [
      "Гиперпараметры для лучшей модели: Количество деревьев = 100, Глубина леса = 9, Значение F1 меры = 0.6484268125854993, Порог = 0.32\n",
      "auc_roc = 0.8800045451412626\n"
     ]
    }
   ],
   "source": [
    "f1_max = 0\n",
    "threshold_max = 0\n",
    "\n",
    "for threshold in np.arange(0, 0.44, 0.02):\n",
    "    predicted_valid = probabilities_one_valid > threshold\n",
    "    f1 = f1_score(target_valid, predicted_valid)\n",
    "    if f1_max < f1:\n",
    "        f1_max = f1\n",
    "        threshold_max = threshold\n",
    "        \n",
    "depth = grid_downsample_RFC.best_params_['max_depth']\n",
    "esti = grid_downsample_RFC.best_params_['n_estimators']\n",
    "        \n",
    "print(f'Гиперпараметры для лучшей модели: Количество деревьев = {esti}, Глубина леса = {depth}, Значение F1 меры = {f1_max}, Порог = {threshold_max}')\n",
    "probabilities_valid = grid_threshold_RFC.predict_proba(features_valid)\n",
    "probabilities_one_valid = probabilities_valid[:, 1]\n",
    "\n",
    "print('auc_roc =', roc_auc_score(target_valid, probabilities_one_valid))"
   ]
  },
  {
   "cell_type": "code",
   "execution_count": 252,
   "metadata": {},
   "outputs": [],
   "source": [
    "# изменение порога на обученной модели с увеличением выборки положительного класса"
   ]
  },
  {
   "cell_type": "code",
   "execution_count": 253,
   "metadata": {},
   "outputs": [
    {
     "name": "stdout",
     "output_type": "stream",
     "text": [
      "Гиперпараметры для лучшей модели: Количество деревьев = 150, Глубина леса = 9, Значение F1 меры = 0.6363636363636364, Порог = 0.38\n",
      "auc_roc = 0.8806211196322161\n"
     ]
    }
   ],
   "source": [
    "f1_max = 0\n",
    "threshold_max = 0\n",
    "\n",
    "probabilities_valid = grid_upsample_RFC.predict_proba(features_valid)\n",
    "probabilities_one_valid = probabilities_valid[:, 1]\n",
    "        \n",
    "for threshold in np.arange(0, 0.44, 0.02):\n",
    "    predicted_valid = probabilities_one_valid > threshold\n",
    "    f1 = f1_score(target_valid, predicted_valid)\n",
    "    if f1_max < f1:\n",
    "        f1_max = f1\n",
    "        threshold_max = threshold\n",
    "                \n",
    "        \n",
    "depth = grid_upsample_RFC.best_params_['max_depth']\n",
    "esti = grid_upsample_RFC.best_params_['n_estimators']\n",
    "\n",
    "print(f'Гиперпараметры для лучшей модели: Количество деревьев = {esti}, Глубина леса = {depth}, Значение F1 меры = {f1_max}, Порог = {threshold_max}')\n",
    "\n",
    "probabilities_valid = grid_upsample_RFC.predict_proba(features_valid)\n",
    "probabilities_one_valid = probabilities_valid[:, 1]\n",
    "\n",
    "print('auc_roc =', roc_auc_score(target_valid, probabilities_one_valid))"
   ]
  },
  {
   "cell_type": "markdown",
   "metadata": {},
   "source": [
    "### Результаты на валидационной выборке"
   ]
  },
  {
   "cell_type": "markdown",
   "metadata": {},
   "source": [
    "При борьбе с дисбаланом лучшие показатели были достигнуты при увеличении положительной выборки. Модели (решающее дерево и случайный лес) увеличили показатели F1 меры по сравнению с необработанными данными и данными с уменьшенным количеством отрицательной выборки.\n",
    "\n",
    "Далее оценим результаты метрик обученных моделей на тестовой выборке."
   ]
  },
  {
   "cell_type": "markdown",
   "metadata": {},
   "source": [
    "## Исследование метрики AUC-ROC"
   ]
  },
  {
   "cell_type": "code",
   "execution_count": 254,
   "metadata": {},
   "outputs": [
    {
     "name": "stdout",
     "output_type": "stream",
     "text": [
      "Значение метрики AUC-ROC = 0.7892507409139087\n"
     ]
    },
    {
     "data": {
      "image/png": "[encoded data removed]",
      "text/plain": [
       "<Figure size 432x288 with 1 Axes>"
      ]
     },
     "metadata": {
      "needs_background": "light"
     },
     "output_type": "display_data"
    }
   ],
   "source": [
    "model = LogisticRegression(random_state=12345, solver='liblinear')\n",
    "model.fit(features_train, target_train)\n",
    "\n",
    "probabilities_valid = model.predict_proba(features_valid)\n",
    "probabilities_one_valid = probabilities_valid[:, 1]\n",
    "\n",
    "auc_roc = roc_auc_score(target_valid, probabilities_one_valid)\n",
    "\n",
    "print('Значение метрики AUC-ROC =', auc_roc)\n",
    "\n",
    "fpr, tpr, thresholds = roc_curve(target_valid, probabilities_one_valid)\n",
    "\n",
    "plt.figure()\n",
    "\n",
    "# ROC-кривая обученной модели \n",
    "plt.plot(fpr, tpr, linestyle='-')\n",
    "\n",
    "# ROC-кривая случайной модели\n",
    "plt.plot([0, 1], [0, 1], linestyle='--')\n",
    "\n",
    "# Оформление\n",
    "plt.ylim([0.0, 1.0])\n",
    "plt.xlim([0.0, 1.0])\n",
    "plt.xlabel(\"False Positive Rate\")\n",
    "plt.ylabel(\"True Positive Rate\")\n",
    "plt.title(\"ROC-кривая для логистической регрессии\")\n",
    "\n",
    "plt.show()"
   ]
  },
  {
   "cell_type": "code",
   "execution_count": 255,
   "metadata": {},
   "outputs": [
    {
     "name": "stdout",
     "output_type": "stream",
     "text": [
      "Значение метрики AUC-ROC = 0.6826364427191121\n"
     ]
    },
    {
     "data": {
      "image/png": "[encoded data removed]",
      "text/plain": [
       "<Figure size 432x288 with 1 Axes>"
      ]
     },
     "metadata": {
      "needs_background": "light"
     },
     "output_type": "display_data"
    }
   ],
   "source": [
    "model = DecisionTreeClassifier(random_state=12345)\n",
    "model.fit(features_train, target_train)\n",
    "\n",
    "probabilities_valid = model.predict_proba(features_valid)\n",
    "probabilities_one_valid = probabilities_valid[:, 1]\n",
    "\n",
    "auc_roc = roc_auc_score(target_valid, probabilities_one_valid)\n",
    "\n",
    "print('Значение метрики AUC-ROC =', auc_roc)\n",
    "\n",
    "fpr, tpr, thresholds = roc_curve(target_valid, probabilities_one_valid)\n",
    "\n",
    "plt.figure()\n",
    "\n",
    "# ROC-кривая обученной модели \n",
    "plt.plot(fpr, tpr, linestyle='-')\n",
    "\n",
    "# ROC-кривая случайной модели\n",
    "plt.plot([0, 1], [0, 1], linestyle='--')\n",
    "\n",
    "# Оформление\n",
    "plt.ylim([0.0, 1.0])\n",
    "plt.xlim([0.0, 1.0])\n",
    "plt.xlabel(\"False Positive Rate\")\n",
    "plt.ylabel(\"True Positive Rate\")\n",
    "plt.title(\"ROC-кривая для модели Решающее дерево\")\n",
    "\n",
    "plt.show()"
   ]
  },
  {
   "cell_type": "code",
   "execution_count": 256,
   "metadata": {},
   "outputs": [
    {
     "name": "stdout",
     "output_type": "stream",
     "text": [
      "Значение метрики AUC-ROC = 0.8483729698213797\n"
     ]
    },
    {
     "data": {
      "image/png": "[encoded data removed]",
      "text/plain": [
       "<Figure size 432x288 with 1 Axes>"
      ]
     },
     "metadata": {
      "needs_background": "light"
     },
     "output_type": "display_data"
    }
   ],
   "source": [
    "model = RandomForestClassifier(random_state=12345)\n",
    "model.fit(features_train, target_train)\n",
    "\n",
    "probabilities_valid = model.predict_proba(features_valid)\n",
    "probabilities_one_valid = probabilities_valid[:, 1]\n",
    "\n",
    "auc_roc = roc_auc_score(target_valid, probabilities_one_valid)\n",
    "\n",
    "print('Значение метрики AUC-ROC =', auc_roc)\n",
    "\n",
    "fpr, tpr, thresholds = roc_curve(target_valid, probabilities_one_valid)\n",
    "\n",
    "plt.figure()\n",
    "\n",
    "# ROC-кривая обученной модели \n",
    "plt.plot(fpr, tpr, linestyle='-')\n",
    "\n",
    "# ROC-кривая случайной модели\n",
    "plt.plot([0, 1], [0, 1], linestyle='--')\n",
    "\n",
    "# Оформление\n",
    "plt.ylim([0.0, 1.0])\n",
    "plt.xlim([0.0, 1.0])\n",
    "plt.xlabel(\"False Positive Rate\")\n",
    "plt.ylabel(\"True Positive Rate\")\n",
    "plt.title(\"ROC-кривая для модели случайный лес\")\n",
    "\n",
    "plt.show()"
   ]
  },
  {
   "cell_type": "markdown",
   "metadata": {},
   "source": [
    "Лучшее значение качества показал случайный лес с дефолтными параметрами, значение метрики AUC-ROC = 0.86"
   ]
  },
  {
   "cell_type": "markdown",
   "metadata": {},
   "source": [
    "## Тестирование модели"
   ]
  },
  {
   "cell_type": "code",
   "execution_count": 257,
   "metadata": {},
   "outputs": [],
   "source": [
    "pivot = pd.DataFrame()"
   ]
  },
  {
   "cell_type": "code",
   "execution_count": 258,
   "metadata": {},
   "outputs": [
    {
     "name": "stdout",
     "output_type": "stream",
     "text": [
      "F1: 0.5704584040747029\n"
     ]
    }
   ],
   "source": [
    "# Без изменения исходных данных (дисбаланс) - тестовая выборка\n",
    "predicted_test = grid_unbal_RFC.predict(features_test)\n",
    "\n",
    "print(\"F1:\", f1_score(target_test, predicted_test))"
   ]
  },
  {
   "cell_type": "code",
   "execution_count": 259,
   "metadata": {},
   "outputs": [],
   "source": [
    "pivot.loc['F1_score', 'RFC_raw_data'] = f1_score(target_test, predicted_test)"
   ]
  },
  {
   "cell_type": "code",
   "execution_count": 260,
   "metadata": {
    "scrolled": true
   },
   "outputs": [
    {
     "name": "stdout",
     "output_type": "stream",
     "text": [
      "F1: 0.6036585365853657\n"
     ]
    }
   ],
   "source": [
    "# При увеличении выборки положительного класса\n",
    "predicted_test = grid_upsample_RFC.predict(features_test)\n",
    "\n",
    "print(\"F1:\", f1_score(target_test, predicted_test))\n",
    "pivot.loc['F1_score', 'RFC_upsample_data'] = f1_score(target_test, predicted_test)"
   ]
  },
  {
   "cell_type": "code",
   "execution_count": 261,
   "metadata": {},
   "outputs": [
    {
     "name": "stdout",
     "output_type": "stream",
     "text": [
      "F1: 0.47026657552973344\n"
     ]
    }
   ],
   "source": [
    "# При уменьшении выборки отрицательного класса\n",
    "predicted_test = grid_downsample_RFC.predict(features_test)\n",
    "\n",
    "print(\"F1:\", f1_score(target_test, predicted_test))\n",
    "pivot.loc['F1_score', 'RFC_downsample_data'] = f1_score(target_test, predicted_test)"
   ]
  },
  {
   "cell_type": "code",
   "execution_count": 262,
   "metadata": {},
   "outputs": [],
   "source": [
    "# Модель подходящая для тестовой выборки (возьмём данные с увеличением выборки положительного класса)"
   ]
  },
  {
   "cell_type": "code",
   "execution_count": 263,
   "metadata": {},
   "outputs": [
    {
     "name": "stdout",
     "output_type": "stream",
     "text": [
      "Гиперпараметры для лучшей модели: Количество деревьев = 150, Глубина леса = 9, Значение F1 меры = 0.6097560975609756, Порог = 0.42\n",
      "auc_roc = 0.8561115992315825\n"
     ]
    }
   ],
   "source": [
    "f1_max = 0\n",
    "threshold_max = 0\n",
    "\n",
    "probabilities_test = grid_upsample_RFC.predict_proba(features_test)\n",
    "probabilities_one_test = probabilities_test[:, 1]\n",
    "        \n",
    "for threshold in np.arange(0, 0.44, 0.02):\n",
    "    predicted_test = probabilities_one_test > threshold\n",
    "    f1 = f1_score(target_test, predicted_test)\n",
    "    if f1_max < f1:\n",
    "        f1_max = f1\n",
    "        threshold_max = threshold\n",
    "                \n",
    "depth = grid_upsample_RFC.best_params_['max_depth']\n",
    "esti = grid_upsample_RFC.best_params_['n_estimators']        \n",
    "        \n",
    "print(f'Гиперпараметры для лучшей модели: Количество деревьев = {esti}, Глубина леса = {depth}, Значение F1 меры = {f1_max}, Порог = {threshold_max}')\n",
    "\n",
    "probabilities_test = grid_upsample_RFC.predict_proba(features_test)\n",
    "probabilities_one_test = probabilities_test[:, 1]\n",
    "\n",
    "print('auc_roc =', roc_auc_score(target_test, probabilities_one_test))"
   ]
  },
  {
   "cell_type": "code",
   "execution_count": 264,
   "metadata": {},
   "outputs": [
    {
     "data": {
      "text/html": [
       "<div>\n",
       "<style scoped>\n",
       "    .dataframe tbody tr th:only-of-type {\n",
       "        vertical-align: middle;\n",
       "    }\n",
       "\n",
       "    .dataframe tbody tr th {\n",
       "        vertical-align: top;\n",
       "    }\n",
       "\n",
       "    .dataframe thead th {\n",
       "        text-align: right;\n",
       "    }\n",
       "</style>\n",
       "<table border=\"1\" class=\"dataframe\">\n",
       "  <thead>\n",
       "    <tr style=\"text-align: right;\">\n",
       "      <th></th>\n",
       "      <th>RFC_raw_data</th>\n",
       "      <th>RFC_upsample_data</th>\n",
       "      <th>RFC_downsample_data</th>\n",
       "    </tr>\n",
       "  </thead>\n",
       "  <tbody>\n",
       "    <tr>\n",
       "      <td>F1_score</td>\n",
       "      <td>0.570458</td>\n",
       "      <td>0.603659</td>\n",
       "      <td>0.470267</td>\n",
       "    </tr>\n",
       "  </tbody>\n",
       "</table>\n",
       "</div>"
      ],
      "text/plain": [
       "          RFC_raw_data  RFC_upsample_data  RFC_downsample_data\n",
       "F1_score      0.570458           0.603659             0.470267"
      ]
     },
     "execution_count": 264,
     "metadata": {},
     "output_type": "execute_result"
    }
   ],
   "source": [
    "pivot"
   ]
  },
  {
   "cell_type": "markdown",
   "metadata": {},
   "source": [
    "В результате проведенной работы, проведено ресемплирование данных, для повышения метрик модели предсказания оттока клиентов банка. В результате \"игры на опережение\" можно сохранить действующего клиента, вовремя отреагировав."
   ]
  },
  {
   "cell_type": "markdown",
   "metadata": {},
   "source": [
    "<a class=\"anchor\" id=\"21-bullet\">"
   ]
  }
 ],
 "metadata": {
  "ExecuteTimeLog": [
   {
    "duration": 1466,
    "start_time": "2021-09-19T03:06:29.759Z"
   },
   {
    "duration": 183,
    "start_time": "2021-09-19T03:06:31.227Z"
   },
   {
    "duration": 24,
    "start_time": "2021-09-19T03:06:31.412Z"
   },
   {
    "duration": 8,
    "start_time": "2021-09-19T03:06:31.438Z"
   },
   {
    "duration": 4,
    "start_time": "2021-09-19T03:06:31.448Z"
   },
   {
    "duration": 14,
    "start_time": "2021-09-19T03:06:31.454Z"
   },
   {
    "duration": 14,
    "start_time": "2021-09-19T03:06:31.469Z"
   },
   {
    "duration": 40,
    "start_time": "2021-09-19T03:06:31.485Z"
   },
   {
    "duration": 214,
    "start_time": "2021-09-19T03:06:31.549Z"
   },
   {
    "duration": 320,
    "start_time": "2021-09-19T03:06:31.764Z"
   },
   {
    "duration": 4600,
    "start_time": "2021-09-19T03:06:27.487Z"
   },
   {
    "duration": 4588,
    "start_time": "2021-09-19T03:06:27.500Z"
   },
   {
    "duration": 4579,
    "start_time": "2021-09-19T03:06:27.510Z"
   },
   {
    "duration": 4572,
    "start_time": "2021-09-19T03:06:27.518Z"
   },
   {
    "duration": 4560,
    "start_time": "2021-09-19T03:06:27.531Z"
   },
   {
    "duration": 4553,
    "start_time": "2021-09-19T03:06:27.539Z"
   },
   {
    "duration": 4544,
    "start_time": "2021-09-19T03:06:27.549Z"
   },
   {
    "duration": 4537,
    "start_time": "2021-09-19T03:06:27.557Z"
   },
   {
    "duration": 4528,
    "start_time": "2021-09-19T03:06:27.567Z"
   },
   {
    "duration": 4507,
    "start_time": "2021-09-19T03:06:27.589Z"
   },
   {
    "duration": 4498,
    "start_time": "2021-09-19T03:06:27.599Z"
   },
   {
    "duration": 4490,
    "start_time": "2021-09-19T03:06:27.608Z"
   },
   {
    "duration": 4481,
    "start_time": "2021-09-19T03:06:27.618Z"
   },
   {
    "duration": 4474,
    "start_time": "2021-09-19T03:06:27.626Z"
   },
   {
    "duration": 4465,
    "start_time": "2021-09-19T03:06:27.636Z"
   },
   {
    "duration": 4458,
    "start_time": "2021-09-19T03:06:27.644Z"
   },
   {
    "duration": 4449,
    "start_time": "2021-09-19T03:06:27.654Z"
   },
   {
    "duration": 4441,
    "start_time": "2021-09-19T03:06:27.662Z"
   },
   {
    "duration": 4432,
    "start_time": "2021-09-19T03:06:27.672Z"
   },
   {
    "duration": 4426,
    "start_time": "2021-09-19T03:06:27.679Z"
   },
   {
    "duration": 4403,
    "start_time": "2021-09-19T03:06:27.703Z"
   },
   {
    "duration": 4394,
    "start_time": "2021-09-19T03:06:27.713Z"
   },
   {
    "duration": 4384,
    "start_time": "2021-09-19T03:06:27.724Z"
   },
   {
    "duration": 4375,
    "start_time": "2021-09-19T03:06:27.734Z"
   },
   {
    "duration": 4367,
    "start_time": "2021-09-19T03:06:27.743Z"
   },
   {
    "duration": 4360,
    "start_time": "2021-09-19T03:06:27.751Z"
   },
   {
    "duration": 4352,
    "start_time": "2021-09-19T03:06:27.760Z"
   },
   {
    "duration": 4341,
    "start_time": "2021-09-19T03:06:27.772Z"
   },
   {
    "duration": 4331,
    "start_time": "2021-09-19T03:06:27.783Z"
   },
   {
    "duration": 4324,
    "start_time": "2021-09-19T03:06:27.791Z"
   },
   {
    "duration": 4298,
    "start_time": "2021-09-19T03:06:27.817Z"
   },
   {
    "duration": 4291,
    "start_time": "2021-09-19T03:06:27.825Z"
   },
   {
    "duration": 4280,
    "start_time": "2021-09-19T03:06:27.837Z"
   },
   {
    "duration": 4272,
    "start_time": "2021-09-19T03:06:27.846Z"
   },
   {
    "duration": 4264,
    "start_time": "2021-09-19T03:06:27.855Z"
   },
   {
    "duration": 4256,
    "start_time": "2021-09-19T03:06:27.864Z"
   },
   {
    "duration": 4247,
    "start_time": "2021-09-19T03:06:27.874Z"
   },
   {
    "duration": 4239,
    "start_time": "2021-09-19T03:06:27.883Z"
   },
   {
    "duration": 4230,
    "start_time": "2021-09-19T03:06:27.893Z"
   },
   {
    "duration": 4222,
    "start_time": "2021-09-19T03:06:27.902Z"
   },
   {
    "duration": 4200,
    "start_time": "2021-09-19T03:06:27.925Z"
   },
   {
    "duration": 4190,
    "start_time": "2021-09-19T03:06:27.936Z"
   },
   {
    "duration": 4204,
    "start_time": "2021-09-19T03:06:27.947Z"
   },
   {
    "duration": 4197,
    "start_time": "2021-09-19T03:06:27.955Z"
   },
   {
    "duration": 4187,
    "start_time": "2021-09-19T03:06:27.966Z"
   },
   {
    "duration": 4178,
    "start_time": "2021-09-19T03:06:27.976Z"
   },
   {
    "duration": 4170,
    "start_time": "2021-09-19T03:06:27.985Z"
   },
   {
    "duration": 4162,
    "start_time": "2021-09-19T03:06:27.994Z"
   },
   {
    "duration": 4150,
    "start_time": "2021-09-19T03:06:28.007Z"
   },
   {
    "duration": 4139,
    "start_time": "2021-09-19T03:06:28.019Z"
   },
   {
    "duration": 4110,
    "start_time": "2021-09-19T03:06:28.049Z"
   },
   {
    "duration": 5,
    "start_time": "2021-09-19T03:11:48.794Z"
   },
   {
    "duration": 21,
    "start_time": "2021-09-19T03:11:49.906Z"
   },
   {
    "duration": 15,
    "start_time": "2021-09-19T03:12:19.347Z"
   },
   {
    "duration": 16,
    "start_time": "2021-09-19T03:12:26.636Z"
   },
   {
    "duration": 72,
    "start_time": "2021-09-19T03:12:28.808Z"
   },
   {
    "duration": 8,
    "start_time": "2021-09-19T03:12:40.267Z"
   },
   {
    "duration": 7,
    "start_time": "2021-09-19T03:12:40.597Z"
   },
   {
    "duration": 5,
    "start_time": "2021-09-19T03:12:41.046Z"
   },
   {
    "duration": 7,
    "start_time": "2021-09-19T03:12:41.412Z"
   },
   {
    "duration": 6,
    "start_time": "2021-09-19T03:12:43.753Z"
   },
   {
    "duration": 249,
    "start_time": "2021-09-19T03:12:47.209Z"
   },
   {
    "duration": 60185,
    "start_time": "2021-09-19T03:16:41.471Z"
   },
   {
    "duration": 3,
    "start_time": "2021-09-19T03:18:02.593Z"
   },
   {
    "duration": 1236,
    "start_time": "2021-09-19T03:18:02.600Z"
   },
   {
    "duration": 183,
    "start_time": "2021-09-19T03:18:03.838Z"
   },
   {
    "duration": 25,
    "start_time": "2021-09-19T03:18:04.023Z"
   },
   {
    "duration": 7,
    "start_time": "2021-09-19T03:18:04.050Z"
   },
   {
    "duration": 6,
    "start_time": "2021-09-19T03:18:04.059Z"
   },
   {
    "duration": 14,
    "start_time": "2021-09-19T03:18:04.066Z"
   },
   {
    "duration": 13,
    "start_time": "2021-09-19T03:18:04.081Z"
   },
   {
    "duration": 67,
    "start_time": "2021-09-19T03:18:04.096Z"
   },
   {
    "duration": 237,
    "start_time": "2021-09-19T03:18:04.165Z"
   },
   {
    "duration": 5,
    "start_time": "2021-09-19T03:18:04.404Z"
   },
   {
    "duration": 31,
    "start_time": "2021-09-19T03:18:04.411Z"
   },
   {
    "duration": 19,
    "start_time": "2021-09-19T03:18:04.444Z"
   },
   {
    "duration": 29,
    "start_time": "2021-09-19T03:18:04.465Z"
   },
   {
    "duration": 70,
    "start_time": "2021-09-19T03:18:04.496Z"
   },
   {
    "duration": 7,
    "start_time": "2021-09-19T03:18:04.568Z"
   },
   {
    "duration": 23,
    "start_time": "2021-09-19T03:18:04.577Z"
   },
   {
    "duration": 16,
    "start_time": "2021-09-19T03:18:04.601Z"
   },
   {
    "duration": 24,
    "start_time": "2021-09-19T03:18:04.618Z"
   },
   {
    "duration": 12,
    "start_time": "2021-09-19T03:18:04.644Z"
   },
   {
    "duration": 453,
    "start_time": "2021-09-19T03:18:04.657Z"
   },
   {
    "duration": 21,
    "start_time": "2021-09-19T03:18:05.111Z"
   },
   {
    "duration": 33,
    "start_time": "2021-09-19T03:18:05.133Z"
   },
   {
    "duration": 11,
    "start_time": "2021-09-19T03:18:05.170Z"
   },
   {
    "duration": 21,
    "start_time": "2021-09-19T03:18:05.183Z"
   },
   {
    "duration": 57,
    "start_time": "2021-09-19T03:18:05.206Z"
   },
   {
    "duration": 8,
    "start_time": "2021-09-19T03:18:05.265Z"
   },
   {
    "duration": 78,
    "start_time": "2021-09-19T03:18:05.275Z"
   },
   {
    "duration": 307,
    "start_time": "2021-09-19T03:18:05.356Z"
   },
   {
    "duration": 30,
    "start_time": "2021-09-19T03:18:05.665Z"
   },
   {
    "duration": 228,
    "start_time": "2021-09-19T03:18:05.697Z"
   },
   {
    "duration": 82,
    "start_time": "2021-09-19T03:18:05.927Z"
   },
   {
    "duration": 127,
    "start_time": "2021-09-19T03:18:06.011Z"
   },
   {
    "duration": 23,
    "start_time": "2021-09-19T03:18:06.149Z"
   },
   {
    "duration": 196,
    "start_time": "2021-09-19T03:18:06.175Z"
   },
   {
    "duration": 83,
    "start_time": "2021-09-19T03:18:06.373Z"
   },
   {
    "duration": 4,
    "start_time": "2021-09-19T03:18:06.458Z"
   },
   {
    "duration": 86,
    "start_time": "2021-09-19T03:18:06.464Z"
   },
   {
    "duration": 324,
    "start_time": "2021-09-19T03:18:06.553Z"
   },
   {
    "duration": 49,
    "start_time": "2021-09-19T03:18:06.879Z"
   },
   {
    "duration": 149,
    "start_time": "2021-09-19T03:18:06.930Z"
   },
   {
    "duration": 129,
    "start_time": "2021-09-19T03:18:07.081Z"
   },
   {
    "duration": 139,
    "start_time": "2021-09-19T03:18:07.212Z"
   },
   {
    "duration": 5,
    "start_time": "2021-09-19T03:18:07.353Z"
   },
   {
    "duration": 92,
    "start_time": "2021-09-19T03:18:07.360Z"
   },
   {
    "duration": 366,
    "start_time": "2021-09-19T03:18:07.455Z"
   },
   {
    "duration": 26,
    "start_time": "2021-09-19T03:18:07.823Z"
   },
   {
    "duration": 174,
    "start_time": "2021-09-19T03:18:07.851Z"
   },
   {
    "duration": 60,
    "start_time": "2021-09-19T03:18:08.027Z"
   },
   {
    "duration": 178,
    "start_time": "2021-09-19T03:18:08.089Z"
   },
   {
    "duration": 194,
    "start_time": "2021-09-19T03:18:08.268Z"
   },
   {
    "duration": 49,
    "start_time": "2021-09-19T03:18:08.463Z"
   },
   {
    "duration": 131,
    "start_time": "2021-09-19T03:18:08.513Z"
   },
   {
    "duration": 329,
    "start_time": "2021-09-19T03:18:08.649Z"
   },
   {
    "duration": 181,
    "start_time": "2021-09-19T03:18:08.980Z"
   },
   {
    "duration": 227,
    "start_time": "2021-09-19T03:18:09.162Z"
   },
   {
    "duration": 2380,
    "start_time": "2021-09-19T03:18:09.391Z"
   },
   {
    "duration": 4502,
    "start_time": "2021-09-19T03:18:11.772Z"
   },
   {
    "duration": 125,
    "start_time": "2021-09-19T03:18:16.276Z"
   },
   {
    "duration": 8,
    "start_time": "2021-09-19T03:18:16.403Z"
   },
   {
    "duration": 9,
    "start_time": "2021-09-19T03:18:16.413Z"
   },
   {
    "duration": 708,
    "start_time": "2021-09-19T03:18:16.424Z"
   },
   {
    "duration": 27,
    "start_time": "2021-09-19T03:18:17.134Z"
   },
   {
    "duration": 5566,
    "start_time": "2021-09-19T08:56:50.713Z"
   },
   {
    "duration": 91,
    "start_time": "2021-09-19T09:00:29.578Z"
   },
   {
    "duration": 127,
    "start_time": "2021-09-19T09:01:45.767Z"
   },
   {
    "duration": 4021,
    "start_time": "2021-09-19T09:05:18.241Z"
   },
   {
    "duration": 1520,
    "start_time": "2021-09-19T09:05:22.265Z"
   },
   {
    "duration": 216,
    "start_time": "2021-09-19T09:05:23.788Z"
   },
   {
    "duration": 35,
    "start_time": "2021-09-19T09:05:24.007Z"
   },
   {
    "duration": 19,
    "start_time": "2021-09-19T09:05:24.045Z"
   },
   {
    "duration": 14,
    "start_time": "2021-09-19T09:05:24.067Z"
   },
   {
    "duration": 24,
    "start_time": "2021-09-19T09:05:24.084Z"
   },
   {
    "duration": 392,
    "start_time": "2021-09-19T09:05:24.113Z"
   },
   {
    "duration": 8136,
    "start_time": "2021-09-19T09:06:05.668Z"
   },
   {
    "duration": 7,
    "start_time": "2021-09-19T09:06:19.404Z"
   },
   {
    "duration": 205,
    "start_time": "2021-09-19T09:06:20.909Z"
   },
   {
    "duration": 28,
    "start_time": "2021-09-19T09:06:26.801Z"
   },
   {
    "duration": 9,
    "start_time": "2021-09-19T09:06:27.673Z"
   },
   {
    "duration": 6,
    "start_time": "2021-09-19T09:06:30.696Z"
   },
   {
    "duration": 20,
    "start_time": "2021-09-19T09:06:31.530Z"
   },
   {
    "duration": 257,
    "start_time": "2021-09-19T09:06:34.184Z"
   },
   {
    "duration": 6757,
    "start_time": "2021-09-19T09:07:10.141Z"
   },
   {
    "duration": 7,
    "start_time": "2021-09-19T09:07:16.901Z"
   },
   {
    "duration": 304,
    "start_time": "2021-09-19T09:07:16.912Z"
   },
   {
    "duration": 33,
    "start_time": "2021-09-19T09:07:17.219Z"
   },
   {
    "duration": 9,
    "start_time": "2021-09-19T09:07:17.254Z"
   },
   {
    "duration": 17,
    "start_time": "2021-09-19T09:07:17.265Z"
   },
   {
    "duration": 22,
    "start_time": "2021-09-19T09:07:17.284Z"
   },
   {
    "duration": 256,
    "start_time": "2021-09-19T09:07:17.310Z"
   },
   {
    "duration": 7077,
    "start_time": "2021-09-19T09:07:59.848Z"
   },
   {
    "duration": 8,
    "start_time": "2021-09-19T09:08:06.927Z"
   },
   {
    "duration": 235,
    "start_time": "2021-09-19T09:08:06.939Z"
   },
   {
    "duration": 30,
    "start_time": "2021-09-19T09:08:07.177Z"
   },
   {
    "duration": 10,
    "start_time": "2021-09-19T09:08:07.210Z"
   },
   {
    "duration": 9,
    "start_time": "2021-09-19T09:08:07.222Z"
   },
   {
    "duration": 45,
    "start_time": "2021-09-19T09:08:07.234Z"
   },
   {
    "duration": 257,
    "start_time": "2021-09-19T09:08:07.283Z"
   },
   {
    "duration": 6784,
    "start_time": "2021-09-19T09:10:35.901Z"
   },
   {
    "duration": 7398,
    "start_time": "2021-09-19T09:11:05.804Z"
   },
   {
    "duration": 9,
    "start_time": "2021-09-19T09:11:13.205Z"
   },
   {
    "duration": 222,
    "start_time": "2021-09-19T09:11:13.217Z"
   },
   {
    "duration": 30,
    "start_time": "2021-09-19T09:11:13.442Z"
   },
   {
    "duration": 9,
    "start_time": "2021-09-19T09:11:13.474Z"
   },
   {
    "duration": 9,
    "start_time": "2021-09-19T09:11:13.485Z"
   },
   {
    "duration": 32,
    "start_time": "2021-09-19T09:11:13.496Z"
   },
   {
    "duration": 247,
    "start_time": "2021-09-19T09:11:13.531Z"
   },
   {
    "duration": 6901,
    "start_time": "2021-09-19T09:13:36.601Z"
   },
   {
    "duration": 7,
    "start_time": "2021-09-19T09:13:43.505Z"
   },
   {
    "duration": 205,
    "start_time": "2021-09-19T09:13:43.515Z"
   },
   {
    "duration": 30,
    "start_time": "2021-09-19T09:13:43.723Z"
   },
   {
    "duration": 10,
    "start_time": "2021-09-19T09:13:43.755Z"
   },
   {
    "duration": 26,
    "start_time": "2021-09-19T09:13:43.767Z"
   },
   {
    "duration": 38,
    "start_time": "2021-09-19T09:13:43.795Z"
   },
   {
    "duration": 273,
    "start_time": "2021-09-19T09:13:47.318Z"
   },
   {
    "duration": 7448,
    "start_time": "2021-09-19T09:14:10.053Z"
   },
   {
    "duration": 8,
    "start_time": "2021-09-19T09:14:17.504Z"
   },
   {
    "duration": 209,
    "start_time": "2021-09-19T09:14:17.515Z"
   },
   {
    "duration": 46,
    "start_time": "2021-09-19T09:14:17.727Z"
   },
   {
    "duration": 10,
    "start_time": "2021-09-19T09:14:17.776Z"
   },
   {
    "duration": 8,
    "start_time": "2021-09-19T09:14:17.789Z"
   },
   {
    "duration": 22,
    "start_time": "2021-09-19T09:14:17.800Z"
   },
   {
    "duration": 279,
    "start_time": "2021-09-19T09:14:17.863Z"
   },
   {
    "duration": 115,
    "start_time": "2021-09-19T09:14:18.030Z"
   },
   {
    "duration": 78,
    "start_time": "2021-09-19T09:14:18.070Z"
   },
   {
    "duration": 71,
    "start_time": "2021-09-19T09:14:18.079Z"
   },
   {
    "duration": 56,
    "start_time": "2021-09-19T09:14:18.097Z"
   },
   {
    "duration": 50,
    "start_time": "2021-09-19T09:14:18.105Z"
   },
   {
    "duration": 44,
    "start_time": "2021-09-19T09:14:18.113Z"
   },
   {
    "duration": 39,
    "start_time": "2021-09-19T09:14:18.120Z"
   },
   {
    "duration": 34,
    "start_time": "2021-09-19T09:14:18.128Z"
   },
   {
    "duration": 29,
    "start_time": "2021-09-19T09:14:18.135Z"
   },
   {
    "duration": 22,
    "start_time": "2021-09-19T09:14:18.144Z"
   },
   {
    "duration": 10,
    "start_time": "2021-09-19T09:14:18.158Z"
   },
   {
    "duration": -3,
    "start_time": "2021-09-19T09:14:18.173Z"
   },
   {
    "duration": -14,
    "start_time": "2021-09-19T09:14:18.187Z"
   },
   {
    "duration": -28,
    "start_time": "2021-09-19T09:14:18.203Z"
   },
   {
    "duration": 287,
    "start_time": "2021-09-19T09:17:05.451Z"
   },
   {
    "duration": 6910,
    "start_time": "2021-09-19T09:26:49.687Z"
   },
   {
    "duration": 1475,
    "start_time": "2021-09-19T09:26:56.600Z"
   },
   {
    "duration": 195,
    "start_time": "2021-09-19T09:26:58.078Z"
   },
   {
    "duration": 34,
    "start_time": "2021-09-19T09:26:58.276Z"
   },
   {
    "duration": 8,
    "start_time": "2021-09-19T09:26:58.312Z"
   },
   {
    "duration": 38,
    "start_time": "2021-09-19T09:26:58.323Z"
   },
   {
    "duration": 20,
    "start_time": "2021-09-19T09:26:58.364Z"
   },
   {
    "duration": 423,
    "start_time": "2021-09-19T09:26:58.388Z"
   },
   {
    "duration": 392,
    "start_time": "2021-09-19T09:27:43.015Z"
   },
   {
    "duration": 7355,
    "start_time": "2021-09-19T09:28:01.989Z"
   },
   {
    "duration": 8,
    "start_time": "2021-09-19T09:28:09.347Z"
   },
   {
    "duration": 224,
    "start_time": "2021-09-19T09:28:09.359Z"
   },
   {
    "duration": 33,
    "start_time": "2021-09-19T09:28:09.585Z"
   },
   {
    "duration": 13,
    "start_time": "2021-09-19T09:28:09.621Z"
   },
   {
    "duration": 8,
    "start_time": "2021-09-19T09:28:09.663Z"
   },
   {
    "duration": 23,
    "start_time": "2021-09-19T09:28:09.675Z"
   },
   {
    "duration": 439,
    "start_time": "2021-09-19T09:28:09.704Z"
   },
   {
    "duration": 31,
    "start_time": "2021-09-19T09:28:10.145Z"
   },
   {
    "duration": 84,
    "start_time": "2021-09-19T09:28:10.178Z"
   },
   {
    "duration": 468,
    "start_time": "2021-09-19T09:28:10.264Z"
   },
   {
    "duration": 6,
    "start_time": "2021-09-19T09:28:10.734Z"
   },
   {
    "duration": 44,
    "start_time": "2021-09-19T09:28:10.743Z"
   },
   {
    "duration": 19,
    "start_time": "2021-09-19T09:28:10.789Z"
   },
   {
    "duration": 23,
    "start_time": "2021-09-19T09:28:10.811Z"
   },
   {
    "duration": 122,
    "start_time": "2021-09-19T09:28:10.862Z"
   },
   {
    "duration": 10,
    "start_time": "2021-09-19T09:28:10.987Z"
   },
   {
    "duration": 8,
    "start_time": "2021-09-19T09:28:10.999Z"
   },
   {
    "duration": 8,
    "start_time": "2021-09-19T09:28:11.010Z"
   },
   {
    "duration": 42,
    "start_time": "2021-09-19T09:28:11.020Z"
   },
   {
    "duration": 8,
    "start_time": "2021-09-19T09:28:11.064Z"
   },
   {
    "duration": 803,
    "start_time": "2021-09-19T09:28:11.075Z"
   },
   {
    "duration": 96,
    "start_time": "2021-09-19T09:29:55.045Z"
   },
   {
    "duration": 86,
    "start_time": "2021-09-20T05:10:43.408Z"
   },
   {
    "duration": 91,
    "start_time": "2021-09-20T05:12:11.220Z"
   },
   {
    "duration": 622,
    "start_time": "2021-09-20T05:21:43.474Z"
   },
   {
    "duration": 84,
    "start_time": "2021-09-20T05:22:35.918Z"
   },
   {
    "duration": 6535,
    "start_time": "2021-09-20T05:22:50.017Z"
   },
   {
    "duration": 1116,
    "start_time": "2021-09-20T05:22:56.554Z"
   },
   {
    "duration": 183,
    "start_time": "2021-09-20T05:22:57.671Z"
   },
   {
    "duration": 21,
    "start_time": "2021-09-20T05:22:57.856Z"
   },
   {
    "duration": 8,
    "start_time": "2021-09-20T05:22:57.878Z"
   },
   {
    "duration": 4,
    "start_time": "2021-09-20T05:22:57.887Z"
   },
   {
    "duration": 14,
    "start_time": "2021-09-20T05:22:57.893Z"
   },
   {
    "duration": 260,
    "start_time": "2021-09-20T05:22:57.910Z"
   },
   {
    "duration": 15,
    "start_time": "2021-09-20T05:22:58.172Z"
   },
   {
    "duration": 56,
    "start_time": "2021-09-20T05:22:58.189Z"
   },
   {
    "duration": 213,
    "start_time": "2021-09-20T05:22:58.247Z"
   },
   {
    "duration": 6,
    "start_time": "2021-09-20T05:22:58.461Z"
   },
   {
    "duration": 23,
    "start_time": "2021-09-20T05:22:58.468Z"
   },
   {
    "duration": 12,
    "start_time": "2021-09-20T05:22:58.493Z"
   },
   {
    "duration": 38,
    "start_time": "2021-09-20T05:22:58.506Z"
   },
   {
    "duration": 68,
    "start_time": "2021-09-20T05:22:58.546Z"
   },
   {
    "duration": 6,
    "start_time": "2021-09-20T05:22:58.616Z"
   },
   {
    "duration": 20,
    "start_time": "2021-09-20T05:22:58.624Z"
   },
   {
    "duration": 13,
    "start_time": "2021-09-20T05:22:58.646Z"
   },
   {
    "duration": 12,
    "start_time": "2021-09-20T05:22:58.660Z"
   },
   {
    "duration": 20,
    "start_time": "2021-09-20T05:22:58.673Z"
   },
   {
    "duration": 481,
    "start_time": "2021-09-20T05:22:58.694Z"
   },
   {
    "duration": 19,
    "start_time": "2021-09-20T05:22:59.177Z"
   },
   {
    "duration": 330,
    "start_time": "2021-09-20T05:22:59.198Z"
   },
   {
    "duration": 23,
    "start_time": "2021-09-20T05:24:25.741Z"
   },
   {
    "duration": 4555,
    "start_time": "2021-09-20T05:24:49.441Z"
   },
   {
    "duration": 5,
    "start_time": "2021-09-20T05:24:53.998Z"
   },
   {
    "duration": 604,
    "start_time": "2021-09-20T05:24:54.005Z"
   },
   {
    "duration": 19,
    "start_time": "2021-09-20T05:24:54.611Z"
   },
   {
    "duration": 6,
    "start_time": "2021-09-20T05:24:54.632Z"
   },
   {
    "duration": 10,
    "start_time": "2021-09-20T05:24:54.640Z"
   },
   {
    "duration": 21,
    "start_time": "2021-09-20T05:24:54.651Z"
   },
   {
    "duration": 212,
    "start_time": "2021-09-20T05:24:54.674Z"
   },
   {
    "duration": 12,
    "start_time": "2021-09-20T05:24:54.889Z"
   },
   {
    "duration": 52,
    "start_time": "2021-09-20T05:24:54.903Z"
   },
   {
    "duration": 211,
    "start_time": "2021-09-20T05:24:54.956Z"
   },
   {
    "duration": 5,
    "start_time": "2021-09-20T05:24:55.168Z"
   },
   {
    "duration": 24,
    "start_time": "2021-09-20T05:24:55.174Z"
   },
   {
    "duration": 10,
    "start_time": "2021-09-20T05:24:55.200Z"
   },
   {
    "duration": 28,
    "start_time": "2021-09-20T05:24:55.211Z"
   },
   {
    "duration": 70,
    "start_time": "2021-09-20T05:24:55.240Z"
   },
   {
    "duration": 6,
    "start_time": "2021-09-20T05:24:55.312Z"
   },
   {
    "duration": 5,
    "start_time": "2021-09-20T05:24:55.320Z"
   },
   {
    "duration": 19,
    "start_time": "2021-09-20T05:24:55.326Z"
   },
   {
    "duration": 5,
    "start_time": "2021-09-20T05:24:55.346Z"
   },
   {
    "duration": 18,
    "start_time": "2021-09-20T05:24:55.353Z"
   },
   {
    "duration": 432,
    "start_time": "2021-09-20T05:24:55.372Z"
   },
   {
    "duration": 18,
    "start_time": "2021-09-20T05:24:55.807Z"
   },
   {
    "duration": 33,
    "start_time": "2021-09-20T05:24:55.826Z"
   },
   {
    "duration": 11,
    "start_time": "2021-09-20T05:24:55.860Z"
   },
   {
    "duration": 28,
    "start_time": "2021-09-20T05:24:55.872Z"
   },
   {
    "duration": 28,
    "start_time": "2021-09-20T05:24:55.901Z"
   },
   {
    "duration": 15,
    "start_time": "2021-09-20T05:24:55.930Z"
   },
   {
    "duration": 20,
    "start_time": "2021-09-20T05:24:55.946Z"
   },
   {
    "duration": 358,
    "start_time": "2021-09-20T05:24:55.968Z"
   },
   {
    "duration": 41,
    "start_time": "2021-09-20T05:24:56.327Z"
   },
   {
    "duration": 126,
    "start_time": "2021-09-20T05:24:56.369Z"
   },
   {
    "duration": 73,
    "start_time": "2021-09-20T05:24:56.497Z"
   },
   {
    "duration": 116,
    "start_time": "2021-09-20T05:24:56.571Z"
   },
   {
    "duration": 59,
    "start_time": "2021-09-20T05:24:56.689Z"
   },
   {
    "duration": 119,
    "start_time": "2021-09-20T05:24:56.751Z"
   },
   {
    "duration": 74,
    "start_time": "2021-09-20T05:24:56.871Z"
   },
   {
    "duration": 85,
    "start_time": "2021-09-20T05:28:16.326Z"
   },
   {
    "duration": 4613,
    "start_time": "2021-09-20T05:38:18.042Z"
   },
   {
    "duration": 5,
    "start_time": "2021-09-20T05:38:22.657Z"
   },
   {
    "duration": 192,
    "start_time": "2021-09-20T05:38:22.663Z"
   },
   {
    "duration": 19,
    "start_time": "2021-09-20T05:38:22.856Z"
   },
   {
    "duration": 6,
    "start_time": "2021-09-20T05:38:22.877Z"
   },
   {
    "duration": 5,
    "start_time": "2021-09-20T05:38:22.884Z"
   },
   {
    "duration": 15,
    "start_time": "2021-09-20T05:38:22.890Z"
   },
   {
    "duration": 243,
    "start_time": "2021-09-20T05:38:22.908Z"
   },
   {
    "duration": 14,
    "start_time": "2021-09-20T05:38:23.153Z"
   },
   {
    "duration": 41,
    "start_time": "2021-09-20T05:38:23.169Z"
   },
   {
    "duration": 317,
    "start_time": "2021-09-20T05:38:23.212Z"
   },
   {
    "duration": 16,
    "start_time": "2021-09-20T05:38:23.531Z"
   },
   {
    "duration": 23,
    "start_time": "2021-09-20T05:38:23.548Z"
   },
   {
    "duration": 12,
    "start_time": "2021-09-20T05:38:23.573Z"
   },
   {
    "duration": 17,
    "start_time": "2021-09-20T05:38:23.586Z"
   },
   {
    "duration": 90,
    "start_time": "2021-09-20T05:38:23.605Z"
   },
   {
    "duration": 8,
    "start_time": "2021-09-20T05:38:23.697Z"
   },
   {
    "duration": 6,
    "start_time": "2021-09-20T05:38:23.707Z"
   },
   {
    "duration": 5,
    "start_time": "2021-09-20T05:38:23.715Z"
   },
   {
    "duration": 26,
    "start_time": "2021-09-20T05:38:23.722Z"
   },
   {
    "duration": 5,
    "start_time": "2021-09-20T05:38:23.749Z"
   },
   {
    "duration": 451,
    "start_time": "2021-09-20T05:38:23.756Z"
   },
   {
    "duration": 19,
    "start_time": "2021-09-20T05:38:24.209Z"
   },
   {
    "duration": 34,
    "start_time": "2021-09-20T05:38:24.229Z"
   },
   {
    "duration": 10,
    "start_time": "2021-09-20T05:38:24.265Z"
   },
   {
    "duration": 15,
    "start_time": "2021-09-20T05:38:24.276Z"
   },
   {
    "duration": 27,
    "start_time": "2021-09-20T05:38:24.293Z"
   },
   {
    "duration": 25,
    "start_time": "2021-09-20T05:38:24.322Z"
   },
   {
    "duration": 97,
    "start_time": "2021-09-20T05:38:24.348Z"
   },
   {
    "duration": 315,
    "start_time": "2021-09-20T05:38:24.447Z"
   },
   {
    "duration": 28,
    "start_time": "2021-09-20T05:38:24.763Z"
   },
   {
    "duration": 133,
    "start_time": "2021-09-20T05:38:24.793Z"
   },
   {
    "duration": 68,
    "start_time": "2021-09-20T05:38:24.928Z"
   },
   {
    "duration": 127,
    "start_time": "2021-09-20T05:38:24.998Z"
   },
   {
    "duration": 33,
    "start_time": "2021-09-20T05:38:25.127Z"
   },
   {
    "duration": 120,
    "start_time": "2021-09-20T05:38:25.246Z"
   },
   {
    "duration": 76,
    "start_time": "2021-09-20T05:38:25.368Z"
   },
   {
    "duration": 258,
    "start_time": "2021-09-20T05:38:25.446Z"
   },
   {
    "duration": 1257,
    "start_time": "2021-09-20T05:38:25.706Z"
   },
   {
    "duration": 244,
    "start_time": "2021-09-20T05:39:17.017Z"
   },
   {
    "duration": 246,
    "start_time": "2021-09-20T05:39:35.720Z"
   },
   {
    "duration": 1677,
    "start_time": "2021-09-20T05:41:02.011Z"
   },
   {
    "duration": 2469,
    "start_time": "2021-09-20T05:42:44.004Z"
   },
   {
    "duration": 2479,
    "start_time": "2021-09-20T05:43:16.221Z"
   },
   {
    "duration": 2272,
    "start_time": "2021-09-20T05:46:45.662Z"
   },
   {
    "duration": 4807,
    "start_time": "2021-09-20T06:05:55.021Z"
   },
   {
    "duration": 5,
    "start_time": "2021-09-20T06:05:59.830Z"
   },
   {
    "duration": 850,
    "start_time": "2021-09-20T06:05:59.836Z"
   },
   {
    "duration": 18,
    "start_time": "2021-09-20T06:06:00.687Z"
   },
   {
    "duration": 6,
    "start_time": "2021-09-20T06:06:00.706Z"
   },
   {
    "duration": 24,
    "start_time": "2021-09-20T06:06:00.714Z"
   },
   {
    "duration": 26,
    "start_time": "2021-09-20T06:06:00.739Z"
   },
   {
    "duration": 222,
    "start_time": "2021-09-20T06:06:00.767Z"
   },
   {
    "duration": 13,
    "start_time": "2021-09-20T06:06:00.991Z"
   },
   {
    "duration": 56,
    "start_time": "2021-09-20T06:06:01.006Z"
   },
   {
    "duration": 216,
    "start_time": "2021-09-20T06:06:01.064Z"
   },
   {
    "duration": 4,
    "start_time": "2021-09-20T06:06:01.282Z"
   },
   {
    "duration": 42,
    "start_time": "2021-09-20T06:06:01.287Z"
   },
   {
    "duration": 37,
    "start_time": "2021-09-20T06:06:01.331Z"
   },
   {
    "duration": 38,
    "start_time": "2021-09-20T06:06:01.369Z"
   },
   {
    "duration": 76,
    "start_time": "2021-09-20T06:06:01.408Z"
   },
   {
    "duration": 8,
    "start_time": "2021-09-20T06:06:01.485Z"
   },
   {
    "duration": 20,
    "start_time": "2021-09-20T06:06:01.494Z"
   },
   {
    "duration": 25,
    "start_time": "2021-09-20T06:06:01.515Z"
   },
   {
    "duration": 17,
    "start_time": "2021-09-20T06:06:01.542Z"
   },
   {
    "duration": 16,
    "start_time": "2021-09-20T06:06:01.561Z"
   },
   {
    "duration": 446,
    "start_time": "2021-09-20T06:06:01.579Z"
   },
   {
    "duration": 27,
    "start_time": "2021-09-20T06:06:02.030Z"
   },
   {
    "duration": 22,
    "start_time": "2021-09-20T06:06:02.059Z"
   },
   {
    "duration": 11,
    "start_time": "2021-09-20T06:06:02.083Z"
   },
   {
    "duration": 32,
    "start_time": "2021-09-20T06:06:02.096Z"
   },
   {
    "duration": 53,
    "start_time": "2021-09-20T06:06:02.129Z"
   },
   {
    "duration": 6,
    "start_time": "2021-09-20T06:06:02.183Z"
   },
   {
    "duration": 55,
    "start_time": "2021-09-20T06:06:02.190Z"
   },
   {
    "duration": 385,
    "start_time": "2021-09-20T06:06:02.247Z"
   },
   {
    "duration": 33,
    "start_time": "2021-09-20T06:06:02.633Z"
   },
   {
    "duration": 131,
    "start_time": "2021-09-20T06:06:02.668Z"
   },
   {
    "duration": 77,
    "start_time": "2021-09-20T06:06:02.801Z"
   },
   {
    "duration": 121,
    "start_time": "2021-09-20T06:06:02.880Z"
   },
   {
    "duration": 44,
    "start_time": "2021-09-20T06:06:03.003Z"
   },
   {
    "duration": 122,
    "start_time": "2021-09-20T06:06:03.049Z"
   },
   {
    "duration": 65,
    "start_time": "2021-09-20T06:06:03.244Z"
   },
   {
    "duration": 263,
    "start_time": "2021-09-20T06:06:03.311Z"
   },
   {
    "duration": 1704,
    "start_time": "2021-09-20T06:06:03.576Z"
   },
   {
    "duration": 2577,
    "start_time": "2021-09-20T06:06:05.282Z"
   },
   {
    "duration": 2202,
    "start_time": "2021-09-20T06:06:07.861Z"
   },
   {
    "duration": 4,
    "start_time": "2021-09-20T06:06:10.064Z"
   },
   {
    "duration": 86,
    "start_time": "2021-09-20T06:06:10.069Z"
   },
   {
    "duration": 305,
    "start_time": "2021-09-20T06:06:10.245Z"
   },
   {
    "duration": 45,
    "start_time": "2021-09-20T06:06:10.552Z"
   },
   {
    "duration": 130,
    "start_time": "2021-09-20T06:06:10.599Z"
   },
   {
    "duration": 119,
    "start_time": "2021-09-20T06:06:10.731Z"
   },
   {
    "duration": 129,
    "start_time": "2021-09-20T06:06:10.851Z"
   },
   {
    "duration": 108,
    "start_time": "2021-09-20T06:06:10.981Z"
   },
   {
    "duration": 201,
    "start_time": "2021-09-20T06:08:18.982Z"
   },
   {
    "duration": 261,
    "start_time": "2021-09-20T06:10:04.855Z"
   },
   {
    "duration": 5492,
    "start_time": "2021-09-20T06:10:13.025Z"
   },
   {
    "duration": 4,
    "start_time": "2021-09-20T06:10:18.520Z"
   },
   {
    "duration": 192,
    "start_time": "2021-09-20T06:10:18.526Z"
   },
   {
    "duration": 20,
    "start_time": "2021-09-20T06:10:18.720Z"
   },
   {
    "duration": 6,
    "start_time": "2021-09-20T06:10:18.742Z"
   },
   {
    "duration": 9,
    "start_time": "2021-09-20T06:10:18.750Z"
   },
   {
    "duration": 22,
    "start_time": "2021-09-20T06:10:18.761Z"
   },
   {
    "duration": 364,
    "start_time": "2021-09-20T06:10:18.786Z"
   },
   {
    "duration": 15,
    "start_time": "2021-09-20T06:10:19.153Z"
   },
   {
    "duration": 46,
    "start_time": "2021-09-20T06:10:19.170Z"
   },
   {
    "duration": 253,
    "start_time": "2021-09-20T06:10:19.218Z"
   },
   {
    "duration": 4,
    "start_time": "2021-09-20T06:10:19.473Z"
   },
   {
    "duration": 22,
    "start_time": "2021-09-20T06:10:19.479Z"
   },
   {
    "duration": 11,
    "start_time": "2021-09-20T06:10:19.503Z"
   },
   {
    "duration": 36,
    "start_time": "2021-09-20T06:10:19.516Z"
   },
   {
    "duration": 70,
    "start_time": "2021-09-20T06:10:19.554Z"
   },
   {
    "duration": 19,
    "start_time": "2021-09-20T06:10:19.626Z"
   },
   {
    "duration": 6,
    "start_time": "2021-09-20T06:10:19.646Z"
   },
   {
    "duration": 6,
    "start_time": "2021-09-20T06:10:19.654Z"
   },
   {
    "duration": 15,
    "start_time": "2021-09-20T06:10:19.662Z"
   },
   {
    "duration": 9,
    "start_time": "2021-09-20T06:10:19.678Z"
   },
   {
    "duration": 435,
    "start_time": "2021-09-20T06:10:19.689Z"
   },
   {
    "duration": 28,
    "start_time": "2021-09-20T06:10:20.128Z"
   },
   {
    "duration": 23,
    "start_time": "2021-09-20T06:10:20.158Z"
   },
   {
    "duration": 10,
    "start_time": "2021-09-20T06:10:20.183Z"
   },
   {
    "duration": 19,
    "start_time": "2021-09-20T06:10:20.194Z"
   },
   {
    "duration": 49,
    "start_time": "2021-09-20T06:10:20.215Z"
   },
   {
    "duration": 6,
    "start_time": "2021-09-20T06:10:20.266Z"
   },
   {
    "duration": 17,
    "start_time": "2021-09-20T06:10:20.274Z"
   },
   {
    "duration": 378,
    "start_time": "2021-09-20T06:10:20.345Z"
   },
   {
    "duration": 36,
    "start_time": "2021-09-20T06:10:20.725Z"
   },
   {
    "duration": 127,
    "start_time": "2021-09-20T06:10:20.763Z"
   },
   {
    "duration": 73,
    "start_time": "2021-09-20T06:10:20.891Z"
   },
   {
    "duration": 117,
    "start_time": "2021-09-20T06:10:20.966Z"
   },
   {
    "duration": 18,
    "start_time": "2021-09-20T06:10:21.085Z"
   },
   {
    "duration": 117,
    "start_time": "2021-09-20T06:10:21.145Z"
   },
   {
    "duration": 80,
    "start_time": "2021-09-20T06:10:21.264Z"
   },
   {
    "duration": 261,
    "start_time": "2021-09-20T06:10:21.346Z"
   },
   {
    "duration": 1730,
    "start_time": "2021-09-20T06:10:21.608Z"
   },
   {
    "duration": 2447,
    "start_time": "2021-09-20T06:10:23.344Z"
   },
   {
    "duration": 2188,
    "start_time": "2021-09-20T06:10:25.793Z"
   },
   {
    "duration": 3,
    "start_time": "2021-09-20T06:10:27.983Z"
   },
   {
    "duration": 59,
    "start_time": "2021-09-20T06:10:27.988Z"
   },
   {
    "duration": 348,
    "start_time": "2021-09-20T06:10:28.050Z"
   },
   {
    "duration": 57,
    "start_time": "2021-09-20T06:10:28.400Z"
   },
   {
    "duration": 130,
    "start_time": "2021-09-20T06:10:28.459Z"
   },
   {
    "duration": 126,
    "start_time": "2021-09-20T06:10:28.591Z"
   },
   {
    "duration": 133,
    "start_time": "2021-09-20T06:10:28.719Z"
   },
   {
    "duration": 187,
    "start_time": "2021-09-20T06:10:28.854Z"
   },
   {
    "duration": 4,
    "start_time": "2021-09-20T06:10:29.042Z"
   },
   {
    "duration": 30,
    "start_time": "2021-09-20T06:10:29.047Z"
   },
   {
    "duration": 349,
    "start_time": "2021-09-20T06:10:29.145Z"
   },
   {
    "duration": 15,
    "start_time": "2021-09-20T06:10:29.496Z"
   },
   {
    "duration": 123,
    "start_time": "2021-09-20T06:10:29.513Z"
   },
   {
    "duration": 33,
    "start_time": "2021-09-20T06:10:29.637Z"
   },
   {
    "duration": 126,
    "start_time": "2021-09-20T06:10:29.672Z"
   },
   {
    "duration": 52,
    "start_time": "2021-09-20T06:10:29.799Z"
   },
   {
    "duration": 129,
    "start_time": "2021-09-20T06:12:20.591Z"
   },
   {
    "duration": 4929,
    "start_time": "2021-09-20T06:12:36.372Z"
   },
   {
    "duration": 5,
    "start_time": "2021-09-20T06:12:41.303Z"
   },
   {
    "duration": 221,
    "start_time": "2021-09-20T06:12:41.310Z"
   },
   {
    "duration": 18,
    "start_time": "2021-09-20T06:12:41.533Z"
   },
   {
    "duration": 10,
    "start_time": "2021-09-20T06:12:41.552Z"
   },
   {
    "duration": 20,
    "start_time": "2021-09-20T06:12:41.563Z"
   },
   {
    "duration": 25,
    "start_time": "2021-09-20T06:12:41.585Z"
   },
   {
    "duration": 676,
    "start_time": "2021-09-20T06:12:41.612Z"
   },
   {
    "duration": -317,
    "start_time": "2021-09-20T06:12:42.608Z"
   },
   {
    "duration": -324,
    "start_time": "2021-09-20T06:12:42.616Z"
   },
   {
    "duration": -342,
    "start_time": "2021-09-20T06:12:42.635Z"
   },
   {
    "duration": -358,
    "start_time": "2021-09-20T06:12:42.652Z"
   },
   {
    "duration": -374,
    "start_time": "2021-09-20T06:12:42.669Z"
   },
   {
    "duration": -387,
    "start_time": "2021-09-20T06:12:42.683Z"
   },
   {
    "duration": -402,
    "start_time": "2021-09-20T06:12:42.699Z"
   },
   {
    "duration": -417,
    "start_time": "2021-09-20T06:12:42.715Z"
   },
   {
    "duration": -434,
    "start_time": "2021-09-20T06:12:42.733Z"
   },
   {
    "duration": -448,
    "start_time": "2021-09-20T06:12:42.748Z"
   },
   {
    "duration": -867,
    "start_time": "2021-09-20T06:12:43.168Z"
   },
   {
    "duration": -876,
    "start_time": "2021-09-20T06:12:43.178Z"
   },
   {
    "duration": -887,
    "start_time": "2021-09-20T06:12:43.190Z"
   },
   {
    "duration": -895,
    "start_time": "2021-09-20T06:12:43.199Z"
   },
   {
    "duration": -905,
    "start_time": "2021-09-20T06:12:43.209Z"
   },
   {
    "duration": -912,
    "start_time": "2021-09-20T06:12:43.217Z"
   },
   {
    "duration": -921,
    "start_time": "2021-09-20T06:12:43.227Z"
   },
   {
    "duration": -928,
    "start_time": "2021-09-20T06:12:43.235Z"
   },
   {
    "duration": -936,
    "start_time": "2021-09-20T06:12:43.244Z"
   },
   {
    "duration": -943,
    "start_time": "2021-09-20T06:12:43.252Z"
   },
   {
    "duration": -952,
    "start_time": "2021-09-20T06:12:43.262Z"
   },
   {
    "duration": -960,
    "start_time": "2021-09-20T06:12:43.271Z"
   },
   {
    "duration": -968,
    "start_time": "2021-09-20T06:12:43.280Z"
   },
   {
    "duration": -975,
    "start_time": "2021-09-20T06:12:43.288Z"
   },
   {
    "duration": -985,
    "start_time": "2021-09-20T06:12:43.298Z"
   },
   {
    "duration": -992,
    "start_time": "2021-09-20T06:12:43.306Z"
   },
   {
    "duration": -1001,
    "start_time": "2021-09-20T06:12:43.316Z"
   },
   {
    "duration": -1008,
    "start_time": "2021-09-20T06:12:43.324Z"
   },
   {
    "duration": -1018,
    "start_time": "2021-09-20T06:12:43.335Z"
   },
   {
    "duration": -1026,
    "start_time": "2021-09-20T06:12:43.344Z"
   },
   {
    "duration": -1034,
    "start_time": "2021-09-20T06:12:43.353Z"
   },
   {
    "duration": -1042,
    "start_time": "2021-09-20T06:12:43.362Z"
   },
   {
    "duration": -1028,
    "start_time": "2021-09-20T06:12:43.372Z"
   },
   {
    "duration": -1035,
    "start_time": "2021-09-20T06:12:43.380Z"
   },
   {
    "duration": -1045,
    "start_time": "2021-09-20T06:12:43.391Z"
   },
   {
    "duration": -1052,
    "start_time": "2021-09-20T06:12:43.399Z"
   },
   {
    "duration": -1061,
    "start_time": "2021-09-20T06:12:43.409Z"
   },
   {
    "duration": -1069,
    "start_time": "2021-09-20T06:12:43.418Z"
   },
   {
    "duration": -1077,
    "start_time": "2021-09-20T06:12:43.427Z"
   },
   {
    "duration": -1320,
    "start_time": "2021-09-20T06:12:43.670Z"
   },
   {
    "duration": -2076,
    "start_time": "2021-09-20T06:12:44.427Z"
   },
   {
    "duration": -2182,
    "start_time": "2021-09-20T06:12:44.534Z"
   },
   {
    "duration": -2191,
    "start_time": "2021-09-20T06:12:44.544Z"
   },
   {
    "duration": -2199,
    "start_time": "2021-09-20T06:12:44.553Z"
   },
   {
    "duration": -2208,
    "start_time": "2021-09-20T06:12:44.563Z"
   },
   {
    "duration": -2216,
    "start_time": "2021-09-20T06:12:44.572Z"
   },
   {
    "duration": -2225,
    "start_time": "2021-09-20T06:12:44.582Z"
   },
   {
    "duration": -2233,
    "start_time": "2021-09-20T06:12:44.591Z"
   },
   {
    "duration": -2242,
    "start_time": "2021-09-20T06:12:44.601Z"
   },
   {
    "duration": -2252,
    "start_time": "2021-09-20T06:12:44.612Z"
   },
   {
    "duration": -2261,
    "start_time": "2021-09-20T06:12:44.622Z"
   },
   {
    "duration": -2269,
    "start_time": "2021-09-20T06:12:44.631Z"
   },
   {
    "duration": 4506,
    "start_time": "2021-09-20T06:12:45.401Z"
   },
   {
    "duration": 4,
    "start_time": "2021-09-20T06:12:49.909Z"
   },
   {
    "duration": 209,
    "start_time": "2021-09-20T06:12:49.916Z"
   },
   {
    "duration": 18,
    "start_time": "2021-09-20T06:12:50.127Z"
   },
   {
    "duration": 6,
    "start_time": "2021-09-20T06:12:50.147Z"
   },
   {
    "duration": 26,
    "start_time": "2021-09-20T06:12:50.155Z"
   },
   {
    "duration": 24,
    "start_time": "2021-09-20T06:12:50.182Z"
   },
   {
    "duration": 216,
    "start_time": "2021-09-20T06:12:50.209Z"
   },
   {
    "duration": 18,
    "start_time": "2021-09-20T06:12:50.427Z"
   },
   {
    "duration": 127,
    "start_time": "2021-09-20T06:12:50.447Z"
   },
   {
    "duration": 215,
    "start_time": "2021-09-20T06:12:50.576Z"
   },
   {
    "duration": 4,
    "start_time": "2021-09-20T06:12:50.793Z"
   },
   {
    "duration": 36,
    "start_time": "2021-09-20T06:12:50.799Z"
   },
   {
    "duration": 19,
    "start_time": "2021-09-20T06:12:50.836Z"
   },
   {
    "duration": 19,
    "start_time": "2021-09-20T06:12:50.857Z"
   },
   {
    "duration": 77,
    "start_time": "2021-09-20T06:12:50.878Z"
   },
   {
    "duration": 7,
    "start_time": "2021-09-20T06:12:50.957Z"
   },
   {
    "duration": 24,
    "start_time": "2021-09-20T06:12:50.965Z"
   },
   {
    "duration": 18,
    "start_time": "2021-09-20T06:12:50.991Z"
   },
   {
    "duration": 22,
    "start_time": "2021-09-20T06:12:51.011Z"
   },
   {
    "duration": 9,
    "start_time": "2021-09-20T06:12:51.035Z"
   },
   {
    "duration": 430,
    "start_time": "2021-09-20T06:12:51.046Z"
   },
   {
    "duration": 19,
    "start_time": "2021-09-20T06:12:51.479Z"
   },
   {
    "duration": 26,
    "start_time": "2021-09-20T06:12:51.500Z"
   },
   {
    "duration": 23,
    "start_time": "2021-09-20T06:12:51.528Z"
   },
   {
    "duration": 19,
    "start_time": "2021-09-20T06:12:51.552Z"
   },
   {
    "duration": 28,
    "start_time": "2021-09-20T06:12:51.573Z"
   },
   {
    "duration": 7,
    "start_time": "2021-09-20T06:12:51.602Z"
   },
   {
    "duration": 38,
    "start_time": "2021-09-20T06:12:51.610Z"
   },
   {
    "duration": 393,
    "start_time": "2021-09-20T06:12:51.651Z"
   },
   {
    "duration": 29,
    "start_time": "2021-09-20T06:12:52.046Z"
   },
   {
    "duration": 136,
    "start_time": "2021-09-20T06:12:52.077Z"
   },
   {
    "duration": 72,
    "start_time": "2021-09-20T06:12:52.215Z"
   },
   {
    "duration": 121,
    "start_time": "2021-09-20T06:12:52.289Z"
   },
   {
    "duration": 42,
    "start_time": "2021-09-20T06:12:52.411Z"
   },
   {
    "duration": 117,
    "start_time": "2021-09-20T06:12:52.543Z"
   },
   {
    "duration": 62,
    "start_time": "2021-09-20T06:12:52.662Z"
   },
   {
    "duration": 264,
    "start_time": "2021-09-20T06:12:52.725Z"
   },
   {
    "duration": 1701,
    "start_time": "2021-09-20T06:12:52.991Z"
   },
   {
    "duration": 2467,
    "start_time": "2021-09-20T06:12:54.693Z"
   },
   {
    "duration": 2201,
    "start_time": "2021-09-20T06:12:57.162Z"
   },
   {
    "duration": 3,
    "start_time": "2021-09-20T06:12:59.365Z"
   },
   {
    "duration": 80,
    "start_time": "2021-09-20T06:12:59.369Z"
   },
   {
    "duration": 305,
    "start_time": "2021-09-20T06:12:59.451Z"
   },
   {
    "duration": 47,
    "start_time": "2021-09-20T06:12:59.758Z"
   },
   {
    "duration": 130,
    "start_time": "2021-09-20T06:12:59.806Z"
   },
   {
    "duration": 123,
    "start_time": "2021-09-20T06:12:59.938Z"
   },
   {
    "duration": 130,
    "start_time": "2021-09-20T06:13:00.063Z"
   },
   {
    "duration": 207,
    "start_time": "2021-09-20T06:13:00.195Z"
   },
   {
    "duration": 5,
    "start_time": "2021-09-20T06:13:00.404Z"
   },
   {
    "duration": 136,
    "start_time": "2021-09-20T06:13:00.410Z"
   },
   {
    "duration": 311,
    "start_time": "2021-09-20T06:13:00.548Z"
   },
   {
    "duration": 13,
    "start_time": "2021-09-20T06:13:00.861Z"
   },
   {
    "duration": 201,
    "start_time": "2021-09-20T06:13:00.875Z"
   },
   {
    "duration": 30,
    "start_time": "2021-09-20T06:13:01.078Z"
   },
   {
    "duration": 135,
    "start_time": "2021-09-20T06:13:01.109Z"
   },
   {
    "duration": 45,
    "start_time": "2021-09-20T06:13:01.246Z"
   },
   {
    "duration": 165,
    "start_time": "2021-09-20T06:13:01.292Z"
   },
   {
    "duration": 50,
    "start_time": "2021-09-20T06:13:01.458Z"
   },
   {
    "duration": 114,
    "start_time": "2021-09-20T06:13:01.510Z"
   },
   {
    "duration": 148,
    "start_time": "2021-09-20T06:13:01.626Z"
   },
   {
    "duration": 136,
    "start_time": "2021-09-20T06:18:41.736Z"
   },
   {
    "duration": 5329,
    "start_time": "2021-09-20T06:34:05.450Z"
   },
   {
    "duration": 5,
    "start_time": "2021-09-20T06:34:10.781Z"
   },
   {
    "duration": 358,
    "start_time": "2021-09-20T06:34:10.788Z"
   },
   {
    "duration": 19,
    "start_time": "2021-09-20T06:34:11.148Z"
   },
   {
    "duration": 7,
    "start_time": "2021-09-20T06:34:11.169Z"
   },
   {
    "duration": 5,
    "start_time": "2021-09-20T06:34:11.177Z"
   },
   {
    "duration": 20,
    "start_time": "2021-09-20T06:34:11.183Z"
   },
   {
    "duration": 249,
    "start_time": "2021-09-20T06:34:11.205Z"
   },
   {
    "duration": 15,
    "start_time": "2021-09-20T06:34:11.457Z"
   },
   {
    "duration": 43,
    "start_time": "2021-09-20T06:34:11.473Z"
   },
   {
    "duration": 273,
    "start_time": "2021-09-20T06:34:11.518Z"
   },
   {
    "duration": 4,
    "start_time": "2021-09-20T06:34:11.793Z"
   },
   {
    "duration": 20,
    "start_time": "2021-09-20T06:34:11.798Z"
   },
   {
    "duration": 25,
    "start_time": "2021-09-20T06:34:11.820Z"
   },
   {
    "duration": 15,
    "start_time": "2021-09-20T06:34:11.846Z"
   },
   {
    "duration": 89,
    "start_time": "2021-09-20T06:34:11.862Z"
   },
   {
    "duration": 7,
    "start_time": "2021-09-20T06:34:11.953Z"
   },
   {
    "duration": 15,
    "start_time": "2021-09-20T06:34:11.962Z"
   },
   {
    "duration": 15,
    "start_time": "2021-09-20T06:34:11.978Z"
   },
   {
    "duration": 14,
    "start_time": "2021-09-20T06:34:11.995Z"
   },
   {
    "duration": 14,
    "start_time": "2021-09-20T06:34:12.010Z"
   },
   {
    "duration": 663,
    "start_time": "2021-09-20T06:34:12.026Z"
   },
   {
    "duration": 19,
    "start_time": "2021-09-20T06:34:12.692Z"
   },
   {
    "duration": 41,
    "start_time": "2021-09-20T06:34:12.713Z"
   },
   {
    "duration": 12,
    "start_time": "2021-09-20T06:34:12.756Z"
   },
   {
    "duration": 17,
    "start_time": "2021-09-20T06:34:12.769Z"
   },
   {
    "duration": 30,
    "start_time": "2021-09-20T06:34:12.788Z"
   },
   {
    "duration": 28,
    "start_time": "2021-09-20T06:34:12.819Z"
   },
   {
    "duration": 96,
    "start_time": "2021-09-20T06:34:12.849Z"
   },
   {
    "duration": 306,
    "start_time": "2021-09-20T06:34:12.948Z"
   },
   {
    "duration": 28,
    "start_time": "2021-09-20T06:34:13.256Z"
   },
   {
    "duration": 127,
    "start_time": "2021-09-20T06:34:13.286Z"
   },
   {
    "duration": 73,
    "start_time": "2021-09-20T06:34:13.414Z"
   },
   {
    "duration": 124,
    "start_time": "2021-09-20T06:34:13.489Z"
   },
   {
    "duration": 33,
    "start_time": "2021-09-20T06:34:13.614Z"
   },
   {
    "duration": 210,
    "start_time": "2021-09-20T06:34:13.649Z"
   },
   {
    "duration": 67,
    "start_time": "2021-09-20T06:34:13.861Z"
   },
   {
    "duration": 276,
    "start_time": "2021-09-20T06:34:13.944Z"
   },
   {
    "duration": 34647,
    "start_time": "2021-09-20T06:34:14.222Z"
   },
   {
    "duration": 33940,
    "start_time": "2021-09-20T06:36:42.823Z"
   },
   {
    "duration": 36092,
    "start_time": "2021-09-20T06:38:37.782Z"
   },
   {
    "duration": 114371,
    "start_time": "2021-09-20T06:39:41.336Z"
   },
   {
    "duration": 5301,
    "start_time": "2021-09-20T06:42:22.592Z"
   },
   {
    "duration": 4,
    "start_time": "2021-09-20T06:42:27.895Z"
   },
   {
    "duration": 229,
    "start_time": "2021-09-20T06:42:27.901Z"
   },
   {
    "duration": 19,
    "start_time": "2021-09-20T06:42:28.132Z"
   },
   {
    "duration": 6,
    "start_time": "2021-09-20T06:42:28.152Z"
   },
   {
    "duration": 7,
    "start_time": "2021-09-20T06:42:28.160Z"
   },
   {
    "duration": 16,
    "start_time": "2021-09-20T06:42:28.168Z"
   },
   {
    "duration": 239,
    "start_time": "2021-09-20T06:42:28.186Z"
   },
   {
    "duration": 22,
    "start_time": "2021-09-20T06:42:28.427Z"
   },
   {
    "duration": 42,
    "start_time": "2021-09-20T06:42:28.451Z"
   },
   {
    "duration": 234,
    "start_time": "2021-09-20T06:42:28.494Z"
   },
   {
    "duration": 4,
    "start_time": "2021-09-20T06:42:28.730Z"
   },
   {
    "duration": 26,
    "start_time": "2021-09-20T06:42:28.736Z"
   },
   {
    "duration": 11,
    "start_time": "2021-09-20T06:42:28.763Z"
   },
   {
    "duration": 15,
    "start_time": "2021-09-20T06:42:28.775Z"
   },
   {
    "duration": 86,
    "start_time": "2021-09-20T06:42:28.792Z"
   },
   {
    "duration": 7,
    "start_time": "2021-09-20T06:42:28.880Z"
   },
   {
    "duration": 5,
    "start_time": "2021-09-20T06:42:28.889Z"
   },
   {
    "duration": 3,
    "start_time": "2021-09-20T06:42:28.896Z"
   },
   {
    "duration": 7,
    "start_time": "2021-09-20T06:42:28.901Z"
   },
   {
    "duration": 5,
    "start_time": "2021-09-20T06:42:28.909Z"
   },
   {
    "duration": 481,
    "start_time": "2021-09-20T06:42:28.916Z"
   },
   {
    "duration": 21,
    "start_time": "2021-09-20T06:42:29.400Z"
   },
   {
    "duration": 40,
    "start_time": "2021-09-20T06:42:29.423Z"
   },
   {
    "duration": 10,
    "start_time": "2021-09-20T06:42:29.465Z"
   },
   {
    "duration": 17,
    "start_time": "2021-09-20T06:42:29.477Z"
   },
   {
    "duration": 30,
    "start_time": "2021-09-20T06:42:29.496Z"
   },
   {
    "duration": 7,
    "start_time": "2021-09-20T06:42:29.544Z"
   },
   {
    "duration": 17,
    "start_time": "2021-09-20T06:42:29.552Z"
   },
   {
    "duration": 350,
    "start_time": "2021-09-20T06:42:29.571Z"
   },
   {
    "duration": 38,
    "start_time": "2021-09-20T06:42:29.922Z"
   },
   {
    "duration": 139,
    "start_time": "2021-09-20T06:42:29.962Z"
   },
   {
    "duration": 79,
    "start_time": "2021-09-20T06:42:30.102Z"
   },
   {
    "duration": 122,
    "start_time": "2021-09-20T06:42:30.183Z"
   },
   {
    "duration": 39,
    "start_time": "2021-09-20T06:42:30.306Z"
   },
   {
    "duration": 127,
    "start_time": "2021-09-20T06:42:30.348Z"
   },
   {
    "duration": 130,
    "start_time": "2021-09-20T06:42:30.477Z"
   },
   {
    "duration": 277,
    "start_time": "2021-09-20T06:42:30.608Z"
   },
   {
    "duration": 39673,
    "start_time": "2021-09-20T06:42:30.887Z"
   },
   {
    "duration": 49072,
    "start_time": "2021-09-20T06:43:45.507Z"
   },
   {
    "duration": 36124,
    "start_time": "2021-09-20T06:45:22.711Z"
   },
   {
    "duration": 45230,
    "start_time": "2021-09-20T06:46:09.582Z"
   },
   {
    "duration": 83317,
    "start_time": "2021-09-20T06:47:24.667Z"
   },
   {
    "duration": 157483,
    "start_time": "2021-09-20T06:51:14.461Z"
   },
   {
    "duration": 3,
    "start_time": "2021-09-20T06:54:17.692Z"
   },
   {
    "duration": 45,
    "start_time": "2021-09-20T06:54:19.641Z"
   },
   {
    "duration": 301,
    "start_time": "2021-09-20T06:54:20.716Z"
   },
   {
    "duration": 47,
    "start_time": "2021-09-20T06:54:22.344Z"
   },
   {
    "duration": 121,
    "start_time": "2021-09-20T06:54:22.573Z"
   },
   {
    "duration": 110,
    "start_time": "2021-09-20T06:54:23.492Z"
   },
   {
    "duration": 127,
    "start_time": "2021-09-20T06:54:23.731Z"
   },
   {
    "duration": 91083,
    "start_time": "2021-09-20T06:54:25.634Z"
   },
   {
    "duration": 157825,
    "start_time": "2021-09-20T06:56:18.071Z"
   },
   {
    "duration": 258,
    "start_time": "2021-09-20T07:00:28.973Z"
   },
   {
    "duration": 3,
    "start_time": "2021-09-20T07:01:06.752Z"
   },
   {
    "duration": 37,
    "start_time": "2021-09-20T07:01:06.758Z"
   },
   {
    "duration": 353,
    "start_time": "2021-09-20T07:01:06.797Z"
   },
   {
    "duration": 12,
    "start_time": "2021-09-20T07:01:07.152Z"
   },
   {
    "duration": 123,
    "start_time": "2021-09-20T07:01:07.166Z"
   },
   {
    "duration": 30,
    "start_time": "2021-09-20T07:01:07.290Z"
   },
   {
    "duration": 135,
    "start_time": "2021-09-20T07:01:07.321Z"
   },
   {
    "duration": 38366,
    "start_time": "2021-09-20T07:01:07.458Z"
   },
   {
    "duration": 229,
    "start_time": "2021-09-20T07:01:45.826Z"
   },
   {
    "duration": 51,
    "start_time": "2021-09-20T07:01:46.057Z"
   },
   {
    "duration": 120,
    "start_time": "2021-09-20T07:01:46.109Z"
   },
   {
    "duration": 142,
    "start_time": "2021-09-20T07:01:46.231Z"
   },
   {
    "duration": 297,
    "start_time": "2021-09-20T07:01:46.374Z"
   },
   {
    "duration": 172,
    "start_time": "2021-09-20T07:01:46.672Z"
   },
   {
    "duration": 207,
    "start_time": "2021-09-20T07:01:46.846Z"
   },
   {
    "duration": 2303,
    "start_time": "2021-09-20T07:01:47.055Z"
   },
   {
    "duration": 4239,
    "start_time": "2021-09-20T07:01:49.360Z"
   },
   {
    "duration": 121,
    "start_time": "2021-09-20T07:01:53.601Z"
   },
   {
    "duration": 9,
    "start_time": "2021-09-20T07:01:53.723Z"
   },
   {
    "duration": 16,
    "start_time": "2021-09-20T07:01:53.733Z"
   },
   {
    "duration": 662,
    "start_time": "2021-09-20T07:01:53.751Z"
   },
   {
    "duration": 19,
    "start_time": "2021-09-20T07:01:54.415Z"
   },
   {
    "duration": 50009,
    "start_time": "2021-09-20T07:05:36.121Z"
   },
   {
    "duration": 38413,
    "start_time": "2021-09-20T07:07:45.182Z"
   },
   {
    "duration": 110510,
    "start_time": "2021-09-20T07:09:45.355Z"
   },
   {
    "duration": 39331,
    "start_time": "2021-09-20T07:13:58.426Z"
   },
   {
    "duration": 4658,
    "start_time": "2021-09-20T07:21:38.964Z"
   },
   {
    "duration": 5,
    "start_time": "2021-09-20T07:21:43.624Z"
   },
   {
    "duration": 300,
    "start_time": "2021-09-20T07:21:43.630Z"
   },
   {
    "duration": 17,
    "start_time": "2021-09-20T07:21:43.932Z"
   },
   {
    "duration": 13,
    "start_time": "2021-09-20T07:21:43.951Z"
   },
   {
    "duration": 29,
    "start_time": "2021-09-20T07:21:43.965Z"
   },
   {
    "duration": 34,
    "start_time": "2021-09-20T07:21:43.996Z"
   },
   {
    "duration": 222,
    "start_time": "2021-09-20T07:21:44.032Z"
   },
   {
    "duration": 12,
    "start_time": "2021-09-20T07:21:44.256Z"
   },
   {
    "duration": 40,
    "start_time": "2021-09-20T07:21:44.270Z"
   },
   {
    "duration": 230,
    "start_time": "2021-09-20T07:21:44.311Z"
   },
   {
    "duration": 4,
    "start_time": "2021-09-20T07:21:44.544Z"
   },
   {
    "duration": 34,
    "start_time": "2021-09-20T07:21:44.550Z"
   },
   {
    "duration": 13,
    "start_time": "2021-09-20T07:21:44.585Z"
   },
   {
    "duration": 39,
    "start_time": "2021-09-20T07:21:44.599Z"
   },
   {
    "duration": 79,
    "start_time": "2021-09-20T07:21:44.640Z"
   },
   {
    "duration": 7,
    "start_time": "2021-09-20T07:21:44.720Z"
   },
   {
    "duration": 13,
    "start_time": "2021-09-20T07:21:44.728Z"
   },
   {
    "duration": 18,
    "start_time": "2021-09-20T07:21:44.742Z"
   },
   {
    "duration": 28,
    "start_time": "2021-09-20T07:21:44.761Z"
   },
   {
    "duration": 18,
    "start_time": "2021-09-20T07:21:44.790Z"
   },
   {
    "duration": 428,
    "start_time": "2021-09-20T07:21:44.809Z"
   },
   {
    "duration": 21,
    "start_time": "2021-09-20T07:21:45.240Z"
   },
   {
    "duration": 23,
    "start_time": "2021-09-20T07:21:45.263Z"
   },
   {
    "duration": 10,
    "start_time": "2021-09-20T07:21:45.288Z"
   },
   {
    "duration": 25,
    "start_time": "2021-09-20T07:21:45.300Z"
   },
   {
    "duration": 45,
    "start_time": "2021-09-20T07:21:45.327Z"
   },
   {
    "duration": 9,
    "start_time": "2021-09-20T07:21:45.373Z"
   },
   {
    "duration": 61,
    "start_time": "2021-09-20T07:21:45.384Z"
   },
   {
    "duration": 345,
    "start_time": "2021-09-20T07:21:45.448Z"
   },
   {
    "duration": 27,
    "start_time": "2021-09-20T07:21:45.795Z"
   },
   {
    "duration": 202,
    "start_time": "2021-09-20T07:21:45.824Z"
   },
   {
    "duration": 73,
    "start_time": "2021-09-20T07:21:46.028Z"
   },
   {
    "duration": 121,
    "start_time": "2021-09-20T07:21:46.103Z"
   },
   {
    "duration": 30,
    "start_time": "2021-09-20T07:21:46.226Z"
   },
   {
    "duration": 198,
    "start_time": "2021-09-20T07:21:46.258Z"
   },
   {
    "duration": 61,
    "start_time": "2021-09-20T07:21:46.458Z"
   },
   {
    "duration": 266,
    "start_time": "2021-09-20T07:21:46.520Z"
   },
   {
    "duration": 85099,
    "start_time": "2021-09-20T07:21:46.788Z"
   },
   {
    "duration": 5,
    "start_time": "2021-09-20T07:23:11.889Z"
   },
   {
    "duration": 60,
    "start_time": "2021-09-20T07:23:11.895Z"
   },
   {
    "duration": 394,
    "start_time": "2021-09-20T07:23:11.957Z"
   },
   {
    "duration": 47,
    "start_time": "2021-09-20T07:23:12.353Z"
   },
   {
    "duration": 137,
    "start_time": "2021-09-20T07:23:12.402Z"
   },
   {
    "duration": 123,
    "start_time": "2021-09-20T07:23:12.540Z"
   },
   {
    "duration": 134,
    "start_time": "2021-09-20T07:23:12.664Z"
   },
   {
    "duration": 157539,
    "start_time": "2021-09-20T07:23:12.800Z"
   },
   {
    "duration": 4,
    "start_time": "2021-09-20T07:25:50.344Z"
   },
   {
    "duration": 96,
    "start_time": "2021-09-20T07:25:50.349Z"
   },
   {
    "duration": 307,
    "start_time": "2021-09-20T07:25:50.448Z"
   },
   {
    "duration": 13,
    "start_time": "2021-09-20T07:25:50.757Z"
   },
   {
    "duration": 126,
    "start_time": "2021-09-20T07:25:50.771Z"
   },
   {
    "duration": 31,
    "start_time": "2021-09-20T07:25:50.898Z"
   },
   {
    "duration": 133,
    "start_time": "2021-09-20T07:25:50.930Z"
   },
   {
    "duration": 38592,
    "start_time": "2021-09-20T07:25:51.065Z"
   },
   {
    "duration": 214,
    "start_time": "2021-09-20T07:26:29.658Z"
   },
   {
    "duration": 84,
    "start_time": "2021-09-20T07:26:29.874Z"
   },
   {
    "duration": 147,
    "start_time": "2021-09-20T07:26:29.960Z"
   },
   {
    "duration": 90807,
    "start_time": "2021-09-20T07:26:30.108Z"
   },
   {
    "duration": 90597,
    "start_time": "2021-09-20T07:35:40.909Z"
   },
   {
    "duration": 157774,
    "start_time": "2021-09-20T08:17:21.076Z"
   },
   {
    "duration": 4949,
    "start_time": "2021-09-20T08:56:49.643Z"
   },
   {
    "duration": 6,
    "start_time": "2021-09-20T08:56:54.595Z"
   },
   {
    "duration": 251,
    "start_time": "2021-09-20T08:56:54.603Z"
   },
   {
    "duration": 20,
    "start_time": "2021-09-20T08:56:54.857Z"
   },
   {
    "duration": 7,
    "start_time": "2021-09-20T08:56:54.879Z"
   },
   {
    "duration": 19,
    "start_time": "2021-09-20T08:56:54.887Z"
   },
   {
    "duration": 20,
    "start_time": "2021-09-20T08:56:54.908Z"
   },
   {
    "duration": 259,
    "start_time": "2021-09-20T08:56:54.930Z"
   },
   {
    "duration": 14,
    "start_time": "2021-09-20T08:56:55.191Z"
   },
   {
    "duration": 68,
    "start_time": "2021-09-20T08:56:55.207Z"
   },
   {
    "duration": 254,
    "start_time": "2021-09-20T08:56:55.277Z"
   },
   {
    "duration": 11,
    "start_time": "2021-09-20T08:56:55.533Z"
   },
   {
    "duration": 33,
    "start_time": "2021-09-20T08:56:55.546Z"
   },
   {
    "duration": 13,
    "start_time": "2021-09-20T08:56:55.581Z"
   },
   {
    "duration": 20,
    "start_time": "2021-09-20T08:56:55.595Z"
   },
   {
    "duration": 89,
    "start_time": "2021-09-20T08:56:55.617Z"
   },
   {
    "duration": 8,
    "start_time": "2021-09-20T08:56:55.708Z"
   },
   {
    "duration": 16,
    "start_time": "2021-09-20T08:56:55.717Z"
   },
   {
    "duration": 25,
    "start_time": "2021-09-20T08:56:55.734Z"
   },
   {
    "duration": 18,
    "start_time": "2021-09-20T08:56:55.763Z"
   },
   {
    "duration": 11,
    "start_time": "2021-09-20T08:56:55.783Z"
   },
   {
    "duration": 522,
    "start_time": "2021-09-20T08:56:55.796Z"
   },
   {
    "duration": 35,
    "start_time": "2021-09-20T08:56:56.321Z"
   },
   {
    "duration": 33,
    "start_time": "2021-09-20T08:56:56.360Z"
   },
   {
    "duration": 15,
    "start_time": "2021-09-20T08:56:56.395Z"
   },
   {
    "duration": 43,
    "start_time": "2021-09-20T08:56:56.412Z"
   },
   {
    "duration": 45,
    "start_time": "2021-09-20T08:56:56.460Z"
   },
   {
    "duration": 7,
    "start_time": "2021-09-20T08:56:56.507Z"
   },
   {
    "duration": 49,
    "start_time": "2021-09-20T08:56:56.516Z"
   },
   {
    "duration": 365,
    "start_time": "2021-09-20T08:56:56.570Z"
   },
   {
    "duration": 35,
    "start_time": "2021-09-20T08:56:56.944Z"
   },
   {
    "duration": 139,
    "start_time": "2021-09-20T08:56:56.981Z"
   },
   {
    "duration": 83,
    "start_time": "2021-09-20T08:56:57.122Z"
   },
   {
    "duration": 140,
    "start_time": "2021-09-20T08:56:57.206Z"
   },
   {
    "duration": 96,
    "start_time": "2021-09-20T08:56:57.349Z"
   },
   {
    "duration": 124,
    "start_time": "2021-09-20T08:56:57.450Z"
   },
   {
    "duration": 86,
    "start_time": "2021-09-20T08:56:57.576Z"
   },
   {
    "duration": 274,
    "start_time": "2021-09-20T08:56:57.664Z"
   },
   {
    "duration": 96057,
    "start_time": "2021-09-20T08:56:57.945Z"
   },
   {
    "duration": -520,
    "start_time": "2021-09-20T08:58:34.524Z"
   },
   {
    "duration": -561,
    "start_time": "2021-09-20T08:58:34.566Z"
   },
   {
    "duration": -574,
    "start_time": "2021-09-20T08:58:34.580Z"
   },
   {
    "duration": -584,
    "start_time": "2021-09-20T08:58:34.590Z"
   },
   {
    "duration": -592,
    "start_time": "2021-09-20T08:58:34.599Z"
   },
   {
    "duration": -600,
    "start_time": "2021-09-20T08:58:34.608Z"
   },
   {
    "duration": -607,
    "start_time": "2021-09-20T08:58:34.616Z"
   },
   {
    "duration": -616,
    "start_time": "2021-09-20T08:58:34.626Z"
   },
   {
    "duration": -623,
    "start_time": "2021-09-20T08:58:34.634Z"
   },
   {
    "duration": -632,
    "start_time": "2021-09-20T08:58:34.644Z"
   },
   {
    "duration": -639,
    "start_time": "2021-09-20T08:58:34.652Z"
   },
   {
    "duration": -648,
    "start_time": "2021-09-20T08:58:34.662Z"
   },
   {
    "duration": -655,
    "start_time": "2021-09-20T08:58:34.670Z"
   },
   {
    "duration": -663,
    "start_time": "2021-09-20T08:58:34.679Z"
   },
   {
    "duration": -671,
    "start_time": "2021-09-20T08:58:34.688Z"
   },
   {
    "duration": -679,
    "start_time": "2021-09-20T08:58:34.697Z"
   },
   {
    "duration": -686,
    "start_time": "2021-09-20T08:58:34.705Z"
   },
   {
    "duration": -695,
    "start_time": "2021-09-20T08:58:34.715Z"
   },
   {
    "duration": -703,
    "start_time": "2021-09-20T08:58:34.724Z"
   },
   {
    "duration": -711,
    "start_time": "2021-09-20T08:58:34.733Z"
   },
   {
    "duration": -719,
    "start_time": "2021-09-20T08:58:34.741Z"
   },
   {
    "duration": -728,
    "start_time": "2021-09-20T08:58:34.751Z"
   },
   {
    "duration": -735,
    "start_time": "2021-09-20T08:58:34.759Z"
   },
   {
    "duration": -744,
    "start_time": "2021-09-20T08:58:34.769Z"
   },
   {
    "duration": -751,
    "start_time": "2021-09-20T08:58:34.777Z"
   },
   {
    "duration": -760,
    "start_time": "2021-09-20T08:58:34.787Z"
   },
   {
    "duration": -768,
    "start_time": "2021-09-20T08:58:34.795Z"
   },
   {
    "duration": -777,
    "start_time": "2021-09-20T08:58:34.805Z"
   },
   {
    "duration": -784,
    "start_time": "2021-09-20T08:58:34.813Z"
   },
   {
    "duration": 4514,
    "start_time": "2021-09-20T09:01:29.176Z"
   },
   {
    "duration": 4,
    "start_time": "2021-09-20T09:01:33.693Z"
   },
   {
    "duration": 237,
    "start_time": "2021-09-20T09:01:33.699Z"
   },
   {
    "duration": 20,
    "start_time": "2021-09-20T09:01:33.938Z"
   },
   {
    "duration": 6,
    "start_time": "2021-09-20T09:01:33.960Z"
   },
   {
    "duration": 4,
    "start_time": "2021-09-20T09:01:33.968Z"
   },
   {
    "duration": 13,
    "start_time": "2021-09-20T09:01:33.974Z"
   },
   {
    "duration": 248,
    "start_time": "2021-09-20T09:01:33.989Z"
   },
   {
    "duration": 14,
    "start_time": "2021-09-20T09:01:34.245Z"
   },
   {
    "duration": 43,
    "start_time": "2021-09-20T09:01:34.260Z"
   },
   {
    "duration": 230,
    "start_time": "2021-09-20T09:01:34.304Z"
   },
   {
    "duration": 11,
    "start_time": "2021-09-20T09:01:34.535Z"
   },
   {
    "duration": 21,
    "start_time": "2021-09-20T09:01:34.548Z"
   },
   {
    "duration": 11,
    "start_time": "2021-09-20T09:01:34.571Z"
   },
   {
    "duration": 15,
    "start_time": "2021-09-20T09:01:34.583Z"
   },
   {
    "duration": 91,
    "start_time": "2021-09-20T09:01:34.599Z"
   },
   {
    "duration": 7,
    "start_time": "2021-09-20T09:01:34.692Z"
   },
   {
    "duration": 6,
    "start_time": "2021-09-20T09:01:34.700Z"
   },
   {
    "duration": 8,
    "start_time": "2021-09-20T09:01:34.707Z"
   },
   {
    "duration": 9,
    "start_time": "2021-09-20T09:01:34.716Z"
   },
   {
    "duration": 19,
    "start_time": "2021-09-20T09:01:34.726Z"
   },
   {
    "duration": 442,
    "start_time": "2021-09-20T09:01:34.747Z"
   },
   {
    "duration": 19,
    "start_time": "2021-09-20T09:01:35.193Z"
   },
   {
    "duration": 36,
    "start_time": "2021-09-20T09:01:35.214Z"
   },
   {
    "duration": 11,
    "start_time": "2021-09-20T09:01:35.252Z"
   },
   {
    "duration": 18,
    "start_time": "2021-09-20T09:01:35.264Z"
   },
   {
    "duration": 33,
    "start_time": "2021-09-20T09:01:35.284Z"
   },
   {
    "duration": 7,
    "start_time": "2021-09-20T09:01:35.318Z"
   },
   {
    "duration": 19,
    "start_time": "2021-09-20T09:01:35.344Z"
   },
   {
    "duration": 476,
    "start_time": "2021-09-20T09:01:35.368Z"
   },
   {
    "duration": 29,
    "start_time": "2021-09-20T09:01:35.846Z"
   },
   {
    "duration": 132,
    "start_time": "2021-09-20T09:01:35.877Z"
   },
   {
    "duration": 71,
    "start_time": "2021-09-20T09:01:36.011Z"
   },
   {
    "duration": 124,
    "start_time": "2021-09-20T09:01:36.083Z"
   },
   {
    "duration": 37,
    "start_time": "2021-09-20T09:01:36.208Z"
   },
   {
    "duration": 203,
    "start_time": "2021-09-20T09:01:36.248Z"
   },
   {
    "duration": 63,
    "start_time": "2021-09-20T09:01:36.452Z"
   },
   {
    "duration": 266,
    "start_time": "2021-09-20T09:01:36.517Z"
   },
   {
    "duration": 86129,
    "start_time": "2021-09-20T09:01:36.785Z"
   },
   {
    "duration": 4,
    "start_time": "2021-09-20T09:03:02.915Z"
   },
   {
    "duration": 68,
    "start_time": "2021-09-20T09:03:02.920Z"
   },
   {
    "duration": 306,
    "start_time": "2021-09-20T09:03:03.044Z"
   },
   {
    "duration": 46,
    "start_time": "2021-09-20T09:03:03.352Z"
   },
   {
    "duration": 210,
    "start_time": "2021-09-20T09:03:03.400Z"
   },
   {
    "duration": 121,
    "start_time": "2021-09-20T09:03:03.612Z"
   },
   {
    "duration": 130,
    "start_time": "2021-09-20T09:03:03.735Z"
   },
   {
    "duration": 158705,
    "start_time": "2021-09-20T09:03:03.866Z"
   },
   {
    "duration": 4,
    "start_time": "2021-09-20T09:05:42.573Z"
   },
   {
    "duration": 68,
    "start_time": "2021-09-20T09:05:42.578Z"
   },
   {
    "duration": 348,
    "start_time": "2021-09-20T09:05:42.648Z"
   },
   {
    "duration": 13,
    "start_time": "2021-09-20T09:05:42.997Z"
   },
   {
    "duration": 125,
    "start_time": "2021-09-20T09:05:43.011Z"
   },
   {
    "duration": 34,
    "start_time": "2021-09-20T09:05:43.138Z"
   },
   {
    "duration": 131,
    "start_time": "2021-09-20T09:05:43.174Z"
   },
   {
    "duration": 40389,
    "start_time": "2021-09-20T09:05:43.307Z"
   },
   {
    "duration": 158,
    "start_time": "2021-09-20T09:06:23.698Z"
   },
   {
    "duration": 48,
    "start_time": "2021-09-20T09:06:23.858Z"
   },
   {
    "duration": 132,
    "start_time": "2021-09-20T09:06:23.907Z"
   },
   {
    "duration": 92061,
    "start_time": "2021-09-20T09:06:24.044Z"
   },
   {
    "duration": 377,
    "start_time": "2021-09-20T09:07:56.107Z"
   },
   {
    "duration": 179,
    "start_time": "2021-09-20T09:07:56.486Z"
   },
   {
    "duration": 215,
    "start_time": "2021-09-20T09:07:56.667Z"
   },
   {
    "duration": 2293,
    "start_time": "2021-09-20T09:07:56.884Z"
   },
   {
    "duration": 4279,
    "start_time": "2021-09-20T09:07:59.178Z"
   },
   {
    "duration": 29,
    "start_time": "2021-09-20T09:08:03.458Z"
   },
   {
    "duration": 30,
    "start_time": "2021-09-20T09:08:03.488Z"
   },
   {
    "duration": 39,
    "start_time": "2021-09-20T09:08:03.519Z"
   },
   {
    "duration": 25,
    "start_time": "2021-09-20T09:08:03.562Z"
   },
   {
    "duration": 3,
    "start_time": "2021-09-20T09:14:57.953Z"
   },
   {
    "duration": 159407,
    "start_time": "2021-09-20T09:17:19.326Z"
   },
   {
    "duration": 38888,
    "start_time": "2021-09-20T09:20:52.460Z"
   },
   {
    "duration": 77510,
    "start_time": "2021-09-20T09:23:21.545Z"
   },
   {
    "duration": 97493,
    "start_time": "2021-09-20T09:28:01.255Z"
   },
   {
    "duration": 179681,
    "start_time": "2021-09-20T09:32:22.732Z"
   },
   {
    "duration": 20342,
    "start_time": "2021-09-20T09:36:38.411Z"
   },
   {
    "duration": 604485,
    "start_time": "2021-09-20T09:44:01.996Z"
   },
   {
    "duration": 271525,
    "start_time": "2021-09-20T09:57:16.804Z"
   },
   {
    "duration": 1068385,
    "start_time": "2021-09-20T10:08:48.959Z"
   },
   {
    "duration": 82,
    "start_time": "2021-09-20T11:33:33.279Z"
   },
   {
    "duration": 214441,
    "start_time": "2021-09-21T05:25:23.671Z"
   },
   {
    "duration": 1816,
    "start_time": "2021-09-21T05:28:58.115Z"
   },
   {
    "duration": 227,
    "start_time": "2021-09-21T05:28:59.934Z"
   },
   {
    "duration": 34,
    "start_time": "2021-09-21T05:29:00.163Z"
   },
   {
    "duration": 11,
    "start_time": "2021-09-21T05:29:00.200Z"
   },
   {
    "duration": 10,
    "start_time": "2021-09-21T05:29:00.213Z"
   },
   {
    "duration": 24,
    "start_time": "2021-09-21T05:29:00.226Z"
   },
   {
    "duration": 440,
    "start_time": "2021-09-21T05:29:00.253Z"
   },
   {
    "duration": 32,
    "start_time": "2021-09-21T05:29:00.696Z"
   },
   {
    "duration": 92,
    "start_time": "2021-09-21T05:29:00.731Z"
   },
   {
    "duration": 376,
    "start_time": "2021-09-21T05:29:00.825Z"
   },
   {
    "duration": 12,
    "start_time": "2021-09-21T05:29:01.204Z"
   },
   {
    "duration": 40,
    "start_time": "2021-09-21T05:29:01.218Z"
   },
   {
    "duration": 20,
    "start_time": "2021-09-21T05:29:01.261Z"
   },
   {
    "duration": 45,
    "start_time": "2021-09-21T05:29:01.284Z"
   },
   {
    "duration": 125,
    "start_time": "2021-09-21T05:29:01.331Z"
   },
   {
    "duration": 11,
    "start_time": "2021-09-21T05:29:01.458Z"
   },
   {
    "duration": 13,
    "start_time": "2021-09-21T05:29:01.471Z"
   },
   {
    "duration": 30,
    "start_time": "2021-09-21T05:29:01.486Z"
   },
   {
    "duration": 11,
    "start_time": "2021-09-21T05:29:01.518Z"
   },
   {
    "duration": 19,
    "start_time": "2021-09-21T05:29:01.532Z"
   },
   {
    "duration": 866,
    "start_time": "2021-09-21T05:29:01.553Z"
   },
   {
    "duration": 35,
    "start_time": "2021-09-21T05:29:02.427Z"
   },
   {
    "duration": 72,
    "start_time": "2021-09-21T05:29:02.465Z"
   },
   {
    "duration": 23,
    "start_time": "2021-09-21T05:29:02.540Z"
   },
   {
    "duration": 32,
    "start_time": "2021-09-21T05:29:02.565Z"
   },
   {
    "duration": 53,
    "start_time": "2021-09-21T05:29:02.599Z"
   },
   {
    "duration": 9,
    "start_time": "2021-09-21T05:29:02.655Z"
   },
   {
    "duration": 150,
    "start_time": "2021-09-21T05:29:02.666Z"
   },
   {
    "duration": 386,
    "start_time": "2021-09-21T05:29:02.820Z"
   },
   {
    "duration": 43,
    "start_time": "2021-09-21T05:29:03.216Z"
   },
   {
    "duration": 239,
    "start_time": "2021-09-21T05:29:03.261Z"
   },
   {
    "duration": 119,
    "start_time": "2021-09-21T05:29:03.503Z"
   },
   {
    "duration": 213,
    "start_time": "2021-09-21T05:29:03.624Z"
   },
   {
    "duration": 82,
    "start_time": "2021-09-21T05:29:03.840Z"
   },
   {
    "duration": 127,
    "start_time": "2021-09-21T05:29:03.926Z"
   },
   {
    "duration": 114,
    "start_time": "2021-09-21T05:29:04.055Z"
   },
   {
    "duration": 402,
    "start_time": "2021-09-21T05:29:04.172Z"
   },
   {
    "duration": 3,
    "start_time": "2021-09-21T05:30:45.265Z"
   },
   {
    "duration": 1535,
    "start_time": "2021-09-21T05:30:45.274Z"
   },
   {
    "duration": 232,
    "start_time": "2021-09-21T05:30:46.812Z"
   },
   {
    "duration": 39,
    "start_time": "2021-09-21T05:30:47.048Z"
   },
   {
    "duration": 27,
    "start_time": "2021-09-21T05:30:47.091Z"
   },
   {
    "duration": 7,
    "start_time": "2021-09-21T05:30:47.121Z"
   },
   {
    "duration": 23,
    "start_time": "2021-09-21T05:30:47.131Z"
   },
   {
    "duration": 428,
    "start_time": "2021-09-21T05:30:47.157Z"
   },
   {
    "duration": 35,
    "start_time": "2021-09-21T05:30:47.589Z"
   },
   {
    "duration": 74,
    "start_time": "2021-09-21T05:30:47.627Z"
   },
   {
    "duration": 402,
    "start_time": "2021-09-21T05:30:47.704Z"
   },
   {
    "duration": 7,
    "start_time": "2021-09-21T05:30:48.109Z"
   },
   {
    "duration": 34,
    "start_time": "2021-09-21T05:30:48.119Z"
   },
   {
    "duration": 19,
    "start_time": "2021-09-21T05:30:48.155Z"
   },
   {
    "duration": 51,
    "start_time": "2021-09-21T05:30:48.177Z"
   },
   {
    "duration": 129,
    "start_time": "2021-09-21T05:30:48.230Z"
   },
   {
    "duration": 11,
    "start_time": "2021-09-21T05:30:48.361Z"
   },
   {
    "duration": 9,
    "start_time": "2021-09-21T05:30:48.374Z"
   },
   {
    "duration": 32,
    "start_time": "2021-09-21T05:30:48.386Z"
   },
   {
    "duration": 10,
    "start_time": "2021-09-21T05:30:48.420Z"
   },
   {
    "duration": 10,
    "start_time": "2021-09-21T05:30:48.433Z"
   },
   {
    "duration": 908,
    "start_time": "2021-09-21T05:30:48.446Z"
   },
   {
    "duration": 40,
    "start_time": "2021-09-21T05:30:49.357Z"
   },
   {
    "duration": 38,
    "start_time": "2021-09-21T05:30:49.419Z"
   },
   {
    "duration": 18,
    "start_time": "2021-09-21T05:30:49.461Z"
   },
   {
    "duration": 50,
    "start_time": "2021-09-21T05:30:49.482Z"
   },
   {
    "duration": 45,
    "start_time": "2021-09-21T05:30:49.535Z"
   },
   {
    "duration": 34,
    "start_time": "2021-09-21T05:30:49.582Z"
   },
   {
    "duration": 105,
    "start_time": "2021-09-21T05:30:49.619Z"
   },
   {
    "duration": 407,
    "start_time": "2021-09-21T05:30:49.816Z"
   },
   {
    "duration": 43,
    "start_time": "2021-09-21T05:30:50.225Z"
   },
   {
    "duration": 234,
    "start_time": "2021-09-21T05:30:50.270Z"
   },
   {
    "duration": 113,
    "start_time": "2021-09-21T05:30:50.506Z"
   },
   {
    "duration": 210,
    "start_time": "2021-09-21T05:30:50.621Z"
   },
   {
    "duration": 85,
    "start_time": "2021-09-21T05:30:50.833Z"
   },
   {
    "duration": 134,
    "start_time": "2021-09-21T05:30:50.921Z"
   },
   {
    "duration": 115,
    "start_time": "2021-09-21T05:30:51.057Z"
   },
   {
    "duration": 484,
    "start_time": "2021-09-21T05:30:51.174Z"
   },
   {
    "duration": 138000,
    "start_time": "2021-09-21T05:30:51.661Z"
   },
   {
    "duration": 5,
    "start_time": "2021-09-21T05:33:09.664Z"
   },
   {
    "duration": 243,
    "start_time": "2021-09-21T05:33:09.672Z"
   },
   {
    "duration": 392,
    "start_time": "2021-09-21T05:33:09.918Z"
   },
   {
    "duration": 80,
    "start_time": "2021-09-21T05:33:10.316Z"
   },
   {
    "duration": 247,
    "start_time": "2021-09-21T05:33:10.398Z"
   },
   {
    "duration": 214,
    "start_time": "2021-09-21T05:33:10.647Z"
   },
   {
    "duration": 240,
    "start_time": "2021-09-21T05:33:10.863Z"
   },
   {
    "duration": 289205,
    "start_time": "2021-09-21T05:33:11.106Z"
   },
   {
    "duration": 6,
    "start_time": "2021-09-21T05:38:00.317Z"
   },
   {
    "duration": 93,
    "start_time": "2021-09-21T05:38:00.325Z"
   },
   {
    "duration": 519,
    "start_time": "2021-09-21T05:38:00.421Z"
   },
   {
    "duration": 19,
    "start_time": "2021-09-21T05:38:00.942Z"
   },
   {
    "duration": 229,
    "start_time": "2021-09-21T05:38:00.964Z"
   },
   {
    "duration": 61,
    "start_time": "2021-09-21T05:38:01.195Z"
   },
   {
    "duration": 228,
    "start_time": "2021-09-21T05:38:01.259Z"
   },
   {
    "duration": 65800,
    "start_time": "2021-09-21T05:38:01.490Z"
   },
   {
    "duration": 246,
    "start_time": "2021-09-21T05:39:07.293Z"
   },
   {
    "duration": 102,
    "start_time": "2021-09-21T05:39:07.541Z"
   },
   {
    "duration": 172,
    "start_time": "2021-09-21T05:39:07.645Z"
   },
   {
    "duration": 150170,
    "start_time": "2021-09-21T05:39:07.819Z"
   },
   {
    "duration": 489,
    "start_time": "2021-09-21T05:41:37.991Z"
   },
   {
    "duration": 434,
    "start_time": "2021-09-21T05:41:38.482Z"
   },
   {
    "duration": 371,
    "start_time": "2021-09-21T05:41:38.918Z"
   },
   {
    "duration": 4114,
    "start_time": "2021-09-21T05:41:39.292Z"
   },
   {
    "duration": 7971,
    "start_time": "2021-09-21T05:41:43.408Z"
   },
   {
    "duration": 63,
    "start_time": "2021-09-21T05:41:51.381Z"
   },
   {
    "duration": 52,
    "start_time": "2021-09-21T05:41:51.446Z"
   },
   {
    "duration": 34,
    "start_time": "2021-09-21T05:41:51.517Z"
   },
   {
    "duration": 63,
    "start_time": "2021-09-21T05:41:51.553Z"
   },
   {
    "duration": 3,
    "start_time": "2021-09-21T05:41:51.623Z"
   },
   {
    "duration": 266818,
    "start_time": "2021-09-21T05:41:51.629Z"
   },
   {
    "duration": 26,
    "start_time": "2021-09-21T05:53:23.880Z"
   },
   {
    "duration": 21222,
    "start_time": "2021-09-21T06:01:04.959Z"
   },
   {
    "duration": 14,
    "start_time": "2021-09-21T06:01:46.866Z"
   },
   {
    "duration": 30552,
    "start_time": "2021-09-21T06:02:03.266Z"
   },
   {
    "duration": 8,
    "start_time": "2021-09-21T06:02:33.822Z"
   },
   {
    "duration": 13,
    "start_time": "2021-09-21T06:02:33.834Z"
   },
   {
    "duration": 5,
    "start_time": "2021-09-21T06:02:42.478Z"
   },
   {
    "duration": 97,
    "start_time": "2021-09-21T06:03:28.694Z"
   },
   {
    "duration": 99,
    "start_time": "2021-09-21T06:03:59.020Z"
   },
   {
    "duration": 2587,
    "start_time": "2021-09-21T06:05:52.091Z"
   },
   {
    "duration": 16,
    "start_time": "2021-09-21T06:54:10.232Z"
   },
   {
    "duration": 1518,
    "start_time": "2021-09-21T06:56:05.977Z"
   },
   {
    "duration": 11,
    "start_time": "2021-09-21T06:58:14.428Z"
   },
   {
    "duration": 946,
    "start_time": "2021-09-21T06:58:15.434Z"
   },
   {
    "duration": 11,
    "start_time": "2021-09-21T06:58:24.573Z"
   },
   {
    "duration": 25159,
    "start_time": "2021-09-21T06:58:27.193Z"
   },
   {
    "duration": 11,
    "start_time": "2021-09-21T06:59:36.514Z"
   },
   {
    "duration": 25020,
    "start_time": "2021-09-21T07:00:01.776Z"
   },
   {
    "duration": 11,
    "start_time": "2021-09-21T07:00:55.813Z"
   },
   {
    "duration": 72575,
    "start_time": "2021-09-21T07:01:01.355Z"
   },
   {
    "duration": 59984,
    "start_time": "2021-09-21T07:03:00.877Z"
   },
   {
    "duration": 24,
    "start_time": "2021-09-21T07:05:09.910Z"
   },
   {
    "duration": 23,
    "start_time": "2021-09-21T07:05:21.244Z"
   },
   {
    "duration": 24,
    "start_time": "2021-09-21T07:05:32.878Z"
   },
   {
    "duration": 7,
    "start_time": "2021-09-21T07:05:39.595Z"
   },
   {
    "duration": 8,
    "start_time": "2021-09-21T07:05:51.317Z"
   },
   {
    "duration": 8,
    "start_time": "2021-09-21T07:05:57.586Z"
   },
   {
    "duration": 61214,
    "start_time": "2021-09-21T07:09:41.836Z"
   },
   {
    "duration": 61292,
    "start_time": "2021-09-21T07:11:21.054Z"
   },
   {
    "duration": 26,
    "start_time": "2021-09-21T07:13:22.021Z"
   },
   {
    "duration": 33,
    "start_time": "2021-09-21T07:14:39.690Z"
   },
   {
    "duration": 8,
    "start_time": "2021-09-21T07:16:01.041Z"
   },
   {
    "duration": 13,
    "start_time": "2021-09-21T07:17:14.001Z"
   },
   {
    "duration": 13,
    "start_time": "2021-09-21T07:17:32.705Z"
   },
   {
    "duration": 30844,
    "start_time": "2021-09-21T07:17:40.410Z"
   },
   {
    "duration": 3,
    "start_time": "2021-09-21T07:18:11.257Z"
   },
   {
    "duration": 13,
    "start_time": "2021-09-21T07:18:11.263Z"
   },
   {
    "duration": 295,
    "start_time": "2021-09-21T07:18:33.323Z"
   },
   {
    "duration": 30555,
    "start_time": "2021-09-21T07:19:20.683Z"
   },
   {
    "duration": 6,
    "start_time": "2021-09-21T07:19:54.309Z"
   },
   {
    "duration": 6,
    "start_time": "2021-09-21T07:19:58.878Z"
   },
   {
    "duration": 2892,
    "start_time": "2021-09-21T07:20:01.452Z"
   },
   {
    "duration": 2007,
    "start_time": "2021-09-21T07:20:25.220Z"
   },
   {
    "duration": 2101,
    "start_time": "2021-09-21T07:20:34.338Z"
   },
   {
    "duration": 1787,
    "start_time": "2021-09-21T07:20:54.004Z"
   },
   {
    "duration": 1802,
    "start_time": "2021-09-21T07:21:45.697Z"
   },
   {
    "duration": 12,
    "start_time": "2021-09-21T07:21:58.082Z"
   },
   {
    "duration": 6585,
    "start_time": "2021-09-21T07:21:59.999Z"
   },
   {
    "duration": 40586,
    "start_time": "2021-09-21T07:22:13.752Z"
   },
   {
    "duration": 40543,
    "start_time": "2021-09-21T07:24:45.050Z"
   },
   {
    "duration": 31466,
    "start_time": "2021-09-21T07:28:43.713Z"
   },
   {
    "duration": 5,
    "start_time": "2021-09-21T07:29:15.182Z"
   },
   {
    "duration": 27,
    "start_time": "2021-09-21T07:29:15.190Z"
   },
   {
    "duration": 1802,
    "start_time": "2021-09-21T07:29:15.220Z"
   },
   {
    "duration": 40745,
    "start_time": "2021-09-21T07:29:17.025Z"
   },
   {
    "duration": 1953,
    "start_time": "2021-09-21T07:30:20.087Z"
   },
   {
    "duration": 9,
    "start_time": "2021-09-21T07:32:00.350Z"
   },
   {
    "duration": 12,
    "start_time": "2021-09-21T07:32:01.420Z"
   },
   {
    "duration": 3,
    "start_time": "2021-09-21T07:32:02.132Z"
   },
   {
    "duration": 30602,
    "start_time": "2021-09-21T07:32:02.859Z"
   },
   {
    "duration": 6,
    "start_time": "2021-09-21T07:32:33.463Z"
   },
   {
    "duration": 8,
    "start_time": "2021-09-21T07:32:33.472Z"
   },
   {
    "duration": 1572,
    "start_time": "2021-09-21T07:32:33.482Z"
   },
   {
    "duration": 1536,
    "start_time": "2021-09-21T07:32:40.560Z"
   },
   {
    "duration": 30520,
    "start_time": "2021-09-21T07:32:48.748Z"
   },
   {
    "duration": 6,
    "start_time": "2021-09-21T07:33:19.270Z"
   },
   {
    "duration": 12,
    "start_time": "2021-09-21T07:33:19.279Z"
   },
   {
    "duration": 1551,
    "start_time": "2021-09-21T07:33:19.293Z"
   },
   {
    "duration": 32592,
    "start_time": "2021-09-21T07:33:35.427Z"
   },
   {
    "duration": 329,
    "start_time": "2021-09-21T10:31:36.070Z"
   },
   {
    "duration": 52,
    "start_time": "2021-09-21T10:31:42.201Z"
   },
   {
    "duration": 340,
    "start_time": "2021-09-21T10:31:43.955Z"
   },
   {
    "duration": 3,
    "start_time": "2021-09-21T10:32:08.909Z"
   },
   {
    "duration": 1563,
    "start_time": "2021-09-21T10:32:11.952Z"
   },
   {
    "duration": 220,
    "start_time": "2021-09-21T10:32:13.517Z"
   },
   {
    "duration": 37,
    "start_time": "2021-09-21T10:32:13.741Z"
   },
   {
    "duration": 11,
    "start_time": "2021-09-21T10:32:13.782Z"
   },
   {
    "duration": 33,
    "start_time": "2021-09-21T10:32:13.796Z"
   },
   {
    "duration": 30,
    "start_time": "2021-09-21T10:32:13.832Z"
   },
   {
    "duration": 346,
    "start_time": "2021-09-21T10:32:13.864Z"
   },
   {
    "duration": -5654,
    "start_time": "2021-09-21T10:32:19.869Z"
   },
   {
    "duration": -5663,
    "start_time": "2021-09-21T10:32:19.879Z"
   },
   {
    "duration": -5671,
    "start_time": "2021-09-21T10:32:19.889Z"
   },
   {
    "duration": -5679,
    "start_time": "2021-09-21T10:32:19.898Z"
   },
   {
    "duration": -5687,
    "start_time": "2021-09-21T10:32:19.908Z"
   },
   {
    "duration": -5695,
    "start_time": "2021-09-21T10:32:19.917Z"
   },
   {
    "duration": -5703,
    "start_time": "2021-09-21T10:32:19.927Z"
   },
   {
    "duration": -5710,
    "start_time": "2021-09-21T10:32:19.935Z"
   },
   {
    "duration": -5767,
    "start_time": "2021-09-21T10:32:19.994Z"
   },
   {
    "duration": -5794,
    "start_time": "2021-09-21T10:32:20.022Z"
   },
   {
    "duration": -5822,
    "start_time": "2021-09-21T10:32:20.052Z"
   },
   {
    "duration": -5829,
    "start_time": "2021-09-21T10:32:20.060Z"
   },
   {
    "duration": -5837,
    "start_time": "2021-09-21T10:32:20.070Z"
   },
   {
    "duration": -5844,
    "start_time": "2021-09-21T10:32:20.078Z"
   },
   {
    "duration": -5854,
    "start_time": "2021-09-21T10:32:20.089Z"
   },
   {
    "duration": -5861,
    "start_time": "2021-09-21T10:32:20.098Z"
   },
   {
    "duration": -5870,
    "start_time": "2021-09-21T10:32:20.108Z"
   },
   {
    "duration": -5877,
    "start_time": "2021-09-21T10:32:20.116Z"
   },
   {
    "duration": -5886,
    "start_time": "2021-09-21T10:32:20.126Z"
   },
   {
    "duration": -5892,
    "start_time": "2021-09-21T10:32:20.134Z"
   },
   {
    "duration": -5907,
    "start_time": "2021-09-21T10:32:20.150Z"
   },
   {
    "duration": -7225,
    "start_time": "2021-09-21T10:32:21.469Z"
   },
   {
    "duration": -7240,
    "start_time": "2021-09-21T10:32:21.485Z"
   },
   {
    "duration": -7252,
    "start_time": "2021-09-21T10:32:21.499Z"
   },
   {
    "duration": -7267,
    "start_time": "2021-09-21T10:32:21.515Z"
   },
   {
    "duration": -7280,
    "start_time": "2021-09-21T10:32:21.529Z"
   },
   {
    "duration": -8400,
    "start_time": "2021-09-21T10:32:22.651Z"
   },
   {
    "duration": -8862,
    "start_time": "2021-09-21T10:32:23.114Z"
   },
   {
    "duration": -8872,
    "start_time": "2021-09-21T10:32:23.125Z"
   },
   {
    "duration": -8878,
    "start_time": "2021-09-21T10:32:23.133Z"
   },
   {
    "duration": 280,
    "start_time": "2021-09-21T10:32:17.315Z"
   },
   {
    "duration": 5,
    "start_time": "2021-09-21T10:32:17.605Z"
   },
   {
    "duration": 294,
    "start_time": "2021-09-21T10:32:17.613Z"
   },
   {
    "duration": -5870,
    "start_time": "2021-09-21T10:32:23.779Z"
   },
   {
    "duration": 253,
    "start_time": "2021-09-21T10:32:22.850Z"
   },
   {
    "duration": -715,
    "start_time": "2021-09-21T10:32:23.821Z"
   },
   {
    "duration": -728,
    "start_time": "2021-09-21T10:32:23.836Z"
   },
   {
    "duration": -739,
    "start_time": "2021-09-21T10:32:23.848Z"
   },
   {
    "duration": -757,
    "start_time": "2021-09-21T10:32:23.867Z"
   },
   {
    "duration": -1019,
    "start_time": "2021-09-21T10:32:24.131Z"
   },
   {
    "duration": -4625,
    "start_time": "2021-09-21T10:32:27.738Z"
   },
   {
    "duration": -4636,
    "start_time": "2021-09-21T10:32:27.751Z"
   },
   {
    "duration": -4648,
    "start_time": "2021-09-21T10:32:27.764Z"
   },
   {
    "duration": -4943,
    "start_time": "2021-09-21T10:32:28.061Z"
   },
   {
    "duration": -4952,
    "start_time": "2021-09-21T10:32:28.071Z"
   },
   {
    "duration": -4959,
    "start_time": "2021-09-21T10:32:28.080Z"
   },
   {
    "duration": -4967,
    "start_time": "2021-09-21T10:32:28.089Z"
   },
   {
    "duration": -5034,
    "start_time": "2021-09-21T10:32:28.158Z"
   },
   {
    "duration": -5224,
    "start_time": "2021-09-21T10:32:28.349Z"
   },
   {
    "duration": -5339,
    "start_time": "2021-09-21T10:32:28.466Z"
   },
   {
    "duration": -5347,
    "start_time": "2021-09-21T10:32:28.475Z"
   },
   {
    "duration": -5354,
    "start_time": "2021-09-21T10:32:28.484Z"
   },
   {
    "duration": -5373,
    "start_time": "2021-09-21T10:32:28.505Z"
   },
   {
    "duration": 260,
    "start_time": "2021-09-21T10:32:33.842Z"
   },
   {
    "duration": -1217,
    "start_time": "2021-09-21T10:32:35.323Z"
   },
   {
    "duration": -1227,
    "start_time": "2021-09-21T10:32:35.334Z"
   },
   {
    "duration": -1233,
    "start_time": "2021-09-21T10:32:35.342Z"
   },
   {
    "duration": -1242,
    "start_time": "2021-09-21T10:32:35.353Z"
   },
   {
    "duration": -1251,
    "start_time": "2021-09-21T10:32:35.363Z"
   },
   {
    "duration": -1267,
    "start_time": "2021-09-21T10:32:35.381Z"
   },
   {
    "duration": -1280,
    "start_time": "2021-09-21T10:32:35.395Z"
   },
   {
    "duration": -1294,
    "start_time": "2021-09-21T10:32:35.411Z"
   },
   {
    "duration": -1308,
    "start_time": "2021-09-21T10:32:35.426Z"
   },
   {
    "duration": -1321,
    "start_time": "2021-09-21T10:32:35.441Z"
   },
   {
    "duration": -1336,
    "start_time": "2021-09-21T10:32:35.457Z"
   },
   {
    "duration": -1350,
    "start_time": "2021-09-21T10:32:35.472Z"
   },
   {
    "duration": -1363,
    "start_time": "2021-09-21T10:32:35.487Z"
   },
   {
    "duration": -1378,
    "start_time": "2021-09-21T10:32:35.504Z"
   },
   {
    "duration": -1391,
    "start_time": "2021-09-21T10:32:35.518Z"
   },
   {
    "duration": -1468,
    "start_time": "2021-09-21T10:32:35.597Z"
   },
   {
    "duration": -1504,
    "start_time": "2021-09-21T10:32:35.634Z"
   },
   {
    "duration": 3,
    "start_time": "2021-09-21T10:33:20.677Z"
   },
   {
    "duration": 30,
    "start_time": "2021-09-21T10:33:20.685Z"
   },
   {
    "duration": 267,
    "start_time": "2021-09-21T10:33:20.718Z"
   },
   {
    "duration": 31,
    "start_time": "2021-09-21T10:33:20.988Z"
   },
   {
    "duration": 13,
    "start_time": "2021-09-21T10:33:21.023Z"
   },
   {
    "duration": 22,
    "start_time": "2021-09-21T10:33:21.040Z"
   },
   {
    "duration": 29,
    "start_time": "2021-09-21T10:33:21.065Z"
   },
   {
    "duration": 342,
    "start_time": "2021-09-21T10:33:21.097Z"
   },
   {
    "duration": -934,
    "start_time": "2021-09-21T10:33:22.378Z"
   },
   {
    "duration": -942,
    "start_time": "2021-09-21T10:33:22.387Z"
   },
   {
    "duration": -950,
    "start_time": "2021-09-21T10:33:22.397Z"
   },
   {
    "duration": -957,
    "start_time": "2021-09-21T10:33:22.406Z"
   },
   {
    "duration": -965,
    "start_time": "2021-09-21T10:33:22.415Z"
   },
   {
    "duration": -973,
    "start_time": "2021-09-21T10:33:22.425Z"
   },
   {
    "duration": -982,
    "start_time": "2021-09-21T10:33:22.435Z"
   },
   {
    "duration": -988,
    "start_time": "2021-09-21T10:33:22.443Z"
   },
   {
    "duration": -997,
    "start_time": "2021-09-21T10:33:22.453Z"
   },
   {
    "duration": -1005,
    "start_time": "2021-09-21T10:33:22.463Z"
   },
   {
    "duration": -1014,
    "start_time": "2021-09-21T10:33:22.473Z"
   },
   {
    "duration": -1021,
    "start_time": "2021-09-21T10:33:22.482Z"
   },
   {
    "duration": -1031,
    "start_time": "2021-09-21T10:33:22.494Z"
   },
   {
    "duration": -1039,
    "start_time": "2021-09-21T10:33:22.503Z"
   },
   {
    "duration": -1047,
    "start_time": "2021-09-21T10:33:22.513Z"
   },
   {
    "duration": -1055,
    "start_time": "2021-09-21T10:33:22.522Z"
   },
   {
    "duration": -1063,
    "start_time": "2021-09-21T10:33:22.532Z"
   },
   {
    "duration": -1072,
    "start_time": "2021-09-21T10:33:22.542Z"
   },
   {
    "duration": -1081,
    "start_time": "2021-09-21T10:33:22.552Z"
   },
   {
    "duration": -1088,
    "start_time": "2021-09-21T10:33:22.561Z"
   },
   {
    "duration": -1097,
    "start_time": "2021-09-21T10:33:22.571Z"
   },
   {
    "duration": -1103,
    "start_time": "2021-09-21T10:33:22.579Z"
   },
   {
    "duration": -1112,
    "start_time": "2021-09-21T10:33:22.589Z"
   },
   {
    "duration": -1119,
    "start_time": "2021-09-21T10:33:22.598Z"
   },
   {
    "duration": -1128,
    "start_time": "2021-09-21T10:33:22.608Z"
   },
   {
    "duration": -1136,
    "start_time": "2021-09-21T10:33:22.617Z"
   },
   {
    "duration": -1105,
    "start_time": "2021-09-21T10:33:22.627Z"
   },
   {
    "duration": -1112,
    "start_time": "2021-09-21T10:33:22.635Z"
   },
   {
    "duration": -1120,
    "start_time": "2021-09-21T10:33:22.645Z"
   },
   {
    "duration": -1128,
    "start_time": "2021-09-21T10:33:22.654Z"
   },
   {
    "duration": -1137,
    "start_time": "2021-09-21T10:33:22.664Z"
   },
   {
    "duration": -1144,
    "start_time": "2021-09-21T10:33:22.673Z"
   },
   {
    "duration": -1249,
    "start_time": "2021-09-21T10:33:22.779Z"
   },
   {
    "duration": -1691,
    "start_time": "2021-09-21T10:33:23.222Z"
   },
   {
    "duration": -2509,
    "start_time": "2021-09-21T10:33:24.041Z"
   },
   {
    "duration": -2683,
    "start_time": "2021-09-21T10:33:24.216Z"
   },
   {
    "duration": -2695,
    "start_time": "2021-09-21T10:33:24.230Z"
   },
   {
    "duration": -2703,
    "start_time": "2021-09-21T10:33:24.239Z"
   },
   {
    "duration": -2711,
    "start_time": "2021-09-21T10:33:24.249Z"
   },
   {
    "duration": -2718,
    "start_time": "2021-09-21T10:33:24.257Z"
   },
   {
    "duration": -2726,
    "start_time": "2021-09-21T10:33:24.267Z"
   },
   {
    "duration": -2733,
    "start_time": "2021-09-21T10:33:24.275Z"
   },
   {
    "duration": -2741,
    "start_time": "2021-09-21T10:33:24.285Z"
   },
   {
    "duration": -2749,
    "start_time": "2021-09-21T10:33:24.294Z"
   },
   {
    "duration": -2758,
    "start_time": "2021-09-21T10:33:24.304Z"
   },
   {
    "duration": -2765,
    "start_time": "2021-09-21T10:33:24.312Z"
   },
   {
    "duration": -2773,
    "start_time": "2021-09-21T10:33:24.322Z"
   },
   {
    "duration": -2780,
    "start_time": "2021-09-21T10:33:24.330Z"
   },
   {
    "duration": -2789,
    "start_time": "2021-09-21T10:33:24.340Z"
   },
   {
    "duration": -2796,
    "start_time": "2021-09-21T10:33:24.349Z"
   },
   {
    "duration": -2805,
    "start_time": "2021-09-21T10:33:24.359Z"
   },
   {
    "duration": -2813,
    "start_time": "2021-09-21T10:33:24.368Z"
   },
   {
    "duration": -2820,
    "start_time": "2021-09-21T10:33:24.377Z"
   },
   {
    "duration": -2827,
    "start_time": "2021-09-21T10:33:24.385Z"
   },
   {
    "duration": -2837,
    "start_time": "2021-09-21T10:33:24.396Z"
   },
   {
    "duration": -2846,
    "start_time": "2021-09-21T10:33:24.406Z"
   },
   {
    "duration": -2793,
    "start_time": "2021-09-21T10:33:24.415Z"
   },
   {
    "duration": -2799,
    "start_time": "2021-09-21T10:33:24.423Z"
   },
   {
    "duration": -2808,
    "start_time": "2021-09-21T10:33:24.433Z"
   },
   {
    "duration": -2815,
    "start_time": "2021-09-21T10:33:24.442Z"
   },
   {
    "duration": -2933,
    "start_time": "2021-09-21T10:33:24.561Z"
   },
   {
    "duration": -2989,
    "start_time": "2021-09-21T10:33:24.618Z"
   },
   {
    "duration": 9938,
    "start_time": "2021-09-21T10:34:04.962Z"
   },
   {
    "duration": 6942,
    "start_time": "2021-09-21T10:34:33.892Z"
   },
   {
    "duration": 1530,
    "start_time": "2021-09-21T10:34:40.837Z"
   },
   {
    "duration": 208,
    "start_time": "2021-09-21T10:34:42.371Z"
   },
   {
    "duration": 32,
    "start_time": "2021-09-21T10:34:42.582Z"
   },
   {
    "duration": 9,
    "start_time": "2021-09-21T10:34:42.616Z"
   },
   {
    "duration": 11,
    "start_time": "2021-09-21T10:34:42.627Z"
   },
   {
    "duration": 31,
    "start_time": "2021-09-21T10:34:42.640Z"
   },
   {
    "duration": 509,
    "start_time": "2021-09-21T10:34:42.675Z"
   },
   {
    "duration": 40,
    "start_time": "2021-09-21T10:34:43.188Z"
   },
   {
    "duration": 66,
    "start_time": "2021-09-21T10:34:43.230Z"
   },
   {
    "duration": 394,
    "start_time": "2021-09-21T10:34:43.299Z"
   },
   {
    "duration": 6,
    "start_time": "2021-09-21T10:34:43.696Z"
   },
   {
    "duration": 44,
    "start_time": "2021-09-21T10:34:43.704Z"
   },
   {
    "duration": 18,
    "start_time": "2021-09-21T10:34:43.751Z"
   },
   {
    "duration": 41,
    "start_time": "2021-09-21T10:34:43.772Z"
   },
   {
    "duration": 118,
    "start_time": "2021-09-21T10:34:43.823Z"
   },
   {
    "duration": 11,
    "start_time": "2021-09-21T10:34:43.943Z"
   },
   {
    "duration": 21,
    "start_time": "2021-09-21T10:34:43.956Z"
   },
   {
    "duration": 18,
    "start_time": "2021-09-21T10:34:43.980Z"
   },
   {
    "duration": 19,
    "start_time": "2021-09-21T10:34:44.001Z"
   },
   {
    "duration": 24,
    "start_time": "2021-09-21T10:34:44.023Z"
   },
   {
    "duration": 975,
    "start_time": "2021-09-21T10:34:44.050Z"
   },
   {
    "duration": 35,
    "start_time": "2021-09-21T10:34:45.030Z"
   },
   {
    "duration": 57,
    "start_time": "2021-09-21T10:34:45.069Z"
   },
   {
    "duration": 17,
    "start_time": "2021-09-21T10:34:45.128Z"
   },
   {
    "duration": 37,
    "start_time": "2021-09-21T10:34:45.148Z"
   },
   {
    "duration": 56,
    "start_time": "2021-09-21T10:34:45.188Z"
   },
   {
    "duration": 10,
    "start_time": "2021-09-21T10:34:45.247Z"
   },
   {
    "duration": 74,
    "start_time": "2021-09-21T10:34:45.259Z"
   },
   {
    "duration": 384,
    "start_time": "2021-09-21T10:34:45.425Z"
   },
   {
    "duration": 48,
    "start_time": "2021-09-21T10:34:45.811Z"
   },
   {
    "duration": 233,
    "start_time": "2021-09-21T10:34:45.861Z"
   },
   {
    "duration": 118,
    "start_time": "2021-09-21T10:34:46.097Z"
   },
   {
    "duration": 207,
    "start_time": "2021-09-21T10:34:46.217Z"
   },
   {
    "duration": 99,
    "start_time": "2021-09-21T10:34:46.426Z"
   },
   {
    "duration": 132,
    "start_time": "2021-09-21T10:34:46.528Z"
   },
   {
    "duration": 120,
    "start_time": "2021-09-21T10:34:46.662Z"
   },
   {
    "duration": 401,
    "start_time": "2021-09-21T10:34:46.784Z"
   },
   {
    "duration": 135917,
    "start_time": "2021-09-21T10:34:47.187Z"
   },
   {
    "duration": 16,
    "start_time": "2021-09-21T10:37:03.106Z"
   },
   {
    "duration": 124,
    "start_time": "2021-09-21T10:37:03.126Z"
   },
   {
    "duration": 400,
    "start_time": "2021-09-21T10:37:03.324Z"
   },
   {
    "duration": 76,
    "start_time": "2021-09-21T10:37:03.726Z"
   },
   {
    "duration": 241,
    "start_time": "2021-09-21T10:37:03.804Z"
   },
   {
    "duration": 213,
    "start_time": "2021-09-21T10:37:04.047Z"
   },
   {
    "duration": 236,
    "start_time": "2021-09-21T10:37:04.263Z"
   },
   {
    "duration": 51130,
    "start_time": "2021-09-21T10:37:04.501Z"
   },
   {
    "duration": -224,
    "start_time": "2021-09-21T10:37:55.858Z"
   },
   {
    "duration": -231,
    "start_time": "2021-09-21T10:37:55.867Z"
   },
   {
    "duration": -240,
    "start_time": "2021-09-21T10:37:55.877Z"
   },
   {
    "duration": -249,
    "start_time": "2021-09-21T10:37:55.887Z"
   },
   {
    "duration": -256,
    "start_time": "2021-09-21T10:37:55.896Z"
   },
   {
    "duration": -266,
    "start_time": "2021-09-21T10:37:55.907Z"
   },
   {
    "duration": -286,
    "start_time": "2021-09-21T10:37:55.929Z"
   },
   {
    "duration": -295,
    "start_time": "2021-09-21T10:37:55.939Z"
   },
   {
    "duration": -303,
    "start_time": "2021-09-21T10:37:55.949Z"
   },
   {
    "duration": -312,
    "start_time": "2021-09-21T10:37:55.959Z"
   },
   {
    "duration": -320,
    "start_time": "2021-09-21T10:37:55.968Z"
   },
   {
    "duration": -329,
    "start_time": "2021-09-21T10:37:55.979Z"
   },
   {
    "duration": -344,
    "start_time": "2021-09-21T10:37:55.996Z"
   },
   {
    "duration": -357,
    "start_time": "2021-09-21T10:37:56.011Z"
   },
   {
    "duration": -372,
    "start_time": "2021-09-21T10:37:56.027Z"
   },
   {
    "duration": -386,
    "start_time": "2021-09-21T10:37:56.043Z"
   },
   {
    "duration": -400,
    "start_time": "2021-09-21T10:37:56.058Z"
   },
   {
    "duration": -417,
    "start_time": "2021-09-21T10:37:56.077Z"
   },
   {
    "duration": -430,
    "start_time": "2021-09-21T10:37:56.091Z"
   },
   {
    "duration": -710,
    "start_time": "2021-09-21T10:37:56.372Z"
   },
   {
    "duration": -860,
    "start_time": "2021-09-21T10:37:56.524Z"
   },
   {
    "duration": -868,
    "start_time": "2021-09-21T10:37:56.534Z"
   },
   {
    "duration": -875,
    "start_time": "2021-09-21T10:37:56.542Z"
   },
   {
    "duration": -832,
    "start_time": "2021-09-21T10:37:56.553Z"
   },
   {
    "duration": -839,
    "start_time": "2021-09-21T10:37:56.562Z"
   },
   {
    "duration": -848,
    "start_time": "2021-09-21T10:37:56.572Z"
   },
   {
    "duration": -855,
    "start_time": "2021-09-21T10:37:56.581Z"
   },
   {
    "duration": -863,
    "start_time": "2021-09-21T10:37:56.591Z"
   },
   {
    "duration": -870,
    "start_time": "2021-09-21T10:37:56.599Z"
   },
   {
    "duration": -879,
    "start_time": "2021-09-21T10:37:56.610Z"
   },
   {
    "duration": -886,
    "start_time": "2021-09-21T10:37:56.619Z"
   },
   {
    "duration": -895,
    "start_time": "2021-09-21T10:37:56.629Z"
   },
   {
    "duration": 10,
    "start_time": "2021-09-21T10:38:14.940Z"
   },
   {
    "duration": 10,
    "start_time": "2021-09-21T10:38:16.670Z"
   },
   {
    "duration": 11,
    "start_time": "2021-09-21T10:38:17.490Z"
   },
   {
    "duration": 29415,
    "start_time": "2021-09-21T10:38:18.171Z"
   },
   {
    "duration": 8,
    "start_time": "2021-09-21T10:38:51.584Z"
   },
   {
    "duration": 6,
    "start_time": "2021-09-21T10:38:54.454Z"
   },
   {
    "duration": 1074,
    "start_time": "2021-09-21T10:39:08.832Z"
   },
   {
    "duration": 11,
    "start_time": "2021-09-21T10:39:53.514Z"
   },
   {
    "duration": 22151,
    "start_time": "2021-09-21T10:40:21.976Z"
   },
   {
    "duration": 10767,
    "start_time": "2021-09-22T00:44:34.213Z"
   },
   {
    "duration": 1646,
    "start_time": "2021-09-22T00:44:44.983Z"
   },
   {
    "duration": 285,
    "start_time": "2021-09-22T00:44:46.632Z"
   },
   {
    "duration": 33,
    "start_time": "2021-09-22T00:44:46.919Z"
   },
   {
    "duration": 9,
    "start_time": "2021-09-22T00:44:46.954Z"
   },
   {
    "duration": 8,
    "start_time": "2021-09-22T00:44:46.966Z"
   },
   {
    "duration": 51,
    "start_time": "2021-09-22T00:44:46.977Z"
   },
   {
    "duration": 401,
    "start_time": "2021-09-22T00:44:47.033Z"
   },
   {
    "duration": 23,
    "start_time": "2021-09-22T00:44:47.438Z"
   },
   {
    "duration": 86,
    "start_time": "2021-09-22T00:44:47.463Z"
   },
   {
    "duration": 370,
    "start_time": "2021-09-22T00:44:47.552Z"
   },
   {
    "duration": 7,
    "start_time": "2021-09-22T00:44:47.925Z"
   },
   {
    "duration": 34,
    "start_time": "2021-09-22T00:44:47.934Z"
   },
   {
    "duration": 19,
    "start_time": "2021-09-22T00:44:47.971Z"
   },
   {
    "duration": 23,
    "start_time": "2021-09-22T00:44:48.017Z"
   },
   {
    "duration": 134,
    "start_time": "2021-09-22T00:44:48.042Z"
   },
   {
    "duration": 12,
    "start_time": "2021-09-22T00:44:48.179Z"
   },
   {
    "duration": 25,
    "start_time": "2021-09-22T00:44:48.193Z"
   },
   {
    "duration": 7,
    "start_time": "2021-09-22T00:44:48.221Z"
   },
   {
    "duration": 10,
    "start_time": "2021-09-22T00:44:48.230Z"
   },
   {
    "duration": 8,
    "start_time": "2021-09-22T00:44:48.243Z"
   },
   {
    "duration": 870,
    "start_time": "2021-09-22T00:44:48.253Z"
   },
   {
    "duration": 33,
    "start_time": "2021-09-22T00:44:49.129Z"
   },
   {
    "duration": 62,
    "start_time": "2021-09-22T00:44:49.166Z"
   },
   {
    "duration": 17,
    "start_time": "2021-09-22T00:44:49.231Z"
   },
   {
    "duration": 41,
    "start_time": "2021-09-22T00:44:49.251Z"
   },
   {
    "duration": 31,
    "start_time": "2021-09-22T00:44:49.294Z"
   },
   {
    "duration": 99,
    "start_time": "2021-09-22T00:44:49.327Z"
   },
   {
    "duration": 394,
    "start_time": "2021-09-22T00:44:49.517Z"
   },
   {
    "duration": 42,
    "start_time": "2021-09-22T00:44:49.914Z"
   },
   {
    "duration": 257,
    "start_time": "2021-09-22T00:44:49.959Z"
   },
   {
    "duration": 122,
    "start_time": "2021-09-22T00:44:50.219Z"
   },
   {
    "duration": 223,
    "start_time": "2021-09-22T00:44:50.343Z"
   },
   {
    "duration": 150,
    "start_time": "2021-09-22T00:44:50.568Z"
   },
   {
    "duration": 132,
    "start_time": "2021-09-22T00:44:50.722Z"
   },
   {
    "duration": 125,
    "start_time": "2021-09-22T00:44:50.856Z"
   },
   {
    "duration": 397,
    "start_time": "2021-09-22T00:44:50.984Z"
   },
   {
    "duration": 133,
    "start_time": "2021-09-22T00:44:51.383Z"
   },
   {
    "duration": -216,
    "start_time": "2021-09-22T00:44:51.734Z"
   },
   {
    "duration": -226,
    "start_time": "2021-09-22T00:44:51.745Z"
   },
   {
    "duration": -235,
    "start_time": "2021-09-22T00:44:51.756Z"
   },
   {
    "duration": -244,
    "start_time": "2021-09-22T00:44:51.766Z"
   },
   {
    "duration": -252,
    "start_time": "2021-09-22T00:44:51.776Z"
   },
   {
    "duration": -261,
    "start_time": "2021-09-22T00:44:51.786Z"
   },
   {
    "duration": -270,
    "start_time": "2021-09-22T00:44:51.796Z"
   },
   {
    "duration": -277,
    "start_time": "2021-09-22T00:44:51.805Z"
   },
   {
    "duration": -285,
    "start_time": "2021-09-22T00:44:51.815Z"
   },
   {
    "duration": -294,
    "start_time": "2021-09-22T00:44:51.825Z"
   },
   {
    "duration": -303,
    "start_time": "2021-09-22T00:44:51.835Z"
   },
   {
    "duration": -310,
    "start_time": "2021-09-22T00:44:51.844Z"
   },
   {
    "duration": -319,
    "start_time": "2021-09-22T00:44:51.854Z"
   },
   {
    "duration": -327,
    "start_time": "2021-09-22T00:44:51.863Z"
   },
   {
    "duration": -335,
    "start_time": "2021-09-22T00:44:51.873Z"
   },
   {
    "duration": -344,
    "start_time": "2021-09-22T00:44:51.883Z"
   },
   {
    "duration": -352,
    "start_time": "2021-09-22T00:44:51.893Z"
   },
   {
    "duration": -360,
    "start_time": "2021-09-22T00:44:51.902Z"
   },
   {
    "duration": -370,
    "start_time": "2021-09-22T00:44:51.914Z"
   },
   {
    "duration": -379,
    "start_time": "2021-09-22T00:44:51.924Z"
   },
   {
    "duration": -503,
    "start_time": "2021-09-22T00:44:52.049Z"
   },
   {
    "duration": -635,
    "start_time": "2021-09-22T00:44:52.183Z"
   },
   {
    "duration": -664,
    "start_time": "2021-09-22T00:44:52.213Z"
   },
   {
    "duration": -672,
    "start_time": "2021-09-22T00:44:52.222Z"
   },
   {
    "duration": -680,
    "start_time": "2021-09-22T00:44:52.232Z"
   },
   {
    "duration": -688,
    "start_time": "2021-09-22T00:44:52.241Z"
   },
   {
    "duration": -696,
    "start_time": "2021-09-22T00:44:52.251Z"
   },
   {
    "duration": -704,
    "start_time": "2021-09-22T00:44:52.260Z"
   },
   {
    "duration": -713,
    "start_time": "2021-09-22T00:44:52.270Z"
   },
   {
    "duration": 15664,
    "start_time": "2021-09-22T00:45:22.352Z"
   },
   {
    "duration": 7265,
    "start_time": "2021-09-22T00:46:16.001Z"
   },
   {
    "duration": 8,
    "start_time": "2021-09-22T00:46:23.269Z"
   },
   {
    "duration": 284,
    "start_time": "2021-09-22T00:46:23.281Z"
   },
   {
    "duration": 32,
    "start_time": "2021-09-22T00:46:23.568Z"
   },
   {
    "duration": 10,
    "start_time": "2021-09-22T00:46:23.602Z"
   },
   {
    "duration": 6,
    "start_time": "2021-09-22T00:46:23.615Z"
   },
   {
    "duration": 20,
    "start_time": "2021-09-22T00:46:23.624Z"
   },
   {
    "duration": 437,
    "start_time": "2021-09-22T00:46:23.646Z"
   },
   {
    "duration": 35,
    "start_time": "2021-09-22T00:46:24.087Z"
   },
   {
    "duration": 64,
    "start_time": "2021-09-22T00:46:24.126Z"
   },
   {
    "duration": 392,
    "start_time": "2021-09-22T00:46:24.193Z"
   },
   {
    "duration": 7,
    "start_time": "2021-09-22T00:46:24.587Z"
   },
   {
    "duration": 50,
    "start_time": "2021-09-22T00:46:24.596Z"
   },
   {
    "duration": 19,
    "start_time": "2021-09-22T00:46:24.648Z"
   },
   {
    "duration": 56,
    "start_time": "2021-09-22T00:46:24.670Z"
   },
   {
    "duration": 127,
    "start_time": "2021-09-22T00:46:24.729Z"
   },
   {
    "duration": 14,
    "start_time": "2021-09-22T00:46:24.859Z"
   },
   {
    "duration": 9,
    "start_time": "2021-09-22T00:46:24.876Z"
   },
   {
    "duration": 35,
    "start_time": "2021-09-22T00:46:24.888Z"
   },
   {
    "duration": 11,
    "start_time": "2021-09-22T00:46:24.926Z"
   },
   {
    "duration": 11,
    "start_time": "2021-09-22T00:46:24.939Z"
   },
   {
    "duration": 811,
    "start_time": "2021-09-22T00:46:24.953Z"
   },
   {
    "duration": 34,
    "start_time": "2021-09-22T00:46:25.767Z"
   },
   {
    "duration": 37,
    "start_time": "2021-09-22T00:46:25.816Z"
   },
   {
    "duration": 17,
    "start_time": "2021-09-22T00:46:25.856Z"
   },
   {
    "duration": 72,
    "start_time": "2021-09-22T00:46:25.875Z"
   },
   {
    "duration": 10,
    "start_time": "2021-09-22T00:46:25.952Z"
   },
   {
    "duration": 68,
    "start_time": "2021-09-22T00:46:25.965Z"
   },
   {
    "duration": 558,
    "start_time": "2021-09-22T00:46:26.037Z"
   },
   {
    "duration": 53,
    "start_time": "2021-09-22T00:46:26.597Z"
   },
   {
    "duration": 224,
    "start_time": "2021-09-22T00:46:26.652Z"
   },
   {
    "duration": 116,
    "start_time": "2021-09-22T00:46:26.879Z"
   },
   {
    "duration": 209,
    "start_time": "2021-09-22T00:46:26.997Z"
   },
   {
    "duration": 103,
    "start_time": "2021-09-22T00:46:27.216Z"
   },
   {
    "duration": 134,
    "start_time": "2021-09-22T00:46:27.322Z"
   },
   {
    "duration": 140,
    "start_time": "2021-09-22T00:46:27.460Z"
   },
   {
    "duration": 398,
    "start_time": "2021-09-22T00:46:27.602Z"
   },
   {
    "duration": 15933,
    "start_time": "2021-09-22T00:46:28.003Z"
   },
   {
    "duration": 5,
    "start_time": "2021-09-22T00:46:43.938Z"
   },
   {
    "duration": 180,
    "start_time": "2021-09-22T00:46:43.946Z"
   },
   {
    "duration": 383,
    "start_time": "2021-09-22T00:46:44.218Z"
   },
   {
    "duration": 91,
    "start_time": "2021-09-22T00:46:44.605Z"
   },
   {
    "duration": 233,
    "start_time": "2021-09-22T00:46:44.699Z"
   },
   {
    "duration": 220,
    "start_time": "2021-09-22T00:46:44.935Z"
   },
   {
    "duration": 230,
    "start_time": "2021-09-22T00:46:45.158Z"
   },
   {
    "duration": 33041,
    "start_time": "2021-09-22T00:46:45.391Z"
   },
   {
    "duration": 6,
    "start_time": "2021-09-22T00:47:18.435Z"
   },
   {
    "duration": 83,
    "start_time": "2021-09-22T00:47:18.443Z"
   },
   {
    "duration": 384,
    "start_time": "2021-09-22T00:47:18.617Z"
   },
   {
    "duration": 27,
    "start_time": "2021-09-22T00:47:19.004Z"
   },
   {
    "duration": 207,
    "start_time": "2021-09-22T00:47:19.034Z"
   },
   {
    "duration": 49,
    "start_time": "2021-09-22T00:47:19.243Z"
   },
   {
    "duration": 234,
    "start_time": "2021-09-22T00:47:19.295Z"
   },
   {
    "duration": 8490,
    "start_time": "2021-09-22T00:47:19.532Z"
   },
   {
    "duration": 220,
    "start_time": "2021-09-22T00:47:28.024Z"
   },
   {
    "duration": 96,
    "start_time": "2021-09-22T00:47:28.246Z"
   },
   {
    "duration": 175,
    "start_time": "2021-09-22T00:47:28.344Z"
   },
   {
    "duration": 16425,
    "start_time": "2021-09-22T00:47:28.521Z"
   },
   {
    "duration": 16445,
    "start_time": "2021-09-22T00:49:55.892Z"
   },
   {
    "duration": 465,
    "start_time": "2021-09-22T00:50:20.704Z"
   },
   {
    "duration": 408,
    "start_time": "2021-09-22T00:50:21.987Z"
   },
   {
    "duration": 352,
    "start_time": "2021-09-22T00:50:22.698Z"
   },
   {
    "duration": 4044,
    "start_time": "2021-09-22T00:50:28.105Z"
   },
   {
    "duration": 7677,
    "start_time": "2021-09-22T00:50:33.144Z"
   },
   {
    "duration": 81,
    "start_time": "2021-09-22T00:50:41.495Z"
   },
   {
    "duration": 46,
    "start_time": "2021-09-22T00:50:43.897Z"
   },
   {
    "duration": 98,
    "start_time": "2021-09-22T00:50:45.335Z"
   },
   {
    "duration": 79,
    "start_time": "2021-09-22T00:50:49.029Z"
   },
   {
    "duration": 7024,
    "start_time": "2021-09-22T00:56:03.839Z"
   },
   {
    "duration": 9,
    "start_time": "2021-09-22T00:56:10.866Z"
   },
   {
    "duration": 301,
    "start_time": "2021-09-22T00:56:10.880Z"
   },
   {
    "duration": 33,
    "start_time": "2021-09-22T00:56:11.184Z"
   },
   {
    "duration": 10,
    "start_time": "2021-09-22T00:56:11.219Z"
   },
   {
    "duration": 8,
    "start_time": "2021-09-22T00:56:11.232Z"
   },
   {
    "duration": 24,
    "start_time": "2021-09-22T00:56:11.243Z"
   },
   {
    "duration": 445,
    "start_time": "2021-09-22T00:56:11.271Z"
   },
   {
    "duration": 26,
    "start_time": "2021-09-22T00:56:11.720Z"
   },
   {
    "duration": 92,
    "start_time": "2021-09-22T00:56:11.748Z"
   },
   {
    "duration": 383,
    "start_time": "2021-09-22T00:56:11.843Z"
   },
   {
    "duration": 7,
    "start_time": "2021-09-22T00:56:12.228Z"
   },
   {
    "duration": 49,
    "start_time": "2021-09-22T00:56:12.237Z"
   },
   {
    "duration": 30,
    "start_time": "2021-09-22T00:56:12.288Z"
   },
   {
    "duration": 31,
    "start_time": "2021-09-22T00:56:12.320Z"
   },
   {
    "duration": 120,
    "start_time": "2021-09-22T00:56:12.353Z"
   },
   {
    "duration": 10,
    "start_time": "2021-09-22T00:56:12.475Z"
   },
   {
    "duration": 29,
    "start_time": "2021-09-22T00:56:12.487Z"
   },
   {
    "duration": 7,
    "start_time": "2021-09-22T00:56:12.518Z"
   },
   {
    "duration": 24,
    "start_time": "2021-09-22T00:56:12.528Z"
   },
   {
    "duration": 9,
    "start_time": "2021-09-22T00:56:12.555Z"
   },
   {
    "duration": 790,
    "start_time": "2021-09-22T00:56:12.567Z"
   },
   {
    "duration": 33,
    "start_time": "2021-09-22T00:56:13.363Z"
   },
   {
    "duration": 52,
    "start_time": "2021-09-22T00:56:13.416Z"
   },
   {
    "duration": 17,
    "start_time": "2021-09-22T00:56:13.471Z"
   },
   {
    "duration": 53,
    "start_time": "2021-09-22T00:56:13.490Z"
   },
   {
    "duration": 9,
    "start_time": "2021-09-22T00:56:13.545Z"
   },
   {
    "duration": 68,
    "start_time": "2021-09-22T00:56:13.556Z"
   },
   {
    "duration": 489,
    "start_time": "2021-09-22T00:56:13.627Z"
   },
   {
    "duration": 41,
    "start_time": "2021-09-22T00:56:14.118Z"
   },
   {
    "duration": 399,
    "start_time": "2021-09-22T00:56:14.161Z"
   },
   {
    "duration": 118,
    "start_time": "2021-09-22T00:56:14.562Z"
   },
   {
    "duration": 204,
    "start_time": "2021-09-22T00:56:14.683Z"
   },
   {
    "duration": 128,
    "start_time": "2021-09-22T00:56:14.889Z"
   },
   {
    "duration": 128,
    "start_time": "2021-09-22T00:56:15.021Z"
   },
   {
    "duration": 115,
    "start_time": "2021-09-22T00:56:15.152Z"
   },
   {
    "duration": 367,
    "start_time": "2021-09-22T00:56:15.270Z"
   },
   {
    "duration": 17517,
    "start_time": "2021-09-22T00:56:15.639Z"
   },
   {
    "duration": 6,
    "start_time": "2021-09-22T00:56:33.158Z"
   },
   {
    "duration": 161,
    "start_time": "2021-09-22T00:56:33.166Z"
   },
   {
    "duration": 392,
    "start_time": "2021-09-22T00:56:33.418Z"
   },
   {
    "duration": 73,
    "start_time": "2021-09-22T00:56:33.817Z"
   },
   {
    "duration": 233,
    "start_time": "2021-09-22T00:56:33.893Z"
   },
   {
    "duration": 225,
    "start_time": "2021-09-22T00:56:34.128Z"
   },
   {
    "duration": 228,
    "start_time": "2021-09-22T00:56:34.356Z"
   },
   {
    "duration": 35264,
    "start_time": "2021-09-22T00:56:34.587Z"
   },
   {
    "duration": 7,
    "start_time": "2021-09-22T00:57:09.853Z"
   },
   {
    "duration": 154,
    "start_time": "2021-09-22T00:57:09.862Z"
   },
   {
    "duration": 440,
    "start_time": "2021-09-22T00:57:10.020Z"
   },
   {
    "duration": 20,
    "start_time": "2021-09-22T00:57:10.463Z"
   },
   {
    "duration": 221,
    "start_time": "2021-09-22T00:57:10.485Z"
   },
   {
    "duration": 57,
    "start_time": "2021-09-22T00:57:10.716Z"
   },
   {
    "duration": 215,
    "start_time": "2021-09-22T00:57:10.775Z"
   },
   {
    "duration": 8996,
    "start_time": "2021-09-22T00:57:10.992Z"
   },
   {
    "duration": 253,
    "start_time": "2021-09-22T00:57:19.991Z"
   },
   {
    "duration": 101,
    "start_time": "2021-09-22T00:57:20.247Z"
   },
   {
    "duration": 182,
    "start_time": "2021-09-22T00:57:20.350Z"
   },
   {
    "duration": 17441,
    "start_time": "2021-09-22T00:57:20.535Z"
   },
   {
    "duration": 497,
    "start_time": "2021-09-22T00:57:37.979Z"
   },
   {
    "duration": 430,
    "start_time": "2021-09-22T00:57:38.479Z"
   },
   {
    "duration": 365,
    "start_time": "2021-09-22T00:57:38.912Z"
   },
   {
    "duration": 4307,
    "start_time": "2021-09-22T00:57:39.280Z"
   },
   {
    "duration": 8257,
    "start_time": "2021-09-22T00:57:43.590Z"
   },
   {
    "duration": 111,
    "start_time": "2021-09-22T00:57:51.850Z"
   },
   {
    "duration": 61,
    "start_time": "2021-09-22T00:57:51.964Z"
   },
   {
    "duration": 93,
    "start_time": "2021-09-22T00:57:52.027Z"
   },
   {
    "duration": 46,
    "start_time": "2021-09-22T00:57:52.123Z"
   },
   {
    "duration": 7132,
    "start_time": "2021-09-22T01:00:42.252Z"
   },
   {
    "duration": 7,
    "start_time": "2021-09-22T01:00:49.388Z"
   },
   {
    "duration": 306,
    "start_time": "2021-09-22T01:00:49.399Z"
   },
   {
    "duration": 32,
    "start_time": "2021-09-22T01:00:49.708Z"
   },
   {
    "duration": 9,
    "start_time": "2021-09-22T01:00:49.743Z"
   },
   {
    "duration": 13,
    "start_time": "2021-09-22T01:00:49.755Z"
   },
   {
    "duration": 49,
    "start_time": "2021-09-22T01:00:49.770Z"
   },
   {
    "duration": 509,
    "start_time": "2021-09-22T01:00:49.824Z"
   },
   {
    "duration": 23,
    "start_time": "2021-09-22T01:00:50.336Z"
   },
   {
    "duration": 97,
    "start_time": "2021-09-22T01:00:50.362Z"
   },
   {
    "duration": 386,
    "start_time": "2021-09-22T01:00:50.463Z"
   },
   {
    "duration": 6,
    "start_time": "2021-09-22T01:00:50.852Z"
   },
   {
    "duration": 36,
    "start_time": "2021-09-22T01:00:50.861Z"
   },
   {
    "duration": 33,
    "start_time": "2021-09-22T01:00:50.899Z"
   },
   {
    "duration": 29,
    "start_time": "2021-09-22T01:00:50.935Z"
   },
   {
    "duration": 136,
    "start_time": "2021-09-22T01:00:50.967Z"
   },
   {
    "duration": 18,
    "start_time": "2021-09-22T01:00:51.106Z"
   },
   {
    "duration": 9,
    "start_time": "2021-09-22T01:00:51.127Z"
   },
   {
    "duration": 8,
    "start_time": "2021-09-22T01:00:51.139Z"
   },
   {
    "duration": 11,
    "start_time": "2021-09-22T01:00:51.150Z"
   },
   {
    "duration": 55,
    "start_time": "2021-09-22T01:00:51.164Z"
   },
   {
    "duration": 777,
    "start_time": "2021-09-22T01:00:51.222Z"
   },
   {
    "duration": 35,
    "start_time": "2021-09-22T01:00:52.018Z"
   },
   {
    "duration": 58,
    "start_time": "2021-09-22T01:00:52.059Z"
   },
   {
    "duration": 20,
    "start_time": "2021-09-22T01:00:52.120Z"
   },
   {
    "duration": 43,
    "start_time": "2021-09-22T01:00:52.143Z"
   },
   {
    "duration": 36,
    "start_time": "2021-09-22T01:00:52.189Z"
   },
   {
    "duration": 90,
    "start_time": "2021-09-22T01:00:52.228Z"
   },
   {
    "duration": 479,
    "start_time": "2021-09-22T01:00:52.322Z"
   },
   {
    "duration": 48,
    "start_time": "2021-09-22T01:00:52.803Z"
   },
   {
    "duration": 234,
    "start_time": "2021-09-22T01:00:52.853Z"
   },
   {
    "duration": 118,
    "start_time": "2021-09-22T01:00:53.090Z"
   },
   {
    "duration": 199,
    "start_time": "2021-09-22T01:00:53.211Z"
   },
   {
    "duration": 105,
    "start_time": "2021-09-22T01:00:53.417Z"
   },
   {
    "duration": 129,
    "start_time": "2021-09-22T01:00:53.526Z"
   },
   {
    "duration": 122,
    "start_time": "2021-09-22T01:00:53.658Z"
   },
   {
    "duration": 399,
    "start_time": "2021-09-22T01:00:53.783Z"
   },
   {
    "duration": 15639,
    "start_time": "2021-09-22T01:00:54.184Z"
   },
   {
    "duration": 6,
    "start_time": "2021-09-22T01:01:09.825Z"
   },
   {
    "duration": 188,
    "start_time": "2021-09-22T01:01:09.833Z"
   },
   {
    "duration": 454,
    "start_time": "2021-09-22T01:01:10.025Z"
   },
   {
    "duration": 84,
    "start_time": "2021-09-22T01:01:10.482Z"
   },
   {
    "duration": 458,
    "start_time": "2021-09-22T01:01:10.568Z"
   },
   {
    "duration": 224,
    "start_time": "2021-09-22T01:01:11.029Z"
   },
   {
    "duration": 244,
    "start_time": "2021-09-22T01:01:11.256Z"
   },
   {
    "duration": 32946,
    "start_time": "2021-09-22T01:01:11.504Z"
   },
   {
    "duration": 6,
    "start_time": "2021-09-22T01:01:44.453Z"
   },
   {
    "duration": 68,
    "start_time": "2021-09-22T01:01:44.461Z"
   },
   {
    "duration": 493,
    "start_time": "2021-09-22T01:01:44.626Z"
   },
   {
    "duration": 21,
    "start_time": "2021-09-22T01:01:45.122Z"
   },
   {
    "duration": 230,
    "start_time": "2021-09-22T01:01:45.145Z"
   },
   {
    "duration": 65,
    "start_time": "2021-09-22T01:01:45.378Z"
   },
   {
    "duration": 218,
    "start_time": "2021-09-22T01:01:45.446Z"
   },
   {
    "duration": 8594,
    "start_time": "2021-09-22T01:01:45.666Z"
   },
   {
    "duration": 281,
    "start_time": "2021-09-22T01:01:54.263Z"
   },
   {
    "duration": 95,
    "start_time": "2021-09-22T01:01:54.546Z"
   },
   {
    "duration": 178,
    "start_time": "2021-09-22T01:01:54.644Z"
   },
   {
    "duration": 16460,
    "start_time": "2021-09-22T01:01:54.825Z"
   },
   {
    "duration": 479,
    "start_time": "2021-09-22T01:02:11.288Z"
   },
   {
    "duration": 310,
    "start_time": "2021-09-22T01:02:11.769Z"
   },
   {
    "duration": 371,
    "start_time": "2021-09-22T01:02:12.081Z"
   },
   {
    "duration": 4464,
    "start_time": "2021-09-22T01:02:12.454Z"
   },
   {
    "duration": 7745,
    "start_time": "2021-09-22T01:02:16.920Z"
   },
   {
    "duration": 96,
    "start_time": "2021-09-22T01:02:24.667Z"
   },
   {
    "duration": 54,
    "start_time": "2021-09-22T01:02:24.765Z"
   },
   {
    "duration": 107,
    "start_time": "2021-09-22T01:02:24.822Z"
   },
   {
    "duration": 100,
    "start_time": "2021-09-22T01:02:24.932Z"
   },
   {
    "duration": 7312,
    "start_time": "2021-09-22T01:05:15.410Z"
   },
   {
    "duration": 9,
    "start_time": "2021-09-22T01:05:22.725Z"
   },
   {
    "duration": 304,
    "start_time": "2021-09-22T01:05:22.737Z"
   },
   {
    "duration": 32,
    "start_time": "2021-09-22T01:05:23.044Z"
   },
   {
    "duration": 9,
    "start_time": "2021-09-22T01:05:23.079Z"
   },
   {
    "duration": 7,
    "start_time": "2021-09-22T01:05:23.115Z"
   },
   {
    "duration": 22,
    "start_time": "2021-09-22T01:05:23.125Z"
   },
   {
    "duration": 428,
    "start_time": "2021-09-22T01:05:23.151Z"
   },
   {
    "duration": 36,
    "start_time": "2021-09-22T01:05:23.583Z"
   },
   {
    "duration": 68,
    "start_time": "2021-09-22T01:05:23.622Z"
   },
   {
    "duration": 537,
    "start_time": "2021-09-22T01:05:23.692Z"
   },
   {
    "duration": 7,
    "start_time": "2021-09-22T01:05:24.231Z"
   },
   {
    "duration": 33,
    "start_time": "2021-09-22T01:05:24.240Z"
   },
   {
    "duration": 47,
    "start_time": "2021-09-22T01:05:24.275Z"
   },
   {
    "duration": 26,
    "start_time": "2021-09-22T01:05:24.324Z"
   },
   {
    "duration": 130,
    "start_time": "2021-09-22T01:05:24.353Z"
   },
   {
    "duration": 11,
    "start_time": "2021-09-22T01:05:24.485Z"
   },
   {
    "duration": 25,
    "start_time": "2021-09-22T01:05:24.498Z"
   },
   {
    "duration": 7,
    "start_time": "2021-09-22T01:05:24.526Z"
   },
   {
    "duration": 12,
    "start_time": "2021-09-22T01:05:24.536Z"
   },
   {
    "duration": 11,
    "start_time": "2021-09-22T01:05:24.551Z"
   },
   {
    "duration": 941,
    "start_time": "2021-09-22T01:05:24.565Z"
   },
   {
    "duration": 35,
    "start_time": "2021-09-22T01:05:25.517Z"
   },
   {
    "duration": 34,
    "start_time": "2021-09-22T01:05:25.556Z"
   },
   {
    "duration": 38,
    "start_time": "2021-09-22T01:05:25.593Z"
   },
   {
    "duration": 56,
    "start_time": "2021-09-22T01:05:25.633Z"
   },
   {
    "duration": 25,
    "start_time": "2021-09-22T01:05:25.691Z"
   },
   {
    "duration": 99,
    "start_time": "2021-09-22T01:05:25.719Z"
   },
   {
    "duration": 475,
    "start_time": "2021-09-22T01:05:25.822Z"
   },
   {
    "duration": 48,
    "start_time": "2021-09-22T01:05:26.300Z"
   },
   {
    "duration": 224,
    "start_time": "2021-09-22T01:05:26.351Z"
   },
   {
    "duration": 125,
    "start_time": "2021-09-22T01:05:26.578Z"
   },
   {
    "duration": 211,
    "start_time": "2021-09-22T01:05:26.705Z"
   },
   {
    "duration": 100,
    "start_time": "2021-09-22T01:05:26.919Z"
   },
   {
    "duration": 130,
    "start_time": "2021-09-22T01:05:27.023Z"
   },
   {
    "duration": 122,
    "start_time": "2021-09-22T01:05:27.155Z"
   },
   {
    "duration": 373,
    "start_time": "2021-09-22T01:05:27.279Z"
   },
   {
    "duration": 16641,
    "start_time": "2021-09-22T01:05:27.655Z"
   },
   {
    "duration": 5,
    "start_time": "2021-09-22T01:05:44.299Z"
   },
   {
    "duration": 200,
    "start_time": "2021-09-22T01:05:44.316Z"
   },
   {
    "duration": 472,
    "start_time": "2021-09-22T01:05:44.520Z"
   },
   {
    "duration": 88,
    "start_time": "2021-09-22T01:05:44.994Z"
   },
   {
    "duration": 224,
    "start_time": "2021-09-22T01:05:45.084Z"
   },
   {
    "duration": 227,
    "start_time": "2021-09-22T01:05:45.317Z"
   },
   {
    "duration": 234,
    "start_time": "2021-09-22T01:05:45.546Z"
   },
   {
    "duration": 35685,
    "start_time": "2021-09-22T01:05:45.782Z"
   },
   {
    "duration": 6,
    "start_time": "2021-09-22T01:06:21.469Z"
   },
   {
    "duration": 103,
    "start_time": "2021-09-22T01:06:21.516Z"
   },
   {
    "duration": 471,
    "start_time": "2021-09-22T01:06:21.626Z"
   },
   {
    "duration": 24,
    "start_time": "2021-09-22T01:06:22.100Z"
   },
   {
    "duration": 225,
    "start_time": "2021-09-22T01:06:22.127Z"
   },
   {
    "duration": 67,
    "start_time": "2021-09-22T01:06:22.355Z"
   },
   {
    "duration": 365,
    "start_time": "2021-09-22T01:06:22.425Z"
   },
   {
    "duration": 9237,
    "start_time": "2021-09-22T01:06:22.794Z"
   },
   {
    "duration": 211,
    "start_time": "2021-09-22T01:06:32.034Z"
   },
   {
    "duration": 136,
    "start_time": "2021-09-22T01:06:32.248Z"
   },
   {
    "duration": 182,
    "start_time": "2021-09-22T01:06:32.387Z"
   },
   {
    "duration": 18006,
    "start_time": "2021-09-22T01:06:32.572Z"
   },
   {
    "duration": 493,
    "start_time": "2021-09-22T01:06:50.581Z"
   },
   {
    "duration": 297,
    "start_time": "2021-09-22T01:06:51.076Z"
   },
   {
    "duration": 375,
    "start_time": "2021-09-22T01:06:51.376Z"
   },
   {
    "duration": 4202,
    "start_time": "2021-09-22T01:06:51.753Z"
   },
   {
    "duration": 8240,
    "start_time": "2021-09-22T01:06:55.957Z"
   },
   {
    "duration": 105,
    "start_time": "2021-09-22T01:07:04.200Z"
   },
   {
    "duration": 51,
    "start_time": "2021-09-22T01:07:04.308Z"
   },
   {
    "duration": 100,
    "start_time": "2021-09-22T01:07:04.362Z"
   },
   {
    "duration": 55,
    "start_time": "2021-09-22T01:07:04.464Z"
   },
   {
    "duration": 7150,
    "start_time": "2021-09-22T01:09:39.281Z"
   },
   {
    "duration": 9,
    "start_time": "2021-09-22T01:09:46.434Z"
   },
   {
    "duration": 366,
    "start_time": "2021-09-22T01:09:46.446Z"
   },
   {
    "duration": 31,
    "start_time": "2021-09-22T01:09:46.816Z"
   },
   {
    "duration": 8,
    "start_time": "2021-09-22T01:09:46.850Z"
   },
   {
    "duration": 13,
    "start_time": "2021-09-22T01:09:46.861Z"
   },
   {
    "duration": 51,
    "start_time": "2021-09-22T01:09:46.876Z"
   },
   {
    "duration": 415,
    "start_time": "2021-09-22T01:09:46.930Z"
   },
   {
    "duration": 24,
    "start_time": "2021-09-22T01:09:47.349Z"
   },
   {
    "duration": 89,
    "start_time": "2021-09-22T01:09:47.376Z"
   },
   {
    "duration": 381,
    "start_time": "2021-09-22T01:09:47.468Z"
   },
   {
    "duration": 6,
    "start_time": "2021-09-22T01:09:47.852Z"
   },
   {
    "duration": 38,
    "start_time": "2021-09-22T01:09:47.860Z"
   },
   {
    "duration": 30,
    "start_time": "2021-09-22T01:09:47.901Z"
   },
   {
    "duration": 23,
    "start_time": "2021-09-22T01:09:47.934Z"
   },
   {
    "duration": 140,
    "start_time": "2021-09-22T01:09:47.960Z"
   },
   {
    "duration": 19,
    "start_time": "2021-09-22T01:09:48.102Z"
   },
   {
    "duration": 9,
    "start_time": "2021-09-22T01:09:48.123Z"
   },
   {
    "duration": 8,
    "start_time": "2021-09-22T01:09:48.134Z"
   },
   {
    "duration": 12,
    "start_time": "2021-09-22T01:09:48.144Z"
   },
   {
    "duration": 8,
    "start_time": "2021-09-22T01:09:48.159Z"
   },
   {
    "duration": 896,
    "start_time": "2021-09-22T01:09:48.169Z"
   },
   {
    "duration": 53,
    "start_time": "2021-09-22T01:09:49.067Z"
   },
   {
    "duration": 36,
    "start_time": "2021-09-22T01:09:49.123Z"
   },
   {
    "duration": 17,
    "start_time": "2021-09-22T01:09:49.162Z"
   },
   {
    "duration": 69,
    "start_time": "2021-09-22T01:09:49.182Z"
   },
   {
    "duration": 10,
    "start_time": "2021-09-22T01:09:49.257Z"
   },
   {
    "duration": 74,
    "start_time": "2021-09-22T01:09:49.271Z"
   },
   {
    "duration": 423,
    "start_time": "2021-09-22T01:09:49.418Z"
   },
   {
    "duration": 45,
    "start_time": "2021-09-22T01:09:49.843Z"
   },
   {
    "duration": 378,
    "start_time": "2021-09-22T01:09:49.890Z"
   },
   {
    "duration": 118,
    "start_time": "2021-09-22T01:09:50.270Z"
   },
   {
    "duration": 216,
    "start_time": "2021-09-22T01:09:50.390Z"
   },
   {
    "duration": 102,
    "start_time": "2021-09-22T01:09:50.616Z"
   },
   {
    "duration": 219,
    "start_time": "2021-09-22T01:09:50.722Z"
   },
   {
    "duration": 121,
    "start_time": "2021-09-22T01:09:50.944Z"
   },
   {
    "duration": 393,
    "start_time": "2021-09-22T01:09:51.067Z"
   },
   {
    "duration": 16375,
    "start_time": "2021-09-22T01:09:51.463Z"
   },
   {
    "duration": 8,
    "start_time": "2021-09-22T01:10:07.841Z"
   },
   {
    "duration": 174,
    "start_time": "2021-09-22T01:10:07.852Z"
   },
   {
    "duration": 398,
    "start_time": "2021-09-22T01:10:08.118Z"
   },
   {
    "duration": 60,
    "start_time": "2021-09-22T01:10:08.519Z"
   },
   {
    "duration": 254,
    "start_time": "2021-09-22T01:10:08.582Z"
   },
   {
    "duration": 156,
    "start_time": "2021-09-22T01:10:08.838Z"
   },
   {
    "duration": 239,
    "start_time": "2021-09-22T01:10:08.996Z"
   },
   {
    "duration": 24440,
    "start_time": "2021-09-22T01:10:09.238Z"
   },
   {
    "duration": 34,
    "start_time": "2021-09-22T01:10:33.682Z"
   },
   {
    "duration": 97,
    "start_time": "2021-09-22T01:10:33.718Z"
   },
   {
    "duration": 506,
    "start_time": "2021-09-22T01:10:33.819Z"
   },
   {
    "duration": 19,
    "start_time": "2021-09-22T01:10:34.327Z"
   },
   {
    "duration": 223,
    "start_time": "2021-09-22T01:10:34.348Z"
   },
   {
    "duration": 65,
    "start_time": "2021-09-22T01:10:34.573Z"
   },
   {
    "duration": 220,
    "start_time": "2021-09-22T01:10:34.641Z"
   },
   {
    "duration": 8796,
    "start_time": "2021-09-22T01:10:34.863Z"
   },
   {
    "duration": 281,
    "start_time": "2021-09-22T01:10:43.661Z"
   },
   {
    "duration": 99,
    "start_time": "2021-09-22T01:10:43.945Z"
   },
   {
    "duration": 175,
    "start_time": "2021-09-22T01:10:44.046Z"
   },
   {
    "duration": 16255,
    "start_time": "2021-09-22T01:10:44.224Z"
   },
   {
    "duration": 488,
    "start_time": "2021-09-22T01:11:00.482Z"
   },
   {
    "duration": 315,
    "start_time": "2021-09-22T01:11:00.974Z"
   },
   {
    "duration": 526,
    "start_time": "2021-09-22T01:11:01.293Z"
   },
   {
    "duration": 3061,
    "start_time": "2021-09-22T01:11:01.822Z"
   },
   {
    "duration": 5716,
    "start_time": "2021-09-22T01:11:04.885Z"
   },
   {
    "duration": 93,
    "start_time": "2021-09-22T01:11:10.604Z"
   },
   {
    "duration": 75,
    "start_time": "2021-09-22T01:11:10.699Z"
   },
   {
    "duration": 123,
    "start_time": "2021-09-22T01:11:10.776Z"
   },
   {
    "duration": 89,
    "start_time": "2021-09-22T01:11:10.902Z"
   },
   {
    "duration": 7185,
    "start_time": "2021-09-22T01:12:23.229Z"
   },
   {
    "duration": 8,
    "start_time": "2021-09-22T01:12:30.418Z"
   },
   {
    "duration": 1080,
    "start_time": "2021-09-22T01:12:30.430Z"
   },
   {
    "duration": 32,
    "start_time": "2021-09-22T01:12:31.513Z"
   },
   {
    "duration": 10,
    "start_time": "2021-09-22T01:12:31.548Z"
   },
   {
    "duration": 28,
    "start_time": "2021-09-22T01:12:31.561Z"
   },
   {
    "duration": 40,
    "start_time": "2021-09-22T01:12:31.592Z"
   },
   {
    "duration": 405,
    "start_time": "2021-09-22T01:12:31.636Z"
   },
   {
    "duration": 24,
    "start_time": "2021-09-22T01:12:32.044Z"
   },
   {
    "duration": 96,
    "start_time": "2021-09-22T01:12:32.070Z"
   },
   {
    "duration": 376,
    "start_time": "2021-09-22T01:12:32.169Z"
   },
   {
    "duration": 7,
    "start_time": "2021-09-22T01:12:32.548Z"
   },
   {
    "duration": 35,
    "start_time": "2021-09-22T01:12:32.557Z"
   },
   {
    "duration": 39,
    "start_time": "2021-09-22T01:12:32.595Z"
   },
   {
    "duration": 33,
    "start_time": "2021-09-22T01:12:32.636Z"
   },
   {
    "duration": 132,
    "start_time": "2021-09-22T01:12:32.672Z"
   },
   {
    "duration": 17,
    "start_time": "2021-09-22T01:12:32.808Z"
   },
   {
    "duration": 19,
    "start_time": "2021-09-22T01:12:32.828Z"
   },
   {
    "duration": 19,
    "start_time": "2021-09-22T01:12:32.849Z"
   },
   {
    "duration": 17,
    "start_time": "2021-09-22T01:12:32.871Z"
   },
   {
    "duration": 34,
    "start_time": "2021-09-22T01:12:32.891Z"
   },
   {
    "duration": 791,
    "start_time": "2021-09-22T01:12:32.928Z"
   },
   {
    "duration": 36,
    "start_time": "2021-09-22T01:12:33.727Z"
   },
   {
    "duration": 69,
    "start_time": "2021-09-22T01:12:33.768Z"
   },
   {
    "duration": 20,
    "start_time": "2021-09-22T01:12:33.840Z"
   },
   {
    "duration": 62,
    "start_time": "2021-09-22T01:12:33.863Z"
   },
   {
    "duration": 12,
    "start_time": "2021-09-22T01:12:33.928Z"
   },
   {
    "duration": 76,
    "start_time": "2021-09-22T01:12:33.942Z"
   },
   {
    "duration": 497,
    "start_time": "2021-09-22T01:12:34.021Z"
   },
   {
    "duration": 43,
    "start_time": "2021-09-22T01:12:34.520Z"
   },
   {
    "duration": 256,
    "start_time": "2021-09-22T01:12:34.566Z"
   },
   {
    "duration": 109,
    "start_time": "2021-09-22T01:12:34.824Z"
   },
   {
    "duration": 213,
    "start_time": "2021-09-22T01:12:34.936Z"
   },
   {
    "duration": 85,
    "start_time": "2021-09-22T01:12:35.152Z"
   },
   {
    "duration": 198,
    "start_time": "2021-09-22T01:12:35.241Z"
   },
   {
    "duration": 116,
    "start_time": "2021-09-22T01:12:35.441Z"
   },
   {
    "duration": 407,
    "start_time": "2021-09-22T01:12:35.560Z"
   },
   {
    "duration": 15894,
    "start_time": "2021-09-22T01:12:35.969Z"
   },
   {
    "duration": 6,
    "start_time": "2021-09-22T01:12:51.865Z"
   },
   {
    "duration": 276,
    "start_time": "2021-09-22T01:12:51.873Z"
   },
   {
    "duration": 493,
    "start_time": "2021-09-22T01:12:52.219Z"
   },
   {
    "duration": 110,
    "start_time": "2021-09-22T01:12:52.716Z"
   },
   {
    "duration": 233,
    "start_time": "2021-09-22T01:12:52.828Z"
   },
   {
    "duration": 275,
    "start_time": "2021-09-22T01:12:53.063Z"
   },
   {
    "duration": 362,
    "start_time": "2021-09-22T01:12:53.341Z"
   },
   {
    "duration": 44288,
    "start_time": "2021-09-22T01:12:53.706Z"
   },
   {
    "duration": 22,
    "start_time": "2021-09-22T01:13:37.996Z"
   },
   {
    "duration": 103,
    "start_time": "2021-09-22T01:13:38.021Z"
   },
   {
    "duration": 388,
    "start_time": "2021-09-22T01:13:38.217Z"
   },
   {
    "duration": 23,
    "start_time": "2021-09-22T01:13:38.608Z"
   },
   {
    "duration": 218,
    "start_time": "2021-09-22T01:13:38.634Z"
   },
   {
    "duration": 62,
    "start_time": "2021-09-22T01:13:38.855Z"
   },
   {
    "duration": 216,
    "start_time": "2021-09-22T01:13:38.919Z"
   },
   {
    "duration": 8753,
    "start_time": "2021-09-22T01:13:39.137Z"
   },
   {
    "duration": 250,
    "start_time": "2021-09-22T01:13:47.893Z"
   },
   {
    "duration": 96,
    "start_time": "2021-09-22T01:13:48.146Z"
   },
   {
    "duration": 175,
    "start_time": "2021-09-22T01:13:48.244Z"
   },
   {
    "duration": 16339,
    "start_time": "2021-09-22T01:13:48.422Z"
   },
   {
    "duration": 519,
    "start_time": "2021-09-22T01:14:04.764Z"
   },
   {
    "duration": 312,
    "start_time": "2021-09-22T01:14:05.286Z"
   },
   {
    "duration": 379,
    "start_time": "2021-09-22T01:14:05.600Z"
   },
   {
    "duration": 5199,
    "start_time": "2021-09-22T01:14:05.981Z"
   },
   {
    "duration": 10711,
    "start_time": "2021-09-22T01:14:11.183Z"
   },
   {
    "duration": 92,
    "start_time": "2021-09-22T01:14:21.896Z"
   },
   {
    "duration": 92,
    "start_time": "2021-09-22T01:14:21.990Z"
   },
   {
    "duration": 110,
    "start_time": "2021-09-22T01:14:22.084Z"
   },
   {
    "duration": 88,
    "start_time": "2021-09-22T01:14:22.196Z"
   },
   {
    "duration": 7993,
    "start_time": "2021-09-22T01:16:56.042Z"
   },
   {
    "duration": 9,
    "start_time": "2021-09-22T01:17:04.038Z"
   },
   {
    "duration": 292,
    "start_time": "2021-09-22T01:17:04.050Z"
   },
   {
    "duration": 33,
    "start_time": "2021-09-22T01:17:04.345Z"
   },
   {
    "duration": 11,
    "start_time": "2021-09-22T01:17:04.381Z"
   },
   {
    "duration": 27,
    "start_time": "2021-09-22T01:17:04.394Z"
   },
   {
    "duration": 28,
    "start_time": "2021-09-22T01:17:04.423Z"
   },
   {
    "duration": 431,
    "start_time": "2021-09-22T01:17:04.455Z"
   },
   {
    "duration": 30,
    "start_time": "2021-09-22T01:17:04.889Z"
   },
   {
    "duration": 68,
    "start_time": "2021-09-22T01:17:04.921Z"
   },
   {
    "duration": 385,
    "start_time": "2021-09-22T01:17:04.992Z"
   },
   {
    "duration": 7,
    "start_time": "2021-09-22T01:17:05.379Z"
   },
   {
    "duration": 51,
    "start_time": "2021-09-22T01:17:05.388Z"
   },
   {
    "duration": 19,
    "start_time": "2021-09-22T01:17:05.442Z"
   },
   {
    "duration": 27,
    "start_time": "2021-09-22T01:17:05.464Z"
   },
   {
    "duration": 148,
    "start_time": "2021-09-22T01:17:05.494Z"
   },
   {
    "duration": 10,
    "start_time": "2021-09-22T01:17:05.645Z"
   },
   {
    "duration": 8,
    "start_time": "2021-09-22T01:17:05.658Z"
   },
   {
    "duration": 12,
    "start_time": "2021-09-22T01:17:05.668Z"
   },
   {
    "duration": 36,
    "start_time": "2021-09-22T01:17:05.683Z"
   },
   {
    "duration": 11,
    "start_time": "2021-09-22T01:17:05.721Z"
   },
   {
    "duration": 933,
    "start_time": "2021-09-22T01:17:05.735Z"
   },
   {
    "duration": 46,
    "start_time": "2021-09-22T01:17:06.675Z"
   },
   {
    "duration": 37,
    "start_time": "2021-09-22T01:17:06.725Z"
   },
   {
    "duration": 18,
    "start_time": "2021-09-22T01:17:06.764Z"
   },
   {
    "duration": 65,
    "start_time": "2021-09-22T01:17:06.785Z"
   },
   {
    "duration": 11,
    "start_time": "2021-09-22T01:17:06.853Z"
   },
   {
    "duration": 150,
    "start_time": "2021-09-22T01:17:06.866Z"
   },
   {
    "duration": 430,
    "start_time": "2021-09-22T01:17:07.020Z"
   },
   {
    "duration": 44,
    "start_time": "2021-09-22T01:17:07.454Z"
   },
   {
    "duration": 228,
    "start_time": "2021-09-22T01:17:07.517Z"
   },
   {
    "duration": 119,
    "start_time": "2021-09-22T01:17:07.748Z"
   },
   {
    "duration": 221,
    "start_time": "2021-09-22T01:17:07.870Z"
   },
   {
    "duration": 132,
    "start_time": "2021-09-22T01:17:08.094Z"
   },
   {
    "duration": 195,
    "start_time": "2021-09-22T01:17:08.228Z"
   },
   {
    "duration": 112,
    "start_time": "2021-09-22T01:17:08.426Z"
   },
   {
    "duration": 403,
    "start_time": "2021-09-22T01:17:08.540Z"
   },
   {
    "duration": 16152,
    "start_time": "2021-09-22T01:17:08.945Z"
   },
   {
    "duration": 7,
    "start_time": "2021-09-22T01:17:25.117Z"
   },
   {
    "duration": 112,
    "start_time": "2021-09-22T01:17:25.127Z"
   },
   {
    "duration": 481,
    "start_time": "2021-09-22T01:17:25.243Z"
   },
   {
    "duration": 47,
    "start_time": "2021-09-22T01:17:25.727Z"
   },
   {
    "duration": 230,
    "start_time": "2021-09-22T01:17:25.777Z"
   },
   {
    "duration": 125,
    "start_time": "2021-09-22T01:17:26.010Z"
   },
   {
    "duration": 244,
    "start_time": "2021-09-22T01:17:26.137Z"
   },
   {
    "duration": 18693,
    "start_time": "2021-09-22T01:17:26.383Z"
   },
   {
    "duration": 6,
    "start_time": "2021-09-22T01:17:45.078Z"
   },
   {
    "duration": 130,
    "start_time": "2021-09-22T01:17:45.086Z"
   },
   {
    "duration": 477,
    "start_time": "2021-09-22T01:17:45.219Z"
   },
   {
    "duration": 26,
    "start_time": "2021-09-22T01:17:45.698Z"
   },
   {
    "duration": 212,
    "start_time": "2021-09-22T01:17:45.727Z"
   },
   {
    "duration": 48,
    "start_time": "2021-09-22T01:17:45.941Z"
   },
   {
    "duration": 233,
    "start_time": "2021-09-22T01:17:45.992Z"
   },
   {
    "duration": 9072,
    "start_time": "2021-09-22T01:17:46.228Z"
   },
   {
    "duration": 228,
    "start_time": "2021-09-22T01:17:55.317Z"
   },
   {
    "duration": 97,
    "start_time": "2021-09-22T01:17:55.548Z"
   },
   {
    "duration": 168,
    "start_time": "2021-09-22T01:17:55.648Z"
   },
   {
    "duration": 16461,
    "start_time": "2021-09-22T01:17:55.818Z"
   },
   {
    "duration": 486,
    "start_time": "2021-09-22T01:18:12.281Z"
   },
   {
    "duration": 313,
    "start_time": "2021-09-22T01:18:12.771Z"
   },
   {
    "duration": 380,
    "start_time": "2021-09-22T01:18:13.087Z"
   },
   {
    "duration": 2309,
    "start_time": "2021-09-22T01:18:13.469Z"
   },
   {
    "duration": 4501,
    "start_time": "2021-09-22T01:18:15.780Z"
   },
   {
    "duration": 92,
    "start_time": "2021-09-22T01:18:20.284Z"
   },
   {
    "duration": 97,
    "start_time": "2021-09-22T01:18:20.379Z"
   },
   {
    "duration": 109,
    "start_time": "2021-09-22T01:18:20.478Z"
   },
   {
    "duration": 92,
    "start_time": "2021-09-22T01:18:20.589Z"
   },
   {
    "duration": 204,
    "start_time": "2021-09-22T01:31:05.166Z"
   },
   {
    "duration": 84,
    "start_time": "2021-09-22T01:32:31.228Z"
   },
   {
    "duration": 210,
    "start_time": "2021-09-22T01:33:19.441Z"
   },
   {
    "duration": 9,
    "start_time": "2021-09-22T01:43:28.306Z"
   },
   {
    "duration": 138628,
    "start_time": "2021-09-22T04:30:23.420Z"
   },
   {
    "duration": 1203,
    "start_time": "2021-09-22T04:32:42.050Z"
   },
   {
    "duration": 464,
    "start_time": "2021-09-22T04:32:43.255Z"
   },
   {
    "duration": 21,
    "start_time": "2021-09-22T04:32:43.721Z"
   },
   {
    "duration": 7,
    "start_time": "2021-09-22T04:32:43.744Z"
   },
   {
    "duration": 6,
    "start_time": "2021-09-22T04:32:43.752Z"
   },
   {
    "duration": 16,
    "start_time": "2021-09-22T04:32:43.760Z"
   },
   {
    "duration": 252,
    "start_time": "2021-09-22T04:32:43.780Z"
   },
   {
    "duration": 23,
    "start_time": "2021-09-22T04:32:44.035Z"
   },
   {
    "duration": 46,
    "start_time": "2021-09-22T04:32:44.060Z"
   },
   {
    "duration": 244,
    "start_time": "2021-09-22T04:32:44.108Z"
   },
   {
    "duration": 6,
    "start_time": "2021-09-22T04:32:44.355Z"
   },
   {
    "duration": 25,
    "start_time": "2021-09-22T04:32:44.363Z"
   },
   {
    "duration": 13,
    "start_time": "2021-09-22T04:32:44.390Z"
   },
   {
    "duration": 45,
    "start_time": "2021-09-22T04:32:44.405Z"
   },
   {
    "duration": 73,
    "start_time": "2021-09-22T04:32:44.452Z"
   },
   {
    "duration": 27,
    "start_time": "2021-09-22T04:32:44.527Z"
   },
   {
    "duration": 8,
    "start_time": "2021-09-22T04:32:44.556Z"
   },
   {
    "duration": 8,
    "start_time": "2021-09-22T04:32:44.566Z"
   },
   {
    "duration": 12,
    "start_time": "2021-09-22T04:32:44.576Z"
   },
   {
    "duration": 9,
    "start_time": "2021-09-22T04:32:44.590Z"
   },
   {
    "duration": 819,
    "start_time": "2021-09-22T04:32:44.601Z"
   },
   {
    "duration": 37,
    "start_time": "2021-09-22T04:32:45.425Z"
   },
   {
    "duration": 35,
    "start_time": "2021-09-22T04:32:45.465Z"
   },
   {
    "duration": 16,
    "start_time": "2021-09-22T04:32:45.502Z"
   },
   {
    "duration": 58,
    "start_time": "2021-09-22T04:32:45.520Z"
   },
   {
    "duration": 9,
    "start_time": "2021-09-22T04:32:45.581Z"
   },
   {
    "duration": 70,
    "start_time": "2021-09-22T04:32:45.592Z"
   },
   {
    "duration": 367,
    "start_time": "2021-09-22T04:32:45.749Z"
   },
   {
    "duration": 48,
    "start_time": "2021-09-22T04:32:46.118Z"
   },
   {
    "duration": 196,
    "start_time": "2021-09-22T04:32:46.168Z"
   },
   {
    "duration": 105,
    "start_time": "2021-09-22T04:32:46.366Z"
   },
   {
    "duration": 179,
    "start_time": "2021-09-22T04:32:46.473Z"
   },
   {
    "duration": 96,
    "start_time": "2021-09-22T04:32:46.654Z"
   },
   {
    "duration": 130,
    "start_time": "2021-09-22T04:32:46.753Z"
   },
   {
    "duration": 70,
    "start_time": "2021-09-22T04:32:46.885Z"
   },
   {
    "duration": 280,
    "start_time": "2021-09-22T04:32:46.957Z"
   },
   {
    "duration": 10091,
    "start_time": "2021-09-22T04:32:47.238Z"
   },
   {
    "duration": 5,
    "start_time": "2021-09-22T04:32:57.349Z"
   },
   {
    "duration": 193,
    "start_time": "2021-09-22T04:32:57.356Z"
   },
   {
    "duration": 322,
    "start_time": "2021-09-22T04:32:57.551Z"
   },
   {
    "duration": 34,
    "start_time": "2021-09-22T04:32:57.874Z"
   },
   {
    "duration": 145,
    "start_time": "2021-09-22T04:32:57.910Z"
   },
   {
    "duration": 75,
    "start_time": "2021-09-22T04:32:58.056Z"
   },
   {
    "duration": 203,
    "start_time": "2021-09-22T04:32:58.149Z"
   },
   {
    "duration": 2,
    "start_time": "2021-09-22T04:33:15.731Z"
   },
   {
    "duration": 1252,
    "start_time": "2021-09-22T04:33:15.736Z"
   },
   {
    "duration": 197,
    "start_time": "2021-09-22T04:33:16.991Z"
   },
   {
    "duration": 24,
    "start_time": "2021-09-22T04:33:17.190Z"
   },
   {
    "duration": 8,
    "start_time": "2021-09-22T04:33:17.216Z"
   },
   {
    "duration": 4,
    "start_time": "2021-09-22T04:33:17.226Z"
   },
   {
    "duration": 18,
    "start_time": "2021-09-22T04:33:17.232Z"
   },
   {
    "duration": 246,
    "start_time": "2021-09-22T04:33:17.253Z"
   },
   {
    "duration": 20,
    "start_time": "2021-09-22T04:33:17.501Z"
   },
   {
    "duration": 82,
    "start_time": "2021-09-22T04:33:17.523Z"
   },
   {
    "duration": 341,
    "start_time": "2021-09-22T04:33:17.608Z"
   },
   {
    "duration": 5,
    "start_time": "2021-09-22T04:33:17.951Z"
   },
   {
    "duration": 24,
    "start_time": "2021-09-22T04:33:17.958Z"
   },
   {
    "duration": 13,
    "start_time": "2021-09-22T04:33:17.983Z"
   },
   {
    "duration": 18,
    "start_time": "2021-09-22T04:33:17.998Z"
   },
   {
    "duration": 99,
    "start_time": "2021-09-22T04:33:18.018Z"
   },
   {
    "duration": 7,
    "start_time": "2021-09-22T04:33:18.119Z"
   },
   {
    "duration": 22,
    "start_time": "2021-09-22T04:33:18.128Z"
   },
   {
    "duration": 5,
    "start_time": "2021-09-22T04:33:18.152Z"
   },
   {
    "duration": 10,
    "start_time": "2021-09-22T04:33:18.159Z"
   },
   {
    "duration": 6,
    "start_time": "2021-09-22T04:33:18.171Z"
   },
   {
    "duration": 851,
    "start_time": "2021-09-22T04:33:18.179Z"
   },
   {
    "duration": 41,
    "start_time": "2021-09-22T04:33:19.036Z"
   },
   {
    "duration": 38,
    "start_time": "2021-09-22T04:33:19.080Z"
   },
   {
    "duration": 32,
    "start_time": "2021-09-22T04:33:19.120Z"
   },
   {
    "duration": 42,
    "start_time": "2021-09-22T04:33:19.154Z"
   },
   {
    "duration": 10,
    "start_time": "2021-09-22T04:33:19.198Z"
   },
   {
    "duration": 72,
    "start_time": "2021-09-22T04:33:19.210Z"
   },
   {
    "duration": 362,
    "start_time": "2021-09-22T04:33:19.350Z"
   },
   {
    "duration": 39,
    "start_time": "2021-09-22T04:33:19.714Z"
   },
   {
    "duration": 135,
    "start_time": "2021-09-22T04:33:19.755Z"
   },
   {
    "duration": 88,
    "start_time": "2021-09-22T04:33:19.892Z"
   },
   {
    "duration": 129,
    "start_time": "2021-09-22T04:33:19.981Z"
   },
   {
    "duration": 48,
    "start_time": "2021-09-22T04:33:20.112Z"
   },
   {
    "duration": 205,
    "start_time": "2021-09-22T04:33:20.162Z"
   },
   {
    "duration": 80,
    "start_time": "2021-09-22T04:33:20.369Z"
   },
   {
    "duration": 273,
    "start_time": "2021-09-22T04:33:20.451Z"
   },
   {
    "duration": 10386,
    "start_time": "2021-09-22T04:33:20.726Z"
   },
   {
    "duration": 4,
    "start_time": "2021-09-22T04:33:31.115Z"
   },
   {
    "duration": 136,
    "start_time": "2021-09-22T04:33:31.121Z"
   },
   {
    "duration": 390,
    "start_time": "2021-09-22T04:33:31.260Z"
   },
   {
    "duration": 33,
    "start_time": "2021-09-22T04:33:31.652Z"
   },
   {
    "duration": 141,
    "start_time": "2021-09-22T04:33:31.687Z"
   },
   {
    "duration": 85,
    "start_time": "2021-09-22T04:33:31.830Z"
   },
   {
    "duration": 138,
    "start_time": "2021-09-22T04:33:31.916Z"
   },
   {
    "duration": 11426,
    "start_time": "2021-09-22T04:33:32.056Z"
   },
   {
    "duration": 5,
    "start_time": "2021-09-22T04:33:43.483Z"
   },
   {
    "duration": 69,
    "start_time": "2021-09-22T04:33:43.490Z"
   },
   {
    "duration": 399,
    "start_time": "2021-09-22T04:33:43.562Z"
   },
   {
    "duration": 18,
    "start_time": "2021-09-22T04:33:43.963Z"
   },
   {
    "duration": 192,
    "start_time": "2021-09-22T04:33:43.983Z"
   },
   {
    "duration": 46,
    "start_time": "2021-09-22T04:33:44.177Z"
   },
   {
    "duration": 197,
    "start_time": "2021-09-22T04:33:44.225Z"
   },
   {
    "duration": 5542,
    "start_time": "2021-09-22T04:33:44.424Z"
   },
   {
    "duration": 196,
    "start_time": "2021-09-22T04:33:49.968Z"
   },
   {
    "duration": 53,
    "start_time": "2021-09-22T04:33:50.166Z"
   },
   {
    "duration": 129,
    "start_time": "2021-09-22T04:33:50.220Z"
   },
   {
    "duration": 10365,
    "start_time": "2021-09-22T04:33:50.351Z"
   },
   {
    "duration": 154,
    "start_time": "2021-09-22T04:34:00.718Z"
   },
   {
    "duration": 335,
    "start_time": "2021-09-22T04:34:00.874Z"
   },
   {
    "duration": 196,
    "start_time": "2021-09-22T04:34:01.212Z"
   },
   {
    "duration": 288,
    "start_time": "2021-09-22T04:34:01.409Z"
   },
   {
    "duration": 1493,
    "start_time": "2021-09-22T04:34:01.698Z"
   },
   {
    "duration": 2799,
    "start_time": "2021-09-22T04:34:03.193Z"
   },
   {
    "duration": 62,
    "start_time": "2021-09-22T04:34:05.995Z"
   },
   {
    "duration": 55,
    "start_time": "2021-09-22T04:34:06.059Z"
   },
   {
    "duration": 5,
    "start_time": "2021-09-22T04:34:06.116Z"
   },
   {
    "duration": 68,
    "start_time": "2021-09-22T04:34:06.148Z"
   },
   {
    "duration": 71,
    "start_time": "2021-09-22T04:34:06.219Z"
   },
   {
    "duration": 63,
    "start_time": "2021-09-22T04:34:06.293Z"
   },
   {
    "duration": 2,
    "start_time": "2021-09-22T04:34:06.358Z"
   },
   {
    "duration": 99678,
    "start_time": "2021-09-22T04:34:06.362Z"
   },
   {
    "duration": 12,
    "start_time": "2021-09-22T04:35:46.042Z"
   },
   {
    "duration": 8,
    "start_time": "2021-09-22T04:35:46.056Z"
   },
   {
    "duration": 2,
    "start_time": "2021-09-22T04:35:46.066Z"
   },
   {
    "duration": 19544,
    "start_time": "2021-09-22T04:35:46.069Z"
   },
   {
    "duration": 5,
    "start_time": "2021-09-22T04:36:05.615Z"
   },
   {
    "duration": 30,
    "start_time": "2021-09-22T04:36:05.621Z"
   },
   {
    "duration": 1595,
    "start_time": "2021-09-22T04:36:05.653Z"
   },
   {
    "duration": 8,
    "start_time": "2021-09-22T04:36:07.250Z"
   },
   {
    "duration": 34072,
    "start_time": "2021-09-22T04:36:07.259Z"
   },
   {
    "duration": 4,
    "start_time": "2022-01-23T05:42:47.381Z"
   },
   {
    "duration": 1474,
    "start_time": "2022-01-23T05:42:47.415Z"
   },
   {
    "duration": 228,
    "start_time": "2022-01-23T05:42:48.892Z"
   },
   {
    "duration": 35,
    "start_time": "2022-01-23T05:42:49.123Z"
   },
   {
    "duration": 10,
    "start_time": "2022-01-23T05:42:49.160Z"
   },
   {
    "duration": 6,
    "start_time": "2022-01-23T05:42:49.172Z"
   },
   {
    "duration": 21,
    "start_time": "2022-01-23T05:42:49.180Z"
   },
   {
    "duration": 452,
    "start_time": "2022-01-23T05:42:49.203Z"
   },
   {
    "duration": -186,
    "start_time": "2022-01-23T05:42:49.844Z"
   },
   {
    "duration": -196,
    "start_time": "2022-01-23T05:42:49.855Z"
   },
   {
    "duration": -202,
    "start_time": "2022-01-23T05:42:49.863Z"
   },
   {
    "duration": -211,
    "start_time": "2022-01-23T05:42:49.873Z"
   },
   {
    "duration": -218,
    "start_time": "2022-01-23T05:42:49.881Z"
   },
   {
    "duration": -227,
    "start_time": "2022-01-23T05:42:49.891Z"
   },
   {
    "duration": -233,
    "start_time": "2022-01-23T05:42:49.899Z"
   },
   {
    "duration": -247,
    "start_time": "2022-01-23T05:42:49.914Z"
   },
   {
    "duration": -256,
    "start_time": "2022-01-23T05:42:49.924Z"
   },
   {
    "duration": -263,
    "start_time": "2022-01-23T05:42:49.933Z"
   },
   {
    "duration": -270,
    "start_time": "2022-01-23T05:42:49.941Z"
   },
   {
    "duration": -278,
    "start_time": "2022-01-23T05:42:49.950Z"
   },
   {
    "duration": -285,
    "start_time": "2022-01-23T05:42:49.958Z"
   },
   {
    "duration": -292,
    "start_time": "2022-01-23T05:42:49.967Z"
   },
   {
    "duration": -299,
    "start_time": "2022-01-23T05:42:49.975Z"
   },
   {
    "duration": -306,
    "start_time": "2022-01-23T05:42:49.984Z"
   },
   {
    "duration": -313,
    "start_time": "2022-01-23T05:42:49.992Z"
   },
   {
    "duration": -320,
    "start_time": "2022-01-23T05:42:50.000Z"
   },
   {
    "duration": 3,
    "start_time": "2022-01-23T05:44:36.931Z"
   },
   {
    "duration": 31,
    "start_time": "2022-01-23T05:44:36.939Z"
   },
   {
    "duration": 253,
    "start_time": "2022-01-23T05:44:36.973Z"
   },
   {
    "duration": 67,
    "start_time": "2022-01-23T05:44:37.229Z"
   },
   {
    "duration": 72,
    "start_time": "2022-01-23T05:44:37.299Z"
   },
   {
    "duration": 6,
    "start_time": "2022-01-23T05:44:37.373Z"
   },
   {
    "duration": 19,
    "start_time": "2022-01-23T05:44:37.381Z"
   },
   {
    "duration": 335,
    "start_time": "2022-01-23T05:44:37.403Z"
   },
   {
    "duration": -242,
    "start_time": "2022-01-23T05:44:37.984Z"
   },
   {
    "duration": -248,
    "start_time": "2022-01-23T05:44:37.992Z"
   },
   {
    "duration": -257,
    "start_time": "2022-01-23T05:44:38.002Z"
   },
   {
    "duration": -263,
    "start_time": "2022-01-23T05:44:38.010Z"
   },
   {
    "duration": -274,
    "start_time": "2022-01-23T05:44:38.022Z"
   },
   {
    "duration": -282,
    "start_time": "2022-01-23T05:44:38.032Z"
   },
   {
    "duration": -295,
    "start_time": "2022-01-23T05:44:38.046Z"
   },
   {
    "duration": -303,
    "start_time": "2022-01-23T05:44:38.055Z"
   },
   {
    "duration": -295,
    "start_time": "2022-01-23T05:44:38.064Z"
   },
   {
    "duration": -316,
    "start_time": "2022-01-23T05:44:38.087Z"
   },
   {
    "duration": -326,
    "start_time": "2022-01-23T05:44:38.099Z"
   },
   {
    "duration": -336,
    "start_time": "2022-01-23T05:44:38.110Z"
   },
   {
    "duration": -344,
    "start_time": "2022-01-23T05:44:38.119Z"
   },
   {
    "duration": -352,
    "start_time": "2022-01-23T05:44:38.129Z"
   },
   {
    "duration": -362,
    "start_time": "2022-01-23T05:44:38.140Z"
   },
   {
    "duration": -370,
    "start_time": "2022-01-23T05:44:38.149Z"
   },
   {
    "duration": -378,
    "start_time": "2022-01-23T05:44:38.159Z"
   },
   {
    "duration": -386,
    "start_time": "2022-01-23T05:44:38.168Z"
   },
   {
    "duration": 8638,
    "start_time": "2022-01-23T05:45:13.521Z"
   },
   {
    "duration": 7,
    "start_time": "2022-01-23T05:45:22.162Z"
   },
   {
    "duration": 204,
    "start_time": "2022-01-23T05:45:22.173Z"
   },
   {
    "duration": 33,
    "start_time": "2022-01-23T05:45:22.379Z"
   },
   {
    "duration": 11,
    "start_time": "2022-01-23T05:45:22.415Z"
   },
   {
    "duration": 41,
    "start_time": "2022-01-23T05:45:22.428Z"
   },
   {
    "duration": 20,
    "start_time": "2022-01-23T05:45:22.471Z"
   },
   {
    "duration": 290,
    "start_time": "2022-01-23T05:45:22.494Z"
   },
   {
    "duration": -2812,
    "start_time": "2022-01-23T05:45:25.599Z"
   },
   {
    "duration": -2877,
    "start_time": "2022-01-23T05:45:25.666Z"
   },
   {
    "duration": -2885,
    "start_time": "2022-01-23T05:45:25.675Z"
   },
   {
    "duration": -2891,
    "start_time": "2022-01-23T05:45:25.683Z"
   },
   {
    "duration": -2898,
    "start_time": "2022-01-23T05:45:25.691Z"
   },
   {
    "duration": -2905,
    "start_time": "2022-01-23T05:45:25.699Z"
   },
   {
    "duration": -2911,
    "start_time": "2022-01-23T05:45:25.707Z"
   },
   {
    "duration": -2918,
    "start_time": "2022-01-23T05:45:25.715Z"
   },
   {
    "duration": -2927,
    "start_time": "2022-01-23T05:45:25.725Z"
   },
   {
    "duration": -2932,
    "start_time": "2022-01-23T05:45:25.732Z"
   },
   {
    "duration": -2940,
    "start_time": "2022-01-23T05:45:25.741Z"
   },
   {
    "duration": -2947,
    "start_time": "2022-01-23T05:45:25.749Z"
   },
   {
    "duration": -2954,
    "start_time": "2022-01-23T05:45:25.758Z"
   },
   {
    "duration": -2960,
    "start_time": "2022-01-23T05:45:25.765Z"
   },
   {
    "duration": -2968,
    "start_time": "2022-01-23T05:45:25.774Z"
   },
   {
    "duration": -2974,
    "start_time": "2022-01-23T05:45:25.782Z"
   },
   {
    "duration": -2981,
    "start_time": "2022-01-23T05:45:25.790Z"
   },
   {
    "duration": -2989,
    "start_time": "2022-01-23T05:45:25.799Z"
   },
   {
    "duration": 278,
    "start_time": "2022-01-23T05:46:03.571Z"
   },
   {
    "duration": 262,
    "start_time": "2022-01-23T05:46:13.821Z"
   },
   {
    "duration": 6425,
    "start_time": "2022-01-23T05:47:11.087Z"
   },
   {
    "duration": 290,
    "start_time": "2022-01-23T05:47:47.172Z"
   },
   {
    "duration": 583,
    "start_time": "2022-01-23T05:48:06.155Z"
   },
   {
    "duration": 277,
    "start_time": "2022-01-23T05:48:26.121Z"
   },
   {
    "duration": 6316,
    "start_time": "2022-01-23T05:49:00.567Z"
   },
   {
    "duration": 1505,
    "start_time": "2022-01-23T05:49:06.886Z"
   },
   {
    "duration": 187,
    "start_time": "2022-01-23T05:49:08.394Z"
   },
   {
    "duration": 34,
    "start_time": "2022-01-23T05:49:08.584Z"
   },
   {
    "duration": 9,
    "start_time": "2022-01-23T05:49:08.621Z"
   },
   {
    "duration": 37,
    "start_time": "2022-01-23T05:49:08.632Z"
   },
   {
    "duration": 19,
    "start_time": "2022-01-23T05:49:08.672Z"
   },
   {
    "duration": 432,
    "start_time": "2022-01-23T05:49:08.694Z"
   },
   {
    "duration": 3,
    "start_time": "2022-01-23T05:49:26.198Z"
   },
   {
    "duration": 7,
    "start_time": "2022-01-23T05:49:26.203Z"
   },
   {
    "duration": 192,
    "start_time": "2022-01-23T05:49:26.213Z"
   },
   {
    "duration": 31,
    "start_time": "2022-01-23T05:49:26.407Z"
   },
   {
    "duration": 10,
    "start_time": "2022-01-23T05:49:26.440Z"
   },
   {
    "duration": 19,
    "start_time": "2022-01-23T05:49:26.453Z"
   },
   {
    "duration": 20,
    "start_time": "2022-01-23T05:49:26.474Z"
   },
   {
    "duration": 427,
    "start_time": "2022-01-23T05:49:26.497Z"
   },
   {
    "duration": 23,
    "start_time": "2022-01-23T05:49:26.928Z"
   },
   {
    "duration": 67,
    "start_time": "2022-01-23T05:49:26.969Z"
   },
   {
    "duration": 392,
    "start_time": "2022-01-23T05:49:27.039Z"
   },
   {
    "duration": 6,
    "start_time": "2022-01-23T05:49:27.434Z"
   },
   {
    "duration": 50,
    "start_time": "2022-01-23T05:49:27.442Z"
   },
   {
    "duration": 17,
    "start_time": "2022-01-23T05:49:27.495Z"
   },
   {
    "duration": 116,
    "start_time": "2022-01-23T05:49:27.515Z"
   },
   {
    "duration": 125,
    "start_time": "2022-01-23T05:49:27.633Z"
   },
   {
    "duration": 15,
    "start_time": "2022-01-23T05:49:27.760Z"
   },
   {
    "duration": 9,
    "start_time": "2022-01-23T05:49:27.778Z"
   },
   {
    "duration": 8,
    "start_time": "2022-01-23T05:49:27.789Z"
   },
   {
    "duration": 10,
    "start_time": "2022-01-23T05:49:27.799Z"
   },
   {
    "duration": 7,
    "start_time": "2022-01-23T05:49:27.811Z"
   },
   {
    "duration": 835,
    "start_time": "2022-01-23T05:49:27.820Z"
   },
   {
    "duration": 40,
    "start_time": "2022-01-23T05:49:28.658Z"
   },
   {
    "duration": 37,
    "start_time": "2022-01-23T05:49:28.701Z"
   },
   {
    "duration": 38,
    "start_time": "2022-01-23T05:49:28.741Z"
   },
   {
    "duration": 24,
    "start_time": "2022-01-23T05:49:28.781Z"
   },
   {
    "duration": 24,
    "start_time": "2022-01-23T05:50:23.846Z"
   },
   {
    "duration": 27,
    "start_time": "2022-01-23T05:50:44.326Z"
   },
   {
    "duration": 441,
    "start_time": "2022-01-23T05:50:57.077Z"
   },
   {
    "duration": 29,
    "start_time": "2022-01-23T05:52:19.797Z"
   },
   {
    "duration": 28,
    "start_time": "2022-01-23T05:52:31.010Z"
   },
   {
    "duration": 3,
    "start_time": "2022-01-23T05:53:18.238Z"
   },
   {
    "duration": 7,
    "start_time": "2022-01-23T05:53:18.247Z"
   },
   {
    "duration": 199,
    "start_time": "2022-01-23T05:53:18.278Z"
   },
   {
    "duration": 28,
    "start_time": "2022-01-23T05:53:18.480Z"
   },
   {
    "duration": 9,
    "start_time": "2022-01-23T05:53:18.511Z"
   },
   {
    "duration": 6,
    "start_time": "2022-01-23T05:53:18.523Z"
   },
   {
    "duration": 54,
    "start_time": "2022-01-23T05:53:18.531Z"
   },
   {
    "duration": 412,
    "start_time": "2022-01-23T05:53:18.587Z"
   },
   {
    "duration": 22,
    "start_time": "2022-01-23T05:53:19.002Z"
   },
   {
    "duration": 93,
    "start_time": "2022-01-23T05:53:19.027Z"
   },
   {
    "duration": 386,
    "start_time": "2022-01-23T05:53:19.123Z"
   },
   {
    "duration": 6,
    "start_time": "2022-01-23T05:53:19.511Z"
   },
   {
    "duration": 50,
    "start_time": "2022-01-23T05:53:19.519Z"
   },
   {
    "duration": 19,
    "start_time": "2022-01-23T05:53:19.572Z"
   },
   {
    "duration": 23,
    "start_time": "2022-01-23T05:53:19.593Z"
   },
   {
    "duration": 141,
    "start_time": "2022-01-23T05:53:19.618Z"
   },
   {
    "duration": 11,
    "start_time": "2022-01-23T05:53:19.769Z"
   },
   {
    "duration": 8,
    "start_time": "2022-01-23T05:53:19.782Z"
   },
   {
    "duration": 7,
    "start_time": "2022-01-23T05:53:19.793Z"
   },
   {
    "duration": 16,
    "start_time": "2022-01-23T05:53:19.802Z"
   },
   {
    "duration": 9,
    "start_time": "2022-01-23T05:53:19.821Z"
   },
   {
    "duration": 826,
    "start_time": "2022-01-23T05:53:19.832Z"
   },
   {
    "duration": 40,
    "start_time": "2022-01-23T05:53:20.661Z"
   },
   {
    "duration": 37,
    "start_time": "2022-01-23T05:53:20.704Z"
   },
   {
    "duration": 40,
    "start_time": "2022-01-23T05:53:20.745Z"
   },
   {
    "duration": 36,
    "start_time": "2022-01-23T05:53:20.788Z"
   },
   {
    "duration": 75,
    "start_time": "2022-01-23T05:53:20.826Z"
   },
   {
    "duration": 43,
    "start_time": "2022-01-23T05:53:24.909Z"
   },
   {
    "duration": 11,
    "start_time": "2022-01-23T05:53:26.932Z"
   },
   {
    "duration": 35,
    "start_time": "2022-01-23T05:53:34.481Z"
   },
   {
    "duration": 361,
    "start_time": "2022-01-23T05:53:47.201Z"
   },
   {
    "duration": 44,
    "start_time": "2022-01-23T05:53:51.861Z"
   },
   {
    "duration": 79,
    "start_time": "2022-01-23T05:53:57.693Z"
   },
   {
    "duration": 388,
    "start_time": "2022-01-23T05:54:02.057Z"
   },
   {
    "duration": 107,
    "start_time": "2022-01-23T05:54:06.088Z"
   },
   {
    "duration": 203,
    "start_time": "2022-01-23T05:54:08.325Z"
   },
   {
    "duration": 58,
    "start_time": "2022-01-23T05:54:11.914Z"
   },
   {
    "duration": 42,
    "start_time": "2022-01-23T05:54:15.856Z"
   },
   {
    "duration": 101,
    "start_time": "2022-01-23T05:54:18.355Z"
   },
   {
    "duration": 4,
    "start_time": "2022-01-23T06:26:01.858Z"
   },
   {
    "duration": 9,
    "start_time": "2022-01-23T06:26:01.873Z"
   },
   {
    "duration": 261,
    "start_time": "2022-01-23T06:26:01.885Z"
   },
   {
    "duration": 31,
    "start_time": "2022-01-23T06:26:02.149Z"
   },
   {
    "duration": 11,
    "start_time": "2022-01-23T06:26:02.183Z"
   },
   {
    "duration": 6,
    "start_time": "2022-01-23T06:26:02.197Z"
   },
   {
    "duration": 21,
    "start_time": "2022-01-23T06:26:02.205Z"
   },
   {
    "duration": 435,
    "start_time": "2022-01-23T06:26:02.228Z"
   },
   {
    "duration": 23,
    "start_time": "2022-01-23T06:26:02.670Z"
   },
   {
    "duration": 180,
    "start_time": "2022-01-23T06:26:02.696Z"
   },
   {
    "duration": 392,
    "start_time": "2022-01-23T06:26:02.879Z"
   },
   {
    "duration": 8,
    "start_time": "2022-01-23T06:26:03.274Z"
   },
   {
    "duration": 32,
    "start_time": "2022-01-23T06:26:03.285Z"
   },
   {
    "duration": 51,
    "start_time": "2022-01-23T06:26:03.320Z"
   },
   {
    "duration": 23,
    "start_time": "2022-01-23T06:26:03.374Z"
   },
   {
    "duration": 149,
    "start_time": "2022-01-23T06:26:03.399Z"
   },
   {
    "duration": 23,
    "start_time": "2022-01-23T06:26:03.550Z"
   },
   {
    "duration": 11,
    "start_time": "2022-01-23T06:26:03.576Z"
   },
   {
    "duration": 6,
    "start_time": "2022-01-23T06:26:03.589Z"
   },
   {
    "duration": 12,
    "start_time": "2022-01-23T06:26:03.597Z"
   },
   {
    "duration": 9,
    "start_time": "2022-01-23T06:26:03.611Z"
   },
   {
    "duration": 873,
    "start_time": "2022-01-23T06:26:03.623Z"
   },
   {
    "duration": 34,
    "start_time": "2022-01-23T06:26:04.498Z"
   },
   {
    "duration": 63,
    "start_time": "2022-01-23T06:26:04.537Z"
   },
   {
    "duration": 21,
    "start_time": "2022-01-23T06:26:04.602Z"
   },
   {
    "duration": 48,
    "start_time": "2022-01-23T06:26:04.625Z"
   },
   {
    "duration": 45,
    "start_time": "2022-01-23T06:26:04.676Z"
   },
   {
    "duration": 10,
    "start_time": "2022-01-23T06:26:04.723Z"
   },
   {
    "duration": 61,
    "start_time": "2022-01-23T06:26:04.735Z"
   },
   {
    "duration": 416,
    "start_time": "2022-01-23T06:26:04.873Z"
   },
   {
    "duration": 42,
    "start_time": "2022-01-23T06:26:05.292Z"
   },
   {
    "duration": 254,
    "start_time": "2022-01-23T06:26:05.337Z"
   },
   {
    "duration": 120,
    "start_time": "2022-01-23T06:26:05.594Z"
   },
   {
    "duration": 267,
    "start_time": "2022-01-23T06:26:05.716Z"
   },
   {
    "duration": 182,
    "start_time": "2022-01-23T06:26:05.987Z"
   },
   {
    "duration": 44,
    "start_time": "2022-01-23T06:26:06.172Z"
   },
   {
    "duration": 130,
    "start_time": "2022-01-23T06:26:06.218Z"
   },
   {
    "duration": 296,
    "start_time": "2022-01-23T06:26:06.350Z"
   },
   {
    "duration": 1692,
    "start_time": "2022-01-23T06:26:19.486Z"
   },
   {
    "duration": 1660,
    "start_time": "2022-01-23T06:27:30.921Z"
   },
   {
    "duration": 1773,
    "start_time": "2022-01-23T06:36:50.822Z"
   },
   {
    "duration": 285666,
    "start_time": "2022-01-23T06:39:55.366Z"
   },
   {
    "duration": 3,
    "start_time": "2022-01-23T06:46:50.251Z"
   },
   {
    "duration": 6,
    "start_time": "2022-01-23T06:46:50.360Z"
   },
   {
    "duration": 238,
    "start_time": "2022-01-23T06:46:50.370Z"
   },
   {
    "duration": 30,
    "start_time": "2022-01-23T06:46:50.611Z"
   },
   {
    "duration": 9,
    "start_time": "2022-01-23T06:46:50.644Z"
   },
   {
    "duration": 7,
    "start_time": "2022-01-23T06:46:50.668Z"
   },
   {
    "duration": 24,
    "start_time": "2022-01-23T06:46:50.678Z"
   },
   {
    "duration": 468,
    "start_time": "2022-01-23T06:46:50.704Z"
   },
   {
    "duration": 22,
    "start_time": "2022-01-23T06:46:51.174Z"
   },
   {
    "duration": 100,
    "start_time": "2022-01-23T06:46:51.200Z"
   },
   {
    "duration": 392,
    "start_time": "2022-01-23T06:46:51.303Z"
   },
   {
    "duration": 8,
    "start_time": "2022-01-23T06:46:51.698Z"
   },
   {
    "duration": 63,
    "start_time": "2022-01-23T06:46:51.709Z"
   },
   {
    "duration": 21,
    "start_time": "2022-01-23T06:46:51.775Z"
   },
   {
    "duration": 24,
    "start_time": "2022-01-23T06:46:51.799Z"
   },
   {
    "duration": 146,
    "start_time": "2022-01-23T06:46:51.826Z"
   },
   {
    "duration": 11,
    "start_time": "2022-01-23T06:46:51.974Z"
   },
   {
    "duration": 10,
    "start_time": "2022-01-23T06:46:51.988Z"
   },
   {
    "duration": 7,
    "start_time": "2022-01-23T06:46:52.000Z"
   },
   {
    "duration": 12,
    "start_time": "2022-01-23T06:46:52.010Z"
   },
   {
    "duration": 47,
    "start_time": "2022-01-23T06:46:52.025Z"
   },
   {
    "duration": 811,
    "start_time": "2022-01-23T06:46:52.074Z"
   },
   {
    "duration": 35,
    "start_time": "2022-01-23T06:46:52.887Z"
   },
   {
    "duration": 64,
    "start_time": "2022-01-23T06:46:52.925Z"
   },
   {
    "duration": 20,
    "start_time": "2022-01-23T06:46:52.992Z"
   },
   {
    "duration": 34,
    "start_time": "2022-01-23T06:46:53.015Z"
   },
   {
    "duration": 57,
    "start_time": "2022-01-23T06:46:53.051Z"
   },
   {
    "duration": 10,
    "start_time": "2022-01-23T06:46:53.113Z"
   },
   {
    "duration": 143,
    "start_time": "2022-01-23T06:46:53.126Z"
   },
   {
    "duration": 498,
    "start_time": "2022-01-23T06:46:53.272Z"
   },
   {
    "duration": 43,
    "start_time": "2022-01-23T06:46:53.772Z"
   },
   {
    "duration": 251,
    "start_time": "2022-01-23T06:46:53.818Z"
   },
   {
    "duration": 113,
    "start_time": "2022-01-23T06:46:54.072Z"
   },
   {
    "duration": 321,
    "start_time": "2022-01-23T06:46:54.187Z"
   },
   {
    "duration": 67,
    "start_time": "2022-01-23T06:46:54.510Z"
   },
   {
    "duration": 106,
    "start_time": "2022-01-23T06:46:54.671Z"
   },
   {
    "duration": 114,
    "start_time": "2022-01-23T06:46:54.779Z"
   },
   {
    "duration": 1780,
    "start_time": "2022-01-23T06:46:54.896Z"
   },
   {
    "duration": 285604,
    "start_time": "2022-01-23T06:46:56.679Z"
   },
   {
    "duration": 5,
    "start_time": "2022-01-23T06:51:42.285Z"
   },
   {
    "duration": 78,
    "start_time": "2022-01-23T06:51:42.292Z"
   },
   {
    "duration": 527,
    "start_time": "2022-01-23T06:51:42.374Z"
   },
   {
    "duration": 49,
    "start_time": "2022-01-23T06:51:42.903Z"
   },
   {
    "duration": 244,
    "start_time": "2022-01-23T06:51:42.970Z"
   },
   {
    "duration": 132,
    "start_time": "2022-01-23T06:51:43.217Z"
   },
   {
    "duration": 254,
    "start_time": "2022-01-23T06:51:43.351Z"
   },
   {
    "duration": 79561,
    "start_time": "2022-01-23T06:51:43.608Z"
   },
   {
    "duration": 7,
    "start_time": "2022-01-23T07:00:05.222Z"
   },
   {
    "duration": 34,
    "start_time": "2022-01-23T07:00:06.664Z"
   },
   {
    "duration": 361,
    "start_time": "2022-01-23T07:00:07.619Z"
   },
   {
    "duration": 21,
    "start_time": "2022-01-23T07:00:08.924Z"
   },
   {
    "duration": 207,
    "start_time": "2022-01-23T07:00:10.145Z"
   },
   {
    "duration": 48,
    "start_time": "2022-01-23T07:00:11.489Z"
   },
   {
    "duration": 219,
    "start_time": "2022-01-23T07:00:12.523Z"
   },
   {
    "duration": 37208,
    "start_time": "2022-01-23T07:00:16.121Z"
   },
   {
    "duration": 68359,
    "start_time": "2022-01-23T07:43:14.768Z"
   },
   {
    "duration": 104,
    "start_time": "2022-01-23T07:44:23.129Z"
   },
   {
    "duration": 3,
    "start_time": "2022-01-23T07:44:23.235Z"
   },
   {
    "duration": 3,
    "start_time": "2022-01-23T07:50:06.984Z"
   },
   {
    "duration": 175,
    "start_time": "2022-01-23T07:50:57.036Z"
   },
   {
    "duration": 4,
    "start_time": "2022-01-23T08:01:04.800Z"
   },
   {
    "duration": 139,
    "start_time": "2022-01-23T08:02:24.092Z"
   },
   {
    "duration": 106,
    "start_time": "2022-01-23T08:02:41.069Z"
   },
   {
    "duration": 72,
    "start_time": "2022-01-23T08:03:09.218Z"
   },
   {
    "duration": 385,
    "start_time": "2022-01-23T08:07:51.285Z"
   },
   {
    "duration": 173,
    "start_time": "2022-01-23T08:08:04.133Z"
   },
   {
    "duration": 4,
    "start_time": "2022-01-23T10:01:04.192Z"
   },
   {
    "duration": 6741,
    "start_time": "2022-01-23T10:02:39.326Z"
   },
   {
    "duration": 118,
    "start_time": "2022-01-23T10:03:40.924Z"
   },
   {
    "duration": 9,
    "start_time": "2022-01-23T10:03:43.823Z"
   },
   {
    "duration": 8,
    "start_time": "2022-01-23T10:03:51.873Z"
   },
   {
    "duration": 4,
    "start_time": "2022-01-23T10:06:42.448Z"
   },
   {
    "duration": 7,
    "start_time": "2022-01-23T10:06:42.458Z"
   },
   {
    "duration": 209,
    "start_time": "2022-01-23T10:06:42.467Z"
   },
   {
    "duration": 29,
    "start_time": "2022-01-23T10:06:42.679Z"
   },
   {
    "duration": 9,
    "start_time": "2022-01-23T10:06:42.711Z"
   },
   {
    "duration": 46,
    "start_time": "2022-01-23T10:06:42.723Z"
   },
   {
    "duration": 18,
    "start_time": "2022-01-23T10:06:42.772Z"
   },
   {
    "duration": 441,
    "start_time": "2022-01-23T10:06:42.793Z"
   },
   {
    "duration": 36,
    "start_time": "2022-01-23T10:06:43.238Z"
   },
   {
    "duration": 71,
    "start_time": "2022-01-23T10:06:43.277Z"
   },
   {
    "duration": 486,
    "start_time": "2022-01-23T10:06:43.370Z"
   },
   {
    "duration": 15,
    "start_time": "2022-01-23T10:06:43.859Z"
   },
   {
    "duration": 32,
    "start_time": "2022-01-23T10:06:43.876Z"
   },
   {
    "duration": 19,
    "start_time": "2022-01-23T10:06:43.910Z"
   },
   {
    "duration": 53,
    "start_time": "2022-01-23T10:06:43.932Z"
   },
   {
    "duration": 126,
    "start_time": "2022-01-23T10:06:43.988Z"
   },
   {
    "duration": 12,
    "start_time": "2022-01-23T10:06:44.117Z"
   },
   {
    "duration": 11,
    "start_time": "2022-01-23T10:06:44.131Z"
   },
   {
    "duration": 29,
    "start_time": "2022-01-23T10:06:44.145Z"
   },
   {
    "duration": 9,
    "start_time": "2022-01-23T10:06:44.176Z"
   },
   {
    "duration": 9,
    "start_time": "2022-01-23T10:06:44.187Z"
   },
   {
    "duration": 882,
    "start_time": "2022-01-23T10:06:44.198Z"
   },
   {
    "duration": 35,
    "start_time": "2022-01-23T10:06:45.082Z"
   },
   {
    "duration": 63,
    "start_time": "2022-01-23T10:06:45.123Z"
   },
   {
    "duration": 19,
    "start_time": "2022-01-23T10:06:45.190Z"
   },
   {
    "duration": 31,
    "start_time": "2022-01-23T10:06:45.211Z"
   },
   {
    "duration": 65,
    "start_time": "2022-01-23T10:06:45.244Z"
   },
   {
    "duration": 10,
    "start_time": "2022-01-23T10:06:45.312Z"
   },
   {
    "duration": 147,
    "start_time": "2022-01-23T10:06:45.325Z"
   },
   {
    "duration": 483,
    "start_time": "2022-01-23T10:06:45.475Z"
   },
   {
    "duration": 47,
    "start_time": "2022-01-23T10:06:45.960Z"
   },
   {
    "duration": 467,
    "start_time": "2022-01-23T10:06:46.010Z"
   },
   {
    "duration": 215,
    "start_time": "2022-01-23T10:06:46.480Z"
   },
   {
    "duration": 259,
    "start_time": "2022-01-23T10:06:46.697Z"
   },
   {
    "duration": 113,
    "start_time": "2022-01-23T10:06:46.959Z"
   },
   {
    "duration": 134,
    "start_time": "2022-01-23T10:06:47.075Z"
   },
   {
    "duration": 127,
    "start_time": "2022-01-23T10:06:47.212Z"
   },
   {
    "duration": 1792,
    "start_time": "2022-01-23T10:06:47.341Z"
   },
   {
    "duration": 291158,
    "start_time": "2022-01-23T10:06:49.136Z"
   },
   {
    "duration": 6,
    "start_time": "2022-01-23T10:11:40.296Z"
   },
   {
    "duration": 70,
    "start_time": "2022-01-23T10:11:40.304Z"
   },
   {
    "duration": 521,
    "start_time": "2022-01-23T10:11:40.377Z"
   },
   {
    "duration": 48,
    "start_time": "2022-01-23T10:11:40.901Z"
   },
   {
    "duration": 224,
    "start_time": "2022-01-23T10:11:40.952Z"
   },
   {
    "duration": 152,
    "start_time": "2022-01-23T10:11:41.179Z"
   },
   {
    "duration": 243,
    "start_time": "2022-01-23T10:11:41.333Z"
   },
   {
    "duration": 79964,
    "start_time": "2022-01-23T10:11:41.579Z"
   },
   {
    "duration": 6,
    "start_time": "2022-01-23T10:13:01.545Z"
   },
   {
    "duration": 100,
    "start_time": "2022-01-23T10:13:01.570Z"
   },
   {
    "duration": 497,
    "start_time": "2022-01-23T10:13:01.678Z"
   },
   {
    "duration": 19,
    "start_time": "2022-01-23T10:13:02.178Z"
   },
   {
    "duration": 233,
    "start_time": "2022-01-23T10:13:02.199Z"
   },
   {
    "duration": 65,
    "start_time": "2022-01-23T10:13:02.434Z"
   },
   {
    "duration": 224,
    "start_time": "2022-01-23T10:13:02.502Z"
   },
   {
    "duration": 37340,
    "start_time": "2022-01-23T10:13:02.729Z"
   },
   {
    "duration": 226,
    "start_time": "2022-01-23T10:13:40.071Z"
   },
   {
    "duration": 105,
    "start_time": "2022-01-23T10:13:40.300Z"
   },
   {
    "duration": 182,
    "start_time": "2022-01-23T10:13:40.407Z"
   },
   {
    "duration": 69069,
    "start_time": "2022-01-23T10:13:40.591Z"
   },
   {
    "duration": 108,
    "start_time": "2022-01-23T10:14:49.663Z"
   },
   {
    "duration": 3,
    "start_time": "2022-01-23T10:14:49.773Z"
   },
   {
    "duration": 193,
    "start_time": "2022-01-23T10:14:49.779Z"
   },
   {
    "duration": 462,
    "start_time": "2022-01-23T10:14:49.974Z"
   },
   {
    "duration": 316,
    "start_time": "2022-01-23T10:14:50.439Z"
   },
   {
    "duration": 400,
    "start_time": "2022-01-23T10:14:50.757Z"
   },
   {
    "duration": 11,
    "start_time": "2022-01-23T10:14:51.159Z"
   },
   {
    "duration": 114,
    "start_time": "2022-01-23T10:14:51.172Z"
   },
   {
    "duration": 8,
    "start_time": "2022-01-23T10:14:51.288Z"
   },
   {
    "duration": 87,
    "start_time": "2022-01-23T10:14:51.304Z"
   },
   {
    "duration": 51,
    "start_time": "2022-01-23T10:14:51.394Z"
   },
   {
    "duration": 21,
    "start_time": "2022-01-23T10:14:51.448Z"
   },
   {
    "duration": 183,
    "start_time": "2022-01-23T10:14:51.472Z"
   },
   {
    "duration": 19,
    "start_time": "2022-01-23T10:14:51.657Z"
   }
  ],
  "kernelspec": {
   "display_name": "Python 3",
   "language": "python",
   "name": "python3"
  },
  "language_info": {
   "codemirror_mode": {
    "name": "ipython",
    "version": 3
   },
   "file_extension": ".py",
   "mimetype": "text/x-python",
   "name": "python",
   "nbconvert_exporter": "python",
   "pygments_lexer": "ipython3",
   "version": "3.8.8"
  },
  "toc": {
   "base_numbering": 1,
   "nav_menu": {
    "height": "461px",
    "width": "574px"
   },
   "number_sections": true,
   "sideBar": true,
   "skip_h1_title": true,
   "title_cell": "Содержание",
   "title_sidebar": "Contents",
   "toc_cell": true,
   "toc_position": {
    "height": "calc(100% - 180px)",
    "left": "10px",
    "top": "150px",
    "width": "265px"
   },
   "toc_section_display": true,
   "toc_window_display": true
  }
 },
 "nbformat": 4,
 "nbformat_minor": 2
}
